{
 "cells": [
  {
   "cell_type": "markdown",
   "metadata": {},
   "source": [
    "## Water Cycles with CWatM\n",
    "\n",
    "CWatM is to be run including the following settings:"
   ]
  },
  {
   "cell_type": "code",
   "execution_count": 1,
   "metadata": {},
   "outputs": [],
   "source": [
    "# User- and simulation specific inputs\n",
    "\n",
    "#output_folder = r'.\\output_rhine_5min' \n",
    "output_folder1 = r'P:\\watmodel\\CWATM\\cwatm_input_1km\\bhima\\Example_Output\\Output_01Jan2000_31Dec2005'\n",
    "output_folder2 = r'P:\\watmodel\\CWATM\\cwatm_input_1km\\bhima\\Example_Output\\Output_01Jan2000_31Dec2005_changed'\n",
    "#output_folder = r'C:\\CWATM\\CWATM_exercise6\\output_ravi'\n",
    "# Location of simulation area discharge point\n",
    "latitude = 17.3875 # Rhine: 51.84 #Ravi: 30.64  #Bhima: 17.3875 #51.84\n",
    "longitude = 75.89583 #Ravi: 71.85 #Bhima 75.89583 #6.11 \n",
    "\n",
    "first_numOfDays = 60\n",
    "last_numOfDays = 180\n",
    "everyNDays = 60\n"
   ]
  },
  {
   "cell_type": "code",
   "execution_count": 2,
   "metadata": {},
   "outputs": [],
   "source": [
    "output_folder = output_folder1"
   ]
  },
  {
   "cell_type": "code",
   "execution_count": null,
   "metadata": {
    "scrolled": false
   },
   "outputs": [
    {
     "data": {
      "text/html": [
       "<style>.container { width:100% !important; }</style>"
      ],
      "text/plain": [
       "<IPython.core.display.HTML object>"
      ]
     },
     "metadata": {},
     "output_type": "display_data"
    },
    {
     "name": "stdout",
     "output_type": "stream",
     "text": [
      "['storGroundwater', 'unmetDemand', 'sum_capRiseFromGW', 'nonFossilGroundwaterAbs', 'Precipitation', 'totalET', 'EvapoChannel', 'EvapWaterBodyM', 'act_nonIrrConsumption', 'channelStorage', 'lakeResStorage', 'totalSto', 'unmet_lost', 'sum_actTransTotal', 'actTransTotal_forest', 'actTransTotal_grasslands', 'actTransTotal_paddy', 'actTransTotal_nonpaddy', 'sum_actBareSoilEvap', 'sum_interceptEvap', 'sum_openWaterEvap', 'addtoevapotrans', 'lakeResInflowM', 'act_bigLakeResAbst', 'lakeResOutflowM', 'sum_gwRecharge', 'baseflow', 'act_totalIrrConsumption', 'sum_runoff', 'returnFlow', 'act_SurfaceWaterAbstract']\n",
      "['storGroundwater', 'Groundwater', 'M', 'Storage']\n"
     ]
    }
   ],
   "source": [
    "run ./_functions_WaterCycles_Shape.ipynb"
   ]
  },
  {
   "cell_type": "code",
   "execution_count": null,
   "metadata": {},
   "outputs": [],
   "source": [
    "TotalFlows1 = TOTALFLOWS\n",
    "SumOfChanges1 = SUMOFCHANGES\n",
    "Outputs1 = OUTPUTS\n",
    "\n",
    "output_folder = output_folder2\n"
   ]
  },
  {
   "cell_type": "code",
   "execution_count": null,
   "metadata": {
    "scrolled": false
   },
   "outputs": [],
   "source": [
    "run ./_functions_WaterCycles_Shape.ipynb"
   ]
  },
  {
   "cell_type": "code",
   "execution_count": null,
   "metadata": {},
   "outputs": [],
   "source": [
    "TotalFlows2 = TOTALFLOWS\n",
    "SumOfChanges2 = SUMOFCHANGES\n",
    "Outputs2 = OUTPUTS"
   ]
  },
  {
   "cell_type": "code",
   "execution_count": null,
   "metadata": {},
   "outputs": [],
   "source": [
    "import numpy as np\n",
    "\n",
    "import plotly.graph_objects as go\n",
    "\n"
   ]
  },
  {
   "cell_type": "code",
   "execution_count": null,
   "metadata": {},
   "outputs": [],
   "source": [
    "Dates_simulation_subset=[]\n",
    "for t in range(0, len(Dates_simulation)-2-numOfDays, everyNDays):\n",
    "    Dates_simulation_subset.append(Dates_simulation[t])\n",
    "\n",
    "TOTALFLOWS1_lines=[]\n",
    "TOTALFLOWS2_lines=[]\n",
    "for num_numOfDays in range(len(TotalFlows1)):\n",
    "\n",
    "    TOTALFLOWS1_lines.append(np.array(TotalFlows1[num_numOfDays][0]))\n",
    "    TOTALFLOWS2_lines.append(np.array(TotalFlows2[num_numOfDays][0]))\n",
    "    \n",
    "SUMOFCHAMGES1_lines=[]\n",
    "SUMOFCHANGES2_lines=[]\n",
    "for num_numOfDays in range(len(SumOfChanges1)):\n",
    "\n",
    "    SUMOFCHAMGES1_lines.append(np.array(SumOfChanges1[num_numOfDays][0]))\n",
    "    SUMOFCHANGES2_lines.append(np.array(SumOfChanges2[num_numOfDays][0]))\n",
    "    \n",
    "OUTPUTS1_lines=[]\n",
    "OUTPUTS2_lines=[]\n",
    "for num_numOfDays in range(len(Outputs1)):\n",
    "\n",
    "    OUTPUTS1_lines.append(np.array(Outputs1[num_numOfDays][0]))\n",
    "    OUTPUTS2_lines.append(np.array(Outputs2[num_numOfDays][0]))  \n",
    "\"\"\"\n",
    "SUMOFCHANGES_lines = go.Figure()\n",
    "for num_numOfDays in range(len(TOTALFLOWS)):\n",
    "    \n",
    "    SUMOFCHANGES_lines.add_trace(go.Scatter(y=SUMOFCHANGES[num_numOfDays][0], x=Dates_simulation_subset, name=SUMOFCHANGES[num_numOfDays][1]))\n",
    "    \n",
    "SUMOFCHANGES_lines.show()\n",
    "\"\"\""
   ]
  },
  {
   "cell_type": "code",
   "execution_count": null,
   "metadata": {},
   "outputs": [],
   "source": [
    "TotalFlowsCompare = np.divide(TOTALFLOWS1_lines, TOTALFLOWS2_lines)\n",
    "SumOfChangesCompare = np.divide(SUMOFCHAMGES1_lines, SUMOFCHANGES2_lines)\n",
    "OutputsCompare = np.divide(OUTPUTS1_lines, OUTPUTS2_lines)"
   ]
  },
  {
   "cell_type": "code",
   "execution_count": null,
   "metadata": {},
   "outputs": [],
   "source": [
    "fig = go.Figure(data=go.Heatmap(\n",
    "                    z=TotalFlowsCompare, colorscale='Blackbody', x=Dates_simulation_subset, y=[TotalFlows1[i][1] for i in range(len(TotalFlows1))]))\n",
    "fig.show()\n",
    "\n",
    "fig = go.Figure(data=go.Heatmap(\n",
    "                    z=SumOfChangesCompare, colorscale='Blackbody', x=Dates_simulation_subset, y=[SumOfChanges1[i][1] for i in range(len(SumOfChanges1))]))\n",
    "fig.show()\n",
    "\n",
    "fig = go.Figure(data=go.Heatmap(\n",
    "                    z=OutputsCompare, colorscale='Blackbody', x=Dates_simulation_subset, y=[Outputs1[i][1] for i in range(len(Outputs1))]))\n",
    "fig.show()"
   ]
  },
  {
   "cell_type": "code",
   "execution_count": null,
   "metadata": {},
   "outputs": [],
   "source": []
  }
 ],
 "metadata": {
  "kernelspec": {
   "display_name": "Python 3",
   "language": "python",
   "name": "python3"
  },
  "language_info": {
   "codemirror_mode": {
    "name": "ipython",
    "version": 3
   },
   "file_extension": ".py",
   "mimetype": "text/x-python",
   "name": "python",
   "nbconvert_exporter": "python",
   "pygments_lexer": "ipython3",
   "version": "3.7.2"
  }
 },
 "nbformat": 4,
 "nbformat_minor": 2
}
