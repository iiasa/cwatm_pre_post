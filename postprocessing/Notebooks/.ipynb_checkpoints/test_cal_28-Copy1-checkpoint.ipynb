{
 "cells": [
  {
   "cell_type": "markdown",
   "id": "stunning-rebound",
   "metadata": {
    "tags": []
   },
   "source": [
    "# Validation of calibration results\n",
    "\n",
    "## import libraries\n"
   ]
  },
  {
   "cell_type": "code",
   "execution_count": 1,
   "id": "educated-italian",
   "metadata": {
    "jupyter": {
     "source_hidden": true
    },
    "tags": []
   },
   "outputs": [
    {
     "data": {
      "text/html": [
       "<style>.container { width:100% !important; }</style>"
      ],
      "text/plain": [
       "<IPython.core.display.HTML object>"
      ]
     },
     "metadata": {},
     "output_type": "display_data"
    }
   ],
   "source": [
    "import os\n",
    "import sys\n",
    "import datetime\n",
    "import time\n",
    "import glob\n",
    "import string\n",
    "\n",
    "import numpy as np\n",
    "import pandas as pd\n",
    "import xarray as xr\n",
    "\n",
    "from configparser import ConfigParser\n",
    "import hydroStats\n",
    "\n",
    "\n",
    "import matplotlib.pyplot as plt\n",
    "import plotly\n",
    "from plotly import graph_objs as go, offline as po, tools\n",
    "from plotly.subplots import make_subplots\n",
    "import plotly.express as px\n",
    "\n",
    "from IPython.display import Image\n",
    "from IPython.core.display import display, HTML\n",
    "display(HTML(\"<style>.container { width:100% !important; }</style>\"))"
   ]
  },
  {
   "cell_type": "markdown",
   "id": "growing-breeding",
   "metadata": {},
   "source": [
    "## reading settings file"
   ]
  },
  {
   "cell_type": "code",
   "execution_count": 22,
   "id": "intimate-research",
   "metadata": {
    "jupyter": {
     "source_hidden": true
    },
    "tags": []
   },
   "outputs": [
    {
     "name": "stdout",
     "output_type": "stream",
     "text": [
      ">> Reading settings file (settings_all_28.txt)...\n"
     ]
    }
   ],
   "source": [
    "iniFile = \"P:/watmodel/CWATM/calibration/multi_UB2/settings_all_28.txt\"\n",
    "\n",
    "(drive, path) = os.path.splitdrive(iniFile)\n",
    "(path, fil) = os.path.split(path)\n",
    "print (\">> Reading settings file (\" + fil + \")...\")\n",
    "\n",
    "parser = ConfigParser()\n",
    "parser.read(iniFile)\n",
    "\n",
    "root = parser.get('DEFAULT', 'Root')\n",
    "\n",
    "ForcingStart = datetime.datetime.strptime(parser.get('DEFAULT', 'ForcingStart'), \"%d/%m/%Y\")  # Start of forcing\n",
    "ForcingEnd = datetime.datetime.strptime(parser.get('DEFAULT', 'ForcingEnd'), \"%d/%m/%Y\")  # Start of forcing\n",
    "\n",
    "WarmupDays = int(parser.get('DEFAULT', 'WarmupDays'))\n",
    "CatchmentDataPath = os.path.join(root, parser.get('Path', 'CatchmentDataPath'))\n",
    "SubCatchmentPath = os.path.join(root, parser.get('Path', 'SubCatchmentPath'))\n",
    "\n",
    "path_temp = os.path.join(root, parser.get('Path', 'Temp'))\n",
    "path_maps = os.path.join(root, os.path.join(parser.get('Path', 'CatchmentDataPath'), \"maps_pcraster\"))\n",
    "path_result = os.path.join(root, parser.get('Path', 'Result'))\n",
    "\n",
    "Qtss_csv = os.path.join(root, parser.get('CSV', 'Qtss'))\n",
    "Qgis_csv = os.path.join(root, parser.get('CSV', 'Qgis'))\n",
    "Qgis_out = os.path.join(root, parser.get('CSV', 'QgisOut'))\n",
    "\n"
   ]
  },
  {
   "cell_type": "markdown",
   "id": "vulnerable-invention",
   "metadata": {},
   "source": [
    "## Select Station"
   ]
  },
  {
   "cell_type": "code",
   "execution_count": 23,
   "id": "promotional-layout",
   "metadata": {
    "jupyter": {
     "source_hidden": true
    },
    "tags": []
   },
   "outputs": [
    {
     "data": {
      "application/vnd.jupyter.widget-view+json": {
       "model_id": "554824b3404646e7880070678221cbc8",
       "version_major": 2,
       "version_minor": 0
      },
      "text/plain": [
       "IntSlider(value=1, continuous_update=False, description='Station No:', max=28, min=1)"
      ]
     },
     "metadata": {},
     "output_type": "display_data"
    }
   ],
   "source": [
    "from ipywidgets import interact, widgets\n",
    "from IPython.display import display\n",
    "\n",
    "w = widgets.IntSlider(value=1,min=1,max=28,step=1,description='Station No:', disabled=False, continuous_update=False, orientation='horizontal', readout=True, readout_format='d')\n",
    "display(w)\n"
   ]
  },
  {
   "cell_type": "markdown",
   "id": "available-measure",
   "metadata": {
    "tags": []
   },
   "source": [
    "### Calculate"
   ]
  },
  {
   "cell_type": "code",
   "execution_count": 131,
   "id": "joint-japanese",
   "metadata": {
    "jupyter": {
     "source_hidden": true
    },
    "tags": []
   },
   "outputs": [
    {
     "name": "stdout",
     "output_type": "stream",
     "text": [
      ">> Reading Qgis2.csv file...\n"
     ]
    }
   ],
   "source": [
    "station_no = int(w.value)\n",
    "loc = station_no - 1\n",
    "\n",
    "print (\">> Reading Qgis2.csv file...\")\n",
    "stationdata = pd.read_csv(os.path.join(Qgis_csv), sep=\",\", index_col=0)\n",
    "stationdata = stationdata.iloc[loc]\n",
    "\n",
    "Cal_Start = datetime.datetime.strptime(stationdata['Cal_Start'], \"%d/%m/%Y\")\n",
    "Cal_End = datetime.datetime.strptime(stationdata['Cal_End'], \"%d/%m/%Y\")\n",
    "Val_Start = datetime.datetime.strptime(stationdata['Val_Start'], \"%d/%m/%Y\")\n",
    "Val_End = datetime.datetime.strptime(stationdata['Val_End'], \"%d/%m/%Y\")\n",
    "\n",
    "Val2_Start = datetime.datetime.strptime(\"01/06/2014\", \"%d/%m/%Y\")\n",
    "Val2_End = datetime.datetime.strptime(\"31/07/2018\", \"%d/%m/%Y\")\n",
    "\n",
    "#Cal_End = datetime.datetime.strptime(\"31/10/2009\", \"%d/%m/%Y\")\n",
    "\n",
    "#stationdata\n",
    "# Load observed streamflow\n",
    "streamflow_data = pd.read_csv(Qtss_csv, sep=\",\", index_col=0, parse_dates=True, dayfirst=True)\n",
    "\n",
    "Qobs = streamflow_data[stationdata['ID']]\n",
    "Qobs[Qobs < 0] = np.NaN\n",
    "\n",
    "\n",
    "dates_cal  = Qobs[Cal_Start:Cal_End].index\n",
    "dates_val  = Qobs[Val_Start:Val_End].index\n",
    "dates_val2  = Qobs[Val2_Start:Val2_End].index\n",
    "Qobs_cal = Qobs[Cal_Start:Cal_End]\n",
    "Qobs_val = Qobs[Val_Start:Val_End]\n",
    "Qobs_val2 = Qobs[Val2_Start:Val2_End]\n",
    "\n",
    "name = stationdata['ID'] + \" \" + stationdata['Station']\n",
    "#stationdata\n",
    "max1 = np.nanmax([Qobs_cal])\n",
    "max2 = np.nanmax([Qobs_val])\n",
    "max = np.nanmax([max1,max2])\n",
    "\n"
   ]
  },
  {
   "cell_type": "code",
   "execution_count": 132,
   "id": "binary-christmas",
   "metadata": {
    "jupyter": {
     "source_hidden": true
    },
    "tags": []
   },
   "outputs": [
    {
     "data": {
      "text/plain": [
       "'\\n\\nfilename =\"P:/watmodel/CWATM/calibration/multi_UB/runall/out2/discharge_monthavg.tss\"\\nQsim = np.loadtxt(filename, skiprows=19)\\ns1 = Qsim[:,station_no]\\nts1 = pd.Series(s1, index=d)\\nts1_cal = ts1[Cal_Start:Cal_End]\\nts1_val = ts1[Val_Start:Val_End]\\n\\nfilename =\"P:/watmodel/CWATM/calibration/multi_UB/runall/out2/discharge_monthavg.tss\"\\nQsim = np.loadtxt(filename, skiprows=19)\\ns2 = Qsim[:,station_no]\\nts2 = pd.Series(s2, index=d)\\nts2_cal = ts2[Cal_Start:Cal_End]\\nts2_val = ts2[Val_Start:Val_End]\\n\\n'"
      ]
     },
     "execution_count": 132,
     "metadata": {},
     "output_type": "execute_result"
    }
   ],
   "source": [
    "\n",
    "#path_subcatch = os.path.join(SubCatchmentPath, stationdata['ID'])\n",
    "path_subcatch = os.path.join(SubCatchmentPath, \"G0001\")\n",
    "\n",
    "    \n",
    "Qsim1 = pd.read_csv(os.path.join(path_subcatch, \"streamflow_simulated_best.tss\"), sep=\",\", parse_dates=True, index_col=0, header=None)\n",
    "\n",
    "# monthly\n",
    "Qsim = Qsim1.resample('MS').mean()\n",
    "Qsim = Qsim.loc[:, 1]\n",
    "Qsim_cal = Qsim[Cal_Start:Cal_End]\n",
    "Qsim_val = Qsim[Val_Start:Val_End]\n",
    "\n",
    "\n",
    "# ----------------\n",
    "d = pd.date_range('1995-6-1','2007-10-31', freq='MS')\n",
    "\n",
    "ts1_cal =0\n",
    "\"\"\"\n",
    "\n",
    "filename =\"P:/watmodel/CWATM/calibration/multi_UB/runall/out2/discharge_monthavg.tss\"\n",
    "Qsim = np.loadtxt(filename, skiprows=19)\n",
    "s1 = Qsim[:,station_no]\n",
    "ts1 = pd.Series(s1, index=d)\n",
    "ts1_cal = ts1[Cal_Start:Cal_End]\n",
    "ts1_val = ts1[Val_Start:Val_End]\n",
    "\n",
    "filename =\"P:/watmodel/CWATM/calibration/multi_UB/runall/out2/discharge_monthavg.tss\"\n",
    "Qsim = np.loadtxt(filename, skiprows=19)\n",
    "s2 = Qsim[:,station_no]\n",
    "ts2 = pd.Series(s2, index=d)\n",
    "ts2_cal = ts2[Cal_Start:Cal_End]\n",
    "ts2_val = ts2[Val_Start:Val_End]\n",
    "\n",
    "\"\"\""
   ]
  },
  {
   "cell_type": "markdown",
   "id": "demographic-weather",
   "metadata": {},
   "source": [
    "## Statistical values\n",
    "### Observation vs. simulation"
   ]
  },
  {
   "cell_type": "code",
   "execution_count": 133,
   "id": "computational-azerbaijan",
   "metadata": {
    "jupyter": {
     "source_hidden": true
    },
    "tags": []
   },
   "outputs": [],
   "source": [
    "def geo_idx(dd, dd_array):\n",
    "   \"\"\"\n",
    "     search for nearest decimal degree in an array of decimal degrees and return the index.\n",
    "     np.argmin returns the indices of minium value along an axis.\n",
    "     so subtract dd from all values in dd_array, take absolute value and find index of minium.\n",
    "   \"\"\"\n",
    "   geo_idx = (np.abs(dd_array - dd)).argmin()\n",
    "   return geo_idx\n",
    "\n",
    "filename = \"P:/watmodel/CWATM/calibration/multi_UB2/runall/out/discharge_monthavg.nc\"\n",
    "filename = \"C:/Users/smilovic/Downloads/discharge_monthavg (1).nc\"\n",
    "#file = xr.open_dataarray(name,decode_times=False)\n",
    "file = xr.open_dataset(filename,decode_times=False)\n",
    "reference_date = '1995-06-01'\n",
    "d = pd.date_range(start=reference_date, periods=file.sizes['time'], freq='MS')\n",
    "\n",
    "lats = file['lat'][:]\n",
    "lons = file['lon'][:]\n",
    "\n",
    "in_lat = stationdata['lat_corr']\n",
    "in_lon = stationdata['lon_corr']\n",
    "\n",
    "lat_idx = geo_idx(in_lat, lats)\n",
    "lon_idx = geo_idx(in_lon, lons)\n",
    "\n",
    "v= file[\"discharge_monthavg\"][:,lat_idx,lon_idx]\n",
    "#val= file['discharge_monthavg']\n",
    "#v = file[\"discharge_monthavg\"][0:10,1,1]\n",
    "ts1 = pd.Series(v, index=d)\n",
    "ts1_cal = ts1[Cal_Start:Cal_End]\n",
    "ts1_val = ts1[Val_Start:Val_End]\n",
    "ts1_val2 = ts1[Val2_Start:Val2_End]\n",
    "file.close()\n",
    "\n",
    "#filename = \"P:/watmodel/CWATM/calibration/multi_UB2/runall/discharge_monthavg.nc\"\n",
    "filename = \"C:/Users/smilovic/Downloads/discharge_monthavg (6).nc\"\n",
    "#file = xr.open_dataarray(name,decode_times=False)\n",
    "file = xr.open_dataset(filename,decode_times=False)\n",
    "reference_date = '1995-06-01'\n",
    "d = pd.date_range(start=reference_date, periods=file.sizes['time'], freq='MS')\n",
    "\n",
    "lats = file['lat'][:]\n",
    "lons = file['lon'][:]\n",
    "\n",
    "in_lat = stationdata['lat_corr']\n",
    "in_lon = stationdata['lon_corr']\n",
    "\n",
    "lat_idx = geo_idx(in_lat, lats)\n",
    "lon_idx = geo_idx(in_lon, lons)\n",
    "\n",
    "v= file[\"discharge_monthavg\"][:,lat_idx,lon_idx]\n",
    "#val= file['discharge_monthavg']\n",
    "#v = file[\"discharge_monthavg\"][0:10,1,1]\n",
    "ts2 = pd.Series(v, index=d)\n",
    "ts2_cal = ts2[Cal_Start:Cal_End]\n",
    "ts2_val = ts2[Val_Start:Val_End]\n",
    "ts2_val2 = ts2[Val2_Start:Val2_End]\n",
    "file.close()\n"
   ]
  },
  {
   "cell_type": "markdown",
   "id": "radical-denmark",
   "metadata": {
    "tags": []
   },
   "source": [
    "## Figure"
   ]
  },
  {
   "cell_type": "code",
   "execution_count": 134,
   "id": "reflected-conducting",
   "metadata": {
    "jupyter": {
     "source_hidden": true
    },
    "tags": []
   },
   "outputs": [
    {
     "data": {
      "application/vnd.plotly.v1+json": {
       "config": {
        "plotlyServerURL": "https://plot.ly"
       },
       "data": [
        {
         "line": {
          "color": "blue",
          "width": 2
         },
         "marker": {
          "color": "blue",
          "size": 8
         },
         "mode": "lines+markers",
         "name": "Observed",
         "type": "scatter",
         "x": [
          "2002-06-01T00:00:00",
          "2002-07-01T00:00:00",
          "2002-08-01T00:00:00",
          "2002-09-01T00:00:00",
          "2002-10-01T00:00:00",
          "2002-11-01T00:00:00",
          "2002-12-01T00:00:00",
          "2003-01-01T00:00:00",
          "2003-02-01T00:00:00",
          "2003-03-01T00:00:00",
          "2003-04-01T00:00:00",
          "2003-05-01T00:00:00",
          "2003-06-01T00:00:00",
          "2003-07-01T00:00:00",
          "2003-08-01T00:00:00",
          "2003-09-01T00:00:00",
          "2003-10-01T00:00:00",
          "2003-11-01T00:00:00",
          "2003-12-01T00:00:00",
          "2004-01-01T00:00:00",
          "2004-02-01T00:00:00",
          "2004-03-01T00:00:00",
          "2004-04-01T00:00:00",
          "2004-05-01T00:00:00",
          "2004-06-01T00:00:00",
          "2004-07-01T00:00:00",
          "2004-08-01T00:00:00",
          "2004-09-01T00:00:00",
          "2004-10-01T00:00:00",
          "2004-11-01T00:00:00",
          "2004-12-01T00:00:00",
          "2005-01-01T00:00:00",
          "2005-02-01T00:00:00",
          "2005-03-01T00:00:00",
          "2005-04-01T00:00:00",
          "2005-05-01T00:00:00",
          "2005-06-01T00:00:00",
          "2005-07-01T00:00:00",
          "2005-08-01T00:00:00",
          "2005-09-01T00:00:00",
          "2005-10-01T00:00:00",
          "2005-11-01T00:00:00",
          "2005-12-01T00:00:00",
          "2006-01-01T00:00:00",
          "2006-02-01T00:00:00",
          "2006-03-01T00:00:00",
          "2006-04-01T00:00:00",
          "2006-05-01T00:00:00",
          "2006-06-01T00:00:00",
          "2006-07-01T00:00:00",
          "2006-08-01T00:00:00",
          "2006-09-01T00:00:00",
          "2006-10-01T00:00:00",
          "2006-11-01T00:00:00",
          "2006-12-01T00:00:00",
          "2007-01-01T00:00:00",
          "2007-02-01T00:00:00",
          "2007-03-01T00:00:00",
          "2007-04-01T00:00:00",
          "2007-05-01T00:00:00",
          "2007-06-01T00:00:00",
          "2007-07-01T00:00:00",
          "2007-08-01T00:00:00",
          "2007-09-01T00:00:00",
          "2007-10-01T00:00:00"
         ],
         "y": [
          26,
          42.1,
          91.2,
          26.6,
          null,
          null,
          null,
          null,
          null,
          null,
          null,
          null,
          21.3,
          52.5,
          49.6,
          32.9,
          1.1,
          null,
          null,
          null,
          null,
          null,
          null,
          null,
          18.4,
          28.1,
          165.5,
          19.7,
          3.7,
          null,
          null,
          null,
          null,
          null,
          null,
          null,
          55.3,
          211.2,
          170,
          106.7,
          22.1,
          null,
          null,
          null,
          null,
          null,
          null,
          null,
          5.6,
          182,
          257.6,
          51.6,
          14.8,
          null,
          null,
          null,
          null,
          null,
          null,
          null,
          23.8,
          117.8,
          110.9,
          39.1,
          5.7
         ]
        },
        {
         "line": {
          "color": "green",
          "width": 2
         },
         "mode": "lines",
         "name": "Simulated",
         "type": "scatter",
         "x": [
          "2002-06-01T00:00:00",
          "2002-07-01T00:00:00",
          "2002-08-01T00:00:00",
          "2002-09-01T00:00:00",
          "2002-10-01T00:00:00",
          "2002-11-01T00:00:00",
          "2002-12-01T00:00:00",
          "2003-01-01T00:00:00",
          "2003-02-01T00:00:00",
          "2003-03-01T00:00:00",
          "2003-04-01T00:00:00",
          "2003-05-01T00:00:00",
          "2003-06-01T00:00:00",
          "2003-07-01T00:00:00",
          "2003-08-01T00:00:00",
          "2003-09-01T00:00:00",
          "2003-10-01T00:00:00",
          "2003-11-01T00:00:00",
          "2003-12-01T00:00:00",
          "2004-01-01T00:00:00",
          "2004-02-01T00:00:00",
          "2004-03-01T00:00:00",
          "2004-04-01T00:00:00",
          "2004-05-01T00:00:00",
          "2004-06-01T00:00:00",
          "2004-07-01T00:00:00",
          "2004-08-01T00:00:00",
          "2004-09-01T00:00:00",
          "2004-10-01T00:00:00",
          "2004-11-01T00:00:00",
          "2004-12-01T00:00:00",
          "2005-01-01T00:00:00",
          "2005-02-01T00:00:00",
          "2005-03-01T00:00:00",
          "2005-04-01T00:00:00",
          "2005-05-01T00:00:00",
          "2005-06-01T00:00:00",
          "2005-07-01T00:00:00",
          "2005-08-01T00:00:00",
          "2005-09-01T00:00:00",
          "2005-10-01T00:00:00",
          "2005-11-01T00:00:00",
          "2005-12-01T00:00:00",
          "2006-01-01T00:00:00",
          "2006-02-01T00:00:00",
          "2006-03-01T00:00:00",
          "2006-04-01T00:00:00",
          "2006-05-01T00:00:00",
          "2006-06-01T00:00:00",
          "2006-07-01T00:00:00",
          "2006-08-01T00:00:00",
          "2006-09-01T00:00:00",
          "2006-10-01T00:00:00",
          "2006-11-01T00:00:00",
          "2006-12-01T00:00:00",
          "2007-01-01T00:00:00",
          "2007-02-01T00:00:00",
          "2007-03-01T00:00:00",
          "2007-04-01T00:00:00",
          "2007-05-01T00:00:00",
          "2007-06-01T00:00:00",
          "2007-07-01T00:00:00",
          "2007-08-01T00:00:00",
          "2007-09-01T00:00:00",
          "2007-10-01T00:00:00"
         ],
         "y": [
          61.92643356323242,
          30.039995193481445,
          82.19444274902344,
          24.95649528503418,
          10.290613174438477,
          5.975828170776367,
          5.393476963043213,
          6.15753173828125,
          5.162212371826172,
          3.6588141918182373,
          2.812779664993286,
          2.1473355293273926,
          45.31193161010742,
          67.29716491699219,
          106.0113525390625,
          22.936307907104492,
          21.981182098388672,
          12.875943183898926,
          9.06885051727295,
          8.936585426330566,
          6.4278669357299805,
          4.992733001708984,
          3.448559045791626,
          6.646812915802002,
          39.34627151489258,
          49.50646209716797,
          179.1328125,
          92.65325164794922,
          11.029776573181152,
          11.720538139343262,
          9.28339672088623,
          9.270511627197266,
          7.360046863555908,
          5.908784866333008,
          6.487689971923828,
          4.210309028625488,
          57.09511184692383,
          158.74501037597656,
          129.33990478515625,
          136.3853302001953,
          24.533872604370117,
          10.557530403137207,
          9.646970748901367,
          9.504683494567871,
          6.970625877380371,
          5.886978626251221,
          4.039487361907959,
          9.014750480651855,
          44.92185974121094,
          177.6732940673828,
          241.24232482910156,
          90.85447692871094,
          22.54776954650879,
          13.990660667419434,
          9.865784645080566,
          9.798338890075684,
          7.51016092300415,
          6.30851411819458,
          5.295848846435547,
          3.4630236625671387,
          71.1978530883789,
          119.84446716308594,
          113.91439819335938,
          92.28289794921875,
          6.689940452575684
         ]
        }
       ],
       "layout": {
        "template": {
         "data": {
          "bar": [
           {
            "error_x": {
             "color": "#2a3f5f"
            },
            "error_y": {
             "color": "#2a3f5f"
            },
            "marker": {
             "line": {
              "color": "#E5ECF6",
              "width": 0.5
             }
            },
            "type": "bar"
           }
          ],
          "barpolar": [
           {
            "marker": {
             "line": {
              "color": "#E5ECF6",
              "width": 0.5
             }
            },
            "type": "barpolar"
           }
          ],
          "carpet": [
           {
            "aaxis": {
             "endlinecolor": "#2a3f5f",
             "gridcolor": "white",
             "linecolor": "white",
             "minorgridcolor": "white",
             "startlinecolor": "#2a3f5f"
            },
            "baxis": {
             "endlinecolor": "#2a3f5f",
             "gridcolor": "white",
             "linecolor": "white",
             "minorgridcolor": "white",
             "startlinecolor": "#2a3f5f"
            },
            "type": "carpet"
           }
          ],
          "choropleth": [
           {
            "colorbar": {
             "outlinewidth": 0,
             "ticks": ""
            },
            "type": "choropleth"
           }
          ],
          "contour": [
           {
            "colorbar": {
             "outlinewidth": 0,
             "ticks": ""
            },
            "colorscale": [
             [
              0,
              "#0d0887"
             ],
             [
              0.1111111111111111,
              "#46039f"
             ],
             [
              0.2222222222222222,
              "#7201a8"
             ],
             [
              0.3333333333333333,
              "#9c179e"
             ],
             [
              0.4444444444444444,
              "#bd3786"
             ],
             [
              0.5555555555555556,
              "#d8576b"
             ],
             [
              0.6666666666666666,
              "#ed7953"
             ],
             [
              0.7777777777777778,
              "#fb9f3a"
             ],
             [
              0.8888888888888888,
              "#fdca26"
             ],
             [
              1,
              "#f0f921"
             ]
            ],
            "type": "contour"
           }
          ],
          "contourcarpet": [
           {
            "colorbar": {
             "outlinewidth": 0,
             "ticks": ""
            },
            "type": "contourcarpet"
           }
          ],
          "heatmap": [
           {
            "colorbar": {
             "outlinewidth": 0,
             "ticks": ""
            },
            "colorscale": [
             [
              0,
              "#0d0887"
             ],
             [
              0.1111111111111111,
              "#46039f"
             ],
             [
              0.2222222222222222,
              "#7201a8"
             ],
             [
              0.3333333333333333,
              "#9c179e"
             ],
             [
              0.4444444444444444,
              "#bd3786"
             ],
             [
              0.5555555555555556,
              "#d8576b"
             ],
             [
              0.6666666666666666,
              "#ed7953"
             ],
             [
              0.7777777777777778,
              "#fb9f3a"
             ],
             [
              0.8888888888888888,
              "#fdca26"
             ],
             [
              1,
              "#f0f921"
             ]
            ],
            "type": "heatmap"
           }
          ],
          "heatmapgl": [
           {
            "colorbar": {
             "outlinewidth": 0,
             "ticks": ""
            },
            "colorscale": [
             [
              0,
              "#0d0887"
             ],
             [
              0.1111111111111111,
              "#46039f"
             ],
             [
              0.2222222222222222,
              "#7201a8"
             ],
             [
              0.3333333333333333,
              "#9c179e"
             ],
             [
              0.4444444444444444,
              "#bd3786"
             ],
             [
              0.5555555555555556,
              "#d8576b"
             ],
             [
              0.6666666666666666,
              "#ed7953"
             ],
             [
              0.7777777777777778,
              "#fb9f3a"
             ],
             [
              0.8888888888888888,
              "#fdca26"
             ],
             [
              1,
              "#f0f921"
             ]
            ],
            "type": "heatmapgl"
           }
          ],
          "histogram": [
           {
            "marker": {
             "colorbar": {
              "outlinewidth": 0,
              "ticks": ""
             }
            },
            "type": "histogram"
           }
          ],
          "histogram2d": [
           {
            "colorbar": {
             "outlinewidth": 0,
             "ticks": ""
            },
            "colorscale": [
             [
              0,
              "#0d0887"
             ],
             [
              0.1111111111111111,
              "#46039f"
             ],
             [
              0.2222222222222222,
              "#7201a8"
             ],
             [
              0.3333333333333333,
              "#9c179e"
             ],
             [
              0.4444444444444444,
              "#bd3786"
             ],
             [
              0.5555555555555556,
              "#d8576b"
             ],
             [
              0.6666666666666666,
              "#ed7953"
             ],
             [
              0.7777777777777778,
              "#fb9f3a"
             ],
             [
              0.8888888888888888,
              "#fdca26"
             ],
             [
              1,
              "#f0f921"
             ]
            ],
            "type": "histogram2d"
           }
          ],
          "histogram2dcontour": [
           {
            "colorbar": {
             "outlinewidth": 0,
             "ticks": ""
            },
            "colorscale": [
             [
              0,
              "#0d0887"
             ],
             [
              0.1111111111111111,
              "#46039f"
             ],
             [
              0.2222222222222222,
              "#7201a8"
             ],
             [
              0.3333333333333333,
              "#9c179e"
             ],
             [
              0.4444444444444444,
              "#bd3786"
             ],
             [
              0.5555555555555556,
              "#d8576b"
             ],
             [
              0.6666666666666666,
              "#ed7953"
             ],
             [
              0.7777777777777778,
              "#fb9f3a"
             ],
             [
              0.8888888888888888,
              "#fdca26"
             ],
             [
              1,
              "#f0f921"
             ]
            ],
            "type": "histogram2dcontour"
           }
          ],
          "mesh3d": [
           {
            "colorbar": {
             "outlinewidth": 0,
             "ticks": ""
            },
            "type": "mesh3d"
           }
          ],
          "parcoords": [
           {
            "line": {
             "colorbar": {
              "outlinewidth": 0,
              "ticks": ""
             }
            },
            "type": "parcoords"
           }
          ],
          "pie": [
           {
            "automargin": true,
            "type": "pie"
           }
          ],
          "scatter": [
           {
            "marker": {
             "colorbar": {
              "outlinewidth": 0,
              "ticks": ""
             }
            },
            "type": "scatter"
           }
          ],
          "scatter3d": [
           {
            "line": {
             "colorbar": {
              "outlinewidth": 0,
              "ticks": ""
             }
            },
            "marker": {
             "colorbar": {
              "outlinewidth": 0,
              "ticks": ""
             }
            },
            "type": "scatter3d"
           }
          ],
          "scattercarpet": [
           {
            "marker": {
             "colorbar": {
              "outlinewidth": 0,
              "ticks": ""
             }
            },
            "type": "scattercarpet"
           }
          ],
          "scattergeo": [
           {
            "marker": {
             "colorbar": {
              "outlinewidth": 0,
              "ticks": ""
             }
            },
            "type": "scattergeo"
           }
          ],
          "scattergl": [
           {
            "marker": {
             "colorbar": {
              "outlinewidth": 0,
              "ticks": ""
             }
            },
            "type": "scattergl"
           }
          ],
          "scattermapbox": [
           {
            "marker": {
             "colorbar": {
              "outlinewidth": 0,
              "ticks": ""
             }
            },
            "type": "scattermapbox"
           }
          ],
          "scatterpolar": [
           {
            "marker": {
             "colorbar": {
              "outlinewidth": 0,
              "ticks": ""
             }
            },
            "type": "scatterpolar"
           }
          ],
          "scatterpolargl": [
           {
            "marker": {
             "colorbar": {
              "outlinewidth": 0,
              "ticks": ""
             }
            },
            "type": "scatterpolargl"
           }
          ],
          "scatterternary": [
           {
            "marker": {
             "colorbar": {
              "outlinewidth": 0,
              "ticks": ""
             }
            },
            "type": "scatterternary"
           }
          ],
          "surface": [
           {
            "colorbar": {
             "outlinewidth": 0,
             "ticks": ""
            },
            "colorscale": [
             [
              0,
              "#0d0887"
             ],
             [
              0.1111111111111111,
              "#46039f"
             ],
             [
              0.2222222222222222,
              "#7201a8"
             ],
             [
              0.3333333333333333,
              "#9c179e"
             ],
             [
              0.4444444444444444,
              "#bd3786"
             ],
             [
              0.5555555555555556,
              "#d8576b"
             ],
             [
              0.6666666666666666,
              "#ed7953"
             ],
             [
              0.7777777777777778,
              "#fb9f3a"
             ],
             [
              0.8888888888888888,
              "#fdca26"
             ],
             [
              1,
              "#f0f921"
             ]
            ],
            "type": "surface"
           }
          ],
          "table": [
           {
            "cells": {
             "fill": {
              "color": "#EBF0F8"
             },
             "line": {
              "color": "white"
             }
            },
            "header": {
             "fill": {
              "color": "#C8D4E3"
             },
             "line": {
              "color": "white"
             }
            },
            "type": "table"
           }
          ]
         },
         "layout": {
          "annotationdefaults": {
           "arrowcolor": "#2a3f5f",
           "arrowhead": 0,
           "arrowwidth": 1
          },
          "coloraxis": {
           "colorbar": {
            "outlinewidth": 0,
            "ticks": ""
           }
          },
          "colorscale": {
           "diverging": [
            [
             0,
             "#8e0152"
            ],
            [
             0.1,
             "#c51b7d"
            ],
            [
             0.2,
             "#de77ae"
            ],
            [
             0.3,
             "#f1b6da"
            ],
            [
             0.4,
             "#fde0ef"
            ],
            [
             0.5,
             "#f7f7f7"
            ],
            [
             0.6,
             "#e6f5d0"
            ],
            [
             0.7,
             "#b8e186"
            ],
            [
             0.8,
             "#7fbc41"
            ],
            [
             0.9,
             "#4d9221"
            ],
            [
             1,
             "#276419"
            ]
           ],
           "sequential": [
            [
             0,
             "#0d0887"
            ],
            [
             0.1111111111111111,
             "#46039f"
            ],
            [
             0.2222222222222222,
             "#7201a8"
            ],
            [
             0.3333333333333333,
             "#9c179e"
            ],
            [
             0.4444444444444444,
             "#bd3786"
            ],
            [
             0.5555555555555556,
             "#d8576b"
            ],
            [
             0.6666666666666666,
             "#ed7953"
            ],
            [
             0.7777777777777778,
             "#fb9f3a"
            ],
            [
             0.8888888888888888,
             "#fdca26"
            ],
            [
             1,
             "#f0f921"
            ]
           ],
           "sequentialminus": [
            [
             0,
             "#0d0887"
            ],
            [
             0.1111111111111111,
             "#46039f"
            ],
            [
             0.2222222222222222,
             "#7201a8"
            ],
            [
             0.3333333333333333,
             "#9c179e"
            ],
            [
             0.4444444444444444,
             "#bd3786"
            ],
            [
             0.5555555555555556,
             "#d8576b"
            ],
            [
             0.6666666666666666,
             "#ed7953"
            ],
            [
             0.7777777777777778,
             "#fb9f3a"
            ],
            [
             0.8888888888888888,
             "#fdca26"
            ],
            [
             1,
             "#f0f921"
            ]
           ]
          },
          "colorway": [
           "#636efa",
           "#EF553B",
           "#00cc96",
           "#ab63fa",
           "#FFA15A",
           "#19d3f3",
           "#FF6692",
           "#B6E880",
           "#FF97FF",
           "#FECB52"
          ],
          "font": {
           "color": "#2a3f5f"
          },
          "geo": {
           "bgcolor": "white",
           "lakecolor": "white",
           "landcolor": "#E5ECF6",
           "showlakes": true,
           "showland": true,
           "subunitcolor": "white"
          },
          "hoverlabel": {
           "align": "left"
          },
          "hovermode": "closest",
          "mapbox": {
           "style": "light"
          },
          "paper_bgcolor": "white",
          "plot_bgcolor": "#E5ECF6",
          "polar": {
           "angularaxis": {
            "gridcolor": "white",
            "linecolor": "white",
            "ticks": ""
           },
           "bgcolor": "#E5ECF6",
           "radialaxis": {
            "gridcolor": "white",
            "linecolor": "white",
            "ticks": ""
           }
          },
          "scene": {
           "xaxis": {
            "backgroundcolor": "#E5ECF6",
            "gridcolor": "white",
            "gridwidth": 2,
            "linecolor": "white",
            "showbackground": true,
            "ticks": "",
            "zerolinecolor": "white"
           },
           "yaxis": {
            "backgroundcolor": "#E5ECF6",
            "gridcolor": "white",
            "gridwidth": 2,
            "linecolor": "white",
            "showbackground": true,
            "ticks": "",
            "zerolinecolor": "white"
           },
           "zaxis": {
            "backgroundcolor": "#E5ECF6",
            "gridcolor": "white",
            "gridwidth": 2,
            "linecolor": "white",
            "showbackground": true,
            "ticks": "",
            "zerolinecolor": "white"
           }
          },
          "shapedefaults": {
           "line": {
            "color": "#2a3f5f"
           }
          },
          "ternary": {
           "aaxis": {
            "gridcolor": "white",
            "linecolor": "white",
            "ticks": ""
           },
           "baxis": {
            "gridcolor": "white",
            "linecolor": "white",
            "ticks": ""
           },
           "bgcolor": "#E5ECF6",
           "caxis": {
            "gridcolor": "white",
            "linecolor": "white",
            "ticks": ""
           }
          },
          "title": {
           "x": 0.05
          },
          "xaxis": {
           "automargin": true,
           "gridcolor": "white",
           "linecolor": "white",
           "ticks": "",
           "title": {
            "standoff": 15
           },
           "zerolinecolor": "white",
           "zerolinewidth": 2
          },
          "yaxis": {
           "automargin": true,
           "gridcolor": "white",
           "linecolor": "white",
           "ticks": "",
           "title": {
            "standoff": 15
           },
           "zerolinecolor": "white",
           "zerolinewidth": 2
          }
         }
        },
        "title": {
         "text": "Calibration at G04 Nighoje"
        },
        "xaxis": {
         "title": {
          "text": "Month"
         }
        },
        "yaxis": {
         "range": [
          0,
          257.6626892089844
         ],
         "title": {
          "text": "Discharge (m3/s) mean"
         }
        }
       }
      },
      "text/html": [
       "<div>\n",
       "        \n",
       "        \n",
       "            <div id=\"57a46591-b87e-4469-9ac2-d8b2014afb62\" class=\"plotly-graph-div\" style=\"height:525px; width:100%;\"></div>\n",
       "            <script type=\"text/javascript\">\n",
       "                require([\"plotly\"], function(Plotly) {\n",
       "                    window.PLOTLYENV=window.PLOTLYENV || {};\n",
       "                    \n",
       "                if (document.getElementById(\"57a46591-b87e-4469-9ac2-d8b2014afb62\")) {\n",
       "                    Plotly.newPlot(\n",
       "                        '57a46591-b87e-4469-9ac2-d8b2014afb62',\n",
       "                        [{\"line\": {\"color\": \"blue\", \"width\": 2}, \"marker\": {\"color\": \"blue\", \"size\": 8}, \"mode\": \"lines+markers\", \"name\": \"Observed\", \"type\": \"scatter\", \"x\": [\"2002-06-01T00:00:00\", \"2002-07-01T00:00:00\", \"2002-08-01T00:00:00\", \"2002-09-01T00:00:00\", \"2002-10-01T00:00:00\", \"2002-11-01T00:00:00\", \"2002-12-01T00:00:00\", \"2003-01-01T00:00:00\", \"2003-02-01T00:00:00\", \"2003-03-01T00:00:00\", \"2003-04-01T00:00:00\", \"2003-05-01T00:00:00\", \"2003-06-01T00:00:00\", \"2003-07-01T00:00:00\", \"2003-08-01T00:00:00\", \"2003-09-01T00:00:00\", \"2003-10-01T00:00:00\", \"2003-11-01T00:00:00\", \"2003-12-01T00:00:00\", \"2004-01-01T00:00:00\", \"2004-02-01T00:00:00\", \"2004-03-01T00:00:00\", \"2004-04-01T00:00:00\", \"2004-05-01T00:00:00\", \"2004-06-01T00:00:00\", \"2004-07-01T00:00:00\", \"2004-08-01T00:00:00\", \"2004-09-01T00:00:00\", \"2004-10-01T00:00:00\", \"2004-11-01T00:00:00\", \"2004-12-01T00:00:00\", \"2005-01-01T00:00:00\", \"2005-02-01T00:00:00\", \"2005-03-01T00:00:00\", \"2005-04-01T00:00:00\", \"2005-05-01T00:00:00\", \"2005-06-01T00:00:00\", \"2005-07-01T00:00:00\", \"2005-08-01T00:00:00\", \"2005-09-01T00:00:00\", \"2005-10-01T00:00:00\", \"2005-11-01T00:00:00\", \"2005-12-01T00:00:00\", \"2006-01-01T00:00:00\", \"2006-02-01T00:00:00\", \"2006-03-01T00:00:00\", \"2006-04-01T00:00:00\", \"2006-05-01T00:00:00\", \"2006-06-01T00:00:00\", \"2006-07-01T00:00:00\", \"2006-08-01T00:00:00\", \"2006-09-01T00:00:00\", \"2006-10-01T00:00:00\", \"2006-11-01T00:00:00\", \"2006-12-01T00:00:00\", \"2007-01-01T00:00:00\", \"2007-02-01T00:00:00\", \"2007-03-01T00:00:00\", \"2007-04-01T00:00:00\", \"2007-05-01T00:00:00\", \"2007-06-01T00:00:00\", \"2007-07-01T00:00:00\", \"2007-08-01T00:00:00\", \"2007-09-01T00:00:00\", \"2007-10-01T00:00:00\"], \"y\": [26.0, 42.1, 91.2, 26.6, null, null, null, null, null, null, null, null, 21.3, 52.5, 49.6, 32.9, 1.1, null, null, null, null, null, null, null, 18.4, 28.1, 165.5, 19.7, 3.7, null, null, null, null, null, null, null, 55.3, 211.2, 170.0, 106.7, 22.1, null, null, null, null, null, null, null, 5.6, 182.0, 257.6, 51.6, 14.8, null, null, null, null, null, null, null, 23.8, 117.8, 110.9, 39.1, 5.7]}, {\"line\": {\"color\": \"green\", \"width\": 2}, \"mode\": \"lines\", \"name\": \"Simulated\", \"type\": \"scatter\", \"x\": [\"2002-06-01T00:00:00\", \"2002-07-01T00:00:00\", \"2002-08-01T00:00:00\", \"2002-09-01T00:00:00\", \"2002-10-01T00:00:00\", \"2002-11-01T00:00:00\", \"2002-12-01T00:00:00\", \"2003-01-01T00:00:00\", \"2003-02-01T00:00:00\", \"2003-03-01T00:00:00\", \"2003-04-01T00:00:00\", \"2003-05-01T00:00:00\", \"2003-06-01T00:00:00\", \"2003-07-01T00:00:00\", \"2003-08-01T00:00:00\", \"2003-09-01T00:00:00\", \"2003-10-01T00:00:00\", \"2003-11-01T00:00:00\", \"2003-12-01T00:00:00\", \"2004-01-01T00:00:00\", \"2004-02-01T00:00:00\", \"2004-03-01T00:00:00\", \"2004-04-01T00:00:00\", \"2004-05-01T00:00:00\", \"2004-06-01T00:00:00\", \"2004-07-01T00:00:00\", \"2004-08-01T00:00:00\", \"2004-09-01T00:00:00\", \"2004-10-01T00:00:00\", \"2004-11-01T00:00:00\", \"2004-12-01T00:00:00\", \"2005-01-01T00:00:00\", \"2005-02-01T00:00:00\", \"2005-03-01T00:00:00\", \"2005-04-01T00:00:00\", \"2005-05-01T00:00:00\", \"2005-06-01T00:00:00\", \"2005-07-01T00:00:00\", \"2005-08-01T00:00:00\", \"2005-09-01T00:00:00\", \"2005-10-01T00:00:00\", \"2005-11-01T00:00:00\", \"2005-12-01T00:00:00\", \"2006-01-01T00:00:00\", \"2006-02-01T00:00:00\", \"2006-03-01T00:00:00\", \"2006-04-01T00:00:00\", \"2006-05-01T00:00:00\", \"2006-06-01T00:00:00\", \"2006-07-01T00:00:00\", \"2006-08-01T00:00:00\", \"2006-09-01T00:00:00\", \"2006-10-01T00:00:00\", \"2006-11-01T00:00:00\", \"2006-12-01T00:00:00\", \"2007-01-01T00:00:00\", \"2007-02-01T00:00:00\", \"2007-03-01T00:00:00\", \"2007-04-01T00:00:00\", \"2007-05-01T00:00:00\", \"2007-06-01T00:00:00\", \"2007-07-01T00:00:00\", \"2007-08-01T00:00:00\", \"2007-09-01T00:00:00\", \"2007-10-01T00:00:00\"], \"y\": [61.92643356323242, 30.039995193481445, 82.19444274902344, 24.95649528503418, 10.290613174438477, 5.975828170776367, 5.393476963043213, 6.15753173828125, 5.162212371826172, 3.6588141918182373, 2.812779664993286, 2.1473355293273926, 45.31193161010742, 67.29716491699219, 106.0113525390625, 22.936307907104492, 21.981182098388672, 12.875943183898926, 9.06885051727295, 8.936585426330566, 6.4278669357299805, 4.992733001708984, 3.448559045791626, 6.646812915802002, 39.34627151489258, 49.50646209716797, 179.1328125, 92.65325164794922, 11.029776573181152, 11.720538139343262, 9.28339672088623, 9.270511627197266, 7.360046863555908, 5.908784866333008, 6.487689971923828, 4.210309028625488, 57.09511184692383, 158.74501037597656, 129.33990478515625, 136.3853302001953, 24.533872604370117, 10.557530403137207, 9.646970748901367, 9.504683494567871, 6.970625877380371, 5.886978626251221, 4.039487361907959, 9.014750480651855, 44.92185974121094, 177.6732940673828, 241.24232482910156, 90.85447692871094, 22.54776954650879, 13.990660667419434, 9.865784645080566, 9.798338890075684, 7.51016092300415, 6.30851411819458, 5.295848846435547, 3.4630236625671387, 71.1978530883789, 119.84446716308594, 113.91439819335938, 92.28289794921875, 6.689940452575684]}],\n",
       "                        {\"template\": {\"data\": {\"bar\": [{\"error_x\": {\"color\": \"#2a3f5f\"}, \"error_y\": {\"color\": \"#2a3f5f\"}, \"marker\": {\"line\": {\"color\": \"#E5ECF6\", \"width\": 0.5}}, \"type\": \"bar\"}], \"barpolar\": [{\"marker\": {\"line\": {\"color\": \"#E5ECF6\", \"width\": 0.5}}, \"type\": \"barpolar\"}], \"carpet\": [{\"aaxis\": {\"endlinecolor\": \"#2a3f5f\", \"gridcolor\": \"white\", \"linecolor\": \"white\", \"minorgridcolor\": \"white\", \"startlinecolor\": \"#2a3f5f\"}, \"baxis\": {\"endlinecolor\": \"#2a3f5f\", \"gridcolor\": \"white\", \"linecolor\": \"white\", \"minorgridcolor\": \"white\", \"startlinecolor\": \"#2a3f5f\"}, \"type\": \"carpet\"}], \"choropleth\": [{\"colorbar\": {\"outlinewidth\": 0, \"ticks\": \"\"}, \"type\": \"choropleth\"}], \"contour\": [{\"colorbar\": {\"outlinewidth\": 0, \"ticks\": \"\"}, \"colorscale\": [[0.0, \"#0d0887\"], [0.1111111111111111, \"#46039f\"], [0.2222222222222222, \"#7201a8\"], [0.3333333333333333, \"#9c179e\"], [0.4444444444444444, \"#bd3786\"], [0.5555555555555556, \"#d8576b\"], [0.6666666666666666, \"#ed7953\"], [0.7777777777777778, \"#fb9f3a\"], [0.8888888888888888, \"#fdca26\"], [1.0, \"#f0f921\"]], \"type\": \"contour\"}], \"contourcarpet\": [{\"colorbar\": {\"outlinewidth\": 0, \"ticks\": \"\"}, \"type\": \"contourcarpet\"}], \"heatmap\": [{\"colorbar\": {\"outlinewidth\": 0, \"ticks\": \"\"}, \"colorscale\": [[0.0, \"#0d0887\"], [0.1111111111111111, \"#46039f\"], [0.2222222222222222, \"#7201a8\"], [0.3333333333333333, \"#9c179e\"], [0.4444444444444444, \"#bd3786\"], [0.5555555555555556, \"#d8576b\"], [0.6666666666666666, \"#ed7953\"], [0.7777777777777778, \"#fb9f3a\"], [0.8888888888888888, \"#fdca26\"], [1.0, \"#f0f921\"]], \"type\": \"heatmap\"}], \"heatmapgl\": [{\"colorbar\": {\"outlinewidth\": 0, \"ticks\": \"\"}, \"colorscale\": [[0.0, \"#0d0887\"], [0.1111111111111111, \"#46039f\"], [0.2222222222222222, \"#7201a8\"], [0.3333333333333333, \"#9c179e\"], [0.4444444444444444, \"#bd3786\"], [0.5555555555555556, \"#d8576b\"], [0.6666666666666666, \"#ed7953\"], [0.7777777777777778, \"#fb9f3a\"], [0.8888888888888888, \"#fdca26\"], [1.0, \"#f0f921\"]], \"type\": \"heatmapgl\"}], \"histogram\": [{\"marker\": {\"colorbar\": {\"outlinewidth\": 0, \"ticks\": \"\"}}, \"type\": \"histogram\"}], \"histogram2d\": [{\"colorbar\": {\"outlinewidth\": 0, \"ticks\": \"\"}, \"colorscale\": [[0.0, \"#0d0887\"], [0.1111111111111111, \"#46039f\"], [0.2222222222222222, \"#7201a8\"], [0.3333333333333333, \"#9c179e\"], [0.4444444444444444, \"#bd3786\"], [0.5555555555555556, \"#d8576b\"], [0.6666666666666666, \"#ed7953\"], [0.7777777777777778, \"#fb9f3a\"], [0.8888888888888888, \"#fdca26\"], [1.0, \"#f0f921\"]], \"type\": \"histogram2d\"}], \"histogram2dcontour\": [{\"colorbar\": {\"outlinewidth\": 0, \"ticks\": \"\"}, \"colorscale\": [[0.0, \"#0d0887\"], [0.1111111111111111, \"#46039f\"], [0.2222222222222222, \"#7201a8\"], [0.3333333333333333, \"#9c179e\"], [0.4444444444444444, \"#bd3786\"], [0.5555555555555556, \"#d8576b\"], [0.6666666666666666, \"#ed7953\"], [0.7777777777777778, \"#fb9f3a\"], [0.8888888888888888, \"#fdca26\"], [1.0, \"#f0f921\"]], \"type\": \"histogram2dcontour\"}], \"mesh3d\": [{\"colorbar\": {\"outlinewidth\": 0, \"ticks\": \"\"}, \"type\": \"mesh3d\"}], \"parcoords\": [{\"line\": {\"colorbar\": {\"outlinewidth\": 0, \"ticks\": \"\"}}, \"type\": \"parcoords\"}], \"pie\": [{\"automargin\": true, \"type\": \"pie\"}], \"scatter\": [{\"marker\": {\"colorbar\": {\"outlinewidth\": 0, \"ticks\": \"\"}}, \"type\": \"scatter\"}], \"scatter3d\": [{\"line\": {\"colorbar\": {\"outlinewidth\": 0, \"ticks\": \"\"}}, \"marker\": {\"colorbar\": {\"outlinewidth\": 0, \"ticks\": \"\"}}, \"type\": \"scatter3d\"}], \"scattercarpet\": [{\"marker\": {\"colorbar\": {\"outlinewidth\": 0, \"ticks\": \"\"}}, \"type\": \"scattercarpet\"}], \"scattergeo\": [{\"marker\": {\"colorbar\": {\"outlinewidth\": 0, \"ticks\": \"\"}}, \"type\": \"scattergeo\"}], \"scattergl\": [{\"marker\": {\"colorbar\": {\"outlinewidth\": 0, \"ticks\": \"\"}}, \"type\": \"scattergl\"}], \"scattermapbox\": [{\"marker\": {\"colorbar\": {\"outlinewidth\": 0, \"ticks\": \"\"}}, \"type\": \"scattermapbox\"}], \"scatterpolar\": [{\"marker\": {\"colorbar\": {\"outlinewidth\": 0, \"ticks\": \"\"}}, \"type\": \"scatterpolar\"}], \"scatterpolargl\": [{\"marker\": {\"colorbar\": {\"outlinewidth\": 0, \"ticks\": \"\"}}, \"type\": \"scatterpolargl\"}], \"scatterternary\": [{\"marker\": {\"colorbar\": {\"outlinewidth\": 0, \"ticks\": \"\"}}, \"type\": \"scatterternary\"}], \"surface\": [{\"colorbar\": {\"outlinewidth\": 0, \"ticks\": \"\"}, \"colorscale\": [[0.0, \"#0d0887\"], [0.1111111111111111, \"#46039f\"], [0.2222222222222222, \"#7201a8\"], [0.3333333333333333, \"#9c179e\"], [0.4444444444444444, \"#bd3786\"], [0.5555555555555556, \"#d8576b\"], [0.6666666666666666, \"#ed7953\"], [0.7777777777777778, \"#fb9f3a\"], [0.8888888888888888, \"#fdca26\"], [1.0, \"#f0f921\"]], \"type\": \"surface\"}], \"table\": [{\"cells\": {\"fill\": {\"color\": \"#EBF0F8\"}, \"line\": {\"color\": \"white\"}}, \"header\": {\"fill\": {\"color\": \"#C8D4E3\"}, \"line\": {\"color\": \"white\"}}, \"type\": \"table\"}]}, \"layout\": {\"annotationdefaults\": {\"arrowcolor\": \"#2a3f5f\", \"arrowhead\": 0, \"arrowwidth\": 1}, \"coloraxis\": {\"colorbar\": {\"outlinewidth\": 0, \"ticks\": \"\"}}, \"colorscale\": {\"diverging\": [[0, \"#8e0152\"], [0.1, \"#c51b7d\"], [0.2, \"#de77ae\"], [0.3, \"#f1b6da\"], [0.4, \"#fde0ef\"], [0.5, \"#f7f7f7\"], [0.6, \"#e6f5d0\"], [0.7, \"#b8e186\"], [0.8, \"#7fbc41\"], [0.9, \"#4d9221\"], [1, \"#276419\"]], \"sequential\": [[0.0, \"#0d0887\"], [0.1111111111111111, \"#46039f\"], [0.2222222222222222, \"#7201a8\"], [0.3333333333333333, \"#9c179e\"], [0.4444444444444444, \"#bd3786\"], [0.5555555555555556, \"#d8576b\"], [0.6666666666666666, \"#ed7953\"], [0.7777777777777778, \"#fb9f3a\"], [0.8888888888888888, \"#fdca26\"], [1.0, \"#f0f921\"]], \"sequentialminus\": [[0.0, \"#0d0887\"], [0.1111111111111111, \"#46039f\"], [0.2222222222222222, \"#7201a8\"], [0.3333333333333333, \"#9c179e\"], [0.4444444444444444, \"#bd3786\"], [0.5555555555555556, \"#d8576b\"], [0.6666666666666666, \"#ed7953\"], [0.7777777777777778, \"#fb9f3a\"], [0.8888888888888888, \"#fdca26\"], [1.0, \"#f0f921\"]]}, \"colorway\": [\"#636efa\", \"#EF553B\", \"#00cc96\", \"#ab63fa\", \"#FFA15A\", \"#19d3f3\", \"#FF6692\", \"#B6E880\", \"#FF97FF\", \"#FECB52\"], \"font\": {\"color\": \"#2a3f5f\"}, \"geo\": {\"bgcolor\": \"white\", \"lakecolor\": \"white\", \"landcolor\": \"#E5ECF6\", \"showlakes\": true, \"showland\": true, \"subunitcolor\": \"white\"}, \"hoverlabel\": {\"align\": \"left\"}, \"hovermode\": \"closest\", \"mapbox\": {\"style\": \"light\"}, \"paper_bgcolor\": \"white\", \"plot_bgcolor\": \"#E5ECF6\", \"polar\": {\"angularaxis\": {\"gridcolor\": \"white\", \"linecolor\": \"white\", \"ticks\": \"\"}, \"bgcolor\": \"#E5ECF6\", \"radialaxis\": {\"gridcolor\": \"white\", \"linecolor\": \"white\", \"ticks\": \"\"}}, \"scene\": {\"xaxis\": {\"backgroundcolor\": \"#E5ECF6\", \"gridcolor\": \"white\", \"gridwidth\": 2, \"linecolor\": \"white\", \"showbackground\": true, \"ticks\": \"\", \"zerolinecolor\": \"white\"}, \"yaxis\": {\"backgroundcolor\": \"#E5ECF6\", \"gridcolor\": \"white\", \"gridwidth\": 2, \"linecolor\": \"white\", \"showbackground\": true, \"ticks\": \"\", \"zerolinecolor\": \"white\"}, \"zaxis\": {\"backgroundcolor\": \"#E5ECF6\", \"gridcolor\": \"white\", \"gridwidth\": 2, \"linecolor\": \"white\", \"showbackground\": true, \"ticks\": \"\", \"zerolinecolor\": \"white\"}}, \"shapedefaults\": {\"line\": {\"color\": \"#2a3f5f\"}}, \"ternary\": {\"aaxis\": {\"gridcolor\": \"white\", \"linecolor\": \"white\", \"ticks\": \"\"}, \"baxis\": {\"gridcolor\": \"white\", \"linecolor\": \"white\", \"ticks\": \"\"}, \"bgcolor\": \"#E5ECF6\", \"caxis\": {\"gridcolor\": \"white\", \"linecolor\": \"white\", \"ticks\": \"\"}}, \"title\": {\"x\": 0.05}, \"xaxis\": {\"automargin\": true, \"gridcolor\": \"white\", \"linecolor\": \"white\", \"ticks\": \"\", \"title\": {\"standoff\": 15}, \"zerolinecolor\": \"white\", \"zerolinewidth\": 2}, \"yaxis\": {\"automargin\": true, \"gridcolor\": \"white\", \"linecolor\": \"white\", \"ticks\": \"\", \"title\": {\"standoff\": 15}, \"zerolinecolor\": \"white\", \"zerolinewidth\": 2}}}, \"title\": {\"text\": \"Calibration at G04 Nighoje\"}, \"xaxis\": {\"title\": {\"text\": \"Month\"}}, \"yaxis\": {\"range\": [0, 257.6626892089844], \"title\": {\"text\": \"Discharge (m3/s) mean\"}}},\n",
       "                        {\"responsive\": true}\n",
       "                    ).then(function(){\n",
       "                            \n",
       "var gd = document.getElementById('57a46591-b87e-4469-9ac2-d8b2014afb62');\n",
       "var x = new MutationObserver(function (mutations, observer) {{\n",
       "        var display = window.getComputedStyle(gd).display;\n",
       "        if (!display || display === 'none') {{\n",
       "            console.log([gd, 'removed!']);\n",
       "            Plotly.purge(gd);\n",
       "            observer.disconnect();\n",
       "        }}\n",
       "}});\n",
       "\n",
       "// Listen for the removal of the full notebook cells\n",
       "var notebookContainer = gd.closest('#notebook-container');\n",
       "if (notebookContainer) {{\n",
       "    x.observe(notebookContainer, {childList: true});\n",
       "}}\n",
       "\n",
       "// Listen for the clearing of the current output cell\n",
       "var outputEl = gd.closest('.output');\n",
       "if (outputEl) {{\n",
       "    x.observe(outputEl, {childList: true});\n",
       "}}\n",
       "\n",
       "                        })\n",
       "                };\n",
       "                });\n",
       "            </script>\n",
       "        </div>"
      ]
     },
     "metadata": {},
     "output_type": "display_data"
    },
    {
     "data": {
      "application/vnd.plotly.v1+json": {
       "config": {
        "plotlyServerURL": "https://plot.ly"
       },
       "data": [
        {
         "line": {
          "color": "blue",
          "width": 2
         },
         "marker": {
          "color": "blue",
          "size": 8
         },
         "mode": "lines+markers",
         "name": "Observed",
         "type": "scatter",
         "x": [
          "1996-06-01T00:00:00",
          "1996-07-01T00:00:00",
          "1996-08-01T00:00:00",
          "1996-09-01T00:00:00",
          "1996-10-01T00:00:00",
          "1996-11-01T00:00:00",
          "1996-12-01T00:00:00",
          "1997-01-01T00:00:00",
          "1997-02-01T00:00:00",
          "1997-03-01T00:00:00",
          "1997-04-01T00:00:00",
          "1997-05-01T00:00:00",
          "1997-06-01T00:00:00",
          "1997-07-01T00:00:00",
          "1997-08-01T00:00:00",
          "1997-09-01T00:00:00",
          "1997-10-01T00:00:00",
          "1997-11-01T00:00:00",
          "1997-12-01T00:00:00",
          "1998-01-01T00:00:00",
          "1998-02-01T00:00:00",
          "1998-03-01T00:00:00",
          "1998-04-01T00:00:00",
          "1998-05-01T00:00:00",
          "1998-06-01T00:00:00",
          "1998-07-01T00:00:00",
          "1998-08-01T00:00:00",
          "1998-09-01T00:00:00",
          "1998-10-01T00:00:00",
          "1998-11-01T00:00:00",
          "1998-12-01T00:00:00",
          "1999-01-01T00:00:00",
          "1999-02-01T00:00:00",
          "1999-03-01T00:00:00",
          "1999-04-01T00:00:00",
          "1999-05-01T00:00:00",
          "1999-06-01T00:00:00",
          "1999-07-01T00:00:00",
          "1999-08-01T00:00:00",
          "1999-09-01T00:00:00",
          "1999-10-01T00:00:00",
          "1999-11-01T00:00:00",
          "1999-12-01T00:00:00",
          "2000-01-01T00:00:00",
          "2000-02-01T00:00:00",
          "2000-03-01T00:00:00",
          "2000-04-01T00:00:00",
          "2000-05-01T00:00:00",
          "2000-06-01T00:00:00",
          "2000-07-01T00:00:00",
          "2000-08-01T00:00:00",
          "2000-09-01T00:00:00",
          "2000-10-01T00:00:00",
          "2000-11-01T00:00:00",
          "2000-12-01T00:00:00",
          "2001-01-01T00:00:00",
          "2001-02-01T00:00:00",
          "2001-03-01T00:00:00",
          "2001-04-01T00:00:00",
          "2001-05-01T00:00:00",
          "2001-06-01T00:00:00",
          "2001-07-01T00:00:00",
          "2001-08-01T00:00:00",
          "2001-09-01T00:00:00",
          "2001-10-01T00:00:00"
         ],
         "y": [
          11.3,
          102.2,
          82.1,
          24.8,
          33.9,
          null,
          null,
          null,
          null,
          null,
          null,
          null,
          25.5,
          94.1,
          228.3,
          10.4,
          2.5,
          null,
          null,
          null,
          null,
          null,
          null,
          null,
          null,
          78.6,
          66.2,
          59.5,
          19.9,
          null,
          null,
          null,
          null,
          null,
          null,
          null,
          21.3,
          108.9,
          40.7,
          23.2,
          21.7,
          null,
          null,
          null,
          null,
          null,
          null,
          null,
          3.6,
          73,
          42.3,
          17,
          5.4,
          null,
          null,
          null,
          null,
          null,
          null,
          null,
          18.9,
          71.1,
          52.9,
          12.9,
          13.1
         ]
        },
        {
         "line": {
          "color": "green",
          "width": 2
         },
         "mode": "lines",
         "name": "Simulated",
         "type": "scatter",
         "x": [
          "1996-06-01T00:00:00",
          "1996-07-01T00:00:00",
          "1996-08-01T00:00:00",
          "1996-09-01T00:00:00",
          "1996-10-01T00:00:00",
          "1996-11-01T00:00:00",
          "1996-12-01T00:00:00",
          "1997-01-01T00:00:00",
          "1997-02-01T00:00:00",
          "1997-03-01T00:00:00",
          "1997-04-01T00:00:00",
          "1997-05-01T00:00:00",
          "1997-06-01T00:00:00",
          "1997-07-01T00:00:00",
          "1997-08-01T00:00:00",
          "1997-09-01T00:00:00",
          "1997-10-01T00:00:00",
          "1997-11-01T00:00:00",
          "1997-12-01T00:00:00",
          "1998-01-01T00:00:00",
          "1998-02-01T00:00:00",
          "1998-03-01T00:00:00",
          "1998-04-01T00:00:00",
          "1998-05-01T00:00:00",
          "1998-06-01T00:00:00",
          "1998-07-01T00:00:00",
          "1998-08-01T00:00:00",
          "1998-09-01T00:00:00",
          "1998-10-01T00:00:00",
          "1998-11-01T00:00:00",
          "1998-12-01T00:00:00",
          "1999-01-01T00:00:00",
          "1999-02-01T00:00:00",
          "1999-03-01T00:00:00",
          "1999-04-01T00:00:00",
          "1999-05-01T00:00:00",
          "1999-06-01T00:00:00",
          "1999-07-01T00:00:00",
          "1999-08-01T00:00:00",
          "1999-09-01T00:00:00",
          "1999-10-01T00:00:00",
          "1999-11-01T00:00:00",
          "1999-12-01T00:00:00",
          "2000-01-01T00:00:00",
          "2000-02-01T00:00:00",
          "2000-03-01T00:00:00",
          "2000-04-01T00:00:00",
          "2000-05-01T00:00:00",
          "2000-06-01T00:00:00",
          "2000-07-01T00:00:00",
          "2000-08-01T00:00:00",
          "2000-09-01T00:00:00",
          "2000-10-01T00:00:00",
          "2000-11-01T00:00:00",
          "2000-12-01T00:00:00",
          "2001-01-01T00:00:00",
          "2001-02-01T00:00:00",
          "2001-03-01T00:00:00",
          "2001-04-01T00:00:00",
          "2001-05-01T00:00:00",
          "2001-06-01T00:00:00",
          "2001-07-01T00:00:00",
          "2001-08-01T00:00:00",
          "2001-09-01T00:00:00",
          "2001-10-01T00:00:00"
         ],
         "y": [
          53.00913619995117,
          135.524658203125,
          70.47416687011719,
          58.74995422363281,
          67.2888412475586,
          7.968915939331055,
          5.128734111785889,
          4.090205192565918,
          3.4934372901916504,
          2.685732841491699,
          3.449631929397583,
          1.7381925582885742,
          77.02632904052734,
          112.74302673339844,
          133.3173065185547,
          45.79523468017578,
          10.944443702697754,
          36.81538009643555,
          16.967824935913086,
          4.811495304107666,
          4.0545268058776855,
          3.1258015632629395,
          2.5490293502807617,
          1.6581333875656128,
          27.798995971679688,
          257.6626892089844,
          117.94187927246094,
          84.21693420410156,
          47.04331970214844,
          18.18389129638672,
          5.831834316253662,
          5.653725624084473,
          5.494247913360596,
          4.6604437828063965,
          4.039079189300537,
          8.228609085083008,
          52.60139465332031,
          93.90196228027344,
          41.39563751220703,
          64.42012023925781,
          57.84931182861328,
          7.71086311340332,
          6.034143924713135,
          5.373766899108887,
          4.908838748931885,
          4.200960636138916,
          3.29582142829895,
          8.40314769744873,
          42.62901306152344,
          124.06653594970703,
          76.8102035522461,
          51.251869201660156,
          21.60465431213379,
          8.301657676696777,
          5.718394756317139,
          6.200082302093506,
          5.376646995544434,
          4.657110214233398,
          4.0118489265441895,
          3.2381420135498047,
          27.039695739746094,
          56.95573043823242,
          64.71823120117188,
          44.00918197631836,
          52.027008056640625
         ]
        }
       ],
       "layout": {
        "template": {
         "data": {
          "bar": [
           {
            "error_x": {
             "color": "#2a3f5f"
            },
            "error_y": {
             "color": "#2a3f5f"
            },
            "marker": {
             "line": {
              "color": "#E5ECF6",
              "width": 0.5
             }
            },
            "type": "bar"
           }
          ],
          "barpolar": [
           {
            "marker": {
             "line": {
              "color": "#E5ECF6",
              "width": 0.5
             }
            },
            "type": "barpolar"
           }
          ],
          "carpet": [
           {
            "aaxis": {
             "endlinecolor": "#2a3f5f",
             "gridcolor": "white",
             "linecolor": "white",
             "minorgridcolor": "white",
             "startlinecolor": "#2a3f5f"
            },
            "baxis": {
             "endlinecolor": "#2a3f5f",
             "gridcolor": "white",
             "linecolor": "white",
             "minorgridcolor": "white",
             "startlinecolor": "#2a3f5f"
            },
            "type": "carpet"
           }
          ],
          "choropleth": [
           {
            "colorbar": {
             "outlinewidth": 0,
             "ticks": ""
            },
            "type": "choropleth"
           }
          ],
          "contour": [
           {
            "colorbar": {
             "outlinewidth": 0,
             "ticks": ""
            },
            "colorscale": [
             [
              0,
              "#0d0887"
             ],
             [
              0.1111111111111111,
              "#46039f"
             ],
             [
              0.2222222222222222,
              "#7201a8"
             ],
             [
              0.3333333333333333,
              "#9c179e"
             ],
             [
              0.4444444444444444,
              "#bd3786"
             ],
             [
              0.5555555555555556,
              "#d8576b"
             ],
             [
              0.6666666666666666,
              "#ed7953"
             ],
             [
              0.7777777777777778,
              "#fb9f3a"
             ],
             [
              0.8888888888888888,
              "#fdca26"
             ],
             [
              1,
              "#f0f921"
             ]
            ],
            "type": "contour"
           }
          ],
          "contourcarpet": [
           {
            "colorbar": {
             "outlinewidth": 0,
             "ticks": ""
            },
            "type": "contourcarpet"
           }
          ],
          "heatmap": [
           {
            "colorbar": {
             "outlinewidth": 0,
             "ticks": ""
            },
            "colorscale": [
             [
              0,
              "#0d0887"
             ],
             [
              0.1111111111111111,
              "#46039f"
             ],
             [
              0.2222222222222222,
              "#7201a8"
             ],
             [
              0.3333333333333333,
              "#9c179e"
             ],
             [
              0.4444444444444444,
              "#bd3786"
             ],
             [
              0.5555555555555556,
              "#d8576b"
             ],
             [
              0.6666666666666666,
              "#ed7953"
             ],
             [
              0.7777777777777778,
              "#fb9f3a"
             ],
             [
              0.8888888888888888,
              "#fdca26"
             ],
             [
              1,
              "#f0f921"
             ]
            ],
            "type": "heatmap"
           }
          ],
          "heatmapgl": [
           {
            "colorbar": {
             "outlinewidth": 0,
             "ticks": ""
            },
            "colorscale": [
             [
              0,
              "#0d0887"
             ],
             [
              0.1111111111111111,
              "#46039f"
             ],
             [
              0.2222222222222222,
              "#7201a8"
             ],
             [
              0.3333333333333333,
              "#9c179e"
             ],
             [
              0.4444444444444444,
              "#bd3786"
             ],
             [
              0.5555555555555556,
              "#d8576b"
             ],
             [
              0.6666666666666666,
              "#ed7953"
             ],
             [
              0.7777777777777778,
              "#fb9f3a"
             ],
             [
              0.8888888888888888,
              "#fdca26"
             ],
             [
              1,
              "#f0f921"
             ]
            ],
            "type": "heatmapgl"
           }
          ],
          "histogram": [
           {
            "marker": {
             "colorbar": {
              "outlinewidth": 0,
              "ticks": ""
             }
            },
            "type": "histogram"
           }
          ],
          "histogram2d": [
           {
            "colorbar": {
             "outlinewidth": 0,
             "ticks": ""
            },
            "colorscale": [
             [
              0,
              "#0d0887"
             ],
             [
              0.1111111111111111,
              "#46039f"
             ],
             [
              0.2222222222222222,
              "#7201a8"
             ],
             [
              0.3333333333333333,
              "#9c179e"
             ],
             [
              0.4444444444444444,
              "#bd3786"
             ],
             [
              0.5555555555555556,
              "#d8576b"
             ],
             [
              0.6666666666666666,
              "#ed7953"
             ],
             [
              0.7777777777777778,
              "#fb9f3a"
             ],
             [
              0.8888888888888888,
              "#fdca26"
             ],
             [
              1,
              "#f0f921"
             ]
            ],
            "type": "histogram2d"
           }
          ],
          "histogram2dcontour": [
           {
            "colorbar": {
             "outlinewidth": 0,
             "ticks": ""
            },
            "colorscale": [
             [
              0,
              "#0d0887"
             ],
             [
              0.1111111111111111,
              "#46039f"
             ],
             [
              0.2222222222222222,
              "#7201a8"
             ],
             [
              0.3333333333333333,
              "#9c179e"
             ],
             [
              0.4444444444444444,
              "#bd3786"
             ],
             [
              0.5555555555555556,
              "#d8576b"
             ],
             [
              0.6666666666666666,
              "#ed7953"
             ],
             [
              0.7777777777777778,
              "#fb9f3a"
             ],
             [
              0.8888888888888888,
              "#fdca26"
             ],
             [
              1,
              "#f0f921"
             ]
            ],
            "type": "histogram2dcontour"
           }
          ],
          "mesh3d": [
           {
            "colorbar": {
             "outlinewidth": 0,
             "ticks": ""
            },
            "type": "mesh3d"
           }
          ],
          "parcoords": [
           {
            "line": {
             "colorbar": {
              "outlinewidth": 0,
              "ticks": ""
             }
            },
            "type": "parcoords"
           }
          ],
          "pie": [
           {
            "automargin": true,
            "type": "pie"
           }
          ],
          "scatter": [
           {
            "marker": {
             "colorbar": {
              "outlinewidth": 0,
              "ticks": ""
             }
            },
            "type": "scatter"
           }
          ],
          "scatter3d": [
           {
            "line": {
             "colorbar": {
              "outlinewidth": 0,
              "ticks": ""
             }
            },
            "marker": {
             "colorbar": {
              "outlinewidth": 0,
              "ticks": ""
             }
            },
            "type": "scatter3d"
           }
          ],
          "scattercarpet": [
           {
            "marker": {
             "colorbar": {
              "outlinewidth": 0,
              "ticks": ""
             }
            },
            "type": "scattercarpet"
           }
          ],
          "scattergeo": [
           {
            "marker": {
             "colorbar": {
              "outlinewidth": 0,
              "ticks": ""
             }
            },
            "type": "scattergeo"
           }
          ],
          "scattergl": [
           {
            "marker": {
             "colorbar": {
              "outlinewidth": 0,
              "ticks": ""
             }
            },
            "type": "scattergl"
           }
          ],
          "scattermapbox": [
           {
            "marker": {
             "colorbar": {
              "outlinewidth": 0,
              "ticks": ""
             }
            },
            "type": "scattermapbox"
           }
          ],
          "scatterpolar": [
           {
            "marker": {
             "colorbar": {
              "outlinewidth": 0,
              "ticks": ""
             }
            },
            "type": "scatterpolar"
           }
          ],
          "scatterpolargl": [
           {
            "marker": {
             "colorbar": {
              "outlinewidth": 0,
              "ticks": ""
             }
            },
            "type": "scatterpolargl"
           }
          ],
          "scatterternary": [
           {
            "marker": {
             "colorbar": {
              "outlinewidth": 0,
              "ticks": ""
             }
            },
            "type": "scatterternary"
           }
          ],
          "surface": [
           {
            "colorbar": {
             "outlinewidth": 0,
             "ticks": ""
            },
            "colorscale": [
             [
              0,
              "#0d0887"
             ],
             [
              0.1111111111111111,
              "#46039f"
             ],
             [
              0.2222222222222222,
              "#7201a8"
             ],
             [
              0.3333333333333333,
              "#9c179e"
             ],
             [
              0.4444444444444444,
              "#bd3786"
             ],
             [
              0.5555555555555556,
              "#d8576b"
             ],
             [
              0.6666666666666666,
              "#ed7953"
             ],
             [
              0.7777777777777778,
              "#fb9f3a"
             ],
             [
              0.8888888888888888,
              "#fdca26"
             ],
             [
              1,
              "#f0f921"
             ]
            ],
            "type": "surface"
           }
          ],
          "table": [
           {
            "cells": {
             "fill": {
              "color": "#EBF0F8"
             },
             "line": {
              "color": "white"
             }
            },
            "header": {
             "fill": {
              "color": "#C8D4E3"
             },
             "line": {
              "color": "white"
             }
            },
            "type": "table"
           }
          ]
         },
         "layout": {
          "annotationdefaults": {
           "arrowcolor": "#2a3f5f",
           "arrowhead": 0,
           "arrowwidth": 1
          },
          "coloraxis": {
           "colorbar": {
            "outlinewidth": 0,
            "ticks": ""
           }
          },
          "colorscale": {
           "diverging": [
            [
             0,
             "#8e0152"
            ],
            [
             0.1,
             "#c51b7d"
            ],
            [
             0.2,
             "#de77ae"
            ],
            [
             0.3,
             "#f1b6da"
            ],
            [
             0.4,
             "#fde0ef"
            ],
            [
             0.5,
             "#f7f7f7"
            ],
            [
             0.6,
             "#e6f5d0"
            ],
            [
             0.7,
             "#b8e186"
            ],
            [
             0.8,
             "#7fbc41"
            ],
            [
             0.9,
             "#4d9221"
            ],
            [
             1,
             "#276419"
            ]
           ],
           "sequential": [
            [
             0,
             "#0d0887"
            ],
            [
             0.1111111111111111,
             "#46039f"
            ],
            [
             0.2222222222222222,
             "#7201a8"
            ],
            [
             0.3333333333333333,
             "#9c179e"
            ],
            [
             0.4444444444444444,
             "#bd3786"
            ],
            [
             0.5555555555555556,
             "#d8576b"
            ],
            [
             0.6666666666666666,
             "#ed7953"
            ],
            [
             0.7777777777777778,
             "#fb9f3a"
            ],
            [
             0.8888888888888888,
             "#fdca26"
            ],
            [
             1,
             "#f0f921"
            ]
           ],
           "sequentialminus": [
            [
             0,
             "#0d0887"
            ],
            [
             0.1111111111111111,
             "#46039f"
            ],
            [
             0.2222222222222222,
             "#7201a8"
            ],
            [
             0.3333333333333333,
             "#9c179e"
            ],
            [
             0.4444444444444444,
             "#bd3786"
            ],
            [
             0.5555555555555556,
             "#d8576b"
            ],
            [
             0.6666666666666666,
             "#ed7953"
            ],
            [
             0.7777777777777778,
             "#fb9f3a"
            ],
            [
             0.8888888888888888,
             "#fdca26"
            ],
            [
             1,
             "#f0f921"
            ]
           ]
          },
          "colorway": [
           "#636efa",
           "#EF553B",
           "#00cc96",
           "#ab63fa",
           "#FFA15A",
           "#19d3f3",
           "#FF6692",
           "#B6E880",
           "#FF97FF",
           "#FECB52"
          ],
          "font": {
           "color": "#2a3f5f"
          },
          "geo": {
           "bgcolor": "white",
           "lakecolor": "white",
           "landcolor": "#E5ECF6",
           "showlakes": true,
           "showland": true,
           "subunitcolor": "white"
          },
          "hoverlabel": {
           "align": "left"
          },
          "hovermode": "closest",
          "mapbox": {
           "style": "light"
          },
          "paper_bgcolor": "white",
          "plot_bgcolor": "#E5ECF6",
          "polar": {
           "angularaxis": {
            "gridcolor": "white",
            "linecolor": "white",
            "ticks": ""
           },
           "bgcolor": "#E5ECF6",
           "radialaxis": {
            "gridcolor": "white",
            "linecolor": "white",
            "ticks": ""
           }
          },
          "scene": {
           "xaxis": {
            "backgroundcolor": "#E5ECF6",
            "gridcolor": "white",
            "gridwidth": 2,
            "linecolor": "white",
            "showbackground": true,
            "ticks": "",
            "zerolinecolor": "white"
           },
           "yaxis": {
            "backgroundcolor": "#E5ECF6",
            "gridcolor": "white",
            "gridwidth": 2,
            "linecolor": "white",
            "showbackground": true,
            "ticks": "",
            "zerolinecolor": "white"
           },
           "zaxis": {
            "backgroundcolor": "#E5ECF6",
            "gridcolor": "white",
            "gridwidth": 2,
            "linecolor": "white",
            "showbackground": true,
            "ticks": "",
            "zerolinecolor": "white"
           }
          },
          "shapedefaults": {
           "line": {
            "color": "#2a3f5f"
           }
          },
          "ternary": {
           "aaxis": {
            "gridcolor": "white",
            "linecolor": "white",
            "ticks": ""
           },
           "baxis": {
            "gridcolor": "white",
            "linecolor": "white",
            "ticks": ""
           },
           "bgcolor": "#E5ECF6",
           "caxis": {
            "gridcolor": "white",
            "linecolor": "white",
            "ticks": ""
           }
          },
          "title": {
           "x": 0.05
          },
          "xaxis": {
           "automargin": true,
           "gridcolor": "white",
           "linecolor": "white",
           "ticks": "",
           "title": {
            "standoff": 15
           },
           "zerolinecolor": "white",
           "zerolinewidth": 2
          },
          "yaxis": {
           "automargin": true,
           "gridcolor": "white",
           "linecolor": "white",
           "ticks": "",
           "title": {
            "standoff": 15
           },
           "zerolinecolor": "white",
           "zerolinewidth": 2
          }
         }
        },
        "title": {
         "text": "Validation at G04 Nighoje"
        },
        "xaxis": {
         "title": {
          "text": "Month"
         }
        },
        "yaxis": {
         "range": [
          0,
          257.6626892089844
         ],
         "title": {
          "text": "Discharge (m3/s) mean"
         }
        }
       }
      },
      "text/html": [
       "<div>\n",
       "        \n",
       "        \n",
       "            <div id=\"de26e8c4-84ea-4308-bea5-1a076c1b5326\" class=\"plotly-graph-div\" style=\"height:525px; width:100%;\"></div>\n",
       "            <script type=\"text/javascript\">\n",
       "                require([\"plotly\"], function(Plotly) {\n",
       "                    window.PLOTLYENV=window.PLOTLYENV || {};\n",
       "                    \n",
       "                if (document.getElementById(\"de26e8c4-84ea-4308-bea5-1a076c1b5326\")) {\n",
       "                    Plotly.newPlot(\n",
       "                        'de26e8c4-84ea-4308-bea5-1a076c1b5326',\n",
       "                        [{\"line\": {\"color\": \"blue\", \"width\": 2}, \"marker\": {\"color\": \"blue\", \"size\": 8}, \"mode\": \"lines+markers\", \"name\": \"Observed\", \"type\": \"scatter\", \"x\": [\"1996-06-01T00:00:00\", \"1996-07-01T00:00:00\", \"1996-08-01T00:00:00\", \"1996-09-01T00:00:00\", \"1996-10-01T00:00:00\", \"1996-11-01T00:00:00\", \"1996-12-01T00:00:00\", \"1997-01-01T00:00:00\", \"1997-02-01T00:00:00\", \"1997-03-01T00:00:00\", \"1997-04-01T00:00:00\", \"1997-05-01T00:00:00\", \"1997-06-01T00:00:00\", \"1997-07-01T00:00:00\", \"1997-08-01T00:00:00\", \"1997-09-01T00:00:00\", \"1997-10-01T00:00:00\", \"1997-11-01T00:00:00\", \"1997-12-01T00:00:00\", \"1998-01-01T00:00:00\", \"1998-02-01T00:00:00\", \"1998-03-01T00:00:00\", \"1998-04-01T00:00:00\", \"1998-05-01T00:00:00\", \"1998-06-01T00:00:00\", \"1998-07-01T00:00:00\", \"1998-08-01T00:00:00\", \"1998-09-01T00:00:00\", \"1998-10-01T00:00:00\", \"1998-11-01T00:00:00\", \"1998-12-01T00:00:00\", \"1999-01-01T00:00:00\", \"1999-02-01T00:00:00\", \"1999-03-01T00:00:00\", \"1999-04-01T00:00:00\", \"1999-05-01T00:00:00\", \"1999-06-01T00:00:00\", \"1999-07-01T00:00:00\", \"1999-08-01T00:00:00\", \"1999-09-01T00:00:00\", \"1999-10-01T00:00:00\", \"1999-11-01T00:00:00\", \"1999-12-01T00:00:00\", \"2000-01-01T00:00:00\", \"2000-02-01T00:00:00\", \"2000-03-01T00:00:00\", \"2000-04-01T00:00:00\", \"2000-05-01T00:00:00\", \"2000-06-01T00:00:00\", \"2000-07-01T00:00:00\", \"2000-08-01T00:00:00\", \"2000-09-01T00:00:00\", \"2000-10-01T00:00:00\", \"2000-11-01T00:00:00\", \"2000-12-01T00:00:00\", \"2001-01-01T00:00:00\", \"2001-02-01T00:00:00\", \"2001-03-01T00:00:00\", \"2001-04-01T00:00:00\", \"2001-05-01T00:00:00\", \"2001-06-01T00:00:00\", \"2001-07-01T00:00:00\", \"2001-08-01T00:00:00\", \"2001-09-01T00:00:00\", \"2001-10-01T00:00:00\"], \"y\": [11.3, 102.2, 82.1, 24.8, 33.9, null, null, null, null, null, null, null, 25.5, 94.1, 228.3, 10.4, 2.5, null, null, null, null, null, null, null, null, 78.6, 66.2, 59.5, 19.9, null, null, null, null, null, null, null, 21.3, 108.9, 40.7, 23.2, 21.7, null, null, null, null, null, null, null, 3.6, 73.0, 42.3, 17.0, 5.4, null, null, null, null, null, null, null, 18.9, 71.1, 52.9, 12.9, 13.1]}, {\"line\": {\"color\": \"green\", \"width\": 2}, \"mode\": \"lines\", \"name\": \"Simulated\", \"type\": \"scatter\", \"x\": [\"1996-06-01T00:00:00\", \"1996-07-01T00:00:00\", \"1996-08-01T00:00:00\", \"1996-09-01T00:00:00\", \"1996-10-01T00:00:00\", \"1996-11-01T00:00:00\", \"1996-12-01T00:00:00\", \"1997-01-01T00:00:00\", \"1997-02-01T00:00:00\", \"1997-03-01T00:00:00\", \"1997-04-01T00:00:00\", \"1997-05-01T00:00:00\", \"1997-06-01T00:00:00\", \"1997-07-01T00:00:00\", \"1997-08-01T00:00:00\", \"1997-09-01T00:00:00\", \"1997-10-01T00:00:00\", \"1997-11-01T00:00:00\", \"1997-12-01T00:00:00\", \"1998-01-01T00:00:00\", \"1998-02-01T00:00:00\", \"1998-03-01T00:00:00\", \"1998-04-01T00:00:00\", \"1998-05-01T00:00:00\", \"1998-06-01T00:00:00\", \"1998-07-01T00:00:00\", \"1998-08-01T00:00:00\", \"1998-09-01T00:00:00\", \"1998-10-01T00:00:00\", \"1998-11-01T00:00:00\", \"1998-12-01T00:00:00\", \"1999-01-01T00:00:00\", \"1999-02-01T00:00:00\", \"1999-03-01T00:00:00\", \"1999-04-01T00:00:00\", \"1999-05-01T00:00:00\", \"1999-06-01T00:00:00\", \"1999-07-01T00:00:00\", \"1999-08-01T00:00:00\", \"1999-09-01T00:00:00\", \"1999-10-01T00:00:00\", \"1999-11-01T00:00:00\", \"1999-12-01T00:00:00\", \"2000-01-01T00:00:00\", \"2000-02-01T00:00:00\", \"2000-03-01T00:00:00\", \"2000-04-01T00:00:00\", \"2000-05-01T00:00:00\", \"2000-06-01T00:00:00\", \"2000-07-01T00:00:00\", \"2000-08-01T00:00:00\", \"2000-09-01T00:00:00\", \"2000-10-01T00:00:00\", \"2000-11-01T00:00:00\", \"2000-12-01T00:00:00\", \"2001-01-01T00:00:00\", \"2001-02-01T00:00:00\", \"2001-03-01T00:00:00\", \"2001-04-01T00:00:00\", \"2001-05-01T00:00:00\", \"2001-06-01T00:00:00\", \"2001-07-01T00:00:00\", \"2001-08-01T00:00:00\", \"2001-09-01T00:00:00\", \"2001-10-01T00:00:00\"], \"y\": [53.00913619995117, 135.524658203125, 70.47416687011719, 58.74995422363281, 67.2888412475586, 7.968915939331055, 5.128734111785889, 4.090205192565918, 3.4934372901916504, 2.685732841491699, 3.449631929397583, 1.7381925582885742, 77.02632904052734, 112.74302673339844, 133.3173065185547, 45.79523468017578, 10.944443702697754, 36.81538009643555, 16.967824935913086, 4.811495304107666, 4.0545268058776855, 3.1258015632629395, 2.5490293502807617, 1.6581333875656128, 27.798995971679688, 257.6626892089844, 117.94187927246094, 84.21693420410156, 47.04331970214844, 18.18389129638672, 5.831834316253662, 5.653725624084473, 5.494247913360596, 4.6604437828063965, 4.039079189300537, 8.228609085083008, 52.60139465332031, 93.90196228027344, 41.39563751220703, 64.42012023925781, 57.84931182861328, 7.71086311340332, 6.034143924713135, 5.373766899108887, 4.908838748931885, 4.200960636138916, 3.29582142829895, 8.40314769744873, 42.62901306152344, 124.06653594970703, 76.8102035522461, 51.251869201660156, 21.60465431213379, 8.301657676696777, 5.718394756317139, 6.200082302093506, 5.376646995544434, 4.657110214233398, 4.0118489265441895, 3.2381420135498047, 27.039695739746094, 56.95573043823242, 64.71823120117188, 44.00918197631836, 52.027008056640625]}],\n",
       "                        {\"template\": {\"data\": {\"bar\": [{\"error_x\": {\"color\": \"#2a3f5f\"}, \"error_y\": {\"color\": \"#2a3f5f\"}, \"marker\": {\"line\": {\"color\": \"#E5ECF6\", \"width\": 0.5}}, \"type\": \"bar\"}], \"barpolar\": [{\"marker\": {\"line\": {\"color\": \"#E5ECF6\", \"width\": 0.5}}, \"type\": \"barpolar\"}], \"carpet\": [{\"aaxis\": {\"endlinecolor\": \"#2a3f5f\", \"gridcolor\": \"white\", \"linecolor\": \"white\", \"minorgridcolor\": \"white\", \"startlinecolor\": \"#2a3f5f\"}, \"baxis\": {\"endlinecolor\": \"#2a3f5f\", \"gridcolor\": \"white\", \"linecolor\": \"white\", \"minorgridcolor\": \"white\", \"startlinecolor\": \"#2a3f5f\"}, \"type\": \"carpet\"}], \"choropleth\": [{\"colorbar\": {\"outlinewidth\": 0, \"ticks\": \"\"}, \"type\": \"choropleth\"}], \"contour\": [{\"colorbar\": {\"outlinewidth\": 0, \"ticks\": \"\"}, \"colorscale\": [[0.0, \"#0d0887\"], [0.1111111111111111, \"#46039f\"], [0.2222222222222222, \"#7201a8\"], [0.3333333333333333, \"#9c179e\"], [0.4444444444444444, \"#bd3786\"], [0.5555555555555556, \"#d8576b\"], [0.6666666666666666, \"#ed7953\"], [0.7777777777777778, \"#fb9f3a\"], [0.8888888888888888, \"#fdca26\"], [1.0, \"#f0f921\"]], \"type\": \"contour\"}], \"contourcarpet\": [{\"colorbar\": {\"outlinewidth\": 0, \"ticks\": \"\"}, \"type\": \"contourcarpet\"}], \"heatmap\": [{\"colorbar\": {\"outlinewidth\": 0, \"ticks\": \"\"}, \"colorscale\": [[0.0, \"#0d0887\"], [0.1111111111111111, \"#46039f\"], [0.2222222222222222, \"#7201a8\"], [0.3333333333333333, \"#9c179e\"], [0.4444444444444444, \"#bd3786\"], [0.5555555555555556, \"#d8576b\"], [0.6666666666666666, \"#ed7953\"], [0.7777777777777778, \"#fb9f3a\"], [0.8888888888888888, \"#fdca26\"], [1.0, \"#f0f921\"]], \"type\": \"heatmap\"}], \"heatmapgl\": [{\"colorbar\": {\"outlinewidth\": 0, \"ticks\": \"\"}, \"colorscale\": [[0.0, \"#0d0887\"], [0.1111111111111111, \"#46039f\"], [0.2222222222222222, \"#7201a8\"], [0.3333333333333333, \"#9c179e\"], [0.4444444444444444, \"#bd3786\"], [0.5555555555555556, \"#d8576b\"], [0.6666666666666666, \"#ed7953\"], [0.7777777777777778, \"#fb9f3a\"], [0.8888888888888888, \"#fdca26\"], [1.0, \"#f0f921\"]], \"type\": \"heatmapgl\"}], \"histogram\": [{\"marker\": {\"colorbar\": {\"outlinewidth\": 0, \"ticks\": \"\"}}, \"type\": \"histogram\"}], \"histogram2d\": [{\"colorbar\": {\"outlinewidth\": 0, \"ticks\": \"\"}, \"colorscale\": [[0.0, \"#0d0887\"], [0.1111111111111111, \"#46039f\"], [0.2222222222222222, \"#7201a8\"], [0.3333333333333333, \"#9c179e\"], [0.4444444444444444, \"#bd3786\"], [0.5555555555555556, \"#d8576b\"], [0.6666666666666666, \"#ed7953\"], [0.7777777777777778, \"#fb9f3a\"], [0.8888888888888888, \"#fdca26\"], [1.0, \"#f0f921\"]], \"type\": \"histogram2d\"}], \"histogram2dcontour\": [{\"colorbar\": {\"outlinewidth\": 0, \"ticks\": \"\"}, \"colorscale\": [[0.0, \"#0d0887\"], [0.1111111111111111, \"#46039f\"], [0.2222222222222222, \"#7201a8\"], [0.3333333333333333, \"#9c179e\"], [0.4444444444444444, \"#bd3786\"], [0.5555555555555556, \"#d8576b\"], [0.6666666666666666, \"#ed7953\"], [0.7777777777777778, \"#fb9f3a\"], [0.8888888888888888, \"#fdca26\"], [1.0, \"#f0f921\"]], \"type\": \"histogram2dcontour\"}], \"mesh3d\": [{\"colorbar\": {\"outlinewidth\": 0, \"ticks\": \"\"}, \"type\": \"mesh3d\"}], \"parcoords\": [{\"line\": {\"colorbar\": {\"outlinewidth\": 0, \"ticks\": \"\"}}, \"type\": \"parcoords\"}], \"pie\": [{\"automargin\": true, \"type\": \"pie\"}], \"scatter\": [{\"marker\": {\"colorbar\": {\"outlinewidth\": 0, \"ticks\": \"\"}}, \"type\": \"scatter\"}], \"scatter3d\": [{\"line\": {\"colorbar\": {\"outlinewidth\": 0, \"ticks\": \"\"}}, \"marker\": {\"colorbar\": {\"outlinewidth\": 0, \"ticks\": \"\"}}, \"type\": \"scatter3d\"}], \"scattercarpet\": [{\"marker\": {\"colorbar\": {\"outlinewidth\": 0, \"ticks\": \"\"}}, \"type\": \"scattercarpet\"}], \"scattergeo\": [{\"marker\": {\"colorbar\": {\"outlinewidth\": 0, \"ticks\": \"\"}}, \"type\": \"scattergeo\"}], \"scattergl\": [{\"marker\": {\"colorbar\": {\"outlinewidth\": 0, \"ticks\": \"\"}}, \"type\": \"scattergl\"}], \"scattermapbox\": [{\"marker\": {\"colorbar\": {\"outlinewidth\": 0, \"ticks\": \"\"}}, \"type\": \"scattermapbox\"}], \"scatterpolar\": [{\"marker\": {\"colorbar\": {\"outlinewidth\": 0, \"ticks\": \"\"}}, \"type\": \"scatterpolar\"}], \"scatterpolargl\": [{\"marker\": {\"colorbar\": {\"outlinewidth\": 0, \"ticks\": \"\"}}, \"type\": \"scatterpolargl\"}], \"scatterternary\": [{\"marker\": {\"colorbar\": {\"outlinewidth\": 0, \"ticks\": \"\"}}, \"type\": \"scatterternary\"}], \"surface\": [{\"colorbar\": {\"outlinewidth\": 0, \"ticks\": \"\"}, \"colorscale\": [[0.0, \"#0d0887\"], [0.1111111111111111, \"#46039f\"], [0.2222222222222222, \"#7201a8\"], [0.3333333333333333, \"#9c179e\"], [0.4444444444444444, \"#bd3786\"], [0.5555555555555556, \"#d8576b\"], [0.6666666666666666, \"#ed7953\"], [0.7777777777777778, \"#fb9f3a\"], [0.8888888888888888, \"#fdca26\"], [1.0, \"#f0f921\"]], \"type\": \"surface\"}], \"table\": [{\"cells\": {\"fill\": {\"color\": \"#EBF0F8\"}, \"line\": {\"color\": \"white\"}}, \"header\": {\"fill\": {\"color\": \"#C8D4E3\"}, \"line\": {\"color\": \"white\"}}, \"type\": \"table\"}]}, \"layout\": {\"annotationdefaults\": {\"arrowcolor\": \"#2a3f5f\", \"arrowhead\": 0, \"arrowwidth\": 1}, \"coloraxis\": {\"colorbar\": {\"outlinewidth\": 0, \"ticks\": \"\"}}, \"colorscale\": {\"diverging\": [[0, \"#8e0152\"], [0.1, \"#c51b7d\"], [0.2, \"#de77ae\"], [0.3, \"#f1b6da\"], [0.4, \"#fde0ef\"], [0.5, \"#f7f7f7\"], [0.6, \"#e6f5d0\"], [0.7, \"#b8e186\"], [0.8, \"#7fbc41\"], [0.9, \"#4d9221\"], [1, \"#276419\"]], \"sequential\": [[0.0, \"#0d0887\"], [0.1111111111111111, \"#46039f\"], [0.2222222222222222, \"#7201a8\"], [0.3333333333333333, \"#9c179e\"], [0.4444444444444444, \"#bd3786\"], [0.5555555555555556, \"#d8576b\"], [0.6666666666666666, \"#ed7953\"], [0.7777777777777778, \"#fb9f3a\"], [0.8888888888888888, \"#fdca26\"], [1.0, \"#f0f921\"]], \"sequentialminus\": [[0.0, \"#0d0887\"], [0.1111111111111111, \"#46039f\"], [0.2222222222222222, \"#7201a8\"], [0.3333333333333333, \"#9c179e\"], [0.4444444444444444, \"#bd3786\"], [0.5555555555555556, \"#d8576b\"], [0.6666666666666666, \"#ed7953\"], [0.7777777777777778, \"#fb9f3a\"], [0.8888888888888888, \"#fdca26\"], [1.0, \"#f0f921\"]]}, \"colorway\": [\"#636efa\", \"#EF553B\", \"#00cc96\", \"#ab63fa\", \"#FFA15A\", \"#19d3f3\", \"#FF6692\", \"#B6E880\", \"#FF97FF\", \"#FECB52\"], \"font\": {\"color\": \"#2a3f5f\"}, \"geo\": {\"bgcolor\": \"white\", \"lakecolor\": \"white\", \"landcolor\": \"#E5ECF6\", \"showlakes\": true, \"showland\": true, \"subunitcolor\": \"white\"}, \"hoverlabel\": {\"align\": \"left\"}, \"hovermode\": \"closest\", \"mapbox\": {\"style\": \"light\"}, \"paper_bgcolor\": \"white\", \"plot_bgcolor\": \"#E5ECF6\", \"polar\": {\"angularaxis\": {\"gridcolor\": \"white\", \"linecolor\": \"white\", \"ticks\": \"\"}, \"bgcolor\": \"#E5ECF6\", \"radialaxis\": {\"gridcolor\": \"white\", \"linecolor\": \"white\", \"ticks\": \"\"}}, \"scene\": {\"xaxis\": {\"backgroundcolor\": \"#E5ECF6\", \"gridcolor\": \"white\", \"gridwidth\": 2, \"linecolor\": \"white\", \"showbackground\": true, \"ticks\": \"\", \"zerolinecolor\": \"white\"}, \"yaxis\": {\"backgroundcolor\": \"#E5ECF6\", \"gridcolor\": \"white\", \"gridwidth\": 2, \"linecolor\": \"white\", \"showbackground\": true, \"ticks\": \"\", \"zerolinecolor\": \"white\"}, \"zaxis\": {\"backgroundcolor\": \"#E5ECF6\", \"gridcolor\": \"white\", \"gridwidth\": 2, \"linecolor\": \"white\", \"showbackground\": true, \"ticks\": \"\", \"zerolinecolor\": \"white\"}}, \"shapedefaults\": {\"line\": {\"color\": \"#2a3f5f\"}}, \"ternary\": {\"aaxis\": {\"gridcolor\": \"white\", \"linecolor\": \"white\", \"ticks\": \"\"}, \"baxis\": {\"gridcolor\": \"white\", \"linecolor\": \"white\", \"ticks\": \"\"}, \"bgcolor\": \"#E5ECF6\", \"caxis\": {\"gridcolor\": \"white\", \"linecolor\": \"white\", \"ticks\": \"\"}}, \"title\": {\"x\": 0.05}, \"xaxis\": {\"automargin\": true, \"gridcolor\": \"white\", \"linecolor\": \"white\", \"ticks\": \"\", \"title\": {\"standoff\": 15}, \"zerolinecolor\": \"white\", \"zerolinewidth\": 2}, \"yaxis\": {\"automargin\": true, \"gridcolor\": \"white\", \"linecolor\": \"white\", \"ticks\": \"\", \"title\": {\"standoff\": 15}, \"zerolinecolor\": \"white\", \"zerolinewidth\": 2}}}, \"title\": {\"text\": \"Validation at G04 Nighoje\"}, \"xaxis\": {\"title\": {\"text\": \"Month\"}}, \"yaxis\": {\"range\": [0, 257.6626892089844], \"title\": {\"text\": \"Discharge (m3/s) mean\"}}},\n",
       "                        {\"responsive\": true}\n",
       "                    ).then(function(){\n",
       "                            \n",
       "var gd = document.getElementById('de26e8c4-84ea-4308-bea5-1a076c1b5326');\n",
       "var x = new MutationObserver(function (mutations, observer) {{\n",
       "        var display = window.getComputedStyle(gd).display;\n",
       "        if (!display || display === 'none') {{\n",
       "            console.log([gd, 'removed!']);\n",
       "            Plotly.purge(gd);\n",
       "            observer.disconnect();\n",
       "        }}\n",
       "}});\n",
       "\n",
       "// Listen for the removal of the full notebook cells\n",
       "var notebookContainer = gd.closest('#notebook-container');\n",
       "if (notebookContainer) {{\n",
       "    x.observe(notebookContainer, {childList: true});\n",
       "}}\n",
       "\n",
       "// Listen for the clearing of the current output cell\n",
       "var outputEl = gd.closest('.output');\n",
       "if (outputEl) {{\n",
       "    x.observe(outputEl, {childList: true});\n",
       "}}\n",
       "\n",
       "                        })\n",
       "                };\n",
       "                });\n",
       "            </script>\n",
       "        </div>"
      ]
     },
     "metadata": {},
     "output_type": "display_data"
    }
   ],
   "source": [
    "\n",
    "max1 = np.nanmax(ts2_cal)\n",
    "max2 = np.nanmax(ts2_val)\n",
    "max = np.nanmax([max,max1,max2])\n",
    "\n",
    "\n",
    "fig = go.Figure()\n",
    "\n",
    "fig.add_trace(go.Scatter(y=Qobs_cal,x=dates_cal,mode='lines+markers', name='Observed',  marker = dict(color='blue', size=8), line = dict(color='blue', width=2)))\n",
    "#fig.add_trace(go.Scatter(y=Qsim_cal,x=dates_cal,mode='lines', name='Simulated',  line = dict(color='red', width=4, dash='dot')))\n",
    "#fig.add_trace(go.Scatter(y=ts1_cal,x=dates_cal,mode='lines', name='SimMod30', line = dict(color='orange', width=2)))\n",
    "fig.add_trace(go.Scatter(y=ts2_cal,x=dates_cal,mode='lines', name='Simulated', line = dict(color='green', width=2)))\n",
    "#fig.add_trace(go.Scatter(y=ts2_cal,x=dates_cal,mode='lines', name='SimMod7', line = dict(color='red', width=2)))\n",
    "#fig.add_trace(go.Scatter(y=ts3_cal,x=dates_cal,mode='lines', name='Netcdf_7'))\n",
    "\n",
    "fig.update_yaxes(range=[0, max])\n",
    "fig.update_layout(title='Calibration at '+ name, xaxis_title = 'Month', yaxis_title = 'Discharge (m3/s) mean')\n",
    "#fig.update_xaxes(rangeslider_visible=True)\n",
    "fig.show()\n",
    "#------\n",
    "\n",
    "fig = go.Figure()\n",
    "\n",
    "fig.add_trace(go.Scatter(y=Qobs_val,x=dates_val,mode='lines+markers', name='Observed',  marker = dict(color='blue', size=8), line = dict(color='blue', width=2)))\n",
    "#fig.add_trace(go.Scatter(y=Qsim_val,x=dates_val,mode='lines', name='Simulated',  line = dict(color='red', width=4, dash='dot')))\n",
    "#fig.add_trace(go.Scatter(y=ts1_val,x=dates_val,mode='lines', name='SimMod30', line = dict(color='orange', width=2)))\n",
    "fig.add_trace(go.Scatter(y=ts2_val,x=dates_val,mode='lines', name='Simulated', line = dict(color='green', width=2)))\n",
    "#fig.add_trace(go.Scatter(y=ts2_val,x=dates_val,mode='lines', name='SimMod7', line = dict(color='red', width=2)))\n",
    "#fig.add_trace(go.Scatter(y=ts3_val,x=dates_val,mode='lines', name='Netcdf_7'))\n",
    "\n",
    "fig.update_yaxes(range=[0, max])\n",
    "fig.update_layout(title='Validation at '+ name, xaxis_title = 'Month', yaxis_title = 'Discharge (m3/s) mean')\n",
    "\n",
    "fig.show()\n",
    "\n",
    "\n",
    "#fig = go.Figure()\n",
    "\n",
    "#fig.add_trace(go.Scatter(y=Qobs_val2,x=dates_val2,mode='lines+markers', name='Observed',  marker = dict(color='blue', size=8), line = dict(color='blue', width=2)))\n",
    "##fig.add_trace(go.Scatter(y=Qsim_val,x=dates_val,mode='lines', name='Simulated',  line = dict(color='red', width=4, dash='dot')))\n",
    "##fig.add_trace(go.Scatter(y=ts1_val,x=dates_val,mode='lines', name='SimMod30', line = dict(color='orange', width=2)))\n",
    "##fig.add_trace(go.Scatter(y=ts2_val,x=dates_val,mode='lines', name='SimMod7', line = dict(color='green', width=2)))\n",
    "#fig.add_trace(go.Scatter(y=ts2_val2,x=dates_val2,mode='lines', name='SimMod7', line = dict(color='red', width=2)))\n",
    "##fig.add_trace(go.Scatter(y=ts3_val,x=dates_val,mode='lines', name='Netcdf_7'))\n",
    "\n",
    "#fig.update_yaxes(range=[0, max])\n",
    "#fig.update_layout(title='Validation at '+ name, xaxis_title = 'Month', yaxis_title = 'Discharge (m3/s)')\n",
    "\n",
    "#fig.show()\n"
   ]
  },
  {
   "cell_type": "markdown",
   "id": "young-above",
   "metadata": {},
   "source": [
    "## Statistical values\n",
    "### Observation vs. simulation"
   ]
  },
  {
   "cell_type": "code",
   "execution_count": 135,
   "id": "adult-record",
   "metadata": {
    "jupyter": {
     "source_hidden": true
    },
    "tags": []
   },
   "outputs": [
    {
     "name": "stdout",
     "output_type": "stream",
     "text": [
      "G04 - Nighoje\n"
     ]
    },
    {
     "data": {
      "text/html": [
       "<div>\n",
       "<style scoped>\n",
       "    .dataframe tbody tr th:only-of-type {\n",
       "        vertical-align: middle;\n",
       "    }\n",
       "\n",
       "    .dataframe tbody tr th {\n",
       "        vertical-align: top;\n",
       "    }\n",
       "\n",
       "    .dataframe thead th {\n",
       "        text-align: right;\n",
       "    }\n",
       "</style>\n",
       "<table border=\"1\" class=\"dataframe\">\n",
       "  <thead>\n",
       "    <tr style=\"text-align: right;\">\n",
       "      <th></th>\n",
       "      <th>Obs cal</th>\n",
       "      <th>Sim cal</th>\n",
       "      <th>Obs val</th>\n",
       "      <th>Sim val</th>\n",
       "    </tr>\n",
       "  </thead>\n",
       "  <tbody>\n",
       "    <tr>\n",
       "      <th>KGE</th>\n",
       "      <td></td>\n",
       "      <td>0.64</td>\n",
       "      <td></td>\n",
       "      <td>0.23</td>\n",
       "    </tr>\n",
       "    <tr>\n",
       "      <th>NS</th>\n",
       "      <td></td>\n",
       "      <td>0.80</td>\n",
       "      <td></td>\n",
       "      <td>-0.11</td>\n",
       "    </tr>\n",
       "    <tr>\n",
       "      <th>R$^{2}$</th>\n",
       "      <td></td>\n",
       "      <td>0.92</td>\n",
       "      <td></td>\n",
       "      <td>0.62</td>\n",
       "    </tr>\n",
       "    <tr>\n",
       "      <th>Bias</th>\n",
       "      <td></td>\n",
       "      <td>18.9</td>\n",
       "      <td></td>\n",
       "      <td>57.0</td>\n",
       "    </tr>\n",
       "    <tr>\n",
       "      <th>RMSE</th>\n",
       "      <td></td>\n",
       "      <td>30</td>\n",
       "      <td></td>\n",
       "      <td>49</td>\n",
       "    </tr>\n",
       "    <tr>\n",
       "      <th>MAE</th>\n",
       "      <td></td>\n",
       "      <td>23</td>\n",
       "      <td></td>\n",
       "      <td>36</td>\n",
       "    </tr>\n",
       "    <tr>\n",
       "      <th></th>\n",
       "      <td></td>\n",
       "      <td></td>\n",
       "      <td></td>\n",
       "      <td></td>\n",
       "    </tr>\n",
       "    <tr>\n",
       "      <th>Mean</th>\n",
       "      <td>67</td>\n",
       "      <td>80</td>\n",
       "      <td>47</td>\n",
       "      <td>74</td>\n",
       "    </tr>\n",
       "    <tr>\n",
       "      <th>Min</th>\n",
       "      <td>1</td>\n",
       "      <td>7</td>\n",
       "      <td>2</td>\n",
       "      <td>11</td>\n",
       "    </tr>\n",
       "    <tr>\n",
       "      <th>5%</th>\n",
       "      <td>4</td>\n",
       "      <td>15</td>\n",
       "      <td>4</td>\n",
       "      <td>24</td>\n",
       "    </tr>\n",
       "    <tr>\n",
       "      <th>50%</th>\n",
       "      <td>39</td>\n",
       "      <td>67</td>\n",
       "      <td>26</td>\n",
       "      <td>59</td>\n",
       "    </tr>\n",
       "    <tr>\n",
       "      <th>95%</th>\n",
       "      <td>200</td>\n",
       "      <td>179</td>\n",
       "      <td>106</td>\n",
       "      <td>135</td>\n",
       "    </tr>\n",
       "    <tr>\n",
       "      <th>99%</th>\n",
       "      <td>245</td>\n",
       "      <td>224</td>\n",
       "      <td>195</td>\n",
       "      <td>223</td>\n",
       "    </tr>\n",
       "    <tr>\n",
       "      <th>Max</th>\n",
       "      <td>258</td>\n",
       "      <td>241</td>\n",
       "      <td>228</td>\n",
       "      <td>258</td>\n",
       "    </tr>\n",
       "  </tbody>\n",
       "</table>\n",
       "</div>"
      ],
      "text/plain": [
       "        Obs cal Sim cal Obs val Sim val\n",
       "KGE                0.64            0.23\n",
       "NS                 0.80           -0.11\n",
       "R$^{2}$            0.92            0.62\n",
       "Bias               18.9            57.0\n",
       "RMSE                 30              49\n",
       "MAE                  23              36\n",
       "                                       \n",
       "Mean         67      80      47      74\n",
       "Min           1       7       2      11\n",
       "5%            4      15       4      24\n",
       "50%          39      67      26      59\n",
       "95%         200     179     106     135\n",
       "99%         245     224     195     223\n",
       "Max         258     241     228     258"
      ]
     },
     "execution_count": 135,
     "metadata": {},
     "output_type": "execute_result"
    }
   ],
   "source": [
    "import pandas as pd\n",
    "\n",
    "\n",
    "o = Qobs_cal.values\n",
    "s = []\n",
    "s2= []\n",
    "for i in range(len(o)):\n",
    "    if not (np.isnan(o[i])):\n",
    "        #s.append(Qsim_cal[i])\n",
    "        s.append(ts2_cal[i])\n",
    "        s2.append(ts2_cal[i])\n",
    "scal = np.asarray(s)\n",
    "scal2 = np.asarray(s2)\n",
    "ocal = o[~np.isnan(o)]\n",
    "\n",
    "o = Qobs_val.values\n",
    "s = []\n",
    "s2 = []\n",
    "for i in range(len(o)):\n",
    "    if not (np.isnan(o[i])):\n",
    "        #s.append(Qsim_val[i])\n",
    "        s.append(ts2_val[i])\n",
    "        s2.append(ts2_val[i])\n",
    "sval = np.asarray(s)\n",
    "sval2 = np.asarray(s)\n",
    "oval = o[~np.isnan(o)]\n",
    "\n",
    "\n",
    "print (stationdata['ID'],\"-\", stationdata['Station'])\n",
    "df=pd.DataFrame({\"Obs Cal.\":['',\n",
    "                        '',\n",
    "                        '',\n",
    "                        '',\n",
    "                        '',\n",
    "                        '',\n",
    "                        '',\n",
    "                         \"{0:.0f}\".format(np.mean(ocal)),\n",
    "                        \"{0:.0f}\".format(np.min(ocal)),\n",
    "                        \"{0:.0f}\".format(np.percentile(ocal,5)),\n",
    "                        \"{0:.0f}\".format(np.percentile(ocal,50)),\n",
    "                        \"{0:.0f}\".format(np.percentile(ocal,95)),\n",
    "                        \"{0:.0f}\".format(np.percentile(ocal,99)),\n",
    "                        \"{0:.0f}\".format(np.max(ocal))                         \n",
    "                       ],\n",
    "                 \"Sim Cal.\":[\"{0:.2f}\".format(hydroStats.KGE(s=scal, o=ocal, warmup=0)),\n",
    "                        \"{0:.2f}\".format(hydroStats.NS(s=scal, o=ocal, warmup=0)),\n",
    "                        \"{0:.2f}\".format(hydroStats.correlation(s=scal, o=ocal, warmup=0)),\n",
    "                        \"{0:.1f}\".format(hydroStats.pc_bias2(s=scal, o=ocal, warmup=0)),\n",
    "                        \"{0:.0f}\".format(hydroStats.rmse(s=scal, o=ocal, warmup=0)),\n",
    "                        \"{0:.0f}\".format(hydroStats.mae(s=scal, o=ocal, warmup=0)),\n",
    "                        \"\",\n",
    "                        \"{0:.0f}\".format(np.mean(scal)),\n",
    "                        \"{0:.0f}\".format(np.min(scal)),\n",
    "                        \"{0:.0f}\".format(np.percentile(scal,5)),\n",
    "                        \"{0:.0f}\".format(np.percentile(scal,50)),\n",
    "                        \"{0:.0f}\".format(np.percentile(scal,95)),\n",
    "                        \"{0:.0f}\".format(np.percentile(scal,99)),\n",
    "                        \"{0:.0f}\".format(np.max(scal))                        \n",
    "                       ],\n",
    "                \"Obs Val.\":['',\n",
    "                        '',\n",
    "                        '',\n",
    "                        '',\n",
    "                        '',\n",
    "                        '',\n",
    "                        '',\n",
    "                         \"{0:.0f}\".format(np.mean(oval)),\n",
    "                        \"{0:.0f}\".format(np.min(oval)),\n",
    "                        \"{0:.0f}\".format(np.percentile(oval,5)),\n",
    "                        \"{0:.0f}\".format(np.percentile(oval,50)),\n",
    "                        \"{0:.0f}\".format(np.percentile(oval,95)),\n",
    "                        \"{0:.0f}\".format(np.percentile(oval,99)),\n",
    "                        \"{0:.0f}\".format(np.max(oval))                         \n",
    "                       ],\n",
    "                 \"Sim Val.\":[\"{0:.2f}\".format(hydroStats.KGE(s=sval, o=oval, warmup=0)),\n",
    "                        \"{0:.2f}\".format(hydroStats.NS(s=sval, o=oval, warmup=0)),\n",
    "                        \"{0:.2f}\".format(hydroStats.correlation(s=sval, o=oval, warmup=0)),\n",
    "                        \"{0:.1f}\".format(hydroStats.pc_bias2(s=sval, o=oval, warmup=0)),\n",
    "                        \"{0:.0f}\".format(hydroStats.rmse(s=sval, o=oval, warmup=0)),\n",
    "                        \"{0:.0f}\".format(hydroStats.mae(s=sval, o=oval, warmup=0)),\n",
    "                        \"\",\n",
    "                        \"{0:.0f}\".format(np.mean(sval)),\n",
    "                        \"{0:.0f}\".format(np.min(sval)),\n",
    "                        \"{0:.0f}\".format(np.percentile(sval,5)),\n",
    "                        \"{0:.0f}\".format(np.percentile(sval,50)),\n",
    "                        \"{0:.0f}\".format(np.percentile(sval,95)),\n",
    "                        \"{0:.0f}\".format(np.percentile(sval,99)),\n",
    "                        \"{0:.0f}\".format(np.max(sval))                        \n",
    "                       ]})\n",
    "\n",
    "df.columns =['Obs cal','Sim cal','Obs val','Sim val']\n",
    "df.index = ['KGE','NS',r'R$^{2}$','Bias','RMSE','MAE',' ','Mean',\"Min\",\"5%\",\"50%\",\"95%\",\"99%\",\"Max\"]\n",
    "\n",
    "df.to_clipboard(excel=True)\n",
    "df\n"
   ]
  },
  {
   "cell_type": "code",
   "execution_count": null,
   "id": "amazing-prayer",
   "metadata": {},
   "outputs": [],
   "source": []
  },
  {
   "cell_type": "code",
   "execution_count": null,
   "id": "central-michigan",
   "metadata": {},
   "outputs": [],
   "source": []
  },
  {
   "cell_type": "code",
   "execution_count": null,
   "id": "adjacent-manual",
   "metadata": {},
   "outputs": [],
   "source": []
  },
  {
   "cell_type": "code",
   "execution_count": 93,
   "id": "better-destruction",
   "metadata": {
    "jupyter": {
     "source_hidden": true
    },
    "tags": []
   },
   "outputs": [],
   "source": [
    "o = Qobs_cal.values\n",
    "s = []\n",
    "for i in range(len(o)):\n",
    "    if not (np.isnan(o[i])):\n",
    "        s.append(Qsim_cal[i])\n",
    "        #s.append(ts2_cal[i])\n",
    "s1 = np.asarray(s)\n",
    "o1 = o[~np.isnan(o)]\n",
    "KGE = \"{0:.2f}\".format(hydroStats.KGE(s=s1, o=o1, warmup=WarmupDays))\n",
    "bias = \"{0:.2f}\".format(hydroStats.pc_bias2(s=s1, o=o1, warmup=WarmupDays))\n",
    "corr = \"{0:.2f}\".format(hydroStats.correlation(s=s1, o=o1, warmup=WarmupDays))\n",
    "NS = \"{0:.2f}\".format(hydroStats.NS(s=s1, o=o1, warmup=WarmupDays))\n",
    "NSlog = \"{0:.2f}\".format(hydroStats.NSlog(s=s1, o=o1, warmup=WarmupDays))\n",
    "#print (\"Objective function for original calibration\") \n",
    "#print (\"KGE,bias,corr,NS,NSlog\") \n",
    "#print(KGE,bias,corr,NS,NSlog)\n",
    "\n",
    "mean_o =  \"{0:.2f}\".format(np.mean(o1))\n",
    "mean_s =  \"{0:.2f}\".format(np.mean(s1))\n",
    "\n",
    "# ------------------\n",
    "o = Qobs_val.values\n",
    "s = []\n",
    "for i in range(len(o)):\n",
    "    if not (np.isnan(o[i])):\n",
    "        s.append(Qsim_val[i])\n",
    "        #s.append(ts2_val[i])\n",
    "s1 = np.asarray(s)\n",
    "o1 = o[~np.isnan(o)]\n",
    "KGE = \"{0:.2f}\".format(hydroStats.KGE(s=s1, o=o1, warmup=WarmupDays))\n",
    "bias = \"{0:.2f}\".format(hydroStats.pc_bias2(s=s1, o=o1, warmup=WarmupDays))\n",
    "corr = \"{0:.2f}\".format(hydroStats.correlation(s=s1, o=o1, warmup=WarmupDays))\n",
    "NS = \"{0:.2f}\".format(hydroStats.NS(s=s1, o=o1, warmup=WarmupDays))\n",
    "NSlog = \"{0:.2f}\".format(hydroStats.NSlog(s=s1, o=o1, warmup=WarmupDays))\n",
    "\n",
    "#print(KGE,bias,corr,NS,NSlog)\n",
    "\n"
   ]
  },
  {
   "cell_type": "code",
   "execution_count": 94,
   "id": "provincial-gibson",
   "metadata": {
    "jupyter": {
     "source_hidden": true
    },
    "tags": []
   },
   "outputs": [
    {
     "name": "stdout",
     "output_type": "stream",
     "text": [
      "Objective function for 30 days GW model\n",
      "KGE,bias,corr,NS,NSlog\n",
      "Cal:  0.05 90.23 0.89 -0.20 -0.33\n",
      "Val:  -0.24 113.42 0.62 -1.44 -0.61\n"
     ]
    }
   ],
   "source": [
    "o = Qobs_cal.values\n",
    "s = []\n",
    "s2=[]\n",
    "for i in range(len(o)):\n",
    "    if not (np.isnan(o[i])):\n",
    "        #s.append(Qsim_cal[i])\n",
    "        s.append(ts1_cal[i])\n",
    "        #s2.append(ts2_cal[i])\n",
    "scal = np.asarray(s)\n",
    "#scal2 = np.asarray(s2)\n",
    "ocal = o[~np.isnan(o)]\n",
    "KGE = \"{0:.2f}\".format(hydroStats.KGE(s=scal, o=ocal, warmup=0))\n",
    "bias = \"{0:.2f}\".format(hydroStats.pc_bias2(s=scal, o=ocal, warmup=0))\n",
    "corr = \"{0:.2f}\".format(hydroStats.correlation(s=scal, o=ocal, warmup=0))\n",
    "NS = \"{0:.2f}\".format(hydroStats.NS(s=scal, o=ocal, warmup=0))\n",
    "NSlog = \"{0:.2f}\".format(hydroStats.NSlog(s=scal, o=ocal, warmup=0))\n",
    "\n",
    "print (\"Objective function for 30 days GW model\") \n",
    "print (\"KGE,bias,corr,NS,NSlog\") \n",
    "print(\"Cal: \",KGE,bias,corr,NS,NSlog)\n",
    "\n",
    "mean_o =  \"{0:.2f}\".format(np.mean(ocal))\n",
    "mean_s =  \"{0:.2f}\".format(np.mean(scal))\n",
    "#print(mean_o,mean_s)\n",
    "\n",
    "# ------------------\n",
    "o = Qobs_val.values\n",
    "s = []\n",
    "s2 = []\n",
    "for i in range(len(o)):\n",
    "    if not (np.isnan(o[i])):\n",
    "        #s.append(Qsim_val[i])\n",
    "        s.append(ts1_val[i])\n",
    "        #s2.append(ts2_val[i])\n",
    "sval = np.asarray(s)\n",
    "#sval2 = np.asarray(s)\n",
    "oval = o[~np.isnan(o)]\n",
    "KGE = \"{0:.2f}\".format(hydroStats.KGE(s=sval, o=oval, warmup=0))\n",
    "bias = \"{0:.2f}\".format(hydroStats.pc_bias2(s=sval, o=oval, warmup=0))\n",
    "corr = \"{0:.2f}\".format(hydroStats.correlation(s=sval, o=oval, warmup=0))\n",
    "NS = \"{0:.2f}\".format(hydroStats.NS(s=sval, o=oval, warmup=0))\n",
    "NSlog = \"{0:.2f}\".format(hydroStats.NSlog(s=sval, o=oval, warmup=0))\n",
    "\n",
    "print(\"Val: \",KGE,bias,corr,NS,NSlog)"
   ]
  },
  {
   "cell_type": "code",
   "execution_count": 95,
   "id": "floral-formula",
   "metadata": {
    "jupyter": {
     "source_hidden": true
    },
    "tags": []
   },
   "outputs": [
    {
     "name": "stdout",
     "output_type": "stream",
     "text": [
      "Objective function for 7 days GW model\n",
      "KGE,bias,corr,NS,NSlog\n",
      "Cal:  -0.07 101.93 0.90 -0.44 -0.38\n",
      "Val:  -0.41 130.62 0.65 -1.75 -0.82\n"
     ]
    }
   ],
   "source": [
    "o = Qobs_cal.values\n",
    "s = []\n",
    "s2=[]\n",
    "for i in range(len(o)):\n",
    "    if not (np.isnan(o[i])):\n",
    "        #s.append(Qsim_cal[i])\n",
    "        s.append(ts2_cal[i])\n",
    "        s2.append(ts2_cal[i])\n",
    "scal = np.asarray(s)\n",
    "scal2 = np.asarray(s2)\n",
    "ocal = o[~np.isnan(o)]\n",
    "KGE = \"{0:.2f}\".format(hydroStats.KGE(s=scal, o=ocal, warmup=0))\n",
    "bias = \"{0:.2f}\".format(hydroStats.pc_bias2(s=scal, o=ocal, warmup=0))\n",
    "corr = \"{0:.2f}\".format(hydroStats.correlation(s=scal, o=ocal, warmup=0))\n",
    "NS = \"{0:.2f}\".format(hydroStats.NS(s=scal, o=ocal, warmup=0))\n",
    "NSlog = \"{0:.2f}\".format(hydroStats.NSlog(s=scal, o=ocal, warmup=0))\n",
    "\n",
    "print (\"Objective function for 7 days GW model\") \n",
    "print (\"KGE,bias,corr,NS,NSlog\") \n",
    "print(\"Cal: \",KGE,bias,corr,NS,NSlog)\n",
    "\n",
    "mean_o =  \"{0:.2f}\".format(np.mean(ocal))\n",
    "mean_s =  \"{0:.2f}\".format(np.mean(scal))\n",
    "#print(mean_o,mean_s)\n",
    "\n",
    "# ------------------\n",
    "o = Qobs_val.values\n",
    "s = []\n",
    "s2 = []\n",
    "for i in range(len(o)):\n",
    "    if not (np.isnan(o[i])):\n",
    "        #s.append(Qsim_val[i])\n",
    "        s.append(ts2_val[i])\n",
    "        s2.append(ts2_val[i])\n",
    "sval = np.asarray(s)\n",
    "sval2 = np.asarray(s)\n",
    "oval = o[~np.isnan(o)]\n",
    "KGE = \"{0:.2f}\".format(hydroStats.KGE(s=sval, o=oval, warmup=0))\n",
    "bias = \"{0:.2f}\".format(hydroStats.pc_bias2(s=sval, o=oval, warmup=0))\n",
    "corr = \"{0:.2f}\".format(hydroStats.correlation(s=sval, o=oval, warmup=0))\n",
    "NS = \"{0:.2f}\".format(hydroStats.NS(s=sval, o=oval, warmup=0))\n",
    "NSlog = \"{0:.2f}\".format(hydroStats.NSlog(s=sval, o=oval, warmup=0))\n",
    "\n",
    "print(\"Val: \",KGE,bias,corr,NS,NSlog)\n",
    "\n"
   ]
  },
  {
   "cell_type": "code",
   "execution_count": null,
   "id": "funny-catalyst",
   "metadata": {
    "tags": []
   },
   "outputs": [],
   "source": []
  },
  {
   "cell_type": "code",
   "execution_count": null,
   "id": "finnish-negative",
   "metadata": {},
   "outputs": [],
   "source": []
  },
  {
   "cell_type": "code",
   "execution_count": null,
   "id": "bulgarian-finish",
   "metadata": {},
   "outputs": [],
   "source": []
  },
  {
   "cell_type": "code",
   "execution_count": null,
   "id": "computational-punishment",
   "metadata": {},
   "outputs": [],
   "source": []
  }
 ],
 "metadata": {
  "kernelspec": {
   "display_name": "Python 3",
   "language": "python",
   "name": "python3"
  },
  "language_info": {
   "codemirror_mode": {
    "name": "ipython",
    "version": 3
   },
   "file_extension": ".py",
   "mimetype": "text/x-python",
   "name": "python",
   "nbconvert_exporter": "python",
   "pygments_lexer": "ipython3",
   "version": "3.9.9"
  }
 },
 "nbformat": 4,
 "nbformat_minor": 5
}
