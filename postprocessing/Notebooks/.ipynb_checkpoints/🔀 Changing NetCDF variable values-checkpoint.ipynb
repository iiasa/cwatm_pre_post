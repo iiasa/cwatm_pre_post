{
 "cells": [
  {
   "cell_type": "markdown",
   "metadata": {},
   "source": [
    "## Changing NetCDF values where/when another NetCDF has another certain value"
   ]
  },
  {
   "cell_type": "markdown",
   "metadata": {},
   "source": [
    "### USER INPUT\n",
    "\n",
    "Change the value of var_change in changing_path to new_value, when the value of var_ID in ID_path equals ID_value. \n",
    "\n"
   ]
  },
  {
   "cell_type": "code",
   "execution_count": 2,
   "metadata": {},
   "outputs": [],
   "source": [
    "changing_path = r'C:\\GitHub\\CWatM-Input\\CWatM-Otta-1km\\routing\\lakereservoirs\\lakeresType.nc'\n",
    "ID_path = r'C:\\GitHub\\CWatM-Input\\CWatM-Otta-1km\\routing\\lakereservoirs\\lakeresID.nc'\n",
    "\n",
    "#var_change, new_value, var_ID, ID_value\n",
    "#'lakeresType'\t2, where lakeresID:153097\n",
    "#'lakeresType'\t2, where lakeresID:153317\n",
    "#'lakeresType'\t2, where lakeresID:12471\n",
    "\n",
    "Changes = [['lakeresType', 2, 'lakeresID', 153097], \n",
    "           ['lakeresType', 2, 'lakeresID', 153317], \n",
    "           ['lakeresType', 2, 'lakeresID', 12471]]"
   ]
  },
  {
   "cell_type": "markdown",
   "metadata": {},
   "source": [
    "### *SCRIPTS*\n",
    "\n",
    "Creates updated file named *file_name*_new.nc beside the original"
   ]
  },
  {
   "cell_type": "code",
   "execution_count": 2,
   "metadata": {},
   "outputs": [
    {
     "data": {
      "text/plain": [
       "'C:\\\\GitHub\\\\CWatM-Input\\\\CWatM-Otta-1km\\\\routing\\\\lakereservoirs\\\\lakeresType_new.nc'"
      ]
     },
     "execution_count": 2,
     "metadata": {},
     "output_type": "execute_result"
    }
   ],
   "source": [
    "from netCDF4 import Dataset\n",
    "import netCDF4\n",
    "import shutil\n",
    "import pandas as pd\n",
    "import numpy as np\n",
    "\n",
    "# Copy the file, create file_original, and change the original \n",
    "copy_path = changing_path[:-3]+'_new.nc'\n",
    "shutil.copyfile(changing_path, copy_path)"
   ]
  },
  {
   "cell_type": "code",
   "execution_count": 3,
   "metadata": {},
   "outputs": [],
   "source": [
    "# Open to ammend/change the source file\n",
    "\n",
    "IDing = Dataset(ID_path, 'r')\n",
    "changing = Dataset(copy_path, 'a')\n",
    "\n",
    "# Include the changes\n",
    "for change in Changes:\n",
    "    changing[change[0]][:,:] = \\\n",
    "    np.where(IDing[change[2]][:] == change[3], \\\n",
    "             change[1], changing[change[0]])\n",
    "\n",
    "# Close the files\n",
    "changing.close()\n",
    "IDing.close()"
   ]
  },
  {
   "cell_type": "markdown",
   "metadata": {},
   "source": [
    "### CWatM water body types:\n",
    "- 2 = reservoirs (regulated discharge)\n",
    "- 1 = lakes (weir formula)\n",
    "- 3 = to be reservoirs (used as reservoirs but before the year of construction as lakes)\n",
    "- 4 = water distribution reservoirs, discharge input = discharge output; only allows input from specified sources, e.g., inter-basin transfers, wastewater treatment, desalination, etc.\n",
    "- 0 = non lakes or reservoirs (e.g. wetland)"
   ]
  }
 ],
 "metadata": {
  "kernelspec": {
   "display_name": "Python 3 (ipykernel)",
   "language": "python",
   "name": "python3"
  },
  "language_info": {
   "codemirror_mode": {
    "name": "ipython",
    "version": 3
   },
   "file_extension": ".py",
   "mimetype": "text/x-python",
   "name": "python",
   "nbconvert_exporter": "python",
   "pygments_lexer": "ipython3",
   "version": "3.11.0"
  }
 },
 "nbformat": 4,
 "nbformat_minor": 2
}
