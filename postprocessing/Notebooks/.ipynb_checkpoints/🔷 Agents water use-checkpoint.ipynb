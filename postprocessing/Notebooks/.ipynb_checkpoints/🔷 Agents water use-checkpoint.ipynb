{
 "cells": [
  {
   "cell_type": "markdown",
   "metadata": {},
   "source": [
    "# Farmer Module"
   ]
  },
  {
   "cell_type": "markdown",
   "metadata": {},
   "source": [
    "We are interested in \n",
    "- reference evapotranspiration, average over the month in each cell, averaged over the agent; \n",
    "- effective precipitation, totaled over the month in each cell, averaged over the agent.\n",
    "- Depths to groundwater, averaged over the agent \n",
    "\n",
    "What follows is a demonstration of these data as well as agent-specific irrigation and rainfed crop distributions."
   ]
  },
  {
   "cell_type": "code",
   "execution_count": 1,
   "metadata": {},
   "outputs": [
    {
     "ename": "SyntaxError",
     "evalue": "EOL while scanning string literal (<ipython-input-1-5458260d24f2>, line 1)",
     "output_type": "error",
     "traceback": [
      "\u001b[1;36m  File \u001b[1;32m\"<ipython-input-1-5458260d24f2>\"\u001b[1;36m, line \u001b[1;32m1\u001b[0m\n\u001b[1;33m    output_folder = r'C:\\Data\\bhima_Input_mainCWatM\\Output\\'\u001b[0m\n\u001b[1;37m                                                            ^\u001b[0m\n\u001b[1;31mSyntaxError\u001b[0m\u001b[1;31m:\u001b[0m EOL while scanning string literal\n"
     ]
    }
   ],
   "source": [
    "output_folder = r'C:\\Data\\bhima_Input_mainCWatM\\Output\\'\n",
    "basepath = 'C:\\GitHub\\FUSE\\CWatM_settings'\n",
    "\n",
    "xl_settings_file_path = basepath + r'\\cwatm_settings.xlsx'\n"
   ]
  },
  {
   "cell_type": "code",
   "execution_count": null,
   "metadata": {},
   "outputs": [],
   "source": [
    "from netCDF4 import Dataset\n",
    "import matplotlib.pyplot as plt\n",
    "import numpy as np\n",
    "import plotly.graph_objects as go\n",
    "from PIL import Image"
   ]
  },
  {
   "cell_type": "code",
   "execution_count": null,
   "metadata": {},
   "outputs": [],
   "source": [
    "#admin_segments_file = output_folder + \"adminSegments_daily.nc\"\n",
    "admin_segments_file = output_folder + \"adminSegments_totalend.nc\"\n",
    "\n",
    "nc_admin_segments = Dataset(admin_segments_file, 'r')\n",
    "\n",
    "#admin_segments = nc_admin_segments.variables['adminSegments'][0,:,:]\n",
    "admin_segments = nc_admin_segments.variables['adminSegments_totalend'][:,:]"
   ]
  },
  {
   "cell_type": "markdown",
   "metadata": {},
   "source": [
    "The following code chooses a representative cell for each administrative unit."
   ]
  },
  {
   "cell_type": "code",
   "execution_count": null,
   "metadata": {
    "scrolled": false
   },
   "outputs": [],
   "source": [
    "Segment_reps = []\n",
    "\n",
    "for i in range(nc_admin_segments.variables['lat'].shape[0]):\n",
    "    for j in range (nc_admin_segments.variables['lon'].shape[0]):\n",
    "        \n",
    "        if admin_segments[i,j]>0 and admin_segments[i,j] not in [i[0] for i in Segment_reps]:       \n",
    "            Segment_reps.append([int(admin_segments[i,j]), i, j])\n",
    "\n",
    "Segment_reps.sort()\n",
    "\n",
    "for i in Segment_reps:\n",
    "    print('Segment ' +str(i[0])+ ', lat ' +str(i[1])+ ', lon ' +str(i[2]))"
   ]
  },
  {
   "cell_type": "markdown",
   "metadata": {},
   "source": [
    "## Reference Evapotranspiration and Effective precipitation\n",
    "Amounts are given in metres [m]"
   ]
  },
  {
   "cell_type": "code",
   "execution_count": null,
   "metadata": {},
   "outputs": [],
   "source": [
    "from netCDF4 import num2date\n",
    "\n",
    "irrWithdrawalGW_segments_file = output_folder + \"irrWithdrawalSW_max_totalend.nc\"\n",
    "nc_irrWithdrawalGW_segments = Dataset(irrWithdrawalGW_segments_file, 'r')\n",
    "irrWithdrawalGW_segments = nc_irrWithdrawalGW_segments.variables['irrWithdrawalSW_max_totalend'][:,:]\n",
    "\n",
    "irrSWmax_representative = []\n",
    "#irrSWmax_representative.append([seg[0]])\n",
    "for seg in Segment_reps:\n",
    "    \n",
    "\n",
    "    irrSWmax_representative.append(irrWithdrawalGW_segments[seg[1], seg[2]])\n",
    "    \n",
    "\n"
   ]
  },
  {
   "cell_type": "code",
   "execution_count": null,
   "metadata": {},
   "outputs": [],
   "source": [
    "print(irrSWmax_representative)\n",
    "print(sum(irrSWmax_representative))\n"
   ]
  },
  {
   "cell_type": "code",
   "execution_count": null,
   "metadata": {},
   "outputs": [],
   "source": [
    "from netCDF4 import num2date\n",
    "\n",
    "irrWithdrawalGW_segments_file = output_folder + \"irrWithdrawalGW_max_totalend.nc\"\n",
    "nc_irrWithdrawalGW_segments = Dataset(irrWithdrawalGW_segments_file, 'r')\n",
    "irrWithdrawalGW_segments = nc_irrWithdrawalGW_segments.variables['irrWithdrawalGW_max_totalend'][:,:]\n",
    "\n",
    "irrGWmax_representative = []\n",
    "#irrSWmax_representative.append([seg[0]])\n",
    "for seg in Segment_reps:\n",
    "    \n",
    "\n",
    "    irrGWmax_representative.append(irrWithdrawalGW_segments[seg[1], seg[2]])\n",
    "    \n",
    "\n"
   ]
  },
  {
   "cell_type": "code",
   "execution_count": null,
   "metadata": {},
   "outputs": [],
   "source": [
    "print(irrGWmax_representative)\n",
    "print(sum(irrGWmax_representative))\n"
   ]
  },
  {
   "cell_type": "code",
   "execution_count": null,
   "metadata": {},
   "outputs": [],
   "source": [
    "from netCDF4 import num2date\n",
    "\n",
    "irrWithdrawalGW_segments_file = output_folder + \"act_irrWithdrawalGW_month_monthend.nc\"\n",
    "nc_irrWithdrawalGW_segments = Dataset(irrWithdrawalGW_segments_file, 'r')\n",
    "Dates_simulation = num2date(nc_irrWithdrawalGW_segments.variables['time'][:], units=nc_irrWithdrawalGW_segments.variables['time'].units)\n",
    "irrWithdrawalGW_segments = nc_irrWithdrawalGW_segments.variables['act_irrWithdrawalGW_month_monthend'][:,:,:]\n",
    "\n",
    "irrWithdrawalGW_representative = []\n",
    "\n",
    "for seg in Segment_reps:\n",
    "    \n",
    "    irrWithdrawalGW_representative.append([seg[0]])\n",
    "    \n",
    "    for t in range(nc_irrWithdrawalGW_segments.variables['time'].shape[0]):\n",
    "        irrWithdrawalGW_representative[-1].append(irrWithdrawalGW_segments[t, seg[1], seg[2]])\n",
    "        \n",
    "print(irrWithdrawalGW_representative)\n",
    "x=0\n",
    "for i in irrWithdrawalGW_representative:\n",
    "   x+= i[2]\n",
    "print(x)"
   ]
  },
  {
   "cell_type": "code",
   "execution_count": null,
   "metadata": {},
   "outputs": [],
   "source": [
    "from netCDF4 import num2date\n",
    "\n",
    "irrWithdrawalSW_segments_file = output_folder + \"act_irrWithdrawalSW_month_monthend.nc\"\n",
    "nc_irrWithdrawalSW_segments = Dataset(irrWithdrawalSW_segments_file, 'r')\n",
    "Dates_simulation = num2date(nc_irrWithdrawalSW_segments.variables['time'][:], units=nc_irrWithdrawalSW_segments.variables['time'].units)\n",
    "irrWithdrawalSW_segments = nc_irrWithdrawalSW_segments.variables['act_irrWithdrawalSW_month_monthend'][:,:,:]\n",
    "\n",
    "irrWithdrawalSW_representative = []\n",
    "\n",
    "for seg in Segment_reps:\n",
    "    \n",
    "    irrWithdrawalSW_representative.append([seg[0]])\n",
    "    \n",
    "    for t in range(nc_irrWithdrawalSW_segments.variables['time'].shape[0]):\n",
    "        irrWithdrawalSW_representative[-1].append(irrWithdrawalSW_segments[t, seg[1], seg[2]])\n",
    "        \n",
    "print(irrWithdrawalSW_representative)\n",
    "x=0\n",
    "for i in irrWithdrawalSW_representative:\n",
    "   x+= i[2]\n",
    "print(x)"
   ]
  },
  {
   "cell_type": "code",
   "execution_count": null,
   "metadata": {},
   "outputs": [],
   "source": [
    "from netCDF4 import num2date\n",
    "\n",
    "ratio_irrWithdrawalSW_segments_file = output_folder + \"ratio_irrWithdrawalSW_month_monthend.nc\"\n",
    "nc_ratio_irrWithdrawalSW_segments = Dataset(ratio_irrWithdrawalSW_segments_file, 'r')\n",
    "Dates_simulation = num2date(nc_ratio_irrWithdrawalSW_segments.variables['time'][:], units=nc_ratio_irrWithdrawalSW_segments.variables['time'].units)\n",
    "ratio_irrWithdrawalSW_segments = nc_ratio_irrWithdrawalSW_segments.variables['ratio_irrWithdrawalSW_month_monthend'][:,:,:]\n",
    "\n",
    "ratio_irrWithdrawalSW_representative = []\n",
    "\n",
    "for seg in Segment_reps:\n",
    "    \n",
    "    ratio_irrWithdrawalSW_representative.append([seg[0]])\n",
    "    \n",
    "    for t in range(nc_ratio_irrWithdrawalSW_segments.variables['time'].shape[0]):\n",
    "        ratio_irrWithdrawalSW_representative[-1].append(ratio_irrWithdrawalSW_segments[t, seg[1], seg[2]])\n"
   ]
  },
  {
   "cell_type": "code",
   "execution_count": null,
   "metadata": {},
   "outputs": [],
   "source": [
    "from netCDF4 import num2date\n",
    "\n",
    "ratio_irrWithdrawalGW_segments_file = output_folder + \"ratio_irrWithdrawalGW_month_monthend.nc\"\n",
    "nc_ratio_irrWithdrawalGW_segments = Dataset(ratio_irrWithdrawalGW_segments_file, 'r')\n",
    "Dates_simulation = num2date(nc_ratio_irrWithdrawalGW_segments.variables['time'][:], units=nc_ratio_irrWithdrawalGW_segments.variables['time'].units)\n",
    "ratio_irrWithdrawalGW_segments = nc_ratio_irrWithdrawalGW_segments.variables['ratio_irrWithdrawalGW_month_monthend'][:,:,:]\n",
    "\n",
    "ratio_irrWithdrawalGW_representative = []\n",
    "\n",
    "for seg in Segment_reps:\n",
    "    \n",
    "    ratio_irrWithdrawalGW_representative.append([seg[0]])\n",
    "    \n",
    "    for t in range(nc_ratio_irrWithdrawalGW_segments.variables['time'].shape[0]):\n",
    "        ratio_irrWithdrawalGW_representative[-1].append(ratio_irrWithdrawalGW_segments[t, seg[1], seg[2]])\n"
   ]
  },
  {
   "cell_type": "code",
   "execution_count": null,
   "metadata": {},
   "outputs": [],
   "source": [
    "fig = go.Figure()\n",
    "\n",
    "for i in irrWithdrawalGW_representative:\n",
    "    fig.add_trace(go.Scatter(y=i[1:],\n",
    "                             x=Dates_simulation,\n",
    "                    mode='lines',\n",
    "                    name=i[0]))\n",
    "\n",
    "\n",
    "fig.update_layout(title='Irrigation withdrawal gw',\n",
    "                       xaxis_title='Month',\n",
    "                       yaxis_title='Monthly total irrigation gw withdrawal')\n",
    "\n",
    "fig.show()"
   ]
  },
  {
   "cell_type": "code",
   "execution_count": null,
   "metadata": {},
   "outputs": [],
   "source": [
    "fig = go.Figure()\n",
    "\n",
    "for i in irrWithdrawalSW_representative:\n",
    "    fig.add_trace(go.Scatter(y=i[1:],\n",
    "                             x=Dates_simulation,\n",
    "                    mode='lines',\n",
    "                    name=i[0]))\n",
    "\n",
    "\n",
    "fig.update_layout(title='Irrigation withdrawal sw',\n",
    "                       xaxis_title='Month',\n",
    "                       yaxis_title='Monthly total irrigation sw withdrawal')\n",
    "\n",
    "fig.show()"
   ]
  },
  {
   "cell_type": "code",
   "execution_count": null,
   "metadata": {},
   "outputs": [],
   "source": [
    "fig = go.Figure()\n",
    "\n",
    "for i in ratio_irrWithdrawalSW_representative:\n",
    "    fig.add_trace(go.Scatter(y=i[1:],\n",
    "                             x=Dates_simulation,\n",
    "                    mode='lines',\n",
    "                    name=i[0]))\n",
    "\n",
    "\n",
    "fig.update_layout(title='Ratio Irrigation withdrawal sw',\n",
    "                       xaxis_title='Month',\n",
    "                       yaxis_title='Monthly total irrigation sw withdrawal')\n",
    "\n",
    "fig.show()"
   ]
  },
  {
   "cell_type": "code",
   "execution_count": null,
   "metadata": {},
   "outputs": [],
   "source": [
    "fig = go.Figure()\n",
    "\n",
    "for i in ratio_irrWithdrawalGW_representative:\n",
    "    fig.add_trace(go.Scatter(y=i[1:],\n",
    "                             x=Dates_simulation,\n",
    "                    mode='lines',\n",
    "                    name=i[0]))\n",
    "\n",
    "\n",
    "fig.update_layout(title='Ratio Irrigation withdrawal gw',\n",
    "                       xaxis_title='Month',\n",
    "                       yaxis_title='Monthly total irrigation sw withdrawal')\n",
    "\n",
    "fig.show()"
   ]
  },
  {
   "cell_type": "code",
   "execution_count": null,
   "metadata": {},
   "outputs": [],
   "source": [
    "from netCDF4 import num2date\n",
    "\n",
    "ratio_irrWithdrawalSW_segments_file = output_folder + \"ratio_irrWithdrawalSW_month_daily.nc\"\n",
    "nc_ratio_irrWithdrawalSW_segments = Dataset(ratio_irrWithdrawalSW_segments_file, 'r')\n",
    "Dates_simulation = num2date(nc_ratio_irrWithdrawalSW_segments.variables['time'][:], units=nc_ratio_irrWithdrawalSW_segments.variables['time'].units)\n",
    "ratio_irrWithdrawalSW_segments = nc_ratio_irrWithdrawalSW_segments.variables['ratio_irrWithdrawalSW_month'][:,:,:]\n",
    "\n",
    "ratio_irrWithdrawalSW_representative = []\n",
    "\n",
    "for seg in Segment_reps:\n",
    "    \n",
    "    ratio_irrWithdrawalSW_representative.append([seg[0]])\n",
    "    \n",
    "    for t in range(nc_ratio_irrWithdrawalSW_segments.variables['time'].shape[0]):\n",
    "        ratio_irrWithdrawalSW_representative[-1].append(ratio_irrWithdrawalSW_segments[t, seg[1], seg[2]])\n"
   ]
  },
  {
   "cell_type": "code",
   "execution_count": null,
   "metadata": {},
   "outputs": [],
   "source": [
    "fig = go.Figure()\n",
    "\n",
    "for i in ratio_irrWithdrawalSW_representative:\n",
    "    fig.add_trace(go.Scatter(y=i[1:],\n",
    "                             x=Dates_simulation,\n",
    "                    mode='lines',\n",
    "                    name=i[0]))\n",
    "\n",
    "\n",
    "fig.update_layout(title='Ratio Irrigation withdrawal sw',\n",
    "                       xaxis_title='Daily',\n",
    "                       yaxis_title='Monthly total irrigation sw withdrawal')\n",
    "\n",
    "fig.show()"
   ]
  },
  {
   "cell_type": "code",
   "execution_count": null,
   "metadata": {},
   "outputs": [],
   "source": [
    "from netCDF4 import num2date\n",
    "\n",
    "ratio_irrWithdrawalGW_segments_file = output_folder + \"ratio_irrWithdrawalGW_month_daily.nc\"\n",
    "nc_ratio_irrWithdrawalGW_segments = Dataset(ratio_irrWithdrawalGW_segments_file, 'r')\n",
    "Dates_simulation = num2date(nc_ratio_irrWithdrawalGW_segments.variables['time'][:], units=nc_ratio_irrWithdrawalGW_segments.variables['time'].units)\n",
    "ratio_irrWithdrawalGW_segments = nc_ratio_irrWithdrawalGW_segments.variables['ratio_irrWithdrawalGW_month'][:,:,:]\n",
    "\n",
    "ratio_irrWithdrawalGW_representative = []\n",
    "\n",
    "for seg in Segment_reps:\n",
    "    \n",
    "    ratio_irrWithdrawalGW_representative.append([seg[0]])\n",
    "    \n",
    "    for t in range(nc_ratio_irrWithdrawalGW_segments.variables['time'].shape[0]):\n",
    "        ratio_irrWithdrawalGW_representative[-1].append(ratio_irrWithdrawalGW_segments[t, seg[1], seg[2]])\n"
   ]
  },
  {
   "cell_type": "code",
   "execution_count": null,
   "metadata": {},
   "outputs": [],
   "source": [
    "fig = go.Figure()\n",
    "\n",
    "for i in ratio_irrWithdrawalGW_representative:\n",
    "    fig.add_trace(go.Scatter(y=i[1:],\n",
    "                             x=Dates_simulation,\n",
    "                    mode='lines',\n",
    "                    name=i[0]))\n",
    "\n",
    "\n",
    "fig.update_layout(title='Ratio Irrigation withdrawal gw',\n",
    "                       xaxis_title='Daily',\n",
    "                       yaxis_title='Monthly total irrigation sw withdrawal')\n",
    "\n",
    "fig.show()"
   ]
  },
  {
   "cell_type": "code",
   "execution_count": null,
   "metadata": {},
   "outputs": [],
   "source": [
    "#ETRef_monAvg_segments_file = output_folder + \"ETRef_segments_monthavg.nc\"\n",
    "#rain_monAvg_segments_file = output_folder + \"rain_segments_monthavg.nc\"\n",
    "from netCDF4 import num2date\n",
    "\n",
    "ETRef_monAvg_segments_file = output_folder + \"ETRefAverage_segments_monthavg.nc\"\n",
    "#Rain could be changed to bare\n",
    "rain_monAvg_segments_file = output_folder + 'precipEffectiveAverage_woBare_segments_monthtot.nc'#\"rainAverage_segments_monthtot.nc\"\n",
    "nc_ETRef_monAvg_segments = Dataset(ETRef_monAvg_segments_file, 'r')\n",
    "nc_rain_monAvg_segments = Dataset(rain_monAvg_segments_file, 'r')\n",
    "\n",
    "nc_precipEffectiveAverage_segments = Dataset(output_folder +\"precipEffectiveAverage_woBare_segments_monthtot.nc\", 'r')\n",
    "#nc_precipEffectiveAverage_segments = Dataset(output_folder +\"precipEffectiveAverage_segments_monthtot.nc\", 'r')\n",
    "nc_head_monEnd_segments = Dataset(output_folder + \"head_development_segments_monthend.nc\")\n",
    "\n",
    "Dates_simulation = num2date(nc_head_monEnd_segments.variables['time'][:], units=nc_head_monEnd_segments.variables['time'].units)\n",
    "\n",
    "ETRef_monAvg_segments = nc_ETRef_monAvg_segments.variables['ETRefAverage_segments_monthavg'][:,:,:]\n",
    "#rain_monAvg_segments = nc_rain_monAvg_segments.variables['rain_segments_monthavg'][:,:,:]\n",
    "rain_monAvg_segments = nc_rain_monAvg_segments.variables['precipEffectiveAverage_woBare_segments_monthtot'][:,:,:]\n",
    "precipEff_monAvg_segments = nc_precipEffectiveAverage_segments.variables[r'precipEffectiveAverage_woBare_segments_monthtot'][:,:,:]\n",
    "\n",
    "#precipEff_monAvg_segments = nc_precipEffectiveAverage_segments.variables[r'precipEffectiveAverage_segments_monthtot'][:,:,:]\n",
    "head_monEnd_segments = nc_head_monEnd_segments.variables['head_development_segments_monthend'][:,:,:]"
   ]
  },
  {
   "cell_type": "code",
   "execution_count": null,
   "metadata": {},
   "outputs": [],
   "source": [
    "ETRef_monAvg_representative = []\n",
    "rain_monAvg_representative= []\n",
    "precipEff_monAvg_representative = []\n",
    "head_monEnd_representative = []\n",
    "\n",
    "for seg in Segment_reps:\n",
    "    \n",
    "    ETRef_monAvg_representative.append([seg[0]])\n",
    "    rain_monAvg_representative.append([seg[0]])\n",
    "    precipEff_monAvg_representative.append([seg[0]])\n",
    "    head_monEnd_representative.append([seg[0]])\n",
    "    \n",
    "    for t in range(nc_ETRef_monAvg_segments.variables['time'].shape[0]):\n",
    "        ETRef_monAvg_representative[-1].append(ETRef_monAvg_segments[t, seg[1], seg[2]])\n",
    "        rain_monAvg_representative[-1].append(rain_monAvg_segments[t, seg[1], seg[2]])\n",
    "        precipEff_monAvg_representative[-1].append(precipEff_monAvg_segments[t, seg[1], seg[2]])\n",
    "        head_monEnd_representative[-1].append(head_monEnd_segments[t, seg[1], seg[2]])"
   ]
  },
  {
   "cell_type": "markdown",
   "metadata": {},
   "source": [
    "### Evapotranspiration"
   ]
  },
  {
   "cell_type": "code",
   "execution_count": null,
   "metadata": {},
   "outputs": [],
   "source": [
    "fig = go.Figure()\n",
    "\n",
    "for i in ETRef_monAvg_representative:\n",
    "    fig.add_trace(go.Scatter(y=i[1:],\n",
    "                             x=Dates_simulation,\n",
    "                    mode='lines',\n",
    "                    name=i[0]))\n",
    "\n",
    "\n",
    "fig.update_layout(title='Reference Evapotranspiration',\n",
    "                       xaxis_title='Month',\n",
    "                       yaxis_title='Monthly Average Reference ET (m/day)')\n",
    "\n",
    "fig.show()"
   ]
  },
  {
   "cell_type": "markdown",
   "metadata": {},
   "source": [
    "The following output may allow for easier input into Excel."
   ]
  },
  {
   "cell_type": "code",
   "execution_count": null,
   "metadata": {
    "scrolled": true
   },
   "outputs": [],
   "source": [
    "file = open('ETRef.txt','w') \n",
    "for seg in ETRef_monAvg_representative:\n",
    "    \n",
    "    #print(*seg, sep = \", \")\n",
    "\n",
    "    text=''\n",
    "    for i in seg:\n",
    "        if i<0:\n",
    "            i=0\n",
    "        text += str(i)+' '\n",
    "        \n",
    "    file.write(text+'\\n')\n",
    "    \n",
    "file.close() "
   ]
  },
  {
   "cell_type": "code",
   "execution_count": null,
   "metadata": {},
   "outputs": [],
   "source": [
    "file = open('GWDepth.txt','w') \n",
    "for seg in head_monEnd_representative:\n",
    "    #print(*seg, sep = \", \")\n",
    "\n",
    "    text=''\n",
    "    for i in seg:\n",
    "        if i<0:\n",
    "            i=0\n",
    "        text += str(i)+' '\n",
    "        \n",
    "    file.write(text+'\\n')\n",
    "    \n",
    "file.close() \n",
    "\"\"\"\n",
    "fig = go.Figure()\n",
    "    \n",
    "for i in head_monEnd_representative:\n",
    "    fig.add_trace(go.Scatter(y=i[1:],\n",
    "                             x=Dates_simulation,\n",
    "                    mode='lines',\n",
    "                    name=i[0]))\n",
    "\n",
    "\n",
    "fig.update_layout(title='Groundwater depth',\n",
    "                       xaxis_title='Month',\n",
    "                       yaxis_title='Depth to GW (m)')\n",
    "\n",
    "fig.show()\n",
    "\"\"\""
   ]
  },
  {
   "cell_type": "markdown",
   "metadata": {},
   "source": [
    "### Infiltrated precipitation"
   ]
  },
  {
   "cell_type": "code",
   "execution_count": null,
   "metadata": {},
   "outputs": [],
   "source": [
    "\n",
    "fig = go.Figure()\n",
    "    \n",
    "for i in rain_monAvg_representative:\n",
    "    fig.add_trace(go.Scatter(y=i[1:],\n",
    "                             x=Dates_simulation,\n",
    "                    mode='lines',\n",
    "                    name=i[0]))\n",
    "    \n",
    "\n",
    "\n",
    "fig.update_layout(title='Rainfall',\n",
    "                       xaxis_title='Month',\n",
    "                       yaxis_title='Monthly Total Rainfall, segment average (m/month)')\n",
    "\n",
    "#fig.show()\n",
    "\n",
    "\n",
    "fig = go.Figure()\n",
    "    \n",
    "for i in precipEff_monAvg_representative:\n",
    "    fig.add_trace(go.Scatter(y=i[1:],\n",
    "                             x=Dates_simulation,\n",
    "                    mode='lines',\n",
    "                    name=i[0]))\n",
    "    \n",
    "\n",
    "\n",
    "fig.update_layout(title='Precipitation Effective',\n",
    "                       xaxis_title='(m) Monthly total',\n",
    "                       yaxis_title='Precipitation effective, Monthly total , segment average (m/month)')\n",
    "\n",
    "fig.show()"
   ]
  },
  {
   "cell_type": "markdown",
   "metadata": {},
   "source": [
    "The following output may allow for easier input into Excel."
   ]
  },
  {
   "cell_type": "code",
   "execution_count": null,
   "metadata": {
    "scrolled": false
   },
   "outputs": [],
   "source": [
    "file = open('Rain.txt','w') \n",
    "\n",
    "for seg in rain_monAvg_representative:\n",
    "    #print(*seg, sep = \", \")\n",
    "\n",
    "    text=''\n",
    "    for i in seg:\n",
    "        if i<0:\n",
    "            print(seg[0], i)\n",
    "        text += str(i)+' '\n",
    "        \n",
    "    file.write(text+'\\n')\n",
    "    \n",
    "file.close() \n",
    "\n",
    "\n",
    "file = open('PrecipEff_TotalmInCell_avgOverAgent.txt','w') \n",
    "\n",
    "for seg in precipEff_monAvg_representative:\n",
    "    text=''\n",
    "    for i in seg:\n",
    "        if i<0:\n",
    "            i=0\n",
    "            print(seg[0], i)\n",
    "        text += str(i)+' '\n",
    "        \n",
    "    file.write(text+'\\n')\n",
    "    \n",
    "file.close()\n"
   ]
  },
  {
   "cell_type": "markdown",
   "metadata": {},
   "source": [
    "## Cropland use\n",
    "Areas are given in metres squared [m2]"
   ]
  },
  {
   "cell_type": "code",
   "execution_count": null,
   "metadata": {},
   "outputs": [],
   "source": [
    "len(Dates_simulation)"
   ]
  },
  {
   "cell_type": "code",
   "execution_count": null,
   "metadata": {},
   "outputs": [],
   "source": [
    "def crops_initialise(xl_settings_file_path):\n",
    "    df = pd.read_excel(xl_settings_file_path, sheet_name='Crops')\n",
    "\n",
    "    Crops = []\n",
    "    Crops_names = []\n",
    "    for i in df.index:\n",
    "        crop = [df['Planting month'][i]]\n",
    "\n",
    "        for gs in range(1, 5):\n",
    "            gs_parameters = [df['EM' + str(gs)][i], df['KC' + str(gs)][i], df['KY' + str(gs)][i]]\n",
    "            crop.append(gs_parameters)\n",
    "\n",
    "        Crops.append(crop)\n",
    "        Crops_names.append(df['Crop'][i])\n",
    "\n",
    "    return Crops, Crops_names"
   ]
  },
  {
   "cell_type": "code",
   "execution_count": null,
   "metadata": {},
   "outputs": [],
   "source": [
    "import pandas as pd\n",
    "import numpy as np\n",
    "\n",
    "\n",
    "Crops, Crops_names = crops_initialise(xl_settings_file_path)\n",
    "\n",
    "df = {}\n",
    "\n",
    "for c in range(0, len(Crops_names)):\n",
    "    \n",
    "    df[Crops_names[c]] = Dataset(output_folder + \"areaCrops_Irr_segment[\"+str(c)+\"]_monthend.nc\", 'r')\n",
    "    df[Crops_names[c]+'_segments'] = df[Crops_names[c]].variables['areaCrops_Irr_segment['+str(c)+']_monthend'][0,:,:]\n",
    "    \n",
    "    for i in range(1,len(Dates_simulation)):\n",
    "            df[Crops_names[c]+'_segments'] = np.where(df[Crops_names[c]].variables['areaCrops_Irr_segment['+str(c)+']_monthend'][i,:,:]>df[Crops_names[c]+'_segments'], df[Crops_names[c]].variables['areaCrops_Irr_segment['+str(c)+']_monthend'][i,:,:], df[Crops_names[c]+'_segments'])\n",
    "\n",
    "            \n",
    "    df[Crops_names[c]+'_representative'] = []\n",
    "    \n",
    "    for seg in Segment_reps:\n",
    "        df[Crops_names[c]+'_representative'].append([seg[0], df[Crops_names[c]+'_segments'][seg[1], seg[2]]])\n",
    "    \n",
    "    df[Crops_names[c]+'_final'] = np.array([i[1] for i in df[Crops_names[c]+'_representative']])\n",
    "\n",
    "# Including paddy\n",
    "df['Paddy'] = Dataset(output_folder + \"areaPaddy_Irr_segment_monthend.nc\", 'r')\n",
    "df['Paddy_segments'] = df['Paddy'].variables[\"areaPaddy_Irr_segment_monthend\"][0,:,:]\n",
    "    \n",
    "for i in range(1,len(Dates_simulation)):\n",
    "        df['Paddy_segments'] = np.where(df['Paddy'].variables[\"areaPaddy_Irr_segment_monthend\"][i,:,:]>df['Paddy_segments'], df['Paddy'].variables[\"areaPaddy_Irr_segment_monthend\"][i,:,:], df['Paddy_segments'])\n",
    "\n",
    "\n",
    "df['Paddy_representative'] = []\n",
    "\n",
    "for seg in Segment_reps:\n",
    "    df['Paddy_representative'].append([seg[0], df['Paddy_segments'][seg[1], seg[2]]])\n",
    "\n",
    "df['Paddy_final'] = np.array([i[1] for i in df['Paddy_representative']])\n",
    "\n",
    "    \n",
    "    \n",
    "    \n",
    "fig = go.Figure()\n",
    "x=['s'+str(i[0]) for i in df[Crops_names[1]+'_representative']]\n",
    "\n",
    "for c in range(0, len(Crops_names)):\n",
    "        fig.add_trace(go.Bar(x = x, \n",
    "                             y = df[Crops_names[c]+'_final'],\n",
    "                             name = Crops_names[c]))\n",
    "        \n",
    "fig.add_trace(go.Bar(x = x, \n",
    "                     y = df['Paddy_final'],\n",
    "                     name = 'Paddy'))\n",
    "\n",
    "\n",
    "fig.update_layout(title='Irrigated Crop areas',\n",
    "                  xaxis_title='Segment',\n",
    "                  yaxis_title='Area (m2)', \n",
    "                  barmode='stack')\n",
    "\n",
    "fig.show()   \n",
    "    "
   ]
  },
  {
   "cell_type": "code",
   "execution_count": null,
   "metadata": {},
   "outputs": [],
   "source": [
    "file = open('IrrigatedCrops.txt','w') \n",
    "\n",
    "x=['s'+str(i[0]) for i in df[Crops_names[1]+'_representative']]\n",
    "\n",
    "for i in range(len(x)):\n",
    "    \n",
    "    text = x[i]+', '\n",
    "    for c in range(0, len(Crops_names)):\n",
    "        y = df[Crops_names[c]+'_final'][i],\n",
    "        if c<len(Crops_names)-1:\n",
    "            text += str(y[0])+', '\n",
    "        else:\n",
    "            text += str(y[0])\n",
    "    \n",
    "    text += ', '+str(df['Paddy_final'][i])\n",
    "        \n",
    "    print(text)\n",
    "    file.write(text+'\\n')\n",
    "\n",
    "file.close() \n",
    "    \n",
    "\n",
    "        "
   ]
  },
  {
   "cell_type": "code",
   "execution_count": null,
   "metadata": {},
   "outputs": [],
   "source": [
    "import pandas as pd\n",
    "import numpy as np\n",
    "\n",
    "#basepath = 'C:\\GitHub\\FUSE\\CWatM_settings'\n",
    "#xl_settings_file_path = basepath + r'\\cwatm_settings.xlsx'\n",
    "Crops, Crops_names = crops_initialise(xl_settings_file_path)\n",
    "\n",
    "df = {}\n",
    "\n",
    "for c in range(0, len(Crops_names)):\n",
    "    \n",
    "    df[Crops_names[c]] = Dataset(output_folder + \"areaCrops_nonIrr_segment[\"+str(c)+\"]_monthend.nc\", 'r')\n",
    "    df[Crops_names[c]+'_segments'] = df[Crops_names[c]].variables['areaCrops_nonIrr_segment['+str(c)+']_monthend'][0,:,:]\n",
    "    \n",
    "    for i in range(1,len(Dates_simulation)):\n",
    "            df[Crops_names[c]+'_segments'] = np.where(df[Crops_names[c]].variables['areaCrops_nonIrr_segment['+str(c)+']_monthend'][i,:,:]>df[Crops_names[c]+'_segments'], df[Crops_names[c]].variables['areaCrops_nonIrr_segment['+str(c)+']_monthend'][i,:,:], df[Crops_names[c]+'_segments'])\n",
    "\n",
    "            \n",
    "    df[Crops_names[c]+'_representative'] = []\n",
    "    \n",
    "    for seg in Segment_reps:\n",
    "        df[Crops_names[c]+'_representative'].append([seg[0], df[Crops_names[c]+'_segments'][seg[1], seg[2]]])\n",
    "    \n",
    "    df[Crops_names[c]+'_final'] = np.array([i[1] for i in df[Crops_names[c]+'_representative']])\n",
    "    \n",
    "fig = go.Figure()\n",
    "x=['s'+str(i[0]) for i in df[Crops_names[1]+'_representative']]\n",
    "\n",
    "for c in range(0, len(Crops_names)):\n",
    "        fig.add_trace(go.Bar(x = x, \n",
    "                             y = df[Crops_names[c]+'_final'],\n",
    "                             name = Crops_names[c]))\n",
    "\n",
    "fig.update_layout(title='Rained Crop areas',\n",
    "                  xaxis_title='Segment',\n",
    "                  yaxis_title='Area (m2)', \n",
    "                  barmode='stack')\n",
    "\n",
    "fig.show()   \n",
    "    "
   ]
  },
  {
   "cell_type": "markdown",
   "metadata": {},
   "source": [
    "## Crop-specific and segment-specific areas"
   ]
  },
  {
   "cell_type": "code",
   "execution_count": null,
   "metadata": {},
   "outputs": [],
   "source": [
    "file = open('RainfedCrops.txt','w') \n",
    "\n",
    "x=['s'+str(i[0]) for i in df[Crops_names[1]+'_representative']]\n",
    "\n",
    "for i in range(len(x)):\n",
    "    \n",
    "    text = x[i]+', '\n",
    "    for c in range(0, len(Crops_names)):\n",
    "        y = df[Crops_names[c]+'_final'][i],\n",
    "        if c<len(Crops_names)-1:\n",
    "            text += str(y[0])+', '\n",
    "        else:\n",
    "            text += str(y[0])\n",
    "    print(text)\n",
    "    file.write(text+'\\n')\n",
    "\n",
    "file.close() \n",
    "    \n",
    "\n",
    "        "
   ]
  }
 ],
 "metadata": {
  "kernelspec": {
   "display_name": "Python 3",
   "language": "python",
   "name": "python3"
  },
  "language_info": {
   "codemirror_mode": {
    "name": "ipython",
    "version": 3
   },
   "file_extension": ".py",
   "mimetype": "text/x-python",
   "name": "python",
   "nbconvert_exporter": "python",
   "pygments_lexer": "ipython3",
   "version": "3.9.7"
  }
 },
 "nbformat": 4,
 "nbformat_minor": 2
}
