{
 "cells": [
  {
   "cell_type": "code",
   "execution_count": 1,
   "metadata": {
    "extensions": {
     "jupyter_dashboards": {
      "version": 1,
      "views": {
       "grid_default": {},
       "report_default": {
        "hidden": true
       }
      }
     }
    }
   },
   "outputs": [],
   "source": [
    "#output_folder = 'C:/GitHub/bhima_repo/notebooks/Hydro/CWatM_output_Examples/CWatM_output_98_99' \n",
    "output_folder = r'C:\\Data\\bhima_Input_mainCWatM\\Output'\n",
    "#output_folder = 'C:\\CWatM_output_Examples\\CWatM_output_oneYear_FallowAsStandard'\n",
    "xl_settings_file_path = r'C:\\GitHub\\FUSE\\CWatM_settings\\cwatm_settings.xlsx'"
   ]
  },
  {
   "cell_type": "markdown",
   "metadata": {
    "extensions": {
     "jupyter_dashboards": {
      "version": 1,
      "views": {
       "grid_default": {},
       "report_default": {
        "hidden": false
       }
      }
     }
    }
   },
   "source": [
    "<img style=\"float: right;\" src=\"https://drive.google.com/uc?export=view&id=1qVA-sPHp5TY5D7enbU7mF4zZ8obu5wrC\" width=120 height=120 />\n",
    "\n",
    "\n",
    "# Land Cover & Use\n",
    "\n",
    "The flow of water through and within cells is influenced by the distribution of land covers and use. The flows addressed separately for each land cover include irrigation, soil infiltration, percolation, groundwater recharge, capillary rise, evapotranspiration, and runoff. \n",
    "\n",
    "There are six land covers in CWatM. The covers associated with agriculture are planted with different crops. The FUSE example includes 19 crops along with fallowed and general lands."
   ]
  },
  {
   "cell_type": "markdown",
   "metadata": {},
   "source": [
    "## Simulation results"
   ]
  },
  {
   "cell_type": "code",
   "execution_count": 2,
   "metadata": {
    "scrolled": false
   },
   "outputs": [
    {
     "ename": "FileNotFoundError",
     "evalue": "[Errno 2] No such file or directory: b'C:\\\\Data\\\\bhima_Input_mainCWatM\\\\Output/availableArableLand_monthend.nc'",
     "output_type": "error",
     "traceback": [
      "\u001b[1;31m---------------------------------------------------------------------------\u001b[0m",
      "\u001b[1;31mFileNotFoundError\u001b[0m                         Traceback (most recent call last)",
      "\u001b[1;32mC:\\GitHub\\cwatm_pre_post\\postprocessing\\Notebooks\\Functions_5_LandCoverUse_CWatM.ipynb\u001b[0m in \u001b[0;36m<module>\u001b[1;34m\u001b[0m\n\u001b[0;32m     78\u001b[0m \u001b[1;33m\u001b[0m\u001b[0m\n\u001b[0;32m     79\u001b[0m     \u001b[0mnc_filename\u001b[0m \u001b[1;33m=\u001b[0m \u001b[0moutput_folder\u001b[0m \u001b[1;33m+\u001b[0m\u001b[1;34m'/'\u001b[0m\u001b[1;33m+\u001b[0m \u001b[0mvar\u001b[0m\u001b[1;33m[\u001b[0m\u001b[1;36m0\u001b[0m\u001b[1;33m]\u001b[0m \u001b[1;33m+\u001b[0m \u001b[1;34m'_monthend.nc'\u001b[0m\u001b[1;33m\u001b[0m\u001b[1;33m\u001b[0m\u001b[0m\n\u001b[1;32m---> 80\u001b[1;33m     \u001b[0mtemp\u001b[0m \u001b[1;33m=\u001b[0m \u001b[0mDataset\u001b[0m\u001b[1;33m(\u001b[0m\u001b[0mnc_filename\u001b[0m\u001b[1;33m,\u001b[0m \u001b[1;34m'r'\u001b[0m\u001b[1;33m)\u001b[0m\u001b[1;33m.\u001b[0m\u001b[0mvariables\u001b[0m\u001b[1;33m[\u001b[0m\u001b[0mvar\u001b[0m\u001b[1;33m[\u001b[0m\u001b[1;36m0\u001b[0m\u001b[1;33m]\u001b[0m\u001b[1;33m+\u001b[0m \u001b[1;34m'_monthend'\u001b[0m\u001b[1;33m]\u001b[0m\u001b[1;33m[\u001b[0m\u001b[1;33m:\u001b[0m\u001b[1;33m,\u001b[0m\u001b[1;33m:\u001b[0m\u001b[1;33m,\u001b[0m\u001b[1;33m:\u001b[0m\u001b[1;33m]\u001b[0m\u001b[1;33m\u001b[0m\u001b[1;33m\u001b[0m\u001b[0m\n\u001b[0m\u001b[0;32m     81\u001b[0m     \u001b[0mDaily_basinSum\u001b[0m \u001b[1;33m=\u001b[0m \u001b[1;33m[\u001b[0m\u001b[1;33m]\u001b[0m\u001b[1;33m\u001b[0m\u001b[1;33m\u001b[0m\u001b[0m\n\u001b[0;32m     82\u001b[0m \u001b[1;33m\u001b[0m\u001b[0m\n",
      "\u001b[1;32msrc\\netCDF4\\_netCDF4.pyx\u001b[0m in \u001b[0;36mnetCDF4._netCDF4.Dataset.__init__\u001b[1;34m()\u001b[0m\n",
      "\u001b[1;32msrc\\netCDF4\\_netCDF4.pyx\u001b[0m in \u001b[0;36mnetCDF4._netCDF4._ensure_nc_success\u001b[1;34m()\u001b[0m\n",
      "\u001b[1;31mFileNotFoundError\u001b[0m: [Errno 2] No such file or directory: b'C:\\\\Data\\\\bhima_Input_mainCWatM\\\\Output/availableArableLand_monthend.nc'"
     ]
    },
    {
     "ename": "FileNotFoundError",
     "evalue": "[Errno 2] No such file or directory: b'C:\\\\Data\\\\bhima_Input_mainCWatM\\\\Output/availableArableLand_monthend.nc'",
     "output_type": "error",
     "traceback": [
      "\u001b[1;31m---------------------------------------------------------------------------\u001b[0m",
      "\u001b[1;31mFileNotFoundError\u001b[0m                         Traceback (most recent call last)",
      "\u001b[1;32m<ipython-input-2-a26ecc9f6dd6>\u001b[0m in \u001b[0;36m<module>\u001b[1;34m\u001b[0m\n\u001b[1;32m----> 1\u001b[1;33m \u001b[0mget_ipython\u001b[0m\u001b[1;33m(\u001b[0m\u001b[1;33m)\u001b[0m\u001b[1;33m.\u001b[0m\u001b[0mrun_line_magic\u001b[0m\u001b[1;33m(\u001b[0m\u001b[1;34m'run'\u001b[0m\u001b[1;33m,\u001b[0m \u001b[1;34m'./Functions_5_LandCoverUse_CWatM.ipynb'\u001b[0m\u001b[1;33m)\u001b[0m\u001b[1;33m\u001b[0m\u001b[1;33m\u001b[0m\u001b[0m\n\u001b[0m",
      "\u001b[1;32mc:\\users\\nb-smilovic\\envs\\iiasa\\lib\\site-packages\\IPython\\core\\interactiveshell.py\u001b[0m in \u001b[0;36mrun_line_magic\u001b[1;34m(self, magic_name, line, _stack_depth)\u001b[0m\n\u001b[0;32m   2342\u001b[0m                 \u001b[0mkwargs\u001b[0m\u001b[1;33m[\u001b[0m\u001b[1;34m'local_ns'\u001b[0m\u001b[1;33m]\u001b[0m \u001b[1;33m=\u001b[0m \u001b[0mself\u001b[0m\u001b[1;33m.\u001b[0m\u001b[0mget_local_scope\u001b[0m\u001b[1;33m(\u001b[0m\u001b[0mstack_depth\u001b[0m\u001b[1;33m)\u001b[0m\u001b[1;33m\u001b[0m\u001b[1;33m\u001b[0m\u001b[0m\n\u001b[0;32m   2343\u001b[0m             \u001b[1;32mwith\u001b[0m \u001b[0mself\u001b[0m\u001b[1;33m.\u001b[0m\u001b[0mbuiltin_trap\u001b[0m\u001b[1;33m:\u001b[0m\u001b[1;33m\u001b[0m\u001b[1;33m\u001b[0m\u001b[0m\n\u001b[1;32m-> 2344\u001b[1;33m                 \u001b[0mresult\u001b[0m \u001b[1;33m=\u001b[0m \u001b[0mfn\u001b[0m\u001b[1;33m(\u001b[0m\u001b[1;33m*\u001b[0m\u001b[0margs\u001b[0m\u001b[1;33m,\u001b[0m \u001b[1;33m**\u001b[0m\u001b[0mkwargs\u001b[0m\u001b[1;33m)\u001b[0m\u001b[1;33m\u001b[0m\u001b[1;33m\u001b[0m\u001b[0m\n\u001b[0m\u001b[0;32m   2345\u001b[0m             \u001b[1;32mreturn\u001b[0m \u001b[0mresult\u001b[0m\u001b[1;33m\u001b[0m\u001b[1;33m\u001b[0m\u001b[0m\n\u001b[0;32m   2346\u001b[0m \u001b[1;33m\u001b[0m\u001b[0m\n",
      "\u001b[1;32m<decorator-gen-53>\u001b[0m in \u001b[0;36mrun\u001b[1;34m(self, parameter_s, runner, file_finder)\u001b[0m\n",
      "\u001b[1;32mc:\\users\\nb-smilovic\\envs\\iiasa\\lib\\site-packages\\IPython\\core\\magic.py\u001b[0m in \u001b[0;36m<lambda>\u001b[1;34m(f, *a, **k)\u001b[0m\n\u001b[0;32m    185\u001b[0m     \u001b[1;31m# but it's overkill for just that one bit of state.\u001b[0m\u001b[1;33m\u001b[0m\u001b[1;33m\u001b[0m\u001b[0m\n\u001b[0;32m    186\u001b[0m     \u001b[1;32mdef\u001b[0m \u001b[0mmagic_deco\u001b[0m\u001b[1;33m(\u001b[0m\u001b[0marg\u001b[0m\u001b[1;33m)\u001b[0m\u001b[1;33m:\u001b[0m\u001b[1;33m\u001b[0m\u001b[1;33m\u001b[0m\u001b[0m\n\u001b[1;32m--> 187\u001b[1;33m         \u001b[0mcall\u001b[0m \u001b[1;33m=\u001b[0m \u001b[1;32mlambda\u001b[0m \u001b[0mf\u001b[0m\u001b[1;33m,\u001b[0m \u001b[1;33m*\u001b[0m\u001b[0ma\u001b[0m\u001b[1;33m,\u001b[0m \u001b[1;33m**\u001b[0m\u001b[0mk\u001b[0m\u001b[1;33m:\u001b[0m \u001b[0mf\u001b[0m\u001b[1;33m(\u001b[0m\u001b[1;33m*\u001b[0m\u001b[0ma\u001b[0m\u001b[1;33m,\u001b[0m \u001b[1;33m**\u001b[0m\u001b[0mk\u001b[0m\u001b[1;33m)\u001b[0m\u001b[1;33m\u001b[0m\u001b[1;33m\u001b[0m\u001b[0m\n\u001b[0m\u001b[0;32m    188\u001b[0m \u001b[1;33m\u001b[0m\u001b[0m\n\u001b[0;32m    189\u001b[0m         \u001b[1;32mif\u001b[0m \u001b[0mcallable\u001b[0m\u001b[1;33m(\u001b[0m\u001b[0marg\u001b[0m\u001b[1;33m)\u001b[0m\u001b[1;33m:\u001b[0m\u001b[1;33m\u001b[0m\u001b[1;33m\u001b[0m\u001b[0m\n",
      "\u001b[1;32mc:\\users\\nb-smilovic\\envs\\iiasa\\lib\\site-packages\\IPython\\core\\magics\\execution.py\u001b[0m in \u001b[0;36mrun\u001b[1;34m(self, parameter_s, runner, file_finder)\u001b[0m\n\u001b[0;32m    722\u001b[0m             \u001b[1;32mwith\u001b[0m \u001b[0mpreserve_keys\u001b[0m\u001b[1;33m(\u001b[0m\u001b[0mself\u001b[0m\u001b[1;33m.\u001b[0m\u001b[0mshell\u001b[0m\u001b[1;33m.\u001b[0m\u001b[0muser_ns\u001b[0m\u001b[1;33m,\u001b[0m \u001b[1;34m'__file__'\u001b[0m\u001b[1;33m)\u001b[0m\u001b[1;33m:\u001b[0m\u001b[1;33m\u001b[0m\u001b[1;33m\u001b[0m\u001b[0m\n\u001b[0;32m    723\u001b[0m                 \u001b[0mself\u001b[0m\u001b[1;33m.\u001b[0m\u001b[0mshell\u001b[0m\u001b[1;33m.\u001b[0m\u001b[0muser_ns\u001b[0m\u001b[1;33m[\u001b[0m\u001b[1;34m'__file__'\u001b[0m\u001b[1;33m]\u001b[0m \u001b[1;33m=\u001b[0m \u001b[0mfilename\u001b[0m\u001b[1;33m\u001b[0m\u001b[1;33m\u001b[0m\u001b[0m\n\u001b[1;32m--> 724\u001b[1;33m                 \u001b[0mself\u001b[0m\u001b[1;33m.\u001b[0m\u001b[0mshell\u001b[0m\u001b[1;33m.\u001b[0m\u001b[0msafe_execfile_ipy\u001b[0m\u001b[1;33m(\u001b[0m\u001b[0mfilename\u001b[0m\u001b[1;33m,\u001b[0m \u001b[0mraise_exceptions\u001b[0m\u001b[1;33m=\u001b[0m\u001b[1;32mTrue\u001b[0m\u001b[1;33m)\u001b[0m\u001b[1;33m\u001b[0m\u001b[1;33m\u001b[0m\u001b[0m\n\u001b[0m\u001b[0;32m    725\u001b[0m             \u001b[1;32mreturn\u001b[0m\u001b[1;33m\u001b[0m\u001b[1;33m\u001b[0m\u001b[0m\n\u001b[0;32m    726\u001b[0m \u001b[1;33m\u001b[0m\u001b[0m\n",
      "\u001b[1;32mc:\\users\\nb-smilovic\\envs\\iiasa\\lib\\site-packages\\IPython\\core\\interactiveshell.py\u001b[0m in \u001b[0;36msafe_execfile_ipy\u001b[1;34m(self, fname, shell_futures, raise_exceptions)\u001b[0m\n\u001b[0;32m   2829\u001b[0m                     \u001b[0mresult\u001b[0m \u001b[1;33m=\u001b[0m \u001b[0mself\u001b[0m\u001b[1;33m.\u001b[0m\u001b[0mrun_cell\u001b[0m\u001b[1;33m(\u001b[0m\u001b[0mcell\u001b[0m\u001b[1;33m,\u001b[0m \u001b[0msilent\u001b[0m\u001b[1;33m=\u001b[0m\u001b[1;32mTrue\u001b[0m\u001b[1;33m,\u001b[0m \u001b[0mshell_futures\u001b[0m\u001b[1;33m=\u001b[0m\u001b[0mshell_futures\u001b[0m\u001b[1;33m)\u001b[0m\u001b[1;33m\u001b[0m\u001b[1;33m\u001b[0m\u001b[0m\n\u001b[0;32m   2830\u001b[0m                     \u001b[1;32mif\u001b[0m \u001b[0mraise_exceptions\u001b[0m\u001b[1;33m:\u001b[0m\u001b[1;33m\u001b[0m\u001b[1;33m\u001b[0m\u001b[0m\n\u001b[1;32m-> 2831\u001b[1;33m                         \u001b[0mresult\u001b[0m\u001b[1;33m.\u001b[0m\u001b[0mraise_error\u001b[0m\u001b[1;33m(\u001b[0m\u001b[1;33m)\u001b[0m\u001b[1;33m\u001b[0m\u001b[1;33m\u001b[0m\u001b[0m\n\u001b[0m\u001b[0;32m   2832\u001b[0m                     \u001b[1;32melif\u001b[0m \u001b[1;32mnot\u001b[0m \u001b[0mresult\u001b[0m\u001b[1;33m.\u001b[0m\u001b[0msuccess\u001b[0m\u001b[1;33m:\u001b[0m\u001b[1;33m\u001b[0m\u001b[1;33m\u001b[0m\u001b[0m\n\u001b[0;32m   2833\u001b[0m                         \u001b[1;32mbreak\u001b[0m\u001b[1;33m\u001b[0m\u001b[1;33m\u001b[0m\u001b[0m\n",
      "\u001b[1;32mc:\\users\\nb-smilovic\\envs\\iiasa\\lib\\site-packages\\IPython\\core\\interactiveshell.py\u001b[0m in \u001b[0;36mraise_error\u001b[1;34m(self)\u001b[0m\n\u001b[0;32m    329\u001b[0m             \u001b[1;32mraise\u001b[0m \u001b[0mself\u001b[0m\u001b[1;33m.\u001b[0m\u001b[0merror_before_exec\u001b[0m\u001b[1;33m\u001b[0m\u001b[1;33m\u001b[0m\u001b[0m\n\u001b[0;32m    330\u001b[0m         \u001b[1;32mif\u001b[0m \u001b[0mself\u001b[0m\u001b[1;33m.\u001b[0m\u001b[0merror_in_exec\u001b[0m \u001b[1;32mis\u001b[0m \u001b[1;32mnot\u001b[0m \u001b[1;32mNone\u001b[0m\u001b[1;33m:\u001b[0m\u001b[1;33m\u001b[0m\u001b[1;33m\u001b[0m\u001b[0m\n\u001b[1;32m--> 331\u001b[1;33m             \u001b[1;32mraise\u001b[0m \u001b[0mself\u001b[0m\u001b[1;33m.\u001b[0m\u001b[0merror_in_exec\u001b[0m\u001b[1;33m\u001b[0m\u001b[1;33m\u001b[0m\u001b[0m\n\u001b[0m\u001b[0;32m    332\u001b[0m \u001b[1;33m\u001b[0m\u001b[0m\n\u001b[0;32m    333\u001b[0m     \u001b[1;32mdef\u001b[0m \u001b[0m__repr__\u001b[0m\u001b[1;33m(\u001b[0m\u001b[0mself\u001b[0m\u001b[1;33m)\u001b[0m\u001b[1;33m:\u001b[0m\u001b[1;33m\u001b[0m\u001b[1;33m\u001b[0m\u001b[0m\n",
      "    \u001b[1;31m[... skipping hidden 1 frame]\u001b[0m\n",
      "\u001b[1;32m<ipython-input-2-ac4c1b1a7ed7>\u001b[0m in \u001b[0;36m<module>\u001b[1;34m\u001b[0m\n\u001b[0;32m     78\u001b[0m \u001b[1;33m\u001b[0m\u001b[0m\n\u001b[0;32m     79\u001b[0m     \u001b[0mnc_filename\u001b[0m \u001b[1;33m=\u001b[0m \u001b[0moutput_folder\u001b[0m \u001b[1;33m+\u001b[0m\u001b[1;34m'/'\u001b[0m\u001b[1;33m+\u001b[0m \u001b[0mvar\u001b[0m\u001b[1;33m[\u001b[0m\u001b[1;36m0\u001b[0m\u001b[1;33m]\u001b[0m \u001b[1;33m+\u001b[0m \u001b[1;34m'_monthend.nc'\u001b[0m\u001b[1;33m\u001b[0m\u001b[1;33m\u001b[0m\u001b[0m\n\u001b[1;32m---> 80\u001b[1;33m     \u001b[0mtemp\u001b[0m \u001b[1;33m=\u001b[0m \u001b[0mDataset\u001b[0m\u001b[1;33m(\u001b[0m\u001b[0mnc_filename\u001b[0m\u001b[1;33m,\u001b[0m \u001b[1;34m'r'\u001b[0m\u001b[1;33m)\u001b[0m\u001b[1;33m.\u001b[0m\u001b[0mvariables\u001b[0m\u001b[1;33m[\u001b[0m\u001b[0mvar\u001b[0m\u001b[1;33m[\u001b[0m\u001b[1;36m0\u001b[0m\u001b[1;33m]\u001b[0m\u001b[1;33m+\u001b[0m \u001b[1;34m'_monthend'\u001b[0m\u001b[1;33m]\u001b[0m\u001b[1;33m[\u001b[0m\u001b[1;33m:\u001b[0m\u001b[1;33m,\u001b[0m\u001b[1;33m:\u001b[0m\u001b[1;33m,\u001b[0m\u001b[1;33m:\u001b[0m\u001b[1;33m]\u001b[0m\u001b[1;33m\u001b[0m\u001b[1;33m\u001b[0m\u001b[0m\n\u001b[0m\u001b[0;32m     81\u001b[0m     \u001b[0mDaily_basinSum\u001b[0m \u001b[1;33m=\u001b[0m \u001b[1;33m[\u001b[0m\u001b[1;33m]\u001b[0m\u001b[1;33m\u001b[0m\u001b[1;33m\u001b[0m\u001b[0m\n\u001b[0;32m     82\u001b[0m \u001b[1;33m\u001b[0m\u001b[0m\n",
      "\u001b[1;32msrc\\netCDF4\\_netCDF4.pyx\u001b[0m in \u001b[0;36mnetCDF4._netCDF4.Dataset.__init__\u001b[1;34m()\u001b[0m\n",
      "\u001b[1;32msrc\\netCDF4\\_netCDF4.pyx\u001b[0m in \u001b[0;36mnetCDF4._netCDF4._ensure_nc_success\u001b[1;34m()\u001b[0m\n",
      "\u001b[1;31mFileNotFoundError\u001b[0m: [Errno 2] No such file or directory: b'C:\\\\Data\\\\bhima_Input_mainCWatM\\\\Output/availableArableLand_monthend.nc'"
     ]
    }
   ],
   "source": [
    "run ./Functions_5_LandCoverUse_CWatM.ipynb"
   ]
  },
  {
   "cell_type": "code",
   "execution_count": null,
   "metadata": {
    "scrolled": false
   },
   "outputs": [],
   "source": [
    "#display(df)\n",
    "fig_planted_Irr.show()\n",
    "fig_planted_nonIrr.show()\n",
    "fig_planted_total.show()\n",
    "fig_daily.show()"
   ]
  },
  {
   "cell_type": "code",
   "execution_count": null,
   "metadata": {},
   "outputs": [],
   "source": [
    "run ./6_Maps_CWatM.ipynb"
   ]
  },
  {
   "cell_type": "markdown",
   "metadata": {},
   "source": [
    "The following maps show available land as aggregated to agents and at the CWatM resolution, representing May, 2016."
   ]
  },
  {
   "cell_type": "code",
   "execution_count": null,
   "metadata": {
    "scrolled": false
   },
   "outputs": [],
   "source": [
    "display_map('availableArableLand_segment_monthend', day=-1,  Rad=2, colourScale ='BrBG', dark=False,outputFolder = output_folder) #)2.6) #colourScale='balance_r'\n",
    "display_map('availableArableLand_monthend', day=-1, Rad=2, colourScale ='BrBG', dark=False,outputFolder = output_folder) #)2.6) #colourScale='balance_r'"
   ]
  },
  {
   "cell_type": "markdown",
   "metadata": {},
   "source": [
    "### Land covers\n",
    "\n",
    "0. Forest,\n",
    "1. Grasslands (rainfed fields),\n",
    "2. Paddy fields,\n",
    "3. Irrigated fields,\n",
    "4. Sealed,\n",
    "5. Water.\n",
    "\n",
    "### Crops\n",
    "Irrigated and rainfed fields are further disaggreated into crops. Crops are harvested on the the first day of the month following their last growth stage. Crops are then planted on the first day of their planting month. The crop choices and related growth-stage parameters are inputs in the **Crops** tab of the Excel settings file. The necessary crop parameters include growth stage-specific duration, crop coefficients, and yield coefficeints, as well as planting month. This demonstration uses 19 crop varieties capturing the majority of crops in the region. Paddy rice is a land cover and is output as such. Crop names ending with K (Kharif) or R (Rabi) represent seasonal varities. Crop parameter choices were informed by crop-specific studies when available and generally the FAO Irrigation and drainage paper 66 and FAO-related crop information. \n",
    "\n",
    "0. SugarAdsali\n",
    "1. SugarPreseasonal\n",
    "2. SugarSuru\n",
    "3. Wheat\n",
    "4. FruitVegK\n",
    "5. FruitVegR\n",
    "6. SpicesK\n",
    "7. SpicesR\n",
    "8. Cotton\n",
    "9. Soybean\n",
    "10. Chickpea\n",
    "11. Groundnut\n",
    "12. SorghumK\n",
    "13. SorghumR\n",
    "14. MaizeK\n",
    "15. MaizeR\n",
    "16. GeneralK\n",
    "17. GeneralR\n",
    "18. (Paddy rice)"
   ]
  },
  {
   "cell_type": "markdown",
   "metadata": {},
   "source": [
    "### General and fallow lands \n",
    "\n",
    "General lands and fallow lands are uses of the land covers Irrigated fields and Grasslands. Fallow represents fields with only bare soil (fields that have been prepared for agriculture) and General land as representative of its land cover's water use -- there are General lands separately for Irrigated fields and Grasslands. To determine the General lands' water use, this demonstration uses globally available crop coefficeints derived from MIRCA related to the two land covers at 5-minute resolution. General land can be a specific input map, set to consume all unallocated land, and adapt with automatic fallowing.\n",
    "\n",
    "- <u>Automatic fallowing</u> transforms General lands into Fallow as General land is replaced by crops\n",
    "- <u>Fallowing as standard</u> is available for Irrigated fields, and sets land not currently planted with crops to fallow.\n",
    "- <u>General land as standard</u> sets land not currently planted with a crop as General land. This setting applies both to Irrigated fields and Grasslands at once.\n",
    "- <u>General land as fixed input</u> allows the user to input a specific map for Irrigated fields General land or Grasslands General lands. The land remaining after General lands and currently planted crops is Fallow."
   ]
  },
  {
   "cell_type": "markdown",
   "metadata": {},
   "source": [
    "<img style=\"float: right;\" src=\"https://docs.google.com/uc?export=download&id=183ZrYmAFNyiYGZUaysH0u7N7o35N8IWG\"/>"
   ]
  },
  {
   "cell_type": "markdown",
   "metadata": {},
   "source": [
    "## CWatM Outputs\n",
    "\n",
    "The following CWatM outputs (in *italics*) are suggested All of these variables must be output to display the following figures. Available land is defined as Irrigated fields and Grasslands not currently growing a crop.\n",
    "\n",
    "Naming convention: *X(Y)Z* implies that *XY* and *XYZ* are both variables. \n",
    "\n",
    "Output | Description\n",
    "--- | --- \n",
    "*fracCrops_(non)Irr[c]* | Fraction of crop c currently planted on Irrigated fields/Grasslands\n",
    "*fracCrops_(non)IrrLandDemand[c]* |  Fraction of crop c proposed to be planted on Irrigated fields/Grasslands\n",
    "*frac_total(non)Irr*| Fraction of specific crops currently planted on Irrigated fields/Grasslands\n",
    "*fracVegCover[0...5]*| Fraction attributed to each land cover \n",
    "*fallow(non)Irr*| Fraction of fallowed land on Irrigated fields/Grasslands\n",
    "*GeneralCrop_(non)Irr*| Fraction of general crop on Irrigated fields/Grasslands\n",
    "*areaCrops_(non)Irr_segment[c]* | Area ($m^2$) of crop c on Irrigated fields/Grasslands within prescribed segments\n",
    "*availableArableLand(_segment)* | Area ($m^2$) of available land \n",
    "*actTransTotal_grasslands* | Transpiration on grasslands (metres)\n",
    "*actTransTotal_paddy* | Transpiration on paddy fields (metres)\n",
    "*actTransTotal_nonpaddy* | Transpiration on nonpaddy irrigated fields (metres)\n",
    "*act_irrWithdrawal* | Abstractions for irrigation (metres)\n",
    "*act_nonIrrWithdrawal* | Non-irrigation abstractions (metres)\n",
    "*act_domWithdrawal* | Domestic abstractions (metres)\n",
    "*act_indWithdrawal* | Industrial abstractions / Basin transfer (metres)\n",
    "*Rain* | Rainfall (metres)\n",
    "*nonIrrDemand* | Non-irrigation demand (metres)\n",
    "*totalIrrDemand* | Irrigation demand (metres)\n",
    "*domesticDemand* | Domestic demand (metres)\n",
    "*industryDemand* | Industrial demand (metres)\n",
    "*act_irrPaddyDemand* | Paddy demand (metres)\n",
    "*act_irrNonpaddyDemand* |Non-paddy irrigation demand (metres)\n",
    "*cellArea* | Cell (Pixel) area ($m^2$)"
   ]
  },
  {
   "cell_type": "markdown",
   "metadata": {},
   "source": [
    "Explicitly, the Land Cover & Use Outputs for FUSE include:\n",
    "\n",
    "OUT_MAP_MonthEnd:\n",
    "fracVegCover[0], fracVegCover[1], fracVegCover[2], fracVegCover[3], fracVegCover[4], fracVegCover[5], frac_totalIrr, frac_totalnonIrr, fracCrops_Irr[0],  fracCrops_Irr[1], fracCrops_Irr[2], fracCrops_Irr[3], fracCrops_Irr[4], fracCrops_Irr[5], fracCrops_Irr[6], fracCrops_Irr[7], fracCrops_Irr[8], fracCrops_Irr[9], fracCrops_Irr[10], fracCrops_Irr[11], fracCrops_Irr[12], fracCrops_Irr[13], fracCrops_Irr[14], fracCrops_Irr[15], fracCrops_Irr[16], fracCrops_Irr[17], fracCrops_nonIrr[0], fracCrops_nonIrr[1], fracCrops_nonIrr[2], fracCrops_nonIrr[3], fracCrops_nonIrr[4], fracCrops_nonIrr[5], fracCrops_nonIrr[6], fracCrops_nonIrr[7],  fracCrops_nonIrr[8], fracCrops_nonIrr[9], fracCrops_nonIrr[10], fracCrops_nonIrr[11], fracCrops_nonIrr[12], fracCrops_nonIrr[13], fracCrops_nonIrr[14], fracCrops_nonIrr[15], fracCrops_nonIrr[16], fracCrops_nonIrr[17], fracCrops_IrrLandDemand[0],  fracCrops_IrrLandDemand[1], fracCrops_IrrLandDemand[2], fracCrops_IrrLandDemand[3], fracCrops_IrrLandDemand[4], fracCrops_IrrLandDemand[5], fracCrops_IrrLandDemand[6], fracCrops_IrrLandDemand[7],fracCrops_IrrLandDemand[8], fracCrops_IrrLandDemand[9], fracCrops_IrrLandDemand[10], fracCrops_IrrLandDemand[11], fracCrops_IrrLandDemand[12], fracCrops_IrrLandDemand[13], fracCrops_IrrLandDemand[14], fracCrops_IrrLandDemand[15], fracCrops_IrrLandDemand[16], fracCrops_IrrLandDemand[17], fracCrops_nonIrrLandDemand[0],  fracCrops_nonIrrLandDemand[1], fracCrops_nonIrrLandDemand[2], fracCrops_nonIrrLandDemand[3], fracCrops_nonIrrLandDemand[4], fracCrops_nonIrrLandDemand[5], fracCrops_nonIrrLandDemand[6], fracCrops_nonIrrLandDemand[7], fracCrops_nonIrrLandDemand[8], fracCrops_nonIrrLandDemand[9], fracCrops_nonIrrLandDemand[10], fracCrops_nonIrrLandDemand[11], fracCrops_nonIrrLandDemand[12], fracCrops_nonIrrLandDemand[13], fracCrops_nonIrrLandDemand[14], fracCrops_nonIrrLandDemand[15], fracCrops_nonIrrLandDemand[16], fracCrops_nonIrrLandDemand[17], fallowIrr, fallownonIrr, GeneralCrop_Irr, GeneralCrop_nonIrr, head_development, areaPaddy_Irr_segment, areaCrops_Irr_segment[0], areaCrops_nonIrr_segment[0], areaCrops_Irr_segment[1], areaCrops_nonIrr_segment[1], areaCrops_Irr_segment[2], areaCrops_nonIrr_segment[2], areaCrops_Irr_segment[3], areaCrops_nonIrr_segment[3], areaCrops_Irr_segment[4], areaCrops_nonIrr_segment[4], areaCrops_Irr_segment[5], areaCrops_nonIrr_segment[5], areaCrops_Irr_segment[6], areaCrops_nonIrr_segment[6], areaCrops_Irr_segment[7], areaCrops_nonIrr_segment[7], areaCrops_Irr_segment[8], areaCrops_nonIrr_segment[8], areaCrops_Irr_segment[9], areaCrops_nonIrr_segment[9], areaCrops_Irr_segment[10], areaCrops_nonIrr_segment[10], areaCrops_Irr_segment[11], areaCrops_nonIrr_segment[11], areaCrops_Irr_segment[12], areaCrops_nonIrr_segment[12], areaCrops_Irr_segment[13], areaCrops_nonIrr_segment[13], areaCrops_Irr_segment[14], areaCrops_nonIrr_segment[14], areaCrops_Irr_segment[15], areaCrops_nonIrr_segment[15] , areaCrops_Irr_segment[16], areaCrops_nonIrr_segment[16],  areaCrops_Irr_segment[17], areaCrops_nonIrr_segment[17], availableArableLand, availableArableLand_segment\n",
    "\n",
    "OUT_MAP_Daily:\n",
    "actTransTotal_grasslands, actTransTotal_paddy, actTransTotal_nonpaddy, act_irrWithdrawal, act_nonIrrWithdrawal, act_domWithdrawal, act_indWithdrawal, Rain, nonIrrDemand, totalIrrDemand, domesticDemand, industryDemand, act_irrPaddyDemand, act_irrNonpaddyDemand\n",
    "\n",
    "OUT_MAP_TotalEnd:\n",
    "cellArea"
   ]
  },
  {
   "cell_type": "markdown",
   "metadata": {},
   "source": [
    "## CWatM inputs\n",
    "CWatM inputs (in **bold**) are set to paths of maps holding the maximum fraction of cells to be attributed to each land type.\n",
    "\n",
    "- **Forest_fraction**\n",
    "- **Paddy_fraction**\n",
    "- **IrrigationEquipped_fraction**\n",
    "- **Sealed_fraction**\n",
    "- **Water_fraction**\n",
    "\n",
    "Grasslands are the remainder and are not an input map.\n",
    "\n",
    "Each crop named in the settings file is to be attributed with both an irrigated and non-irrigated map. For example, given a crop \"Wheat\" in the settings file, the inputs to be included would be: \n",
    " - **Wheat_Irr**\n",
    " - **Wheat_nonIrr**\n",
    " \n",
    "These inputs are read on the first day of the planting month of the crop.\n"
   ]
  },
  {
   "cell_type": "markdown",
   "metadata": {},
   "source": [
    "## Settings\n",
    "\n",
    "\n",
    "Naming convention: **X(Y)Z** implies that **XY** and **XYZ** are both variables.\n",
    "\n",
    "- **activate_fallow**\n",
    "\n",
    " - True: Fallow lands are a possible land use.\n",
    " - False: Fallow lands are not a possible land use. General lands will consume the remainder Irrigated fields and Grasslands not otherwise currently planted with crops.\n",
    "\n",
    "\n",
    "- **automaticFallowingIrr**\n",
    "\n",
    " - True: This intiailly sets all Irrigated fields with General lands and performs an automatic fallowing as crops are sown, replacing General lands. The automatic fallowing is necessary for Grasslands when fallowing is activated, but is an option for Irrigated fields. \n",
    " - False: This option uses no General lands on Irrigated fields and allocates currently available Irrigated fields to fallow land. There is still automatic fallowing on Grasslands assuming activate_fallow = True.\n",
    "\n",
    "\n",
    "- **use_GeneralCrop(non)Irr** \n",
    "\n",
    " - True: Implies that there is a specific input map for General lands pointed at by **GeneralCrop_(non)Irr**, and that it is to be used. Available Irrigated fields (Grasslands) after considering currently planted specific crops and General lands are made fallow.\n",
    "\n",
    " - False: Implies that there is not a specific input map for General lands and it is to be allocated automatically. Note that General land is represented here by the variable name GeneralCrop. This is a \"representative\" example of its land cagetgory. However, we refer to this as General lands, as crops are specfically those discussed in the Crops tab of the settings file. \n",
    "\n",
    "\n",
    "- **leftoverIrrigatedCropIsRainfed**\n",
    " - True: The proposed irrigated planting of a crop may exceed the available space. This option uses the remaining proposed but not planted irrigated crop as the proposed rainfed planting, overwriting the proposed rainfed planting input.\n",
    " - False: Irrigated and rainfed crops are proposed as their inputs indicate.\n",
    "\n",
    "### <u>FUSE settings</u>\n",
    "\n",
    "Irrigated fields are fallow when not currently planted and Grasslands that have been sown with a crop are fallow between plantings. Specifically, FUSE uses  <u>Automatic fallowing</u> on grasslands and  <u>Fallowing as standard</u> on Irrigated fields.\n",
    "\n",
    "- **activate_fallow** = True\n",
    "\n",
    "- **automaticFallowingIrr** = False\n",
    "\n",
    "- **use_GeneralCrop(non)Irr** = False\n",
    "\n",
    "- **leftoverIrrigatedCropIsRainfed** = False\n",
    "\n"
   ]
  },
  {
   "cell_type": "markdown",
   "metadata": {},
   "source": [
    "## Experiments\n",
    "\n",
    "The outputs that are most responsive to changes in land cover and use generally include:\n",
    "- Transpiration on Irrigated fields\n",
    "- Transpiration on Grasslands\n",
    "- Irrigation abstractions\n",
    "\n",
    "### Irrigated fields are reduced by 20%\n",
    "\n",
    "<u> Highlights from an automatic demonstration of May 29, 2014- Jan 1, 2016.</u> \n",
    " - Transpiration on Irrigated fields decreases 11%\n",
    " - Transpiration on Grasslands increases 14% \n",
    " - Total transpiration is relatively unchanged\n",
    " \n",
    " \n",
    " - Irrigation abstractions decrease 6% \n",
    " - non-Irrigation abstractions are relatively unchanged\n",
    " - Total water abstractions decrease by 5%.\n",
    " \n",
    " \n",
    " - Downstream release increases by 45%, but in this drier period, discharge goes from 0.5% to 0.8% of total outputs.\n",
    " \n",
    "Output folders: CWatM_output_full2015_normal, CWatM_output_full2015_reducedIrrigation\n",
    "\n",
    "<u> Highlights from an automatic demonstration of one year May 1, 1997-98. </u> \n",
    " - Transpiration on Irrigated fields decreases 13%\n",
    " - Transpiration on Grasslands increases 17% \n",
    " - Total transpiration is relatively unchanged\n",
    " \n",
    " \n",
    " - Irrigation Surface water abstractions decrease 7.5% \n",
    " - Irrigation Groundwater abstractions decrease 12.5%\n",
    " - Total irrigation water abstractions decrease by 8.5%\n",
    " \n",
    " \n",
    " - Downstream release increases slightly by 3% \n",
    " - Groundwater recharge increases slightly by 3% \n"
   ]
  },
  {
   "cell_type": "markdown",
   "metadata": {},
   "source": [
    "The following map illustrates the increase in discharge over the year 2015 with the reduced Irrigated fields (Units are $m^3/s$)."
   ]
  },
  {
   "cell_type": "raw",
   "metadata": {},
   "source": [
    "display_map_sum_differentRuns('discharge_annualtot', day=-1, calcDifference = True, Rad=5, colourScale ='RdBu_r', dark=False,outputFolder = 'C:\\CWatM_output_Examples\\CWatM_output_full2015_reducedIrrigation', outputFolder2 = 'C:\\CWatM_output_Examples\\CWatM_output_full2015_normal') #)2.6) #colourScale='balance_r'"
   ]
  },
  {
   "cell_type": "markdown",
   "metadata": {},
   "source": [
    "### General land is the default for non-planted fields, compared with fallowing.\n",
    "\n",
    "<u> Highlights from an automatic demonstration of one year May 1, 1997-98.</u> \n",
    "\n",
    " - Transpiration on Irrigated fields increases 11%\n",
    " - Transpiration on Grasslands increases 1%\n",
    " - Total transpiration increases 5%.\n",
    " \n",
    " \n",
    " - Irrigation Surface water abstractions increase by 8% \n",
    " - Irrigation Groundwater abstractions increase by 2%\n",
    " - Total irrigation water abstractions increase by 4%\n",
    " \n",
    " \n",
    " - Downstream release decreases by 9.5%\n",
    " - Groundwater recharge remains unchanged."
   ]
  },
  {
   "cell_type": "raw",
   "metadata": {},
   "source": [
    "run ./Function_Balance_CWatM.ipynb\n",
    "#The above in a different cell\n",
    "fig_Circle_complete.show()\n",
    "Figures['fig_'].show()\n",
    "Figures['Line_WB_'].show()\n",
    "\n",
    "Figures['fig_Waterscape_'].show()\n",
    "Figures['Bar_WB_'].show()\n",
    "Figures['df_']\n",
    "Figures['figure_'].show()\n"
   ]
  },
  {
   "cell_type": "code",
   "execution_count": null,
   "metadata": {},
   "outputs": [],
   "source": []
  }
 ],
 "metadata": {
  "extensions": {
   "jupyter_dashboards": {
    "activeView": "report_default",
    "version": 1,
    "views": {
     "grid_default": {
      "name": "grid",
      "type": "grid"
     },
     "report_default": {
      "name": "report",
      "type": "report"
     }
    }
   }
  },
  "kernelspec": {
   "display_name": "Python 3",
   "language": "python",
   "name": "python3"
  },
  "language_info": {
   "codemirror_mode": {
    "name": "ipython",
    "version": 3
   },
   "file_extension": ".py",
   "mimetype": "text/x-python",
   "name": "python",
   "nbconvert_exporter": "python",
   "pygments_lexer": "ipython3",
   "version": "3.9.7"
  }
 },
 "nbformat": 4,
 "nbformat_minor": 2
}
