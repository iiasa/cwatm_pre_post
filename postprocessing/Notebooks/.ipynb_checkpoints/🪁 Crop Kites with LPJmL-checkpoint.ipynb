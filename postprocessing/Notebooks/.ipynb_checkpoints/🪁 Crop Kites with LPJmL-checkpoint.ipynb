{
 "cells": [
  {
   "cell_type": "markdown",
   "metadata": {},
   "source": [
    "## Crop kites with LPJmL\n",
    "We are exploring the following water prodcutivites:\n",
    "1. **irrigation water bonus productivity**: (harvest - harvest_rainfed) over seasonal irrigation amount\n",
    "2. **irrigation water productivity**: harvest over seasonal irrigation amount\n",
    "3. **ET water productivity**: harvest over evapotranspiration\n",
    "4. **Transpiration water productivity**: harvest over transpiration"
   ]
  },
  {
   "cell_type": "markdown",
   "metadata": {},
   "source": [
    "#### Opening and reading the irrigation applications text file"
   ]
  },
  {
   "cell_type": "code",
   "execution_count": 1,
   "metadata": {},
   "outputs": [],
   "source": [
    "with open(r'C:\\Users\\smilovic\\OneDrive - IIASA\\projects\\Kites\\Irrigation_9460.txt') as Irr_text:\n",
    "    lines = Irr_text.readlines()\n",
    "    \n",
    "Irrigation_applications = []\n",
    "import numpy as np\n",
    "for line in lines:\n",
    "    x = [int(irr) for irr in line[1:-2].split(',')]\n",
    "    Irrigation_applications.append(x)"
   ]
  },
  {
   "cell_type": "markdown",
   "metadata": {},
   "source": [
    "#### Creating the pareto netCDF files"
   ]
  },
  {
   "cell_type": "code",
   "execution_count": 2,
   "metadata": {},
   "outputs": [],
   "source": [
    "from netCDF4 import Dataset\n",
    "import netCDF4\n",
    "\n",
    "output_folder = r'C:\\Users\\smilovic\\OneDrive - IIASA\\projects\\Kites'\n",
    "nc_trans = Dataset(output_folder + '\\OUTPUT_1\\cft_transp.nc')\n",
    "\n",
    "for wp_name in ['harvest_irr_bonus', 'harvest_irr', 'harvest_ET', 'harvest_trans']:\n",
    "                    \n",
    "    f_pareto = netCDF4.Dataset(output_folder+'\\wp_pareto_' + wp_name + '.nc','w', format='NETCDF4')\n",
    "    f_pareto.createDimension('longitude', nc_trans.variables['longitude'].shape[0])\n",
    "    f_pareto.createDimension('latitude', nc_trans.variables['latitude'].shape[0])\n",
    "    f_pareto.createDimension('time', nc_trans.variables['time'].shape[0])\n",
    "    f_pareto.createDimension('namePFT', nc_trans.variables['NamePFT'].shape[0])\n",
    "    f_pareto.createDimension('irr_amount', 8) #maximum 210 irrigation, in 30 intervals\n",
    "\n",
    "    Longitude = f_pareto.createVariable('longitude', 'f4', 'longitude')\n",
    "    Latitude = f_pareto.createVariable('latitude', 'f4', 'latitude')  \n",
    "    Time = f_pareto.createVariable('time', 'i4', 'time')\n",
    "    NamePFT = f_pareto.createVariable('NamePFT', 'str', 'namePFT')\n",
    "    Irr_amount = f_pareto.createVariable('irr_amount', 'str', 'irr_amount')\n",
    "    wp_pareto = f_pareto.createVariable('wp_'+wp_name, 'f4', ('time', 'namePFT','latitude', 'longitude', 'irr_amount'),zlib=True,least_significant_digit=4)\n",
    "    \n",
    "    Longitude[:] =  nc_trans.variables['longitude'][:]\n",
    "    Latitude[:] = nc_trans.variables['latitude'][:]\n",
    "    Time[:] = nc_trans.variables['time'][:]\n",
    "    NamePFT[:] =  nc_trans.variables['NamePFT'][:]\n",
    "    Irr_amount = ['0','30','60','90','120','150','180','210']\n",
    "    \n",
    "    wp_pareto[:,:,:,:,:]=0\n",
    "    #for i in range(len(Irr_amount)):\n",
    "    #    wp_pareto[:,:,:,:,i]= nc_trans.variables['transp'][:,:,:,:]*0\n",
    "    \n",
    "    f_pareto.close()"
   ]
  },
  {
   "cell_type": "markdown",
   "metadata": {},
   "source": [
    "#### Opening and reading LPJmL outputs and creating four water productivy maps. \n",
    "#### We also create the pareto front for each cell-, crop-, and year-specific crop kite"
   ]
  },
  {
   "cell_type": "code",
   "execution_count": 3,
   "metadata": {},
   "outputs": [
    {
     "name": "stderr",
     "output_type": "stream",
     "text": [
      "C:\\Users\\smilovic\\AppData\\Local\\Programs\\Python\\Python311\\Lib\\site-packages\\netCDF4\\utils.py:76: RuntimeWarning: overflow encountered in multiply\n",
      "  datout = np.around(scale*data)/scale\n"
     ]
    }
   ],
   "source": [
    "from netCDF4 import Dataset\n",
    "import netCDF4\n",
    "import numpy as np\n",
    "\n",
    "for output_num in range(1,21):\n",
    "    output_folder = r'C:\\Users\\smilovic\\OneDrive - IIASA\\projects\\Kites\\OUTPUT_'+str(output_num)\n",
    "    output_folder_main = r'C:\\Users\\smilovic\\OneDrive - IIASA\\projects\\Kites'\n",
    "\n",
    "    nc_trans = Dataset(output_folder + '/cft_transp.nc')\n",
    "    nc_evap = Dataset(output_folder + '/cft_evap.nc')\n",
    "    nc_interc = Dataset(output_folder + '/cft_interc.nc')\n",
    "    \n",
    "    ET = nc_trans.variables['transp'][:,:,:,:] + \\\n",
    "    nc_evap.variables['evap'][:,:,:,:] + \\\n",
    "    nc_interc.variables['interc'][:,:,:,:] \n",
    "    \n",
    "    nc_harvest = Dataset(output_folder + '/pft_harvest.pft.nc')\n",
    "    wp_harvest_trans = np.where(nc_trans.variables['transp'][:,:,:,:]>0, \\\n",
    "                                nc_harvest.variables['harvest'][:,:,:,:]/nc_trans.variables['transp'][:,:,:,:],\n",
    "                                nc_trans.variables['transp'][:,:,:,:]*0)\n",
    "    \n",
    "    wp_harvest_ET = np.where(ET>0, nc_harvest.variables['harvest'][:,:,:,:]/ET,\n",
    "                            ET*0)\n",
    "    \n",
    "    if output_num == 1:\n",
    "        harvest_rainfed = nc_harvest.variables['harvest'][:,:,:,:]\n",
    "        wp_harvest_irr = nc_harvest.variables['harvest'][:,:,:,:]*0\n",
    "        wp_harvest_irr_bonus = nc_harvest.variables['harvest'][:,:,:,:]*0\n",
    "    \n",
    "    else:\n",
    "\n",
    "        wp_harvest_irr = \\\n",
    "        nc_harvest.variables['harvest'][:,:,:,:]/sum(Irrigation_applications[output_num])\n",
    "        \n",
    "        wp_harvest_irr_bonus = \\\n",
    "        (nc_harvest.variables['harvest'][:,:,:,:] - harvest_rainfed)/sum(Irrigation_applications[output_num])\n",
    "    \n",
    "    for wp_name in ['harvest_irr_bonus', 'harvest_irr', 'harvest_ET', 'harvest_trans']:\n",
    "        \n",
    "        f2 = netCDF4.Dataset(output_folder + '\\wp_' + wp_name + '.nc','w', format='NETCDF4')\n",
    "        f2.createDimension('longitude', nc_trans.variables['longitude'].shape[0])\n",
    "        f2.createDimension('latitude', nc_trans.variables['latitude'].shape[0])\n",
    "        f2.createDimension('time', nc_trans.variables['time'].shape[0])\n",
    "        f2.createDimension('namePFT', nc_trans.variables['NamePFT'].shape[0])\n",
    "\n",
    "        Longitude = f2.createVariable('longitude', 'f4', 'longitude')\n",
    "        Latitude = f2.createVariable('latitude', 'f4', 'latitude')  \n",
    "        Time = f2.createVariable('time', 'i4', 'time')\n",
    "        NamePFT = f2.createVariable('NamePFT', 'str', 'namePFT')\n",
    "        wp = f2.createVariable('wp_'+wp_name, 'f4', ('time', 'namePFT','latitude', 'longitude'),zlib=True,least_significant_digit=4)\n",
    "\n",
    "        Longitude[:] =  nc_trans.variables['longitude'][:]\n",
    "        Latitude[:] = nc_trans.variables['latitude'][:]\n",
    "        Time[:] = nc_trans.variables['time'][:]\n",
    "        NamePFT[:] =  nc_trans.variables['NamePFT'][:]\n",
    "        if wp_name == 'harvest_irr_bonus':\n",
    "            wp[:,:,:,:] = wp_harvest_irr_bonus\n",
    "        elif wp_name == 'harvest_irr':\n",
    "            wp[:,:,:,:] = wp_harvest_irr\n",
    "        elif wp_name == 'harvest_ET':\n",
    "            wp[:,:,:,:] = wp_harvest_ET\n",
    "        elif wp_name == 'harvest_trans':\n",
    "            wp[:,:,:,:] = wp_harvest_trans\n",
    "            \n",
    "        \n",
    "        wp_pareto = Dataset(output_folder_main + '/wp_pareto_'+ wp_name +'.nc','a')\n",
    "        wp_pareto.variables['wp_'+wp_name][:,:,:,:,sum(Irrigation_applications[output_num])//30] = \\\n",
    "        np.where(wp_pareto.variables['wp_'+wp_name][:,:,:,:,sum(Irrigation_applications[output_num])//30] > wp[:,:,:,:], \\\n",
    "                 wp_pareto.variables['wp_'+wp_name][:,:,:,:,sum(Irrigation_applications[output_num])//30], \\\n",
    "                 wp[:,:,:,:])\n",
    "            \n",
    "        f2.close()\n",
    "        wp_pareto.close()\n"
   ]
  },
  {
   "cell_type": "raw",
   "metadata": {},
   "source": [
    "# 'time', 'namePFT','latitude', 'longitude', 'irr_amount'\n",
    "from netCDF4 import Dataset\n",
    "import netCDF4\n",
    "import numpy as np\n",
    "import plotly.graph_objects as go\n",
    "\n",
    "x=[0,30,60]\n",
    "for wp_name in ['harvest_irr_bonus']: #, 'harvest_irr', 'harvest_ET', 'harvest_trans']:\n",
    "    fig = go.Figure()\n",
    "    wp_pareto = Dataset(output_folder_main + '/wp_pareto_'+ wp_name +'.nc','r')\n",
    "    for year in [0]:\n",
    "        for lat in range(len(wp_pareto.variables['latitude'][:])):\n",
    "            for lon in range(len(wp_pareto.variables['longitude'][:])):\n",
    "\n",
    "                y=[]\n",
    "                for irr in x:\n",
    "                    y.append(wp_pareto.variables['wp_'+wp_name][year,0,lat,lon,irr//30]) \n",
    "\n",
    "                fig.add_trace(go.Scatter(x=x, y=y,\n",
    "                                    mode='lines+markers',\n",
    "                                    name='lines+markers'))\n",
    "                \n",
    "    \n",
    "\n",
    "        fig.show()"
   ]
  },
  {
   "cell_type": "code",
   "execution_count": null,
   "metadata": {},
   "outputs": [],
   "source": []
  }
 ],
 "metadata": {
  "kernelspec": {
   "display_name": "Python 3 (ipykernel)",
   "language": "python",
   "name": "python3"
  },
  "language_info": {
   "codemirror_mode": {
    "name": "ipython",
    "version": 3
   },
   "file_extension": ".py",
   "mimetype": "text/x-python",
   "name": "python",
   "nbconvert_exporter": "python",
   "pygments_lexer": "ipython3",
   "version": "3.11.0"
  }
 },
 "nbformat": 4,
 "nbformat_minor": 2
}
