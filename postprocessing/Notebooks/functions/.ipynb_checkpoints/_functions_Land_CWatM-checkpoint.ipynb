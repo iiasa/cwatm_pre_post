{
 "cells": [
  {
   "cell_type": "code",
   "execution_count": 7,
   "metadata": {
    "extensions": {
     "jupyter_dashboards": {
      "version": 1,
      "views": {
       "grid_default": {},
       "report_default": {
        "hidden": true
       }
      }
     }
    }
   },
   "outputs": [],
   "source": [
    "if not 'xl_settings_file_path' in locals():\n",
    "    xl_settings_file_path = r'C:\\GitHub\\FUSE\\CWatM_settings\\cwatm_settings.xlsx'\n",
    "if not 'output_folder' in locals():\n",
    "    output_folder = r'C:\\Data\\bhima_Input_mainCWatM\\Output'\n",
    "import pandas as pd\n"
   ]
  },
  {
   "cell_type": "code",
   "execution_count": 8,
   "metadata": {
    "extensions": {
     "jupyter_dashboards": {
      "version": 1,
      "views": {
       "grid_default": {},
       "report_default": {
        "hidden": true
       }
      }
     }
    }
   },
   "outputs": [],
   "source": [
    "def crops(xl_settings_file_path):\n",
    "    import pandas as pd\n",
    "    df = pd.read_excel(xl_settings_file_path, sheet_name='Crops')\n",
    "    \n",
    "    Crops = []\n",
    "    for i in df.index:\n",
    "        crop = [df['Planting month'][i]]\n",
    "        \n",
    "        for gs in range(1,5):\n",
    "            gs_parameters = [df['EM'+str(gs)][i], df['KC'+str(gs)][i], df['KY'+str(gs)][i]]\n",
    "            crop.append(gs_parameters)\n",
    "        \n",
    "        Crops.append(crop)\n",
    "        \n",
    "def crops_initialise(xl_settings_file_path):\n",
    "    df = pd.read_excel(xl_settings_file_path, sheet_name='Crops')\n",
    "\n",
    "    Crops = []\n",
    "    Crops_names = []\n",
    "    for i in df.index:\n",
    "        crop = [df['Planting month'][i]]\n",
    "\n",
    "        for gs in range(1, 5):\n",
    "            gs_parameters = [df['EM' + str(gs)][i], df['KC' + str(gs)][i], df['KY' + str(gs)][i]]\n",
    "            crop.append(gs_parameters)\n",
    "\n",
    "        Crops.append(crop)\n",
    "        Crops_names.append(df['Crop'][i])\n",
    "\n",
    "    return Crops, Crops_names\n"
   ]
  },
  {
   "cell_type": "code",
   "execution_count": 9,
   "metadata": {
    "extensions": {
     "jupyter_dashboards": {
      "version": 1,
      "views": {
       "grid_default": {},
       "report_default": {
        "hidden": false
       }
      }
     }
    },
    "scrolled": false
   },
   "outputs": [
    {
     "data": {
      "text/html": [
       "<style  type=\"text/css\" >\n",
       "    #T_248f1_ th {\n",
       "          font-size: 15pt;\n",
       "    }#T_248f1_row0_col0,#T_248f1_row0_col1,#T_248f1_row1_col0,#T_248f1_row1_col1,#T_248f1_row2_col0,#T_248f1_row2_col1,#T_248f1_row3_col0,#T_248f1_row3_col1,#T_248f1_row4_col0,#T_248f1_row4_col1,#T_248f1_row5_col0,#T_248f1_row5_col1,#T_248f1_row6_col0,#T_248f1_row6_col1,#T_248f1_row7_col0,#T_248f1_row7_col1{\n",
       "            font-size:  15pt;\n",
       "        }</style><table id=\"T_248f1_\" ><thead>    <tr>        <th class=\"col_heading level0 col0\" >Outputs</th>        <th class=\"col_heading level0 col1\" >Billion m3</th>    </tr></thead><tbody>\n",
       "                <tr>\n",
       "                                <td id=\"T_248f1_row0_col0\" class=\"data row0 col0\" >Transpiration (Grasslands)</td>\n",
       "                        <td id=\"T_248f1_row0_col1\" class=\"data row0 col1\" >5.145299</td>\n",
       "            </tr>\n",
       "            <tr>\n",
       "                                <td id=\"T_248f1_row1_col0\" class=\"data row1 col0\" >Transpiration (Paddy)</td>\n",
       "                        <td id=\"T_248f1_row1_col1\" class=\"data row1 col1\" >0.318557</td>\n",
       "            </tr>\n",
       "            <tr>\n",
       "                                <td id=\"T_248f1_row2_col0\" class=\"data row2 col0\" >Transpiration (non-Paddy)</td>\n",
       "                        <td id=\"T_248f1_row2_col1\" class=\"data row2 col1\" >1.586461</td>\n",
       "            </tr>\n",
       "            <tr>\n",
       "                                <td id=\"T_248f1_row3_col0\" class=\"data row3 col0\" >Irrigation withdrawals</td>\n",
       "                        <td id=\"T_248f1_row3_col1\" class=\"data row3 col1\" >1.023740</td>\n",
       "            </tr>\n",
       "            <tr>\n",
       "                                <td id=\"T_248f1_row4_col0\" class=\"data row4 col0\" >non-Irrigation withdrawals</td>\n",
       "                        <td id=\"T_248f1_row4_col1\" class=\"data row4 col1\" >1.930452</td>\n",
       "            </tr>\n",
       "            <tr>\n",
       "                                <td id=\"T_248f1_row5_col0\" class=\"data row5 col0\" >Domestic Withdrawal</td>\n",
       "                        <td id=\"T_248f1_row5_col1\" class=\"data row5 col1\" >0.548026</td>\n",
       "            </tr>\n",
       "            <tr>\n",
       "                                <td id=\"T_248f1_row6_col0\" class=\"data row6 col0\" >Industrial Withdrawal</td>\n",
       "                        <td id=\"T_248f1_row6_col1\" class=\"data row6 col1\" >1.381084</td>\n",
       "            </tr>\n",
       "            <tr>\n",
       "                                <td id=\"T_248f1_row7_col0\" class=\"data row7 col0\" >Precipitation</td>\n",
       "                        <td id=\"T_248f1_row7_col1\" class=\"data row7 col1\" >37.687960</td>\n",
       "            </tr>\n",
       "    </tbody></table>"
      ],
      "text/plain": [
       "<pandas.io.formats.style.Styler at 0x2236e544e20>"
      ]
     },
     "metadata": {},
     "output_type": "display_data"
    }
   ],
   "source": [
    "import time\n",
    "import pandas as pd\n",
    "from datetime import date\n",
    "from netCDF4 import Dataset, num2date\n",
    "import numpy.ma as ma\n",
    "import numpy as np\n",
    "if withCrops:\n",
    "    #xl_settings_file_path = basepath + r'\\CWatM_settings\\cwatm_settings.xlsx'\n",
    "    Crops, Crops_names = crops_initialise(xl_settings_file_path)\n",
    "else:\n",
    "    Crops = [],Crops_names\n",
    "\n",
    "# fracCrops_(non)Irr[c]\n",
    "Vars = [['fracCrops_Irr['+str(c)+']',   Crops_names[c],   '%',  'Irrigated Area'] for c in range(len(Crops))]\n",
    "Vars_nonIrr = [['fracCrops_nonIrr['+str(c)+']',   Crops_names[c], '%','non-Irrigated Area'] for c in range(len(Crops))]\n",
    "\n",
    "# fracCrops_(non)IrrLandDemand[c]\n",
    "Vars_proposed_Irr = [['fracCrops_IrrLandDemand['+str(c)+']',   Crops_names[c], '%','Irrigated Area proposed'] for c in range(len(Crops))]\n",
    "Vars_proposed_nonIrr = [['fracCrops_nonIrrLandDemand['+str(c)+']',   Crops_names[c], '%','non-Irrigated Area proposed'] for c in range(len(Crops))]\n",
    "\n",
    "# frac_total(non)Irr\n",
    "Vars_frac_totalIrr = ['frac_totalIrr',   \"Total irrigated\", '%','Total irrigated and planted']\n",
    "Vars_frac_totalnonIrr = ['frac_totalnonIrr',   \"Total non-irrigated\", '%','Total non-irrigated and planted']\n",
    "\n",
    "# fracVegCover[0...5]\n",
    "Vars_frac_Forest = ['fracVegCover[0]', 'Forest', '%', 'Forest']\n",
    "Vars_frac_totalnonIrrLand = ['fracVegCover[1]',   \"Total non-Irrigated\", '%','Total non-Irrigated land']\n",
    "Vars_frac_Paddy = ['fracVegCover[2]', 'Paddy', '%', 'Paddy']\n",
    "Vars_frac_totalIrrLand = ['fracVegCover[3]',   \"Total irrigated\", '%','Total Irrigated land']\n",
    "Vars_frac_Sealed = ['fracVegCover[4]', 'Sealed', '%', 'Sealed']\n",
    "Vars_frac_Water = ['fracVegCover[5]', 'Water', '%', 'Water']\n",
    "Vars_frac_Available = ['availableArableLand', 'Available land', '%', 'Available land']\n",
    "\n",
    "# fallow(non)Irr\n",
    "Vars_frac_fallowIrr = ['fallowIrr', 'fallowed irrigated land', '%', 'Fallowed Irrigated land']\n",
    "Vars_frac_fallownonIrr = ['fallownonIrr', 'fallowed non-irrigated land', '%', 'Fallowed non-irrigated land']\n",
    "\n",
    "# GeneralCrop_(non)Irr\n",
    "Vars_frac_GeneralIrr = ['GeneralCrop_Irr', 'General irrigated land', '%', 'General irrigated land']\n",
    "Vars_frac_GeneralnonIrr = ['GeneralCrop_nonIrr', 'General non-irrigated land', '%', 'General non-irrigated land']\n",
    "\n",
    "\n",
    "Vars.extend(Vars_nonIrr)\n",
    "Vars.extend(Vars_proposed_Irr )\n",
    "Vars.extend(Vars_proposed_nonIrr)\n",
    "Vars.append(Vars_frac_totalIrr)\n",
    "Vars.append(Vars_frac_totalnonIrr)\n",
    "Vars.append(Vars_frac_totalIrrLand)\n",
    "Vars.append(Vars_frac_totalnonIrrLand)\n",
    "Vars.append(Vars_frac_fallowIrr)\n",
    "Vars.append(Vars_frac_fallownonIrr)\n",
    "Vars.append(Vars_frac_GeneralIrr)\n",
    "Vars.append(Vars_frac_GeneralnonIrr)\n",
    "Vars.append(Vars_frac_Forest)\n",
    "Vars.append(Vars_frac_Paddy)\n",
    "Vars.append(Vars_frac_Sealed)\n",
    "Vars.append(Vars_frac_Water)\n",
    "Vars.append(Vars_frac_Available)\n",
    "\n",
    "\n",
    "#Vars.append()       ['fracCrops_nonIrr['+str(c)+']',   Crops_names[c],       '%',      'non-Irrigated Area']\n",
    "keys = [i[-1] for i in Vars]\n",
    "WB = {key: [] for key in keys} # Creates an empty set relating to each key, overriding the previous to leave only one of each \n",
    "#print('keys: ', keys)\n",
    "cellArea = Dataset(output_folder +'/'+ 'cellArea_totalend.nc', 'r').variables['cellArea_totalend'][:,:]\n",
    "cellAreaC = ma.compressed(cellArea)\n",
    "\n",
    "#nc_simulated = Dataset(output_folder + '/fracCrops_Irr[1]_monthend.nc', 'r') #Could this be 0?\n",
    "nc_simulated = Dataset(output_folder + '/fracVegCover[0]_monthend.nc', 'r')\n",
    "Dates_simulation = num2date(nc_simulated.variables['time'][:], units=nc_simulated.variables['time'].units)\n",
    "\n",
    "\n",
    "for t in range(len(Dates_simulation)):\n",
    "    Dates_simulation[t] = np.datetime64(Dates_simulation[t])\n",
    "\n",
    "\n",
    "for var in Vars:\n",
    "    \n",
    "    #print(var[0]) # Troubleshooting\n",
    "    \n",
    "    nc_filename = output_folder +'/'+ var[0] + '_monthend.nc'\n",
    "    temp = Dataset(nc_filename, 'r').variables[var[0]+ '_monthend'][:,:,:]\n",
    "    Daily_basinSum = []\n",
    "    \n",
    "    for d in range(len(Dates_simulation)):\n",
    "        \n",
    "        daily_basinSum = np.sum(np.multiply(ma.compressed(temp[d,:,:]), cellAreaC))\n",
    "        Daily_basinSum.append(daily_basinSum)\n",
    "    \n",
    "    WB[var[-1]].append([var[1], np.array(Daily_basinSum)])\n",
    "    #print([var[1], np.sum(np.array(Daily_basinSum))])\n",
    "\n",
    "\n",
    "Vars2 = [['actTransTotal_grasslands','Transpiration (Grasslands)',   'M',    'actTransTotal_grasslands']]\n",
    "Vars2.append(['actTransTotal_paddy',     'Transpiration (Paddy)',        'M',    'actTransTotal_paddy']) \n",
    "Vars2.append(['actTransTotal_nonpaddy',  'Transpiration (non-Paddy)',    'M',    'actTransTotal_nonpaddy'])\n",
    "Vars2.append(['act_irrWithdrawal',     'Irrigation withdrawals',        'M',    'Irrigation withdrawals']) \n",
    "Vars2.append(['act_nonIrrWithdrawal',  'non-Irrigation withdrawals',    'M',    'non-Irrigation withdrawals'])\n",
    "Vars2.append(['act_domWithdrawal',   'Domestic Withdrawal',          'M',  'Domestic withdrawals'])\n",
    "Vars2.append(['act_indWithdrawal',   'Industrial Withdrawal',          'M',  'Industrial withdrawal'])\n",
    "Vars2.append(['Precipitation',  'Precipitation',    'M',    'Precipitation'])\n",
    "\n",
    "Vars2.append(['nonIrrDemand',  'non-Irrigation demand',    'M',    'non-Irrigation demand'])\n",
    "Vars2.append(['totalIrrDemand',  'Irrigation demand',    'M',    'Irrigation demand'])\n",
    "Vars2.append(['domesticDemand',  'domesticDemand',    'M',    'domesticDemand'])\n",
    "Vars2.append(['industryDemand',  'industryDemand',    'M',    'industryDemand'])\n",
    "#Vars2.append(['livestockDemand',  'livestockDemand',    'M',    'livestockDemand'])\n",
    "#Vars2.append(['unmetDemand',  'unmetDemand',    'M',    'unmetDemand'])\n",
    "Vars2.append(['act_irrPaddyDemand',  'act_irrPaddyDemand',    'M',    'act_irrPaddyDemand'])\n",
    "Vars2.append(['act_irrNonpaddyDemand',  'act_irrNonpaddyDemand',    'M',    'act_irrNonpaddyDemand'])\n",
    "\n",
    "\n",
    "\n",
    "keys2 = [i[-1] for i in Vars2]\n",
    "WB2 = {key: [] for key in keys2}\n",
    "\n",
    "# actTransTotal_grasslands, actTransTotal_paddy, actTransTotal_nonpaddy, act_irrWithdrawal act_nonIrrWithdrawal, cellArea_totalend\n",
    "\n",
    "#Experiment\n",
    "nc_simulated2 = Dataset(output_folder + '/actTransTotal_grasslands_daily.nc', 'r')\n",
    "Dates_simulation2 = num2date(nc_simulated2.variables['time'][:], units=nc_simulated2.variables['time'].units)\n",
    "#print('days: ', len(Dates_simulation2))\n",
    "#print('Outptus are in m3 over the simulation period')\n",
    "LULC_table = {'Outputs':[], 'Billion m3':[]}\n",
    "for var in Vars2:\n",
    "    \n",
    "    #print(var[0])  #Troubleshooting\n",
    "    \n",
    "    nc_filename = output_folder +'/'+ var[0] + '_daily.nc'\n",
    "    temp = Dataset(nc_filename, 'r').variables[var[0]][:,:,:]\n",
    "    Daily_basinSum = []\n",
    "    \n",
    "    for d in range(len(Dates_simulation2)):\n",
    "        \n",
    "        daily_basinSum = np.sum(np.multiply(ma.compressed(temp[d,:,:]), cellAreaC))\n",
    "        Daily_basinSum.append(daily_basinSum)\n",
    "\n",
    "    #print([var[1], np.sum(np.array(Daily_basinSum))])\n",
    "    if 'Demand' not in var[0]:\n",
    "        LULC_table['Outputs'].append(var[1])\n",
    "        LULC_table['Billion m3'].append(np.sum(np.array(Daily_basinSum))/1_000_000_000)\n",
    "    \n",
    "    WB2[var[-1]].append([var[1], np.array(Daily_basinSum)])\n",
    "\n",
    "#data_WB = {'Water flows, total':['Inputs', 'Outputs', 'Storage Change', 'Balance', 'Balance over all flows (%):'],'BMC':[  total_input_adjusted/1_000_000_000,   total_output/1_000_000_000,   total_change/1_000_000_000,   balance/1_000_000_000, percent_accurate_WB]}\n",
    "# Create DataFrame\n",
    "df = pd.DataFrame(LULC_table)\n",
    "df=df.style.set_table_styles([{'selector': 'th', 'props': [('font-size', '15pt')]}]).set_properties(**{\"font-size\": \"15pt\"}).hide_index()\n",
    "display(df)\n"
   ]
  },
  {
   "cell_type": "code",
   "execution_count": 12,
   "metadata": {},
   "outputs": [
    {
     "data": {
      "application/vnd.plotly.v1+json": {
       "config": {
        "plotlyServerURL": "https://plot.ly"
       },
       "data": [
        {
         "mode": "lines",
         "name": "SugarAdsali",
         "type": "scatter",
         "x": [
          "2013-06-30T00:00:00",
          "2013-07-31T00:00:00",
          "2013-08-31T00:00:00",
          "2013-09-30T00:00:00",
          "2013-10-31T00:00:00",
          "2013-11-30T00:00:00"
         ],
         "y": [
          1225623424,
          1225623296,
          1225623296,
          1225623296,
          1225623296,
          1225623296
         ]
        },
        {
         "mode": "lines",
         "name": "proposedSugarAdsali",
         "type": "scatter",
         "x": [
          "2013-06-30T00:00:00",
          "2013-07-31T00:00:00",
          "2013-08-31T00:00:00",
          "2013-09-30T00:00:00",
          "2013-10-31T00:00:00",
          "2013-11-30T00:00:00"
         ],
         "y": [
          1238888192,
          1238888192,
          1238888192,
          1238888192,
          1238888192,
          1238888192
         ]
        },
        {
         "mode": "lines",
         "name": "SugarPreseasonal",
         "type": "scatter",
         "x": [
          "2013-06-30T00:00:00",
          "2013-07-31T00:00:00",
          "2013-08-31T00:00:00",
          "2013-09-30T00:00:00",
          "2013-10-31T00:00:00",
          "2013-11-30T00:00:00"
         ],
         "y": [
          0,
          0,
          0,
          0,
          0,
          3255607552
         ]
        },
        {
         "mode": "lines",
         "name": "proposedSugarPreseasonal",
         "type": "scatter",
         "x": [
          "2013-06-30T00:00:00",
          "2013-07-31T00:00:00",
          "2013-08-31T00:00:00",
          "2013-09-30T00:00:00",
          "2013-10-31T00:00:00",
          "2013-11-30T00:00:00"
         ],
         "y": [
          3716664576,
          3716664576,
          3716664576,
          3716664576,
          3716664576,
          3716664576
         ]
        },
        {
         "mode": "lines",
         "name": "SugarSuru",
         "type": "scatter",
         "x": [
          "2013-06-30T00:00:00",
          "2013-07-31T00:00:00",
          "2013-08-31T00:00:00",
          "2013-09-30T00:00:00",
          "2013-10-31T00:00:00",
          "2013-11-30T00:00:00"
         ],
         "y": [
          0,
          0,
          0,
          0,
          0,
          0
         ]
        },
        {
         "mode": "lines",
         "name": "proposedSugarSuru",
         "type": "scatter",
         "x": [
          "2013-06-30T00:00:00",
          "2013-07-31T00:00:00",
          "2013-08-31T00:00:00",
          "2013-09-30T00:00:00",
          "2013-10-31T00:00:00",
          "2013-11-30T00:00:00"
         ],
         "y": [
          2477776384,
          2477776384,
          2477776384,
          2477776384,
          2477776384,
          2477776384
         ]
        },
        {
         "mode": "lines",
         "name": "Wheat",
         "type": "scatter",
         "x": [
          "2013-06-30T00:00:00",
          "2013-07-31T00:00:00",
          "2013-08-31T00:00:00",
          "2013-09-30T00:00:00",
          "2013-10-31T00:00:00",
          "2013-11-30T00:00:00"
         ],
         "y": [
          0,
          0,
          0,
          0,
          0,
          1088843520
         ]
        },
        {
         "mode": "lines",
         "name": "proposedWheat",
         "type": "scatter",
         "x": [
          "2013-06-30T00:00:00",
          "2013-07-31T00:00:00",
          "2013-08-31T00:00:00",
          "2013-09-30T00:00:00",
          "2013-10-31T00:00:00",
          "2013-11-30T00:00:00"
         ],
         "y": [
          1704387072,
          1704387072,
          1704387072,
          1704387072,
          1704387072,
          1704387072
         ]
        },
        {
         "mode": "lines",
         "name": "FruitVegK",
         "type": "scatter",
         "x": [
          "2013-06-30T00:00:00",
          "2013-07-31T00:00:00",
          "2013-08-31T00:00:00",
          "2013-09-30T00:00:00",
          "2013-10-31T00:00:00",
          "2013-11-30T00:00:00"
         ],
         "y": [
          836713920,
          836713856,
          836713856,
          836713856,
          836713856,
          0
         ]
        },
        {
         "mode": "lines",
         "name": "proposedFruitVegK",
         "type": "scatter",
         "x": [
          "2013-06-30T00:00:00",
          "2013-07-31T00:00:00",
          "2013-08-31T00:00:00",
          "2013-09-30T00:00:00",
          "2013-10-31T00:00:00",
          "2013-11-30T00:00:00"
         ],
         "y": [
          1354731392,
          1354731392,
          1354731392,
          1354731392,
          1354731392,
          1354731392
         ]
        },
        {
         "mode": "lines",
         "name": "FruitVegR",
         "type": "scatter",
         "x": [
          "2013-06-30T00:00:00",
          "2013-07-31T00:00:00",
          "2013-08-31T00:00:00",
          "2013-09-30T00:00:00",
          "2013-10-31T00:00:00",
          "2013-11-30T00:00:00"
         ],
         "y": [
          0,
          0,
          0,
          0,
          0,
          860766208
         ]
        },
        {
         "mode": "lines",
         "name": "proposedFruitVegR",
         "type": "scatter",
         "x": [
          "2013-06-30T00:00:00",
          "2013-07-31T00:00:00",
          "2013-08-31T00:00:00",
          "2013-09-30T00:00:00",
          "2013-10-31T00:00:00",
          "2013-11-30T00:00:00"
         ],
         "y": [
          1216014976,
          1216014976,
          1216014976,
          1216014976,
          1216014976,
          1216014976
         ]
        },
        {
         "mode": "lines",
         "name": "SpicesK",
         "type": "scatter",
         "x": [
          "2013-06-30T00:00:00",
          "2013-07-31T00:00:00",
          "2013-08-31T00:00:00",
          "2013-09-30T00:00:00",
          "2013-10-31T00:00:00",
          "2013-11-30T00:00:00"
         ],
         "y": [
          115965408,
          115965088,
          115965088,
          115965088,
          115965088,
          0
         ]
        },
        {
         "mode": "lines",
         "name": "proposedSpicesK",
         "type": "scatter",
         "x": [
          "2013-06-30T00:00:00",
          "2013-07-31T00:00:00",
          "2013-08-31T00:00:00",
          "2013-09-30T00:00:00",
          "2013-10-31T00:00:00",
          "2013-11-30T00:00:00"
         ],
         "y": [
          126874856,
          126874856,
          126874856,
          126874856,
          126874856,
          126874856
         ]
        },
        {
         "mode": "lines",
         "name": "SpicesR",
         "type": "scatter",
         "x": [
          "2013-06-30T00:00:00",
          "2013-07-31T00:00:00",
          "2013-08-31T00:00:00",
          "2013-09-30T00:00:00",
          "2013-10-31T00:00:00",
          "2013-11-30T00:00:00"
         ],
         "y": [
          0,
          0,
          0,
          0,
          0,
          103491896
         ]
        },
        {
         "mode": "lines",
         "name": "proposedSpicesR",
         "type": "scatter",
         "x": [
          "2013-06-30T00:00:00",
          "2013-07-31T00:00:00",
          "2013-08-31T00:00:00",
          "2013-09-30T00:00:00",
          "2013-10-31T00:00:00",
          "2013-11-30T00:00:00"
         ],
         "y": [
          116069888,
          116069888,
          116069888,
          116069888,
          116069888,
          116069888
         ]
        },
        {
         "mode": "lines",
         "name": "Cotton",
         "type": "scatter",
         "x": [
          "2013-06-30T00:00:00",
          "2013-07-31T00:00:00",
          "2013-08-31T00:00:00",
          "2013-09-30T00:00:00",
          "2013-10-31T00:00:00",
          "2013-11-30T00:00:00"
         ],
         "y": [
          136438608,
          136436192,
          136436192,
          136436192,
          136436192,
          136436192
         ]
        },
        {
         "mode": "lines",
         "name": "proposedCotton",
         "type": "scatter",
         "x": [
          "2013-06-30T00:00:00",
          "2013-07-31T00:00:00",
          "2013-08-31T00:00:00",
          "2013-09-30T00:00:00",
          "2013-10-31T00:00:00",
          "2013-11-30T00:00:00"
         ],
         "y": [
          288820736,
          288820736,
          288820736,
          288820736,
          288820736,
          288820736
         ]
        },
        {
         "mode": "lines",
         "name": "Soybean",
         "type": "scatter",
         "x": [
          "2013-06-30T00:00:00",
          "2013-07-31T00:00:00",
          "2013-08-31T00:00:00",
          "2013-09-30T00:00:00",
          "2013-10-31T00:00:00",
          "2013-11-30T00:00:00"
         ],
         "y": [
          250985216,
          250984736,
          250984736,
          250984736,
          250984736,
          0
         ]
        },
        {
         "mode": "lines",
         "name": "proposedSoybean",
         "type": "scatter",
         "x": [
          "2013-06-30T00:00:00",
          "2013-07-31T00:00:00",
          "2013-08-31T00:00:00",
          "2013-09-30T00:00:00",
          "2013-10-31T00:00:00",
          "2013-11-30T00:00:00"
         ],
         "y": [
          537191360,
          537191360,
          537191360,
          537191360,
          537191360,
          537191360
         ]
        },
        {
         "mode": "lines",
         "name": "Chickpea",
         "type": "scatter",
         "x": [
          "2013-06-30T00:00:00",
          "2013-07-31T00:00:00",
          "2013-08-31T00:00:00",
          "2013-09-30T00:00:00",
          "2013-10-31T00:00:00",
          "2013-11-30T00:00:00"
         ],
         "y": [
          0,
          0,
          0,
          0,
          0,
          597540608
         ]
        },
        {
         "mode": "lines",
         "name": "proposedChickpea",
         "type": "scatter",
         "x": [
          "2013-06-30T00:00:00",
          "2013-07-31T00:00:00",
          "2013-08-31T00:00:00",
          "2013-09-30T00:00:00",
          "2013-10-31T00:00:00",
          "2013-11-30T00:00:00"
         ],
         "y": [
          1358841216,
          1358841216,
          1358841216,
          1358841216,
          1358841216,
          1358841216
         ]
        },
        {
         "mode": "lines",
         "name": "Groundnut",
         "type": "scatter",
         "x": [
          "2013-06-30T00:00:00",
          "2013-07-31T00:00:00",
          "2013-08-31T00:00:00",
          "2013-09-30T00:00:00",
          "2013-10-31T00:00:00",
          "2013-11-30T00:00:00"
         ],
         "y": [
          550882560,
          550882496,
          550882496,
          550882496,
          550882496,
          0
         ]
        },
        {
         "mode": "lines",
         "name": "proposedGroundnut",
         "type": "scatter",
         "x": [
          "2013-06-30T00:00:00",
          "2013-07-31T00:00:00",
          "2013-08-31T00:00:00",
          "2013-09-30T00:00:00",
          "2013-10-31T00:00:00",
          "2013-11-30T00:00:00"
         ],
         "y": [
          1019195072,
          1019195072,
          1019195072,
          1019195072,
          1019195072,
          1019195072
         ]
        },
        {
         "mode": "lines",
         "name": "SorghumK",
         "type": "scatter",
         "x": [
          "2013-06-30T00:00:00",
          "2013-07-31T00:00:00",
          "2013-08-31T00:00:00",
          "2013-09-30T00:00:00",
          "2013-10-31T00:00:00",
          "2013-11-30T00:00:00"
         ],
         "y": [
          3098256640,
          3098256640,
          3098256640,
          1152384256,
          0,
          0
         ]
        },
        {
         "mode": "lines",
         "name": "proposedSorghumK",
         "type": "scatter",
         "x": [
          "2013-06-30T00:00:00",
          "2013-07-31T00:00:00",
          "2013-08-31T00:00:00",
          "2013-09-30T00:00:00",
          "2013-10-31T00:00:00",
          "2013-11-30T00:00:00"
         ],
         "y": [
          12995549184,
          12995549184,
          12995549184,
          12995549184,
          12995549184,
          12995549184
         ]
        },
        {
         "mode": "lines",
         "name": "SorghumR",
         "type": "scatter",
         "x": [
          "2013-06-30T00:00:00",
          "2013-07-31T00:00:00",
          "2013-08-31T00:00:00",
          "2013-09-30T00:00:00",
          "2013-10-31T00:00:00",
          "2013-11-30T00:00:00"
         ],
         "y": [
          0,
          0,
          0,
          0,
          0,
          1102667264
         ]
        },
        {
         "mode": "lines",
         "name": "proposedSorghumR",
         "type": "scatter",
         "x": [
          "2013-06-30T00:00:00",
          "2013-07-31T00:00:00",
          "2013-08-31T00:00:00",
          "2013-09-30T00:00:00",
          "2013-10-31T00:00:00",
          "2013-11-30T00:00:00"
         ],
         "y": [
          12995549184,
          12995549184,
          12995549184,
          12995549184,
          12995549184,
          12995549184
         ]
        },
        {
         "mode": "lines",
         "name": "MaizeK",
         "type": "scatter",
         "x": [
          "2013-06-30T00:00:00",
          "2013-07-31T00:00:00",
          "2013-08-31T00:00:00",
          "2013-09-30T00:00:00",
          "2013-10-31T00:00:00",
          "2013-11-30T00:00:00"
         ],
         "y": [
          371470848,
          371470784,
          371470784,
          371470784,
          371470784,
          0
         ]
        },
        {
         "mode": "lines",
         "name": "proposedMaizeK",
         "type": "scatter",
         "x": [
          "2013-06-30T00:00:00",
          "2013-07-31T00:00:00",
          "2013-08-31T00:00:00",
          "2013-09-30T00:00:00",
          "2013-10-31T00:00:00",
          "2013-11-30T00:00:00"
         ],
         "y": [
          690331264,
          690331264,
          690331264,
          690331264,
          690331264,
          690331264
         ]
        },
        {
         "mode": "lines",
         "name": "MaizeR",
         "type": "scatter",
         "x": [
          "2013-06-30T00:00:00",
          "2013-07-31T00:00:00",
          "2013-08-31T00:00:00",
          "2013-09-30T00:00:00",
          "2013-10-31T00:00:00",
          "2013-11-30T00:00:00"
         ],
         "y": [
          0,
          0,
          0,
          0,
          0,
          506629248
         ]
        },
        {
         "mode": "lines",
         "name": "proposedMaizeR",
         "type": "scatter",
         "x": [
          "2013-06-30T00:00:00",
          "2013-07-31T00:00:00",
          "2013-08-31T00:00:00",
          "2013-09-30T00:00:00",
          "2013-10-31T00:00:00",
          "2013-11-30T00:00:00"
         ],
         "y": [
          690331264,
          690331264,
          690331264,
          690331264,
          690331264,
          690331264
         ]
        },
        {
         "mode": "lines",
         "name": "GeneralK",
         "type": "scatter",
         "x": [
          "2013-06-30T00:00:00",
          "2013-07-31T00:00:00",
          "2013-08-31T00:00:00",
          "2013-09-30T00:00:00",
          "2013-10-31T00:00:00",
          "2013-11-30T00:00:00"
         ],
         "y": [
          2726120448,
          2726120448,
          2726120448,
          2726120448,
          1505361536,
          0
         ]
        },
        {
         "mode": "lines",
         "name": "proposedGeneralK",
         "type": "scatter",
         "x": [
          "2013-06-30T00:00:00",
          "2013-07-31T00:00:00",
          "2013-08-31T00:00:00",
          "2013-09-30T00:00:00",
          "2013-10-31T00:00:00",
          "2013-11-30T00:00:00"
         ],
         "y": [
          3233890304,
          3233890304,
          3233890304,
          3233890304,
          3233890304,
          3233890304
         ]
        },
        {
         "mode": "lines",
         "name": "GeneralR",
         "type": "scatter",
         "x": [
          "2013-06-30T00:00:00",
          "2013-07-31T00:00:00",
          "2013-08-31T00:00:00",
          "2013-09-30T00:00:00",
          "2013-10-31T00:00:00",
          "2013-11-30T00:00:00"
         ],
         "y": [
          0,
          0,
          0,
          0,
          0,
          3045552128
         ]
        },
        {
         "mode": "lines",
         "name": "proposedGeneralR",
         "type": "scatter",
         "x": [
          "2013-06-30T00:00:00",
          "2013-07-31T00:00:00",
          "2013-08-31T00:00:00",
          "2013-09-30T00:00:00",
          "2013-10-31T00:00:00",
          "2013-11-30T00:00:00"
         ],
         "y": [
          3233890304,
          3233890304,
          3233890304,
          3233890304,
          3233890304,
          3233890304
         ]
        },
        {
         "mode": "lines",
         "name": "total irrigated land",
         "type": "scatter",
         "x": [
          "2013-06-30T00:00:00",
          "2013-07-31T00:00:00",
          "2013-08-31T00:00:00",
          "2013-09-30T00:00:00",
          "2013-10-31T00:00:00",
          "2013-11-30T00:00:00"
         ],
         "y": [
          14134842368,
          14134842368,
          14134842368,
          14134842368,
          14134842368,
          14134842368
         ]
        },
        {
         "mode": "lines",
         "name": "total irrigated crops",
         "type": "scatter",
         "x": [
          "2013-06-30T00:00:00",
          "2013-07-31T00:00:00",
          "2013-08-31T00:00:00",
          "2013-09-30T00:00:00",
          "2013-10-31T00:00:00",
          "2013-11-30T00:00:00"
         ],
         "y": [
          9312456704,
          9312453632,
          9312453632,
          7366581248,
          4993438208,
          11923156992
         ]
        }
       ],
       "layout": {
        "template": {
         "data": {
          "bar": [
           {
            "error_x": {
             "color": "#f2f5fa"
            },
            "error_y": {
             "color": "#f2f5fa"
            },
            "marker": {
             "line": {
              "color": "rgb(17,17,17)",
              "width": 0.5
             }
            },
            "type": "bar"
           }
          ],
          "barpolar": [
           {
            "marker": {
             "line": {
              "color": "rgb(17,17,17)",
              "width": 0.5
             }
            },
            "type": "barpolar"
           }
          ],
          "carpet": [
           {
            "aaxis": {
             "endlinecolor": "#A2B1C6",
             "gridcolor": "#506784",
             "linecolor": "#506784",
             "minorgridcolor": "#506784",
             "startlinecolor": "#A2B1C6"
            },
            "baxis": {
             "endlinecolor": "#A2B1C6",
             "gridcolor": "#506784",
             "linecolor": "#506784",
             "minorgridcolor": "#506784",
             "startlinecolor": "#A2B1C6"
            },
            "type": "carpet"
           }
          ],
          "choropleth": [
           {
            "colorbar": {
             "outlinewidth": 0,
             "ticks": ""
            },
            "type": "choropleth"
           }
          ],
          "contour": [
           {
            "colorbar": {
             "outlinewidth": 0,
             "ticks": ""
            },
            "colorscale": [
             [
              0,
              "#0d0887"
             ],
             [
              0.1111111111111111,
              "#46039f"
             ],
             [
              0.2222222222222222,
              "#7201a8"
             ],
             [
              0.3333333333333333,
              "#9c179e"
             ],
             [
              0.4444444444444444,
              "#bd3786"
             ],
             [
              0.5555555555555556,
              "#d8576b"
             ],
             [
              0.6666666666666666,
              "#ed7953"
             ],
             [
              0.7777777777777778,
              "#fb9f3a"
             ],
             [
              0.8888888888888888,
              "#fdca26"
             ],
             [
              1,
              "#f0f921"
             ]
            ],
            "type": "contour"
           }
          ],
          "contourcarpet": [
           {
            "colorbar": {
             "outlinewidth": 0,
             "ticks": ""
            },
            "type": "contourcarpet"
           }
          ],
          "heatmap": [
           {
            "colorbar": {
             "outlinewidth": 0,
             "ticks": ""
            },
            "colorscale": [
             [
              0,
              "#0d0887"
             ],
             [
              0.1111111111111111,
              "#46039f"
             ],
             [
              0.2222222222222222,
              "#7201a8"
             ],
             [
              0.3333333333333333,
              "#9c179e"
             ],
             [
              0.4444444444444444,
              "#bd3786"
             ],
             [
              0.5555555555555556,
              "#d8576b"
             ],
             [
              0.6666666666666666,
              "#ed7953"
             ],
             [
              0.7777777777777778,
              "#fb9f3a"
             ],
             [
              0.8888888888888888,
              "#fdca26"
             ],
             [
              1,
              "#f0f921"
             ]
            ],
            "type": "heatmap"
           }
          ],
          "heatmapgl": [
           {
            "colorbar": {
             "outlinewidth": 0,
             "ticks": ""
            },
            "colorscale": [
             [
              0,
              "#0d0887"
             ],
             [
              0.1111111111111111,
              "#46039f"
             ],
             [
              0.2222222222222222,
              "#7201a8"
             ],
             [
              0.3333333333333333,
              "#9c179e"
             ],
             [
              0.4444444444444444,
              "#bd3786"
             ],
             [
              0.5555555555555556,
              "#d8576b"
             ],
             [
              0.6666666666666666,
              "#ed7953"
             ],
             [
              0.7777777777777778,
              "#fb9f3a"
             ],
             [
              0.8888888888888888,
              "#fdca26"
             ],
             [
              1,
              "#f0f921"
             ]
            ],
            "type": "heatmapgl"
           }
          ],
          "histogram": [
           {
            "marker": {
             "colorbar": {
              "outlinewidth": 0,
              "ticks": ""
             }
            },
            "type": "histogram"
           }
          ],
          "histogram2d": [
           {
            "colorbar": {
             "outlinewidth": 0,
             "ticks": ""
            },
            "colorscale": [
             [
              0,
              "#0d0887"
             ],
             [
              0.1111111111111111,
              "#46039f"
             ],
             [
              0.2222222222222222,
              "#7201a8"
             ],
             [
              0.3333333333333333,
              "#9c179e"
             ],
             [
              0.4444444444444444,
              "#bd3786"
             ],
             [
              0.5555555555555556,
              "#d8576b"
             ],
             [
              0.6666666666666666,
              "#ed7953"
             ],
             [
              0.7777777777777778,
              "#fb9f3a"
             ],
             [
              0.8888888888888888,
              "#fdca26"
             ],
             [
              1,
              "#f0f921"
             ]
            ],
            "type": "histogram2d"
           }
          ],
          "histogram2dcontour": [
           {
            "colorbar": {
             "outlinewidth": 0,
             "ticks": ""
            },
            "colorscale": [
             [
              0,
              "#0d0887"
             ],
             [
              0.1111111111111111,
              "#46039f"
             ],
             [
              0.2222222222222222,
              "#7201a8"
             ],
             [
              0.3333333333333333,
              "#9c179e"
             ],
             [
              0.4444444444444444,
              "#bd3786"
             ],
             [
              0.5555555555555556,
              "#d8576b"
             ],
             [
              0.6666666666666666,
              "#ed7953"
             ],
             [
              0.7777777777777778,
              "#fb9f3a"
             ],
             [
              0.8888888888888888,
              "#fdca26"
             ],
             [
              1,
              "#f0f921"
             ]
            ],
            "type": "histogram2dcontour"
           }
          ],
          "mesh3d": [
           {
            "colorbar": {
             "outlinewidth": 0,
             "ticks": ""
            },
            "type": "mesh3d"
           }
          ],
          "parcoords": [
           {
            "line": {
             "colorbar": {
              "outlinewidth": 0,
              "ticks": ""
             }
            },
            "type": "parcoords"
           }
          ],
          "pie": [
           {
            "automargin": true,
            "type": "pie"
           }
          ],
          "scatter": [
           {
            "marker": {
             "line": {
              "color": "#283442"
             }
            },
            "type": "scatter"
           }
          ],
          "scatter3d": [
           {
            "line": {
             "colorbar": {
              "outlinewidth": 0,
              "ticks": ""
             }
            },
            "marker": {
             "colorbar": {
              "outlinewidth": 0,
              "ticks": ""
             }
            },
            "type": "scatter3d"
           }
          ],
          "scattercarpet": [
           {
            "marker": {
             "colorbar": {
              "outlinewidth": 0,
              "ticks": ""
             }
            },
            "type": "scattercarpet"
           }
          ],
          "scattergeo": [
           {
            "marker": {
             "colorbar": {
              "outlinewidth": 0,
              "ticks": ""
             }
            },
            "type": "scattergeo"
           }
          ],
          "scattergl": [
           {
            "marker": {
             "line": {
              "color": "#283442"
             }
            },
            "type": "scattergl"
           }
          ],
          "scattermapbox": [
           {
            "marker": {
             "colorbar": {
              "outlinewidth": 0,
              "ticks": ""
             }
            },
            "type": "scattermapbox"
           }
          ],
          "scatterpolar": [
           {
            "marker": {
             "colorbar": {
              "outlinewidth": 0,
              "ticks": ""
             }
            },
            "type": "scatterpolar"
           }
          ],
          "scatterpolargl": [
           {
            "marker": {
             "colorbar": {
              "outlinewidth": 0,
              "ticks": ""
             }
            },
            "type": "scatterpolargl"
           }
          ],
          "scatterternary": [
           {
            "marker": {
             "colorbar": {
              "outlinewidth": 0,
              "ticks": ""
             }
            },
            "type": "scatterternary"
           }
          ],
          "surface": [
           {
            "colorbar": {
             "outlinewidth": 0,
             "ticks": ""
            },
            "colorscale": [
             [
              0,
              "#0d0887"
             ],
             [
              0.1111111111111111,
              "#46039f"
             ],
             [
              0.2222222222222222,
              "#7201a8"
             ],
             [
              0.3333333333333333,
              "#9c179e"
             ],
             [
              0.4444444444444444,
              "#bd3786"
             ],
             [
              0.5555555555555556,
              "#d8576b"
             ],
             [
              0.6666666666666666,
              "#ed7953"
             ],
             [
              0.7777777777777778,
              "#fb9f3a"
             ],
             [
              0.8888888888888888,
              "#fdca26"
             ],
             [
              1,
              "#f0f921"
             ]
            ],
            "type": "surface"
           }
          ],
          "table": [
           {
            "cells": {
             "fill": {
              "color": "#506784"
             },
             "line": {
              "color": "rgb(17,17,17)"
             }
            },
            "header": {
             "fill": {
              "color": "#2a3f5f"
             },
             "line": {
              "color": "rgb(17,17,17)"
             }
            },
            "type": "table"
           }
          ]
         },
         "layout": {
          "annotationdefaults": {
           "arrowcolor": "#f2f5fa",
           "arrowhead": 0,
           "arrowwidth": 1
          },
          "autotypenumbers": "strict",
          "coloraxis": {
           "colorbar": {
            "outlinewidth": 0,
            "ticks": ""
           }
          },
          "colorscale": {
           "diverging": [
            [
             0,
             "#8e0152"
            ],
            [
             0.1,
             "#c51b7d"
            ],
            [
             0.2,
             "#de77ae"
            ],
            [
             0.3,
             "#f1b6da"
            ],
            [
             0.4,
             "#fde0ef"
            ],
            [
             0.5,
             "#f7f7f7"
            ],
            [
             0.6,
             "#e6f5d0"
            ],
            [
             0.7,
             "#b8e186"
            ],
            [
             0.8,
             "#7fbc41"
            ],
            [
             0.9,
             "#4d9221"
            ],
            [
             1,
             "#276419"
            ]
           ],
           "sequential": [
            [
             0,
             "#0d0887"
            ],
            [
             0.1111111111111111,
             "#46039f"
            ],
            [
             0.2222222222222222,
             "#7201a8"
            ],
            [
             0.3333333333333333,
             "#9c179e"
            ],
            [
             0.4444444444444444,
             "#bd3786"
            ],
            [
             0.5555555555555556,
             "#d8576b"
            ],
            [
             0.6666666666666666,
             "#ed7953"
            ],
            [
             0.7777777777777778,
             "#fb9f3a"
            ],
            [
             0.8888888888888888,
             "#fdca26"
            ],
            [
             1,
             "#f0f921"
            ]
           ],
           "sequentialminus": [
            [
             0,
             "#0d0887"
            ],
            [
             0.1111111111111111,
             "#46039f"
            ],
            [
             0.2222222222222222,
             "#7201a8"
            ],
            [
             0.3333333333333333,
             "#9c179e"
            ],
            [
             0.4444444444444444,
             "#bd3786"
            ],
            [
             0.5555555555555556,
             "#d8576b"
            ],
            [
             0.6666666666666666,
             "#ed7953"
            ],
            [
             0.7777777777777778,
             "#fb9f3a"
            ],
            [
             0.8888888888888888,
             "#fdca26"
            ],
            [
             1,
             "#f0f921"
            ]
           ]
          },
          "colorway": [
           "#636efa",
           "#EF553B",
           "#00cc96",
           "#ab63fa",
           "#FFA15A",
           "#19d3f3",
           "#FF6692",
           "#B6E880",
           "#FF97FF",
           "#FECB52"
          ],
          "font": {
           "color": "#f2f5fa"
          },
          "geo": {
           "bgcolor": "rgb(17,17,17)",
           "lakecolor": "rgb(17,17,17)",
           "landcolor": "rgb(17,17,17)",
           "showlakes": true,
           "showland": true,
           "subunitcolor": "#506784"
          },
          "hoverlabel": {
           "align": "left"
          },
          "hovermode": "closest",
          "mapbox": {
           "style": "dark"
          },
          "paper_bgcolor": "rgb(17,17,17)",
          "plot_bgcolor": "rgb(17,17,17)",
          "polar": {
           "angularaxis": {
            "gridcolor": "#506784",
            "linecolor": "#506784",
            "ticks": ""
           },
           "bgcolor": "rgb(17,17,17)",
           "radialaxis": {
            "gridcolor": "#506784",
            "linecolor": "#506784",
            "ticks": ""
           }
          },
          "scene": {
           "xaxis": {
            "backgroundcolor": "rgb(17,17,17)",
            "gridcolor": "#506784",
            "gridwidth": 2,
            "linecolor": "#506784",
            "showbackground": true,
            "ticks": "",
            "zerolinecolor": "#C8D4E3"
           },
           "yaxis": {
            "backgroundcolor": "rgb(17,17,17)",
            "gridcolor": "#506784",
            "gridwidth": 2,
            "linecolor": "#506784",
            "showbackground": true,
            "ticks": "",
            "zerolinecolor": "#C8D4E3"
           },
           "zaxis": {
            "backgroundcolor": "rgb(17,17,17)",
            "gridcolor": "#506784",
            "gridwidth": 2,
            "linecolor": "#506784",
            "showbackground": true,
            "ticks": "",
            "zerolinecolor": "#C8D4E3"
           }
          },
          "shapedefaults": {
           "line": {
            "color": "#f2f5fa"
           }
          },
          "sliderdefaults": {
           "bgcolor": "#C8D4E3",
           "bordercolor": "rgb(17,17,17)",
           "borderwidth": 1,
           "tickwidth": 0
          },
          "ternary": {
           "aaxis": {
            "gridcolor": "#506784",
            "linecolor": "#506784",
            "ticks": ""
           },
           "baxis": {
            "gridcolor": "#506784",
            "linecolor": "#506784",
            "ticks": ""
           },
           "bgcolor": "rgb(17,17,17)",
           "caxis": {
            "gridcolor": "#506784",
            "linecolor": "#506784",
            "ticks": ""
           }
          },
          "title": {
           "x": 0.05
          },
          "updatemenudefaults": {
           "bgcolor": "#506784",
           "borderwidth": 0
          },
          "xaxis": {
           "automargin": true,
           "gridcolor": "#283442",
           "linecolor": "#506784",
           "ticks": "",
           "title": {
            "standoff": 15
           },
           "zerolinecolor": "#283442",
           "zerolinewidth": 2
          },
          "yaxis": {
           "automargin": true,
           "gridcolor": "#283442",
           "linecolor": "#506784",
           "ticks": "",
           "title": {
            "standoff": 15
           },
           "zerolinecolor": "#283442",
           "zerolinewidth": 2
          }
         }
        },
        "title": {
         "text": "Crops irrigated and planted"
        },
        "xaxis": {
         "title": {
          "text": "Months"
         }
        },
        "yaxis": {
         "title": {
          "text": "Area (m2)"
         }
        }
       }
      },
      "text/html": [
       "<div>                            <div id=\"ffa76b95-36a8-4e42-8bbf-89786a5886e8\" class=\"plotly-graph-div\" style=\"height:525px; width:100%;\"></div>            <script type=\"text/javascript\">                require([\"plotly\"], function(Plotly) {                    window.PLOTLYENV=window.PLOTLYENV || {};                                    if (document.getElementById(\"ffa76b95-36a8-4e42-8bbf-89786a5886e8\")) {                    Plotly.newPlot(                        \"ffa76b95-36a8-4e42-8bbf-89786a5886e8\",                        [{\"mode\": \"lines\", \"name\": \"SugarAdsali\", \"type\": \"scatter\", \"x\": [\"2013-06-30T00:00:00\", \"2013-07-31T00:00:00\", \"2013-08-31T00:00:00\", \"2013-09-30T00:00:00\", \"2013-10-31T00:00:00\", \"2013-11-30T00:00:00\"], \"y\": [1225623424.0, 1225623296.0, 1225623296.0, 1225623296.0, 1225623296.0, 1225623296.0]}, {\"mode\": \"lines\", \"name\": \"proposedSugarAdsali\", \"type\": \"scatter\", \"x\": [\"2013-06-30T00:00:00\", \"2013-07-31T00:00:00\", \"2013-08-31T00:00:00\", \"2013-09-30T00:00:00\", \"2013-10-31T00:00:00\", \"2013-11-30T00:00:00\"], \"y\": [1238888192.0, 1238888192.0, 1238888192.0, 1238888192.0, 1238888192.0, 1238888192.0]}, {\"mode\": \"lines\", \"name\": \"SugarPreseasonal\", \"type\": \"scatter\", \"x\": [\"2013-06-30T00:00:00\", \"2013-07-31T00:00:00\", \"2013-08-31T00:00:00\", \"2013-09-30T00:00:00\", \"2013-10-31T00:00:00\", \"2013-11-30T00:00:00\"], \"y\": [0.0, 0.0, 0.0, 0.0, 0.0, 3255607552.0]}, {\"mode\": \"lines\", \"name\": \"proposedSugarPreseasonal\", \"type\": \"scatter\", \"x\": [\"2013-06-30T00:00:00\", \"2013-07-31T00:00:00\", \"2013-08-31T00:00:00\", \"2013-09-30T00:00:00\", \"2013-10-31T00:00:00\", \"2013-11-30T00:00:00\"], \"y\": [3716664576.0, 3716664576.0, 3716664576.0, 3716664576.0, 3716664576.0, 3716664576.0]}, {\"mode\": \"lines\", \"name\": \"SugarSuru\", \"type\": \"scatter\", \"x\": [\"2013-06-30T00:00:00\", \"2013-07-31T00:00:00\", \"2013-08-31T00:00:00\", \"2013-09-30T00:00:00\", \"2013-10-31T00:00:00\", \"2013-11-30T00:00:00\"], \"y\": [0.0, 0.0, 0.0, 0.0, 0.0, 0.0]}, {\"mode\": \"lines\", \"name\": \"proposedSugarSuru\", \"type\": \"scatter\", \"x\": [\"2013-06-30T00:00:00\", \"2013-07-31T00:00:00\", \"2013-08-31T00:00:00\", \"2013-09-30T00:00:00\", \"2013-10-31T00:00:00\", \"2013-11-30T00:00:00\"], \"y\": [2477776384.0, 2477776384.0, 2477776384.0, 2477776384.0, 2477776384.0, 2477776384.0]}, {\"mode\": \"lines\", \"name\": \"Wheat\", \"type\": \"scatter\", \"x\": [\"2013-06-30T00:00:00\", \"2013-07-31T00:00:00\", \"2013-08-31T00:00:00\", \"2013-09-30T00:00:00\", \"2013-10-31T00:00:00\", \"2013-11-30T00:00:00\"], \"y\": [0.0, 0.0, 0.0, 0.0, 0.0, 1088843520.0]}, {\"mode\": \"lines\", \"name\": \"proposedWheat\", \"type\": \"scatter\", \"x\": [\"2013-06-30T00:00:00\", \"2013-07-31T00:00:00\", \"2013-08-31T00:00:00\", \"2013-09-30T00:00:00\", \"2013-10-31T00:00:00\", \"2013-11-30T00:00:00\"], \"y\": [1704387072.0, 1704387072.0, 1704387072.0, 1704387072.0, 1704387072.0, 1704387072.0]}, {\"mode\": \"lines\", \"name\": \"FruitVegK\", \"type\": \"scatter\", \"x\": [\"2013-06-30T00:00:00\", \"2013-07-31T00:00:00\", \"2013-08-31T00:00:00\", \"2013-09-30T00:00:00\", \"2013-10-31T00:00:00\", \"2013-11-30T00:00:00\"], \"y\": [836713920.0, 836713856.0, 836713856.0, 836713856.0, 836713856.0, 0.0]}, {\"mode\": \"lines\", \"name\": \"proposedFruitVegK\", \"type\": \"scatter\", \"x\": [\"2013-06-30T00:00:00\", \"2013-07-31T00:00:00\", \"2013-08-31T00:00:00\", \"2013-09-30T00:00:00\", \"2013-10-31T00:00:00\", \"2013-11-30T00:00:00\"], \"y\": [1354731392.0, 1354731392.0, 1354731392.0, 1354731392.0, 1354731392.0, 1354731392.0]}, {\"mode\": \"lines\", \"name\": \"FruitVegR\", \"type\": \"scatter\", \"x\": [\"2013-06-30T00:00:00\", \"2013-07-31T00:00:00\", \"2013-08-31T00:00:00\", \"2013-09-30T00:00:00\", \"2013-10-31T00:00:00\", \"2013-11-30T00:00:00\"], \"y\": [0.0, 0.0, 0.0, 0.0, 0.0, 860766208.0]}, {\"mode\": \"lines\", \"name\": \"proposedFruitVegR\", \"type\": \"scatter\", \"x\": [\"2013-06-30T00:00:00\", \"2013-07-31T00:00:00\", \"2013-08-31T00:00:00\", \"2013-09-30T00:00:00\", \"2013-10-31T00:00:00\", \"2013-11-30T00:00:00\"], \"y\": [1216014976.0, 1216014976.0, 1216014976.0, 1216014976.0, 1216014976.0, 1216014976.0]}, {\"mode\": \"lines\", \"name\": \"SpicesK\", \"type\": \"scatter\", \"x\": [\"2013-06-30T00:00:00\", \"2013-07-31T00:00:00\", \"2013-08-31T00:00:00\", \"2013-09-30T00:00:00\", \"2013-10-31T00:00:00\", \"2013-11-30T00:00:00\"], \"y\": [115965408.0, 115965088.0, 115965088.0, 115965088.0, 115965088.0, 0.0]}, {\"mode\": \"lines\", \"name\": \"proposedSpicesK\", \"type\": \"scatter\", \"x\": [\"2013-06-30T00:00:00\", \"2013-07-31T00:00:00\", \"2013-08-31T00:00:00\", \"2013-09-30T00:00:00\", \"2013-10-31T00:00:00\", \"2013-11-30T00:00:00\"], \"y\": [126874856.0, 126874856.0, 126874856.0, 126874856.0, 126874856.0, 126874856.0]}, {\"mode\": \"lines\", \"name\": \"SpicesR\", \"type\": \"scatter\", \"x\": [\"2013-06-30T00:00:00\", \"2013-07-31T00:00:00\", \"2013-08-31T00:00:00\", \"2013-09-30T00:00:00\", \"2013-10-31T00:00:00\", \"2013-11-30T00:00:00\"], \"y\": [0.0, 0.0, 0.0, 0.0, 0.0, 103491896.0]}, {\"mode\": \"lines\", \"name\": \"proposedSpicesR\", \"type\": \"scatter\", \"x\": [\"2013-06-30T00:00:00\", \"2013-07-31T00:00:00\", \"2013-08-31T00:00:00\", \"2013-09-30T00:00:00\", \"2013-10-31T00:00:00\", \"2013-11-30T00:00:00\"], \"y\": [116069888.0, 116069888.0, 116069888.0, 116069888.0, 116069888.0, 116069888.0]}, {\"mode\": \"lines\", \"name\": \"Cotton\", \"type\": \"scatter\", \"x\": [\"2013-06-30T00:00:00\", \"2013-07-31T00:00:00\", \"2013-08-31T00:00:00\", \"2013-09-30T00:00:00\", \"2013-10-31T00:00:00\", \"2013-11-30T00:00:00\"], \"y\": [136438608.0, 136436192.0, 136436192.0, 136436192.0, 136436192.0, 136436192.0]}, {\"mode\": \"lines\", \"name\": \"proposedCotton\", \"type\": \"scatter\", \"x\": [\"2013-06-30T00:00:00\", \"2013-07-31T00:00:00\", \"2013-08-31T00:00:00\", \"2013-09-30T00:00:00\", \"2013-10-31T00:00:00\", \"2013-11-30T00:00:00\"], \"y\": [288820736.0, 288820736.0, 288820736.0, 288820736.0, 288820736.0, 288820736.0]}, {\"mode\": \"lines\", \"name\": \"Soybean\", \"type\": \"scatter\", \"x\": [\"2013-06-30T00:00:00\", \"2013-07-31T00:00:00\", \"2013-08-31T00:00:00\", \"2013-09-30T00:00:00\", \"2013-10-31T00:00:00\", \"2013-11-30T00:00:00\"], \"y\": [250985216.0, 250984736.0, 250984736.0, 250984736.0, 250984736.0, 0.0]}, {\"mode\": \"lines\", \"name\": \"proposedSoybean\", \"type\": \"scatter\", \"x\": [\"2013-06-30T00:00:00\", \"2013-07-31T00:00:00\", \"2013-08-31T00:00:00\", \"2013-09-30T00:00:00\", \"2013-10-31T00:00:00\", \"2013-11-30T00:00:00\"], \"y\": [537191360.0, 537191360.0, 537191360.0, 537191360.0, 537191360.0, 537191360.0]}, {\"mode\": \"lines\", \"name\": \"Chickpea\", \"type\": \"scatter\", \"x\": [\"2013-06-30T00:00:00\", \"2013-07-31T00:00:00\", \"2013-08-31T00:00:00\", \"2013-09-30T00:00:00\", \"2013-10-31T00:00:00\", \"2013-11-30T00:00:00\"], \"y\": [0.0, 0.0, 0.0, 0.0, 0.0, 597540608.0]}, {\"mode\": \"lines\", \"name\": \"proposedChickpea\", \"type\": \"scatter\", \"x\": [\"2013-06-30T00:00:00\", \"2013-07-31T00:00:00\", \"2013-08-31T00:00:00\", \"2013-09-30T00:00:00\", \"2013-10-31T00:00:00\", \"2013-11-30T00:00:00\"], \"y\": [1358841216.0, 1358841216.0, 1358841216.0, 1358841216.0, 1358841216.0, 1358841216.0]}, {\"mode\": \"lines\", \"name\": \"Groundnut\", \"type\": \"scatter\", \"x\": [\"2013-06-30T00:00:00\", \"2013-07-31T00:00:00\", \"2013-08-31T00:00:00\", \"2013-09-30T00:00:00\", \"2013-10-31T00:00:00\", \"2013-11-30T00:00:00\"], \"y\": [550882560.0, 550882496.0, 550882496.0, 550882496.0, 550882496.0, 0.0]}, {\"mode\": \"lines\", \"name\": \"proposedGroundnut\", \"type\": \"scatter\", \"x\": [\"2013-06-30T00:00:00\", \"2013-07-31T00:00:00\", \"2013-08-31T00:00:00\", \"2013-09-30T00:00:00\", \"2013-10-31T00:00:00\", \"2013-11-30T00:00:00\"], \"y\": [1019195072.0, 1019195072.0, 1019195072.0, 1019195072.0, 1019195072.0, 1019195072.0]}, {\"mode\": \"lines\", \"name\": \"SorghumK\", \"type\": \"scatter\", \"x\": [\"2013-06-30T00:00:00\", \"2013-07-31T00:00:00\", \"2013-08-31T00:00:00\", \"2013-09-30T00:00:00\", \"2013-10-31T00:00:00\", \"2013-11-30T00:00:00\"], \"y\": [3098256640.0, 3098256640.0, 3098256640.0, 1152384256.0, 0.0, 0.0]}, {\"mode\": \"lines\", \"name\": \"proposedSorghumK\", \"type\": \"scatter\", \"x\": [\"2013-06-30T00:00:00\", \"2013-07-31T00:00:00\", \"2013-08-31T00:00:00\", \"2013-09-30T00:00:00\", \"2013-10-31T00:00:00\", \"2013-11-30T00:00:00\"], \"y\": [12995549184.0, 12995549184.0, 12995549184.0, 12995549184.0, 12995549184.0, 12995549184.0]}, {\"mode\": \"lines\", \"name\": \"SorghumR\", \"type\": \"scatter\", \"x\": [\"2013-06-30T00:00:00\", \"2013-07-31T00:00:00\", \"2013-08-31T00:00:00\", \"2013-09-30T00:00:00\", \"2013-10-31T00:00:00\", \"2013-11-30T00:00:00\"], \"y\": [0.0, 0.0, 0.0, 0.0, 0.0, 1102667264.0]}, {\"mode\": \"lines\", \"name\": \"proposedSorghumR\", \"type\": \"scatter\", \"x\": [\"2013-06-30T00:00:00\", \"2013-07-31T00:00:00\", \"2013-08-31T00:00:00\", \"2013-09-30T00:00:00\", \"2013-10-31T00:00:00\", \"2013-11-30T00:00:00\"], \"y\": [12995549184.0, 12995549184.0, 12995549184.0, 12995549184.0, 12995549184.0, 12995549184.0]}, {\"mode\": \"lines\", \"name\": \"MaizeK\", \"type\": \"scatter\", \"x\": [\"2013-06-30T00:00:00\", \"2013-07-31T00:00:00\", \"2013-08-31T00:00:00\", \"2013-09-30T00:00:00\", \"2013-10-31T00:00:00\", \"2013-11-30T00:00:00\"], \"y\": [371470848.0, 371470784.0, 371470784.0, 371470784.0, 371470784.0, 0.0]}, {\"mode\": \"lines\", \"name\": \"proposedMaizeK\", \"type\": \"scatter\", \"x\": [\"2013-06-30T00:00:00\", \"2013-07-31T00:00:00\", \"2013-08-31T00:00:00\", \"2013-09-30T00:00:00\", \"2013-10-31T00:00:00\", \"2013-11-30T00:00:00\"], \"y\": [690331264.0, 690331264.0, 690331264.0, 690331264.0, 690331264.0, 690331264.0]}, {\"mode\": \"lines\", \"name\": \"MaizeR\", \"type\": \"scatter\", \"x\": [\"2013-06-30T00:00:00\", \"2013-07-31T00:00:00\", \"2013-08-31T00:00:00\", \"2013-09-30T00:00:00\", \"2013-10-31T00:00:00\", \"2013-11-30T00:00:00\"], \"y\": [0.0, 0.0, 0.0, 0.0, 0.0, 506629248.0]}, {\"mode\": \"lines\", \"name\": \"proposedMaizeR\", \"type\": \"scatter\", \"x\": [\"2013-06-30T00:00:00\", \"2013-07-31T00:00:00\", \"2013-08-31T00:00:00\", \"2013-09-30T00:00:00\", \"2013-10-31T00:00:00\", \"2013-11-30T00:00:00\"], \"y\": [690331264.0, 690331264.0, 690331264.0, 690331264.0, 690331264.0, 690331264.0]}, {\"mode\": \"lines\", \"name\": \"GeneralK\", \"type\": \"scatter\", \"x\": [\"2013-06-30T00:00:00\", \"2013-07-31T00:00:00\", \"2013-08-31T00:00:00\", \"2013-09-30T00:00:00\", \"2013-10-31T00:00:00\", \"2013-11-30T00:00:00\"], \"y\": [2726120448.0, 2726120448.0, 2726120448.0, 2726120448.0, 1505361536.0, 0.0]}, {\"mode\": \"lines\", \"name\": \"proposedGeneralK\", \"type\": \"scatter\", \"x\": [\"2013-06-30T00:00:00\", \"2013-07-31T00:00:00\", \"2013-08-31T00:00:00\", \"2013-09-30T00:00:00\", \"2013-10-31T00:00:00\", \"2013-11-30T00:00:00\"], \"y\": [3233890304.0, 3233890304.0, 3233890304.0, 3233890304.0, 3233890304.0, 3233890304.0]}, {\"mode\": \"lines\", \"name\": \"GeneralR\", \"type\": \"scatter\", \"x\": [\"2013-06-30T00:00:00\", \"2013-07-31T00:00:00\", \"2013-08-31T00:00:00\", \"2013-09-30T00:00:00\", \"2013-10-31T00:00:00\", \"2013-11-30T00:00:00\"], \"y\": [0.0, 0.0, 0.0, 0.0, 0.0, 3045552128.0]}, {\"mode\": \"lines\", \"name\": \"proposedGeneralR\", \"type\": \"scatter\", \"x\": [\"2013-06-30T00:00:00\", \"2013-07-31T00:00:00\", \"2013-08-31T00:00:00\", \"2013-09-30T00:00:00\", \"2013-10-31T00:00:00\", \"2013-11-30T00:00:00\"], \"y\": [3233890304.0, 3233890304.0, 3233890304.0, 3233890304.0, 3233890304.0, 3233890304.0]}, {\"mode\": \"lines\", \"name\": \"total irrigated land\", \"type\": \"scatter\", \"x\": [\"2013-06-30T00:00:00\", \"2013-07-31T00:00:00\", \"2013-08-31T00:00:00\", \"2013-09-30T00:00:00\", \"2013-10-31T00:00:00\", \"2013-11-30T00:00:00\"], \"y\": [14134842368.0, 14134842368.0, 14134842368.0, 14134842368.0, 14134842368.0, 14134842368.0]}, {\"mode\": \"lines\", \"name\": \"total irrigated crops\", \"type\": \"scatter\", \"x\": [\"2013-06-30T00:00:00\", \"2013-07-31T00:00:00\", \"2013-08-31T00:00:00\", \"2013-09-30T00:00:00\", \"2013-10-31T00:00:00\", \"2013-11-30T00:00:00\"], \"y\": [9312456704.0, 9312453632.0, 9312453632.0, 7366581248.0, 4993438208.0, 11923156992.0]}],                        {\"template\": {\"data\": {\"bar\": [{\"error_x\": {\"color\": \"#f2f5fa\"}, \"error_y\": {\"color\": \"#f2f5fa\"}, \"marker\": {\"line\": {\"color\": \"rgb(17,17,17)\", \"width\": 0.5}}, \"type\": \"bar\"}], \"barpolar\": [{\"marker\": {\"line\": {\"color\": \"rgb(17,17,17)\", \"width\": 0.5}}, \"type\": \"barpolar\"}], \"carpet\": [{\"aaxis\": {\"endlinecolor\": \"#A2B1C6\", \"gridcolor\": \"#506784\", \"linecolor\": \"#506784\", \"minorgridcolor\": \"#506784\", \"startlinecolor\": \"#A2B1C6\"}, \"baxis\": {\"endlinecolor\": \"#A2B1C6\", \"gridcolor\": \"#506784\", \"linecolor\": \"#506784\", \"minorgridcolor\": \"#506784\", \"startlinecolor\": \"#A2B1C6\"}, \"type\": \"carpet\"}], \"choropleth\": [{\"colorbar\": {\"outlinewidth\": 0, \"ticks\": \"\"}, \"type\": \"choropleth\"}], \"contour\": [{\"colorbar\": {\"outlinewidth\": 0, \"ticks\": \"\"}, \"colorscale\": [[0.0, \"#0d0887\"], [0.1111111111111111, \"#46039f\"], [0.2222222222222222, \"#7201a8\"], [0.3333333333333333, \"#9c179e\"], [0.4444444444444444, \"#bd3786\"], [0.5555555555555556, \"#d8576b\"], [0.6666666666666666, \"#ed7953\"], [0.7777777777777778, \"#fb9f3a\"], [0.8888888888888888, \"#fdca26\"], [1.0, \"#f0f921\"]], \"type\": \"contour\"}], \"contourcarpet\": [{\"colorbar\": {\"outlinewidth\": 0, \"ticks\": \"\"}, \"type\": \"contourcarpet\"}], \"heatmap\": [{\"colorbar\": {\"outlinewidth\": 0, \"ticks\": \"\"}, \"colorscale\": [[0.0, \"#0d0887\"], [0.1111111111111111, \"#46039f\"], [0.2222222222222222, \"#7201a8\"], [0.3333333333333333, \"#9c179e\"], [0.4444444444444444, \"#bd3786\"], [0.5555555555555556, \"#d8576b\"], [0.6666666666666666, \"#ed7953\"], [0.7777777777777778, \"#fb9f3a\"], [0.8888888888888888, \"#fdca26\"], [1.0, \"#f0f921\"]], \"type\": \"heatmap\"}], \"heatmapgl\": [{\"colorbar\": {\"outlinewidth\": 0, \"ticks\": \"\"}, \"colorscale\": [[0.0, \"#0d0887\"], [0.1111111111111111, \"#46039f\"], [0.2222222222222222, \"#7201a8\"], [0.3333333333333333, \"#9c179e\"], [0.4444444444444444, \"#bd3786\"], [0.5555555555555556, \"#d8576b\"], [0.6666666666666666, \"#ed7953\"], [0.7777777777777778, \"#fb9f3a\"], [0.8888888888888888, \"#fdca26\"], [1.0, \"#f0f921\"]], \"type\": \"heatmapgl\"}], \"histogram\": [{\"marker\": {\"colorbar\": {\"outlinewidth\": 0, \"ticks\": \"\"}}, \"type\": \"histogram\"}], \"histogram2d\": [{\"colorbar\": {\"outlinewidth\": 0, \"ticks\": \"\"}, \"colorscale\": [[0.0, \"#0d0887\"], [0.1111111111111111, \"#46039f\"], [0.2222222222222222, \"#7201a8\"], [0.3333333333333333, \"#9c179e\"], [0.4444444444444444, \"#bd3786\"], [0.5555555555555556, \"#d8576b\"], [0.6666666666666666, \"#ed7953\"], [0.7777777777777778, \"#fb9f3a\"], [0.8888888888888888, \"#fdca26\"], [1.0, \"#f0f921\"]], \"type\": \"histogram2d\"}], \"histogram2dcontour\": [{\"colorbar\": {\"outlinewidth\": 0, \"ticks\": \"\"}, \"colorscale\": [[0.0, \"#0d0887\"], [0.1111111111111111, \"#46039f\"], [0.2222222222222222, \"#7201a8\"], [0.3333333333333333, \"#9c179e\"], [0.4444444444444444, \"#bd3786\"], [0.5555555555555556, \"#d8576b\"], [0.6666666666666666, \"#ed7953\"], [0.7777777777777778, \"#fb9f3a\"], [0.8888888888888888, \"#fdca26\"], [1.0, \"#f0f921\"]], \"type\": \"histogram2dcontour\"}], \"mesh3d\": [{\"colorbar\": {\"outlinewidth\": 0, \"ticks\": \"\"}, \"type\": \"mesh3d\"}], \"parcoords\": [{\"line\": {\"colorbar\": {\"outlinewidth\": 0, \"ticks\": \"\"}}, \"type\": \"parcoords\"}], \"pie\": [{\"automargin\": true, \"type\": \"pie\"}], \"scatter\": [{\"marker\": {\"line\": {\"color\": \"#283442\"}}, \"type\": \"scatter\"}], \"scatter3d\": [{\"line\": {\"colorbar\": {\"outlinewidth\": 0, \"ticks\": \"\"}}, \"marker\": {\"colorbar\": {\"outlinewidth\": 0, \"ticks\": \"\"}}, \"type\": \"scatter3d\"}], \"scattercarpet\": [{\"marker\": {\"colorbar\": {\"outlinewidth\": 0, \"ticks\": \"\"}}, \"type\": \"scattercarpet\"}], \"scattergeo\": [{\"marker\": {\"colorbar\": {\"outlinewidth\": 0, \"ticks\": \"\"}}, \"type\": \"scattergeo\"}], \"scattergl\": [{\"marker\": {\"line\": {\"color\": \"#283442\"}}, \"type\": \"scattergl\"}], \"scattermapbox\": [{\"marker\": {\"colorbar\": {\"outlinewidth\": 0, \"ticks\": \"\"}}, \"type\": \"scattermapbox\"}], \"scatterpolar\": [{\"marker\": {\"colorbar\": {\"outlinewidth\": 0, \"ticks\": \"\"}}, \"type\": \"scatterpolar\"}], \"scatterpolargl\": [{\"marker\": {\"colorbar\": {\"outlinewidth\": 0, \"ticks\": \"\"}}, \"type\": \"scatterpolargl\"}], \"scatterternary\": [{\"marker\": {\"colorbar\": {\"outlinewidth\": 0, \"ticks\": \"\"}}, \"type\": \"scatterternary\"}], \"surface\": [{\"colorbar\": {\"outlinewidth\": 0, \"ticks\": \"\"}, \"colorscale\": [[0.0, \"#0d0887\"], [0.1111111111111111, \"#46039f\"], [0.2222222222222222, \"#7201a8\"], [0.3333333333333333, \"#9c179e\"], [0.4444444444444444, \"#bd3786\"], [0.5555555555555556, \"#d8576b\"], [0.6666666666666666, \"#ed7953\"], [0.7777777777777778, \"#fb9f3a\"], [0.8888888888888888, \"#fdca26\"], [1.0, \"#f0f921\"]], \"type\": \"surface\"}], \"table\": [{\"cells\": {\"fill\": {\"color\": \"#506784\"}, \"line\": {\"color\": \"rgb(17,17,17)\"}}, \"header\": {\"fill\": {\"color\": \"#2a3f5f\"}, \"line\": {\"color\": \"rgb(17,17,17)\"}}, \"type\": \"table\"}]}, \"layout\": {\"annotationdefaults\": {\"arrowcolor\": \"#f2f5fa\", \"arrowhead\": 0, \"arrowwidth\": 1}, \"autotypenumbers\": \"strict\", \"coloraxis\": {\"colorbar\": {\"outlinewidth\": 0, \"ticks\": \"\"}}, \"colorscale\": {\"diverging\": [[0, \"#8e0152\"], [0.1, \"#c51b7d\"], [0.2, \"#de77ae\"], [0.3, \"#f1b6da\"], [0.4, \"#fde0ef\"], [0.5, \"#f7f7f7\"], [0.6, \"#e6f5d0\"], [0.7, \"#b8e186\"], [0.8, \"#7fbc41\"], [0.9, \"#4d9221\"], [1, \"#276419\"]], \"sequential\": [[0.0, \"#0d0887\"], [0.1111111111111111, \"#46039f\"], [0.2222222222222222, \"#7201a8\"], [0.3333333333333333, \"#9c179e\"], [0.4444444444444444, \"#bd3786\"], [0.5555555555555556, \"#d8576b\"], [0.6666666666666666, \"#ed7953\"], [0.7777777777777778, \"#fb9f3a\"], [0.8888888888888888, \"#fdca26\"], [1.0, \"#f0f921\"]], \"sequentialminus\": [[0.0, \"#0d0887\"], [0.1111111111111111, \"#46039f\"], [0.2222222222222222, \"#7201a8\"], [0.3333333333333333, \"#9c179e\"], [0.4444444444444444, \"#bd3786\"], [0.5555555555555556, \"#d8576b\"], [0.6666666666666666, \"#ed7953\"], [0.7777777777777778, \"#fb9f3a\"], [0.8888888888888888, \"#fdca26\"], [1.0, \"#f0f921\"]]}, \"colorway\": [\"#636efa\", \"#EF553B\", \"#00cc96\", \"#ab63fa\", \"#FFA15A\", \"#19d3f3\", \"#FF6692\", \"#B6E880\", \"#FF97FF\", \"#FECB52\"], \"font\": {\"color\": \"#f2f5fa\"}, \"geo\": {\"bgcolor\": \"rgb(17,17,17)\", \"lakecolor\": \"rgb(17,17,17)\", \"landcolor\": \"rgb(17,17,17)\", \"showlakes\": true, \"showland\": true, \"subunitcolor\": \"#506784\"}, \"hoverlabel\": {\"align\": \"left\"}, \"hovermode\": \"closest\", \"mapbox\": {\"style\": \"dark\"}, \"paper_bgcolor\": \"rgb(17,17,17)\", \"plot_bgcolor\": \"rgb(17,17,17)\", \"polar\": {\"angularaxis\": {\"gridcolor\": \"#506784\", \"linecolor\": \"#506784\", \"ticks\": \"\"}, \"bgcolor\": \"rgb(17,17,17)\", \"radialaxis\": {\"gridcolor\": \"#506784\", \"linecolor\": \"#506784\", \"ticks\": \"\"}}, \"scene\": {\"xaxis\": {\"backgroundcolor\": \"rgb(17,17,17)\", \"gridcolor\": \"#506784\", \"gridwidth\": 2, \"linecolor\": \"#506784\", \"showbackground\": true, \"ticks\": \"\", \"zerolinecolor\": \"#C8D4E3\"}, \"yaxis\": {\"backgroundcolor\": \"rgb(17,17,17)\", \"gridcolor\": \"#506784\", \"gridwidth\": 2, \"linecolor\": \"#506784\", \"showbackground\": true, \"ticks\": \"\", \"zerolinecolor\": \"#C8D4E3\"}, \"zaxis\": {\"backgroundcolor\": \"rgb(17,17,17)\", \"gridcolor\": \"#506784\", \"gridwidth\": 2, \"linecolor\": \"#506784\", \"showbackground\": true, \"ticks\": \"\", \"zerolinecolor\": \"#C8D4E3\"}}, \"shapedefaults\": {\"line\": {\"color\": \"#f2f5fa\"}}, \"sliderdefaults\": {\"bgcolor\": \"#C8D4E3\", \"bordercolor\": \"rgb(17,17,17)\", \"borderwidth\": 1, \"tickwidth\": 0}, \"ternary\": {\"aaxis\": {\"gridcolor\": \"#506784\", \"linecolor\": \"#506784\", \"ticks\": \"\"}, \"baxis\": {\"gridcolor\": \"#506784\", \"linecolor\": \"#506784\", \"ticks\": \"\"}, \"bgcolor\": \"rgb(17,17,17)\", \"caxis\": {\"gridcolor\": \"#506784\", \"linecolor\": \"#506784\", \"ticks\": \"\"}}, \"title\": {\"x\": 0.05}, \"updatemenudefaults\": {\"bgcolor\": \"#506784\", \"borderwidth\": 0}, \"xaxis\": {\"automargin\": true, \"gridcolor\": \"#283442\", \"linecolor\": \"#506784\", \"ticks\": \"\", \"title\": {\"standoff\": 15}, \"zerolinecolor\": \"#283442\", \"zerolinewidth\": 2}, \"yaxis\": {\"automargin\": true, \"gridcolor\": \"#283442\", \"linecolor\": \"#506784\", \"ticks\": \"\", \"title\": {\"standoff\": 15}, \"zerolinecolor\": \"#283442\", \"zerolinewidth\": 2}}}, \"title\": {\"text\": \"Crops irrigated and planted\"}, \"xaxis\": {\"title\": {\"text\": \"Months\"}}, \"yaxis\": {\"title\": {\"text\": \"Area (m2)\"}}},                        {\"responsive\": true}                    ).then(function(){\n",
       "                            \n",
       "var gd = document.getElementById('ffa76b95-36a8-4e42-8bbf-89786a5886e8');\n",
       "var x = new MutationObserver(function (mutations, observer) {{\n",
       "        var display = window.getComputedStyle(gd).display;\n",
       "        if (!display || display === 'none') {{\n",
       "            console.log([gd, 'removed!']);\n",
       "            Plotly.purge(gd);\n",
       "            observer.disconnect();\n",
       "        }}\n",
       "}});\n",
       "\n",
       "// Listen for the removal of the full notebook cells\n",
       "var notebookContainer = gd.closest('#notebook-container');\n",
       "if (notebookContainer) {{\n",
       "    x.observe(notebookContainer, {childList: true});\n",
       "}}\n",
       "\n",
       "// Listen for the clearing of the current output cell\n",
       "var outputEl = gd.closest('.output');\n",
       "if (outputEl) {{\n",
       "    x.observe(outputEl, {childList: true});\n",
       "}}\n",
       "\n",
       "                        })                };                });            </script>        </div>"
      ]
     },
     "metadata": {},
     "output_type": "display_data"
    },
    {
     "data": {
      "application/vnd.plotly.v1+json": {
       "config": {
        "plotlyServerURL": "https://plot.ly"
       },
       "data": [
        {
         "mode": "lines",
         "name": "SugarAdsali",
         "type": "scatter",
         "x": [
          "2013-06-30T00:00:00",
          "2013-07-31T00:00:00",
          "2013-08-31T00:00:00",
          "2013-09-30T00:00:00",
          "2013-10-31T00:00:00",
          "2013-11-30T00:00:00"
         ],
         "y": [
          1477543.375,
          1477543.375,
          1477543.375,
          1477543.375,
          1477543.375,
          1477543.375
         ]
        },
        {
         "mode": "lines",
         "name": "proposedSugarAdsali",
         "type": "scatter",
         "x": [
          "2013-06-30T00:00:00",
          "2013-07-31T00:00:00",
          "2013-08-31T00:00:00",
          "2013-09-30T00:00:00",
          "2013-10-31T00:00:00",
          "2013-11-30T00:00:00"
         ],
         "y": [
          13264801,
          13264920,
          13264920,
          13264920,
          13264920,
          13264920
         ]
        },
        {
         "mode": "lines",
         "name": "SugarPreseasonal",
         "type": "scatter",
         "x": [
          "2013-06-30T00:00:00",
          "2013-07-31T00:00:00",
          "2013-08-31T00:00:00",
          "2013-09-30T00:00:00",
          "2013-10-31T00:00:00",
          "2013-11-30T00:00:00"
         ],
         "y": [
          0,
          0,
          0,
          0,
          0,
          202902864
         ]
        },
        {
         "mode": "lines",
         "name": "proposedSugarPreseasonal",
         "type": "scatter",
         "x": [
          "2013-06-30T00:00:00",
          "2013-07-31T00:00:00",
          "2013-08-31T00:00:00",
          "2013-09-30T00:00:00",
          "2013-10-31T00:00:00",
          "2013-11-30T00:00:00"
         ],
         "y": [
          3716664576,
          3716664576,
          3716664576,
          3716664576,
          3716664576,
          461057312
         ]
        },
        {
         "mode": "lines",
         "name": "SugarSuru",
         "type": "scatter",
         "x": [
          "2013-06-30T00:00:00",
          "2013-07-31T00:00:00",
          "2013-08-31T00:00:00",
          "2013-09-30T00:00:00",
          "2013-10-31T00:00:00",
          "2013-11-30T00:00:00"
         ],
         "y": [
          0,
          0,
          0,
          0,
          0,
          0
         ]
        },
        {
         "mode": "lines",
         "name": "proposedSugarSuru",
         "type": "scatter",
         "x": [
          "2013-06-30T00:00:00",
          "2013-07-31T00:00:00",
          "2013-08-31T00:00:00",
          "2013-09-30T00:00:00",
          "2013-10-31T00:00:00",
          "2013-11-30T00:00:00"
         ],
         "y": [
          2477776384,
          2477776384,
          2477776384,
          2477776384,
          2477776384,
          2477776384
         ]
        },
        {
         "mode": "lines",
         "name": "Wheat",
         "type": "scatter",
         "x": [
          "2013-06-30T00:00:00",
          "2013-07-31T00:00:00",
          "2013-08-31T00:00:00",
          "2013-09-30T00:00:00",
          "2013-10-31T00:00:00",
          "2013-11-30T00:00:00"
         ],
         "y": [
          0,
          0,
          0,
          0,
          0,
          542686848
         ]
        },
        {
         "mode": "lines",
         "name": "proposedWheat",
         "type": "scatter",
         "x": [
          "2013-06-30T00:00:00",
          "2013-07-31T00:00:00",
          "2013-08-31T00:00:00",
          "2013-09-30T00:00:00",
          "2013-10-31T00:00:00",
          "2013-11-30T00:00:00"
         ],
         "y": [
          1704387072,
          1704387072,
          1704387072,
          1704387072,
          1704387072,
          615543424
         ]
        },
        {
         "mode": "lines",
         "name": "FruitVegK",
         "type": "scatter",
         "x": [
          "2013-06-30T00:00:00",
          "2013-07-31T00:00:00",
          "2013-08-31T00:00:00",
          "2013-09-30T00:00:00",
          "2013-10-31T00:00:00",
          "2013-11-30T00:00:00"
         ],
         "y": [
          433507584,
          433507584,
          433507584,
          433507584,
          433507584,
          0
         ]
        },
        {
         "mode": "lines",
         "name": "proposedFruitVegK",
         "type": "scatter",
         "x": [
          "2013-06-30T00:00:00",
          "2013-07-31T00:00:00",
          "2013-08-31T00:00:00",
          "2013-09-30T00:00:00",
          "2013-10-31T00:00:00",
          "2013-11-30T00:00:00"
         ],
         "y": [
          518017408,
          518017440,
          518017440,
          518017440,
          518017440,
          1354731392
         ]
        },
        {
         "mode": "lines",
         "name": "FruitVegR",
         "type": "scatter",
         "x": [
          "2013-06-30T00:00:00",
          "2013-07-31T00:00:00",
          "2013-08-31T00:00:00",
          "2013-09-30T00:00:00",
          "2013-10-31T00:00:00",
          "2013-11-30T00:00:00"
         ],
         "y": [
          0,
          0,
          0,
          0,
          0,
          266004880
         ]
        },
        {
         "mode": "lines",
         "name": "proposedFruitVegR",
         "type": "scatter",
         "x": [
          "2013-06-30T00:00:00",
          "2013-07-31T00:00:00",
          "2013-08-31T00:00:00",
          "2013-09-30T00:00:00",
          "2013-10-31T00:00:00",
          "2013-11-30T00:00:00"
         ],
         "y": [
          1216014976,
          1216014976,
          1216014976,
          1216014976,
          1216014976,
          355248736
         ]
        },
        {
         "mode": "lines",
         "name": "SpicesK",
         "type": "scatter",
         "x": [
          "2013-06-30T00:00:00",
          "2013-07-31T00:00:00",
          "2013-08-31T00:00:00",
          "2013-09-30T00:00:00",
          "2013-10-31T00:00:00",
          "2013-11-30T00:00:00"
         ],
         "y": [
          7419026.5,
          7419024,
          7419024,
          7419024,
          7419024,
          0
         ]
        },
        {
         "mode": "lines",
         "name": "proposedSpicesK",
         "type": "scatter",
         "x": [
          "2013-06-30T00:00:00",
          "2013-07-31T00:00:00",
          "2013-08-31T00:00:00",
          "2013-09-30T00:00:00",
          "2013-10-31T00:00:00",
          "2013-11-30T00:00:00"
         ],
         "y": [
          10909463,
          10909769,
          10909769,
          10909769,
          10909769,
          126874856
         ]
        },
        {
         "mode": "lines",
         "name": "SpicesR",
         "type": "scatter",
         "x": [
          "2013-06-30T00:00:00",
          "2013-07-31T00:00:00",
          "2013-08-31T00:00:00",
          "2013-09-30T00:00:00",
          "2013-10-31T00:00:00",
          "2013-11-30T00:00:00"
         ],
         "y": [
          0,
          0,
          0,
          0,
          0,
          6966270.5
         ]
        },
        {
         "mode": "lines",
         "name": "proposedSpicesR",
         "type": "scatter",
         "x": [
          "2013-06-30T00:00:00",
          "2013-07-31T00:00:00",
          "2013-08-31T00:00:00",
          "2013-09-30T00:00:00",
          "2013-10-31T00:00:00",
          "2013-11-30T00:00:00"
         ],
         "y": [
          116069888,
          116069888,
          116069888,
          116069888,
          116069888,
          12577981
         ]
        },
        {
         "mode": "lines",
         "name": "Cotton",
         "type": "scatter",
         "x": [
          "2013-06-30T00:00:00",
          "2013-07-31T00:00:00",
          "2013-08-31T00:00:00",
          "2013-09-30T00:00:00",
          "2013-10-31T00:00:00",
          "2013-11-30T00:00:00"
         ],
         "y": [
          147046736,
          147046720,
          147046720,
          147046720,
          147046720,
          147046720
         ]
        },
        {
         "mode": "lines",
         "name": "proposedCotton",
         "type": "scatter",
         "x": [
          "2013-06-30T00:00:00",
          "2013-07-31T00:00:00",
          "2013-08-31T00:00:00",
          "2013-09-30T00:00:00",
          "2013-10-31T00:00:00",
          "2013-11-30T00:00:00"
         ],
         "y": [
          152382128,
          152384512,
          152384512,
          152384512,
          152384512,
          152384512
         ]
        },
        {
         "mode": "lines",
         "name": "Soybean",
         "type": "scatter",
         "x": [
          "2013-06-30T00:00:00",
          "2013-07-31T00:00:00",
          "2013-08-31T00:00:00",
          "2013-09-30T00:00:00",
          "2013-10-31T00:00:00",
          "2013-11-30T00:00:00"
         ],
         "y": [
          277231072,
          277231072,
          277231072,
          277231072,
          277231072,
          0
         ]
        },
        {
         "mode": "lines",
         "name": "proposedSoybean",
         "type": "scatter",
         "x": [
          "2013-06-30T00:00:00",
          "2013-07-31T00:00:00",
          "2013-08-31T00:00:00",
          "2013-09-30T00:00:00",
          "2013-10-31T00:00:00",
          "2013-11-30T00:00:00"
         ],
         "y": [
          286206144,
          286206656,
          286206656,
          286206656,
          286206656,
          537191360
         ]
        },
        {
         "mode": "lines",
         "name": "Chickpea",
         "type": "scatter",
         "x": [
          "2013-06-30T00:00:00",
          "2013-07-31T00:00:00",
          "2013-08-31T00:00:00",
          "2013-09-30T00:00:00",
          "2013-10-31T00:00:00",
          "2013-11-30T00:00:00"
         ],
         "y": [
          0,
          0,
          0,
          0,
          0,
          521058912
         ]
        },
        {
         "mode": "lines",
         "name": "proposedChickpea",
         "type": "scatter",
         "x": [
          "2013-06-30T00:00:00",
          "2013-07-31T00:00:00",
          "2013-08-31T00:00:00",
          "2013-09-30T00:00:00",
          "2013-10-31T00:00:00",
          "2013-11-30T00:00:00"
         ],
         "y": [
          1358841216,
          1358841216,
          1358841216,
          1358841216,
          1358841216,
          761300608
         ]
        },
        {
         "mode": "lines",
         "name": "Groundnut",
         "type": "scatter",
         "x": [
          "2013-06-30T00:00:00",
          "2013-07-31T00:00:00",
          "2013-08-31T00:00:00",
          "2013-09-30T00:00:00",
          "2013-10-31T00:00:00",
          "2013-11-30T00:00:00"
         ],
         "y": [
          395223328,
          395223328,
          395223328,
          395223328,
          395223328,
          0
         ]
        },
        {
         "mode": "lines",
         "name": "proposedGroundnut",
         "type": "scatter",
         "x": [
          "2013-06-30T00:00:00",
          "2013-07-31T00:00:00",
          "2013-08-31T00:00:00",
          "2013-09-30T00:00:00",
          "2013-10-31T00:00:00",
          "2013-11-30T00:00:00"
         ],
         "y": [
          468312480,
          468312512,
          468312512,
          468312512,
          468312512,
          1019195072
         ]
        },
        {
         "mode": "lines",
         "name": "SorghumK",
         "type": "scatter",
         "x": [
          "2013-06-30T00:00:00",
          "2013-07-31T00:00:00",
          "2013-08-31T00:00:00",
          "2013-09-30T00:00:00",
          "2013-10-31T00:00:00",
          "2013-11-30T00:00:00"
         ],
         "y": [
          4447159808,
          4447159808,
          4447159808,
          3631795200,
          0,
          0
         ]
        },
        {
         "mode": "lines",
         "name": "proposedSorghumK",
         "type": "scatter",
         "x": [
          "2013-06-30T00:00:00",
          "2013-07-31T00:00:00",
          "2013-08-31T00:00:00",
          "2013-09-30T00:00:00",
          "2013-10-31T00:00:00",
          "2013-11-30T00:00:00"
         ],
         "y": [
          9897293824,
          9897293824,
          9897293824,
          11843165184,
          12995549184,
          12995549184
         ]
        },
        {
         "mode": "lines",
         "name": "SorghumR",
         "type": "scatter",
         "x": [
          "2013-06-30T00:00:00",
          "2013-07-31T00:00:00",
          "2013-08-31T00:00:00",
          "2013-09-30T00:00:00",
          "2013-10-31T00:00:00",
          "2013-11-30T00:00:00"
         ],
         "y": [
          0,
          0,
          0,
          0,
          0,
          4113672704
         ]
        },
        {
         "mode": "lines",
         "name": "proposedSorghumR",
         "type": "scatter",
         "x": [
          "2013-06-30T00:00:00",
          "2013-07-31T00:00:00",
          "2013-08-31T00:00:00",
          "2013-09-30T00:00:00",
          "2013-10-31T00:00:00",
          "2013-11-30T00:00:00"
         ],
         "y": [
          12995549184,
          12995549184,
          12995549184,
          12995549184,
          12995549184,
          11892883456
         ]
        },
        {
         "mode": "lines",
         "name": "MaizeK",
         "type": "scatter",
         "x": [
          "2013-06-30T00:00:00",
          "2013-07-31T00:00:00",
          "2013-08-31T00:00:00",
          "2013-09-30T00:00:00",
          "2013-10-31T00:00:00",
          "2013-11-30T00:00:00"
         ],
         "y": [
          291412096,
          291412096,
          291412096,
          291412096,
          291412096,
          0
         ]
        },
        {
         "mode": "lines",
         "name": "proposedMaizeK",
         "type": "scatter",
         "x": [
          "2013-06-30T00:00:00",
          "2013-07-31T00:00:00",
          "2013-08-31T00:00:00",
          "2013-09-30T00:00:00",
          "2013-10-31T00:00:00",
          "2013-11-30T00:00:00"
         ],
         "y": [
          318860320,
          318860416,
          318860416,
          318860416,
          318860416,
          690331264
         ]
        },
        {
         "mode": "lines",
         "name": "MaizeR",
         "type": "scatter",
         "x": [
          "2013-06-30T00:00:00",
          "2013-07-31T00:00:00",
          "2013-08-31T00:00:00",
          "2013-09-30T00:00:00",
          "2013-10-31T00:00:00",
          "2013-11-30T00:00:00"
         ],
         "y": [
          0,
          0,
          0,
          0,
          0,
          166511792
         ]
        },
        {
         "mode": "lines",
         "name": "proposedMaizeR",
         "type": "scatter",
         "x": [
          "2013-06-30T00:00:00",
          "2013-07-31T00:00:00",
          "2013-08-31T00:00:00",
          "2013-09-30T00:00:00",
          "2013-10-31T00:00:00",
          "2013-11-30T00:00:00"
         ],
         "y": [
          690331264,
          690331264,
          690331264,
          690331264,
          690331264,
          183701936
         ]
        },
        {
         "mode": "lines",
         "name": "GeneralK",
         "type": "scatter",
         "x": [
          "2013-06-30T00:00:00",
          "2013-07-31T00:00:00",
          "2013-08-31T00:00:00",
          "2013-09-30T00:00:00",
          "2013-10-31T00:00:00",
          "2013-11-30T00:00:00"
         ],
         "y": [
          65547656,
          65547624,
          65547624,
          65547624,
          65547624,
          0
         ]
        },
        {
         "mode": "lines",
         "name": "proposedGeneralK",
         "type": "scatter",
         "x": [
          "2013-06-30T00:00:00",
          "2013-07-31T00:00:00",
          "2013-08-31T00:00:00",
          "2013-09-30T00:00:00",
          "2013-10-31T00:00:00",
          "2013-11-30T00:00:00"
         ],
         "y": [
          507769760,
          507769856,
          507769856,
          507769856,
          1728528896,
          3233890304
         ]
        },
        {
         "mode": "lines",
         "name": "GeneralR",
         "type": "scatter",
         "x": [
          "2013-06-30T00:00:00",
          "2013-07-31T00:00:00",
          "2013-08-31T00:00:00",
          "2013-09-30T00:00:00",
          "2013-10-31T00:00:00",
          "2013-11-30T00:00:00"
         ],
         "y": [
          0,
          0,
          0,
          0,
          0,
          1507674.375
         ]
        },
        {
         "mode": "lines",
         "name": "proposedGeneralR",
         "type": "scatter",
         "x": [
          "2013-06-30T00:00:00",
          "2013-07-31T00:00:00",
          "2013-08-31T00:00:00",
          "2013-09-30T00:00:00",
          "2013-10-31T00:00:00",
          "2013-11-30T00:00:00"
         ],
         "y": [
          3233890304,
          3233890304,
          3233890304,
          3233890304,
          3233890304,
          188338272
         ]
        },
        {
         "mode": "lines",
         "name": "total non-irrigated land",
         "type": "scatter",
         "x": [
          "2013-06-30T00:00:00",
          "2013-07-31T00:00:00",
          "2013-08-31T00:00:00",
          "2013-09-30T00:00:00",
          "2013-10-31T00:00:00",
          "2013-11-30T00:00:00"
         ],
         "y": [
          21722370048,
          21722370048,
          21722370048,
          21722370048,
          21722370048,
          21722370048
         ]
        },
        {
         "mode": "lines",
         "name": "total non-irrigated crops",
         "type": "scatter",
         "x": [
          "2013-06-30T00:00:00",
          "2013-07-31T00:00:00",
          "2013-08-31T00:00:00",
          "2013-09-30T00:00:00",
          "2013-10-31T00:00:00",
          "2013-11-30T00:00:00"
         ],
         "y": [
          6066025472,
          6066025472,
          6066025472,
          5250659840,
          1618865024,
          5969836032
         ]
        }
       ],
       "layout": {
        "template": {
         "data": {
          "bar": [
           {
            "error_x": {
             "color": "#f2f5fa"
            },
            "error_y": {
             "color": "#f2f5fa"
            },
            "marker": {
             "line": {
              "color": "rgb(17,17,17)",
              "width": 0.5
             }
            },
            "type": "bar"
           }
          ],
          "barpolar": [
           {
            "marker": {
             "line": {
              "color": "rgb(17,17,17)",
              "width": 0.5
             }
            },
            "type": "barpolar"
           }
          ],
          "carpet": [
           {
            "aaxis": {
             "endlinecolor": "#A2B1C6",
             "gridcolor": "#506784",
             "linecolor": "#506784",
             "minorgridcolor": "#506784",
             "startlinecolor": "#A2B1C6"
            },
            "baxis": {
             "endlinecolor": "#A2B1C6",
             "gridcolor": "#506784",
             "linecolor": "#506784",
             "minorgridcolor": "#506784",
             "startlinecolor": "#A2B1C6"
            },
            "type": "carpet"
           }
          ],
          "choropleth": [
           {
            "colorbar": {
             "outlinewidth": 0,
             "ticks": ""
            },
            "type": "choropleth"
           }
          ],
          "contour": [
           {
            "colorbar": {
             "outlinewidth": 0,
             "ticks": ""
            },
            "colorscale": [
             [
              0,
              "#0d0887"
             ],
             [
              0.1111111111111111,
              "#46039f"
             ],
             [
              0.2222222222222222,
              "#7201a8"
             ],
             [
              0.3333333333333333,
              "#9c179e"
             ],
             [
              0.4444444444444444,
              "#bd3786"
             ],
             [
              0.5555555555555556,
              "#d8576b"
             ],
             [
              0.6666666666666666,
              "#ed7953"
             ],
             [
              0.7777777777777778,
              "#fb9f3a"
             ],
             [
              0.8888888888888888,
              "#fdca26"
             ],
             [
              1,
              "#f0f921"
             ]
            ],
            "type": "contour"
           }
          ],
          "contourcarpet": [
           {
            "colorbar": {
             "outlinewidth": 0,
             "ticks": ""
            },
            "type": "contourcarpet"
           }
          ],
          "heatmap": [
           {
            "colorbar": {
             "outlinewidth": 0,
             "ticks": ""
            },
            "colorscale": [
             [
              0,
              "#0d0887"
             ],
             [
              0.1111111111111111,
              "#46039f"
             ],
             [
              0.2222222222222222,
              "#7201a8"
             ],
             [
              0.3333333333333333,
              "#9c179e"
             ],
             [
              0.4444444444444444,
              "#bd3786"
             ],
             [
              0.5555555555555556,
              "#d8576b"
             ],
             [
              0.6666666666666666,
              "#ed7953"
             ],
             [
              0.7777777777777778,
              "#fb9f3a"
             ],
             [
              0.8888888888888888,
              "#fdca26"
             ],
             [
              1,
              "#f0f921"
             ]
            ],
            "type": "heatmap"
           }
          ],
          "heatmapgl": [
           {
            "colorbar": {
             "outlinewidth": 0,
             "ticks": ""
            },
            "colorscale": [
             [
              0,
              "#0d0887"
             ],
             [
              0.1111111111111111,
              "#46039f"
             ],
             [
              0.2222222222222222,
              "#7201a8"
             ],
             [
              0.3333333333333333,
              "#9c179e"
             ],
             [
              0.4444444444444444,
              "#bd3786"
             ],
             [
              0.5555555555555556,
              "#d8576b"
             ],
             [
              0.6666666666666666,
              "#ed7953"
             ],
             [
              0.7777777777777778,
              "#fb9f3a"
             ],
             [
              0.8888888888888888,
              "#fdca26"
             ],
             [
              1,
              "#f0f921"
             ]
            ],
            "type": "heatmapgl"
           }
          ],
          "histogram": [
           {
            "marker": {
             "colorbar": {
              "outlinewidth": 0,
              "ticks": ""
             }
            },
            "type": "histogram"
           }
          ],
          "histogram2d": [
           {
            "colorbar": {
             "outlinewidth": 0,
             "ticks": ""
            },
            "colorscale": [
             [
              0,
              "#0d0887"
             ],
             [
              0.1111111111111111,
              "#46039f"
             ],
             [
              0.2222222222222222,
              "#7201a8"
             ],
             [
              0.3333333333333333,
              "#9c179e"
             ],
             [
              0.4444444444444444,
              "#bd3786"
             ],
             [
              0.5555555555555556,
              "#d8576b"
             ],
             [
              0.6666666666666666,
              "#ed7953"
             ],
             [
              0.7777777777777778,
              "#fb9f3a"
             ],
             [
              0.8888888888888888,
              "#fdca26"
             ],
             [
              1,
              "#f0f921"
             ]
            ],
            "type": "histogram2d"
           }
          ],
          "histogram2dcontour": [
           {
            "colorbar": {
             "outlinewidth": 0,
             "ticks": ""
            },
            "colorscale": [
             [
              0,
              "#0d0887"
             ],
             [
              0.1111111111111111,
              "#46039f"
             ],
             [
              0.2222222222222222,
              "#7201a8"
             ],
             [
              0.3333333333333333,
              "#9c179e"
             ],
             [
              0.4444444444444444,
              "#bd3786"
             ],
             [
              0.5555555555555556,
              "#d8576b"
             ],
             [
              0.6666666666666666,
              "#ed7953"
             ],
             [
              0.7777777777777778,
              "#fb9f3a"
             ],
             [
              0.8888888888888888,
              "#fdca26"
             ],
             [
              1,
              "#f0f921"
             ]
            ],
            "type": "histogram2dcontour"
           }
          ],
          "mesh3d": [
           {
            "colorbar": {
             "outlinewidth": 0,
             "ticks": ""
            },
            "type": "mesh3d"
           }
          ],
          "parcoords": [
           {
            "line": {
             "colorbar": {
              "outlinewidth": 0,
              "ticks": ""
             }
            },
            "type": "parcoords"
           }
          ],
          "pie": [
           {
            "automargin": true,
            "type": "pie"
           }
          ],
          "scatter": [
           {
            "marker": {
             "line": {
              "color": "#283442"
             }
            },
            "type": "scatter"
           }
          ],
          "scatter3d": [
           {
            "line": {
             "colorbar": {
              "outlinewidth": 0,
              "ticks": ""
             }
            },
            "marker": {
             "colorbar": {
              "outlinewidth": 0,
              "ticks": ""
             }
            },
            "type": "scatter3d"
           }
          ],
          "scattercarpet": [
           {
            "marker": {
             "colorbar": {
              "outlinewidth": 0,
              "ticks": ""
             }
            },
            "type": "scattercarpet"
           }
          ],
          "scattergeo": [
           {
            "marker": {
             "colorbar": {
              "outlinewidth": 0,
              "ticks": ""
             }
            },
            "type": "scattergeo"
           }
          ],
          "scattergl": [
           {
            "marker": {
             "line": {
              "color": "#283442"
             }
            },
            "type": "scattergl"
           }
          ],
          "scattermapbox": [
           {
            "marker": {
             "colorbar": {
              "outlinewidth": 0,
              "ticks": ""
             }
            },
            "type": "scattermapbox"
           }
          ],
          "scatterpolar": [
           {
            "marker": {
             "colorbar": {
              "outlinewidth": 0,
              "ticks": ""
             }
            },
            "type": "scatterpolar"
           }
          ],
          "scatterpolargl": [
           {
            "marker": {
             "colorbar": {
              "outlinewidth": 0,
              "ticks": ""
             }
            },
            "type": "scatterpolargl"
           }
          ],
          "scatterternary": [
           {
            "marker": {
             "colorbar": {
              "outlinewidth": 0,
              "ticks": ""
             }
            },
            "type": "scatterternary"
           }
          ],
          "surface": [
           {
            "colorbar": {
             "outlinewidth": 0,
             "ticks": ""
            },
            "colorscale": [
             [
              0,
              "#0d0887"
             ],
             [
              0.1111111111111111,
              "#46039f"
             ],
             [
              0.2222222222222222,
              "#7201a8"
             ],
             [
              0.3333333333333333,
              "#9c179e"
             ],
             [
              0.4444444444444444,
              "#bd3786"
             ],
             [
              0.5555555555555556,
              "#d8576b"
             ],
             [
              0.6666666666666666,
              "#ed7953"
             ],
             [
              0.7777777777777778,
              "#fb9f3a"
             ],
             [
              0.8888888888888888,
              "#fdca26"
             ],
             [
              1,
              "#f0f921"
             ]
            ],
            "type": "surface"
           }
          ],
          "table": [
           {
            "cells": {
             "fill": {
              "color": "#506784"
             },
             "line": {
              "color": "rgb(17,17,17)"
             }
            },
            "header": {
             "fill": {
              "color": "#2a3f5f"
             },
             "line": {
              "color": "rgb(17,17,17)"
             }
            },
            "type": "table"
           }
          ]
         },
         "layout": {
          "annotationdefaults": {
           "arrowcolor": "#f2f5fa",
           "arrowhead": 0,
           "arrowwidth": 1
          },
          "autotypenumbers": "strict",
          "coloraxis": {
           "colorbar": {
            "outlinewidth": 0,
            "ticks": ""
           }
          },
          "colorscale": {
           "diverging": [
            [
             0,
             "#8e0152"
            ],
            [
             0.1,
             "#c51b7d"
            ],
            [
             0.2,
             "#de77ae"
            ],
            [
             0.3,
             "#f1b6da"
            ],
            [
             0.4,
             "#fde0ef"
            ],
            [
             0.5,
             "#f7f7f7"
            ],
            [
             0.6,
             "#e6f5d0"
            ],
            [
             0.7,
             "#b8e186"
            ],
            [
             0.8,
             "#7fbc41"
            ],
            [
             0.9,
             "#4d9221"
            ],
            [
             1,
             "#276419"
            ]
           ],
           "sequential": [
            [
             0,
             "#0d0887"
            ],
            [
             0.1111111111111111,
             "#46039f"
            ],
            [
             0.2222222222222222,
             "#7201a8"
            ],
            [
             0.3333333333333333,
             "#9c179e"
            ],
            [
             0.4444444444444444,
             "#bd3786"
            ],
            [
             0.5555555555555556,
             "#d8576b"
            ],
            [
             0.6666666666666666,
             "#ed7953"
            ],
            [
             0.7777777777777778,
             "#fb9f3a"
            ],
            [
             0.8888888888888888,
             "#fdca26"
            ],
            [
             1,
             "#f0f921"
            ]
           ],
           "sequentialminus": [
            [
             0,
             "#0d0887"
            ],
            [
             0.1111111111111111,
             "#46039f"
            ],
            [
             0.2222222222222222,
             "#7201a8"
            ],
            [
             0.3333333333333333,
             "#9c179e"
            ],
            [
             0.4444444444444444,
             "#bd3786"
            ],
            [
             0.5555555555555556,
             "#d8576b"
            ],
            [
             0.6666666666666666,
             "#ed7953"
            ],
            [
             0.7777777777777778,
             "#fb9f3a"
            ],
            [
             0.8888888888888888,
             "#fdca26"
            ],
            [
             1,
             "#f0f921"
            ]
           ]
          },
          "colorway": [
           "#636efa",
           "#EF553B",
           "#00cc96",
           "#ab63fa",
           "#FFA15A",
           "#19d3f3",
           "#FF6692",
           "#B6E880",
           "#FF97FF",
           "#FECB52"
          ],
          "font": {
           "color": "#f2f5fa"
          },
          "geo": {
           "bgcolor": "rgb(17,17,17)",
           "lakecolor": "rgb(17,17,17)",
           "landcolor": "rgb(17,17,17)",
           "showlakes": true,
           "showland": true,
           "subunitcolor": "#506784"
          },
          "hoverlabel": {
           "align": "left"
          },
          "hovermode": "closest",
          "mapbox": {
           "style": "dark"
          },
          "paper_bgcolor": "rgb(17,17,17)",
          "plot_bgcolor": "rgb(17,17,17)",
          "polar": {
           "angularaxis": {
            "gridcolor": "#506784",
            "linecolor": "#506784",
            "ticks": ""
           },
           "bgcolor": "rgb(17,17,17)",
           "radialaxis": {
            "gridcolor": "#506784",
            "linecolor": "#506784",
            "ticks": ""
           }
          },
          "scene": {
           "xaxis": {
            "backgroundcolor": "rgb(17,17,17)",
            "gridcolor": "#506784",
            "gridwidth": 2,
            "linecolor": "#506784",
            "showbackground": true,
            "ticks": "",
            "zerolinecolor": "#C8D4E3"
           },
           "yaxis": {
            "backgroundcolor": "rgb(17,17,17)",
            "gridcolor": "#506784",
            "gridwidth": 2,
            "linecolor": "#506784",
            "showbackground": true,
            "ticks": "",
            "zerolinecolor": "#C8D4E3"
           },
           "zaxis": {
            "backgroundcolor": "rgb(17,17,17)",
            "gridcolor": "#506784",
            "gridwidth": 2,
            "linecolor": "#506784",
            "showbackground": true,
            "ticks": "",
            "zerolinecolor": "#C8D4E3"
           }
          },
          "shapedefaults": {
           "line": {
            "color": "#f2f5fa"
           }
          },
          "sliderdefaults": {
           "bgcolor": "#C8D4E3",
           "bordercolor": "rgb(17,17,17)",
           "borderwidth": 1,
           "tickwidth": 0
          },
          "ternary": {
           "aaxis": {
            "gridcolor": "#506784",
            "linecolor": "#506784",
            "ticks": ""
           },
           "baxis": {
            "gridcolor": "#506784",
            "linecolor": "#506784",
            "ticks": ""
           },
           "bgcolor": "rgb(17,17,17)",
           "caxis": {
            "gridcolor": "#506784",
            "linecolor": "#506784",
            "ticks": ""
           }
          },
          "title": {
           "x": 0.05
          },
          "updatemenudefaults": {
           "bgcolor": "#506784",
           "borderwidth": 0
          },
          "xaxis": {
           "automargin": true,
           "gridcolor": "#283442",
           "linecolor": "#506784",
           "ticks": "",
           "title": {
            "standoff": 15
           },
           "zerolinecolor": "#283442",
           "zerolinewidth": 2
          },
          "yaxis": {
           "automargin": true,
           "gridcolor": "#283442",
           "linecolor": "#506784",
           "ticks": "",
           "title": {
            "standoff": 15
           },
           "zerolinecolor": "#283442",
           "zerolinewidth": 2
          }
         }
        },
        "title": {
         "text": "Crops non-irrigated and planted"
        },
        "xaxis": {
         "title": {
          "text": "Months"
         }
        },
        "yaxis": {
         "title": {
          "text": "Area (m2)"
         }
        }
       }
      },
      "text/html": [
       "<div>                            <div id=\"e6896b5d-8d4e-4537-a5a6-9cb0d443c540\" class=\"plotly-graph-div\" style=\"height:525px; width:100%;\"></div>            <script type=\"text/javascript\">                require([\"plotly\"], function(Plotly) {                    window.PLOTLYENV=window.PLOTLYENV || {};                                    if (document.getElementById(\"e6896b5d-8d4e-4537-a5a6-9cb0d443c540\")) {                    Plotly.newPlot(                        \"e6896b5d-8d4e-4537-a5a6-9cb0d443c540\",                        [{\"mode\": \"lines\", \"name\": \"SugarAdsali\", \"type\": \"scatter\", \"x\": [\"2013-06-30T00:00:00\", \"2013-07-31T00:00:00\", \"2013-08-31T00:00:00\", \"2013-09-30T00:00:00\", \"2013-10-31T00:00:00\", \"2013-11-30T00:00:00\"], \"y\": [1477543.375, 1477543.375, 1477543.375, 1477543.375, 1477543.375, 1477543.375]}, {\"mode\": \"lines\", \"name\": \"proposedSugarAdsali\", \"type\": \"scatter\", \"x\": [\"2013-06-30T00:00:00\", \"2013-07-31T00:00:00\", \"2013-08-31T00:00:00\", \"2013-09-30T00:00:00\", \"2013-10-31T00:00:00\", \"2013-11-30T00:00:00\"], \"y\": [13264801.0, 13264920.0, 13264920.0, 13264920.0, 13264920.0, 13264920.0]}, {\"mode\": \"lines\", \"name\": \"SugarPreseasonal\", \"type\": \"scatter\", \"x\": [\"2013-06-30T00:00:00\", \"2013-07-31T00:00:00\", \"2013-08-31T00:00:00\", \"2013-09-30T00:00:00\", \"2013-10-31T00:00:00\", \"2013-11-30T00:00:00\"], \"y\": [0.0, 0.0, 0.0, 0.0, 0.0, 202902864.0]}, {\"mode\": \"lines\", \"name\": \"proposedSugarPreseasonal\", \"type\": \"scatter\", \"x\": [\"2013-06-30T00:00:00\", \"2013-07-31T00:00:00\", \"2013-08-31T00:00:00\", \"2013-09-30T00:00:00\", \"2013-10-31T00:00:00\", \"2013-11-30T00:00:00\"], \"y\": [3716664576.0, 3716664576.0, 3716664576.0, 3716664576.0, 3716664576.0, 461057312.0]}, {\"mode\": \"lines\", \"name\": \"SugarSuru\", \"type\": \"scatter\", \"x\": [\"2013-06-30T00:00:00\", \"2013-07-31T00:00:00\", \"2013-08-31T00:00:00\", \"2013-09-30T00:00:00\", \"2013-10-31T00:00:00\", \"2013-11-30T00:00:00\"], \"y\": [0.0, 0.0, 0.0, 0.0, 0.0, 0.0]}, {\"mode\": \"lines\", \"name\": \"proposedSugarSuru\", \"type\": \"scatter\", \"x\": [\"2013-06-30T00:00:00\", \"2013-07-31T00:00:00\", \"2013-08-31T00:00:00\", \"2013-09-30T00:00:00\", \"2013-10-31T00:00:00\", \"2013-11-30T00:00:00\"], \"y\": [2477776384.0, 2477776384.0, 2477776384.0, 2477776384.0, 2477776384.0, 2477776384.0]}, {\"mode\": \"lines\", \"name\": \"Wheat\", \"type\": \"scatter\", \"x\": [\"2013-06-30T00:00:00\", \"2013-07-31T00:00:00\", \"2013-08-31T00:00:00\", \"2013-09-30T00:00:00\", \"2013-10-31T00:00:00\", \"2013-11-30T00:00:00\"], \"y\": [0.0, 0.0, 0.0, 0.0, 0.0, 542686848.0]}, {\"mode\": \"lines\", \"name\": \"proposedWheat\", \"type\": \"scatter\", \"x\": [\"2013-06-30T00:00:00\", \"2013-07-31T00:00:00\", \"2013-08-31T00:00:00\", \"2013-09-30T00:00:00\", \"2013-10-31T00:00:00\", \"2013-11-30T00:00:00\"], \"y\": [1704387072.0, 1704387072.0, 1704387072.0, 1704387072.0, 1704387072.0, 615543424.0]}, {\"mode\": \"lines\", \"name\": \"FruitVegK\", \"type\": \"scatter\", \"x\": [\"2013-06-30T00:00:00\", \"2013-07-31T00:00:00\", \"2013-08-31T00:00:00\", \"2013-09-30T00:00:00\", \"2013-10-31T00:00:00\", \"2013-11-30T00:00:00\"], \"y\": [433507584.0, 433507584.0, 433507584.0, 433507584.0, 433507584.0, 0.0]}, {\"mode\": \"lines\", \"name\": \"proposedFruitVegK\", \"type\": \"scatter\", \"x\": [\"2013-06-30T00:00:00\", \"2013-07-31T00:00:00\", \"2013-08-31T00:00:00\", \"2013-09-30T00:00:00\", \"2013-10-31T00:00:00\", \"2013-11-30T00:00:00\"], \"y\": [518017408.0, 518017440.0, 518017440.0, 518017440.0, 518017440.0, 1354731392.0]}, {\"mode\": \"lines\", \"name\": \"FruitVegR\", \"type\": \"scatter\", \"x\": [\"2013-06-30T00:00:00\", \"2013-07-31T00:00:00\", \"2013-08-31T00:00:00\", \"2013-09-30T00:00:00\", \"2013-10-31T00:00:00\", \"2013-11-30T00:00:00\"], \"y\": [0.0, 0.0, 0.0, 0.0, 0.0, 266004880.0]}, {\"mode\": \"lines\", \"name\": \"proposedFruitVegR\", \"type\": \"scatter\", \"x\": [\"2013-06-30T00:00:00\", \"2013-07-31T00:00:00\", \"2013-08-31T00:00:00\", \"2013-09-30T00:00:00\", \"2013-10-31T00:00:00\", \"2013-11-30T00:00:00\"], \"y\": [1216014976.0, 1216014976.0, 1216014976.0, 1216014976.0, 1216014976.0, 355248736.0]}, {\"mode\": \"lines\", \"name\": \"SpicesK\", \"type\": \"scatter\", \"x\": [\"2013-06-30T00:00:00\", \"2013-07-31T00:00:00\", \"2013-08-31T00:00:00\", \"2013-09-30T00:00:00\", \"2013-10-31T00:00:00\", \"2013-11-30T00:00:00\"], \"y\": [7419026.5, 7419024.0, 7419024.0, 7419024.0, 7419024.0, 0.0]}, {\"mode\": \"lines\", \"name\": \"proposedSpicesK\", \"type\": \"scatter\", \"x\": [\"2013-06-30T00:00:00\", \"2013-07-31T00:00:00\", \"2013-08-31T00:00:00\", \"2013-09-30T00:00:00\", \"2013-10-31T00:00:00\", \"2013-11-30T00:00:00\"], \"y\": [10909463.0, 10909769.0, 10909769.0, 10909769.0, 10909769.0, 126874856.0]}, {\"mode\": \"lines\", \"name\": \"SpicesR\", \"type\": \"scatter\", \"x\": [\"2013-06-30T00:00:00\", \"2013-07-31T00:00:00\", \"2013-08-31T00:00:00\", \"2013-09-30T00:00:00\", \"2013-10-31T00:00:00\", \"2013-11-30T00:00:00\"], \"y\": [0.0, 0.0, 0.0, 0.0, 0.0, 6966270.5]}, {\"mode\": \"lines\", \"name\": \"proposedSpicesR\", \"type\": \"scatter\", \"x\": [\"2013-06-30T00:00:00\", \"2013-07-31T00:00:00\", \"2013-08-31T00:00:00\", \"2013-09-30T00:00:00\", \"2013-10-31T00:00:00\", \"2013-11-30T00:00:00\"], \"y\": [116069888.0, 116069888.0, 116069888.0, 116069888.0, 116069888.0, 12577981.0]}, {\"mode\": \"lines\", \"name\": \"Cotton\", \"type\": \"scatter\", \"x\": [\"2013-06-30T00:00:00\", \"2013-07-31T00:00:00\", \"2013-08-31T00:00:00\", \"2013-09-30T00:00:00\", \"2013-10-31T00:00:00\", \"2013-11-30T00:00:00\"], \"y\": [147046736.0, 147046720.0, 147046720.0, 147046720.0, 147046720.0, 147046720.0]}, {\"mode\": \"lines\", \"name\": \"proposedCotton\", \"type\": \"scatter\", \"x\": [\"2013-06-30T00:00:00\", \"2013-07-31T00:00:00\", \"2013-08-31T00:00:00\", \"2013-09-30T00:00:00\", \"2013-10-31T00:00:00\", \"2013-11-30T00:00:00\"], \"y\": [152382128.0, 152384512.0, 152384512.0, 152384512.0, 152384512.0, 152384512.0]}, {\"mode\": \"lines\", \"name\": \"Soybean\", \"type\": \"scatter\", \"x\": [\"2013-06-30T00:00:00\", \"2013-07-31T00:00:00\", \"2013-08-31T00:00:00\", \"2013-09-30T00:00:00\", \"2013-10-31T00:00:00\", \"2013-11-30T00:00:00\"], \"y\": [277231072.0, 277231072.0, 277231072.0, 277231072.0, 277231072.0, 0.0]}, {\"mode\": \"lines\", \"name\": \"proposedSoybean\", \"type\": \"scatter\", \"x\": [\"2013-06-30T00:00:00\", \"2013-07-31T00:00:00\", \"2013-08-31T00:00:00\", \"2013-09-30T00:00:00\", \"2013-10-31T00:00:00\", \"2013-11-30T00:00:00\"], \"y\": [286206144.0, 286206656.0, 286206656.0, 286206656.0, 286206656.0, 537191360.0]}, {\"mode\": \"lines\", \"name\": \"Chickpea\", \"type\": \"scatter\", \"x\": [\"2013-06-30T00:00:00\", \"2013-07-31T00:00:00\", \"2013-08-31T00:00:00\", \"2013-09-30T00:00:00\", \"2013-10-31T00:00:00\", \"2013-11-30T00:00:00\"], \"y\": [0.0, 0.0, 0.0, 0.0, 0.0, 521058912.0]}, {\"mode\": \"lines\", \"name\": \"proposedChickpea\", \"type\": \"scatter\", \"x\": [\"2013-06-30T00:00:00\", \"2013-07-31T00:00:00\", \"2013-08-31T00:00:00\", \"2013-09-30T00:00:00\", \"2013-10-31T00:00:00\", \"2013-11-30T00:00:00\"], \"y\": [1358841216.0, 1358841216.0, 1358841216.0, 1358841216.0, 1358841216.0, 761300608.0]}, {\"mode\": \"lines\", \"name\": \"Groundnut\", \"type\": \"scatter\", \"x\": [\"2013-06-30T00:00:00\", \"2013-07-31T00:00:00\", \"2013-08-31T00:00:00\", \"2013-09-30T00:00:00\", \"2013-10-31T00:00:00\", \"2013-11-30T00:00:00\"], \"y\": [395223328.0, 395223328.0, 395223328.0, 395223328.0, 395223328.0, 0.0]}, {\"mode\": \"lines\", \"name\": \"proposedGroundnut\", \"type\": \"scatter\", \"x\": [\"2013-06-30T00:00:00\", \"2013-07-31T00:00:00\", \"2013-08-31T00:00:00\", \"2013-09-30T00:00:00\", \"2013-10-31T00:00:00\", \"2013-11-30T00:00:00\"], \"y\": [468312480.0, 468312512.0, 468312512.0, 468312512.0, 468312512.0, 1019195072.0]}, {\"mode\": \"lines\", \"name\": \"SorghumK\", \"type\": \"scatter\", \"x\": [\"2013-06-30T00:00:00\", \"2013-07-31T00:00:00\", \"2013-08-31T00:00:00\", \"2013-09-30T00:00:00\", \"2013-10-31T00:00:00\", \"2013-11-30T00:00:00\"], \"y\": [4447159808.0, 4447159808.0, 4447159808.0, 3631795200.0, 0.0, 0.0]}, {\"mode\": \"lines\", \"name\": \"proposedSorghumK\", \"type\": \"scatter\", \"x\": [\"2013-06-30T00:00:00\", \"2013-07-31T00:00:00\", \"2013-08-31T00:00:00\", \"2013-09-30T00:00:00\", \"2013-10-31T00:00:00\", \"2013-11-30T00:00:00\"], \"y\": [9897293824.0, 9897293824.0, 9897293824.0, 11843165184.0, 12995549184.0, 12995549184.0]}, {\"mode\": \"lines\", \"name\": \"SorghumR\", \"type\": \"scatter\", \"x\": [\"2013-06-30T00:00:00\", \"2013-07-31T00:00:00\", \"2013-08-31T00:00:00\", \"2013-09-30T00:00:00\", \"2013-10-31T00:00:00\", \"2013-11-30T00:00:00\"], \"y\": [0.0, 0.0, 0.0, 0.0, 0.0, 4113672704.0]}, {\"mode\": \"lines\", \"name\": \"proposedSorghumR\", \"type\": \"scatter\", \"x\": [\"2013-06-30T00:00:00\", \"2013-07-31T00:00:00\", \"2013-08-31T00:00:00\", \"2013-09-30T00:00:00\", \"2013-10-31T00:00:00\", \"2013-11-30T00:00:00\"], \"y\": [12995549184.0, 12995549184.0, 12995549184.0, 12995549184.0, 12995549184.0, 11892883456.0]}, {\"mode\": \"lines\", \"name\": \"MaizeK\", \"type\": \"scatter\", \"x\": [\"2013-06-30T00:00:00\", \"2013-07-31T00:00:00\", \"2013-08-31T00:00:00\", \"2013-09-30T00:00:00\", \"2013-10-31T00:00:00\", \"2013-11-30T00:00:00\"], \"y\": [291412096.0, 291412096.0, 291412096.0, 291412096.0, 291412096.0, 0.0]}, {\"mode\": \"lines\", \"name\": \"proposedMaizeK\", \"type\": \"scatter\", \"x\": [\"2013-06-30T00:00:00\", \"2013-07-31T00:00:00\", \"2013-08-31T00:00:00\", \"2013-09-30T00:00:00\", \"2013-10-31T00:00:00\", \"2013-11-30T00:00:00\"], \"y\": [318860320.0, 318860416.0, 318860416.0, 318860416.0, 318860416.0, 690331264.0]}, {\"mode\": \"lines\", \"name\": \"MaizeR\", \"type\": \"scatter\", \"x\": [\"2013-06-30T00:00:00\", \"2013-07-31T00:00:00\", \"2013-08-31T00:00:00\", \"2013-09-30T00:00:00\", \"2013-10-31T00:00:00\", \"2013-11-30T00:00:00\"], \"y\": [0.0, 0.0, 0.0, 0.0, 0.0, 166511792.0]}, {\"mode\": \"lines\", \"name\": \"proposedMaizeR\", \"type\": \"scatter\", \"x\": [\"2013-06-30T00:00:00\", \"2013-07-31T00:00:00\", \"2013-08-31T00:00:00\", \"2013-09-30T00:00:00\", \"2013-10-31T00:00:00\", \"2013-11-30T00:00:00\"], \"y\": [690331264.0, 690331264.0, 690331264.0, 690331264.0, 690331264.0, 183701936.0]}, {\"mode\": \"lines\", \"name\": \"GeneralK\", \"type\": \"scatter\", \"x\": [\"2013-06-30T00:00:00\", \"2013-07-31T00:00:00\", \"2013-08-31T00:00:00\", \"2013-09-30T00:00:00\", \"2013-10-31T00:00:00\", \"2013-11-30T00:00:00\"], \"y\": [65547656.0, 65547624.0, 65547624.0, 65547624.0, 65547624.0, 0.0]}, {\"mode\": \"lines\", \"name\": \"proposedGeneralK\", \"type\": \"scatter\", \"x\": [\"2013-06-30T00:00:00\", \"2013-07-31T00:00:00\", \"2013-08-31T00:00:00\", \"2013-09-30T00:00:00\", \"2013-10-31T00:00:00\", \"2013-11-30T00:00:00\"], \"y\": [507769760.0, 507769856.0, 507769856.0, 507769856.0, 1728528896.0, 3233890304.0]}, {\"mode\": \"lines\", \"name\": \"GeneralR\", \"type\": \"scatter\", \"x\": [\"2013-06-30T00:00:00\", \"2013-07-31T00:00:00\", \"2013-08-31T00:00:00\", \"2013-09-30T00:00:00\", \"2013-10-31T00:00:00\", \"2013-11-30T00:00:00\"], \"y\": [0.0, 0.0, 0.0, 0.0, 0.0, 1507674.375]}, {\"mode\": \"lines\", \"name\": \"proposedGeneralR\", \"type\": \"scatter\", \"x\": [\"2013-06-30T00:00:00\", \"2013-07-31T00:00:00\", \"2013-08-31T00:00:00\", \"2013-09-30T00:00:00\", \"2013-10-31T00:00:00\", \"2013-11-30T00:00:00\"], \"y\": [3233890304.0, 3233890304.0, 3233890304.0, 3233890304.0, 3233890304.0, 188338272.0]}, {\"mode\": \"lines\", \"name\": \"total non-irrigated land\", \"type\": \"scatter\", \"x\": [\"2013-06-30T00:00:00\", \"2013-07-31T00:00:00\", \"2013-08-31T00:00:00\", \"2013-09-30T00:00:00\", \"2013-10-31T00:00:00\", \"2013-11-30T00:00:00\"], \"y\": [21722370048.0, 21722370048.0, 21722370048.0, 21722370048.0, 21722370048.0, 21722370048.0]}, {\"mode\": \"lines\", \"name\": \"total non-irrigated crops\", \"type\": \"scatter\", \"x\": [\"2013-06-30T00:00:00\", \"2013-07-31T00:00:00\", \"2013-08-31T00:00:00\", \"2013-09-30T00:00:00\", \"2013-10-31T00:00:00\", \"2013-11-30T00:00:00\"], \"y\": [6066025472.0, 6066025472.0, 6066025472.0, 5250659840.0, 1618865024.0, 5969836032.0]}],                        {\"template\": {\"data\": {\"bar\": [{\"error_x\": {\"color\": \"#f2f5fa\"}, \"error_y\": {\"color\": \"#f2f5fa\"}, \"marker\": {\"line\": {\"color\": \"rgb(17,17,17)\", \"width\": 0.5}}, \"type\": \"bar\"}], \"barpolar\": [{\"marker\": {\"line\": {\"color\": \"rgb(17,17,17)\", \"width\": 0.5}}, \"type\": \"barpolar\"}], \"carpet\": [{\"aaxis\": {\"endlinecolor\": \"#A2B1C6\", \"gridcolor\": \"#506784\", \"linecolor\": \"#506784\", \"minorgridcolor\": \"#506784\", \"startlinecolor\": \"#A2B1C6\"}, \"baxis\": {\"endlinecolor\": \"#A2B1C6\", \"gridcolor\": \"#506784\", \"linecolor\": \"#506784\", \"minorgridcolor\": \"#506784\", \"startlinecolor\": \"#A2B1C6\"}, \"type\": \"carpet\"}], \"choropleth\": [{\"colorbar\": {\"outlinewidth\": 0, \"ticks\": \"\"}, \"type\": \"choropleth\"}], \"contour\": [{\"colorbar\": {\"outlinewidth\": 0, \"ticks\": \"\"}, \"colorscale\": [[0.0, \"#0d0887\"], [0.1111111111111111, \"#46039f\"], [0.2222222222222222, \"#7201a8\"], [0.3333333333333333, \"#9c179e\"], [0.4444444444444444, \"#bd3786\"], [0.5555555555555556, \"#d8576b\"], [0.6666666666666666, \"#ed7953\"], [0.7777777777777778, \"#fb9f3a\"], [0.8888888888888888, \"#fdca26\"], [1.0, \"#f0f921\"]], \"type\": \"contour\"}], \"contourcarpet\": [{\"colorbar\": {\"outlinewidth\": 0, \"ticks\": \"\"}, \"type\": \"contourcarpet\"}], \"heatmap\": [{\"colorbar\": {\"outlinewidth\": 0, \"ticks\": \"\"}, \"colorscale\": [[0.0, \"#0d0887\"], [0.1111111111111111, \"#46039f\"], [0.2222222222222222, \"#7201a8\"], [0.3333333333333333, \"#9c179e\"], [0.4444444444444444, \"#bd3786\"], [0.5555555555555556, \"#d8576b\"], [0.6666666666666666, \"#ed7953\"], [0.7777777777777778, \"#fb9f3a\"], [0.8888888888888888, \"#fdca26\"], [1.0, \"#f0f921\"]], \"type\": \"heatmap\"}], \"heatmapgl\": [{\"colorbar\": {\"outlinewidth\": 0, \"ticks\": \"\"}, \"colorscale\": [[0.0, \"#0d0887\"], [0.1111111111111111, \"#46039f\"], [0.2222222222222222, \"#7201a8\"], [0.3333333333333333, \"#9c179e\"], [0.4444444444444444, \"#bd3786\"], [0.5555555555555556, \"#d8576b\"], [0.6666666666666666, \"#ed7953\"], [0.7777777777777778, \"#fb9f3a\"], [0.8888888888888888, \"#fdca26\"], [1.0, \"#f0f921\"]], \"type\": \"heatmapgl\"}], \"histogram\": [{\"marker\": {\"colorbar\": {\"outlinewidth\": 0, \"ticks\": \"\"}}, \"type\": \"histogram\"}], \"histogram2d\": [{\"colorbar\": {\"outlinewidth\": 0, \"ticks\": \"\"}, \"colorscale\": [[0.0, \"#0d0887\"], [0.1111111111111111, \"#46039f\"], [0.2222222222222222, \"#7201a8\"], [0.3333333333333333, \"#9c179e\"], [0.4444444444444444, \"#bd3786\"], [0.5555555555555556, \"#d8576b\"], [0.6666666666666666, \"#ed7953\"], [0.7777777777777778, \"#fb9f3a\"], [0.8888888888888888, \"#fdca26\"], [1.0, \"#f0f921\"]], \"type\": \"histogram2d\"}], \"histogram2dcontour\": [{\"colorbar\": {\"outlinewidth\": 0, \"ticks\": \"\"}, \"colorscale\": [[0.0, \"#0d0887\"], [0.1111111111111111, \"#46039f\"], [0.2222222222222222, \"#7201a8\"], [0.3333333333333333, \"#9c179e\"], [0.4444444444444444, \"#bd3786\"], [0.5555555555555556, \"#d8576b\"], [0.6666666666666666, \"#ed7953\"], [0.7777777777777778, \"#fb9f3a\"], [0.8888888888888888, \"#fdca26\"], [1.0, \"#f0f921\"]], \"type\": \"histogram2dcontour\"}], \"mesh3d\": [{\"colorbar\": {\"outlinewidth\": 0, \"ticks\": \"\"}, \"type\": \"mesh3d\"}], \"parcoords\": [{\"line\": {\"colorbar\": {\"outlinewidth\": 0, \"ticks\": \"\"}}, \"type\": \"parcoords\"}], \"pie\": [{\"automargin\": true, \"type\": \"pie\"}], \"scatter\": [{\"marker\": {\"line\": {\"color\": \"#283442\"}}, \"type\": \"scatter\"}], \"scatter3d\": [{\"line\": {\"colorbar\": {\"outlinewidth\": 0, \"ticks\": \"\"}}, \"marker\": {\"colorbar\": {\"outlinewidth\": 0, \"ticks\": \"\"}}, \"type\": \"scatter3d\"}], \"scattercarpet\": [{\"marker\": {\"colorbar\": {\"outlinewidth\": 0, \"ticks\": \"\"}}, \"type\": \"scattercarpet\"}], \"scattergeo\": [{\"marker\": {\"colorbar\": {\"outlinewidth\": 0, \"ticks\": \"\"}}, \"type\": \"scattergeo\"}], \"scattergl\": [{\"marker\": {\"line\": {\"color\": \"#283442\"}}, \"type\": \"scattergl\"}], \"scattermapbox\": [{\"marker\": {\"colorbar\": {\"outlinewidth\": 0, \"ticks\": \"\"}}, \"type\": \"scattermapbox\"}], \"scatterpolar\": [{\"marker\": {\"colorbar\": {\"outlinewidth\": 0, \"ticks\": \"\"}}, \"type\": \"scatterpolar\"}], \"scatterpolargl\": [{\"marker\": {\"colorbar\": {\"outlinewidth\": 0, \"ticks\": \"\"}}, \"type\": \"scatterpolargl\"}], \"scatterternary\": [{\"marker\": {\"colorbar\": {\"outlinewidth\": 0, \"ticks\": \"\"}}, \"type\": \"scatterternary\"}], \"surface\": [{\"colorbar\": {\"outlinewidth\": 0, \"ticks\": \"\"}, \"colorscale\": [[0.0, \"#0d0887\"], [0.1111111111111111, \"#46039f\"], [0.2222222222222222, \"#7201a8\"], [0.3333333333333333, \"#9c179e\"], [0.4444444444444444, \"#bd3786\"], [0.5555555555555556, \"#d8576b\"], [0.6666666666666666, \"#ed7953\"], [0.7777777777777778, \"#fb9f3a\"], [0.8888888888888888, \"#fdca26\"], [1.0, \"#f0f921\"]], \"type\": \"surface\"}], \"table\": [{\"cells\": {\"fill\": {\"color\": \"#506784\"}, \"line\": {\"color\": \"rgb(17,17,17)\"}}, \"header\": {\"fill\": {\"color\": \"#2a3f5f\"}, \"line\": {\"color\": \"rgb(17,17,17)\"}}, \"type\": \"table\"}]}, \"layout\": {\"annotationdefaults\": {\"arrowcolor\": \"#f2f5fa\", \"arrowhead\": 0, \"arrowwidth\": 1}, \"autotypenumbers\": \"strict\", \"coloraxis\": {\"colorbar\": {\"outlinewidth\": 0, \"ticks\": \"\"}}, \"colorscale\": {\"diverging\": [[0, \"#8e0152\"], [0.1, \"#c51b7d\"], [0.2, \"#de77ae\"], [0.3, \"#f1b6da\"], [0.4, \"#fde0ef\"], [0.5, \"#f7f7f7\"], [0.6, \"#e6f5d0\"], [0.7, \"#b8e186\"], [0.8, \"#7fbc41\"], [0.9, \"#4d9221\"], [1, \"#276419\"]], \"sequential\": [[0.0, \"#0d0887\"], [0.1111111111111111, \"#46039f\"], [0.2222222222222222, \"#7201a8\"], [0.3333333333333333, \"#9c179e\"], [0.4444444444444444, \"#bd3786\"], [0.5555555555555556, \"#d8576b\"], [0.6666666666666666, \"#ed7953\"], [0.7777777777777778, \"#fb9f3a\"], [0.8888888888888888, \"#fdca26\"], [1.0, \"#f0f921\"]], \"sequentialminus\": [[0.0, \"#0d0887\"], [0.1111111111111111, \"#46039f\"], [0.2222222222222222, \"#7201a8\"], [0.3333333333333333, \"#9c179e\"], [0.4444444444444444, \"#bd3786\"], [0.5555555555555556, \"#d8576b\"], [0.6666666666666666, \"#ed7953\"], [0.7777777777777778, \"#fb9f3a\"], [0.8888888888888888, \"#fdca26\"], [1.0, \"#f0f921\"]]}, \"colorway\": [\"#636efa\", \"#EF553B\", \"#00cc96\", \"#ab63fa\", \"#FFA15A\", \"#19d3f3\", \"#FF6692\", \"#B6E880\", \"#FF97FF\", \"#FECB52\"], \"font\": {\"color\": \"#f2f5fa\"}, \"geo\": {\"bgcolor\": \"rgb(17,17,17)\", \"lakecolor\": \"rgb(17,17,17)\", \"landcolor\": \"rgb(17,17,17)\", \"showlakes\": true, \"showland\": true, \"subunitcolor\": \"#506784\"}, \"hoverlabel\": {\"align\": \"left\"}, \"hovermode\": \"closest\", \"mapbox\": {\"style\": \"dark\"}, \"paper_bgcolor\": \"rgb(17,17,17)\", \"plot_bgcolor\": \"rgb(17,17,17)\", \"polar\": {\"angularaxis\": {\"gridcolor\": \"#506784\", \"linecolor\": \"#506784\", \"ticks\": \"\"}, \"bgcolor\": \"rgb(17,17,17)\", \"radialaxis\": {\"gridcolor\": \"#506784\", \"linecolor\": \"#506784\", \"ticks\": \"\"}}, \"scene\": {\"xaxis\": {\"backgroundcolor\": \"rgb(17,17,17)\", \"gridcolor\": \"#506784\", \"gridwidth\": 2, \"linecolor\": \"#506784\", \"showbackground\": true, \"ticks\": \"\", \"zerolinecolor\": \"#C8D4E3\"}, \"yaxis\": {\"backgroundcolor\": \"rgb(17,17,17)\", \"gridcolor\": \"#506784\", \"gridwidth\": 2, \"linecolor\": \"#506784\", \"showbackground\": true, \"ticks\": \"\", \"zerolinecolor\": \"#C8D4E3\"}, \"zaxis\": {\"backgroundcolor\": \"rgb(17,17,17)\", \"gridcolor\": \"#506784\", \"gridwidth\": 2, \"linecolor\": \"#506784\", \"showbackground\": true, \"ticks\": \"\", \"zerolinecolor\": \"#C8D4E3\"}}, \"shapedefaults\": {\"line\": {\"color\": \"#f2f5fa\"}}, \"sliderdefaults\": {\"bgcolor\": \"#C8D4E3\", \"bordercolor\": \"rgb(17,17,17)\", \"borderwidth\": 1, \"tickwidth\": 0}, \"ternary\": {\"aaxis\": {\"gridcolor\": \"#506784\", \"linecolor\": \"#506784\", \"ticks\": \"\"}, \"baxis\": {\"gridcolor\": \"#506784\", \"linecolor\": \"#506784\", \"ticks\": \"\"}, \"bgcolor\": \"rgb(17,17,17)\", \"caxis\": {\"gridcolor\": \"#506784\", \"linecolor\": \"#506784\", \"ticks\": \"\"}}, \"title\": {\"x\": 0.05}, \"updatemenudefaults\": {\"bgcolor\": \"#506784\", \"borderwidth\": 0}, \"xaxis\": {\"automargin\": true, \"gridcolor\": \"#283442\", \"linecolor\": \"#506784\", \"ticks\": \"\", \"title\": {\"standoff\": 15}, \"zerolinecolor\": \"#283442\", \"zerolinewidth\": 2}, \"yaxis\": {\"automargin\": true, \"gridcolor\": \"#283442\", \"linecolor\": \"#506784\", \"ticks\": \"\", \"title\": {\"standoff\": 15}, \"zerolinecolor\": \"#283442\", \"zerolinewidth\": 2}}}, \"title\": {\"text\": \"Crops non-irrigated and planted\"}, \"xaxis\": {\"title\": {\"text\": \"Months\"}}, \"yaxis\": {\"title\": {\"text\": \"Area (m2)\"}}},                        {\"responsive\": true}                    ).then(function(){\n",
       "                            \n",
       "var gd = document.getElementById('e6896b5d-8d4e-4537-a5a6-9cb0d443c540');\n",
       "var x = new MutationObserver(function (mutations, observer) {{\n",
       "        var display = window.getComputedStyle(gd).display;\n",
       "        if (!display || display === 'none') {{\n",
       "            console.log([gd, 'removed!']);\n",
       "            Plotly.purge(gd);\n",
       "            observer.disconnect();\n",
       "        }}\n",
       "}});\n",
       "\n",
       "// Listen for the removal of the full notebook cells\n",
       "var notebookContainer = gd.closest('#notebook-container');\n",
       "if (notebookContainer) {{\n",
       "    x.observe(notebookContainer, {childList: true});\n",
       "}}\n",
       "\n",
       "// Listen for the clearing of the current output cell\n",
       "var outputEl = gd.closest('.output');\n",
       "if (outputEl) {{\n",
       "    x.observe(outputEl, {childList: true});\n",
       "}}\n",
       "\n",
       "                        })                };                });            </script>        </div>"
      ]
     },
     "metadata": {},
     "output_type": "display_data"
    },
    {
     "data": {
      "application/vnd.plotly.v1+json": {
       "config": {
        "plotlyServerURL": "https://plot.ly"
       },
       "data": [
        {
         "mode": "lines",
         "name": "SugarAdsali",
         "type": "scatter",
         "x": [
          "2013-06-30T00:00:00",
          "2013-07-31T00:00:00",
          "2013-08-31T00:00:00",
          "2013-09-30T00:00:00",
          "2013-10-31T00:00:00",
          "2013-11-30T00:00:00"
         ],
         "y": [
          1227100928,
          1227100800,
          1227100800,
          1227100800,
          1227100800,
          1227100800
         ]
        },
        {
         "mode": "lines",
         "name": "proposedSugarAdsali",
         "type": "scatter",
         "x": [
          "2013-06-30T00:00:00",
          "2013-07-31T00:00:00",
          "2013-08-31T00:00:00",
          "2013-09-30T00:00:00",
          "2013-10-31T00:00:00",
          "2013-11-30T00:00:00"
         ],
         "y": [
          1252152960,
          1252153088,
          1252153088,
          1252153088,
          1252153088,
          1252153088
         ]
        },
        {
         "mode": "lines",
         "name": "SugarPreseasonal",
         "type": "scatter",
         "x": [
          "2013-06-30T00:00:00",
          "2013-07-31T00:00:00",
          "2013-08-31T00:00:00",
          "2013-09-30T00:00:00",
          "2013-10-31T00:00:00",
          "2013-11-30T00:00:00"
         ],
         "y": [
          0,
          0,
          0,
          0,
          0,
          3458510336
         ]
        },
        {
         "mode": "lines",
         "name": "proposedSugarPreseasonal",
         "type": "scatter",
         "x": [
          "2013-06-30T00:00:00",
          "2013-07-31T00:00:00",
          "2013-08-31T00:00:00",
          "2013-09-30T00:00:00",
          "2013-10-31T00:00:00",
          "2013-11-30T00:00:00"
         ],
         "y": [
          7433329152,
          7433329152,
          7433329152,
          7433329152,
          7433329152,
          4177721856
         ]
        },
        {
         "mode": "lines",
         "name": "SugarSuru",
         "type": "scatter",
         "x": [
          "2013-06-30T00:00:00",
          "2013-07-31T00:00:00",
          "2013-08-31T00:00:00",
          "2013-09-30T00:00:00",
          "2013-10-31T00:00:00",
          "2013-11-30T00:00:00"
         ],
         "y": [
          0,
          0,
          0,
          0,
          0,
          0
         ]
        },
        {
         "mode": "lines",
         "name": "proposedSugarSuru",
         "type": "scatter",
         "x": [
          "2013-06-30T00:00:00",
          "2013-07-31T00:00:00",
          "2013-08-31T00:00:00",
          "2013-09-30T00:00:00",
          "2013-10-31T00:00:00",
          "2013-11-30T00:00:00"
         ],
         "y": [
          4955552768,
          4955552768,
          4955552768,
          4955552768,
          4955552768,
          4955552768
         ]
        },
        {
         "mode": "lines",
         "name": "Wheat",
         "type": "scatter",
         "x": [
          "2013-06-30T00:00:00",
          "2013-07-31T00:00:00",
          "2013-08-31T00:00:00",
          "2013-09-30T00:00:00",
          "2013-10-31T00:00:00",
          "2013-11-30T00:00:00"
         ],
         "y": [
          0,
          0,
          0,
          0,
          0,
          1631530368
         ]
        },
        {
         "mode": "lines",
         "name": "proposedWheat",
         "type": "scatter",
         "x": [
          "2013-06-30T00:00:00",
          "2013-07-31T00:00:00",
          "2013-08-31T00:00:00",
          "2013-09-30T00:00:00",
          "2013-10-31T00:00:00",
          "2013-11-30T00:00:00"
         ],
         "y": [
          3408774144,
          3408774144,
          3408774144,
          3408774144,
          3408774144,
          2319930368
         ]
        },
        {
         "mode": "lines",
         "name": "FruitVegK",
         "type": "scatter",
         "x": [
          "2013-06-30T00:00:00",
          "2013-07-31T00:00:00",
          "2013-08-31T00:00:00",
          "2013-09-30T00:00:00",
          "2013-10-31T00:00:00",
          "2013-11-30T00:00:00"
         ],
         "y": [
          1270221568,
          1270221440,
          1270221440,
          1270221440,
          1270221440,
          0
         ]
        },
        {
         "mode": "lines",
         "name": "proposedFruitVegK",
         "type": "scatter",
         "x": [
          "2013-06-30T00:00:00",
          "2013-07-31T00:00:00",
          "2013-08-31T00:00:00",
          "2013-09-30T00:00:00",
          "2013-10-31T00:00:00",
          "2013-11-30T00:00:00"
         ],
         "y": [
          1872748800,
          1872748800,
          1872748800,
          1872748800,
          1872748800,
          2709462784
         ]
        },
        {
         "mode": "lines",
         "name": "FruitVegR",
         "type": "scatter",
         "x": [
          "2013-06-30T00:00:00",
          "2013-07-31T00:00:00",
          "2013-08-31T00:00:00",
          "2013-09-30T00:00:00",
          "2013-10-31T00:00:00",
          "2013-11-30T00:00:00"
         ],
         "y": [
          0,
          0,
          0,
          0,
          0,
          1126771072
         ]
        },
        {
         "mode": "lines",
         "name": "proposedFruitVegR",
         "type": "scatter",
         "x": [
          "2013-06-30T00:00:00",
          "2013-07-31T00:00:00",
          "2013-08-31T00:00:00",
          "2013-09-30T00:00:00",
          "2013-10-31T00:00:00",
          "2013-11-30T00:00:00"
         ],
         "y": [
          2432029952,
          2432029952,
          2432029952,
          2432029952,
          2432029952,
          1571263744
         ]
        },
        {
         "mode": "lines",
         "name": "SpicesK",
         "type": "scatter",
         "x": [
          "2013-06-30T00:00:00",
          "2013-07-31T00:00:00",
          "2013-08-31T00:00:00",
          "2013-09-30T00:00:00",
          "2013-10-31T00:00:00",
          "2013-11-30T00:00:00"
         ],
         "y": [
          123384432,
          123384112,
          123384112,
          123384112,
          123384112,
          0
         ]
        },
        {
         "mode": "lines",
         "name": "proposedSpicesK",
         "type": "scatter",
         "x": [
          "2013-06-30T00:00:00",
          "2013-07-31T00:00:00",
          "2013-08-31T00:00:00",
          "2013-09-30T00:00:00",
          "2013-10-31T00:00:00",
          "2013-11-30T00:00:00"
         ],
         "y": [
          137784320,
          137784624,
          137784624,
          137784624,
          137784624,
          253749712
         ]
        },
        {
         "mode": "lines",
         "name": "SpicesR",
         "type": "scatter",
         "x": [
          "2013-06-30T00:00:00",
          "2013-07-31T00:00:00",
          "2013-08-31T00:00:00",
          "2013-09-30T00:00:00",
          "2013-10-31T00:00:00",
          "2013-11-30T00:00:00"
         ],
         "y": [
          0,
          0,
          0,
          0,
          0,
          110458168
         ]
        },
        {
         "mode": "lines",
         "name": "proposedSpicesR",
         "type": "scatter",
         "x": [
          "2013-06-30T00:00:00",
          "2013-07-31T00:00:00",
          "2013-08-31T00:00:00",
          "2013-09-30T00:00:00",
          "2013-10-31T00:00:00",
          "2013-11-30T00:00:00"
         ],
         "y": [
          232139776,
          232139776,
          232139776,
          232139776,
          232139776,
          128647872
         ]
        },
        {
         "mode": "lines",
         "name": "Cotton",
         "type": "scatter",
         "x": [
          "2013-06-30T00:00:00",
          "2013-07-31T00:00:00",
          "2013-08-31T00:00:00",
          "2013-09-30T00:00:00",
          "2013-10-31T00:00:00",
          "2013-11-30T00:00:00"
         ],
         "y": [
          283485344,
          283482912,
          283482912,
          283482912,
          283482912,
          283482912
         ]
        },
        {
         "mode": "lines",
         "name": "proposedCotton",
         "type": "scatter",
         "x": [
          "2013-06-30T00:00:00",
          "2013-07-31T00:00:00",
          "2013-08-31T00:00:00",
          "2013-09-30T00:00:00",
          "2013-10-31T00:00:00",
          "2013-11-30T00:00:00"
         ],
         "y": [
          441202880,
          441205248,
          441205248,
          441205248,
          441205248,
          441205248
         ]
        },
        {
         "mode": "lines",
         "name": "Soybean",
         "type": "scatter",
         "x": [
          "2013-06-30T00:00:00",
          "2013-07-31T00:00:00",
          "2013-08-31T00:00:00",
          "2013-09-30T00:00:00",
          "2013-10-31T00:00:00",
          "2013-11-30T00:00:00"
         ],
         "y": [
          528216288,
          528215808,
          528215808,
          528215808,
          528215808,
          0
         ]
        },
        {
         "mode": "lines",
         "name": "proposedSoybean",
         "type": "scatter",
         "x": [
          "2013-06-30T00:00:00",
          "2013-07-31T00:00:00",
          "2013-08-31T00:00:00",
          "2013-09-30T00:00:00",
          "2013-10-31T00:00:00",
          "2013-11-30T00:00:00"
         ],
         "y": [
          823397504,
          823398016,
          823398016,
          823398016,
          823398016,
          1074382720
         ]
        },
        {
         "mode": "lines",
         "name": "Chickpea",
         "type": "scatter",
         "x": [
          "2013-06-30T00:00:00",
          "2013-07-31T00:00:00",
          "2013-08-31T00:00:00",
          "2013-09-30T00:00:00",
          "2013-10-31T00:00:00",
          "2013-11-30T00:00:00"
         ],
         "y": [
          0,
          0,
          0,
          0,
          0,
          1118599552
         ]
        },
        {
         "mode": "lines",
         "name": "proposedChickpea",
         "type": "scatter",
         "x": [
          "2013-06-30T00:00:00",
          "2013-07-31T00:00:00",
          "2013-08-31T00:00:00",
          "2013-09-30T00:00:00",
          "2013-10-31T00:00:00",
          "2013-11-30T00:00:00"
         ],
         "y": [
          2717682432,
          2717682432,
          2717682432,
          2717682432,
          2717682432,
          2120141824
         ]
        },
        {
         "mode": "lines",
         "name": "Groundnut",
         "type": "scatter",
         "x": [
          "2013-06-30T00:00:00",
          "2013-07-31T00:00:00",
          "2013-08-31T00:00:00",
          "2013-09-30T00:00:00",
          "2013-10-31T00:00:00",
          "2013-11-30T00:00:00"
         ],
         "y": [
          946105856,
          946105856,
          946105856,
          946105856,
          946105856,
          0
         ]
        },
        {
         "mode": "lines",
         "name": "proposedGroundnut",
         "type": "scatter",
         "x": [
          "2013-06-30T00:00:00",
          "2013-07-31T00:00:00",
          "2013-08-31T00:00:00",
          "2013-09-30T00:00:00",
          "2013-10-31T00:00:00",
          "2013-11-30T00:00:00"
         ],
         "y": [
          1487507584,
          1487507584,
          1487507584,
          1487507584,
          1487507584,
          2038390144
         ]
        },
        {
         "mode": "lines",
         "name": "SorghumK",
         "type": "scatter",
         "x": [
          "2013-06-30T00:00:00",
          "2013-07-31T00:00:00",
          "2013-08-31T00:00:00",
          "2013-09-30T00:00:00",
          "2013-10-31T00:00:00",
          "2013-11-30T00:00:00"
         ],
         "y": [
          7545416704,
          7545416704,
          7545416704,
          4784179200,
          0,
          0
         ]
        },
        {
         "mode": "lines",
         "name": "proposedSorghumK",
         "type": "scatter",
         "x": [
          "2013-06-30T00:00:00",
          "2013-07-31T00:00:00",
          "2013-08-31T00:00:00",
          "2013-09-30T00:00:00",
          "2013-10-31T00:00:00",
          "2013-11-30T00:00:00"
         ],
         "y": [
          22892843008,
          22892843008,
          22892843008,
          24838713344,
          25991098368,
          25991098368
         ]
        },
        {
         "mode": "lines",
         "name": "SorghumR",
         "type": "scatter",
         "x": [
          "2013-06-30T00:00:00",
          "2013-07-31T00:00:00",
          "2013-08-31T00:00:00",
          "2013-09-30T00:00:00",
          "2013-10-31T00:00:00",
          "2013-11-30T00:00:00"
         ],
         "y": [
          0,
          0,
          0,
          0,
          0,
          5216339968
         ]
        },
        {
         "mode": "lines",
         "name": "proposedSorghumR",
         "type": "scatter",
         "x": [
          "2013-06-30T00:00:00",
          "2013-07-31T00:00:00",
          "2013-08-31T00:00:00",
          "2013-09-30T00:00:00",
          "2013-10-31T00:00:00",
          "2013-11-30T00:00:00"
         ],
         "y": [
          25991098368,
          25991098368,
          25991098368,
          25991098368,
          25991098368,
          24888432640
         ]
        },
        {
         "mode": "lines",
         "name": "MaizeK",
         "type": "scatter",
         "x": [
          "2013-06-30T00:00:00",
          "2013-07-31T00:00:00",
          "2013-08-31T00:00:00",
          "2013-09-30T00:00:00",
          "2013-10-31T00:00:00",
          "2013-11-30T00:00:00"
         ],
         "y": [
          662882944,
          662882880,
          662882880,
          662882880,
          662882880,
          0
         ]
        },
        {
         "mode": "lines",
         "name": "proposedMaizeK",
         "type": "scatter",
         "x": [
          "2013-06-30T00:00:00",
          "2013-07-31T00:00:00",
          "2013-08-31T00:00:00",
          "2013-09-30T00:00:00",
          "2013-10-31T00:00:00",
          "2013-11-30T00:00:00"
         ],
         "y": [
          1009191552,
          1009191680,
          1009191680,
          1009191680,
          1009191680,
          1380662528
         ]
        },
        {
         "mode": "lines",
         "name": "MaizeR",
         "type": "scatter",
         "x": [
          "2013-06-30T00:00:00",
          "2013-07-31T00:00:00",
          "2013-08-31T00:00:00",
          "2013-09-30T00:00:00",
          "2013-10-31T00:00:00",
          "2013-11-30T00:00:00"
         ],
         "y": [
          0,
          0,
          0,
          0,
          0,
          673141056
         ]
        },
        {
         "mode": "lines",
         "name": "proposedMaizeR",
         "type": "scatter",
         "x": [
          "2013-06-30T00:00:00",
          "2013-07-31T00:00:00",
          "2013-08-31T00:00:00",
          "2013-09-30T00:00:00",
          "2013-10-31T00:00:00",
          "2013-11-30T00:00:00"
         ],
         "y": [
          1380662528,
          1380662528,
          1380662528,
          1380662528,
          1380662528,
          874033216
         ]
        },
        {
         "mode": "lines",
         "name": "GeneralK",
         "type": "scatter",
         "x": [
          "2013-06-30T00:00:00",
          "2013-07-31T00:00:00",
          "2013-08-31T00:00:00",
          "2013-09-30T00:00:00",
          "2013-10-31T00:00:00",
          "2013-11-30T00:00:00"
         ],
         "y": [
          2791668224,
          2791667968,
          2791667968,
          2791667968,
          1570909184,
          0
         ]
        },
        {
         "mode": "lines",
         "name": "proposedGeneralK",
         "type": "scatter",
         "x": [
          "2013-06-30T00:00:00",
          "2013-07-31T00:00:00",
          "2013-08-31T00:00:00",
          "2013-09-30T00:00:00",
          "2013-10-31T00:00:00",
          "2013-11-30T00:00:00"
         ],
         "y": [
          3741660160,
          3741660160,
          3741660160,
          3741660160,
          4962419200,
          6467780608
         ]
        },
        {
         "mode": "lines",
         "name": "GeneralR",
         "type": "scatter",
         "x": [
          "2013-06-30T00:00:00",
          "2013-07-31T00:00:00",
          "2013-08-31T00:00:00",
          "2013-09-30T00:00:00",
          "2013-10-31T00:00:00",
          "2013-11-30T00:00:00"
         ],
         "y": [
          0,
          0,
          0,
          0,
          0,
          3047059712
         ]
        },
        {
         "mode": "lines",
         "name": "proposedGeneralR",
         "type": "scatter",
         "x": [
          "2013-06-30T00:00:00",
          "2013-07-31T00:00:00",
          "2013-08-31T00:00:00",
          "2013-09-30T00:00:00",
          "2013-10-31T00:00:00",
          "2013-11-30T00:00:00"
         ],
         "y": [
          6467780608,
          6467780608,
          6467780608,
          6467780608,
          6467780608,
          3422228480
         ]
        },
        {
         "mode": "lines",
         "name": "total non-irrigated land",
         "type": "scatter",
         "x": [
          "2013-06-30T00:00:00",
          "2013-07-31T00:00:00",
          "2013-08-31T00:00:00",
          "2013-09-30T00:00:00",
          "2013-10-31T00:00:00",
          "2013-11-30T00:00:00"
         ],
         "y": [
          21722370048,
          21722370048,
          21722370048,
          21722370048,
          21722370048,
          21722370048
         ]
        },
        {
         "mode": "lines",
         "name": "total irrigated land",
         "type": "scatter",
         "x": [
          "2013-06-30T00:00:00",
          "2013-07-31T00:00:00",
          "2013-08-31T00:00:00",
          "2013-09-30T00:00:00",
          "2013-10-31T00:00:00",
          "2013-11-30T00:00:00"
         ],
         "y": [
          14134842368,
          14134842368,
          14134842368,
          14134842368,
          14134842368,
          14134842368
         ]
        },
        {
         "mode": "lines",
         "name": "total irrigated crops",
         "type": "scatter",
         "x": [
          "2013-06-30T00:00:00",
          "2013-07-31T00:00:00",
          "2013-08-31T00:00:00",
          "2013-09-30T00:00:00",
          "2013-10-31T00:00:00",
          "2013-11-30T00:00:00"
         ],
         "y": [
          9312456704,
          9312453632,
          9312453632,
          7366581248,
          4993438208,
          11923156992
         ]
        },
        {
         "mode": "lines",
         "name": "total non-irrigated crops",
         "type": "scatter",
         "x": [
          "2013-06-30T00:00:00",
          "2013-07-31T00:00:00",
          "2013-08-31T00:00:00",
          "2013-09-30T00:00:00",
          "2013-10-31T00:00:00",
          "2013-11-30T00:00:00"
         ],
         "y": [
          6066025472,
          6066025472,
          6066025472,
          5250659840,
          1618865024,
          5969836032
         ]
        },
        {
         "mode": "lines",
         "name": "fallowed irrigated crops",
         "type": "scatter",
         "x": [
          "2013-06-30T00:00:00",
          "2013-07-31T00:00:00",
          "2013-08-31T00:00:00",
          "2013-09-30T00:00:00",
          "2013-10-31T00:00:00",
          "2013-11-30T00:00:00"
         ],
         "y": [
          4822386176,
          4822389248,
          4822389248,
          6768261120,
          9141405696,
          2211685376
         ]
        },
        {
         "mode": "lines",
         "name": "fallowed non-irrigated crops",
         "type": "scatter",
         "x": [
          "2013-06-30T00:00:00",
          "2013-07-31T00:00:00",
          "2013-08-31T00:00:00",
          "2013-09-30T00:00:00",
          "2013-10-31T00:00:00",
          "2013-11-30T00:00:00"
         ],
         "y": [
          0,
          70.06066131591797,
          70.06066131591797,
          815365184,
          4447159808,
          1189902592
         ]
        },
        {
         "mode": "lines",
         "name": "General irrigated crops",
         "type": "scatter",
         "x": [
          "2013-06-30T00:00:00",
          "2013-07-31T00:00:00",
          "2013-08-31T00:00:00",
          "2013-09-30T00:00:00",
          "2013-10-31T00:00:00",
          "2013-11-30T00:00:00"
         ],
         "y": [
          0,
          0,
          0,
          0,
          0,
          0
         ]
        },
        {
         "mode": "lines",
         "name": "General non-irrigated crops",
         "type": "scatter",
         "x": [
          "2013-06-30T00:00:00",
          "2013-07-31T00:00:00",
          "2013-08-31T00:00:00",
          "2013-09-30T00:00:00",
          "2013-10-31T00:00:00",
          "2013-11-30T00:00:00"
         ],
         "y": [
          15656347648,
          15656347648,
          15656347648,
          15656347648,
          15656347648,
          14562635776
         ]
        },
        {
         "mode": "lines",
         "name": "Forest",
         "type": "scatter",
         "x": [
          "2013-06-30T00:00:00",
          "2013-07-31T00:00:00",
          "2013-08-31T00:00:00",
          "2013-09-30T00:00:00",
          "2013-10-31T00:00:00",
          "2013-11-30T00:00:00"
         ],
         "y": [
          7059102720,
          7059102720,
          7059102720,
          7059102720,
          7059102720,
          7059102720
         ]
        },
        {
         "mode": "lines",
         "name": "Paddy",
         "type": "scatter",
         "x": [
          "2013-06-30T00:00:00",
          "2013-07-31T00:00:00",
          "2013-08-31T00:00:00",
          "2013-09-30T00:00:00",
          "2013-10-31T00:00:00",
          "2013-11-30T00:00:00"
         ],
         "y": [
          824946496,
          824946496,
          824946496,
          824946496,
          824946496,
          824946496
         ]
        },
        {
         "mode": "lines",
         "name": "Sealed",
         "type": "scatter",
         "x": [
          "2013-06-30T00:00:00",
          "2013-07-31T00:00:00",
          "2013-08-31T00:00:00",
          "2013-09-30T00:00:00",
          "2013-10-31T00:00:00",
          "2013-11-30T00:00:00"
         ],
         "y": [
          550953280,
          550953280,
          550953280,
          550953280,
          550953280,
          550953280
         ]
        },
        {
         "mode": "lines",
         "name": "Water",
         "type": "scatter",
         "x": [
          "2013-06-30T00:00:00",
          "2013-07-31T00:00:00",
          "2013-08-31T00:00:00",
          "2013-09-30T00:00:00",
          "2013-10-31T00:00:00",
          "2013-11-30T00:00:00"
         ],
         "y": [
          1520689536,
          1520689536,
          1520689536,
          1520689536,
          1520689536,
          1520689536
         ]
        },
        {
         "mode": "lines",
         "name": "Available land",
         "type": "scatter",
         "x": [
          "2013-06-30T00:00:00",
          "2013-07-31T00:00:00",
          "2013-08-31T00:00:00",
          "2013-09-30T00:00:00",
          "2013-10-31T00:00:00",
          "2013-11-30T00:00:00"
         ],
         "y": [
          20478734336,
          20478736384,
          20478736384,
          23239974912,
          29244915712,
          17964224512
         ]
        }
       ],
       "layout": {
        "template": {
         "data": {
          "bar": [
           {
            "error_x": {
             "color": "#f2f5fa"
            },
            "error_y": {
             "color": "#f2f5fa"
            },
            "marker": {
             "line": {
              "color": "rgb(17,17,17)",
              "width": 0.5
             }
            },
            "type": "bar"
           }
          ],
          "barpolar": [
           {
            "marker": {
             "line": {
              "color": "rgb(17,17,17)",
              "width": 0.5
             }
            },
            "type": "barpolar"
           }
          ],
          "carpet": [
           {
            "aaxis": {
             "endlinecolor": "#A2B1C6",
             "gridcolor": "#506784",
             "linecolor": "#506784",
             "minorgridcolor": "#506784",
             "startlinecolor": "#A2B1C6"
            },
            "baxis": {
             "endlinecolor": "#A2B1C6",
             "gridcolor": "#506784",
             "linecolor": "#506784",
             "minorgridcolor": "#506784",
             "startlinecolor": "#A2B1C6"
            },
            "type": "carpet"
           }
          ],
          "choropleth": [
           {
            "colorbar": {
             "outlinewidth": 0,
             "ticks": ""
            },
            "type": "choropleth"
           }
          ],
          "contour": [
           {
            "colorbar": {
             "outlinewidth": 0,
             "ticks": ""
            },
            "colorscale": [
             [
              0,
              "#0d0887"
             ],
             [
              0.1111111111111111,
              "#46039f"
             ],
             [
              0.2222222222222222,
              "#7201a8"
             ],
             [
              0.3333333333333333,
              "#9c179e"
             ],
             [
              0.4444444444444444,
              "#bd3786"
             ],
             [
              0.5555555555555556,
              "#d8576b"
             ],
             [
              0.6666666666666666,
              "#ed7953"
             ],
             [
              0.7777777777777778,
              "#fb9f3a"
             ],
             [
              0.8888888888888888,
              "#fdca26"
             ],
             [
              1,
              "#f0f921"
             ]
            ],
            "type": "contour"
           }
          ],
          "contourcarpet": [
           {
            "colorbar": {
             "outlinewidth": 0,
             "ticks": ""
            },
            "type": "contourcarpet"
           }
          ],
          "heatmap": [
           {
            "colorbar": {
             "outlinewidth": 0,
             "ticks": ""
            },
            "colorscale": [
             [
              0,
              "#0d0887"
             ],
             [
              0.1111111111111111,
              "#46039f"
             ],
             [
              0.2222222222222222,
              "#7201a8"
             ],
             [
              0.3333333333333333,
              "#9c179e"
             ],
             [
              0.4444444444444444,
              "#bd3786"
             ],
             [
              0.5555555555555556,
              "#d8576b"
             ],
             [
              0.6666666666666666,
              "#ed7953"
             ],
             [
              0.7777777777777778,
              "#fb9f3a"
             ],
             [
              0.8888888888888888,
              "#fdca26"
             ],
             [
              1,
              "#f0f921"
             ]
            ],
            "type": "heatmap"
           }
          ],
          "heatmapgl": [
           {
            "colorbar": {
             "outlinewidth": 0,
             "ticks": ""
            },
            "colorscale": [
             [
              0,
              "#0d0887"
             ],
             [
              0.1111111111111111,
              "#46039f"
             ],
             [
              0.2222222222222222,
              "#7201a8"
             ],
             [
              0.3333333333333333,
              "#9c179e"
             ],
             [
              0.4444444444444444,
              "#bd3786"
             ],
             [
              0.5555555555555556,
              "#d8576b"
             ],
             [
              0.6666666666666666,
              "#ed7953"
             ],
             [
              0.7777777777777778,
              "#fb9f3a"
             ],
             [
              0.8888888888888888,
              "#fdca26"
             ],
             [
              1,
              "#f0f921"
             ]
            ],
            "type": "heatmapgl"
           }
          ],
          "histogram": [
           {
            "marker": {
             "colorbar": {
              "outlinewidth": 0,
              "ticks": ""
             }
            },
            "type": "histogram"
           }
          ],
          "histogram2d": [
           {
            "colorbar": {
             "outlinewidth": 0,
             "ticks": ""
            },
            "colorscale": [
             [
              0,
              "#0d0887"
             ],
             [
              0.1111111111111111,
              "#46039f"
             ],
             [
              0.2222222222222222,
              "#7201a8"
             ],
             [
              0.3333333333333333,
              "#9c179e"
             ],
             [
              0.4444444444444444,
              "#bd3786"
             ],
             [
              0.5555555555555556,
              "#d8576b"
             ],
             [
              0.6666666666666666,
              "#ed7953"
             ],
             [
              0.7777777777777778,
              "#fb9f3a"
             ],
             [
              0.8888888888888888,
              "#fdca26"
             ],
             [
              1,
              "#f0f921"
             ]
            ],
            "type": "histogram2d"
           }
          ],
          "histogram2dcontour": [
           {
            "colorbar": {
             "outlinewidth": 0,
             "ticks": ""
            },
            "colorscale": [
             [
              0,
              "#0d0887"
             ],
             [
              0.1111111111111111,
              "#46039f"
             ],
             [
              0.2222222222222222,
              "#7201a8"
             ],
             [
              0.3333333333333333,
              "#9c179e"
             ],
             [
              0.4444444444444444,
              "#bd3786"
             ],
             [
              0.5555555555555556,
              "#d8576b"
             ],
             [
              0.6666666666666666,
              "#ed7953"
             ],
             [
              0.7777777777777778,
              "#fb9f3a"
             ],
             [
              0.8888888888888888,
              "#fdca26"
             ],
             [
              1,
              "#f0f921"
             ]
            ],
            "type": "histogram2dcontour"
           }
          ],
          "mesh3d": [
           {
            "colorbar": {
             "outlinewidth": 0,
             "ticks": ""
            },
            "type": "mesh3d"
           }
          ],
          "parcoords": [
           {
            "line": {
             "colorbar": {
              "outlinewidth": 0,
              "ticks": ""
             }
            },
            "type": "parcoords"
           }
          ],
          "pie": [
           {
            "automargin": true,
            "type": "pie"
           }
          ],
          "scatter": [
           {
            "marker": {
             "line": {
              "color": "#283442"
             }
            },
            "type": "scatter"
           }
          ],
          "scatter3d": [
           {
            "line": {
             "colorbar": {
              "outlinewidth": 0,
              "ticks": ""
             }
            },
            "marker": {
             "colorbar": {
              "outlinewidth": 0,
              "ticks": ""
             }
            },
            "type": "scatter3d"
           }
          ],
          "scattercarpet": [
           {
            "marker": {
             "colorbar": {
              "outlinewidth": 0,
              "ticks": ""
             }
            },
            "type": "scattercarpet"
           }
          ],
          "scattergeo": [
           {
            "marker": {
             "colorbar": {
              "outlinewidth": 0,
              "ticks": ""
             }
            },
            "type": "scattergeo"
           }
          ],
          "scattergl": [
           {
            "marker": {
             "line": {
              "color": "#283442"
             }
            },
            "type": "scattergl"
           }
          ],
          "scattermapbox": [
           {
            "marker": {
             "colorbar": {
              "outlinewidth": 0,
              "ticks": ""
             }
            },
            "type": "scattermapbox"
           }
          ],
          "scatterpolar": [
           {
            "marker": {
             "colorbar": {
              "outlinewidth": 0,
              "ticks": ""
             }
            },
            "type": "scatterpolar"
           }
          ],
          "scatterpolargl": [
           {
            "marker": {
             "colorbar": {
              "outlinewidth": 0,
              "ticks": ""
             }
            },
            "type": "scatterpolargl"
           }
          ],
          "scatterternary": [
           {
            "marker": {
             "colorbar": {
              "outlinewidth": 0,
              "ticks": ""
             }
            },
            "type": "scatterternary"
           }
          ],
          "surface": [
           {
            "colorbar": {
             "outlinewidth": 0,
             "ticks": ""
            },
            "colorscale": [
             [
              0,
              "#0d0887"
             ],
             [
              0.1111111111111111,
              "#46039f"
             ],
             [
              0.2222222222222222,
              "#7201a8"
             ],
             [
              0.3333333333333333,
              "#9c179e"
             ],
             [
              0.4444444444444444,
              "#bd3786"
             ],
             [
              0.5555555555555556,
              "#d8576b"
             ],
             [
              0.6666666666666666,
              "#ed7953"
             ],
             [
              0.7777777777777778,
              "#fb9f3a"
             ],
             [
              0.8888888888888888,
              "#fdca26"
             ],
             [
              1,
              "#f0f921"
             ]
            ],
            "type": "surface"
           }
          ],
          "table": [
           {
            "cells": {
             "fill": {
              "color": "#506784"
             },
             "line": {
              "color": "rgb(17,17,17)"
             }
            },
            "header": {
             "fill": {
              "color": "#2a3f5f"
             },
             "line": {
              "color": "rgb(17,17,17)"
             }
            },
            "type": "table"
           }
          ]
         },
         "layout": {
          "annotationdefaults": {
           "arrowcolor": "#f2f5fa",
           "arrowhead": 0,
           "arrowwidth": 1
          },
          "autotypenumbers": "strict",
          "coloraxis": {
           "colorbar": {
            "outlinewidth": 0,
            "ticks": ""
           }
          },
          "colorscale": {
           "diverging": [
            [
             0,
             "#8e0152"
            ],
            [
             0.1,
             "#c51b7d"
            ],
            [
             0.2,
             "#de77ae"
            ],
            [
             0.3,
             "#f1b6da"
            ],
            [
             0.4,
             "#fde0ef"
            ],
            [
             0.5,
             "#f7f7f7"
            ],
            [
             0.6,
             "#e6f5d0"
            ],
            [
             0.7,
             "#b8e186"
            ],
            [
             0.8,
             "#7fbc41"
            ],
            [
             0.9,
             "#4d9221"
            ],
            [
             1,
             "#276419"
            ]
           ],
           "sequential": [
            [
             0,
             "#0d0887"
            ],
            [
             0.1111111111111111,
             "#46039f"
            ],
            [
             0.2222222222222222,
             "#7201a8"
            ],
            [
             0.3333333333333333,
             "#9c179e"
            ],
            [
             0.4444444444444444,
             "#bd3786"
            ],
            [
             0.5555555555555556,
             "#d8576b"
            ],
            [
             0.6666666666666666,
             "#ed7953"
            ],
            [
             0.7777777777777778,
             "#fb9f3a"
            ],
            [
             0.8888888888888888,
             "#fdca26"
            ],
            [
             1,
             "#f0f921"
            ]
           ],
           "sequentialminus": [
            [
             0,
             "#0d0887"
            ],
            [
             0.1111111111111111,
             "#46039f"
            ],
            [
             0.2222222222222222,
             "#7201a8"
            ],
            [
             0.3333333333333333,
             "#9c179e"
            ],
            [
             0.4444444444444444,
             "#bd3786"
            ],
            [
             0.5555555555555556,
             "#d8576b"
            ],
            [
             0.6666666666666666,
             "#ed7953"
            ],
            [
             0.7777777777777778,
             "#fb9f3a"
            ],
            [
             0.8888888888888888,
             "#fdca26"
            ],
            [
             1,
             "#f0f921"
            ]
           ]
          },
          "colorway": [
           "#636efa",
           "#EF553B",
           "#00cc96",
           "#ab63fa",
           "#FFA15A",
           "#19d3f3",
           "#FF6692",
           "#B6E880",
           "#FF97FF",
           "#FECB52"
          ],
          "font": {
           "color": "#f2f5fa"
          },
          "geo": {
           "bgcolor": "rgb(17,17,17)",
           "lakecolor": "rgb(17,17,17)",
           "landcolor": "rgb(17,17,17)",
           "showlakes": true,
           "showland": true,
           "subunitcolor": "#506784"
          },
          "hoverlabel": {
           "align": "left"
          },
          "hovermode": "closest",
          "mapbox": {
           "style": "dark"
          },
          "paper_bgcolor": "rgb(17,17,17)",
          "plot_bgcolor": "rgb(17,17,17)",
          "polar": {
           "angularaxis": {
            "gridcolor": "#506784",
            "linecolor": "#506784",
            "ticks": ""
           },
           "bgcolor": "rgb(17,17,17)",
           "radialaxis": {
            "gridcolor": "#506784",
            "linecolor": "#506784",
            "ticks": ""
           }
          },
          "scene": {
           "xaxis": {
            "backgroundcolor": "rgb(17,17,17)",
            "gridcolor": "#506784",
            "gridwidth": 2,
            "linecolor": "#506784",
            "showbackground": true,
            "ticks": "",
            "zerolinecolor": "#C8D4E3"
           },
           "yaxis": {
            "backgroundcolor": "rgb(17,17,17)",
            "gridcolor": "#506784",
            "gridwidth": 2,
            "linecolor": "#506784",
            "showbackground": true,
            "ticks": "",
            "zerolinecolor": "#C8D4E3"
           },
           "zaxis": {
            "backgroundcolor": "rgb(17,17,17)",
            "gridcolor": "#506784",
            "gridwidth": 2,
            "linecolor": "#506784",
            "showbackground": true,
            "ticks": "",
            "zerolinecolor": "#C8D4E3"
           }
          },
          "shapedefaults": {
           "line": {
            "color": "#f2f5fa"
           }
          },
          "sliderdefaults": {
           "bgcolor": "#C8D4E3",
           "bordercolor": "rgb(17,17,17)",
           "borderwidth": 1,
           "tickwidth": 0
          },
          "ternary": {
           "aaxis": {
            "gridcolor": "#506784",
            "linecolor": "#506784",
            "ticks": ""
           },
           "baxis": {
            "gridcolor": "#506784",
            "linecolor": "#506784",
            "ticks": ""
           },
           "bgcolor": "rgb(17,17,17)",
           "caxis": {
            "gridcolor": "#506784",
            "linecolor": "#506784",
            "ticks": ""
           }
          },
          "title": {
           "x": 0.05
          },
          "updatemenudefaults": {
           "bgcolor": "#506784",
           "borderwidth": 0
          },
          "xaxis": {
           "automargin": true,
           "gridcolor": "#283442",
           "linecolor": "#506784",
           "ticks": "",
           "title": {
            "standoff": 15
           },
           "zerolinecolor": "#283442",
           "zerolinewidth": 2
          },
          "yaxis": {
           "automargin": true,
           "gridcolor": "#283442",
           "linecolor": "#506784",
           "ticks": "",
           "title": {
            "standoff": 15
           },
           "zerolinecolor": "#283442",
           "zerolinewidth": 2
          }
         }
        },
        "title": {
         "text": "Crops total planted"
        },
        "xaxis": {
         "title": {
          "text": "Months"
         }
        },
        "yaxis": {
         "title": {
          "text": "Area (m2)"
         }
        }
       }
      },
      "text/html": [
       "<div>                            <div id=\"547e040d-896f-4369-bb3a-9676316a12d1\" class=\"plotly-graph-div\" style=\"height:525px; width:100%;\"></div>            <script type=\"text/javascript\">                require([\"plotly\"], function(Plotly) {                    window.PLOTLYENV=window.PLOTLYENV || {};                                    if (document.getElementById(\"547e040d-896f-4369-bb3a-9676316a12d1\")) {                    Plotly.newPlot(                        \"547e040d-896f-4369-bb3a-9676316a12d1\",                        [{\"mode\": \"lines\", \"name\": \"SugarAdsali\", \"type\": \"scatter\", \"x\": [\"2013-06-30T00:00:00\", \"2013-07-31T00:00:00\", \"2013-08-31T00:00:00\", \"2013-09-30T00:00:00\", \"2013-10-31T00:00:00\", \"2013-11-30T00:00:00\"], \"y\": [1227100928.0, 1227100800.0, 1227100800.0, 1227100800.0, 1227100800.0, 1227100800.0]}, {\"mode\": \"lines\", \"name\": \"proposedSugarAdsali\", \"type\": \"scatter\", \"x\": [\"2013-06-30T00:00:00\", \"2013-07-31T00:00:00\", \"2013-08-31T00:00:00\", \"2013-09-30T00:00:00\", \"2013-10-31T00:00:00\", \"2013-11-30T00:00:00\"], \"y\": [1252152960.0, 1252153088.0, 1252153088.0, 1252153088.0, 1252153088.0, 1252153088.0]}, {\"mode\": \"lines\", \"name\": \"SugarPreseasonal\", \"type\": \"scatter\", \"x\": [\"2013-06-30T00:00:00\", \"2013-07-31T00:00:00\", \"2013-08-31T00:00:00\", \"2013-09-30T00:00:00\", \"2013-10-31T00:00:00\", \"2013-11-30T00:00:00\"], \"y\": [0.0, 0.0, 0.0, 0.0, 0.0, 3458510336.0]}, {\"mode\": \"lines\", \"name\": \"proposedSugarPreseasonal\", \"type\": \"scatter\", \"x\": [\"2013-06-30T00:00:00\", \"2013-07-31T00:00:00\", \"2013-08-31T00:00:00\", \"2013-09-30T00:00:00\", \"2013-10-31T00:00:00\", \"2013-11-30T00:00:00\"], \"y\": [7433329152.0, 7433329152.0, 7433329152.0, 7433329152.0, 7433329152.0, 4177721856.0]}, {\"mode\": \"lines\", \"name\": \"SugarSuru\", \"type\": \"scatter\", \"x\": [\"2013-06-30T00:00:00\", \"2013-07-31T00:00:00\", \"2013-08-31T00:00:00\", \"2013-09-30T00:00:00\", \"2013-10-31T00:00:00\", \"2013-11-30T00:00:00\"], \"y\": [0.0, 0.0, 0.0, 0.0, 0.0, 0.0]}, {\"mode\": \"lines\", \"name\": \"proposedSugarSuru\", \"type\": \"scatter\", \"x\": [\"2013-06-30T00:00:00\", \"2013-07-31T00:00:00\", \"2013-08-31T00:00:00\", \"2013-09-30T00:00:00\", \"2013-10-31T00:00:00\", \"2013-11-30T00:00:00\"], \"y\": [4955552768.0, 4955552768.0, 4955552768.0, 4955552768.0, 4955552768.0, 4955552768.0]}, {\"mode\": \"lines\", \"name\": \"Wheat\", \"type\": \"scatter\", \"x\": [\"2013-06-30T00:00:00\", \"2013-07-31T00:00:00\", \"2013-08-31T00:00:00\", \"2013-09-30T00:00:00\", \"2013-10-31T00:00:00\", \"2013-11-30T00:00:00\"], \"y\": [0.0, 0.0, 0.0, 0.0, 0.0, 1631530368.0]}, {\"mode\": \"lines\", \"name\": \"proposedWheat\", \"type\": \"scatter\", \"x\": [\"2013-06-30T00:00:00\", \"2013-07-31T00:00:00\", \"2013-08-31T00:00:00\", \"2013-09-30T00:00:00\", \"2013-10-31T00:00:00\", \"2013-11-30T00:00:00\"], \"y\": [3408774144.0, 3408774144.0, 3408774144.0, 3408774144.0, 3408774144.0, 2319930368.0]}, {\"mode\": \"lines\", \"name\": \"FruitVegK\", \"type\": \"scatter\", \"x\": [\"2013-06-30T00:00:00\", \"2013-07-31T00:00:00\", \"2013-08-31T00:00:00\", \"2013-09-30T00:00:00\", \"2013-10-31T00:00:00\", \"2013-11-30T00:00:00\"], \"y\": [1270221568.0, 1270221440.0, 1270221440.0, 1270221440.0, 1270221440.0, 0.0]}, {\"mode\": \"lines\", \"name\": \"proposedFruitVegK\", \"type\": \"scatter\", \"x\": [\"2013-06-30T00:00:00\", \"2013-07-31T00:00:00\", \"2013-08-31T00:00:00\", \"2013-09-30T00:00:00\", \"2013-10-31T00:00:00\", \"2013-11-30T00:00:00\"], \"y\": [1872748800.0, 1872748800.0, 1872748800.0, 1872748800.0, 1872748800.0, 2709462784.0]}, {\"mode\": \"lines\", \"name\": \"FruitVegR\", \"type\": \"scatter\", \"x\": [\"2013-06-30T00:00:00\", \"2013-07-31T00:00:00\", \"2013-08-31T00:00:00\", \"2013-09-30T00:00:00\", \"2013-10-31T00:00:00\", \"2013-11-30T00:00:00\"], \"y\": [0.0, 0.0, 0.0, 0.0, 0.0, 1126771072.0]}, {\"mode\": \"lines\", \"name\": \"proposedFruitVegR\", \"type\": \"scatter\", \"x\": [\"2013-06-30T00:00:00\", \"2013-07-31T00:00:00\", \"2013-08-31T00:00:00\", \"2013-09-30T00:00:00\", \"2013-10-31T00:00:00\", \"2013-11-30T00:00:00\"], \"y\": [2432029952.0, 2432029952.0, 2432029952.0, 2432029952.0, 2432029952.0, 1571263744.0]}, {\"mode\": \"lines\", \"name\": \"SpicesK\", \"type\": \"scatter\", \"x\": [\"2013-06-30T00:00:00\", \"2013-07-31T00:00:00\", \"2013-08-31T00:00:00\", \"2013-09-30T00:00:00\", \"2013-10-31T00:00:00\", \"2013-11-30T00:00:00\"], \"y\": [123384432.0, 123384112.0, 123384112.0, 123384112.0, 123384112.0, 0.0]}, {\"mode\": \"lines\", \"name\": \"proposedSpicesK\", \"type\": \"scatter\", \"x\": [\"2013-06-30T00:00:00\", \"2013-07-31T00:00:00\", \"2013-08-31T00:00:00\", \"2013-09-30T00:00:00\", \"2013-10-31T00:00:00\", \"2013-11-30T00:00:00\"], \"y\": [137784320.0, 137784624.0, 137784624.0, 137784624.0, 137784624.0, 253749712.0]}, {\"mode\": \"lines\", \"name\": \"SpicesR\", \"type\": \"scatter\", \"x\": [\"2013-06-30T00:00:00\", \"2013-07-31T00:00:00\", \"2013-08-31T00:00:00\", \"2013-09-30T00:00:00\", \"2013-10-31T00:00:00\", \"2013-11-30T00:00:00\"], \"y\": [0.0, 0.0, 0.0, 0.0, 0.0, 110458168.0]}, {\"mode\": \"lines\", \"name\": \"proposedSpicesR\", \"type\": \"scatter\", \"x\": [\"2013-06-30T00:00:00\", \"2013-07-31T00:00:00\", \"2013-08-31T00:00:00\", \"2013-09-30T00:00:00\", \"2013-10-31T00:00:00\", \"2013-11-30T00:00:00\"], \"y\": [232139776.0, 232139776.0, 232139776.0, 232139776.0, 232139776.0, 128647872.0]}, {\"mode\": \"lines\", \"name\": \"Cotton\", \"type\": \"scatter\", \"x\": [\"2013-06-30T00:00:00\", \"2013-07-31T00:00:00\", \"2013-08-31T00:00:00\", \"2013-09-30T00:00:00\", \"2013-10-31T00:00:00\", \"2013-11-30T00:00:00\"], \"y\": [283485344.0, 283482912.0, 283482912.0, 283482912.0, 283482912.0, 283482912.0]}, {\"mode\": \"lines\", \"name\": \"proposedCotton\", \"type\": \"scatter\", \"x\": [\"2013-06-30T00:00:00\", \"2013-07-31T00:00:00\", \"2013-08-31T00:00:00\", \"2013-09-30T00:00:00\", \"2013-10-31T00:00:00\", \"2013-11-30T00:00:00\"], \"y\": [441202880.0, 441205248.0, 441205248.0, 441205248.0, 441205248.0, 441205248.0]}, {\"mode\": \"lines\", \"name\": \"Soybean\", \"type\": \"scatter\", \"x\": [\"2013-06-30T00:00:00\", \"2013-07-31T00:00:00\", \"2013-08-31T00:00:00\", \"2013-09-30T00:00:00\", \"2013-10-31T00:00:00\", \"2013-11-30T00:00:00\"], \"y\": [528216288.0, 528215808.0, 528215808.0, 528215808.0, 528215808.0, 0.0]}, {\"mode\": \"lines\", \"name\": \"proposedSoybean\", \"type\": \"scatter\", \"x\": [\"2013-06-30T00:00:00\", \"2013-07-31T00:00:00\", \"2013-08-31T00:00:00\", \"2013-09-30T00:00:00\", \"2013-10-31T00:00:00\", \"2013-11-30T00:00:00\"], \"y\": [823397504.0, 823398016.0, 823398016.0, 823398016.0, 823398016.0, 1074382720.0]}, {\"mode\": \"lines\", \"name\": \"Chickpea\", \"type\": \"scatter\", \"x\": [\"2013-06-30T00:00:00\", \"2013-07-31T00:00:00\", \"2013-08-31T00:00:00\", \"2013-09-30T00:00:00\", \"2013-10-31T00:00:00\", \"2013-11-30T00:00:00\"], \"y\": [0.0, 0.0, 0.0, 0.0, 0.0, 1118599552.0]}, {\"mode\": \"lines\", \"name\": \"proposedChickpea\", \"type\": \"scatter\", \"x\": [\"2013-06-30T00:00:00\", \"2013-07-31T00:00:00\", \"2013-08-31T00:00:00\", \"2013-09-30T00:00:00\", \"2013-10-31T00:00:00\", \"2013-11-30T00:00:00\"], \"y\": [2717682432.0, 2717682432.0, 2717682432.0, 2717682432.0, 2717682432.0, 2120141824.0]}, {\"mode\": \"lines\", \"name\": \"Groundnut\", \"type\": \"scatter\", \"x\": [\"2013-06-30T00:00:00\", \"2013-07-31T00:00:00\", \"2013-08-31T00:00:00\", \"2013-09-30T00:00:00\", \"2013-10-31T00:00:00\", \"2013-11-30T00:00:00\"], \"y\": [946105856.0, 946105856.0, 946105856.0, 946105856.0, 946105856.0, 0.0]}, {\"mode\": \"lines\", \"name\": \"proposedGroundnut\", \"type\": \"scatter\", \"x\": [\"2013-06-30T00:00:00\", \"2013-07-31T00:00:00\", \"2013-08-31T00:00:00\", \"2013-09-30T00:00:00\", \"2013-10-31T00:00:00\", \"2013-11-30T00:00:00\"], \"y\": [1487507584.0, 1487507584.0, 1487507584.0, 1487507584.0, 1487507584.0, 2038390144.0]}, {\"mode\": \"lines\", \"name\": \"SorghumK\", \"type\": \"scatter\", \"x\": [\"2013-06-30T00:00:00\", \"2013-07-31T00:00:00\", \"2013-08-31T00:00:00\", \"2013-09-30T00:00:00\", \"2013-10-31T00:00:00\", \"2013-11-30T00:00:00\"], \"y\": [7545416704.0, 7545416704.0, 7545416704.0, 4784179200.0, 0.0, 0.0]}, {\"mode\": \"lines\", \"name\": \"proposedSorghumK\", \"type\": \"scatter\", \"x\": [\"2013-06-30T00:00:00\", \"2013-07-31T00:00:00\", \"2013-08-31T00:00:00\", \"2013-09-30T00:00:00\", \"2013-10-31T00:00:00\", \"2013-11-30T00:00:00\"], \"y\": [22892843008.0, 22892843008.0, 22892843008.0, 24838713344.0, 25991098368.0, 25991098368.0]}, {\"mode\": \"lines\", \"name\": \"SorghumR\", \"type\": \"scatter\", \"x\": [\"2013-06-30T00:00:00\", \"2013-07-31T00:00:00\", \"2013-08-31T00:00:00\", \"2013-09-30T00:00:00\", \"2013-10-31T00:00:00\", \"2013-11-30T00:00:00\"], \"y\": [0.0, 0.0, 0.0, 0.0, 0.0, 5216339968.0]}, {\"mode\": \"lines\", \"name\": \"proposedSorghumR\", \"type\": \"scatter\", \"x\": [\"2013-06-30T00:00:00\", \"2013-07-31T00:00:00\", \"2013-08-31T00:00:00\", \"2013-09-30T00:00:00\", \"2013-10-31T00:00:00\", \"2013-11-30T00:00:00\"], \"y\": [25991098368.0, 25991098368.0, 25991098368.0, 25991098368.0, 25991098368.0, 24888432640.0]}, {\"mode\": \"lines\", \"name\": \"MaizeK\", \"type\": \"scatter\", \"x\": [\"2013-06-30T00:00:00\", \"2013-07-31T00:00:00\", \"2013-08-31T00:00:00\", \"2013-09-30T00:00:00\", \"2013-10-31T00:00:00\", \"2013-11-30T00:00:00\"], \"y\": [662882944.0, 662882880.0, 662882880.0, 662882880.0, 662882880.0, 0.0]}, {\"mode\": \"lines\", \"name\": \"proposedMaizeK\", \"type\": \"scatter\", \"x\": [\"2013-06-30T00:00:00\", \"2013-07-31T00:00:00\", \"2013-08-31T00:00:00\", \"2013-09-30T00:00:00\", \"2013-10-31T00:00:00\", \"2013-11-30T00:00:00\"], \"y\": [1009191552.0, 1009191680.0, 1009191680.0, 1009191680.0, 1009191680.0, 1380662528.0]}, {\"mode\": \"lines\", \"name\": \"MaizeR\", \"type\": \"scatter\", \"x\": [\"2013-06-30T00:00:00\", \"2013-07-31T00:00:00\", \"2013-08-31T00:00:00\", \"2013-09-30T00:00:00\", \"2013-10-31T00:00:00\", \"2013-11-30T00:00:00\"], \"y\": [0.0, 0.0, 0.0, 0.0, 0.0, 673141056.0]}, {\"mode\": \"lines\", \"name\": \"proposedMaizeR\", \"type\": \"scatter\", \"x\": [\"2013-06-30T00:00:00\", \"2013-07-31T00:00:00\", \"2013-08-31T00:00:00\", \"2013-09-30T00:00:00\", \"2013-10-31T00:00:00\", \"2013-11-30T00:00:00\"], \"y\": [1380662528.0, 1380662528.0, 1380662528.0, 1380662528.0, 1380662528.0, 874033216.0]}, {\"mode\": \"lines\", \"name\": \"GeneralK\", \"type\": \"scatter\", \"x\": [\"2013-06-30T00:00:00\", \"2013-07-31T00:00:00\", \"2013-08-31T00:00:00\", \"2013-09-30T00:00:00\", \"2013-10-31T00:00:00\", \"2013-11-30T00:00:00\"], \"y\": [2791668224.0, 2791667968.0, 2791667968.0, 2791667968.0, 1570909184.0, 0.0]}, {\"mode\": \"lines\", \"name\": \"proposedGeneralK\", \"type\": \"scatter\", \"x\": [\"2013-06-30T00:00:00\", \"2013-07-31T00:00:00\", \"2013-08-31T00:00:00\", \"2013-09-30T00:00:00\", \"2013-10-31T00:00:00\", \"2013-11-30T00:00:00\"], \"y\": [3741660160.0, 3741660160.0, 3741660160.0, 3741660160.0, 4962419200.0, 6467780608.0]}, {\"mode\": \"lines\", \"name\": \"GeneralR\", \"type\": \"scatter\", \"x\": [\"2013-06-30T00:00:00\", \"2013-07-31T00:00:00\", \"2013-08-31T00:00:00\", \"2013-09-30T00:00:00\", \"2013-10-31T00:00:00\", \"2013-11-30T00:00:00\"], \"y\": [0.0, 0.0, 0.0, 0.0, 0.0, 3047059712.0]}, {\"mode\": \"lines\", \"name\": \"proposedGeneralR\", \"type\": \"scatter\", \"x\": [\"2013-06-30T00:00:00\", \"2013-07-31T00:00:00\", \"2013-08-31T00:00:00\", \"2013-09-30T00:00:00\", \"2013-10-31T00:00:00\", \"2013-11-30T00:00:00\"], \"y\": [6467780608.0, 6467780608.0, 6467780608.0, 6467780608.0, 6467780608.0, 3422228480.0]}, {\"mode\": \"lines\", \"name\": \"total non-irrigated land\", \"type\": \"scatter\", \"x\": [\"2013-06-30T00:00:00\", \"2013-07-31T00:00:00\", \"2013-08-31T00:00:00\", \"2013-09-30T00:00:00\", \"2013-10-31T00:00:00\", \"2013-11-30T00:00:00\"], \"y\": [21722370048.0, 21722370048.0, 21722370048.0, 21722370048.0, 21722370048.0, 21722370048.0]}, {\"mode\": \"lines\", \"name\": \"total irrigated land\", \"type\": \"scatter\", \"x\": [\"2013-06-30T00:00:00\", \"2013-07-31T00:00:00\", \"2013-08-31T00:00:00\", \"2013-09-30T00:00:00\", \"2013-10-31T00:00:00\", \"2013-11-30T00:00:00\"], \"y\": [14134842368.0, 14134842368.0, 14134842368.0, 14134842368.0, 14134842368.0, 14134842368.0]}, {\"mode\": \"lines\", \"name\": \"total irrigated crops\", \"type\": \"scatter\", \"x\": [\"2013-06-30T00:00:00\", \"2013-07-31T00:00:00\", \"2013-08-31T00:00:00\", \"2013-09-30T00:00:00\", \"2013-10-31T00:00:00\", \"2013-11-30T00:00:00\"], \"y\": [9312456704.0, 9312453632.0, 9312453632.0, 7366581248.0, 4993438208.0, 11923156992.0]}, {\"mode\": \"lines\", \"name\": \"total non-irrigated crops\", \"type\": \"scatter\", \"x\": [\"2013-06-30T00:00:00\", \"2013-07-31T00:00:00\", \"2013-08-31T00:00:00\", \"2013-09-30T00:00:00\", \"2013-10-31T00:00:00\", \"2013-11-30T00:00:00\"], \"y\": [6066025472.0, 6066025472.0, 6066025472.0, 5250659840.0, 1618865024.0, 5969836032.0]}, {\"mode\": \"lines\", \"name\": \"fallowed irrigated crops\", \"type\": \"scatter\", \"x\": [\"2013-06-30T00:00:00\", \"2013-07-31T00:00:00\", \"2013-08-31T00:00:00\", \"2013-09-30T00:00:00\", \"2013-10-31T00:00:00\", \"2013-11-30T00:00:00\"], \"y\": [4822386176.0, 4822389248.0, 4822389248.0, 6768261120.0, 9141405696.0, 2211685376.0]}, {\"mode\": \"lines\", \"name\": \"fallowed non-irrigated crops\", \"type\": \"scatter\", \"x\": [\"2013-06-30T00:00:00\", \"2013-07-31T00:00:00\", \"2013-08-31T00:00:00\", \"2013-09-30T00:00:00\", \"2013-10-31T00:00:00\", \"2013-11-30T00:00:00\"], \"y\": [0.0, 70.06066131591797, 70.06066131591797, 815365184.0, 4447159808.0, 1189902592.0]}, {\"mode\": \"lines\", \"name\": \"General irrigated crops\", \"type\": \"scatter\", \"x\": [\"2013-06-30T00:00:00\", \"2013-07-31T00:00:00\", \"2013-08-31T00:00:00\", \"2013-09-30T00:00:00\", \"2013-10-31T00:00:00\", \"2013-11-30T00:00:00\"], \"y\": [0.0, 0.0, 0.0, 0.0, 0.0, 0.0]}, {\"mode\": \"lines\", \"name\": \"General non-irrigated crops\", \"type\": \"scatter\", \"x\": [\"2013-06-30T00:00:00\", \"2013-07-31T00:00:00\", \"2013-08-31T00:00:00\", \"2013-09-30T00:00:00\", \"2013-10-31T00:00:00\", \"2013-11-30T00:00:00\"], \"y\": [15656347648.0, 15656347648.0, 15656347648.0, 15656347648.0, 15656347648.0, 14562635776.0]}, {\"mode\": \"lines\", \"name\": \"Forest\", \"type\": \"scatter\", \"x\": [\"2013-06-30T00:00:00\", \"2013-07-31T00:00:00\", \"2013-08-31T00:00:00\", \"2013-09-30T00:00:00\", \"2013-10-31T00:00:00\", \"2013-11-30T00:00:00\"], \"y\": [7059102720.0, 7059102720.0, 7059102720.0, 7059102720.0, 7059102720.0, 7059102720.0]}, {\"mode\": \"lines\", \"name\": \"Paddy\", \"type\": \"scatter\", \"x\": [\"2013-06-30T00:00:00\", \"2013-07-31T00:00:00\", \"2013-08-31T00:00:00\", \"2013-09-30T00:00:00\", \"2013-10-31T00:00:00\", \"2013-11-30T00:00:00\"], \"y\": [824946496.0, 824946496.0, 824946496.0, 824946496.0, 824946496.0, 824946496.0]}, {\"mode\": \"lines\", \"name\": \"Sealed\", \"type\": \"scatter\", \"x\": [\"2013-06-30T00:00:00\", \"2013-07-31T00:00:00\", \"2013-08-31T00:00:00\", \"2013-09-30T00:00:00\", \"2013-10-31T00:00:00\", \"2013-11-30T00:00:00\"], \"y\": [550953280.0, 550953280.0, 550953280.0, 550953280.0, 550953280.0, 550953280.0]}, {\"mode\": \"lines\", \"name\": \"Water\", \"type\": \"scatter\", \"x\": [\"2013-06-30T00:00:00\", \"2013-07-31T00:00:00\", \"2013-08-31T00:00:00\", \"2013-09-30T00:00:00\", \"2013-10-31T00:00:00\", \"2013-11-30T00:00:00\"], \"y\": [1520689536.0, 1520689536.0, 1520689536.0, 1520689536.0, 1520689536.0, 1520689536.0]}, {\"mode\": \"lines\", \"name\": \"Available land\", \"type\": \"scatter\", \"x\": [\"2013-06-30T00:00:00\", \"2013-07-31T00:00:00\", \"2013-08-31T00:00:00\", \"2013-09-30T00:00:00\", \"2013-10-31T00:00:00\", \"2013-11-30T00:00:00\"], \"y\": [20478734336.0, 20478736384.0, 20478736384.0, 23239974912.0, 29244915712.0, 17964224512.0]}],                        {\"template\": {\"data\": {\"bar\": [{\"error_x\": {\"color\": \"#f2f5fa\"}, \"error_y\": {\"color\": \"#f2f5fa\"}, \"marker\": {\"line\": {\"color\": \"rgb(17,17,17)\", \"width\": 0.5}}, \"type\": \"bar\"}], \"barpolar\": [{\"marker\": {\"line\": {\"color\": \"rgb(17,17,17)\", \"width\": 0.5}}, \"type\": \"barpolar\"}], \"carpet\": [{\"aaxis\": {\"endlinecolor\": \"#A2B1C6\", \"gridcolor\": \"#506784\", \"linecolor\": \"#506784\", \"minorgridcolor\": \"#506784\", \"startlinecolor\": \"#A2B1C6\"}, \"baxis\": {\"endlinecolor\": \"#A2B1C6\", \"gridcolor\": \"#506784\", \"linecolor\": \"#506784\", \"minorgridcolor\": \"#506784\", \"startlinecolor\": \"#A2B1C6\"}, \"type\": \"carpet\"}], \"choropleth\": [{\"colorbar\": {\"outlinewidth\": 0, \"ticks\": \"\"}, \"type\": \"choropleth\"}], \"contour\": [{\"colorbar\": {\"outlinewidth\": 0, \"ticks\": \"\"}, \"colorscale\": [[0.0, \"#0d0887\"], [0.1111111111111111, \"#46039f\"], [0.2222222222222222, \"#7201a8\"], [0.3333333333333333, \"#9c179e\"], [0.4444444444444444, \"#bd3786\"], [0.5555555555555556, \"#d8576b\"], [0.6666666666666666, \"#ed7953\"], [0.7777777777777778, \"#fb9f3a\"], [0.8888888888888888, \"#fdca26\"], [1.0, \"#f0f921\"]], \"type\": \"contour\"}], \"contourcarpet\": [{\"colorbar\": {\"outlinewidth\": 0, \"ticks\": \"\"}, \"type\": \"contourcarpet\"}], \"heatmap\": [{\"colorbar\": {\"outlinewidth\": 0, \"ticks\": \"\"}, \"colorscale\": [[0.0, \"#0d0887\"], [0.1111111111111111, \"#46039f\"], [0.2222222222222222, \"#7201a8\"], [0.3333333333333333, \"#9c179e\"], [0.4444444444444444, \"#bd3786\"], [0.5555555555555556, \"#d8576b\"], [0.6666666666666666, \"#ed7953\"], [0.7777777777777778, \"#fb9f3a\"], [0.8888888888888888, \"#fdca26\"], [1.0, \"#f0f921\"]], \"type\": \"heatmap\"}], \"heatmapgl\": [{\"colorbar\": {\"outlinewidth\": 0, \"ticks\": \"\"}, \"colorscale\": [[0.0, \"#0d0887\"], [0.1111111111111111, \"#46039f\"], [0.2222222222222222, \"#7201a8\"], [0.3333333333333333, \"#9c179e\"], [0.4444444444444444, \"#bd3786\"], [0.5555555555555556, \"#d8576b\"], [0.6666666666666666, \"#ed7953\"], [0.7777777777777778, \"#fb9f3a\"], [0.8888888888888888, \"#fdca26\"], [1.0, \"#f0f921\"]], \"type\": \"heatmapgl\"}], \"histogram\": [{\"marker\": {\"colorbar\": {\"outlinewidth\": 0, \"ticks\": \"\"}}, \"type\": \"histogram\"}], \"histogram2d\": [{\"colorbar\": {\"outlinewidth\": 0, \"ticks\": \"\"}, \"colorscale\": [[0.0, \"#0d0887\"], [0.1111111111111111, \"#46039f\"], [0.2222222222222222, \"#7201a8\"], [0.3333333333333333, \"#9c179e\"], [0.4444444444444444, \"#bd3786\"], [0.5555555555555556, \"#d8576b\"], [0.6666666666666666, \"#ed7953\"], [0.7777777777777778, \"#fb9f3a\"], [0.8888888888888888, \"#fdca26\"], [1.0, \"#f0f921\"]], \"type\": \"histogram2d\"}], \"histogram2dcontour\": [{\"colorbar\": {\"outlinewidth\": 0, \"ticks\": \"\"}, \"colorscale\": [[0.0, \"#0d0887\"], [0.1111111111111111, \"#46039f\"], [0.2222222222222222, \"#7201a8\"], [0.3333333333333333, \"#9c179e\"], [0.4444444444444444, \"#bd3786\"], [0.5555555555555556, \"#d8576b\"], [0.6666666666666666, \"#ed7953\"], [0.7777777777777778, \"#fb9f3a\"], [0.8888888888888888, \"#fdca26\"], [1.0, \"#f0f921\"]], \"type\": \"histogram2dcontour\"}], \"mesh3d\": [{\"colorbar\": {\"outlinewidth\": 0, \"ticks\": \"\"}, \"type\": \"mesh3d\"}], \"parcoords\": [{\"line\": {\"colorbar\": {\"outlinewidth\": 0, \"ticks\": \"\"}}, \"type\": \"parcoords\"}], \"pie\": [{\"automargin\": true, \"type\": \"pie\"}], \"scatter\": [{\"marker\": {\"line\": {\"color\": \"#283442\"}}, \"type\": \"scatter\"}], \"scatter3d\": [{\"line\": {\"colorbar\": {\"outlinewidth\": 0, \"ticks\": \"\"}}, \"marker\": {\"colorbar\": {\"outlinewidth\": 0, \"ticks\": \"\"}}, \"type\": \"scatter3d\"}], \"scattercarpet\": [{\"marker\": {\"colorbar\": {\"outlinewidth\": 0, \"ticks\": \"\"}}, \"type\": \"scattercarpet\"}], \"scattergeo\": [{\"marker\": {\"colorbar\": {\"outlinewidth\": 0, \"ticks\": \"\"}}, \"type\": \"scattergeo\"}], \"scattergl\": [{\"marker\": {\"line\": {\"color\": \"#283442\"}}, \"type\": \"scattergl\"}], \"scattermapbox\": [{\"marker\": {\"colorbar\": {\"outlinewidth\": 0, \"ticks\": \"\"}}, \"type\": \"scattermapbox\"}], \"scatterpolar\": [{\"marker\": {\"colorbar\": {\"outlinewidth\": 0, \"ticks\": \"\"}}, \"type\": \"scatterpolar\"}], \"scatterpolargl\": [{\"marker\": {\"colorbar\": {\"outlinewidth\": 0, \"ticks\": \"\"}}, \"type\": \"scatterpolargl\"}], \"scatterternary\": [{\"marker\": {\"colorbar\": {\"outlinewidth\": 0, \"ticks\": \"\"}}, \"type\": \"scatterternary\"}], \"surface\": [{\"colorbar\": {\"outlinewidth\": 0, \"ticks\": \"\"}, \"colorscale\": [[0.0, \"#0d0887\"], [0.1111111111111111, \"#46039f\"], [0.2222222222222222, \"#7201a8\"], [0.3333333333333333, \"#9c179e\"], [0.4444444444444444, \"#bd3786\"], [0.5555555555555556, \"#d8576b\"], [0.6666666666666666, \"#ed7953\"], [0.7777777777777778, \"#fb9f3a\"], [0.8888888888888888, \"#fdca26\"], [1.0, \"#f0f921\"]], \"type\": \"surface\"}], \"table\": [{\"cells\": {\"fill\": {\"color\": \"#506784\"}, \"line\": {\"color\": \"rgb(17,17,17)\"}}, \"header\": {\"fill\": {\"color\": \"#2a3f5f\"}, \"line\": {\"color\": \"rgb(17,17,17)\"}}, \"type\": \"table\"}]}, \"layout\": {\"annotationdefaults\": {\"arrowcolor\": \"#f2f5fa\", \"arrowhead\": 0, \"arrowwidth\": 1}, \"autotypenumbers\": \"strict\", \"coloraxis\": {\"colorbar\": {\"outlinewidth\": 0, \"ticks\": \"\"}}, \"colorscale\": {\"diverging\": [[0, \"#8e0152\"], [0.1, \"#c51b7d\"], [0.2, \"#de77ae\"], [0.3, \"#f1b6da\"], [0.4, \"#fde0ef\"], [0.5, \"#f7f7f7\"], [0.6, \"#e6f5d0\"], [0.7, \"#b8e186\"], [0.8, \"#7fbc41\"], [0.9, \"#4d9221\"], [1, \"#276419\"]], \"sequential\": [[0.0, \"#0d0887\"], [0.1111111111111111, \"#46039f\"], [0.2222222222222222, \"#7201a8\"], [0.3333333333333333, \"#9c179e\"], [0.4444444444444444, \"#bd3786\"], [0.5555555555555556, \"#d8576b\"], [0.6666666666666666, \"#ed7953\"], [0.7777777777777778, \"#fb9f3a\"], [0.8888888888888888, \"#fdca26\"], [1.0, \"#f0f921\"]], \"sequentialminus\": [[0.0, \"#0d0887\"], [0.1111111111111111, \"#46039f\"], [0.2222222222222222, \"#7201a8\"], [0.3333333333333333, \"#9c179e\"], [0.4444444444444444, \"#bd3786\"], [0.5555555555555556, \"#d8576b\"], [0.6666666666666666, \"#ed7953\"], [0.7777777777777778, \"#fb9f3a\"], [0.8888888888888888, \"#fdca26\"], [1.0, \"#f0f921\"]]}, \"colorway\": [\"#636efa\", \"#EF553B\", \"#00cc96\", \"#ab63fa\", \"#FFA15A\", \"#19d3f3\", \"#FF6692\", \"#B6E880\", \"#FF97FF\", \"#FECB52\"], \"font\": {\"color\": \"#f2f5fa\"}, \"geo\": {\"bgcolor\": \"rgb(17,17,17)\", \"lakecolor\": \"rgb(17,17,17)\", \"landcolor\": \"rgb(17,17,17)\", \"showlakes\": true, \"showland\": true, \"subunitcolor\": \"#506784\"}, \"hoverlabel\": {\"align\": \"left\"}, \"hovermode\": \"closest\", \"mapbox\": {\"style\": \"dark\"}, \"paper_bgcolor\": \"rgb(17,17,17)\", \"plot_bgcolor\": \"rgb(17,17,17)\", \"polar\": {\"angularaxis\": {\"gridcolor\": \"#506784\", \"linecolor\": \"#506784\", \"ticks\": \"\"}, \"bgcolor\": \"rgb(17,17,17)\", \"radialaxis\": {\"gridcolor\": \"#506784\", \"linecolor\": \"#506784\", \"ticks\": \"\"}}, \"scene\": {\"xaxis\": {\"backgroundcolor\": \"rgb(17,17,17)\", \"gridcolor\": \"#506784\", \"gridwidth\": 2, \"linecolor\": \"#506784\", \"showbackground\": true, \"ticks\": \"\", \"zerolinecolor\": \"#C8D4E3\"}, \"yaxis\": {\"backgroundcolor\": \"rgb(17,17,17)\", \"gridcolor\": \"#506784\", \"gridwidth\": 2, \"linecolor\": \"#506784\", \"showbackground\": true, \"ticks\": \"\", \"zerolinecolor\": \"#C8D4E3\"}, \"zaxis\": {\"backgroundcolor\": \"rgb(17,17,17)\", \"gridcolor\": \"#506784\", \"gridwidth\": 2, \"linecolor\": \"#506784\", \"showbackground\": true, \"ticks\": \"\", \"zerolinecolor\": \"#C8D4E3\"}}, \"shapedefaults\": {\"line\": {\"color\": \"#f2f5fa\"}}, \"sliderdefaults\": {\"bgcolor\": \"#C8D4E3\", \"bordercolor\": \"rgb(17,17,17)\", \"borderwidth\": 1, \"tickwidth\": 0}, \"ternary\": {\"aaxis\": {\"gridcolor\": \"#506784\", \"linecolor\": \"#506784\", \"ticks\": \"\"}, \"baxis\": {\"gridcolor\": \"#506784\", \"linecolor\": \"#506784\", \"ticks\": \"\"}, \"bgcolor\": \"rgb(17,17,17)\", \"caxis\": {\"gridcolor\": \"#506784\", \"linecolor\": \"#506784\", \"ticks\": \"\"}}, \"title\": {\"x\": 0.05}, \"updatemenudefaults\": {\"bgcolor\": \"#506784\", \"borderwidth\": 0}, \"xaxis\": {\"automargin\": true, \"gridcolor\": \"#283442\", \"linecolor\": \"#506784\", \"ticks\": \"\", \"title\": {\"standoff\": 15}, \"zerolinecolor\": \"#283442\", \"zerolinewidth\": 2}, \"yaxis\": {\"automargin\": true, \"gridcolor\": \"#283442\", \"linecolor\": \"#506784\", \"ticks\": \"\", \"title\": {\"standoff\": 15}, \"zerolinecolor\": \"#283442\", \"zerolinewidth\": 2}}}, \"title\": {\"text\": \"Crops total planted\"}, \"xaxis\": {\"title\": {\"text\": \"Months\"}}, \"yaxis\": {\"title\": {\"text\": \"Area (m2)\"}}},                        {\"responsive\": true}                    ).then(function(){\n",
       "                            \n",
       "var gd = document.getElementById('547e040d-896f-4369-bb3a-9676316a12d1');\n",
       "var x = new MutationObserver(function (mutations, observer) {{\n",
       "        var display = window.getComputedStyle(gd).display;\n",
       "        if (!display || display === 'none') {{\n",
       "            console.log([gd, 'removed!']);\n",
       "            Plotly.purge(gd);\n",
       "            observer.disconnect();\n",
       "        }}\n",
       "}});\n",
       "\n",
       "// Listen for the removal of the full notebook cells\n",
       "var notebookContainer = gd.closest('#notebook-container');\n",
       "if (notebookContainer) {{\n",
       "    x.observe(notebookContainer, {childList: true});\n",
       "}}\n",
       "\n",
       "// Listen for the clearing of the current output cell\n",
       "var outputEl = gd.closest('.output');\n",
       "if (outputEl) {{\n",
       "    x.observe(outputEl, {childList: true});\n",
       "}}\n",
       "\n",
       "                        })                };                });            </script>        </div>"
      ]
     },
     "metadata": {},
     "output_type": "display_data"
    },
    {
     "data": {
      "application/vnd.plotly.v1+json": {
       "config": {
        "plotlyServerURL": "https://plot.ly"
       },
       "data": [
        {
         "mode": "lines",
         "name": "Grasslands transpiration",
         "type": "scatter",
         "x": [
          "2013-06-01T00:00:00",
          "2013-06-02T00:00:00",
          "2013-06-03T00:00:00",
          "2013-06-04T00:00:00",
          "2013-06-05T00:00:00",
          "2013-06-06T00:00:00",
          "2013-06-07T00:00:00",
          "2013-06-08T00:00:00",
          "2013-06-09T00:00:00",
          "2013-06-10T00:00:00",
          "2013-06-11T00:00:00",
          "2013-06-12T00:00:00",
          "2013-06-13T00:00:00",
          "2013-06-14T00:00:00",
          "2013-06-15T00:00:00",
          "2013-06-16T00:00:00",
          "2013-06-17T00:00:00",
          "2013-06-18T00:00:00",
          "2013-06-19T00:00:00",
          "2013-06-20T00:00:00",
          "2013-06-21T00:00:00",
          "2013-06-22T00:00:00",
          "2013-06-23T00:00:00",
          "2013-06-24T00:00:00",
          "2013-06-25T00:00:00",
          "2013-06-26T00:00:00",
          "2013-06-27T00:00:00",
          "2013-06-28T00:00:00",
          "2013-06-29T00:00:00",
          "2013-06-30T00:00:00",
          "2013-07-01T00:00:00",
          "2013-07-02T00:00:00",
          "2013-07-03T00:00:00",
          "2013-07-04T00:00:00",
          "2013-07-05T00:00:00",
          "2013-07-06T00:00:00",
          "2013-07-07T00:00:00",
          "2013-07-08T00:00:00",
          "2013-07-09T00:00:00",
          "2013-07-10T00:00:00",
          "2013-07-11T00:00:00",
          "2013-07-12T00:00:00",
          "2013-07-13T00:00:00",
          "2013-07-14T00:00:00",
          "2013-07-15T00:00:00",
          "2013-07-16T00:00:00",
          "2013-07-17T00:00:00",
          "2013-07-18T00:00:00",
          "2013-07-19T00:00:00",
          "2013-07-20T00:00:00",
          "2013-07-21T00:00:00",
          "2013-07-22T00:00:00",
          "2013-07-23T00:00:00",
          "2013-07-24T00:00:00",
          "2013-07-25T00:00:00",
          "2013-07-26T00:00:00",
          "2013-07-27T00:00:00",
          "2013-07-28T00:00:00",
          "2013-07-29T00:00:00",
          "2013-07-30T00:00:00",
          "2013-07-31T00:00:00",
          "2013-08-01T00:00:00",
          "2013-08-02T00:00:00",
          "2013-08-03T00:00:00",
          "2013-08-04T00:00:00",
          "2013-08-05T00:00:00",
          "2013-08-06T00:00:00",
          "2013-08-07T00:00:00",
          "2013-08-08T00:00:00",
          "2013-08-09T00:00:00",
          "2013-08-10T00:00:00",
          "2013-08-11T00:00:00",
          "2013-08-12T00:00:00",
          "2013-08-13T00:00:00",
          "2013-08-14T00:00:00",
          "2013-08-15T00:00:00",
          "2013-08-16T00:00:00",
          "2013-08-17T00:00:00",
          "2013-08-18T00:00:00",
          "2013-08-19T00:00:00",
          "2013-08-20T00:00:00",
          "2013-08-21T00:00:00",
          "2013-08-22T00:00:00",
          "2013-08-23T00:00:00",
          "2013-08-24T00:00:00",
          "2013-08-25T00:00:00",
          "2013-08-26T00:00:00",
          "2013-08-27T00:00:00",
          "2013-08-28T00:00:00",
          "2013-08-29T00:00:00",
          "2013-08-30T00:00:00",
          "2013-08-31T00:00:00",
          "2013-09-01T00:00:00",
          "2013-09-02T00:00:00",
          "2013-09-03T00:00:00",
          "2013-09-04T00:00:00",
          "2013-09-05T00:00:00",
          "2013-09-06T00:00:00",
          "2013-09-07T00:00:00",
          "2013-09-08T00:00:00",
          "2013-09-09T00:00:00",
          "2013-09-10T00:00:00",
          "2013-09-11T00:00:00",
          "2013-09-12T00:00:00",
          "2013-09-13T00:00:00",
          "2013-09-14T00:00:00",
          "2013-09-15T00:00:00",
          "2013-09-16T00:00:00",
          "2013-09-17T00:00:00",
          "2013-09-18T00:00:00",
          "2013-09-19T00:00:00",
          "2013-09-20T00:00:00",
          "2013-09-21T00:00:00",
          "2013-09-22T00:00:00",
          "2013-09-23T00:00:00",
          "2013-09-24T00:00:00",
          "2013-09-25T00:00:00",
          "2013-09-26T00:00:00",
          "2013-09-27T00:00:00",
          "2013-09-28T00:00:00",
          "2013-09-29T00:00:00",
          "2013-09-30T00:00:00",
          "2013-10-01T00:00:00",
          "2013-10-02T00:00:00",
          "2013-10-03T00:00:00",
          "2013-10-04T00:00:00",
          "2013-10-05T00:00:00",
          "2013-10-06T00:00:00",
          "2013-10-07T00:00:00",
          "2013-10-08T00:00:00",
          "2013-10-09T00:00:00",
          "2013-10-10T00:00:00",
          "2013-10-11T00:00:00",
          "2013-10-12T00:00:00",
          "2013-10-13T00:00:00",
          "2013-10-14T00:00:00",
          "2013-10-15T00:00:00",
          "2013-10-16T00:00:00",
          "2013-10-17T00:00:00",
          "2013-10-18T00:00:00",
          "2013-10-19T00:00:00",
          "2013-10-20T00:00:00",
          "2013-10-21T00:00:00",
          "2013-10-22T00:00:00",
          "2013-10-23T00:00:00",
          "2013-10-24T00:00:00",
          "2013-10-25T00:00:00",
          "2013-10-26T00:00:00",
          "2013-10-27T00:00:00",
          "2013-10-28T00:00:00",
          "2013-10-29T00:00:00",
          "2013-10-30T00:00:00",
          "2013-10-31T00:00:00",
          "2013-11-01T00:00:00",
          "2013-11-02T00:00:00",
          "2013-11-03T00:00:00",
          "2013-11-04T00:00:00",
          "2013-11-05T00:00:00",
          "2013-11-06T00:00:00",
          "2013-11-07T00:00:00",
          "2013-11-08T00:00:00",
          "2013-11-09T00:00:00",
          "2013-11-10T00:00:00",
          "2013-11-11T00:00:00",
          "2013-11-12T00:00:00",
          "2013-11-13T00:00:00",
          "2013-11-14T00:00:00",
          "2013-11-15T00:00:00",
          "2013-11-16T00:00:00",
          "2013-11-17T00:00:00",
          "2013-11-18T00:00:00",
          "2013-11-19T00:00:00",
          "2013-11-20T00:00:00",
          "2013-11-21T00:00:00",
          "2013-11-22T00:00:00",
          "2013-11-23T00:00:00",
          "2013-11-24T00:00:00",
          "2013-11-25T00:00:00",
          "2013-11-26T00:00:00",
          "2013-11-27T00:00:00",
          "2013-11-28T00:00:00",
          "2013-11-29T00:00:00",
          "2013-11-30T00:00:00",
          "2013-12-01T00:00:00"
         ],
         "y": [
          19437488,
          12340177,
          9248179,
          10056384,
          13908968,
          7846775.5,
          3704492,
          4616108.5,
          7561656.5,
          831623.125,
          33126102,
          44788280,
          8690601,
          1021265.5625,
          4723986,
          11389690,
          19261244,
          20142910,
          30553198,
          40769540,
          32711896,
          25333034,
          30751386,
          7043337,
          175660.9375,
          6583218.5,
          39753972,
          41297724,
          28958616,
          31281462,
          37942668,
          33817224,
          23675130,
          42323340,
          49962740,
          38991684,
          26479470,
          20011110,
          27641664,
          15162140,
          79628.2265625,
          58916.3984375,
          14217854,
          34296580,
          21556048,
          1326072.25,
          882711.125,
          14721266,
          721389.625,
          4073569.5,
          20140056,
          4612376.5,
          635.3994140625,
          13738428,
          18957618,
          19123392,
          32120124,
          24751758,
          51519712,
          32911740,
          268024.03125,
          567727.125,
          3581185,
          40874216,
          45091472,
          40482192,
          18916736,
          42610944,
          46704208,
          26272796,
          24592810,
          45689664,
          29394392,
          23265476,
          28763492,
          38851868,
          29750426,
          21796590,
          35124416,
          42449564,
          50818664,
          52505964,
          23821296,
          35695372,
          45611704,
          31968268,
          21418698,
          34514988,
          45260580,
          47907168,
          48729344,
          53974392,
          39699484,
          43255384,
          49606128,
          46874048,
          46634776,
          42922816,
          42310008,
          14537598,
          5757571.5,
          2162103.25,
          6564098,
          19293024,
          27718404,
          26304072,
          16912056,
          18447878,
          5560136,
          7966081,
          1372330,
          34685116,
          50432612,
          29378040,
          38771284,
          28705580,
          27310932,
          27602746,
          41919440,
          42814240,
          20521070,
          38701432,
          45148340,
          39803644,
          24900306,
          10938244,
          9531338,
          25968020,
          40361932,
          40220416,
          39241440,
          39800376,
          36854008,
          35047996,
          28430276,
          40104936,
          21144164,
          25877380,
          39424552,
          42799896,
          49755776,
          45507644,
          50264232,
          44634864,
          35230128,
          19165740,
          12019533,
          21646818,
          31370606,
          35987508,
          41042800,
          43273656,
          43900272,
          38916256,
          26408398,
          27601430,
          35837592,
          39201372,
          32710092,
          34490660,
          33027356,
          34741000,
          38190640,
          37523264,
          35364288,
          34767460,
          36334036,
          38510608,
          38331056,
          36130296,
          36686016,
          37034216,
          32725228,
          31416396,
          32267856,
          28007146,
          11750394,
          22463206,
          25384728,
          31436640,
          37204496,
          21823354,
          17665148,
          26211042
         ]
        },
        {
         "mode": "lines",
         "name": "Paddy transpiration",
         "type": "scatter",
         "x": [
          "2013-06-01T00:00:00",
          "2013-06-02T00:00:00",
          "2013-06-03T00:00:00",
          "2013-06-04T00:00:00",
          "2013-06-05T00:00:00",
          "2013-06-06T00:00:00",
          "2013-06-07T00:00:00",
          "2013-06-08T00:00:00",
          "2013-06-09T00:00:00",
          "2013-06-10T00:00:00",
          "2013-06-11T00:00:00",
          "2013-06-12T00:00:00",
          "2013-06-13T00:00:00",
          "2013-06-14T00:00:00",
          "2013-06-15T00:00:00",
          "2013-06-16T00:00:00",
          "2013-06-17T00:00:00",
          "2013-06-18T00:00:00",
          "2013-06-19T00:00:00",
          "2013-06-20T00:00:00",
          "2013-06-21T00:00:00",
          "2013-06-22T00:00:00",
          "2013-06-23T00:00:00",
          "2013-06-24T00:00:00",
          "2013-06-25T00:00:00",
          "2013-06-26T00:00:00",
          "2013-06-27T00:00:00",
          "2013-06-28T00:00:00",
          "2013-06-29T00:00:00",
          "2013-06-30T00:00:00",
          "2013-07-01T00:00:00",
          "2013-07-02T00:00:00",
          "2013-07-03T00:00:00",
          "2013-07-04T00:00:00",
          "2013-07-05T00:00:00",
          "2013-07-06T00:00:00",
          "2013-07-07T00:00:00",
          "2013-07-08T00:00:00",
          "2013-07-09T00:00:00",
          "2013-07-10T00:00:00",
          "2013-07-11T00:00:00",
          "2013-07-12T00:00:00",
          "2013-07-13T00:00:00",
          "2013-07-14T00:00:00",
          "2013-07-15T00:00:00",
          "2013-07-16T00:00:00",
          "2013-07-17T00:00:00",
          "2013-07-18T00:00:00",
          "2013-07-19T00:00:00",
          "2013-07-20T00:00:00",
          "2013-07-21T00:00:00",
          "2013-07-22T00:00:00",
          "2013-07-23T00:00:00",
          "2013-07-24T00:00:00",
          "2013-07-25T00:00:00",
          "2013-07-26T00:00:00",
          "2013-07-27T00:00:00",
          "2013-07-28T00:00:00",
          "2013-07-29T00:00:00",
          "2013-07-30T00:00:00",
          "2013-07-31T00:00:00",
          "2013-08-01T00:00:00",
          "2013-08-02T00:00:00",
          "2013-08-03T00:00:00",
          "2013-08-04T00:00:00",
          "2013-08-05T00:00:00",
          "2013-08-06T00:00:00",
          "2013-08-07T00:00:00",
          "2013-08-08T00:00:00",
          "2013-08-09T00:00:00",
          "2013-08-10T00:00:00",
          "2013-08-11T00:00:00",
          "2013-08-12T00:00:00",
          "2013-08-13T00:00:00",
          "2013-08-14T00:00:00",
          "2013-08-15T00:00:00",
          "2013-08-16T00:00:00",
          "2013-08-17T00:00:00",
          "2013-08-18T00:00:00",
          "2013-08-19T00:00:00",
          "2013-08-20T00:00:00",
          "2013-08-21T00:00:00",
          "2013-08-22T00:00:00",
          "2013-08-23T00:00:00",
          "2013-08-24T00:00:00",
          "2013-08-25T00:00:00",
          "2013-08-26T00:00:00",
          "2013-08-27T00:00:00",
          "2013-08-28T00:00:00",
          "2013-08-29T00:00:00",
          "2013-08-30T00:00:00",
          "2013-08-31T00:00:00",
          "2013-09-01T00:00:00",
          "2013-09-02T00:00:00",
          "2013-09-03T00:00:00",
          "2013-09-04T00:00:00",
          "2013-09-05T00:00:00",
          "2013-09-06T00:00:00",
          "2013-09-07T00:00:00",
          "2013-09-08T00:00:00",
          "2013-09-09T00:00:00",
          "2013-09-10T00:00:00",
          "2013-09-11T00:00:00",
          "2013-09-12T00:00:00",
          "2013-09-13T00:00:00",
          "2013-09-14T00:00:00",
          "2013-09-15T00:00:00",
          "2013-09-16T00:00:00",
          "2013-09-17T00:00:00",
          "2013-09-18T00:00:00",
          "2013-09-19T00:00:00",
          "2013-09-20T00:00:00",
          "2013-09-21T00:00:00",
          "2013-09-22T00:00:00",
          "2013-09-23T00:00:00",
          "2013-09-24T00:00:00",
          "2013-09-25T00:00:00",
          "2013-09-26T00:00:00",
          "2013-09-27T00:00:00",
          "2013-09-28T00:00:00",
          "2013-09-29T00:00:00",
          "2013-09-30T00:00:00",
          "2013-10-01T00:00:00",
          "2013-10-02T00:00:00",
          "2013-10-03T00:00:00",
          "2013-10-04T00:00:00",
          "2013-10-05T00:00:00",
          "2013-10-06T00:00:00",
          "2013-10-07T00:00:00",
          "2013-10-08T00:00:00",
          "2013-10-09T00:00:00",
          "2013-10-10T00:00:00",
          "2013-10-11T00:00:00",
          "2013-10-12T00:00:00",
          "2013-10-13T00:00:00",
          "2013-10-14T00:00:00",
          "2013-10-15T00:00:00",
          "2013-10-16T00:00:00",
          "2013-10-17T00:00:00",
          "2013-10-18T00:00:00",
          "2013-10-19T00:00:00",
          "2013-10-20T00:00:00",
          "2013-10-21T00:00:00",
          "2013-10-22T00:00:00",
          "2013-10-23T00:00:00",
          "2013-10-24T00:00:00",
          "2013-10-25T00:00:00",
          "2013-10-26T00:00:00",
          "2013-10-27T00:00:00",
          "2013-10-28T00:00:00",
          "2013-10-29T00:00:00",
          "2013-10-30T00:00:00",
          "2013-10-31T00:00:00",
          "2013-11-01T00:00:00",
          "2013-11-02T00:00:00",
          "2013-11-03T00:00:00",
          "2013-11-04T00:00:00",
          "2013-11-05T00:00:00",
          "2013-11-06T00:00:00",
          "2013-11-07T00:00:00",
          "2013-11-08T00:00:00",
          "2013-11-09T00:00:00",
          "2013-11-10T00:00:00",
          "2013-11-11T00:00:00",
          "2013-11-12T00:00:00",
          "2013-11-13T00:00:00",
          "2013-11-14T00:00:00",
          "2013-11-15T00:00:00",
          "2013-11-16T00:00:00",
          "2013-11-17T00:00:00",
          "2013-11-18T00:00:00",
          "2013-11-19T00:00:00",
          "2013-11-20T00:00:00",
          "2013-11-21T00:00:00",
          "2013-11-22T00:00:00",
          "2013-11-23T00:00:00",
          "2013-11-24T00:00:00",
          "2013-11-25T00:00:00",
          "2013-11-26T00:00:00",
          "2013-11-27T00:00:00",
          "2013-11-28T00:00:00",
          "2013-11-29T00:00:00",
          "2013-11-30T00:00:00",
          "2013-12-01T00:00:00"
         ],
         "y": [
          0,
          0,
          0,
          0,
          0,
          0,
          0,
          0,
          0,
          0,
          7.721800358417158e-14,
          78767.3359375,
          39791.34375,
          54.60694122314453,
          0.4777190685272217,
          245.97445678710938,
          1266.7952880859375,
          21.58390235900879,
          53460.1796875,
          89502.2421875,
          1383653.5,
          1244554.25,
          1346644.25,
          180223.359375,
          4.104862977305501e-11,
          67070.0546875,
          1137473,
          1108491.125,
          1049703.25,
          998047.0625,
          1880658.25,
          2153945,
          1791533.5,
          2244367.5,
          2843521,
          2283873,
          2020010.5,
          1377972.375,
          1759116.875,
          1259755.875,
          37562.7109375,
          5869.26416015625,
          1238357.375,
          2502856.5,
          867666.9375,
          179735.4375,
          272010.34375,
          1089663.875,
          264910.21875,
          230133.84375,
          1525518.25,
          783410.125,
          12.390336990356445,
          746008.375,
          1494216,
          1158898.875,
          1867914,
          1588866.125,
          3017187,
          1899662.75,
          65887.6171875,
          85855.140625,
          203603.046875,
          2713547,
          2668650.5,
          2893564.75,
          1289069.125,
          2562293.75,
          2987603,
          1754170.625,
          1504597.125,
          2649268.25,
          2538002.5,
          1796931.25,
          2202745.5,
          2699064.75,
          2578886,
          2052633.5,
          2474139,
          2941499.5,
          3319683.75,
          3517849.25,
          1814669.5,
          1786868.5,
          2967480.25,
          1856790.125,
          1696059,
          2771100.25,
          2871554,
          3073036,
          2947285.25,
          3192256.75,
          3722336.25,
          3834737.75,
          3530426,
          3309736,
          2996703.5,
          3142013.5,
          3380875,
          2018506.375,
          965947.0625,
          513050.96875,
          1244584.625,
          2252360.75,
          2891249.75,
          2838083.5,
          2095204.75,
          2021523.75,
          1321534.875,
          1283011.5,
          285399.46875,
          3413913,
          3737336.5,
          1599573.375,
          2663325,
          2562048,
          2474833.5,
          3049565.5,
          3252638.25,
          3438039.25,
          2058234.5,
          3149063,
          3956303.75,
          3674269.75,
          2738666.75,
          1271740.875,
          1912706.375,
          3026387,
          3446178.75,
          3518612.5,
          3650853.75,
          3315896,
          2714366.75,
          2779401.75,
          2845001.5,
          3040010.75,
          2229371.75,
          2107565,
          2892376.5,
          2876075.75,
          3608512.5,
          3076196.5,
          2864262.25,
          3226578,
          2706119.75,
          2422631,
          1470579.125,
          1814505.5,
          2062825.125,
          2157895.75,
          2560590.75,
          2740320.5,
          2854810.25,
          2150746.75,
          1819377,
          1816226.875,
          1910502.875,
          2233465,
          1783200.5,
          1799975.375,
          1696566.625,
          1799579,
          2118232.5,
          1373730.25,
          1321511.5,
          1291110.875,
          1346130.25,
          1437474.875,
          1464696.625,
          1497507.875,
          1422712.125,
          1372092.125,
          1188401.25,
          468401.3125,
          500880.4375,
          469505.0625,
          177511.484375,
          134773.125,
          111235.84375,
          293549.6875,
          545714,
          475009.8125,
          288868.125,
          0
         ]
        },
        {
         "mode": "lines",
         "name": "non-Paddy transpiration",
         "type": "scatter",
         "x": [
          "2013-06-01T00:00:00",
          "2013-06-02T00:00:00",
          "2013-06-03T00:00:00",
          "2013-06-04T00:00:00",
          "2013-06-05T00:00:00",
          "2013-06-06T00:00:00",
          "2013-06-07T00:00:00",
          "2013-06-08T00:00:00",
          "2013-06-09T00:00:00",
          "2013-06-10T00:00:00",
          "2013-06-11T00:00:00",
          "2013-06-12T00:00:00",
          "2013-06-13T00:00:00",
          "2013-06-14T00:00:00",
          "2013-06-15T00:00:00",
          "2013-06-16T00:00:00",
          "2013-06-17T00:00:00",
          "2013-06-18T00:00:00",
          "2013-06-19T00:00:00",
          "2013-06-20T00:00:00",
          "2013-06-21T00:00:00",
          "2013-06-22T00:00:00",
          "2013-06-23T00:00:00",
          "2013-06-24T00:00:00",
          "2013-06-25T00:00:00",
          "2013-06-26T00:00:00",
          "2013-06-27T00:00:00",
          "2013-06-28T00:00:00",
          "2013-06-29T00:00:00",
          "2013-06-30T00:00:00",
          "2013-07-01T00:00:00",
          "2013-07-02T00:00:00",
          "2013-07-03T00:00:00",
          "2013-07-04T00:00:00",
          "2013-07-05T00:00:00",
          "2013-07-06T00:00:00",
          "2013-07-07T00:00:00",
          "2013-07-08T00:00:00",
          "2013-07-09T00:00:00",
          "2013-07-10T00:00:00",
          "2013-07-11T00:00:00",
          "2013-07-12T00:00:00",
          "2013-07-13T00:00:00",
          "2013-07-14T00:00:00",
          "2013-07-15T00:00:00",
          "2013-07-16T00:00:00",
          "2013-07-17T00:00:00",
          "2013-07-18T00:00:00",
          "2013-07-19T00:00:00",
          "2013-07-20T00:00:00",
          "2013-07-21T00:00:00",
          "2013-07-22T00:00:00",
          "2013-07-23T00:00:00",
          "2013-07-24T00:00:00",
          "2013-07-25T00:00:00",
          "2013-07-26T00:00:00",
          "2013-07-27T00:00:00",
          "2013-07-28T00:00:00",
          "2013-07-29T00:00:00",
          "2013-07-30T00:00:00",
          "2013-07-31T00:00:00",
          "2013-08-01T00:00:00",
          "2013-08-02T00:00:00",
          "2013-08-03T00:00:00",
          "2013-08-04T00:00:00",
          "2013-08-05T00:00:00",
          "2013-08-06T00:00:00",
          "2013-08-07T00:00:00",
          "2013-08-08T00:00:00",
          "2013-08-09T00:00:00",
          "2013-08-10T00:00:00",
          "2013-08-11T00:00:00",
          "2013-08-12T00:00:00",
          "2013-08-13T00:00:00",
          "2013-08-14T00:00:00",
          "2013-08-15T00:00:00",
          "2013-08-16T00:00:00",
          "2013-08-17T00:00:00",
          "2013-08-18T00:00:00",
          "2013-08-19T00:00:00",
          "2013-08-20T00:00:00",
          "2013-08-21T00:00:00",
          "2013-08-22T00:00:00",
          "2013-08-23T00:00:00",
          "2013-08-24T00:00:00",
          "2013-08-25T00:00:00",
          "2013-08-26T00:00:00",
          "2013-08-27T00:00:00",
          "2013-08-28T00:00:00",
          "2013-08-29T00:00:00",
          "2013-08-30T00:00:00",
          "2013-08-31T00:00:00",
          "2013-09-01T00:00:00",
          "2013-09-02T00:00:00",
          "2013-09-03T00:00:00",
          "2013-09-04T00:00:00",
          "2013-09-05T00:00:00",
          "2013-09-06T00:00:00",
          "2013-09-07T00:00:00",
          "2013-09-08T00:00:00",
          "2013-09-09T00:00:00",
          "2013-09-10T00:00:00",
          "2013-09-11T00:00:00",
          "2013-09-12T00:00:00",
          "2013-09-13T00:00:00",
          "2013-09-14T00:00:00",
          "2013-09-15T00:00:00",
          "2013-09-16T00:00:00",
          "2013-09-17T00:00:00",
          "2013-09-18T00:00:00",
          "2013-09-19T00:00:00",
          "2013-09-20T00:00:00",
          "2013-09-21T00:00:00",
          "2013-09-22T00:00:00",
          "2013-09-23T00:00:00",
          "2013-09-24T00:00:00",
          "2013-09-25T00:00:00",
          "2013-09-26T00:00:00",
          "2013-09-27T00:00:00",
          "2013-09-28T00:00:00",
          "2013-09-29T00:00:00",
          "2013-09-30T00:00:00",
          "2013-10-01T00:00:00",
          "2013-10-02T00:00:00",
          "2013-10-03T00:00:00",
          "2013-10-04T00:00:00",
          "2013-10-05T00:00:00",
          "2013-10-06T00:00:00",
          "2013-10-07T00:00:00",
          "2013-10-08T00:00:00",
          "2013-10-09T00:00:00",
          "2013-10-10T00:00:00",
          "2013-10-11T00:00:00",
          "2013-10-12T00:00:00",
          "2013-10-13T00:00:00",
          "2013-10-14T00:00:00",
          "2013-10-15T00:00:00",
          "2013-10-16T00:00:00",
          "2013-10-17T00:00:00",
          "2013-10-18T00:00:00",
          "2013-10-19T00:00:00",
          "2013-10-20T00:00:00",
          "2013-10-21T00:00:00",
          "2013-10-22T00:00:00",
          "2013-10-23T00:00:00",
          "2013-10-24T00:00:00",
          "2013-10-25T00:00:00",
          "2013-10-26T00:00:00",
          "2013-10-27T00:00:00",
          "2013-10-28T00:00:00",
          "2013-10-29T00:00:00",
          "2013-10-30T00:00:00",
          "2013-10-31T00:00:00",
          "2013-11-01T00:00:00",
          "2013-11-02T00:00:00",
          "2013-11-03T00:00:00",
          "2013-11-04T00:00:00",
          "2013-11-05T00:00:00",
          "2013-11-06T00:00:00",
          "2013-11-07T00:00:00",
          "2013-11-08T00:00:00",
          "2013-11-09T00:00:00",
          "2013-11-10T00:00:00",
          "2013-11-11T00:00:00",
          "2013-11-12T00:00:00",
          "2013-11-13T00:00:00",
          "2013-11-14T00:00:00",
          "2013-11-15T00:00:00",
          "2013-11-16T00:00:00",
          "2013-11-17T00:00:00",
          "2013-11-18T00:00:00",
          "2013-11-19T00:00:00",
          "2013-11-20T00:00:00",
          "2013-11-21T00:00:00",
          "2013-11-22T00:00:00",
          "2013-11-23T00:00:00",
          "2013-11-24T00:00:00",
          "2013-11-25T00:00:00",
          "2013-11-26T00:00:00",
          "2013-11-27T00:00:00",
          "2013-11-28T00:00:00",
          "2013-11-29T00:00:00",
          "2013-11-30T00:00:00",
          "2013-12-01T00:00:00"
         ],
         "y": [
          3457801,
          1574273.125,
          977622.4375,
          1286899.125,
          1694358.5,
          790636.125,
          248575.28125,
          398642.53125,
          1187774.5,
          172908.125,
          1406657.5,
          2713575.5,
          457697.46875,
          1090.96728515625,
          3380.24755859375,
          75169,
          317448.6875,
          143717.84375,
          1205975.125,
          2523402,
          1957082,
          1596425.875,
          1732451.25,
          3018.820068359375,
          1.0254147531085778e-10,
          11982.2451171875,
          1021398.5,
          1830119.5,
          473608.75,
          1340877.875,
          10047166,
          11051440,
          7105167.5,
          14684922,
          18108278,
          13532687,
          8711097,
          7079217.5,
          9000844,
          4795068,
          17397.556640625,
          14939.3583984375,
          3977261,
          11365622,
          6024430,
          263144.9375,
          102494.7421875,
          3886584,
          93416.09375,
          1035361.5,
          5931870,
          1133776.375,
          37.63909912109375,
          3709335.75,
          5275965,
          5444178,
          9591156,
          7126097.5,
          17245288,
          10119115,
          83191.453125,
          337527.625,
          1567489.625,
          16227719,
          18522234,
          17249052,
          8753016,
          19255650,
          21167324,
          10520583,
          9583724,
          18857548,
          12173463,
          9414530,
          11556958,
          16284749,
          13623750,
          10088919,
          15295132,
          19731896,
          23610672,
          24545250,
          11010625,
          15210335,
          21001394,
          13514652,
          8778064,
          14857266,
          20236424,
          22573456,
          22216656,
          24957744,
          14642363,
          16632961,
          20209112,
          18126894,
          17131988,
          17135298,
          16547649,
          4425324,
          1719723.125,
          779378.25,
          2194165.5,
          5414512.5,
          7819402,
          7472031.5,
          4950365.5,
          5723989,
          2152122.75,
          2626651,
          618204.4375,
          10972518,
          18498208,
          10038040,
          13802453,
          8684020,
          9735153,
          8828880,
          14937391,
          16800532,
          6008688.5,
          13402783,
          8604084,
          7329424,
          3510355.75,
          477802.5,
          554934.6875,
          2693958.75,
          5512903,
          6583680.5,
          7009102,
          6325445,
          6213643,
          5999543.5,
          4056580.25,
          6480177.5,
          1217558.75,
          1958071.875,
          4884632.5,
          6745265,
          9258782,
          8839845,
          10292424,
          10187893,
          7792828,
          4374926,
          836524,
          2740340.75,
          4573235,
          6137742.5,
          7998992,
          9332498,
          9950351,
          14747631,
          10811702,
          10533456,
          13510218,
          15926752,
          12555818,
          13414670,
          12746983,
          13808241,
          15503023,
          15069458,
          14325387,
          14165568,
          14760528,
          15789236,
          16007372,
          15960229,
          15657148,
          15626352,
          13470714,
          13235995,
          13785970,
          12367368,
          3701582,
          6940292.5,
          8852299,
          12804236,
          16014349,
          10517089,
          7501218.5,
          19960820
         ]
        },
        {
         "mode": "lines",
         "name": "Irrigation demand",
         "type": "scatter",
         "x": [
          "2013-06-01T00:00:00",
          "2013-06-02T00:00:00",
          "2013-06-03T00:00:00",
          "2013-06-04T00:00:00",
          "2013-06-05T00:00:00",
          "2013-06-06T00:00:00",
          "2013-06-07T00:00:00",
          "2013-06-08T00:00:00",
          "2013-06-09T00:00:00",
          "2013-06-10T00:00:00",
          "2013-06-11T00:00:00",
          "2013-06-12T00:00:00",
          "2013-06-13T00:00:00",
          "2013-06-14T00:00:00",
          "2013-06-15T00:00:00",
          "2013-06-16T00:00:00",
          "2013-06-17T00:00:00",
          "2013-06-18T00:00:00",
          "2013-06-19T00:00:00",
          "2013-06-20T00:00:00",
          "2013-06-21T00:00:00",
          "2013-06-22T00:00:00",
          "2013-06-23T00:00:00",
          "2013-06-24T00:00:00",
          "2013-06-25T00:00:00",
          "2013-06-26T00:00:00",
          "2013-06-27T00:00:00",
          "2013-06-28T00:00:00",
          "2013-06-29T00:00:00",
          "2013-06-30T00:00:00",
          "2013-07-01T00:00:00",
          "2013-07-02T00:00:00",
          "2013-07-03T00:00:00",
          "2013-07-04T00:00:00",
          "2013-07-05T00:00:00",
          "2013-07-06T00:00:00",
          "2013-07-07T00:00:00",
          "2013-07-08T00:00:00",
          "2013-07-09T00:00:00",
          "2013-07-10T00:00:00",
          "2013-07-11T00:00:00",
          "2013-07-12T00:00:00",
          "2013-07-13T00:00:00",
          "2013-07-14T00:00:00",
          "2013-07-15T00:00:00",
          "2013-07-16T00:00:00",
          "2013-07-17T00:00:00",
          "2013-07-18T00:00:00",
          "2013-07-19T00:00:00",
          "2013-07-20T00:00:00",
          "2013-07-21T00:00:00",
          "2013-07-22T00:00:00",
          "2013-07-23T00:00:00",
          "2013-07-24T00:00:00",
          "2013-07-25T00:00:00",
          "2013-07-26T00:00:00",
          "2013-07-27T00:00:00",
          "2013-07-28T00:00:00",
          "2013-07-29T00:00:00",
          "2013-07-30T00:00:00",
          "2013-07-31T00:00:00",
          "2013-08-01T00:00:00",
          "2013-08-02T00:00:00",
          "2013-08-03T00:00:00",
          "2013-08-04T00:00:00",
          "2013-08-05T00:00:00",
          "2013-08-06T00:00:00",
          "2013-08-07T00:00:00",
          "2013-08-08T00:00:00",
          "2013-08-09T00:00:00",
          "2013-08-10T00:00:00",
          "2013-08-11T00:00:00",
          "2013-08-12T00:00:00",
          "2013-08-13T00:00:00",
          "2013-08-14T00:00:00",
          "2013-08-15T00:00:00",
          "2013-08-16T00:00:00",
          "2013-08-17T00:00:00",
          "2013-08-18T00:00:00",
          "2013-08-19T00:00:00",
          "2013-08-20T00:00:00",
          "2013-08-21T00:00:00",
          "2013-08-22T00:00:00",
          "2013-08-23T00:00:00",
          "2013-08-24T00:00:00",
          "2013-08-25T00:00:00",
          "2013-08-26T00:00:00",
          "2013-08-27T00:00:00",
          "2013-08-28T00:00:00",
          "2013-08-29T00:00:00",
          "2013-08-30T00:00:00",
          "2013-08-31T00:00:00",
          "2013-09-01T00:00:00",
          "2013-09-02T00:00:00",
          "2013-09-03T00:00:00",
          "2013-09-04T00:00:00",
          "2013-09-05T00:00:00",
          "2013-09-06T00:00:00",
          "2013-09-07T00:00:00",
          "2013-09-08T00:00:00",
          "2013-09-09T00:00:00",
          "2013-09-10T00:00:00",
          "2013-09-11T00:00:00",
          "2013-09-12T00:00:00",
          "2013-09-13T00:00:00",
          "2013-09-14T00:00:00",
          "2013-09-15T00:00:00",
          "2013-09-16T00:00:00",
          "2013-09-17T00:00:00",
          "2013-09-18T00:00:00",
          "2013-09-19T00:00:00",
          "2013-09-20T00:00:00",
          "2013-09-21T00:00:00",
          "2013-09-22T00:00:00",
          "2013-09-23T00:00:00",
          "2013-09-24T00:00:00",
          "2013-09-25T00:00:00",
          "2013-09-26T00:00:00",
          "2013-09-27T00:00:00",
          "2013-09-28T00:00:00",
          "2013-09-29T00:00:00",
          "2013-09-30T00:00:00",
          "2013-10-01T00:00:00",
          "2013-10-02T00:00:00",
          "2013-10-03T00:00:00",
          "2013-10-04T00:00:00",
          "2013-10-05T00:00:00",
          "2013-10-06T00:00:00",
          "2013-10-07T00:00:00",
          "2013-10-08T00:00:00",
          "2013-10-09T00:00:00",
          "2013-10-10T00:00:00",
          "2013-10-11T00:00:00",
          "2013-10-12T00:00:00",
          "2013-10-13T00:00:00",
          "2013-10-14T00:00:00",
          "2013-10-15T00:00:00",
          "2013-10-16T00:00:00",
          "2013-10-17T00:00:00",
          "2013-10-18T00:00:00",
          "2013-10-19T00:00:00",
          "2013-10-20T00:00:00",
          "2013-10-21T00:00:00",
          "2013-10-22T00:00:00",
          "2013-10-23T00:00:00",
          "2013-10-24T00:00:00",
          "2013-10-25T00:00:00",
          "2013-10-26T00:00:00",
          "2013-10-27T00:00:00",
          "2013-10-28T00:00:00",
          "2013-10-29T00:00:00",
          "2013-10-30T00:00:00",
          "2013-10-31T00:00:00",
          "2013-11-01T00:00:00",
          "2013-11-02T00:00:00",
          "2013-11-03T00:00:00",
          "2013-11-04T00:00:00",
          "2013-11-05T00:00:00",
          "2013-11-06T00:00:00",
          "2013-11-07T00:00:00",
          "2013-11-08T00:00:00",
          "2013-11-09T00:00:00",
          "2013-11-10T00:00:00",
          "2013-11-11T00:00:00",
          "2013-11-12T00:00:00",
          "2013-11-13T00:00:00",
          "2013-11-14T00:00:00",
          "2013-11-15T00:00:00",
          "2013-11-16T00:00:00",
          "2013-11-17T00:00:00",
          "2013-11-18T00:00:00",
          "2013-11-19T00:00:00",
          "2013-11-20T00:00:00",
          "2013-11-21T00:00:00",
          "2013-11-22T00:00:00",
          "2013-11-23T00:00:00",
          "2013-11-24T00:00:00",
          "2013-11-25T00:00:00",
          "2013-11-26T00:00:00",
          "2013-11-27T00:00:00",
          "2013-11-28T00:00:00",
          "2013-11-29T00:00:00",
          "2013-11-30T00:00:00",
          "2013-12-01T00:00:00"
         ],
         "y": [
          3059523.5,
          26583.84375,
          0,
          0,
          62928.08984375,
          0,
          0,
          0,
          0,
          0,
          0,
          0,
          0,
          0,
          0,
          0,
          0,
          0,
          0,
          0,
          0,
          0,
          0,
          0,
          0,
          0,
          0,
          0,
          0,
          0,
          67866048,
          55557344,
          44979376,
          54062140,
          55950508,
          42614744,
          41203456,
          39224388,
          40871968,
          35264688,
          26331452,
          19169530,
          24387220,
          31345610,
          29753812,
          22433896,
          20311260,
          24413390,
          13621401,
          19435814,
          19108868,
          18949284,
          7323750.5,
          12400779,
          14510692,
          16416188,
          15532309,
          17509980,
          20805604,
          20891676,
          9248971,
          8541917,
          11224265,
          14017005,
          17834680,
          19256062,
          20615580,
          19884406,
          23714846,
          23727712,
          23026830,
          25827400,
          27031084,
          26101116,
          27712116,
          32877846,
          31613616,
          31032120,
          36632172,
          44918816,
          55403672,
          72198416,
          38166388,
          42946696,
          77418904,
          50942172,
          39897064,
          54419632,
          80625992,
          106641560,
          96981688,
          130327392,
          104644928,
          100411448,
          103196776,
          106456320,
          111794240,
          98880200,
          114998640,
          49193320,
          29870090,
          6453795,
          17331862,
          20010318,
          17466238,
          16827976,
          17164156,
          19513758,
          14551465,
          4933131,
          10399190,
          12293053,
          19414960,
          20398164,
          19983930,
          21625820,
          23089224,
          24059036,
          27338548,
          28896234,
          29002920,
          32365592,
          31553310,
          33507866,
          31043630,
          28737102,
          26759568,
          29542556,
          31852588,
          33490340,
          34957956,
          35759808,
          37322356,
          37710132,
          38377348,
          39779088,
          29207888,
          35717596,
          36504228,
          37848608,
          40639032,
          41189544,
          43551492,
          46834400,
          44934740,
          45051352,
          36944412,
          41074792,
          41522312,
          42971188,
          45153128,
          48549396,
          51442452,
          45844804,
          45657808,
          45568864,
          46012164,
          47020848,
          46407132,
          45835944,
          45284760,
          45248840,
          46487548,
          1885227.5,
          1870807.625,
          1557177.875,
          2708588.75,
          4468485,
          5601699,
          7617761.5,
          4746542,
          4965298.5,
          2011496,
          2217109.5,
          4722686.5,
          2857885.25,
          1420795.625,
          1655269.375,
          1657370.125,
          3191337.75,
          21510646,
          6741565,
          392853.8125,
          32905560
         ]
        },
        {
         "mode": "lines",
         "name": "non-Irrigation demand",
         "type": "scatter",
         "x": [
          "2013-06-01T00:00:00",
          "2013-06-02T00:00:00",
          "2013-06-03T00:00:00",
          "2013-06-04T00:00:00",
          "2013-06-05T00:00:00",
          "2013-06-06T00:00:00",
          "2013-06-07T00:00:00",
          "2013-06-08T00:00:00",
          "2013-06-09T00:00:00",
          "2013-06-10T00:00:00",
          "2013-06-11T00:00:00",
          "2013-06-12T00:00:00",
          "2013-06-13T00:00:00",
          "2013-06-14T00:00:00",
          "2013-06-15T00:00:00",
          "2013-06-16T00:00:00",
          "2013-06-17T00:00:00",
          "2013-06-18T00:00:00",
          "2013-06-19T00:00:00",
          "2013-06-20T00:00:00",
          "2013-06-21T00:00:00",
          "2013-06-22T00:00:00",
          "2013-06-23T00:00:00",
          "2013-06-24T00:00:00",
          "2013-06-25T00:00:00",
          "2013-06-26T00:00:00",
          "2013-06-27T00:00:00",
          "2013-06-28T00:00:00",
          "2013-06-29T00:00:00",
          "2013-06-30T00:00:00",
          "2013-07-01T00:00:00",
          "2013-07-02T00:00:00",
          "2013-07-03T00:00:00",
          "2013-07-04T00:00:00",
          "2013-07-05T00:00:00",
          "2013-07-06T00:00:00",
          "2013-07-07T00:00:00",
          "2013-07-08T00:00:00",
          "2013-07-09T00:00:00",
          "2013-07-10T00:00:00",
          "2013-07-11T00:00:00",
          "2013-07-12T00:00:00",
          "2013-07-13T00:00:00",
          "2013-07-14T00:00:00",
          "2013-07-15T00:00:00",
          "2013-07-16T00:00:00",
          "2013-07-17T00:00:00",
          "2013-07-18T00:00:00",
          "2013-07-19T00:00:00",
          "2013-07-20T00:00:00",
          "2013-07-21T00:00:00",
          "2013-07-22T00:00:00",
          "2013-07-23T00:00:00",
          "2013-07-24T00:00:00",
          "2013-07-25T00:00:00",
          "2013-07-26T00:00:00",
          "2013-07-27T00:00:00",
          "2013-07-28T00:00:00",
          "2013-07-29T00:00:00",
          "2013-07-30T00:00:00",
          "2013-07-31T00:00:00",
          "2013-08-01T00:00:00",
          "2013-08-02T00:00:00",
          "2013-08-03T00:00:00",
          "2013-08-04T00:00:00",
          "2013-08-05T00:00:00",
          "2013-08-06T00:00:00",
          "2013-08-07T00:00:00",
          "2013-08-08T00:00:00",
          "2013-08-09T00:00:00",
          "2013-08-10T00:00:00",
          "2013-08-11T00:00:00",
          "2013-08-12T00:00:00",
          "2013-08-13T00:00:00",
          "2013-08-14T00:00:00",
          "2013-08-15T00:00:00",
          "2013-08-16T00:00:00",
          "2013-08-17T00:00:00",
          "2013-08-18T00:00:00",
          "2013-08-19T00:00:00",
          "2013-08-20T00:00:00",
          "2013-08-21T00:00:00",
          "2013-08-22T00:00:00",
          "2013-08-23T00:00:00",
          "2013-08-24T00:00:00",
          "2013-08-25T00:00:00",
          "2013-08-26T00:00:00",
          "2013-08-27T00:00:00",
          "2013-08-28T00:00:00",
          "2013-08-29T00:00:00",
          "2013-08-30T00:00:00",
          "2013-08-31T00:00:00",
          "2013-09-01T00:00:00",
          "2013-09-02T00:00:00",
          "2013-09-03T00:00:00",
          "2013-09-04T00:00:00",
          "2013-09-05T00:00:00",
          "2013-09-06T00:00:00",
          "2013-09-07T00:00:00",
          "2013-09-08T00:00:00",
          "2013-09-09T00:00:00",
          "2013-09-10T00:00:00",
          "2013-09-11T00:00:00",
          "2013-09-12T00:00:00",
          "2013-09-13T00:00:00",
          "2013-09-14T00:00:00",
          "2013-09-15T00:00:00",
          "2013-09-16T00:00:00",
          "2013-09-17T00:00:00",
          "2013-09-18T00:00:00",
          "2013-09-19T00:00:00",
          "2013-09-20T00:00:00",
          "2013-09-21T00:00:00",
          "2013-09-22T00:00:00",
          "2013-09-23T00:00:00",
          "2013-09-24T00:00:00",
          "2013-09-25T00:00:00",
          "2013-09-26T00:00:00",
          "2013-09-27T00:00:00",
          "2013-09-28T00:00:00",
          "2013-09-29T00:00:00",
          "2013-09-30T00:00:00",
          "2013-10-01T00:00:00",
          "2013-10-02T00:00:00",
          "2013-10-03T00:00:00",
          "2013-10-04T00:00:00",
          "2013-10-05T00:00:00",
          "2013-10-06T00:00:00",
          "2013-10-07T00:00:00",
          "2013-10-08T00:00:00",
          "2013-10-09T00:00:00",
          "2013-10-10T00:00:00",
          "2013-10-11T00:00:00",
          "2013-10-12T00:00:00",
          "2013-10-13T00:00:00",
          "2013-10-14T00:00:00",
          "2013-10-15T00:00:00",
          "2013-10-16T00:00:00",
          "2013-10-17T00:00:00",
          "2013-10-18T00:00:00",
          "2013-10-19T00:00:00",
          "2013-10-20T00:00:00",
          "2013-10-21T00:00:00",
          "2013-10-22T00:00:00",
          "2013-10-23T00:00:00",
          "2013-10-24T00:00:00",
          "2013-10-25T00:00:00",
          "2013-10-26T00:00:00",
          "2013-10-27T00:00:00",
          "2013-10-28T00:00:00",
          "2013-10-29T00:00:00",
          "2013-10-30T00:00:00",
          "2013-10-31T00:00:00",
          "2013-11-01T00:00:00",
          "2013-11-02T00:00:00",
          "2013-11-03T00:00:00",
          "2013-11-04T00:00:00",
          "2013-11-05T00:00:00",
          "2013-11-06T00:00:00",
          "2013-11-07T00:00:00",
          "2013-11-08T00:00:00",
          "2013-11-09T00:00:00",
          "2013-11-10T00:00:00",
          "2013-11-11T00:00:00",
          "2013-11-12T00:00:00",
          "2013-11-13T00:00:00",
          "2013-11-14T00:00:00",
          "2013-11-15T00:00:00",
          "2013-11-16T00:00:00",
          "2013-11-17T00:00:00",
          "2013-11-18T00:00:00",
          "2013-11-19T00:00:00",
          "2013-11-20T00:00:00",
          "2013-11-21T00:00:00",
          "2013-11-22T00:00:00",
          "2013-11-23T00:00:00",
          "2013-11-24T00:00:00",
          "2013-11-25T00:00:00",
          "2013-11-26T00:00:00",
          "2013-11-27T00:00:00",
          "2013-11-28T00:00:00",
          "2013-11-29T00:00:00",
          "2013-11-30T00:00:00",
          "2013-12-01T00:00:00"
         ],
         "y": [
          9263372,
          9159678,
          9102888,
          9200978,
          9180402,
          9222470,
          9246994,
          9215920,
          9203084,
          9207474,
          9309828,
          9263428,
          9207488,
          9165768,
          9184914,
          9642854,
          10497230,
          10645770,
          10885875,
          11690234,
          11620264,
          11541780,
          11466428,
          11396590,
          11456642,
          11596910,
          11588493,
          11543558,
          11494266,
          11453788,
          11274766,
          11225264,
          11260016,
          11269492,
          11259084,
          11197080,
          11133842,
          11096754,
          11052112,
          10998494,
          11068148,
          11225170,
          11655744,
          11772152,
          11713248,
          11654902,
          11757392,
          11952198,
          11965696,
          12221036,
          12460054,
          12527932,
          12574156,
          13254300,
          13681312,
          13709296,
          13700156,
          13688024,
          13666108,
          13582732,
          13585840,
          13722773,
          13910519,
          13971533,
          13852070,
          13777338,
          13708622,
          13631332,
          13544237,
          13456701,
          13388289,
          13328881,
          13251945,
          13186531,
          13140084,
          13080637,
          12997981,
          12916966,
          12845148,
          12770314,
          12684331,
          12592939,
          12504898,
          12423520,
          12353518,
          12272274,
          12220864,
          12148362,
          12064771,
          11983672,
          11901186,
          11821422,
          11865001,
          11777567,
          11690202,
          11382985,
          11305860,
          11236147,
          11160123,
          11079603,
          11031265,
          11098209,
          11729241,
          11888065,
          11953951,
          12065424,
          12136066,
          12318632,
          12280259,
          12250448,
          12899295,
          13007229,
          12941140,
          12854808,
          12781926,
          12708824,
          12675170,
          12598338,
          12517797,
          12433648,
          12347110,
          12274538,
          12069344,
          11982709,
          11897392,
          11820980,
          11798832,
          11768202,
          11698956,
          11619700,
          11538908,
          11456405,
          11380726,
          11303774,
          11228153,
          11150392,
          11073613,
          11073362,
          11011329,
          10936183,
          10860223,
          10779554,
          10703309,
          10626264,
          10546517,
          10467579,
          10390350,
          10379487,
          10315461,
          10245693,
          10177162,
          10108376,
          10036964,
          10089843,
          10018721,
          9947731,
          9878983,
          9811313,
          9741944,
          9675284,
          9611171,
          9546646,
          9484077,
          9417044,
          9352770,
          9288705,
          9226343,
          9162957,
          9095905,
          9031415,
          8967133,
          8904388,
          8843899,
          8785084,
          8727530,
          8668306,
          8610481,
          8553855,
          8499343,
          8445249,
          8393063,
          8335221,
          8279009,
          8102569.5
         ]
        },
        {
         "mode": "lines",
         "name": "domesticDemand",
         "type": "scatter",
         "x": [
          "2013-06-01T00:00:00",
          "2013-06-02T00:00:00",
          "2013-06-03T00:00:00",
          "2013-06-04T00:00:00",
          "2013-06-05T00:00:00",
          "2013-06-06T00:00:00",
          "2013-06-07T00:00:00",
          "2013-06-08T00:00:00",
          "2013-06-09T00:00:00",
          "2013-06-10T00:00:00",
          "2013-06-11T00:00:00",
          "2013-06-12T00:00:00",
          "2013-06-13T00:00:00",
          "2013-06-14T00:00:00",
          "2013-06-15T00:00:00",
          "2013-06-16T00:00:00",
          "2013-06-17T00:00:00",
          "2013-06-18T00:00:00",
          "2013-06-19T00:00:00",
          "2013-06-20T00:00:00",
          "2013-06-21T00:00:00",
          "2013-06-22T00:00:00",
          "2013-06-23T00:00:00",
          "2013-06-24T00:00:00",
          "2013-06-25T00:00:00",
          "2013-06-26T00:00:00",
          "2013-06-27T00:00:00",
          "2013-06-28T00:00:00",
          "2013-06-29T00:00:00",
          "2013-06-30T00:00:00",
          "2013-07-01T00:00:00",
          "2013-07-02T00:00:00",
          "2013-07-03T00:00:00",
          "2013-07-04T00:00:00",
          "2013-07-05T00:00:00",
          "2013-07-06T00:00:00",
          "2013-07-07T00:00:00",
          "2013-07-08T00:00:00",
          "2013-07-09T00:00:00",
          "2013-07-10T00:00:00",
          "2013-07-11T00:00:00",
          "2013-07-12T00:00:00",
          "2013-07-13T00:00:00",
          "2013-07-14T00:00:00",
          "2013-07-15T00:00:00",
          "2013-07-16T00:00:00",
          "2013-07-17T00:00:00",
          "2013-07-18T00:00:00",
          "2013-07-19T00:00:00",
          "2013-07-20T00:00:00",
          "2013-07-21T00:00:00",
          "2013-07-22T00:00:00",
          "2013-07-23T00:00:00",
          "2013-07-24T00:00:00",
          "2013-07-25T00:00:00",
          "2013-07-26T00:00:00",
          "2013-07-27T00:00:00",
          "2013-07-28T00:00:00",
          "2013-07-29T00:00:00",
          "2013-07-30T00:00:00",
          "2013-07-31T00:00:00",
          "2013-08-01T00:00:00",
          "2013-08-02T00:00:00",
          "2013-08-03T00:00:00",
          "2013-08-04T00:00:00",
          "2013-08-05T00:00:00",
          "2013-08-06T00:00:00",
          "2013-08-07T00:00:00",
          "2013-08-08T00:00:00",
          "2013-08-09T00:00:00",
          "2013-08-10T00:00:00",
          "2013-08-11T00:00:00",
          "2013-08-12T00:00:00",
          "2013-08-13T00:00:00",
          "2013-08-14T00:00:00",
          "2013-08-15T00:00:00",
          "2013-08-16T00:00:00",
          "2013-08-17T00:00:00",
          "2013-08-18T00:00:00",
          "2013-08-19T00:00:00",
          "2013-08-20T00:00:00",
          "2013-08-21T00:00:00",
          "2013-08-22T00:00:00",
          "2013-08-23T00:00:00",
          "2013-08-24T00:00:00",
          "2013-08-25T00:00:00",
          "2013-08-26T00:00:00",
          "2013-08-27T00:00:00",
          "2013-08-28T00:00:00",
          "2013-08-29T00:00:00",
          "2013-08-30T00:00:00",
          "2013-08-31T00:00:00",
          "2013-09-01T00:00:00",
          "2013-09-02T00:00:00",
          "2013-09-03T00:00:00",
          "2013-09-04T00:00:00",
          "2013-09-05T00:00:00",
          "2013-09-06T00:00:00",
          "2013-09-07T00:00:00",
          "2013-09-08T00:00:00",
          "2013-09-09T00:00:00",
          "2013-09-10T00:00:00",
          "2013-09-11T00:00:00",
          "2013-09-12T00:00:00",
          "2013-09-13T00:00:00",
          "2013-09-14T00:00:00",
          "2013-09-15T00:00:00",
          "2013-09-16T00:00:00",
          "2013-09-17T00:00:00",
          "2013-09-18T00:00:00",
          "2013-09-19T00:00:00",
          "2013-09-20T00:00:00",
          "2013-09-21T00:00:00",
          "2013-09-22T00:00:00",
          "2013-09-23T00:00:00",
          "2013-09-24T00:00:00",
          "2013-09-25T00:00:00",
          "2013-09-26T00:00:00",
          "2013-09-27T00:00:00",
          "2013-09-28T00:00:00",
          "2013-09-29T00:00:00",
          "2013-09-30T00:00:00",
          "2013-10-01T00:00:00",
          "2013-10-02T00:00:00",
          "2013-10-03T00:00:00",
          "2013-10-04T00:00:00",
          "2013-10-05T00:00:00",
          "2013-10-06T00:00:00",
          "2013-10-07T00:00:00",
          "2013-10-08T00:00:00",
          "2013-10-09T00:00:00",
          "2013-10-10T00:00:00",
          "2013-10-11T00:00:00",
          "2013-10-12T00:00:00",
          "2013-10-13T00:00:00",
          "2013-10-14T00:00:00",
          "2013-10-15T00:00:00",
          "2013-10-16T00:00:00",
          "2013-10-17T00:00:00",
          "2013-10-18T00:00:00",
          "2013-10-19T00:00:00",
          "2013-10-20T00:00:00",
          "2013-10-21T00:00:00",
          "2013-10-22T00:00:00",
          "2013-10-23T00:00:00",
          "2013-10-24T00:00:00",
          "2013-10-25T00:00:00",
          "2013-10-26T00:00:00",
          "2013-10-27T00:00:00",
          "2013-10-28T00:00:00",
          "2013-10-29T00:00:00",
          "2013-10-30T00:00:00",
          "2013-10-31T00:00:00",
          "2013-11-01T00:00:00",
          "2013-11-02T00:00:00",
          "2013-11-03T00:00:00",
          "2013-11-04T00:00:00",
          "2013-11-05T00:00:00",
          "2013-11-06T00:00:00",
          "2013-11-07T00:00:00",
          "2013-11-08T00:00:00",
          "2013-11-09T00:00:00",
          "2013-11-10T00:00:00",
          "2013-11-11T00:00:00",
          "2013-11-12T00:00:00",
          "2013-11-13T00:00:00",
          "2013-11-14T00:00:00",
          "2013-11-15T00:00:00",
          "2013-11-16T00:00:00",
          "2013-11-17T00:00:00",
          "2013-11-18T00:00:00",
          "2013-11-19T00:00:00",
          "2013-11-20T00:00:00",
          "2013-11-21T00:00:00",
          "2013-11-22T00:00:00",
          "2013-11-23T00:00:00",
          "2013-11-24T00:00:00",
          "2013-11-25T00:00:00",
          "2013-11-26T00:00:00",
          "2013-11-27T00:00:00",
          "2013-11-28T00:00:00",
          "2013-11-29T00:00:00",
          "2013-11-30T00:00:00",
          "2013-12-01T00:00:00"
         ],
         "y": [
          3796249,
          3796249,
          3796249,
          3796249,
          3796249,
          3796249,
          3796249,
          3796249,
          3796249,
          3796249,
          3796249,
          3796249,
          3796249,
          3796249,
          3796249,
          3796249,
          3796249,
          3796249,
          3796249,
          3796249,
          3796249,
          3796249,
          3796249,
          3796249,
          3796249,
          3796249,
          3796249,
          3796249,
          3796249,
          3796249,
          3673789,
          3673789,
          3673789,
          3673789,
          3673789,
          3673789,
          3673789,
          3673789,
          3673789,
          3673789,
          3673789,
          3673789,
          3673789,
          3673789,
          3673789,
          3673789,
          3673789,
          3673789,
          3673789,
          3673789,
          3673789,
          3673789,
          3673789,
          3673789,
          3673789,
          3673789,
          3673789,
          3673789,
          3673789,
          3673789,
          3673789,
          3673789,
          3673789,
          3673789,
          3673789,
          3673789,
          3673789,
          3673789,
          3673789,
          3673789,
          3673789,
          3673789,
          3673789,
          3673789,
          3673789,
          3673789,
          3673789,
          3673789,
          3673789,
          3673789,
          3673789,
          3673789,
          3673789,
          3673789,
          3673789,
          3673789,
          3673789,
          3673789,
          3673789,
          3673789,
          3673789,
          3673789,
          3796249,
          3796249,
          3796249,
          3796249,
          3796249,
          3796249,
          3796249,
          3796249,
          3796249,
          3796249,
          3796249,
          3796249,
          3796249,
          3796249,
          3796249,
          3796249,
          3796249,
          3796249,
          3796249,
          3796249,
          3796249,
          3796249,
          3796249,
          3796249,
          3796249,
          3796249,
          3796249,
          3796249,
          3796249,
          3796249,
          3673789,
          3673789,
          3673789,
          3673789,
          3673789,
          3673789,
          3673789,
          3673789,
          3673789,
          3673789,
          3673789,
          3673789,
          3673789,
          3673789,
          3673789,
          3673789,
          3673789,
          3673789,
          3673789,
          3673789,
          3673789,
          3673789,
          3673789,
          3673789,
          3673789,
          3673789,
          3673789,
          3673789,
          3673789,
          3673789,
          3673789,
          3796249,
          3796249,
          3796249,
          3796249,
          3796249,
          3796249,
          3796249,
          3796249,
          3796249,
          3796249,
          3796249,
          3796249,
          3796249,
          3796249,
          3796249,
          3796249,
          3796249,
          3796249,
          3796249,
          3796249,
          3796249,
          3796249,
          3796249,
          3796249,
          3796249,
          3796249,
          3796249,
          3796249,
          3796249,
          3796249,
          3673789
         ]
        },
        {
         "mode": "lines",
         "name": "industryDemand",
         "type": "scatter",
         "x": [
          "2013-06-01T00:00:00",
          "2013-06-02T00:00:00",
          "2013-06-03T00:00:00",
          "2013-06-04T00:00:00",
          "2013-06-05T00:00:00",
          "2013-06-06T00:00:00",
          "2013-06-07T00:00:00",
          "2013-06-08T00:00:00",
          "2013-06-09T00:00:00",
          "2013-06-10T00:00:00",
          "2013-06-11T00:00:00",
          "2013-06-12T00:00:00",
          "2013-06-13T00:00:00",
          "2013-06-14T00:00:00",
          "2013-06-15T00:00:00",
          "2013-06-16T00:00:00",
          "2013-06-17T00:00:00",
          "2013-06-18T00:00:00",
          "2013-06-19T00:00:00",
          "2013-06-20T00:00:00",
          "2013-06-21T00:00:00",
          "2013-06-22T00:00:00",
          "2013-06-23T00:00:00",
          "2013-06-24T00:00:00",
          "2013-06-25T00:00:00",
          "2013-06-26T00:00:00",
          "2013-06-27T00:00:00",
          "2013-06-28T00:00:00",
          "2013-06-29T00:00:00",
          "2013-06-30T00:00:00",
          "2013-07-01T00:00:00",
          "2013-07-02T00:00:00",
          "2013-07-03T00:00:00",
          "2013-07-04T00:00:00",
          "2013-07-05T00:00:00",
          "2013-07-06T00:00:00",
          "2013-07-07T00:00:00",
          "2013-07-08T00:00:00",
          "2013-07-09T00:00:00",
          "2013-07-10T00:00:00",
          "2013-07-11T00:00:00",
          "2013-07-12T00:00:00",
          "2013-07-13T00:00:00",
          "2013-07-14T00:00:00",
          "2013-07-15T00:00:00",
          "2013-07-16T00:00:00",
          "2013-07-17T00:00:00",
          "2013-07-18T00:00:00",
          "2013-07-19T00:00:00",
          "2013-07-20T00:00:00",
          "2013-07-21T00:00:00",
          "2013-07-22T00:00:00",
          "2013-07-23T00:00:00",
          "2013-07-24T00:00:00",
          "2013-07-25T00:00:00",
          "2013-07-26T00:00:00",
          "2013-07-27T00:00:00",
          "2013-07-28T00:00:00",
          "2013-07-29T00:00:00",
          "2013-07-30T00:00:00",
          "2013-07-31T00:00:00",
          "2013-08-01T00:00:00",
          "2013-08-02T00:00:00",
          "2013-08-03T00:00:00",
          "2013-08-04T00:00:00",
          "2013-08-05T00:00:00",
          "2013-08-06T00:00:00",
          "2013-08-07T00:00:00",
          "2013-08-08T00:00:00",
          "2013-08-09T00:00:00",
          "2013-08-10T00:00:00",
          "2013-08-11T00:00:00",
          "2013-08-12T00:00:00",
          "2013-08-13T00:00:00",
          "2013-08-14T00:00:00",
          "2013-08-15T00:00:00",
          "2013-08-16T00:00:00",
          "2013-08-17T00:00:00",
          "2013-08-18T00:00:00",
          "2013-08-19T00:00:00",
          "2013-08-20T00:00:00",
          "2013-08-21T00:00:00",
          "2013-08-22T00:00:00",
          "2013-08-23T00:00:00",
          "2013-08-24T00:00:00",
          "2013-08-25T00:00:00",
          "2013-08-26T00:00:00",
          "2013-08-27T00:00:00",
          "2013-08-28T00:00:00",
          "2013-08-29T00:00:00",
          "2013-08-30T00:00:00",
          "2013-08-31T00:00:00",
          "2013-09-01T00:00:00",
          "2013-09-02T00:00:00",
          "2013-09-03T00:00:00",
          "2013-09-04T00:00:00",
          "2013-09-05T00:00:00",
          "2013-09-06T00:00:00",
          "2013-09-07T00:00:00",
          "2013-09-08T00:00:00",
          "2013-09-09T00:00:00",
          "2013-09-10T00:00:00",
          "2013-09-11T00:00:00",
          "2013-09-12T00:00:00",
          "2013-09-13T00:00:00",
          "2013-09-14T00:00:00",
          "2013-09-15T00:00:00",
          "2013-09-16T00:00:00",
          "2013-09-17T00:00:00",
          "2013-09-18T00:00:00",
          "2013-09-19T00:00:00",
          "2013-09-20T00:00:00",
          "2013-09-21T00:00:00",
          "2013-09-22T00:00:00",
          "2013-09-23T00:00:00",
          "2013-09-24T00:00:00",
          "2013-09-25T00:00:00",
          "2013-09-26T00:00:00",
          "2013-09-27T00:00:00",
          "2013-09-28T00:00:00",
          "2013-09-29T00:00:00",
          "2013-09-30T00:00:00",
          "2013-10-01T00:00:00",
          "2013-10-02T00:00:00",
          "2013-10-03T00:00:00",
          "2013-10-04T00:00:00",
          "2013-10-05T00:00:00",
          "2013-10-06T00:00:00",
          "2013-10-07T00:00:00",
          "2013-10-08T00:00:00",
          "2013-10-09T00:00:00",
          "2013-10-10T00:00:00",
          "2013-10-11T00:00:00",
          "2013-10-12T00:00:00",
          "2013-10-13T00:00:00",
          "2013-10-14T00:00:00",
          "2013-10-15T00:00:00",
          "2013-10-16T00:00:00",
          "2013-10-17T00:00:00",
          "2013-10-18T00:00:00",
          "2013-10-19T00:00:00",
          "2013-10-20T00:00:00",
          "2013-10-21T00:00:00",
          "2013-10-22T00:00:00",
          "2013-10-23T00:00:00",
          "2013-10-24T00:00:00",
          "2013-10-25T00:00:00",
          "2013-10-26T00:00:00",
          "2013-10-27T00:00:00",
          "2013-10-28T00:00:00",
          "2013-10-29T00:00:00",
          "2013-10-30T00:00:00",
          "2013-10-31T00:00:00",
          "2013-11-01T00:00:00",
          "2013-11-02T00:00:00",
          "2013-11-03T00:00:00",
          "2013-11-04T00:00:00",
          "2013-11-05T00:00:00",
          "2013-11-06T00:00:00",
          "2013-11-07T00:00:00",
          "2013-11-08T00:00:00",
          "2013-11-09T00:00:00",
          "2013-11-10T00:00:00",
          "2013-11-11T00:00:00",
          "2013-11-12T00:00:00",
          "2013-11-13T00:00:00",
          "2013-11-14T00:00:00",
          "2013-11-15T00:00:00",
          "2013-11-16T00:00:00",
          "2013-11-17T00:00:00",
          "2013-11-18T00:00:00",
          "2013-11-19T00:00:00",
          "2013-11-20T00:00:00",
          "2013-11-21T00:00:00",
          "2013-11-22T00:00:00",
          "2013-11-23T00:00:00",
          "2013-11-24T00:00:00",
          "2013-11-25T00:00:00",
          "2013-11-26T00:00:00",
          "2013-11-27T00:00:00",
          "2013-11-28T00:00:00",
          "2013-11-29T00:00:00",
          "2013-11-30T00:00:00",
          "2013-12-01T00:00:00"
         ],
         "y": [
          5458776.5,
          5355082.5,
          5298291.5,
          5396381.5,
          5375805.5,
          5417873.5,
          5442398.5,
          5411324.5,
          5398488.5,
          5402876.5,
          5505232,
          5458832.5,
          5402892.5,
          5361171.5,
          5380318,
          5838259.5,
          6692635.5,
          6841176.5,
          7081280.5,
          7885639.5,
          7815669.5,
          7737185.5,
          7661833.5,
          7591996,
          7652047,
          7792315,
          7783899,
          7738962.5,
          7689671.5,
          7649193,
          7593503,
          7544002.5,
          7578753,
          7588229,
          7577822,
          7515817.5,
          7452579,
          7415490.5,
          7370849,
          7317232,
          7386884,
          7543907.5,
          7974481.5,
          8090888.5,
          8031984,
          7973639,
          8076128,
          8270935,
          8284432.5,
          8539773,
          8778790,
          8846670,
          8892892,
          9573037,
          10000048,
          10028032,
          10018893,
          10006761,
          9984845,
          9901468,
          9904577,
          10041613,
          10229357,
          10290371,
          10170909,
          10096177,
          10027461,
          9950171,
          9863075,
          9775539,
          9707127,
          9647719,
          9570783,
          9505369,
          9458923,
          9399477,
          9316819,
          9235802,
          9163984,
          9089150,
          9003166,
          8911774,
          8823734,
          8742356,
          8672354,
          8591110,
          8539700,
          8467197,
          8383608,
          8302509.5,
          8220024,
          8140259.5,
          8060817.5,
          7973383.5,
          7886019.5,
          7578801.5,
          7501677.5,
          7431964.5,
          7355939.5,
          7275419.5,
          7227082,
          7294027,
          7925057.5,
          8083882,
          8149768.5,
          8261240.5,
          8331883,
          8514447,
          8476076,
          8446264,
          9095110,
          9203044,
          9136954,
          9050623,
          8977740,
          8904639,
          8870985,
          8794152,
          8713612,
          8629463,
          8542926,
          8470354,
          8388076,
          8301441,
          8216124.5,
          8139712,
          8117564,
          8086933.5,
          8017688,
          7938432,
          7857639.5,
          7775137,
          7699459,
          7622505.5,
          7546885,
          7469123,
          7392346,
          7392094,
          7330060.5,
          7254914.5,
          7178953.5,
          7098285.5,
          7022040.5,
          6944996,
          6865249.5,
          6786310.5,
          6709080.5,
          6698220,
          6634193.5,
          6564424.5,
          6495894,
          6427108,
          6355696,
          6286022.5,
          6214901,
          6143910,
          6075163.5,
          6007492.5,
          5938123.5,
          5871463.5,
          5807350.5,
          5742825.5,
          5680257,
          5613224.5,
          5548949.5,
          5484883.5,
          5422522,
          5359136.5,
          5292087.5,
          5227597.5,
          5163315.5,
          5100570.5,
          5040080.5,
          4981265,
          4923711.5,
          4864488,
          4806663.5,
          4750036.5,
          4695525,
          4641431,
          4589244.5,
          4531403,
          4475191,
          4421989
         ]
        },
        {
         "mode": "lines",
         "name": "Precipitation",
         "type": "scatter",
         "x": [
          "2013-06-01T00:00:00",
          "2013-06-02T00:00:00",
          "2013-06-03T00:00:00",
          "2013-06-04T00:00:00",
          "2013-06-05T00:00:00",
          "2013-06-06T00:00:00",
          "2013-06-07T00:00:00",
          "2013-06-08T00:00:00",
          "2013-06-09T00:00:00",
          "2013-06-10T00:00:00",
          "2013-06-11T00:00:00",
          "2013-06-12T00:00:00",
          "2013-06-13T00:00:00",
          "2013-06-14T00:00:00",
          "2013-06-15T00:00:00",
          "2013-06-16T00:00:00",
          "2013-06-17T00:00:00",
          "2013-06-18T00:00:00",
          "2013-06-19T00:00:00",
          "2013-06-20T00:00:00",
          "2013-06-21T00:00:00",
          "2013-06-22T00:00:00",
          "2013-06-23T00:00:00",
          "2013-06-24T00:00:00",
          "2013-06-25T00:00:00",
          "2013-06-26T00:00:00",
          "2013-06-27T00:00:00",
          "2013-06-28T00:00:00",
          "2013-06-29T00:00:00",
          "2013-06-30T00:00:00",
          "2013-07-01T00:00:00",
          "2013-07-02T00:00:00",
          "2013-07-03T00:00:00",
          "2013-07-04T00:00:00",
          "2013-07-05T00:00:00",
          "2013-07-06T00:00:00",
          "2013-07-07T00:00:00",
          "2013-07-08T00:00:00",
          "2013-07-09T00:00:00",
          "2013-07-10T00:00:00",
          "2013-07-11T00:00:00",
          "2013-07-12T00:00:00",
          "2013-07-13T00:00:00",
          "2013-07-14T00:00:00",
          "2013-07-15T00:00:00",
          "2013-07-16T00:00:00",
          "2013-07-17T00:00:00",
          "2013-07-18T00:00:00",
          "2013-07-19T00:00:00",
          "2013-07-20T00:00:00",
          "2013-07-21T00:00:00",
          "2013-07-22T00:00:00",
          "2013-07-23T00:00:00",
          "2013-07-24T00:00:00",
          "2013-07-25T00:00:00",
          "2013-07-26T00:00:00",
          "2013-07-27T00:00:00",
          "2013-07-28T00:00:00",
          "2013-07-29T00:00:00",
          "2013-07-30T00:00:00",
          "2013-07-31T00:00:00",
          "2013-08-01T00:00:00",
          "2013-08-02T00:00:00",
          "2013-08-03T00:00:00",
          "2013-08-04T00:00:00",
          "2013-08-05T00:00:00",
          "2013-08-06T00:00:00",
          "2013-08-07T00:00:00",
          "2013-08-08T00:00:00",
          "2013-08-09T00:00:00",
          "2013-08-10T00:00:00",
          "2013-08-11T00:00:00",
          "2013-08-12T00:00:00",
          "2013-08-13T00:00:00",
          "2013-08-14T00:00:00",
          "2013-08-15T00:00:00",
          "2013-08-16T00:00:00",
          "2013-08-17T00:00:00",
          "2013-08-18T00:00:00",
          "2013-08-19T00:00:00",
          "2013-08-20T00:00:00",
          "2013-08-21T00:00:00",
          "2013-08-22T00:00:00",
          "2013-08-23T00:00:00",
          "2013-08-24T00:00:00",
          "2013-08-25T00:00:00",
          "2013-08-26T00:00:00",
          "2013-08-27T00:00:00",
          "2013-08-28T00:00:00",
          "2013-08-29T00:00:00",
          "2013-08-30T00:00:00",
          "2013-08-31T00:00:00",
          "2013-09-01T00:00:00",
          "2013-09-02T00:00:00",
          "2013-09-03T00:00:00",
          "2013-09-04T00:00:00",
          "2013-09-05T00:00:00",
          "2013-09-06T00:00:00",
          "2013-09-07T00:00:00",
          "2013-09-08T00:00:00",
          "2013-09-09T00:00:00",
          "2013-09-10T00:00:00",
          "2013-09-11T00:00:00",
          "2013-09-12T00:00:00",
          "2013-09-13T00:00:00",
          "2013-09-14T00:00:00",
          "2013-09-15T00:00:00",
          "2013-09-16T00:00:00",
          "2013-09-17T00:00:00",
          "2013-09-18T00:00:00",
          "2013-09-19T00:00:00",
          "2013-09-20T00:00:00",
          "2013-09-21T00:00:00",
          "2013-09-22T00:00:00",
          "2013-09-23T00:00:00",
          "2013-09-24T00:00:00",
          "2013-09-25T00:00:00",
          "2013-09-26T00:00:00",
          "2013-09-27T00:00:00",
          "2013-09-28T00:00:00",
          "2013-09-29T00:00:00",
          "2013-09-30T00:00:00",
          "2013-10-01T00:00:00",
          "2013-10-02T00:00:00",
          "2013-10-03T00:00:00",
          "2013-10-04T00:00:00",
          "2013-10-05T00:00:00",
          "2013-10-06T00:00:00",
          "2013-10-07T00:00:00",
          "2013-10-08T00:00:00",
          "2013-10-09T00:00:00",
          "2013-10-10T00:00:00",
          "2013-10-11T00:00:00",
          "2013-10-12T00:00:00",
          "2013-10-13T00:00:00",
          "2013-10-14T00:00:00",
          "2013-10-15T00:00:00",
          "2013-10-16T00:00:00",
          "2013-10-17T00:00:00",
          "2013-10-18T00:00:00",
          "2013-10-19T00:00:00",
          "2013-10-20T00:00:00",
          "2013-10-21T00:00:00",
          "2013-10-22T00:00:00",
          "2013-10-23T00:00:00",
          "2013-10-24T00:00:00",
          "2013-10-25T00:00:00",
          "2013-10-26T00:00:00",
          "2013-10-27T00:00:00",
          "2013-10-28T00:00:00",
          "2013-10-29T00:00:00",
          "2013-10-30T00:00:00",
          "2013-10-31T00:00:00",
          "2013-11-01T00:00:00",
          "2013-11-02T00:00:00",
          "2013-11-03T00:00:00",
          "2013-11-04T00:00:00",
          "2013-11-05T00:00:00",
          "2013-11-06T00:00:00",
          "2013-11-07T00:00:00",
          "2013-11-08T00:00:00",
          "2013-11-09T00:00:00",
          "2013-11-10T00:00:00",
          "2013-11-11T00:00:00",
          "2013-11-12T00:00:00",
          "2013-11-13T00:00:00",
          "2013-11-14T00:00:00",
          "2013-11-15T00:00:00",
          "2013-11-16T00:00:00",
          "2013-11-17T00:00:00",
          "2013-11-18T00:00:00",
          "2013-11-19T00:00:00",
          "2013-11-20T00:00:00",
          "2013-11-21T00:00:00",
          "2013-11-22T00:00:00",
          "2013-11-23T00:00:00",
          "2013-11-24T00:00:00",
          "2013-11-25T00:00:00",
          "2013-11-26T00:00:00",
          "2013-11-27T00:00:00",
          "2013-11-28T00:00:00",
          "2013-11-29T00:00:00",
          "2013-11-30T00:00:00",
          "2013-12-01T00:00:00"
         ],
         "y": [
          110377896,
          434018688,
          854320704,
          226606128,
          1244900608,
          457945056,
          285147680,
          172801728,
          107364584,
          295904128,
          44445804,
          25005346,
          232653504,
          344317024,
          1158453632,
          1455265152,
          291254464,
          518424224,
          97366832,
          24094012,
          88936320,
          72828480,
          98221664,
          583960192,
          470255744,
          68671480,
          45949748,
          60234756,
          119315224,
          55326588,
          50275560,
          425143456,
          347140672,
          115279392,
          35099432,
          143609472,
          387887680,
          82389896,
          83164944,
          207378304,
          556147904,
          1163753088,
          452100928,
          134645856,
          85245896,
          477235328,
          493168320,
          120749776,
          1109365888,
          342283008,
          258699664,
          635635968,
          1932320256,
          458827808,
          215186800,
          217939936,
          258760144,
          227365856,
          72007408,
          147839936,
          1212706048,
          1201731456,
          236004176,
          45625568,
          75129480,
          42411148,
          16640466,
          14538996,
          17843224,
          80535816,
          114773856,
          20863188,
          121692352,
          74441352,
          78574520,
          33922148,
          42622132,
          71832136,
          39650836,
          10961212,
          4668199.5,
          15470319,
          26446600,
          29996514,
          18015326,
          74627928,
          62547256,
          28603376,
          11678408,
          10377268,
          11969915,
          3613310.5,
          59318024,
          22640352,
          6231862,
          19018310,
          38097592,
          10719100,
          16643442,
          701936768,
          595846848,
          1975506304,
          696857344,
          386549984,
          927522752,
          845070464,
          433848416,
          238643904,
          572262848,
          1854022912,
          495901760,
          45825464,
          5052954,
          32499308,
          37455864,
          104752064,
          16414518,
          95394336,
          7232251,
          3740439,
          70093664,
          18652506,
          24614.484375,
          14163231,
          112598664,
          221621200,
          252096608,
          60824196,
          5766585,
          7417907.5,
          33308084,
          42072024,
          7996682,
          12087425,
          91753648,
          9821208,
          423033216,
          61100452,
          8552587,
          2376248.75,
          0,
          427454.59375,
          6629.36767578125,
          8226730.5,
          16526695,
          75195472,
          390649920,
          99361272,
          12303456,
          5484928,
          6905550,
          0,
          0,
          0,
          15925166,
          15856698,
          1341254,
          0,
          0,
          0,
          0,
          0,
          0,
          0,
          0,
          0,
          0,
          0,
          0,
          0,
          0,
          0,
          0,
          0,
          0,
          2475.29833984375,
          141211824,
          16029506,
          15415221,
          86698.9765625,
          0,
          5765242,
          520251.28125,
          28819550
         ]
        },
        {
         "mode": "lines",
         "name": "act_irrPaddyDemand",
         "type": "scatter",
         "x": [
          "2013-06-01T00:00:00",
          "2013-06-02T00:00:00",
          "2013-06-03T00:00:00",
          "2013-06-04T00:00:00",
          "2013-06-05T00:00:00",
          "2013-06-06T00:00:00",
          "2013-06-07T00:00:00",
          "2013-06-08T00:00:00",
          "2013-06-09T00:00:00",
          "2013-06-10T00:00:00",
          "2013-06-11T00:00:00",
          "2013-06-12T00:00:00",
          "2013-06-13T00:00:00",
          "2013-06-14T00:00:00",
          "2013-06-15T00:00:00",
          "2013-06-16T00:00:00",
          "2013-06-17T00:00:00",
          "2013-06-18T00:00:00",
          "2013-06-19T00:00:00",
          "2013-06-20T00:00:00",
          "2013-06-21T00:00:00",
          "2013-06-22T00:00:00",
          "2013-06-23T00:00:00",
          "2013-06-24T00:00:00",
          "2013-06-25T00:00:00",
          "2013-06-26T00:00:00",
          "2013-06-27T00:00:00",
          "2013-06-28T00:00:00",
          "2013-06-29T00:00:00",
          "2013-06-30T00:00:00",
          "2013-07-01T00:00:00",
          "2013-07-02T00:00:00",
          "2013-07-03T00:00:00",
          "2013-07-04T00:00:00",
          "2013-07-05T00:00:00",
          "2013-07-06T00:00:00",
          "2013-07-07T00:00:00",
          "2013-07-08T00:00:00",
          "2013-07-09T00:00:00",
          "2013-07-10T00:00:00",
          "2013-07-11T00:00:00",
          "2013-07-12T00:00:00",
          "2013-07-13T00:00:00",
          "2013-07-14T00:00:00",
          "2013-07-15T00:00:00",
          "2013-07-16T00:00:00",
          "2013-07-17T00:00:00",
          "2013-07-18T00:00:00",
          "2013-07-19T00:00:00",
          "2013-07-20T00:00:00",
          "2013-07-21T00:00:00",
          "2013-07-22T00:00:00",
          "2013-07-23T00:00:00",
          "2013-07-24T00:00:00",
          "2013-07-25T00:00:00",
          "2013-07-26T00:00:00",
          "2013-07-27T00:00:00",
          "2013-07-28T00:00:00",
          "2013-07-29T00:00:00",
          "2013-07-30T00:00:00",
          "2013-07-31T00:00:00",
          "2013-08-01T00:00:00",
          "2013-08-02T00:00:00",
          "2013-08-03T00:00:00",
          "2013-08-04T00:00:00",
          "2013-08-05T00:00:00",
          "2013-08-06T00:00:00",
          "2013-08-07T00:00:00",
          "2013-08-08T00:00:00",
          "2013-08-09T00:00:00",
          "2013-08-10T00:00:00",
          "2013-08-11T00:00:00",
          "2013-08-12T00:00:00",
          "2013-08-13T00:00:00",
          "2013-08-14T00:00:00",
          "2013-08-15T00:00:00",
          "2013-08-16T00:00:00",
          "2013-08-17T00:00:00",
          "2013-08-18T00:00:00",
          "2013-08-19T00:00:00",
          "2013-08-20T00:00:00",
          "2013-08-21T00:00:00",
          "2013-08-22T00:00:00",
          "2013-08-23T00:00:00",
          "2013-08-24T00:00:00",
          "2013-08-25T00:00:00",
          "2013-08-26T00:00:00",
          "2013-08-27T00:00:00",
          "2013-08-28T00:00:00",
          "2013-08-29T00:00:00",
          "2013-08-30T00:00:00",
          "2013-08-31T00:00:00",
          "2013-09-01T00:00:00",
          "2013-09-02T00:00:00",
          "2013-09-03T00:00:00",
          "2013-09-04T00:00:00",
          "2013-09-05T00:00:00",
          "2013-09-06T00:00:00",
          "2013-09-07T00:00:00",
          "2013-09-08T00:00:00",
          "2013-09-09T00:00:00",
          "2013-09-10T00:00:00",
          "2013-09-11T00:00:00",
          "2013-09-12T00:00:00",
          "2013-09-13T00:00:00",
          "2013-09-14T00:00:00",
          "2013-09-15T00:00:00",
          "2013-09-16T00:00:00",
          "2013-09-17T00:00:00",
          "2013-09-18T00:00:00",
          "2013-09-19T00:00:00",
          "2013-09-20T00:00:00",
          "2013-09-21T00:00:00",
          "2013-09-22T00:00:00",
          "2013-09-23T00:00:00",
          "2013-09-24T00:00:00",
          "2013-09-25T00:00:00",
          "2013-09-26T00:00:00",
          "2013-09-27T00:00:00",
          "2013-09-28T00:00:00",
          "2013-09-29T00:00:00",
          "2013-09-30T00:00:00",
          "2013-10-01T00:00:00",
          "2013-10-02T00:00:00",
          "2013-10-03T00:00:00",
          "2013-10-04T00:00:00",
          "2013-10-05T00:00:00",
          "2013-10-06T00:00:00",
          "2013-10-07T00:00:00",
          "2013-10-08T00:00:00",
          "2013-10-09T00:00:00",
          "2013-10-10T00:00:00",
          "2013-10-11T00:00:00",
          "2013-10-12T00:00:00",
          "2013-10-13T00:00:00",
          "2013-10-14T00:00:00",
          "2013-10-15T00:00:00",
          "2013-10-16T00:00:00",
          "2013-10-17T00:00:00",
          "2013-10-18T00:00:00",
          "2013-10-19T00:00:00",
          "2013-10-20T00:00:00",
          "2013-10-21T00:00:00",
          "2013-10-22T00:00:00",
          "2013-10-23T00:00:00",
          "2013-10-24T00:00:00",
          "2013-10-25T00:00:00",
          "2013-10-26T00:00:00",
          "2013-10-27T00:00:00",
          "2013-10-28T00:00:00",
          "2013-10-29T00:00:00",
          "2013-10-30T00:00:00",
          "2013-10-31T00:00:00",
          "2013-11-01T00:00:00",
          "2013-11-02T00:00:00",
          "2013-11-03T00:00:00",
          "2013-11-04T00:00:00",
          "2013-11-05T00:00:00",
          "2013-11-06T00:00:00",
          "2013-11-07T00:00:00",
          "2013-11-08T00:00:00",
          "2013-11-09T00:00:00",
          "2013-11-10T00:00:00",
          "2013-11-11T00:00:00",
          "2013-11-12T00:00:00",
          "2013-11-13T00:00:00",
          "2013-11-14T00:00:00",
          "2013-11-15T00:00:00",
          "2013-11-16T00:00:00",
          "2013-11-17T00:00:00",
          "2013-11-18T00:00:00",
          "2013-11-19T00:00:00",
          "2013-11-20T00:00:00",
          "2013-11-21T00:00:00",
          "2013-11-22T00:00:00",
          "2013-11-23T00:00:00",
          "2013-11-24T00:00:00",
          "2013-11-25T00:00:00",
          "2013-11-26T00:00:00",
          "2013-11-27T00:00:00",
          "2013-11-28T00:00:00",
          "2013-11-29T00:00:00",
          "2013-11-30T00:00:00",
          "2013-12-01T00:00:00"
         ],
         "y": [
          0,
          0,
          0,
          0,
          0,
          0,
          0,
          0,
          0,
          0,
          0,
          0,
          0,
          0,
          0,
          0,
          0,
          0,
          0,
          0,
          0,
          0,
          0,
          0,
          0,
          0,
          0,
          0,
          0,
          0,
          67548352,
          48425568,
          44969488,
          43615660,
          42266112,
          40980008,
          36171540,
          38613652,
          36699436,
          35057500,
          26331452,
          19169530,
          23757110,
          26721922,
          29753812,
          22433896,
          20311260,
          24413390,
          13621401,
          19435814,
          18828674,
          18949284,
          7323750.5,
          12400779,
          14510692,
          16416188,
          15421634,
          17398494,
          18697848,
          20218214,
          9248971,
          8541917,
          11224265,
          13553410,
          16673073,
          18706974,
          20615580,
          19636310,
          22418236,
          23533092,
          22826806,
          23857824,
          24007758,
          25979976,
          25364542,
          26950632,
          28317328,
          29310476,
          29291540,
          31157100,
          32767662,
          34233472,
          36241080,
          34950796,
          35654196,
          35557396,
          36377176,
          36359812,
          37894680,
          39073888,
          40136888,
          41028704,
          41950960,
          44192848,
          45390472,
          46085668,
          46343152,
          47731996,
          47834720,
          30427498,
          26950106,
          6156097,
          16724639,
          17574548,
          13312470,
          14603831,
          16138710,
          18824308,
          14443899,
          4610592,
          10399190,
          10885123,
          18463528,
          20346130,
          19845122,
          20967586,
          22999812,
          23126532,
          26228848,
          27552832,
          28371366,
          29310470,
          31320312,
          33268512,
          30953220,
          28736714,
          26706284,
          29395264,
          31682984,
          33257256,
          34580256,
          35337592,
          37102192,
          37330064,
          37704140,
          38874248,
          28513982,
          35379308,
          35953740,
          37288920,
          38252704,
          39916300,
          40416000,
          41422220,
          42763172,
          42692044,
          35794684,
          40106944,
          40315476,
          41449256,
          42109688,
          43257420,
          44192404,
          45081484,
          45356740,
          45148128,
          45443580,
          45552968,
          45961988,
          45170552,
          44893324,
          44440840,
          44533460,
          0,
          0,
          0,
          0,
          0,
          0,
          0,
          0,
          0,
          0,
          0,
          0,
          0,
          0,
          0,
          0,
          0,
          0,
          0,
          0,
          0
         ]
        },
        {
         "mode": "lines",
         "name": "act_irrNonpaddyDemand ",
         "type": "scatter",
         "x": [
          "2013-06-01T00:00:00",
          "2013-06-02T00:00:00",
          "2013-06-03T00:00:00",
          "2013-06-04T00:00:00",
          "2013-06-05T00:00:00",
          "2013-06-06T00:00:00",
          "2013-06-07T00:00:00",
          "2013-06-08T00:00:00",
          "2013-06-09T00:00:00",
          "2013-06-10T00:00:00",
          "2013-06-11T00:00:00",
          "2013-06-12T00:00:00",
          "2013-06-13T00:00:00",
          "2013-06-14T00:00:00",
          "2013-06-15T00:00:00",
          "2013-06-16T00:00:00",
          "2013-06-17T00:00:00",
          "2013-06-18T00:00:00",
          "2013-06-19T00:00:00",
          "2013-06-20T00:00:00",
          "2013-06-21T00:00:00",
          "2013-06-22T00:00:00",
          "2013-06-23T00:00:00",
          "2013-06-24T00:00:00",
          "2013-06-25T00:00:00",
          "2013-06-26T00:00:00",
          "2013-06-27T00:00:00",
          "2013-06-28T00:00:00",
          "2013-06-29T00:00:00",
          "2013-06-30T00:00:00",
          "2013-07-01T00:00:00",
          "2013-07-02T00:00:00",
          "2013-07-03T00:00:00",
          "2013-07-04T00:00:00",
          "2013-07-05T00:00:00",
          "2013-07-06T00:00:00",
          "2013-07-07T00:00:00",
          "2013-07-08T00:00:00",
          "2013-07-09T00:00:00",
          "2013-07-10T00:00:00",
          "2013-07-11T00:00:00",
          "2013-07-12T00:00:00",
          "2013-07-13T00:00:00",
          "2013-07-14T00:00:00",
          "2013-07-15T00:00:00",
          "2013-07-16T00:00:00",
          "2013-07-17T00:00:00",
          "2013-07-18T00:00:00",
          "2013-07-19T00:00:00",
          "2013-07-20T00:00:00",
          "2013-07-21T00:00:00",
          "2013-07-22T00:00:00",
          "2013-07-23T00:00:00",
          "2013-07-24T00:00:00",
          "2013-07-25T00:00:00",
          "2013-07-26T00:00:00",
          "2013-07-27T00:00:00",
          "2013-07-28T00:00:00",
          "2013-07-29T00:00:00",
          "2013-07-30T00:00:00",
          "2013-07-31T00:00:00",
          "2013-08-01T00:00:00",
          "2013-08-02T00:00:00",
          "2013-08-03T00:00:00",
          "2013-08-04T00:00:00",
          "2013-08-05T00:00:00",
          "2013-08-06T00:00:00",
          "2013-08-07T00:00:00",
          "2013-08-08T00:00:00",
          "2013-08-09T00:00:00",
          "2013-08-10T00:00:00",
          "2013-08-11T00:00:00",
          "2013-08-12T00:00:00",
          "2013-08-13T00:00:00",
          "2013-08-14T00:00:00",
          "2013-08-15T00:00:00",
          "2013-08-16T00:00:00",
          "2013-08-17T00:00:00",
          "2013-08-18T00:00:00",
          "2013-08-19T00:00:00",
          "2013-08-20T00:00:00",
          "2013-08-21T00:00:00",
          "2013-08-22T00:00:00",
          "2013-08-23T00:00:00",
          "2013-08-24T00:00:00",
          "2013-08-25T00:00:00",
          "2013-08-26T00:00:00",
          "2013-08-27T00:00:00",
          "2013-08-28T00:00:00",
          "2013-08-29T00:00:00",
          "2013-08-30T00:00:00",
          "2013-08-31T00:00:00",
          "2013-09-01T00:00:00",
          "2013-09-02T00:00:00",
          "2013-09-03T00:00:00",
          "2013-09-04T00:00:00",
          "2013-09-05T00:00:00",
          "2013-09-06T00:00:00",
          "2013-09-07T00:00:00",
          "2013-09-08T00:00:00",
          "2013-09-09T00:00:00",
          "2013-09-10T00:00:00",
          "2013-09-11T00:00:00",
          "2013-09-12T00:00:00",
          "2013-09-13T00:00:00",
          "2013-09-14T00:00:00",
          "2013-09-15T00:00:00",
          "2013-09-16T00:00:00",
          "2013-09-17T00:00:00",
          "2013-09-18T00:00:00",
          "2013-09-19T00:00:00",
          "2013-09-20T00:00:00",
          "2013-09-21T00:00:00",
          "2013-09-22T00:00:00",
          "2013-09-23T00:00:00",
          "2013-09-24T00:00:00",
          "2013-09-25T00:00:00",
          "2013-09-26T00:00:00",
          "2013-09-27T00:00:00",
          "2013-09-28T00:00:00",
          "2013-09-29T00:00:00",
          "2013-09-30T00:00:00",
          "2013-10-01T00:00:00",
          "2013-10-02T00:00:00",
          "2013-10-03T00:00:00",
          "2013-10-04T00:00:00",
          "2013-10-05T00:00:00",
          "2013-10-06T00:00:00",
          "2013-10-07T00:00:00",
          "2013-10-08T00:00:00",
          "2013-10-09T00:00:00",
          "2013-10-10T00:00:00",
          "2013-10-11T00:00:00",
          "2013-10-12T00:00:00",
          "2013-10-13T00:00:00",
          "2013-10-14T00:00:00",
          "2013-10-15T00:00:00",
          "2013-10-16T00:00:00",
          "2013-10-17T00:00:00",
          "2013-10-18T00:00:00",
          "2013-10-19T00:00:00",
          "2013-10-20T00:00:00",
          "2013-10-21T00:00:00",
          "2013-10-22T00:00:00",
          "2013-10-23T00:00:00",
          "2013-10-24T00:00:00",
          "2013-10-25T00:00:00",
          "2013-10-26T00:00:00",
          "2013-10-27T00:00:00",
          "2013-10-28T00:00:00",
          "2013-10-29T00:00:00",
          "2013-10-30T00:00:00",
          "2013-10-31T00:00:00",
          "2013-11-01T00:00:00",
          "2013-11-02T00:00:00",
          "2013-11-03T00:00:00",
          "2013-11-04T00:00:00",
          "2013-11-05T00:00:00",
          "2013-11-06T00:00:00",
          "2013-11-07T00:00:00",
          "2013-11-08T00:00:00",
          "2013-11-09T00:00:00",
          "2013-11-10T00:00:00",
          "2013-11-11T00:00:00",
          "2013-11-12T00:00:00",
          "2013-11-13T00:00:00",
          "2013-11-14T00:00:00",
          "2013-11-15T00:00:00",
          "2013-11-16T00:00:00",
          "2013-11-17T00:00:00",
          "2013-11-18T00:00:00",
          "2013-11-19T00:00:00",
          "2013-11-20T00:00:00",
          "2013-11-21T00:00:00",
          "2013-11-22T00:00:00",
          "2013-11-23T00:00:00",
          "2013-11-24T00:00:00",
          "2013-11-25T00:00:00",
          "2013-11-26T00:00:00",
          "2013-11-27T00:00:00",
          "2013-11-28T00:00:00",
          "2013-11-29T00:00:00",
          "2013-11-30T00:00:00",
          "2013-12-01T00:00:00"
         ],
         "y": [
          3059523.5,
          26583.84375,
          0,
          0,
          62928.08984375,
          0,
          0,
          0,
          0,
          0,
          0,
          0,
          0,
          0,
          0,
          0,
          0,
          0,
          0,
          0,
          0,
          0,
          0,
          0,
          0,
          0,
          0,
          0,
          0,
          0,
          317697.5,
          7131778,
          9889.1767578125,
          10446474,
          13684396,
          1634737.375,
          5031919.5,
          610736.6875,
          4172534,
          207188.765625,
          0,
          0,
          630110.25,
          4623691.5,
          0,
          0,
          0,
          0,
          0,
          0,
          280194.9375,
          0,
          0,
          0,
          0,
          0,
          110674.0546875,
          111485.4765625,
          2107755.75,
          673462.5,
          0,
          0,
          0,
          463594.4375,
          1161603.75,
          549087.6875,
          0,
          248096.59375,
          1296610.375,
          194621.59375,
          200024.71875,
          1969574.25,
          3023327,
          121141.953125,
          2347571.75,
          5927216,
          3296286.25,
          1721643.625,
          7340634.5,
          13761717,
          22636002,
          37964948,
          1925306.875,
          7995902,
          41764716,
          15384775,
          3519890,
          18059816,
          42731320,
          67567664,
          56844804,
          89298680,
          62693968,
          56218596,
          57806300,
          60370644,
          65451096,
          51148212,
          67163904,
          18765820,
          2919982.5,
          297698,
          607222.625,
          2435770.75,
          4153769,
          2224145.5,
          1025445.6875,
          689448.9375,
          107565.984375,
          322539.125,
          0,
          1407929.875,
          951432.1875,
          52034.26171875,
          138809.296875,
          658234.625,
          89412.765625,
          932503.0625,
          1109698.375,
          1343402.25,
          631552.625,
          3055125,
          232994.6875,
          239355.015625,
          90413.390625,
          389.68963623046875,
          53283.140625,
          147291.15625,
          169604.453125,
          233082.09375,
          377698.8125,
          422219.15625,
          220163.046875,
          380069.03125,
          673206.625,
          904841.4375,
          693905.6875,
          338286.5,
          550488.1875,
          559690.4375,
          2386325,
          1273244.25,
          3135491.5,
          5412178.5,
          2171563.5,
          2359305.5,
          1149728,
          967850.375,
          1206833.875,
          1521930,
          3043438.5,
          5291975,
          7250048.5,
          763316.625,
          301069.9375,
          420733.71875,
          568586.5625,
          1467874.375,
          445144.09375,
          665389.9375,
          391436.40625,
          808003.5625,
          1954091.625,
          1885227.5,
          1870807.625,
          1557177.875,
          2708588.75,
          4468485,
          5601699,
          7617761.5,
          4746542,
          4965298.5,
          2011496,
          2217109.5,
          4722686.5,
          2857885.25,
          1420795.625,
          1655269.375,
          1657370.125,
          3191337.75,
          21510646,
          6741565,
          392853.8125,
          32905560
         ]
        },
        {
         "mode": "lines",
         "name": "act_irrWithdrawal",
         "type": "scatter",
         "x": [
          "2013-06-01T00:00:00",
          "2013-06-02T00:00:00",
          "2013-06-03T00:00:00",
          "2013-06-04T00:00:00",
          "2013-06-05T00:00:00",
          "2013-06-06T00:00:00",
          "2013-06-07T00:00:00",
          "2013-06-08T00:00:00",
          "2013-06-09T00:00:00",
          "2013-06-10T00:00:00",
          "2013-06-11T00:00:00",
          "2013-06-12T00:00:00",
          "2013-06-13T00:00:00",
          "2013-06-14T00:00:00",
          "2013-06-15T00:00:00",
          "2013-06-16T00:00:00",
          "2013-06-17T00:00:00",
          "2013-06-18T00:00:00",
          "2013-06-19T00:00:00",
          "2013-06-20T00:00:00",
          "2013-06-21T00:00:00",
          "2013-06-22T00:00:00",
          "2013-06-23T00:00:00",
          "2013-06-24T00:00:00",
          "2013-06-25T00:00:00",
          "2013-06-26T00:00:00",
          "2013-06-27T00:00:00",
          "2013-06-28T00:00:00",
          "2013-06-29T00:00:00",
          "2013-06-30T00:00:00",
          "2013-07-01T00:00:00",
          "2013-07-02T00:00:00",
          "2013-07-03T00:00:00",
          "2013-07-04T00:00:00",
          "2013-07-05T00:00:00",
          "2013-07-06T00:00:00",
          "2013-07-07T00:00:00",
          "2013-07-08T00:00:00",
          "2013-07-09T00:00:00",
          "2013-07-10T00:00:00",
          "2013-07-11T00:00:00",
          "2013-07-12T00:00:00",
          "2013-07-13T00:00:00",
          "2013-07-14T00:00:00",
          "2013-07-15T00:00:00",
          "2013-07-16T00:00:00",
          "2013-07-17T00:00:00",
          "2013-07-18T00:00:00",
          "2013-07-19T00:00:00",
          "2013-07-20T00:00:00",
          "2013-07-21T00:00:00",
          "2013-07-22T00:00:00",
          "2013-07-23T00:00:00",
          "2013-07-24T00:00:00",
          "2013-07-25T00:00:00",
          "2013-07-26T00:00:00",
          "2013-07-27T00:00:00",
          "2013-07-28T00:00:00",
          "2013-07-29T00:00:00",
          "2013-07-30T00:00:00",
          "2013-07-31T00:00:00",
          "2013-08-01T00:00:00",
          "2013-08-02T00:00:00",
          "2013-08-03T00:00:00",
          "2013-08-04T00:00:00",
          "2013-08-05T00:00:00",
          "2013-08-06T00:00:00",
          "2013-08-07T00:00:00",
          "2013-08-08T00:00:00",
          "2013-08-09T00:00:00",
          "2013-08-10T00:00:00",
          "2013-08-11T00:00:00",
          "2013-08-12T00:00:00",
          "2013-08-13T00:00:00",
          "2013-08-14T00:00:00",
          "2013-08-15T00:00:00",
          "2013-08-16T00:00:00",
          "2013-08-17T00:00:00",
          "2013-08-18T00:00:00",
          "2013-08-19T00:00:00",
          "2013-08-20T00:00:00",
          "2013-08-21T00:00:00",
          "2013-08-22T00:00:00",
          "2013-08-23T00:00:00",
          "2013-08-24T00:00:00",
          "2013-08-25T00:00:00",
          "2013-08-26T00:00:00",
          "2013-08-27T00:00:00",
          "2013-08-28T00:00:00",
          "2013-08-29T00:00:00",
          "2013-08-30T00:00:00",
          "2013-08-31T00:00:00",
          "2013-09-01T00:00:00",
          "2013-09-02T00:00:00",
          "2013-09-03T00:00:00",
          "2013-09-04T00:00:00",
          "2013-09-05T00:00:00",
          "2013-09-06T00:00:00",
          "2013-09-07T00:00:00",
          "2013-09-08T00:00:00",
          "2013-09-09T00:00:00",
          "2013-09-10T00:00:00",
          "2013-09-11T00:00:00",
          "2013-09-12T00:00:00",
          "2013-09-13T00:00:00",
          "2013-09-14T00:00:00",
          "2013-09-15T00:00:00",
          "2013-09-16T00:00:00",
          "2013-09-17T00:00:00",
          "2013-09-18T00:00:00",
          "2013-09-19T00:00:00",
          "2013-09-20T00:00:00",
          "2013-09-21T00:00:00",
          "2013-09-22T00:00:00",
          "2013-09-23T00:00:00",
          "2013-09-24T00:00:00",
          "2013-09-25T00:00:00",
          "2013-09-26T00:00:00",
          "2013-09-27T00:00:00",
          "2013-09-28T00:00:00",
          "2013-09-29T00:00:00",
          "2013-09-30T00:00:00",
          "2013-10-01T00:00:00",
          "2013-10-02T00:00:00",
          "2013-10-03T00:00:00",
          "2013-10-04T00:00:00",
          "2013-10-05T00:00:00",
          "2013-10-06T00:00:00",
          "2013-10-07T00:00:00",
          "2013-10-08T00:00:00",
          "2013-10-09T00:00:00",
          "2013-10-10T00:00:00",
          "2013-10-11T00:00:00",
          "2013-10-12T00:00:00",
          "2013-10-13T00:00:00",
          "2013-10-14T00:00:00",
          "2013-10-15T00:00:00",
          "2013-10-16T00:00:00",
          "2013-10-17T00:00:00",
          "2013-10-18T00:00:00",
          "2013-10-19T00:00:00",
          "2013-10-20T00:00:00",
          "2013-10-21T00:00:00",
          "2013-10-22T00:00:00",
          "2013-10-23T00:00:00",
          "2013-10-24T00:00:00",
          "2013-10-25T00:00:00",
          "2013-10-26T00:00:00",
          "2013-10-27T00:00:00",
          "2013-10-28T00:00:00",
          "2013-10-29T00:00:00",
          "2013-10-30T00:00:00",
          "2013-10-31T00:00:00",
          "2013-11-01T00:00:00",
          "2013-11-02T00:00:00",
          "2013-11-03T00:00:00",
          "2013-11-04T00:00:00",
          "2013-11-05T00:00:00",
          "2013-11-06T00:00:00",
          "2013-11-07T00:00:00",
          "2013-11-08T00:00:00",
          "2013-11-09T00:00:00",
          "2013-11-10T00:00:00",
          "2013-11-11T00:00:00",
          "2013-11-12T00:00:00",
          "2013-11-13T00:00:00",
          "2013-11-14T00:00:00",
          "2013-11-15T00:00:00",
          "2013-11-16T00:00:00",
          "2013-11-17T00:00:00",
          "2013-11-18T00:00:00",
          "2013-11-19T00:00:00",
          "2013-11-20T00:00:00",
          "2013-11-21T00:00:00",
          "2013-11-22T00:00:00",
          "2013-11-23T00:00:00",
          "2013-11-24T00:00:00",
          "2013-11-25T00:00:00",
          "2013-11-26T00:00:00",
          "2013-11-27T00:00:00",
          "2013-11-28T00:00:00",
          "2013-11-29T00:00:00",
          "2013-11-30T00:00:00",
          "2013-12-01T00:00:00"
         ],
         "y": [
          1384361.375,
          939.4356689453125,
          0,
          0,
          6158.2666015625,
          0,
          0,
          0,
          0,
          0,
          0,
          0,
          0,
          0,
          0,
          0,
          0,
          0,
          0,
          0,
          0,
          0,
          0,
          0,
          0,
          0,
          0,
          0,
          0,
          0,
          30794976,
          19494286,
          19228840,
          17454894,
          14633386,
          12194511,
          9699267,
          11251633,
          9121194,
          8240197.5,
          4862832,
          4653292,
          7741937,
          7766174,
          9122114,
          4774499,
          4996579.5,
          6770129,
          1844814.375,
          6757254,
          4690276,
          4984473.5,
          1001466.25,
          5063237.5,
          4363434.5,
          5474496.5,
          4329351.5,
          5661104,
          5948195.5,
          6535316.5,
          914584.4375,
          2584614.75,
          3086312.25,
          4239215.5,
          6266754,
          6931312,
          7330542,
          5586177.5,
          6986478,
          6834817,
          5904170,
          6301984.5,
          6092951,
          7006703,
          6005823.5,
          6959885,
          7066366.5,
          7085386,
          6931626.5,
          8194275.5,
          9099101,
          10535785,
          8390681,
          7222865.5,
          9575451,
          7630327,
          7455562,
          7368236.5,
          9668813,
          13149126,
          11008651,
          15173275,
          14587769,
          12309656,
          12746131,
          11674711,
          13443637,
          10768729,
          12736148,
          3632216.5,
          5684527.5,
          925111.875,
          7904202.5,
          3694303.5,
          1868846,
          3733267.75,
          4495853,
          4939038,
          2235398.25,
          865937,
          5044097,
          2374659.75,
          7672797,
          7141356,
          5866422,
          5804723.5,
          6673660,
          5669787.5,
          7329209,
          6848739,
          6823938,
          6795226,
          7476257,
          7743834,
          6435024.5,
          5684468,
          5163813.5,
          6593031,
          7517989,
          7635899.5,
          7913830.5,
          7698898,
          8411030,
          7679079.5,
          7630260,
          7963190.5,
          3880143.75,
          8298993.5,
          7432062,
          7724648,
          7963856.5,
          8493261,
          8297619,
          8395061,
          8647168,
          8100196,
          5551434,
          8115569.5,
          7252424.5,
          7616743.5,
          7637418,
          8046991,
          8330670,
          8235882,
          7952324,
          7684624.5,
          8162924.5,
          8405485,
          8909771,
          8456258,
          8448210,
          8060279,
          8056358.5,
          12616.7509765625,
          17274.201171875,
          14254.9189453125,
          91715.078125,
          404512.40625,
          503138.625,
          711360.8125,
          129153.7265625,
          122998.9453125,
          8873.990234375,
          14712.1552734375,
          207024.53125,
          51828.296875,
          3545.976318359375,
          7282.17529296875,
          6304.81103515625,
          143112.046875,
          4741931,
          254381.9375,
          828.1972045898438,
          4866315
         ]
        },
        {
         "mode": "lines",
         "name": "act_nonIrrWithdrawal",
         "type": "scatter",
         "x": [
          "2013-06-01T00:00:00",
          "2013-06-02T00:00:00",
          "2013-06-03T00:00:00",
          "2013-06-04T00:00:00",
          "2013-06-05T00:00:00",
          "2013-06-06T00:00:00",
          "2013-06-07T00:00:00",
          "2013-06-08T00:00:00",
          "2013-06-09T00:00:00",
          "2013-06-10T00:00:00",
          "2013-06-11T00:00:00",
          "2013-06-12T00:00:00",
          "2013-06-13T00:00:00",
          "2013-06-14T00:00:00",
          "2013-06-15T00:00:00",
          "2013-06-16T00:00:00",
          "2013-06-17T00:00:00",
          "2013-06-18T00:00:00",
          "2013-06-19T00:00:00",
          "2013-06-20T00:00:00",
          "2013-06-21T00:00:00",
          "2013-06-22T00:00:00",
          "2013-06-23T00:00:00",
          "2013-06-24T00:00:00",
          "2013-06-25T00:00:00",
          "2013-06-26T00:00:00",
          "2013-06-27T00:00:00",
          "2013-06-28T00:00:00",
          "2013-06-29T00:00:00",
          "2013-06-30T00:00:00",
          "2013-07-01T00:00:00",
          "2013-07-02T00:00:00",
          "2013-07-03T00:00:00",
          "2013-07-04T00:00:00",
          "2013-07-05T00:00:00",
          "2013-07-06T00:00:00",
          "2013-07-07T00:00:00",
          "2013-07-08T00:00:00",
          "2013-07-09T00:00:00",
          "2013-07-10T00:00:00",
          "2013-07-11T00:00:00",
          "2013-07-12T00:00:00",
          "2013-07-13T00:00:00",
          "2013-07-14T00:00:00",
          "2013-07-15T00:00:00",
          "2013-07-16T00:00:00",
          "2013-07-17T00:00:00",
          "2013-07-18T00:00:00",
          "2013-07-19T00:00:00",
          "2013-07-20T00:00:00",
          "2013-07-21T00:00:00",
          "2013-07-22T00:00:00",
          "2013-07-23T00:00:00",
          "2013-07-24T00:00:00",
          "2013-07-25T00:00:00",
          "2013-07-26T00:00:00",
          "2013-07-27T00:00:00",
          "2013-07-28T00:00:00",
          "2013-07-29T00:00:00",
          "2013-07-30T00:00:00",
          "2013-07-31T00:00:00",
          "2013-08-01T00:00:00",
          "2013-08-02T00:00:00",
          "2013-08-03T00:00:00",
          "2013-08-04T00:00:00",
          "2013-08-05T00:00:00",
          "2013-08-06T00:00:00",
          "2013-08-07T00:00:00",
          "2013-08-08T00:00:00",
          "2013-08-09T00:00:00",
          "2013-08-10T00:00:00",
          "2013-08-11T00:00:00",
          "2013-08-12T00:00:00",
          "2013-08-13T00:00:00",
          "2013-08-14T00:00:00",
          "2013-08-15T00:00:00",
          "2013-08-16T00:00:00",
          "2013-08-17T00:00:00",
          "2013-08-18T00:00:00",
          "2013-08-19T00:00:00",
          "2013-08-20T00:00:00",
          "2013-08-21T00:00:00",
          "2013-08-22T00:00:00",
          "2013-08-23T00:00:00",
          "2013-08-24T00:00:00",
          "2013-08-25T00:00:00",
          "2013-08-26T00:00:00",
          "2013-08-27T00:00:00",
          "2013-08-28T00:00:00",
          "2013-08-29T00:00:00",
          "2013-08-30T00:00:00",
          "2013-08-31T00:00:00",
          "2013-09-01T00:00:00",
          "2013-09-02T00:00:00",
          "2013-09-03T00:00:00",
          "2013-09-04T00:00:00",
          "2013-09-05T00:00:00",
          "2013-09-06T00:00:00",
          "2013-09-07T00:00:00",
          "2013-09-08T00:00:00",
          "2013-09-09T00:00:00",
          "2013-09-10T00:00:00",
          "2013-09-11T00:00:00",
          "2013-09-12T00:00:00",
          "2013-09-13T00:00:00",
          "2013-09-14T00:00:00",
          "2013-09-15T00:00:00",
          "2013-09-16T00:00:00",
          "2013-09-17T00:00:00",
          "2013-09-18T00:00:00",
          "2013-09-19T00:00:00",
          "2013-09-20T00:00:00",
          "2013-09-21T00:00:00",
          "2013-09-22T00:00:00",
          "2013-09-23T00:00:00",
          "2013-09-24T00:00:00",
          "2013-09-25T00:00:00",
          "2013-09-26T00:00:00",
          "2013-09-27T00:00:00",
          "2013-09-28T00:00:00",
          "2013-09-29T00:00:00",
          "2013-09-30T00:00:00",
          "2013-10-01T00:00:00",
          "2013-10-02T00:00:00",
          "2013-10-03T00:00:00",
          "2013-10-04T00:00:00",
          "2013-10-05T00:00:00",
          "2013-10-06T00:00:00",
          "2013-10-07T00:00:00",
          "2013-10-08T00:00:00",
          "2013-10-09T00:00:00",
          "2013-10-10T00:00:00",
          "2013-10-11T00:00:00",
          "2013-10-12T00:00:00",
          "2013-10-13T00:00:00",
          "2013-10-14T00:00:00",
          "2013-10-15T00:00:00",
          "2013-10-16T00:00:00",
          "2013-10-17T00:00:00",
          "2013-10-18T00:00:00",
          "2013-10-19T00:00:00",
          "2013-10-20T00:00:00",
          "2013-10-21T00:00:00",
          "2013-10-22T00:00:00",
          "2013-10-23T00:00:00",
          "2013-10-24T00:00:00",
          "2013-10-25T00:00:00",
          "2013-10-26T00:00:00",
          "2013-10-27T00:00:00",
          "2013-10-28T00:00:00",
          "2013-10-29T00:00:00",
          "2013-10-30T00:00:00",
          "2013-10-31T00:00:00",
          "2013-11-01T00:00:00",
          "2013-11-02T00:00:00",
          "2013-11-03T00:00:00",
          "2013-11-04T00:00:00",
          "2013-11-05T00:00:00",
          "2013-11-06T00:00:00",
          "2013-11-07T00:00:00",
          "2013-11-08T00:00:00",
          "2013-11-09T00:00:00",
          "2013-11-10T00:00:00",
          "2013-11-11T00:00:00",
          "2013-11-12T00:00:00",
          "2013-11-13T00:00:00",
          "2013-11-14T00:00:00",
          "2013-11-15T00:00:00",
          "2013-11-16T00:00:00",
          "2013-11-17T00:00:00",
          "2013-11-18T00:00:00",
          "2013-11-19T00:00:00",
          "2013-11-20T00:00:00",
          "2013-11-21T00:00:00",
          "2013-11-22T00:00:00",
          "2013-11-23T00:00:00",
          "2013-11-24T00:00:00",
          "2013-11-25T00:00:00",
          "2013-11-26T00:00:00",
          "2013-11-27T00:00:00",
          "2013-11-28T00:00:00",
          "2013-11-29T00:00:00",
          "2013-11-30T00:00:00",
          "2013-12-01T00:00:00"
         ],
         "y": [
          7795011.5,
          7877465,
          7927292.5,
          8241937,
          8154328.5,
          8410591,
          8381092.5,
          8316451.5,
          8294339.5,
          8347166,
          8380599.5,
          8344250.5,
          8239989.5,
          8268783,
          8290537,
          8955791,
          9889836,
          9996677,
          10253567,
          11008772,
          10954396,
          10801819,
          10737611,
          10647002,
          10794515,
          10928107,
          10853601,
          10786104,
          10719896,
          10651038,
          10477612,
          10414370,
          10562120,
          10539691,
          10498418,
          10387210,
          10313192,
          10361417,
          10258354,
          10170788,
          10291306,
          10539601,
          11139885,
          11119059,
          10987242,
          10991475,
          11139521,
          11393794,
          11312702,
          11767236,
          11915685,
          11989014,
          12030228,
          12893908,
          13280716,
          13315465,
          13222637,
          13238939,
          13167183,
          13054160,
          13039500,
          13364780,
          13563775,
          13530178,
          13402894,
          13261632,
          13158934,
          13090040,
          12973763,
          12840453,
          12780770,
          12732791,
          12629030,
          12562076,
          12470639,
          12429102,
          12319188,
          12267844,
          12142134,
          12051732,
          11953188,
          11872807,
          11798348,
          11672100,
          11595998,
          11515682,
          11463118,
          11386672,
          11323986,
          11224574,
          11101424,
          11012426,
          11044860,
          10916008,
          10830475,
          10514984,
          10432607,
          10323436,
          10223519,
          10125151,
          10152328,
          10303720,
          11191165,
          11290156,
          11318146,
          11480315,
          11602757,
          11765826,
          11632311,
          11673315,
          12565079,
          12548549,
          12446155,
          12256818,
          12153414,
          12063122,
          11972965,
          11907072,
          11818739,
          11687199,
          11640439,
          11532375,
          11319194,
          11266653,
          11139942,
          11080229,
          11115728,
          11039584,
          10935884,
          10847441,
          10779533,
          10659255,
          10638987,
          10488424,
          10461614,
          10356314,
          10267841,
          10324018,
          10221194,
          10123308,
          10074650,
          9961235,
          9873624,
          9807972,
          9688564,
          9602555,
          9532141,
          9521734,
          9445528,
          9334851,
          9268217,
          9178903,
          9112188,
          9113464,
          9020531,
          8927370,
          8879899,
          8805218,
          8756405,
          8696312,
          8661480,
          8638638,
          8562203,
          8485289,
          8434885,
          8377463.5,
          8288167.5,
          8247372.5,
          8162790,
          8094956.5,
          8038833.5,
          7999049,
          7894994,
          7825672.5,
          7788535.5,
          7745722,
          7643941,
          7626620.5,
          7541920,
          7520679.5,
          7418294,
          7349802.5,
          7294563,
          7177431
         ]
        },
        {
         "mode": "lines",
         "name": "act_domWithdrawal",
         "type": "scatter",
         "x": [
          "2013-06-01T00:00:00",
          "2013-06-02T00:00:00",
          "2013-06-03T00:00:00",
          "2013-06-04T00:00:00",
          "2013-06-05T00:00:00",
          "2013-06-06T00:00:00",
          "2013-06-07T00:00:00",
          "2013-06-08T00:00:00",
          "2013-06-09T00:00:00",
          "2013-06-10T00:00:00",
          "2013-06-11T00:00:00",
          "2013-06-12T00:00:00",
          "2013-06-13T00:00:00",
          "2013-06-14T00:00:00",
          "2013-06-15T00:00:00",
          "2013-06-16T00:00:00",
          "2013-06-17T00:00:00",
          "2013-06-18T00:00:00",
          "2013-06-19T00:00:00",
          "2013-06-20T00:00:00",
          "2013-06-21T00:00:00",
          "2013-06-22T00:00:00",
          "2013-06-23T00:00:00",
          "2013-06-24T00:00:00",
          "2013-06-25T00:00:00",
          "2013-06-26T00:00:00",
          "2013-06-27T00:00:00",
          "2013-06-28T00:00:00",
          "2013-06-29T00:00:00",
          "2013-06-30T00:00:00",
          "2013-07-01T00:00:00",
          "2013-07-02T00:00:00",
          "2013-07-03T00:00:00",
          "2013-07-04T00:00:00",
          "2013-07-05T00:00:00",
          "2013-07-06T00:00:00",
          "2013-07-07T00:00:00",
          "2013-07-08T00:00:00",
          "2013-07-09T00:00:00",
          "2013-07-10T00:00:00",
          "2013-07-11T00:00:00",
          "2013-07-12T00:00:00",
          "2013-07-13T00:00:00",
          "2013-07-14T00:00:00",
          "2013-07-15T00:00:00",
          "2013-07-16T00:00:00",
          "2013-07-17T00:00:00",
          "2013-07-18T00:00:00",
          "2013-07-19T00:00:00",
          "2013-07-20T00:00:00",
          "2013-07-21T00:00:00",
          "2013-07-22T00:00:00",
          "2013-07-23T00:00:00",
          "2013-07-24T00:00:00",
          "2013-07-25T00:00:00",
          "2013-07-26T00:00:00",
          "2013-07-27T00:00:00",
          "2013-07-28T00:00:00",
          "2013-07-29T00:00:00",
          "2013-07-30T00:00:00",
          "2013-07-31T00:00:00",
          "2013-08-01T00:00:00",
          "2013-08-02T00:00:00",
          "2013-08-03T00:00:00",
          "2013-08-04T00:00:00",
          "2013-08-05T00:00:00",
          "2013-08-06T00:00:00",
          "2013-08-07T00:00:00",
          "2013-08-08T00:00:00",
          "2013-08-09T00:00:00",
          "2013-08-10T00:00:00",
          "2013-08-11T00:00:00",
          "2013-08-12T00:00:00",
          "2013-08-13T00:00:00",
          "2013-08-14T00:00:00",
          "2013-08-15T00:00:00",
          "2013-08-16T00:00:00",
          "2013-08-17T00:00:00",
          "2013-08-18T00:00:00",
          "2013-08-19T00:00:00",
          "2013-08-20T00:00:00",
          "2013-08-21T00:00:00",
          "2013-08-22T00:00:00",
          "2013-08-23T00:00:00",
          "2013-08-24T00:00:00",
          "2013-08-25T00:00:00",
          "2013-08-26T00:00:00",
          "2013-08-27T00:00:00",
          "2013-08-28T00:00:00",
          "2013-08-29T00:00:00",
          "2013-08-30T00:00:00",
          "2013-08-31T00:00:00",
          "2013-09-01T00:00:00",
          "2013-09-02T00:00:00",
          "2013-09-03T00:00:00",
          "2013-09-04T00:00:00",
          "2013-09-05T00:00:00",
          "2013-09-06T00:00:00",
          "2013-09-07T00:00:00",
          "2013-09-08T00:00:00",
          "2013-09-09T00:00:00",
          "2013-09-10T00:00:00",
          "2013-09-11T00:00:00",
          "2013-09-12T00:00:00",
          "2013-09-13T00:00:00",
          "2013-09-14T00:00:00",
          "2013-09-15T00:00:00",
          "2013-09-16T00:00:00",
          "2013-09-17T00:00:00",
          "2013-09-18T00:00:00",
          "2013-09-19T00:00:00",
          "2013-09-20T00:00:00",
          "2013-09-21T00:00:00",
          "2013-09-22T00:00:00",
          "2013-09-23T00:00:00",
          "2013-09-24T00:00:00",
          "2013-09-25T00:00:00",
          "2013-09-26T00:00:00",
          "2013-09-27T00:00:00",
          "2013-09-28T00:00:00",
          "2013-09-29T00:00:00",
          "2013-09-30T00:00:00",
          "2013-10-01T00:00:00",
          "2013-10-02T00:00:00",
          "2013-10-03T00:00:00",
          "2013-10-04T00:00:00",
          "2013-10-05T00:00:00",
          "2013-10-06T00:00:00",
          "2013-10-07T00:00:00",
          "2013-10-08T00:00:00",
          "2013-10-09T00:00:00",
          "2013-10-10T00:00:00",
          "2013-10-11T00:00:00",
          "2013-10-12T00:00:00",
          "2013-10-13T00:00:00",
          "2013-10-14T00:00:00",
          "2013-10-15T00:00:00",
          "2013-10-16T00:00:00",
          "2013-10-17T00:00:00",
          "2013-10-18T00:00:00",
          "2013-10-19T00:00:00",
          "2013-10-20T00:00:00",
          "2013-10-21T00:00:00",
          "2013-10-22T00:00:00",
          "2013-10-23T00:00:00",
          "2013-10-24T00:00:00",
          "2013-10-25T00:00:00",
          "2013-10-26T00:00:00",
          "2013-10-27T00:00:00",
          "2013-10-28T00:00:00",
          "2013-10-29T00:00:00",
          "2013-10-30T00:00:00",
          "2013-10-31T00:00:00",
          "2013-11-01T00:00:00",
          "2013-11-02T00:00:00",
          "2013-11-03T00:00:00",
          "2013-11-04T00:00:00",
          "2013-11-05T00:00:00",
          "2013-11-06T00:00:00",
          "2013-11-07T00:00:00",
          "2013-11-08T00:00:00",
          "2013-11-09T00:00:00",
          "2013-11-10T00:00:00",
          "2013-11-11T00:00:00",
          "2013-11-12T00:00:00",
          "2013-11-13T00:00:00",
          "2013-11-14T00:00:00",
          "2013-11-15T00:00:00",
          "2013-11-16T00:00:00",
          "2013-11-17T00:00:00",
          "2013-11-18T00:00:00",
          "2013-11-19T00:00:00",
          "2013-11-20T00:00:00",
          "2013-11-21T00:00:00",
          "2013-11-22T00:00:00",
          "2013-11-23T00:00:00",
          "2013-11-24T00:00:00",
          "2013-11-25T00:00:00",
          "2013-11-26T00:00:00",
          "2013-11-27T00:00:00",
          "2013-11-28T00:00:00",
          "2013-11-29T00:00:00",
          "2013-11-30T00:00:00",
          "2013-12-01T00:00:00"
         ],
         "y": [
          2369456,
          2546670.75,
          2644080.25,
          2852711.5,
          2788185.25,
          2992483,
          2940711.5,
          2909469.5,
          2900778.5,
          2949387.25,
          2878841.25,
          2890772.75,
          2843176.75,
          2912335.25,
          2913062,
          3115380.5,
          3193671.25,
          3153966,
          3170355.5,
          3122431.25,
          3138913.25,
          3064789.75,
          3075858.25,
          3055177.25,
          3139773.5,
          3133013.75,
          3068597,
          3046640.75,
          3029672.25,
          3001098.25,
          2884417.5,
          2871207.5,
          2982249,
          2950491.75,
          2920790.5,
          2872075,
          2860789,
          2944816,
          2887636.25,
          2853896,
          2903893,
          2993512,
          3161202,
          3025249.25,
          2953827.75,
          3016761.5,
          3060325.5,
          3119745,
          3026122.75,
          3222154.5,
          3133421.25,
          3138974,
          3133030.25,
          3314235,
          3276110.75,
          3283203.5,
          3199785.75,
          3228053.25,
          3178467.75,
          3149142.25,
          3131501,
          3317191.5,
          3328314,
          3235126.25,
          3227957.5,
          3161469.75,
          3127954.25,
          3136370,
          3107441,
          3061853.5,
          3070437.5,
          3081582,
          3055282.75,
          3053705.25,
          3008939.75,
          3026850.5,
          2999715.75,
          3029533.25,
          2975486,
          2960106.25,
          2947698.75,
          2958763,
          2972373.75,
          2927534.5,
          2921504.5,
          2922452.75,
          2921193.5,
          2917028.5,
          2938240.5,
          2919990.5,
          2879438.5,
          2870242.75,
          2981793.25,
          2940208.75,
          2942300.75,
          2934078.25,
          2928857.25,
          2889419.25,
          2865585,
          2847801,
          2921311.25,
          3006134,
          3259648.25,
          3201337,
          3163993.25,
          3213273.25,
          3265525.5,
          3246558.75,
          3151875.25,
          3221573.5,
          3462545.25,
          3339590.5,
          3304349,
          3201901.25,
          3171504.25,
          3154531.5,
          3098127.5,
          3109116.75,
          3101023.5,
          3054085.25,
          3093841,
          3058421,
          2927953.75,
          2962096.75,
          2920718.75,
          2937008.75,
          2994687,
          2948492.5,
          2914944.75,
          2905945.5,
          2918939.25,
          2881192.5,
          2936597.75,
          2863020.5,
          2911888,
          2884035.75,
          2872635.75,
          2928006.75,
          2888218.5,
          2865669,
          2893073.5,
          2860365.5,
          2849036,
          2860436,
          2820867.5,
          2813781.5,
          2820315.5,
          2820081.25,
          2808674.75,
          2767971.25,
          2769961.5,
          2749472.5,
          2754250.5,
          2825309,
          2803544.75,
          2781444.5,
          2802627.25,
          2795756.5,
          2816319.75,
          2822942.5,
          2852232.75,
          2893976,
          2880143.5,
          2870308,
          2884173.5,
          2890829.5,
          2863956.5,
          2886576,
          2868910,
          2865652,
          2873815,
          2896761,
          2853238.5,
          2842805.5,
          2863289.5,
          2879693,
          2835778,
          2874946.5,
          2844873.25,
          2877750,
          2827660.5,
          2817122.75,
          2818126.75,
          2754752
         ]
        },
        {
         "mode": "lines",
         "name": "act_indWithdrawal",
         "type": "scatter",
         "x": [
          "2013-06-01T00:00:00",
          "2013-06-02T00:00:00",
          "2013-06-03T00:00:00",
          "2013-06-04T00:00:00",
          "2013-06-05T00:00:00",
          "2013-06-06T00:00:00",
          "2013-06-07T00:00:00",
          "2013-06-08T00:00:00",
          "2013-06-09T00:00:00",
          "2013-06-10T00:00:00",
          "2013-06-11T00:00:00",
          "2013-06-12T00:00:00",
          "2013-06-13T00:00:00",
          "2013-06-14T00:00:00",
          "2013-06-15T00:00:00",
          "2013-06-16T00:00:00",
          "2013-06-17T00:00:00",
          "2013-06-18T00:00:00",
          "2013-06-19T00:00:00",
          "2013-06-20T00:00:00",
          "2013-06-21T00:00:00",
          "2013-06-22T00:00:00",
          "2013-06-23T00:00:00",
          "2013-06-24T00:00:00",
          "2013-06-25T00:00:00",
          "2013-06-26T00:00:00",
          "2013-06-27T00:00:00",
          "2013-06-28T00:00:00",
          "2013-06-29T00:00:00",
          "2013-06-30T00:00:00",
          "2013-07-01T00:00:00",
          "2013-07-02T00:00:00",
          "2013-07-03T00:00:00",
          "2013-07-04T00:00:00",
          "2013-07-05T00:00:00",
          "2013-07-06T00:00:00",
          "2013-07-07T00:00:00",
          "2013-07-08T00:00:00",
          "2013-07-09T00:00:00",
          "2013-07-10T00:00:00",
          "2013-07-11T00:00:00",
          "2013-07-12T00:00:00",
          "2013-07-13T00:00:00",
          "2013-07-14T00:00:00",
          "2013-07-15T00:00:00",
          "2013-07-16T00:00:00",
          "2013-07-17T00:00:00",
          "2013-07-18T00:00:00",
          "2013-07-19T00:00:00",
          "2013-07-20T00:00:00",
          "2013-07-21T00:00:00",
          "2013-07-22T00:00:00",
          "2013-07-23T00:00:00",
          "2013-07-24T00:00:00",
          "2013-07-25T00:00:00",
          "2013-07-26T00:00:00",
          "2013-07-27T00:00:00",
          "2013-07-28T00:00:00",
          "2013-07-29T00:00:00",
          "2013-07-30T00:00:00",
          "2013-07-31T00:00:00",
          "2013-08-01T00:00:00",
          "2013-08-02T00:00:00",
          "2013-08-03T00:00:00",
          "2013-08-04T00:00:00",
          "2013-08-05T00:00:00",
          "2013-08-06T00:00:00",
          "2013-08-07T00:00:00",
          "2013-08-08T00:00:00",
          "2013-08-09T00:00:00",
          "2013-08-10T00:00:00",
          "2013-08-11T00:00:00",
          "2013-08-12T00:00:00",
          "2013-08-13T00:00:00",
          "2013-08-14T00:00:00",
          "2013-08-15T00:00:00",
          "2013-08-16T00:00:00",
          "2013-08-17T00:00:00",
          "2013-08-18T00:00:00",
          "2013-08-19T00:00:00",
          "2013-08-20T00:00:00",
          "2013-08-21T00:00:00",
          "2013-08-22T00:00:00",
          "2013-08-23T00:00:00",
          "2013-08-24T00:00:00",
          "2013-08-25T00:00:00",
          "2013-08-26T00:00:00",
          "2013-08-27T00:00:00",
          "2013-08-28T00:00:00",
          "2013-08-29T00:00:00",
          "2013-08-30T00:00:00",
          "2013-08-31T00:00:00",
          "2013-09-01T00:00:00",
          "2013-09-02T00:00:00",
          "2013-09-03T00:00:00",
          "2013-09-04T00:00:00",
          "2013-09-05T00:00:00",
          "2013-09-06T00:00:00",
          "2013-09-07T00:00:00",
          "2013-09-08T00:00:00",
          "2013-09-09T00:00:00",
          "2013-09-10T00:00:00",
          "2013-09-11T00:00:00",
          "2013-09-12T00:00:00",
          "2013-09-13T00:00:00",
          "2013-09-14T00:00:00",
          "2013-09-15T00:00:00",
          "2013-09-16T00:00:00",
          "2013-09-17T00:00:00",
          "2013-09-18T00:00:00",
          "2013-09-19T00:00:00",
          "2013-09-20T00:00:00",
          "2013-09-21T00:00:00",
          "2013-09-22T00:00:00",
          "2013-09-23T00:00:00",
          "2013-09-24T00:00:00",
          "2013-09-25T00:00:00",
          "2013-09-26T00:00:00",
          "2013-09-27T00:00:00",
          "2013-09-28T00:00:00",
          "2013-09-29T00:00:00",
          "2013-09-30T00:00:00",
          "2013-10-01T00:00:00",
          "2013-10-02T00:00:00",
          "2013-10-03T00:00:00",
          "2013-10-04T00:00:00",
          "2013-10-05T00:00:00",
          "2013-10-06T00:00:00",
          "2013-10-07T00:00:00",
          "2013-10-08T00:00:00",
          "2013-10-09T00:00:00",
          "2013-10-10T00:00:00",
          "2013-10-11T00:00:00",
          "2013-10-12T00:00:00",
          "2013-10-13T00:00:00",
          "2013-10-14T00:00:00",
          "2013-10-15T00:00:00",
          "2013-10-16T00:00:00",
          "2013-10-17T00:00:00",
          "2013-10-18T00:00:00",
          "2013-10-19T00:00:00",
          "2013-10-20T00:00:00",
          "2013-10-21T00:00:00",
          "2013-10-22T00:00:00",
          "2013-10-23T00:00:00",
          "2013-10-24T00:00:00",
          "2013-10-25T00:00:00",
          "2013-10-26T00:00:00",
          "2013-10-27T00:00:00",
          "2013-10-28T00:00:00",
          "2013-10-29T00:00:00",
          "2013-10-30T00:00:00",
          "2013-10-31T00:00:00",
          "2013-11-01T00:00:00",
          "2013-11-02T00:00:00",
          "2013-11-03T00:00:00",
          "2013-11-04T00:00:00",
          "2013-11-05T00:00:00",
          "2013-11-06T00:00:00",
          "2013-11-07T00:00:00",
          "2013-11-08T00:00:00",
          "2013-11-09T00:00:00",
          "2013-11-10T00:00:00",
          "2013-11-11T00:00:00",
          "2013-11-12T00:00:00",
          "2013-11-13T00:00:00",
          "2013-11-14T00:00:00",
          "2013-11-15T00:00:00",
          "2013-11-16T00:00:00",
          "2013-11-17T00:00:00",
          "2013-11-18T00:00:00",
          "2013-11-19T00:00:00",
          "2013-11-20T00:00:00",
          "2013-11-21T00:00:00",
          "2013-11-22T00:00:00",
          "2013-11-23T00:00:00",
          "2013-11-24T00:00:00",
          "2013-11-25T00:00:00",
          "2013-11-26T00:00:00",
          "2013-11-27T00:00:00",
          "2013-11-28T00:00:00",
          "2013-11-29T00:00:00",
          "2013-11-30T00:00:00",
          "2013-12-01T00:00:00"
         ],
         "y": [
          5419118,
          5324162,
          5276209.5,
          5381782,
          5358934,
          5410254.5,
          5432721,
          5399494,
          5386120.5,
          5390360.5,
          5494203,
          5446108,
          5389496.5,
          5349037.5,
          5369939,
          5832522.5,
          6688171,
          6834864.5,
          7075331.5,
          7878589,
          7807771.5,
          7729328,
          7654055.5,
          7584138,
          7646812.5,
          7787167.5,
          7777201.5,
          7731697.5,
          7682472,
          7642180.5,
          7586251.5,
          7536274,
          7572856,
          7582205.5,
          7570708.5,
          7508235,
          7445478.5,
          7409589,
          7363784.5,
          7309967,
          7380444,
          7538991,
          7971432.5,
          8086655,
          8026371.5,
          7967688.5,
          8072031.5,
          8266887,
          8279486,
          8537752,
          8775080,
          8842861,
          8889933,
          9572254,
          9997339,
          10025009,
          10015617,
          10003640,
          9981491,
          9897815,
          9900804,
          10040305,
          10228171,
          10287863,
          10167784,
          10093017,
          10023861,
          9946549,
          9859219,
          9771506,
          9703237,
          9644116,
          9566670,
          9501280,
          9454627,
          9395180,
          9312409,
          9231248,
          9159581,
          9084565,
          8998437,
          8906999,
          8818933,
          8737523,
          8667455,
          8586194,
          8534890,
          8462605,
          8378714.5,
          8297554.5,
          8214962.5,
          8135162,
          8055515.5,
          7968247.5,
          7880628,
          7573359.5,
          7496204.5,
          7426473,
          7350393.5,
          7269810.5,
          7223361,
          7289965,
          7923695.5,
          8081107,
          8146481,
          8259254.5,
          8329476,
          8511553,
          8472759,
          8443980,
          9094641,
          9201176,
          9134093,
          9047229,
          8974228,
          8900922,
          8867175,
          8790299,
          8710052,
          8625465,
          8538952,
          8466312,
          8384041,
          8297360.5,
          8212032.5,
          8136023.5,
          8113837.5,
          8083859,
          8013745,
          7934307,
          7853411,
          7770881.5,
          7695213,
          7618229,
          7542553.5,
          7465097,
          7388033.5,
          7388808.5,
          7325799.5,
          7250466,
          7174408.5,
          7093705.5,
          7017425,
          6940376,
          6860538.5,
          6781617,
          6704661.5,
          6694459.5,
          6629685,
          6559721,
          6491103.5,
          6422281,
          6350792,
          6280922.5,
          6209757.5,
          6138699,
          6070045,
          6002242,
          5932867,
          5866154.5,
          5802033,
          5737453,
          5674856,
          5607779.5,
          5543512,
          5479436.5,
          5417018.5,
          5353608.5,
          5286695.5,
          5222126,
          5157843.5,
          5095114.5,
          5034587,
          4975701.5,
          4918086,
          4858871.5,
          4801008,
          4744515.5,
          4689898.5,
          4635782.5,
          4583492.5,
          4525544,
          4469305.5,
          4416284.5
         ]
        }
       ],
       "layout": {
        "template": {
         "data": {
          "bar": [
           {
            "error_x": {
             "color": "#f2f5fa"
            },
            "error_y": {
             "color": "#f2f5fa"
            },
            "marker": {
             "line": {
              "color": "rgb(17,17,17)",
              "width": 0.5
             }
            },
            "type": "bar"
           }
          ],
          "barpolar": [
           {
            "marker": {
             "line": {
              "color": "rgb(17,17,17)",
              "width": 0.5
             }
            },
            "type": "barpolar"
           }
          ],
          "carpet": [
           {
            "aaxis": {
             "endlinecolor": "#A2B1C6",
             "gridcolor": "#506784",
             "linecolor": "#506784",
             "minorgridcolor": "#506784",
             "startlinecolor": "#A2B1C6"
            },
            "baxis": {
             "endlinecolor": "#A2B1C6",
             "gridcolor": "#506784",
             "linecolor": "#506784",
             "minorgridcolor": "#506784",
             "startlinecolor": "#A2B1C6"
            },
            "type": "carpet"
           }
          ],
          "choropleth": [
           {
            "colorbar": {
             "outlinewidth": 0,
             "ticks": ""
            },
            "type": "choropleth"
           }
          ],
          "contour": [
           {
            "colorbar": {
             "outlinewidth": 0,
             "ticks": ""
            },
            "colorscale": [
             [
              0,
              "#0d0887"
             ],
             [
              0.1111111111111111,
              "#46039f"
             ],
             [
              0.2222222222222222,
              "#7201a8"
             ],
             [
              0.3333333333333333,
              "#9c179e"
             ],
             [
              0.4444444444444444,
              "#bd3786"
             ],
             [
              0.5555555555555556,
              "#d8576b"
             ],
             [
              0.6666666666666666,
              "#ed7953"
             ],
             [
              0.7777777777777778,
              "#fb9f3a"
             ],
             [
              0.8888888888888888,
              "#fdca26"
             ],
             [
              1,
              "#f0f921"
             ]
            ],
            "type": "contour"
           }
          ],
          "contourcarpet": [
           {
            "colorbar": {
             "outlinewidth": 0,
             "ticks": ""
            },
            "type": "contourcarpet"
           }
          ],
          "heatmap": [
           {
            "colorbar": {
             "outlinewidth": 0,
             "ticks": ""
            },
            "colorscale": [
             [
              0,
              "#0d0887"
             ],
             [
              0.1111111111111111,
              "#46039f"
             ],
             [
              0.2222222222222222,
              "#7201a8"
             ],
             [
              0.3333333333333333,
              "#9c179e"
             ],
             [
              0.4444444444444444,
              "#bd3786"
             ],
             [
              0.5555555555555556,
              "#d8576b"
             ],
             [
              0.6666666666666666,
              "#ed7953"
             ],
             [
              0.7777777777777778,
              "#fb9f3a"
             ],
             [
              0.8888888888888888,
              "#fdca26"
             ],
             [
              1,
              "#f0f921"
             ]
            ],
            "type": "heatmap"
           }
          ],
          "heatmapgl": [
           {
            "colorbar": {
             "outlinewidth": 0,
             "ticks": ""
            },
            "colorscale": [
             [
              0,
              "#0d0887"
             ],
             [
              0.1111111111111111,
              "#46039f"
             ],
             [
              0.2222222222222222,
              "#7201a8"
             ],
             [
              0.3333333333333333,
              "#9c179e"
             ],
             [
              0.4444444444444444,
              "#bd3786"
             ],
             [
              0.5555555555555556,
              "#d8576b"
             ],
             [
              0.6666666666666666,
              "#ed7953"
             ],
             [
              0.7777777777777778,
              "#fb9f3a"
             ],
             [
              0.8888888888888888,
              "#fdca26"
             ],
             [
              1,
              "#f0f921"
             ]
            ],
            "type": "heatmapgl"
           }
          ],
          "histogram": [
           {
            "marker": {
             "colorbar": {
              "outlinewidth": 0,
              "ticks": ""
             }
            },
            "type": "histogram"
           }
          ],
          "histogram2d": [
           {
            "colorbar": {
             "outlinewidth": 0,
             "ticks": ""
            },
            "colorscale": [
             [
              0,
              "#0d0887"
             ],
             [
              0.1111111111111111,
              "#46039f"
             ],
             [
              0.2222222222222222,
              "#7201a8"
             ],
             [
              0.3333333333333333,
              "#9c179e"
             ],
             [
              0.4444444444444444,
              "#bd3786"
             ],
             [
              0.5555555555555556,
              "#d8576b"
             ],
             [
              0.6666666666666666,
              "#ed7953"
             ],
             [
              0.7777777777777778,
              "#fb9f3a"
             ],
             [
              0.8888888888888888,
              "#fdca26"
             ],
             [
              1,
              "#f0f921"
             ]
            ],
            "type": "histogram2d"
           }
          ],
          "histogram2dcontour": [
           {
            "colorbar": {
             "outlinewidth": 0,
             "ticks": ""
            },
            "colorscale": [
             [
              0,
              "#0d0887"
             ],
             [
              0.1111111111111111,
              "#46039f"
             ],
             [
              0.2222222222222222,
              "#7201a8"
             ],
             [
              0.3333333333333333,
              "#9c179e"
             ],
             [
              0.4444444444444444,
              "#bd3786"
             ],
             [
              0.5555555555555556,
              "#d8576b"
             ],
             [
              0.6666666666666666,
              "#ed7953"
             ],
             [
              0.7777777777777778,
              "#fb9f3a"
             ],
             [
              0.8888888888888888,
              "#fdca26"
             ],
             [
              1,
              "#f0f921"
             ]
            ],
            "type": "histogram2dcontour"
           }
          ],
          "mesh3d": [
           {
            "colorbar": {
             "outlinewidth": 0,
             "ticks": ""
            },
            "type": "mesh3d"
           }
          ],
          "parcoords": [
           {
            "line": {
             "colorbar": {
              "outlinewidth": 0,
              "ticks": ""
             }
            },
            "type": "parcoords"
           }
          ],
          "pie": [
           {
            "automargin": true,
            "type": "pie"
           }
          ],
          "scatter": [
           {
            "marker": {
             "line": {
              "color": "#283442"
             }
            },
            "type": "scatter"
           }
          ],
          "scatter3d": [
           {
            "line": {
             "colorbar": {
              "outlinewidth": 0,
              "ticks": ""
             }
            },
            "marker": {
             "colorbar": {
              "outlinewidth": 0,
              "ticks": ""
             }
            },
            "type": "scatter3d"
           }
          ],
          "scattercarpet": [
           {
            "marker": {
             "colorbar": {
              "outlinewidth": 0,
              "ticks": ""
             }
            },
            "type": "scattercarpet"
           }
          ],
          "scattergeo": [
           {
            "marker": {
             "colorbar": {
              "outlinewidth": 0,
              "ticks": ""
             }
            },
            "type": "scattergeo"
           }
          ],
          "scattergl": [
           {
            "marker": {
             "line": {
              "color": "#283442"
             }
            },
            "type": "scattergl"
           }
          ],
          "scattermapbox": [
           {
            "marker": {
             "colorbar": {
              "outlinewidth": 0,
              "ticks": ""
             }
            },
            "type": "scattermapbox"
           }
          ],
          "scatterpolar": [
           {
            "marker": {
             "colorbar": {
              "outlinewidth": 0,
              "ticks": ""
             }
            },
            "type": "scatterpolar"
           }
          ],
          "scatterpolargl": [
           {
            "marker": {
             "colorbar": {
              "outlinewidth": 0,
              "ticks": ""
             }
            },
            "type": "scatterpolargl"
           }
          ],
          "scatterternary": [
           {
            "marker": {
             "colorbar": {
              "outlinewidth": 0,
              "ticks": ""
             }
            },
            "type": "scatterternary"
           }
          ],
          "surface": [
           {
            "colorbar": {
             "outlinewidth": 0,
             "ticks": ""
            },
            "colorscale": [
             [
              0,
              "#0d0887"
             ],
             [
              0.1111111111111111,
              "#46039f"
             ],
             [
              0.2222222222222222,
              "#7201a8"
             ],
             [
              0.3333333333333333,
              "#9c179e"
             ],
             [
              0.4444444444444444,
              "#bd3786"
             ],
             [
              0.5555555555555556,
              "#d8576b"
             ],
             [
              0.6666666666666666,
              "#ed7953"
             ],
             [
              0.7777777777777778,
              "#fb9f3a"
             ],
             [
              0.8888888888888888,
              "#fdca26"
             ],
             [
              1,
              "#f0f921"
             ]
            ],
            "type": "surface"
           }
          ],
          "table": [
           {
            "cells": {
             "fill": {
              "color": "#506784"
             },
             "line": {
              "color": "rgb(17,17,17)"
             }
            },
            "header": {
             "fill": {
              "color": "#2a3f5f"
             },
             "line": {
              "color": "rgb(17,17,17)"
             }
            },
            "type": "table"
           }
          ]
         },
         "layout": {
          "annotationdefaults": {
           "arrowcolor": "#f2f5fa",
           "arrowhead": 0,
           "arrowwidth": 1
          },
          "autotypenumbers": "strict",
          "coloraxis": {
           "colorbar": {
            "outlinewidth": 0,
            "ticks": ""
           }
          },
          "colorscale": {
           "diverging": [
            [
             0,
             "#8e0152"
            ],
            [
             0.1,
             "#c51b7d"
            ],
            [
             0.2,
             "#de77ae"
            ],
            [
             0.3,
             "#f1b6da"
            ],
            [
             0.4,
             "#fde0ef"
            ],
            [
             0.5,
             "#f7f7f7"
            ],
            [
             0.6,
             "#e6f5d0"
            ],
            [
             0.7,
             "#b8e186"
            ],
            [
             0.8,
             "#7fbc41"
            ],
            [
             0.9,
             "#4d9221"
            ],
            [
             1,
             "#276419"
            ]
           ],
           "sequential": [
            [
             0,
             "#0d0887"
            ],
            [
             0.1111111111111111,
             "#46039f"
            ],
            [
             0.2222222222222222,
             "#7201a8"
            ],
            [
             0.3333333333333333,
             "#9c179e"
            ],
            [
             0.4444444444444444,
             "#bd3786"
            ],
            [
             0.5555555555555556,
             "#d8576b"
            ],
            [
             0.6666666666666666,
             "#ed7953"
            ],
            [
             0.7777777777777778,
             "#fb9f3a"
            ],
            [
             0.8888888888888888,
             "#fdca26"
            ],
            [
             1,
             "#f0f921"
            ]
           ],
           "sequentialminus": [
            [
             0,
             "#0d0887"
            ],
            [
             0.1111111111111111,
             "#46039f"
            ],
            [
             0.2222222222222222,
             "#7201a8"
            ],
            [
             0.3333333333333333,
             "#9c179e"
            ],
            [
             0.4444444444444444,
             "#bd3786"
            ],
            [
             0.5555555555555556,
             "#d8576b"
            ],
            [
             0.6666666666666666,
             "#ed7953"
            ],
            [
             0.7777777777777778,
             "#fb9f3a"
            ],
            [
             0.8888888888888888,
             "#fdca26"
            ],
            [
             1,
             "#f0f921"
            ]
           ]
          },
          "colorway": [
           "#636efa",
           "#EF553B",
           "#00cc96",
           "#ab63fa",
           "#FFA15A",
           "#19d3f3",
           "#FF6692",
           "#B6E880",
           "#FF97FF",
           "#FECB52"
          ],
          "font": {
           "color": "#f2f5fa"
          },
          "geo": {
           "bgcolor": "rgb(17,17,17)",
           "lakecolor": "rgb(17,17,17)",
           "landcolor": "rgb(17,17,17)",
           "showlakes": true,
           "showland": true,
           "subunitcolor": "#506784"
          },
          "hoverlabel": {
           "align": "left"
          },
          "hovermode": "closest",
          "mapbox": {
           "style": "dark"
          },
          "paper_bgcolor": "rgb(17,17,17)",
          "plot_bgcolor": "rgb(17,17,17)",
          "polar": {
           "angularaxis": {
            "gridcolor": "#506784",
            "linecolor": "#506784",
            "ticks": ""
           },
           "bgcolor": "rgb(17,17,17)",
           "radialaxis": {
            "gridcolor": "#506784",
            "linecolor": "#506784",
            "ticks": ""
           }
          },
          "scene": {
           "xaxis": {
            "backgroundcolor": "rgb(17,17,17)",
            "gridcolor": "#506784",
            "gridwidth": 2,
            "linecolor": "#506784",
            "showbackground": true,
            "ticks": "",
            "zerolinecolor": "#C8D4E3"
           },
           "yaxis": {
            "backgroundcolor": "rgb(17,17,17)",
            "gridcolor": "#506784",
            "gridwidth": 2,
            "linecolor": "#506784",
            "showbackground": true,
            "ticks": "",
            "zerolinecolor": "#C8D4E3"
           },
           "zaxis": {
            "backgroundcolor": "rgb(17,17,17)",
            "gridcolor": "#506784",
            "gridwidth": 2,
            "linecolor": "#506784",
            "showbackground": true,
            "ticks": "",
            "zerolinecolor": "#C8D4E3"
           }
          },
          "shapedefaults": {
           "line": {
            "color": "#f2f5fa"
           }
          },
          "sliderdefaults": {
           "bgcolor": "#C8D4E3",
           "bordercolor": "rgb(17,17,17)",
           "borderwidth": 1,
           "tickwidth": 0
          },
          "ternary": {
           "aaxis": {
            "gridcolor": "#506784",
            "linecolor": "#506784",
            "ticks": ""
           },
           "baxis": {
            "gridcolor": "#506784",
            "linecolor": "#506784",
            "ticks": ""
           },
           "bgcolor": "rgb(17,17,17)",
           "caxis": {
            "gridcolor": "#506784",
            "linecolor": "#506784",
            "ticks": ""
           }
          },
          "title": {
           "x": 0.05
          },
          "updatemenudefaults": {
           "bgcolor": "#506784",
           "borderwidth": 0
          },
          "xaxis": {
           "automargin": true,
           "gridcolor": "#283442",
           "linecolor": "#506784",
           "ticks": "",
           "title": {
            "standoff": 15
           },
           "zerolinecolor": "#283442",
           "zerolinewidth": 2
          },
          "yaxis": {
           "automargin": true,
           "gridcolor": "#283442",
           "linecolor": "#506784",
           "ticks": "",
           "title": {
            "standoff": 15
           },
           "zerolinecolor": "#283442",
           "zerolinewidth": 2
          }
         }
        },
        "title": {
         "text": "Water use and request"
        },
        "xaxis": {
         "title": {
          "text": "Days"
         }
        },
        "yaxis": {
         "title": {
          "text": "Volume (m3)"
         }
        }
       }
      },
      "text/html": [
       "<div>                            <div id=\"6868252e-e622-40b3-9e10-c40638f6d387\" class=\"plotly-graph-div\" style=\"height:525px; width:100%;\"></div>            <script type=\"text/javascript\">                require([\"plotly\"], function(Plotly) {                    window.PLOTLYENV=window.PLOTLYENV || {};                                    if (document.getElementById(\"6868252e-e622-40b3-9e10-c40638f6d387\")) {                    Plotly.newPlot(                        \"6868252e-e622-40b3-9e10-c40638f6d387\",                        [{\"mode\": \"lines\", \"name\": \"Grasslands transpiration\", \"type\": \"scatter\", \"x\": [\"2013-06-01T00:00:00\", \"2013-06-02T00:00:00\", \"2013-06-03T00:00:00\", \"2013-06-04T00:00:00\", \"2013-06-05T00:00:00\", \"2013-06-06T00:00:00\", \"2013-06-07T00:00:00\", \"2013-06-08T00:00:00\", \"2013-06-09T00:00:00\", \"2013-06-10T00:00:00\", \"2013-06-11T00:00:00\", \"2013-06-12T00:00:00\", \"2013-06-13T00:00:00\", \"2013-06-14T00:00:00\", \"2013-06-15T00:00:00\", \"2013-06-16T00:00:00\", \"2013-06-17T00:00:00\", \"2013-06-18T00:00:00\", \"2013-06-19T00:00:00\", \"2013-06-20T00:00:00\", \"2013-06-21T00:00:00\", \"2013-06-22T00:00:00\", \"2013-06-23T00:00:00\", \"2013-06-24T00:00:00\", \"2013-06-25T00:00:00\", \"2013-06-26T00:00:00\", \"2013-06-27T00:00:00\", \"2013-06-28T00:00:00\", \"2013-06-29T00:00:00\", \"2013-06-30T00:00:00\", \"2013-07-01T00:00:00\", \"2013-07-02T00:00:00\", \"2013-07-03T00:00:00\", \"2013-07-04T00:00:00\", \"2013-07-05T00:00:00\", \"2013-07-06T00:00:00\", \"2013-07-07T00:00:00\", \"2013-07-08T00:00:00\", \"2013-07-09T00:00:00\", \"2013-07-10T00:00:00\", \"2013-07-11T00:00:00\", \"2013-07-12T00:00:00\", \"2013-07-13T00:00:00\", \"2013-07-14T00:00:00\", \"2013-07-15T00:00:00\", \"2013-07-16T00:00:00\", \"2013-07-17T00:00:00\", \"2013-07-18T00:00:00\", \"2013-07-19T00:00:00\", \"2013-07-20T00:00:00\", \"2013-07-21T00:00:00\", \"2013-07-22T00:00:00\", \"2013-07-23T00:00:00\", \"2013-07-24T00:00:00\", \"2013-07-25T00:00:00\", \"2013-07-26T00:00:00\", \"2013-07-27T00:00:00\", \"2013-07-28T00:00:00\", \"2013-07-29T00:00:00\", \"2013-07-30T00:00:00\", \"2013-07-31T00:00:00\", \"2013-08-01T00:00:00\", \"2013-08-02T00:00:00\", \"2013-08-03T00:00:00\", \"2013-08-04T00:00:00\", \"2013-08-05T00:00:00\", \"2013-08-06T00:00:00\", \"2013-08-07T00:00:00\", \"2013-08-08T00:00:00\", \"2013-08-09T00:00:00\", \"2013-08-10T00:00:00\", \"2013-08-11T00:00:00\", \"2013-08-12T00:00:00\", \"2013-08-13T00:00:00\", \"2013-08-14T00:00:00\", \"2013-08-15T00:00:00\", \"2013-08-16T00:00:00\", \"2013-08-17T00:00:00\", \"2013-08-18T00:00:00\", \"2013-08-19T00:00:00\", \"2013-08-20T00:00:00\", \"2013-08-21T00:00:00\", \"2013-08-22T00:00:00\", \"2013-08-23T00:00:00\", \"2013-08-24T00:00:00\", \"2013-08-25T00:00:00\", \"2013-08-26T00:00:00\", \"2013-08-27T00:00:00\", \"2013-08-28T00:00:00\", \"2013-08-29T00:00:00\", \"2013-08-30T00:00:00\", \"2013-08-31T00:00:00\", \"2013-09-01T00:00:00\", \"2013-09-02T00:00:00\", \"2013-09-03T00:00:00\", \"2013-09-04T00:00:00\", \"2013-09-05T00:00:00\", \"2013-09-06T00:00:00\", \"2013-09-07T00:00:00\", \"2013-09-08T00:00:00\", \"2013-09-09T00:00:00\", \"2013-09-10T00:00:00\", \"2013-09-11T00:00:00\", \"2013-09-12T00:00:00\", \"2013-09-13T00:00:00\", \"2013-09-14T00:00:00\", \"2013-09-15T00:00:00\", \"2013-09-16T00:00:00\", \"2013-09-17T00:00:00\", \"2013-09-18T00:00:00\", \"2013-09-19T00:00:00\", \"2013-09-20T00:00:00\", \"2013-09-21T00:00:00\", \"2013-09-22T00:00:00\", \"2013-09-23T00:00:00\", \"2013-09-24T00:00:00\", \"2013-09-25T00:00:00\", \"2013-09-26T00:00:00\", \"2013-09-27T00:00:00\", \"2013-09-28T00:00:00\", \"2013-09-29T00:00:00\", \"2013-09-30T00:00:00\", \"2013-10-01T00:00:00\", \"2013-10-02T00:00:00\", \"2013-10-03T00:00:00\", \"2013-10-04T00:00:00\", \"2013-10-05T00:00:00\", \"2013-10-06T00:00:00\", \"2013-10-07T00:00:00\", \"2013-10-08T00:00:00\", \"2013-10-09T00:00:00\", \"2013-10-10T00:00:00\", \"2013-10-11T00:00:00\", \"2013-10-12T00:00:00\", \"2013-10-13T00:00:00\", \"2013-10-14T00:00:00\", \"2013-10-15T00:00:00\", \"2013-10-16T00:00:00\", \"2013-10-17T00:00:00\", \"2013-10-18T00:00:00\", \"2013-10-19T00:00:00\", \"2013-10-20T00:00:00\", \"2013-10-21T00:00:00\", \"2013-10-22T00:00:00\", \"2013-10-23T00:00:00\", \"2013-10-24T00:00:00\", \"2013-10-25T00:00:00\", \"2013-10-26T00:00:00\", \"2013-10-27T00:00:00\", \"2013-10-28T00:00:00\", \"2013-10-29T00:00:00\", \"2013-10-30T00:00:00\", \"2013-10-31T00:00:00\", \"2013-11-01T00:00:00\", \"2013-11-02T00:00:00\", \"2013-11-03T00:00:00\", \"2013-11-04T00:00:00\", \"2013-11-05T00:00:00\", \"2013-11-06T00:00:00\", \"2013-11-07T00:00:00\", \"2013-11-08T00:00:00\", \"2013-11-09T00:00:00\", \"2013-11-10T00:00:00\", \"2013-11-11T00:00:00\", \"2013-11-12T00:00:00\", \"2013-11-13T00:00:00\", \"2013-11-14T00:00:00\", \"2013-11-15T00:00:00\", \"2013-11-16T00:00:00\", \"2013-11-17T00:00:00\", \"2013-11-18T00:00:00\", \"2013-11-19T00:00:00\", \"2013-11-20T00:00:00\", \"2013-11-21T00:00:00\", \"2013-11-22T00:00:00\", \"2013-11-23T00:00:00\", \"2013-11-24T00:00:00\", \"2013-11-25T00:00:00\", \"2013-11-26T00:00:00\", \"2013-11-27T00:00:00\", \"2013-11-28T00:00:00\", \"2013-11-29T00:00:00\", \"2013-11-30T00:00:00\", \"2013-12-01T00:00:00\"], \"y\": [19437488.0, 12340177.0, 9248179.0, 10056384.0, 13908968.0, 7846775.5, 3704492.0, 4616108.5, 7561656.5, 831623.125, 33126102.0, 44788280.0, 8690601.0, 1021265.5625, 4723986.0, 11389690.0, 19261244.0, 20142910.0, 30553198.0, 40769540.0, 32711896.0, 25333034.0, 30751386.0, 7043337.0, 175660.9375, 6583218.5, 39753972.0, 41297724.0, 28958616.0, 31281462.0, 37942668.0, 33817224.0, 23675130.0, 42323340.0, 49962740.0, 38991684.0, 26479470.0, 20011110.0, 27641664.0, 15162140.0, 79628.2265625, 58916.3984375, 14217854.0, 34296580.0, 21556048.0, 1326072.25, 882711.125, 14721266.0, 721389.625, 4073569.5, 20140056.0, 4612376.5, 635.3994140625, 13738428.0, 18957618.0, 19123392.0, 32120124.0, 24751758.0, 51519712.0, 32911740.0, 268024.03125, 567727.125, 3581185.0, 40874216.0, 45091472.0, 40482192.0, 18916736.0, 42610944.0, 46704208.0, 26272796.0, 24592810.0, 45689664.0, 29394392.0, 23265476.0, 28763492.0, 38851868.0, 29750426.0, 21796590.0, 35124416.0, 42449564.0, 50818664.0, 52505964.0, 23821296.0, 35695372.0, 45611704.0, 31968268.0, 21418698.0, 34514988.0, 45260580.0, 47907168.0, 48729344.0, 53974392.0, 39699484.0, 43255384.0, 49606128.0, 46874048.0, 46634776.0, 42922816.0, 42310008.0, 14537598.0, 5757571.5, 2162103.25, 6564098.0, 19293024.0, 27718404.0, 26304072.0, 16912056.0, 18447878.0, 5560136.0, 7966081.0, 1372330.0, 34685116.0, 50432612.0, 29378040.0, 38771284.0, 28705580.0, 27310932.0, 27602746.0, 41919440.0, 42814240.0, 20521070.0, 38701432.0, 45148340.0, 39803644.0, 24900306.0, 10938244.0, 9531338.0, 25968020.0, 40361932.0, 40220416.0, 39241440.0, 39800376.0, 36854008.0, 35047996.0, 28430276.0, 40104936.0, 21144164.0, 25877380.0, 39424552.0, 42799896.0, 49755776.0, 45507644.0, 50264232.0, 44634864.0, 35230128.0, 19165740.0, 12019533.0, 21646818.0, 31370606.0, 35987508.0, 41042800.0, 43273656.0, 43900272.0, 38916256.0, 26408398.0, 27601430.0, 35837592.0, 39201372.0, 32710092.0, 34490660.0, 33027356.0, 34741000.0, 38190640.0, 37523264.0, 35364288.0, 34767460.0, 36334036.0, 38510608.0, 38331056.0, 36130296.0, 36686016.0, 37034216.0, 32725228.0, 31416396.0, 32267856.0, 28007146.0, 11750394.0, 22463206.0, 25384728.0, 31436640.0, 37204496.0, 21823354.0, 17665148.0, 26211042.0]}, {\"mode\": \"lines\", \"name\": \"Paddy transpiration\", \"type\": \"scatter\", \"x\": [\"2013-06-01T00:00:00\", \"2013-06-02T00:00:00\", \"2013-06-03T00:00:00\", \"2013-06-04T00:00:00\", \"2013-06-05T00:00:00\", \"2013-06-06T00:00:00\", \"2013-06-07T00:00:00\", \"2013-06-08T00:00:00\", \"2013-06-09T00:00:00\", \"2013-06-10T00:00:00\", \"2013-06-11T00:00:00\", \"2013-06-12T00:00:00\", \"2013-06-13T00:00:00\", \"2013-06-14T00:00:00\", \"2013-06-15T00:00:00\", \"2013-06-16T00:00:00\", \"2013-06-17T00:00:00\", \"2013-06-18T00:00:00\", \"2013-06-19T00:00:00\", \"2013-06-20T00:00:00\", \"2013-06-21T00:00:00\", \"2013-06-22T00:00:00\", \"2013-06-23T00:00:00\", \"2013-06-24T00:00:00\", \"2013-06-25T00:00:00\", \"2013-06-26T00:00:00\", \"2013-06-27T00:00:00\", \"2013-06-28T00:00:00\", \"2013-06-29T00:00:00\", \"2013-06-30T00:00:00\", \"2013-07-01T00:00:00\", \"2013-07-02T00:00:00\", \"2013-07-03T00:00:00\", \"2013-07-04T00:00:00\", \"2013-07-05T00:00:00\", \"2013-07-06T00:00:00\", \"2013-07-07T00:00:00\", \"2013-07-08T00:00:00\", \"2013-07-09T00:00:00\", \"2013-07-10T00:00:00\", \"2013-07-11T00:00:00\", \"2013-07-12T00:00:00\", \"2013-07-13T00:00:00\", \"2013-07-14T00:00:00\", \"2013-07-15T00:00:00\", \"2013-07-16T00:00:00\", \"2013-07-17T00:00:00\", \"2013-07-18T00:00:00\", \"2013-07-19T00:00:00\", \"2013-07-20T00:00:00\", \"2013-07-21T00:00:00\", \"2013-07-22T00:00:00\", \"2013-07-23T00:00:00\", \"2013-07-24T00:00:00\", \"2013-07-25T00:00:00\", \"2013-07-26T00:00:00\", \"2013-07-27T00:00:00\", \"2013-07-28T00:00:00\", \"2013-07-29T00:00:00\", \"2013-07-30T00:00:00\", \"2013-07-31T00:00:00\", \"2013-08-01T00:00:00\", \"2013-08-02T00:00:00\", \"2013-08-03T00:00:00\", \"2013-08-04T00:00:00\", \"2013-08-05T00:00:00\", \"2013-08-06T00:00:00\", \"2013-08-07T00:00:00\", \"2013-08-08T00:00:00\", \"2013-08-09T00:00:00\", \"2013-08-10T00:00:00\", \"2013-08-11T00:00:00\", \"2013-08-12T00:00:00\", \"2013-08-13T00:00:00\", \"2013-08-14T00:00:00\", \"2013-08-15T00:00:00\", \"2013-08-16T00:00:00\", \"2013-08-17T00:00:00\", \"2013-08-18T00:00:00\", \"2013-08-19T00:00:00\", \"2013-08-20T00:00:00\", \"2013-08-21T00:00:00\", \"2013-08-22T00:00:00\", \"2013-08-23T00:00:00\", \"2013-08-24T00:00:00\", \"2013-08-25T00:00:00\", \"2013-08-26T00:00:00\", \"2013-08-27T00:00:00\", \"2013-08-28T00:00:00\", \"2013-08-29T00:00:00\", \"2013-08-30T00:00:00\", \"2013-08-31T00:00:00\", \"2013-09-01T00:00:00\", \"2013-09-02T00:00:00\", \"2013-09-03T00:00:00\", \"2013-09-04T00:00:00\", \"2013-09-05T00:00:00\", \"2013-09-06T00:00:00\", \"2013-09-07T00:00:00\", \"2013-09-08T00:00:00\", \"2013-09-09T00:00:00\", \"2013-09-10T00:00:00\", \"2013-09-11T00:00:00\", \"2013-09-12T00:00:00\", \"2013-09-13T00:00:00\", \"2013-09-14T00:00:00\", \"2013-09-15T00:00:00\", \"2013-09-16T00:00:00\", \"2013-09-17T00:00:00\", \"2013-09-18T00:00:00\", \"2013-09-19T00:00:00\", \"2013-09-20T00:00:00\", \"2013-09-21T00:00:00\", \"2013-09-22T00:00:00\", \"2013-09-23T00:00:00\", \"2013-09-24T00:00:00\", \"2013-09-25T00:00:00\", \"2013-09-26T00:00:00\", \"2013-09-27T00:00:00\", \"2013-09-28T00:00:00\", \"2013-09-29T00:00:00\", \"2013-09-30T00:00:00\", \"2013-10-01T00:00:00\", \"2013-10-02T00:00:00\", \"2013-10-03T00:00:00\", \"2013-10-04T00:00:00\", \"2013-10-05T00:00:00\", \"2013-10-06T00:00:00\", \"2013-10-07T00:00:00\", \"2013-10-08T00:00:00\", \"2013-10-09T00:00:00\", \"2013-10-10T00:00:00\", \"2013-10-11T00:00:00\", \"2013-10-12T00:00:00\", \"2013-10-13T00:00:00\", \"2013-10-14T00:00:00\", \"2013-10-15T00:00:00\", \"2013-10-16T00:00:00\", \"2013-10-17T00:00:00\", \"2013-10-18T00:00:00\", \"2013-10-19T00:00:00\", \"2013-10-20T00:00:00\", \"2013-10-21T00:00:00\", \"2013-10-22T00:00:00\", \"2013-10-23T00:00:00\", \"2013-10-24T00:00:00\", \"2013-10-25T00:00:00\", \"2013-10-26T00:00:00\", \"2013-10-27T00:00:00\", \"2013-10-28T00:00:00\", \"2013-10-29T00:00:00\", \"2013-10-30T00:00:00\", \"2013-10-31T00:00:00\", \"2013-11-01T00:00:00\", \"2013-11-02T00:00:00\", \"2013-11-03T00:00:00\", \"2013-11-04T00:00:00\", \"2013-11-05T00:00:00\", \"2013-11-06T00:00:00\", \"2013-11-07T00:00:00\", \"2013-11-08T00:00:00\", \"2013-11-09T00:00:00\", \"2013-11-10T00:00:00\", \"2013-11-11T00:00:00\", \"2013-11-12T00:00:00\", \"2013-11-13T00:00:00\", \"2013-11-14T00:00:00\", \"2013-11-15T00:00:00\", \"2013-11-16T00:00:00\", \"2013-11-17T00:00:00\", \"2013-11-18T00:00:00\", \"2013-11-19T00:00:00\", \"2013-11-20T00:00:00\", \"2013-11-21T00:00:00\", \"2013-11-22T00:00:00\", \"2013-11-23T00:00:00\", \"2013-11-24T00:00:00\", \"2013-11-25T00:00:00\", \"2013-11-26T00:00:00\", \"2013-11-27T00:00:00\", \"2013-11-28T00:00:00\", \"2013-11-29T00:00:00\", \"2013-11-30T00:00:00\", \"2013-12-01T00:00:00\"], \"y\": [0.0, 0.0, 0.0, 0.0, 0.0, 0.0, 0.0, 0.0, 0.0, 0.0, 7.721800358417158e-14, 78767.3359375, 39791.34375, 54.60694122314453, 0.4777190685272217, 245.97445678710938, 1266.7952880859375, 21.58390235900879, 53460.1796875, 89502.2421875, 1383653.5, 1244554.25, 1346644.25, 180223.359375, 4.104862977305501e-11, 67070.0546875, 1137473.0, 1108491.125, 1049703.25, 998047.0625, 1880658.25, 2153945.0, 1791533.5, 2244367.5, 2843521.0, 2283873.0, 2020010.5, 1377972.375, 1759116.875, 1259755.875, 37562.7109375, 5869.26416015625, 1238357.375, 2502856.5, 867666.9375, 179735.4375, 272010.34375, 1089663.875, 264910.21875, 230133.84375, 1525518.25, 783410.125, 12.390336990356445, 746008.375, 1494216.0, 1158898.875, 1867914.0, 1588866.125, 3017187.0, 1899662.75, 65887.6171875, 85855.140625, 203603.046875, 2713547.0, 2668650.5, 2893564.75, 1289069.125, 2562293.75, 2987603.0, 1754170.625, 1504597.125, 2649268.25, 2538002.5, 1796931.25, 2202745.5, 2699064.75, 2578886.0, 2052633.5, 2474139.0, 2941499.5, 3319683.75, 3517849.25, 1814669.5, 1786868.5, 2967480.25, 1856790.125, 1696059.0, 2771100.25, 2871554.0, 3073036.0, 2947285.25, 3192256.75, 3722336.25, 3834737.75, 3530426.0, 3309736.0, 2996703.5, 3142013.5, 3380875.0, 2018506.375, 965947.0625, 513050.96875, 1244584.625, 2252360.75, 2891249.75, 2838083.5, 2095204.75, 2021523.75, 1321534.875, 1283011.5, 285399.46875, 3413913.0, 3737336.5, 1599573.375, 2663325.0, 2562048.0, 2474833.5, 3049565.5, 3252638.25, 3438039.25, 2058234.5, 3149063.0, 3956303.75, 3674269.75, 2738666.75, 1271740.875, 1912706.375, 3026387.0, 3446178.75, 3518612.5, 3650853.75, 3315896.0, 2714366.75, 2779401.75, 2845001.5, 3040010.75, 2229371.75, 2107565.0, 2892376.5, 2876075.75, 3608512.5, 3076196.5, 2864262.25, 3226578.0, 2706119.75, 2422631.0, 1470579.125, 1814505.5, 2062825.125, 2157895.75, 2560590.75, 2740320.5, 2854810.25, 2150746.75, 1819377.0, 1816226.875, 1910502.875, 2233465.0, 1783200.5, 1799975.375, 1696566.625, 1799579.0, 2118232.5, 1373730.25, 1321511.5, 1291110.875, 1346130.25, 1437474.875, 1464696.625, 1497507.875, 1422712.125, 1372092.125, 1188401.25, 468401.3125, 500880.4375, 469505.0625, 177511.484375, 134773.125, 111235.84375, 293549.6875, 545714.0, 475009.8125, 288868.125, 0.0]}, {\"mode\": \"lines\", \"name\": \"non-Paddy transpiration\", \"type\": \"scatter\", \"x\": [\"2013-06-01T00:00:00\", \"2013-06-02T00:00:00\", \"2013-06-03T00:00:00\", \"2013-06-04T00:00:00\", \"2013-06-05T00:00:00\", \"2013-06-06T00:00:00\", \"2013-06-07T00:00:00\", \"2013-06-08T00:00:00\", \"2013-06-09T00:00:00\", \"2013-06-10T00:00:00\", \"2013-06-11T00:00:00\", \"2013-06-12T00:00:00\", \"2013-06-13T00:00:00\", \"2013-06-14T00:00:00\", \"2013-06-15T00:00:00\", \"2013-06-16T00:00:00\", \"2013-06-17T00:00:00\", \"2013-06-18T00:00:00\", \"2013-06-19T00:00:00\", \"2013-06-20T00:00:00\", \"2013-06-21T00:00:00\", \"2013-06-22T00:00:00\", \"2013-06-23T00:00:00\", \"2013-06-24T00:00:00\", \"2013-06-25T00:00:00\", \"2013-06-26T00:00:00\", \"2013-06-27T00:00:00\", \"2013-06-28T00:00:00\", \"2013-06-29T00:00:00\", \"2013-06-30T00:00:00\", \"2013-07-01T00:00:00\", \"2013-07-02T00:00:00\", \"2013-07-03T00:00:00\", \"2013-07-04T00:00:00\", \"2013-07-05T00:00:00\", \"2013-07-06T00:00:00\", \"2013-07-07T00:00:00\", \"2013-07-08T00:00:00\", \"2013-07-09T00:00:00\", \"2013-07-10T00:00:00\", \"2013-07-11T00:00:00\", \"2013-07-12T00:00:00\", \"2013-07-13T00:00:00\", \"2013-07-14T00:00:00\", \"2013-07-15T00:00:00\", \"2013-07-16T00:00:00\", \"2013-07-17T00:00:00\", \"2013-07-18T00:00:00\", \"2013-07-19T00:00:00\", \"2013-07-20T00:00:00\", \"2013-07-21T00:00:00\", \"2013-07-22T00:00:00\", \"2013-07-23T00:00:00\", \"2013-07-24T00:00:00\", \"2013-07-25T00:00:00\", \"2013-07-26T00:00:00\", \"2013-07-27T00:00:00\", \"2013-07-28T00:00:00\", \"2013-07-29T00:00:00\", \"2013-07-30T00:00:00\", \"2013-07-31T00:00:00\", \"2013-08-01T00:00:00\", \"2013-08-02T00:00:00\", \"2013-08-03T00:00:00\", \"2013-08-04T00:00:00\", \"2013-08-05T00:00:00\", \"2013-08-06T00:00:00\", \"2013-08-07T00:00:00\", \"2013-08-08T00:00:00\", \"2013-08-09T00:00:00\", \"2013-08-10T00:00:00\", \"2013-08-11T00:00:00\", \"2013-08-12T00:00:00\", \"2013-08-13T00:00:00\", \"2013-08-14T00:00:00\", \"2013-08-15T00:00:00\", \"2013-08-16T00:00:00\", \"2013-08-17T00:00:00\", \"2013-08-18T00:00:00\", \"2013-08-19T00:00:00\", \"2013-08-20T00:00:00\", \"2013-08-21T00:00:00\", \"2013-08-22T00:00:00\", \"2013-08-23T00:00:00\", \"2013-08-24T00:00:00\", \"2013-08-25T00:00:00\", \"2013-08-26T00:00:00\", \"2013-08-27T00:00:00\", \"2013-08-28T00:00:00\", \"2013-08-29T00:00:00\", \"2013-08-30T00:00:00\", \"2013-08-31T00:00:00\", \"2013-09-01T00:00:00\", \"2013-09-02T00:00:00\", \"2013-09-03T00:00:00\", \"2013-09-04T00:00:00\", \"2013-09-05T00:00:00\", \"2013-09-06T00:00:00\", \"2013-09-07T00:00:00\", \"2013-09-08T00:00:00\", \"2013-09-09T00:00:00\", \"2013-09-10T00:00:00\", \"2013-09-11T00:00:00\", \"2013-09-12T00:00:00\", \"2013-09-13T00:00:00\", \"2013-09-14T00:00:00\", \"2013-09-15T00:00:00\", \"2013-09-16T00:00:00\", \"2013-09-17T00:00:00\", \"2013-09-18T00:00:00\", \"2013-09-19T00:00:00\", \"2013-09-20T00:00:00\", \"2013-09-21T00:00:00\", \"2013-09-22T00:00:00\", \"2013-09-23T00:00:00\", \"2013-09-24T00:00:00\", \"2013-09-25T00:00:00\", \"2013-09-26T00:00:00\", \"2013-09-27T00:00:00\", \"2013-09-28T00:00:00\", \"2013-09-29T00:00:00\", \"2013-09-30T00:00:00\", \"2013-10-01T00:00:00\", \"2013-10-02T00:00:00\", \"2013-10-03T00:00:00\", \"2013-10-04T00:00:00\", \"2013-10-05T00:00:00\", \"2013-10-06T00:00:00\", \"2013-10-07T00:00:00\", \"2013-10-08T00:00:00\", \"2013-10-09T00:00:00\", \"2013-10-10T00:00:00\", \"2013-10-11T00:00:00\", \"2013-10-12T00:00:00\", \"2013-10-13T00:00:00\", \"2013-10-14T00:00:00\", \"2013-10-15T00:00:00\", \"2013-10-16T00:00:00\", \"2013-10-17T00:00:00\", \"2013-10-18T00:00:00\", \"2013-10-19T00:00:00\", \"2013-10-20T00:00:00\", \"2013-10-21T00:00:00\", \"2013-10-22T00:00:00\", \"2013-10-23T00:00:00\", \"2013-10-24T00:00:00\", \"2013-10-25T00:00:00\", \"2013-10-26T00:00:00\", \"2013-10-27T00:00:00\", \"2013-10-28T00:00:00\", \"2013-10-29T00:00:00\", \"2013-10-30T00:00:00\", \"2013-10-31T00:00:00\", \"2013-11-01T00:00:00\", \"2013-11-02T00:00:00\", \"2013-11-03T00:00:00\", \"2013-11-04T00:00:00\", \"2013-11-05T00:00:00\", \"2013-11-06T00:00:00\", \"2013-11-07T00:00:00\", \"2013-11-08T00:00:00\", \"2013-11-09T00:00:00\", \"2013-11-10T00:00:00\", \"2013-11-11T00:00:00\", \"2013-11-12T00:00:00\", \"2013-11-13T00:00:00\", \"2013-11-14T00:00:00\", \"2013-11-15T00:00:00\", \"2013-11-16T00:00:00\", \"2013-11-17T00:00:00\", \"2013-11-18T00:00:00\", \"2013-11-19T00:00:00\", \"2013-11-20T00:00:00\", \"2013-11-21T00:00:00\", \"2013-11-22T00:00:00\", \"2013-11-23T00:00:00\", \"2013-11-24T00:00:00\", \"2013-11-25T00:00:00\", \"2013-11-26T00:00:00\", \"2013-11-27T00:00:00\", \"2013-11-28T00:00:00\", \"2013-11-29T00:00:00\", \"2013-11-30T00:00:00\", \"2013-12-01T00:00:00\"], \"y\": [3457801.0, 1574273.125, 977622.4375, 1286899.125, 1694358.5, 790636.125, 248575.28125, 398642.53125, 1187774.5, 172908.125, 1406657.5, 2713575.5, 457697.46875, 1090.96728515625, 3380.24755859375, 75169.0, 317448.6875, 143717.84375, 1205975.125, 2523402.0, 1957082.0, 1596425.875, 1732451.25, 3018.820068359375, 1.0254147531085778e-10, 11982.2451171875, 1021398.5, 1830119.5, 473608.75, 1340877.875, 10047166.0, 11051440.0, 7105167.5, 14684922.0, 18108278.0, 13532687.0, 8711097.0, 7079217.5, 9000844.0, 4795068.0, 17397.556640625, 14939.3583984375, 3977261.0, 11365622.0, 6024430.0, 263144.9375, 102494.7421875, 3886584.0, 93416.09375, 1035361.5, 5931870.0, 1133776.375, 37.63909912109375, 3709335.75, 5275965.0, 5444178.0, 9591156.0, 7126097.5, 17245288.0, 10119115.0, 83191.453125, 337527.625, 1567489.625, 16227719.0, 18522234.0, 17249052.0, 8753016.0, 19255650.0, 21167324.0, 10520583.0, 9583724.0, 18857548.0, 12173463.0, 9414530.0, 11556958.0, 16284749.0, 13623750.0, 10088919.0, 15295132.0, 19731896.0, 23610672.0, 24545250.0, 11010625.0, 15210335.0, 21001394.0, 13514652.0, 8778064.0, 14857266.0, 20236424.0, 22573456.0, 22216656.0, 24957744.0, 14642363.0, 16632961.0, 20209112.0, 18126894.0, 17131988.0, 17135298.0, 16547649.0, 4425324.0, 1719723.125, 779378.25, 2194165.5, 5414512.5, 7819402.0, 7472031.5, 4950365.5, 5723989.0, 2152122.75, 2626651.0, 618204.4375, 10972518.0, 18498208.0, 10038040.0, 13802453.0, 8684020.0, 9735153.0, 8828880.0, 14937391.0, 16800532.0, 6008688.5, 13402783.0, 8604084.0, 7329424.0, 3510355.75, 477802.5, 554934.6875, 2693958.75, 5512903.0, 6583680.5, 7009102.0, 6325445.0, 6213643.0, 5999543.5, 4056580.25, 6480177.5, 1217558.75, 1958071.875, 4884632.5, 6745265.0, 9258782.0, 8839845.0, 10292424.0, 10187893.0, 7792828.0, 4374926.0, 836524.0, 2740340.75, 4573235.0, 6137742.5, 7998992.0, 9332498.0, 9950351.0, 14747631.0, 10811702.0, 10533456.0, 13510218.0, 15926752.0, 12555818.0, 13414670.0, 12746983.0, 13808241.0, 15503023.0, 15069458.0, 14325387.0, 14165568.0, 14760528.0, 15789236.0, 16007372.0, 15960229.0, 15657148.0, 15626352.0, 13470714.0, 13235995.0, 13785970.0, 12367368.0, 3701582.0, 6940292.5, 8852299.0, 12804236.0, 16014349.0, 10517089.0, 7501218.5, 19960820.0]}, {\"mode\": \"lines\", \"name\": \"Irrigation demand\", \"type\": \"scatter\", \"x\": [\"2013-06-01T00:00:00\", \"2013-06-02T00:00:00\", \"2013-06-03T00:00:00\", \"2013-06-04T00:00:00\", \"2013-06-05T00:00:00\", \"2013-06-06T00:00:00\", \"2013-06-07T00:00:00\", \"2013-06-08T00:00:00\", \"2013-06-09T00:00:00\", \"2013-06-10T00:00:00\", \"2013-06-11T00:00:00\", \"2013-06-12T00:00:00\", \"2013-06-13T00:00:00\", \"2013-06-14T00:00:00\", \"2013-06-15T00:00:00\", \"2013-06-16T00:00:00\", \"2013-06-17T00:00:00\", \"2013-06-18T00:00:00\", \"2013-06-19T00:00:00\", \"2013-06-20T00:00:00\", \"2013-06-21T00:00:00\", \"2013-06-22T00:00:00\", \"2013-06-23T00:00:00\", \"2013-06-24T00:00:00\", \"2013-06-25T00:00:00\", \"2013-06-26T00:00:00\", \"2013-06-27T00:00:00\", \"2013-06-28T00:00:00\", \"2013-06-29T00:00:00\", \"2013-06-30T00:00:00\", \"2013-07-01T00:00:00\", \"2013-07-02T00:00:00\", \"2013-07-03T00:00:00\", \"2013-07-04T00:00:00\", \"2013-07-05T00:00:00\", \"2013-07-06T00:00:00\", \"2013-07-07T00:00:00\", \"2013-07-08T00:00:00\", \"2013-07-09T00:00:00\", \"2013-07-10T00:00:00\", \"2013-07-11T00:00:00\", \"2013-07-12T00:00:00\", \"2013-07-13T00:00:00\", \"2013-07-14T00:00:00\", \"2013-07-15T00:00:00\", \"2013-07-16T00:00:00\", \"2013-07-17T00:00:00\", \"2013-07-18T00:00:00\", \"2013-07-19T00:00:00\", \"2013-07-20T00:00:00\", \"2013-07-21T00:00:00\", \"2013-07-22T00:00:00\", \"2013-07-23T00:00:00\", \"2013-07-24T00:00:00\", \"2013-07-25T00:00:00\", \"2013-07-26T00:00:00\", \"2013-07-27T00:00:00\", \"2013-07-28T00:00:00\", \"2013-07-29T00:00:00\", \"2013-07-30T00:00:00\", \"2013-07-31T00:00:00\", \"2013-08-01T00:00:00\", \"2013-08-02T00:00:00\", \"2013-08-03T00:00:00\", \"2013-08-04T00:00:00\", \"2013-08-05T00:00:00\", \"2013-08-06T00:00:00\", \"2013-08-07T00:00:00\", \"2013-08-08T00:00:00\", \"2013-08-09T00:00:00\", \"2013-08-10T00:00:00\", \"2013-08-11T00:00:00\", \"2013-08-12T00:00:00\", \"2013-08-13T00:00:00\", \"2013-08-14T00:00:00\", \"2013-08-15T00:00:00\", \"2013-08-16T00:00:00\", \"2013-08-17T00:00:00\", \"2013-08-18T00:00:00\", \"2013-08-19T00:00:00\", \"2013-08-20T00:00:00\", \"2013-08-21T00:00:00\", \"2013-08-22T00:00:00\", \"2013-08-23T00:00:00\", \"2013-08-24T00:00:00\", \"2013-08-25T00:00:00\", \"2013-08-26T00:00:00\", \"2013-08-27T00:00:00\", \"2013-08-28T00:00:00\", \"2013-08-29T00:00:00\", \"2013-08-30T00:00:00\", \"2013-08-31T00:00:00\", \"2013-09-01T00:00:00\", \"2013-09-02T00:00:00\", \"2013-09-03T00:00:00\", \"2013-09-04T00:00:00\", \"2013-09-05T00:00:00\", \"2013-09-06T00:00:00\", \"2013-09-07T00:00:00\", \"2013-09-08T00:00:00\", \"2013-09-09T00:00:00\", \"2013-09-10T00:00:00\", \"2013-09-11T00:00:00\", \"2013-09-12T00:00:00\", \"2013-09-13T00:00:00\", \"2013-09-14T00:00:00\", \"2013-09-15T00:00:00\", \"2013-09-16T00:00:00\", \"2013-09-17T00:00:00\", \"2013-09-18T00:00:00\", \"2013-09-19T00:00:00\", \"2013-09-20T00:00:00\", \"2013-09-21T00:00:00\", \"2013-09-22T00:00:00\", \"2013-09-23T00:00:00\", \"2013-09-24T00:00:00\", \"2013-09-25T00:00:00\", \"2013-09-26T00:00:00\", \"2013-09-27T00:00:00\", \"2013-09-28T00:00:00\", \"2013-09-29T00:00:00\", \"2013-09-30T00:00:00\", \"2013-10-01T00:00:00\", \"2013-10-02T00:00:00\", \"2013-10-03T00:00:00\", \"2013-10-04T00:00:00\", \"2013-10-05T00:00:00\", \"2013-10-06T00:00:00\", \"2013-10-07T00:00:00\", \"2013-10-08T00:00:00\", \"2013-10-09T00:00:00\", \"2013-10-10T00:00:00\", \"2013-10-11T00:00:00\", \"2013-10-12T00:00:00\", \"2013-10-13T00:00:00\", \"2013-10-14T00:00:00\", \"2013-10-15T00:00:00\", \"2013-10-16T00:00:00\", \"2013-10-17T00:00:00\", \"2013-10-18T00:00:00\", \"2013-10-19T00:00:00\", \"2013-10-20T00:00:00\", \"2013-10-21T00:00:00\", \"2013-10-22T00:00:00\", \"2013-10-23T00:00:00\", \"2013-10-24T00:00:00\", \"2013-10-25T00:00:00\", \"2013-10-26T00:00:00\", \"2013-10-27T00:00:00\", \"2013-10-28T00:00:00\", \"2013-10-29T00:00:00\", \"2013-10-30T00:00:00\", \"2013-10-31T00:00:00\", \"2013-11-01T00:00:00\", \"2013-11-02T00:00:00\", \"2013-11-03T00:00:00\", \"2013-11-04T00:00:00\", \"2013-11-05T00:00:00\", \"2013-11-06T00:00:00\", \"2013-11-07T00:00:00\", \"2013-11-08T00:00:00\", \"2013-11-09T00:00:00\", \"2013-11-10T00:00:00\", \"2013-11-11T00:00:00\", \"2013-11-12T00:00:00\", \"2013-11-13T00:00:00\", \"2013-11-14T00:00:00\", \"2013-11-15T00:00:00\", \"2013-11-16T00:00:00\", \"2013-11-17T00:00:00\", \"2013-11-18T00:00:00\", \"2013-11-19T00:00:00\", \"2013-11-20T00:00:00\", \"2013-11-21T00:00:00\", \"2013-11-22T00:00:00\", \"2013-11-23T00:00:00\", \"2013-11-24T00:00:00\", \"2013-11-25T00:00:00\", \"2013-11-26T00:00:00\", \"2013-11-27T00:00:00\", \"2013-11-28T00:00:00\", \"2013-11-29T00:00:00\", \"2013-11-30T00:00:00\", \"2013-12-01T00:00:00\"], \"y\": [3059523.5, 26583.84375, 0.0, 0.0, 62928.08984375, 0.0, 0.0, 0.0, 0.0, 0.0, 0.0, 0.0, 0.0, 0.0, 0.0, 0.0, 0.0, 0.0, 0.0, 0.0, 0.0, 0.0, 0.0, 0.0, 0.0, 0.0, 0.0, 0.0, 0.0, 0.0, 67866048.0, 55557344.0, 44979376.0, 54062140.0, 55950508.0, 42614744.0, 41203456.0, 39224388.0, 40871968.0, 35264688.0, 26331452.0, 19169530.0, 24387220.0, 31345610.0, 29753812.0, 22433896.0, 20311260.0, 24413390.0, 13621401.0, 19435814.0, 19108868.0, 18949284.0, 7323750.5, 12400779.0, 14510692.0, 16416188.0, 15532309.0, 17509980.0, 20805604.0, 20891676.0, 9248971.0, 8541917.0, 11224265.0, 14017005.0, 17834680.0, 19256062.0, 20615580.0, 19884406.0, 23714846.0, 23727712.0, 23026830.0, 25827400.0, 27031084.0, 26101116.0, 27712116.0, 32877846.0, 31613616.0, 31032120.0, 36632172.0, 44918816.0, 55403672.0, 72198416.0, 38166388.0, 42946696.0, 77418904.0, 50942172.0, 39897064.0, 54419632.0, 80625992.0, 106641560.0, 96981688.0, 130327392.0, 104644928.0, 100411448.0, 103196776.0, 106456320.0, 111794240.0, 98880200.0, 114998640.0, 49193320.0, 29870090.0, 6453795.0, 17331862.0, 20010318.0, 17466238.0, 16827976.0, 17164156.0, 19513758.0, 14551465.0, 4933131.0, 10399190.0, 12293053.0, 19414960.0, 20398164.0, 19983930.0, 21625820.0, 23089224.0, 24059036.0, 27338548.0, 28896234.0, 29002920.0, 32365592.0, 31553310.0, 33507866.0, 31043630.0, 28737102.0, 26759568.0, 29542556.0, 31852588.0, 33490340.0, 34957956.0, 35759808.0, 37322356.0, 37710132.0, 38377348.0, 39779088.0, 29207888.0, 35717596.0, 36504228.0, 37848608.0, 40639032.0, 41189544.0, 43551492.0, 46834400.0, 44934740.0, 45051352.0, 36944412.0, 41074792.0, 41522312.0, 42971188.0, 45153128.0, 48549396.0, 51442452.0, 45844804.0, 45657808.0, 45568864.0, 46012164.0, 47020848.0, 46407132.0, 45835944.0, 45284760.0, 45248840.0, 46487548.0, 1885227.5, 1870807.625, 1557177.875, 2708588.75, 4468485.0, 5601699.0, 7617761.5, 4746542.0, 4965298.5, 2011496.0, 2217109.5, 4722686.5, 2857885.25, 1420795.625, 1655269.375, 1657370.125, 3191337.75, 21510646.0, 6741565.0, 392853.8125, 32905560.0]}, {\"mode\": \"lines\", \"name\": \"non-Irrigation demand\", \"type\": \"scatter\", \"x\": [\"2013-06-01T00:00:00\", \"2013-06-02T00:00:00\", \"2013-06-03T00:00:00\", \"2013-06-04T00:00:00\", \"2013-06-05T00:00:00\", \"2013-06-06T00:00:00\", \"2013-06-07T00:00:00\", \"2013-06-08T00:00:00\", \"2013-06-09T00:00:00\", \"2013-06-10T00:00:00\", \"2013-06-11T00:00:00\", \"2013-06-12T00:00:00\", \"2013-06-13T00:00:00\", \"2013-06-14T00:00:00\", \"2013-06-15T00:00:00\", \"2013-06-16T00:00:00\", \"2013-06-17T00:00:00\", \"2013-06-18T00:00:00\", \"2013-06-19T00:00:00\", \"2013-06-20T00:00:00\", \"2013-06-21T00:00:00\", \"2013-06-22T00:00:00\", \"2013-06-23T00:00:00\", \"2013-06-24T00:00:00\", \"2013-06-25T00:00:00\", \"2013-06-26T00:00:00\", \"2013-06-27T00:00:00\", \"2013-06-28T00:00:00\", \"2013-06-29T00:00:00\", \"2013-06-30T00:00:00\", \"2013-07-01T00:00:00\", \"2013-07-02T00:00:00\", \"2013-07-03T00:00:00\", \"2013-07-04T00:00:00\", \"2013-07-05T00:00:00\", \"2013-07-06T00:00:00\", \"2013-07-07T00:00:00\", \"2013-07-08T00:00:00\", \"2013-07-09T00:00:00\", \"2013-07-10T00:00:00\", \"2013-07-11T00:00:00\", \"2013-07-12T00:00:00\", \"2013-07-13T00:00:00\", \"2013-07-14T00:00:00\", \"2013-07-15T00:00:00\", \"2013-07-16T00:00:00\", \"2013-07-17T00:00:00\", \"2013-07-18T00:00:00\", \"2013-07-19T00:00:00\", \"2013-07-20T00:00:00\", \"2013-07-21T00:00:00\", \"2013-07-22T00:00:00\", \"2013-07-23T00:00:00\", \"2013-07-24T00:00:00\", \"2013-07-25T00:00:00\", \"2013-07-26T00:00:00\", \"2013-07-27T00:00:00\", \"2013-07-28T00:00:00\", \"2013-07-29T00:00:00\", \"2013-07-30T00:00:00\", \"2013-07-31T00:00:00\", \"2013-08-01T00:00:00\", \"2013-08-02T00:00:00\", \"2013-08-03T00:00:00\", \"2013-08-04T00:00:00\", \"2013-08-05T00:00:00\", \"2013-08-06T00:00:00\", \"2013-08-07T00:00:00\", \"2013-08-08T00:00:00\", \"2013-08-09T00:00:00\", \"2013-08-10T00:00:00\", \"2013-08-11T00:00:00\", \"2013-08-12T00:00:00\", \"2013-08-13T00:00:00\", \"2013-08-14T00:00:00\", \"2013-08-15T00:00:00\", \"2013-08-16T00:00:00\", \"2013-08-17T00:00:00\", \"2013-08-18T00:00:00\", \"2013-08-19T00:00:00\", \"2013-08-20T00:00:00\", \"2013-08-21T00:00:00\", \"2013-08-22T00:00:00\", \"2013-08-23T00:00:00\", \"2013-08-24T00:00:00\", \"2013-08-25T00:00:00\", \"2013-08-26T00:00:00\", \"2013-08-27T00:00:00\", \"2013-08-28T00:00:00\", \"2013-08-29T00:00:00\", \"2013-08-30T00:00:00\", \"2013-08-31T00:00:00\", \"2013-09-01T00:00:00\", \"2013-09-02T00:00:00\", \"2013-09-03T00:00:00\", \"2013-09-04T00:00:00\", \"2013-09-05T00:00:00\", \"2013-09-06T00:00:00\", \"2013-09-07T00:00:00\", \"2013-09-08T00:00:00\", \"2013-09-09T00:00:00\", \"2013-09-10T00:00:00\", \"2013-09-11T00:00:00\", \"2013-09-12T00:00:00\", \"2013-09-13T00:00:00\", \"2013-09-14T00:00:00\", \"2013-09-15T00:00:00\", \"2013-09-16T00:00:00\", \"2013-09-17T00:00:00\", \"2013-09-18T00:00:00\", \"2013-09-19T00:00:00\", \"2013-09-20T00:00:00\", \"2013-09-21T00:00:00\", \"2013-09-22T00:00:00\", \"2013-09-23T00:00:00\", \"2013-09-24T00:00:00\", \"2013-09-25T00:00:00\", \"2013-09-26T00:00:00\", \"2013-09-27T00:00:00\", \"2013-09-28T00:00:00\", \"2013-09-29T00:00:00\", \"2013-09-30T00:00:00\", \"2013-10-01T00:00:00\", \"2013-10-02T00:00:00\", \"2013-10-03T00:00:00\", \"2013-10-04T00:00:00\", \"2013-10-05T00:00:00\", \"2013-10-06T00:00:00\", \"2013-10-07T00:00:00\", \"2013-10-08T00:00:00\", \"2013-10-09T00:00:00\", \"2013-10-10T00:00:00\", \"2013-10-11T00:00:00\", \"2013-10-12T00:00:00\", \"2013-10-13T00:00:00\", \"2013-10-14T00:00:00\", \"2013-10-15T00:00:00\", \"2013-10-16T00:00:00\", \"2013-10-17T00:00:00\", \"2013-10-18T00:00:00\", \"2013-10-19T00:00:00\", \"2013-10-20T00:00:00\", \"2013-10-21T00:00:00\", \"2013-10-22T00:00:00\", \"2013-10-23T00:00:00\", \"2013-10-24T00:00:00\", \"2013-10-25T00:00:00\", \"2013-10-26T00:00:00\", \"2013-10-27T00:00:00\", \"2013-10-28T00:00:00\", \"2013-10-29T00:00:00\", \"2013-10-30T00:00:00\", \"2013-10-31T00:00:00\", \"2013-11-01T00:00:00\", \"2013-11-02T00:00:00\", \"2013-11-03T00:00:00\", \"2013-11-04T00:00:00\", \"2013-11-05T00:00:00\", \"2013-11-06T00:00:00\", \"2013-11-07T00:00:00\", \"2013-11-08T00:00:00\", \"2013-11-09T00:00:00\", \"2013-11-10T00:00:00\", \"2013-11-11T00:00:00\", \"2013-11-12T00:00:00\", \"2013-11-13T00:00:00\", \"2013-11-14T00:00:00\", \"2013-11-15T00:00:00\", \"2013-11-16T00:00:00\", \"2013-11-17T00:00:00\", \"2013-11-18T00:00:00\", \"2013-11-19T00:00:00\", \"2013-11-20T00:00:00\", \"2013-11-21T00:00:00\", \"2013-11-22T00:00:00\", \"2013-11-23T00:00:00\", \"2013-11-24T00:00:00\", \"2013-11-25T00:00:00\", \"2013-11-26T00:00:00\", \"2013-11-27T00:00:00\", \"2013-11-28T00:00:00\", \"2013-11-29T00:00:00\", \"2013-11-30T00:00:00\", \"2013-12-01T00:00:00\"], \"y\": [9263372.0, 9159678.0, 9102888.0, 9200978.0, 9180402.0, 9222470.0, 9246994.0, 9215920.0, 9203084.0, 9207474.0, 9309828.0, 9263428.0, 9207488.0, 9165768.0, 9184914.0, 9642854.0, 10497230.0, 10645770.0, 10885875.0, 11690234.0, 11620264.0, 11541780.0, 11466428.0, 11396590.0, 11456642.0, 11596910.0, 11588493.0, 11543558.0, 11494266.0, 11453788.0, 11274766.0, 11225264.0, 11260016.0, 11269492.0, 11259084.0, 11197080.0, 11133842.0, 11096754.0, 11052112.0, 10998494.0, 11068148.0, 11225170.0, 11655744.0, 11772152.0, 11713248.0, 11654902.0, 11757392.0, 11952198.0, 11965696.0, 12221036.0, 12460054.0, 12527932.0, 12574156.0, 13254300.0, 13681312.0, 13709296.0, 13700156.0, 13688024.0, 13666108.0, 13582732.0, 13585840.0, 13722773.0, 13910519.0, 13971533.0, 13852070.0, 13777338.0, 13708622.0, 13631332.0, 13544237.0, 13456701.0, 13388289.0, 13328881.0, 13251945.0, 13186531.0, 13140084.0, 13080637.0, 12997981.0, 12916966.0, 12845148.0, 12770314.0, 12684331.0, 12592939.0, 12504898.0, 12423520.0, 12353518.0, 12272274.0, 12220864.0, 12148362.0, 12064771.0, 11983672.0, 11901186.0, 11821422.0, 11865001.0, 11777567.0, 11690202.0, 11382985.0, 11305860.0, 11236147.0, 11160123.0, 11079603.0, 11031265.0, 11098209.0, 11729241.0, 11888065.0, 11953951.0, 12065424.0, 12136066.0, 12318632.0, 12280259.0, 12250448.0, 12899295.0, 13007229.0, 12941140.0, 12854808.0, 12781926.0, 12708824.0, 12675170.0, 12598338.0, 12517797.0, 12433648.0, 12347110.0, 12274538.0, 12069344.0, 11982709.0, 11897392.0, 11820980.0, 11798832.0, 11768202.0, 11698956.0, 11619700.0, 11538908.0, 11456405.0, 11380726.0, 11303774.0, 11228153.0, 11150392.0, 11073613.0, 11073362.0, 11011329.0, 10936183.0, 10860223.0, 10779554.0, 10703309.0, 10626264.0, 10546517.0, 10467579.0, 10390350.0, 10379487.0, 10315461.0, 10245693.0, 10177162.0, 10108376.0, 10036964.0, 10089843.0, 10018721.0, 9947731.0, 9878983.0, 9811313.0, 9741944.0, 9675284.0, 9611171.0, 9546646.0, 9484077.0, 9417044.0, 9352770.0, 9288705.0, 9226343.0, 9162957.0, 9095905.0, 9031415.0, 8967133.0, 8904388.0, 8843899.0, 8785084.0, 8727530.0, 8668306.0, 8610481.0, 8553855.0, 8499343.0, 8445249.0, 8393063.0, 8335221.0, 8279009.0, 8102569.5]}, {\"mode\": \"lines\", \"name\": \"domesticDemand\", \"type\": \"scatter\", \"x\": [\"2013-06-01T00:00:00\", \"2013-06-02T00:00:00\", \"2013-06-03T00:00:00\", \"2013-06-04T00:00:00\", \"2013-06-05T00:00:00\", \"2013-06-06T00:00:00\", \"2013-06-07T00:00:00\", \"2013-06-08T00:00:00\", \"2013-06-09T00:00:00\", \"2013-06-10T00:00:00\", \"2013-06-11T00:00:00\", \"2013-06-12T00:00:00\", \"2013-06-13T00:00:00\", \"2013-06-14T00:00:00\", \"2013-06-15T00:00:00\", \"2013-06-16T00:00:00\", \"2013-06-17T00:00:00\", \"2013-06-18T00:00:00\", \"2013-06-19T00:00:00\", \"2013-06-20T00:00:00\", \"2013-06-21T00:00:00\", \"2013-06-22T00:00:00\", \"2013-06-23T00:00:00\", \"2013-06-24T00:00:00\", \"2013-06-25T00:00:00\", \"2013-06-26T00:00:00\", \"2013-06-27T00:00:00\", \"2013-06-28T00:00:00\", \"2013-06-29T00:00:00\", \"2013-06-30T00:00:00\", \"2013-07-01T00:00:00\", \"2013-07-02T00:00:00\", \"2013-07-03T00:00:00\", \"2013-07-04T00:00:00\", \"2013-07-05T00:00:00\", \"2013-07-06T00:00:00\", \"2013-07-07T00:00:00\", \"2013-07-08T00:00:00\", \"2013-07-09T00:00:00\", \"2013-07-10T00:00:00\", \"2013-07-11T00:00:00\", \"2013-07-12T00:00:00\", \"2013-07-13T00:00:00\", \"2013-07-14T00:00:00\", \"2013-07-15T00:00:00\", \"2013-07-16T00:00:00\", \"2013-07-17T00:00:00\", \"2013-07-18T00:00:00\", \"2013-07-19T00:00:00\", \"2013-07-20T00:00:00\", \"2013-07-21T00:00:00\", \"2013-07-22T00:00:00\", \"2013-07-23T00:00:00\", \"2013-07-24T00:00:00\", \"2013-07-25T00:00:00\", \"2013-07-26T00:00:00\", \"2013-07-27T00:00:00\", \"2013-07-28T00:00:00\", \"2013-07-29T00:00:00\", \"2013-07-30T00:00:00\", \"2013-07-31T00:00:00\", \"2013-08-01T00:00:00\", \"2013-08-02T00:00:00\", \"2013-08-03T00:00:00\", \"2013-08-04T00:00:00\", \"2013-08-05T00:00:00\", \"2013-08-06T00:00:00\", \"2013-08-07T00:00:00\", \"2013-08-08T00:00:00\", \"2013-08-09T00:00:00\", \"2013-08-10T00:00:00\", \"2013-08-11T00:00:00\", \"2013-08-12T00:00:00\", \"2013-08-13T00:00:00\", \"2013-08-14T00:00:00\", \"2013-08-15T00:00:00\", \"2013-08-16T00:00:00\", \"2013-08-17T00:00:00\", \"2013-08-18T00:00:00\", \"2013-08-19T00:00:00\", \"2013-08-20T00:00:00\", \"2013-08-21T00:00:00\", \"2013-08-22T00:00:00\", \"2013-08-23T00:00:00\", \"2013-08-24T00:00:00\", \"2013-08-25T00:00:00\", \"2013-08-26T00:00:00\", \"2013-08-27T00:00:00\", \"2013-08-28T00:00:00\", \"2013-08-29T00:00:00\", \"2013-08-30T00:00:00\", \"2013-08-31T00:00:00\", \"2013-09-01T00:00:00\", \"2013-09-02T00:00:00\", \"2013-09-03T00:00:00\", \"2013-09-04T00:00:00\", \"2013-09-05T00:00:00\", \"2013-09-06T00:00:00\", \"2013-09-07T00:00:00\", \"2013-09-08T00:00:00\", \"2013-09-09T00:00:00\", \"2013-09-10T00:00:00\", \"2013-09-11T00:00:00\", \"2013-09-12T00:00:00\", \"2013-09-13T00:00:00\", \"2013-09-14T00:00:00\", \"2013-09-15T00:00:00\", \"2013-09-16T00:00:00\", \"2013-09-17T00:00:00\", \"2013-09-18T00:00:00\", \"2013-09-19T00:00:00\", \"2013-09-20T00:00:00\", \"2013-09-21T00:00:00\", \"2013-09-22T00:00:00\", \"2013-09-23T00:00:00\", \"2013-09-24T00:00:00\", \"2013-09-25T00:00:00\", \"2013-09-26T00:00:00\", \"2013-09-27T00:00:00\", \"2013-09-28T00:00:00\", \"2013-09-29T00:00:00\", \"2013-09-30T00:00:00\", \"2013-10-01T00:00:00\", \"2013-10-02T00:00:00\", \"2013-10-03T00:00:00\", \"2013-10-04T00:00:00\", \"2013-10-05T00:00:00\", \"2013-10-06T00:00:00\", \"2013-10-07T00:00:00\", \"2013-10-08T00:00:00\", \"2013-10-09T00:00:00\", \"2013-10-10T00:00:00\", \"2013-10-11T00:00:00\", \"2013-10-12T00:00:00\", \"2013-10-13T00:00:00\", \"2013-10-14T00:00:00\", \"2013-10-15T00:00:00\", \"2013-10-16T00:00:00\", \"2013-10-17T00:00:00\", \"2013-10-18T00:00:00\", \"2013-10-19T00:00:00\", \"2013-10-20T00:00:00\", \"2013-10-21T00:00:00\", \"2013-10-22T00:00:00\", \"2013-10-23T00:00:00\", \"2013-10-24T00:00:00\", \"2013-10-25T00:00:00\", \"2013-10-26T00:00:00\", \"2013-10-27T00:00:00\", \"2013-10-28T00:00:00\", \"2013-10-29T00:00:00\", \"2013-10-30T00:00:00\", \"2013-10-31T00:00:00\", \"2013-11-01T00:00:00\", \"2013-11-02T00:00:00\", \"2013-11-03T00:00:00\", \"2013-11-04T00:00:00\", \"2013-11-05T00:00:00\", \"2013-11-06T00:00:00\", \"2013-11-07T00:00:00\", \"2013-11-08T00:00:00\", \"2013-11-09T00:00:00\", \"2013-11-10T00:00:00\", \"2013-11-11T00:00:00\", \"2013-11-12T00:00:00\", \"2013-11-13T00:00:00\", \"2013-11-14T00:00:00\", \"2013-11-15T00:00:00\", \"2013-11-16T00:00:00\", \"2013-11-17T00:00:00\", \"2013-11-18T00:00:00\", \"2013-11-19T00:00:00\", \"2013-11-20T00:00:00\", \"2013-11-21T00:00:00\", \"2013-11-22T00:00:00\", \"2013-11-23T00:00:00\", \"2013-11-24T00:00:00\", \"2013-11-25T00:00:00\", \"2013-11-26T00:00:00\", \"2013-11-27T00:00:00\", \"2013-11-28T00:00:00\", \"2013-11-29T00:00:00\", \"2013-11-30T00:00:00\", \"2013-12-01T00:00:00\"], \"y\": [3796249.0, 3796249.0, 3796249.0, 3796249.0, 3796249.0, 3796249.0, 3796249.0, 3796249.0, 3796249.0, 3796249.0, 3796249.0, 3796249.0, 3796249.0, 3796249.0, 3796249.0, 3796249.0, 3796249.0, 3796249.0, 3796249.0, 3796249.0, 3796249.0, 3796249.0, 3796249.0, 3796249.0, 3796249.0, 3796249.0, 3796249.0, 3796249.0, 3796249.0, 3796249.0, 3673789.0, 3673789.0, 3673789.0, 3673789.0, 3673789.0, 3673789.0, 3673789.0, 3673789.0, 3673789.0, 3673789.0, 3673789.0, 3673789.0, 3673789.0, 3673789.0, 3673789.0, 3673789.0, 3673789.0, 3673789.0, 3673789.0, 3673789.0, 3673789.0, 3673789.0, 3673789.0, 3673789.0, 3673789.0, 3673789.0, 3673789.0, 3673789.0, 3673789.0, 3673789.0, 3673789.0, 3673789.0, 3673789.0, 3673789.0, 3673789.0, 3673789.0, 3673789.0, 3673789.0, 3673789.0, 3673789.0, 3673789.0, 3673789.0, 3673789.0, 3673789.0, 3673789.0, 3673789.0, 3673789.0, 3673789.0, 3673789.0, 3673789.0, 3673789.0, 3673789.0, 3673789.0, 3673789.0, 3673789.0, 3673789.0, 3673789.0, 3673789.0, 3673789.0, 3673789.0, 3673789.0, 3673789.0, 3796249.0, 3796249.0, 3796249.0, 3796249.0, 3796249.0, 3796249.0, 3796249.0, 3796249.0, 3796249.0, 3796249.0, 3796249.0, 3796249.0, 3796249.0, 3796249.0, 3796249.0, 3796249.0, 3796249.0, 3796249.0, 3796249.0, 3796249.0, 3796249.0, 3796249.0, 3796249.0, 3796249.0, 3796249.0, 3796249.0, 3796249.0, 3796249.0, 3796249.0, 3796249.0, 3673789.0, 3673789.0, 3673789.0, 3673789.0, 3673789.0, 3673789.0, 3673789.0, 3673789.0, 3673789.0, 3673789.0, 3673789.0, 3673789.0, 3673789.0, 3673789.0, 3673789.0, 3673789.0, 3673789.0, 3673789.0, 3673789.0, 3673789.0, 3673789.0, 3673789.0, 3673789.0, 3673789.0, 3673789.0, 3673789.0, 3673789.0, 3673789.0, 3673789.0, 3673789.0, 3673789.0, 3796249.0, 3796249.0, 3796249.0, 3796249.0, 3796249.0, 3796249.0, 3796249.0, 3796249.0, 3796249.0, 3796249.0, 3796249.0, 3796249.0, 3796249.0, 3796249.0, 3796249.0, 3796249.0, 3796249.0, 3796249.0, 3796249.0, 3796249.0, 3796249.0, 3796249.0, 3796249.0, 3796249.0, 3796249.0, 3796249.0, 3796249.0, 3796249.0, 3796249.0, 3796249.0, 3673789.0]}, {\"mode\": \"lines\", \"name\": \"industryDemand\", \"type\": \"scatter\", \"x\": [\"2013-06-01T00:00:00\", \"2013-06-02T00:00:00\", \"2013-06-03T00:00:00\", \"2013-06-04T00:00:00\", \"2013-06-05T00:00:00\", \"2013-06-06T00:00:00\", \"2013-06-07T00:00:00\", \"2013-06-08T00:00:00\", \"2013-06-09T00:00:00\", \"2013-06-10T00:00:00\", \"2013-06-11T00:00:00\", \"2013-06-12T00:00:00\", \"2013-06-13T00:00:00\", \"2013-06-14T00:00:00\", \"2013-06-15T00:00:00\", \"2013-06-16T00:00:00\", \"2013-06-17T00:00:00\", \"2013-06-18T00:00:00\", \"2013-06-19T00:00:00\", \"2013-06-20T00:00:00\", \"2013-06-21T00:00:00\", \"2013-06-22T00:00:00\", \"2013-06-23T00:00:00\", \"2013-06-24T00:00:00\", \"2013-06-25T00:00:00\", \"2013-06-26T00:00:00\", \"2013-06-27T00:00:00\", \"2013-06-28T00:00:00\", \"2013-06-29T00:00:00\", \"2013-06-30T00:00:00\", \"2013-07-01T00:00:00\", \"2013-07-02T00:00:00\", \"2013-07-03T00:00:00\", \"2013-07-04T00:00:00\", \"2013-07-05T00:00:00\", \"2013-07-06T00:00:00\", \"2013-07-07T00:00:00\", \"2013-07-08T00:00:00\", \"2013-07-09T00:00:00\", \"2013-07-10T00:00:00\", \"2013-07-11T00:00:00\", \"2013-07-12T00:00:00\", \"2013-07-13T00:00:00\", \"2013-07-14T00:00:00\", \"2013-07-15T00:00:00\", \"2013-07-16T00:00:00\", \"2013-07-17T00:00:00\", \"2013-07-18T00:00:00\", \"2013-07-19T00:00:00\", \"2013-07-20T00:00:00\", \"2013-07-21T00:00:00\", \"2013-07-22T00:00:00\", \"2013-07-23T00:00:00\", \"2013-07-24T00:00:00\", \"2013-07-25T00:00:00\", \"2013-07-26T00:00:00\", \"2013-07-27T00:00:00\", \"2013-07-28T00:00:00\", \"2013-07-29T00:00:00\", \"2013-07-30T00:00:00\", \"2013-07-31T00:00:00\", \"2013-08-01T00:00:00\", \"2013-08-02T00:00:00\", \"2013-08-03T00:00:00\", \"2013-08-04T00:00:00\", \"2013-08-05T00:00:00\", \"2013-08-06T00:00:00\", \"2013-08-07T00:00:00\", \"2013-08-08T00:00:00\", \"2013-08-09T00:00:00\", \"2013-08-10T00:00:00\", \"2013-08-11T00:00:00\", \"2013-08-12T00:00:00\", \"2013-08-13T00:00:00\", \"2013-08-14T00:00:00\", \"2013-08-15T00:00:00\", \"2013-08-16T00:00:00\", \"2013-08-17T00:00:00\", \"2013-08-18T00:00:00\", \"2013-08-19T00:00:00\", \"2013-08-20T00:00:00\", \"2013-08-21T00:00:00\", \"2013-08-22T00:00:00\", \"2013-08-23T00:00:00\", \"2013-08-24T00:00:00\", \"2013-08-25T00:00:00\", \"2013-08-26T00:00:00\", \"2013-08-27T00:00:00\", \"2013-08-28T00:00:00\", \"2013-08-29T00:00:00\", \"2013-08-30T00:00:00\", \"2013-08-31T00:00:00\", \"2013-09-01T00:00:00\", \"2013-09-02T00:00:00\", \"2013-09-03T00:00:00\", \"2013-09-04T00:00:00\", \"2013-09-05T00:00:00\", \"2013-09-06T00:00:00\", \"2013-09-07T00:00:00\", \"2013-09-08T00:00:00\", \"2013-09-09T00:00:00\", \"2013-09-10T00:00:00\", \"2013-09-11T00:00:00\", \"2013-09-12T00:00:00\", \"2013-09-13T00:00:00\", \"2013-09-14T00:00:00\", \"2013-09-15T00:00:00\", \"2013-09-16T00:00:00\", \"2013-09-17T00:00:00\", \"2013-09-18T00:00:00\", \"2013-09-19T00:00:00\", \"2013-09-20T00:00:00\", \"2013-09-21T00:00:00\", \"2013-09-22T00:00:00\", \"2013-09-23T00:00:00\", \"2013-09-24T00:00:00\", \"2013-09-25T00:00:00\", \"2013-09-26T00:00:00\", \"2013-09-27T00:00:00\", \"2013-09-28T00:00:00\", \"2013-09-29T00:00:00\", \"2013-09-30T00:00:00\", \"2013-10-01T00:00:00\", \"2013-10-02T00:00:00\", \"2013-10-03T00:00:00\", \"2013-10-04T00:00:00\", \"2013-10-05T00:00:00\", \"2013-10-06T00:00:00\", \"2013-10-07T00:00:00\", \"2013-10-08T00:00:00\", \"2013-10-09T00:00:00\", \"2013-10-10T00:00:00\", \"2013-10-11T00:00:00\", \"2013-10-12T00:00:00\", \"2013-10-13T00:00:00\", \"2013-10-14T00:00:00\", \"2013-10-15T00:00:00\", \"2013-10-16T00:00:00\", \"2013-10-17T00:00:00\", \"2013-10-18T00:00:00\", \"2013-10-19T00:00:00\", \"2013-10-20T00:00:00\", \"2013-10-21T00:00:00\", \"2013-10-22T00:00:00\", \"2013-10-23T00:00:00\", \"2013-10-24T00:00:00\", \"2013-10-25T00:00:00\", \"2013-10-26T00:00:00\", \"2013-10-27T00:00:00\", \"2013-10-28T00:00:00\", \"2013-10-29T00:00:00\", \"2013-10-30T00:00:00\", \"2013-10-31T00:00:00\", \"2013-11-01T00:00:00\", \"2013-11-02T00:00:00\", \"2013-11-03T00:00:00\", \"2013-11-04T00:00:00\", \"2013-11-05T00:00:00\", \"2013-11-06T00:00:00\", \"2013-11-07T00:00:00\", \"2013-11-08T00:00:00\", \"2013-11-09T00:00:00\", \"2013-11-10T00:00:00\", \"2013-11-11T00:00:00\", \"2013-11-12T00:00:00\", \"2013-11-13T00:00:00\", \"2013-11-14T00:00:00\", \"2013-11-15T00:00:00\", \"2013-11-16T00:00:00\", \"2013-11-17T00:00:00\", \"2013-11-18T00:00:00\", \"2013-11-19T00:00:00\", \"2013-11-20T00:00:00\", \"2013-11-21T00:00:00\", \"2013-11-22T00:00:00\", \"2013-11-23T00:00:00\", \"2013-11-24T00:00:00\", \"2013-11-25T00:00:00\", \"2013-11-26T00:00:00\", \"2013-11-27T00:00:00\", \"2013-11-28T00:00:00\", \"2013-11-29T00:00:00\", \"2013-11-30T00:00:00\", \"2013-12-01T00:00:00\"], \"y\": [5458776.5, 5355082.5, 5298291.5, 5396381.5, 5375805.5, 5417873.5, 5442398.5, 5411324.5, 5398488.5, 5402876.5, 5505232.0, 5458832.5, 5402892.5, 5361171.5, 5380318.0, 5838259.5, 6692635.5, 6841176.5, 7081280.5, 7885639.5, 7815669.5, 7737185.5, 7661833.5, 7591996.0, 7652047.0, 7792315.0, 7783899.0, 7738962.5, 7689671.5, 7649193.0, 7593503.0, 7544002.5, 7578753.0, 7588229.0, 7577822.0, 7515817.5, 7452579.0, 7415490.5, 7370849.0, 7317232.0, 7386884.0, 7543907.5, 7974481.5, 8090888.5, 8031984.0, 7973639.0, 8076128.0, 8270935.0, 8284432.5, 8539773.0, 8778790.0, 8846670.0, 8892892.0, 9573037.0, 10000048.0, 10028032.0, 10018893.0, 10006761.0, 9984845.0, 9901468.0, 9904577.0, 10041613.0, 10229357.0, 10290371.0, 10170909.0, 10096177.0, 10027461.0, 9950171.0, 9863075.0, 9775539.0, 9707127.0, 9647719.0, 9570783.0, 9505369.0, 9458923.0, 9399477.0, 9316819.0, 9235802.0, 9163984.0, 9089150.0, 9003166.0, 8911774.0, 8823734.0, 8742356.0, 8672354.0, 8591110.0, 8539700.0, 8467197.0, 8383608.0, 8302509.5, 8220024.0, 8140259.5, 8060817.5, 7973383.5, 7886019.5, 7578801.5, 7501677.5, 7431964.5, 7355939.5, 7275419.5, 7227082.0, 7294027.0, 7925057.5, 8083882.0, 8149768.5, 8261240.5, 8331883.0, 8514447.0, 8476076.0, 8446264.0, 9095110.0, 9203044.0, 9136954.0, 9050623.0, 8977740.0, 8904639.0, 8870985.0, 8794152.0, 8713612.0, 8629463.0, 8542926.0, 8470354.0, 8388076.0, 8301441.0, 8216124.5, 8139712.0, 8117564.0, 8086933.5, 8017688.0, 7938432.0, 7857639.5, 7775137.0, 7699459.0, 7622505.5, 7546885.0, 7469123.0, 7392346.0, 7392094.0, 7330060.5, 7254914.5, 7178953.5, 7098285.5, 7022040.5, 6944996.0, 6865249.5, 6786310.5, 6709080.5, 6698220.0, 6634193.5, 6564424.5, 6495894.0, 6427108.0, 6355696.0, 6286022.5, 6214901.0, 6143910.0, 6075163.5, 6007492.5, 5938123.5, 5871463.5, 5807350.5, 5742825.5, 5680257.0, 5613224.5, 5548949.5, 5484883.5, 5422522.0, 5359136.5, 5292087.5, 5227597.5, 5163315.5, 5100570.5, 5040080.5, 4981265.0, 4923711.5, 4864488.0, 4806663.5, 4750036.5, 4695525.0, 4641431.0, 4589244.5, 4531403.0, 4475191.0, 4421989.0]}, {\"mode\": \"lines\", \"name\": \"Precipitation\", \"type\": \"scatter\", \"x\": [\"2013-06-01T00:00:00\", \"2013-06-02T00:00:00\", \"2013-06-03T00:00:00\", \"2013-06-04T00:00:00\", \"2013-06-05T00:00:00\", \"2013-06-06T00:00:00\", \"2013-06-07T00:00:00\", \"2013-06-08T00:00:00\", \"2013-06-09T00:00:00\", \"2013-06-10T00:00:00\", \"2013-06-11T00:00:00\", \"2013-06-12T00:00:00\", \"2013-06-13T00:00:00\", \"2013-06-14T00:00:00\", \"2013-06-15T00:00:00\", \"2013-06-16T00:00:00\", \"2013-06-17T00:00:00\", \"2013-06-18T00:00:00\", \"2013-06-19T00:00:00\", \"2013-06-20T00:00:00\", \"2013-06-21T00:00:00\", \"2013-06-22T00:00:00\", \"2013-06-23T00:00:00\", \"2013-06-24T00:00:00\", \"2013-06-25T00:00:00\", \"2013-06-26T00:00:00\", \"2013-06-27T00:00:00\", \"2013-06-28T00:00:00\", \"2013-06-29T00:00:00\", \"2013-06-30T00:00:00\", \"2013-07-01T00:00:00\", \"2013-07-02T00:00:00\", \"2013-07-03T00:00:00\", \"2013-07-04T00:00:00\", \"2013-07-05T00:00:00\", \"2013-07-06T00:00:00\", \"2013-07-07T00:00:00\", \"2013-07-08T00:00:00\", \"2013-07-09T00:00:00\", \"2013-07-10T00:00:00\", \"2013-07-11T00:00:00\", \"2013-07-12T00:00:00\", \"2013-07-13T00:00:00\", \"2013-07-14T00:00:00\", \"2013-07-15T00:00:00\", \"2013-07-16T00:00:00\", \"2013-07-17T00:00:00\", \"2013-07-18T00:00:00\", \"2013-07-19T00:00:00\", \"2013-07-20T00:00:00\", \"2013-07-21T00:00:00\", \"2013-07-22T00:00:00\", \"2013-07-23T00:00:00\", \"2013-07-24T00:00:00\", \"2013-07-25T00:00:00\", \"2013-07-26T00:00:00\", \"2013-07-27T00:00:00\", \"2013-07-28T00:00:00\", \"2013-07-29T00:00:00\", \"2013-07-30T00:00:00\", \"2013-07-31T00:00:00\", \"2013-08-01T00:00:00\", \"2013-08-02T00:00:00\", \"2013-08-03T00:00:00\", \"2013-08-04T00:00:00\", \"2013-08-05T00:00:00\", \"2013-08-06T00:00:00\", \"2013-08-07T00:00:00\", \"2013-08-08T00:00:00\", \"2013-08-09T00:00:00\", \"2013-08-10T00:00:00\", \"2013-08-11T00:00:00\", \"2013-08-12T00:00:00\", \"2013-08-13T00:00:00\", \"2013-08-14T00:00:00\", \"2013-08-15T00:00:00\", \"2013-08-16T00:00:00\", \"2013-08-17T00:00:00\", \"2013-08-18T00:00:00\", \"2013-08-19T00:00:00\", \"2013-08-20T00:00:00\", \"2013-08-21T00:00:00\", \"2013-08-22T00:00:00\", \"2013-08-23T00:00:00\", \"2013-08-24T00:00:00\", \"2013-08-25T00:00:00\", \"2013-08-26T00:00:00\", \"2013-08-27T00:00:00\", \"2013-08-28T00:00:00\", \"2013-08-29T00:00:00\", \"2013-08-30T00:00:00\", \"2013-08-31T00:00:00\", \"2013-09-01T00:00:00\", \"2013-09-02T00:00:00\", \"2013-09-03T00:00:00\", \"2013-09-04T00:00:00\", \"2013-09-05T00:00:00\", \"2013-09-06T00:00:00\", \"2013-09-07T00:00:00\", \"2013-09-08T00:00:00\", \"2013-09-09T00:00:00\", \"2013-09-10T00:00:00\", \"2013-09-11T00:00:00\", \"2013-09-12T00:00:00\", \"2013-09-13T00:00:00\", \"2013-09-14T00:00:00\", \"2013-09-15T00:00:00\", \"2013-09-16T00:00:00\", \"2013-09-17T00:00:00\", \"2013-09-18T00:00:00\", \"2013-09-19T00:00:00\", \"2013-09-20T00:00:00\", \"2013-09-21T00:00:00\", \"2013-09-22T00:00:00\", \"2013-09-23T00:00:00\", \"2013-09-24T00:00:00\", \"2013-09-25T00:00:00\", \"2013-09-26T00:00:00\", \"2013-09-27T00:00:00\", \"2013-09-28T00:00:00\", \"2013-09-29T00:00:00\", \"2013-09-30T00:00:00\", \"2013-10-01T00:00:00\", \"2013-10-02T00:00:00\", \"2013-10-03T00:00:00\", \"2013-10-04T00:00:00\", \"2013-10-05T00:00:00\", \"2013-10-06T00:00:00\", \"2013-10-07T00:00:00\", \"2013-10-08T00:00:00\", \"2013-10-09T00:00:00\", \"2013-10-10T00:00:00\", \"2013-10-11T00:00:00\", \"2013-10-12T00:00:00\", \"2013-10-13T00:00:00\", \"2013-10-14T00:00:00\", \"2013-10-15T00:00:00\", \"2013-10-16T00:00:00\", \"2013-10-17T00:00:00\", \"2013-10-18T00:00:00\", \"2013-10-19T00:00:00\", \"2013-10-20T00:00:00\", \"2013-10-21T00:00:00\", \"2013-10-22T00:00:00\", \"2013-10-23T00:00:00\", \"2013-10-24T00:00:00\", \"2013-10-25T00:00:00\", \"2013-10-26T00:00:00\", \"2013-10-27T00:00:00\", \"2013-10-28T00:00:00\", \"2013-10-29T00:00:00\", \"2013-10-30T00:00:00\", \"2013-10-31T00:00:00\", \"2013-11-01T00:00:00\", \"2013-11-02T00:00:00\", \"2013-11-03T00:00:00\", \"2013-11-04T00:00:00\", \"2013-11-05T00:00:00\", \"2013-11-06T00:00:00\", \"2013-11-07T00:00:00\", \"2013-11-08T00:00:00\", \"2013-11-09T00:00:00\", \"2013-11-10T00:00:00\", \"2013-11-11T00:00:00\", \"2013-11-12T00:00:00\", \"2013-11-13T00:00:00\", \"2013-11-14T00:00:00\", \"2013-11-15T00:00:00\", \"2013-11-16T00:00:00\", \"2013-11-17T00:00:00\", \"2013-11-18T00:00:00\", \"2013-11-19T00:00:00\", \"2013-11-20T00:00:00\", \"2013-11-21T00:00:00\", \"2013-11-22T00:00:00\", \"2013-11-23T00:00:00\", \"2013-11-24T00:00:00\", \"2013-11-25T00:00:00\", \"2013-11-26T00:00:00\", \"2013-11-27T00:00:00\", \"2013-11-28T00:00:00\", \"2013-11-29T00:00:00\", \"2013-11-30T00:00:00\", \"2013-12-01T00:00:00\"], \"y\": [110377896.0, 434018688.0, 854320704.0, 226606128.0, 1244900608.0, 457945056.0, 285147680.0, 172801728.0, 107364584.0, 295904128.0, 44445804.0, 25005346.0, 232653504.0, 344317024.0, 1158453632.0, 1455265152.0, 291254464.0, 518424224.0, 97366832.0, 24094012.0, 88936320.0, 72828480.0, 98221664.0, 583960192.0, 470255744.0, 68671480.0, 45949748.0, 60234756.0, 119315224.0, 55326588.0, 50275560.0, 425143456.0, 347140672.0, 115279392.0, 35099432.0, 143609472.0, 387887680.0, 82389896.0, 83164944.0, 207378304.0, 556147904.0, 1163753088.0, 452100928.0, 134645856.0, 85245896.0, 477235328.0, 493168320.0, 120749776.0, 1109365888.0, 342283008.0, 258699664.0, 635635968.0, 1932320256.0, 458827808.0, 215186800.0, 217939936.0, 258760144.0, 227365856.0, 72007408.0, 147839936.0, 1212706048.0, 1201731456.0, 236004176.0, 45625568.0, 75129480.0, 42411148.0, 16640466.0, 14538996.0, 17843224.0, 80535816.0, 114773856.0, 20863188.0, 121692352.0, 74441352.0, 78574520.0, 33922148.0, 42622132.0, 71832136.0, 39650836.0, 10961212.0, 4668199.5, 15470319.0, 26446600.0, 29996514.0, 18015326.0, 74627928.0, 62547256.0, 28603376.0, 11678408.0, 10377268.0, 11969915.0, 3613310.5, 59318024.0, 22640352.0, 6231862.0, 19018310.0, 38097592.0, 10719100.0, 16643442.0, 701936768.0, 595846848.0, 1975506304.0, 696857344.0, 386549984.0, 927522752.0, 845070464.0, 433848416.0, 238643904.0, 572262848.0, 1854022912.0, 495901760.0, 45825464.0, 5052954.0, 32499308.0, 37455864.0, 104752064.0, 16414518.0, 95394336.0, 7232251.0, 3740439.0, 70093664.0, 18652506.0, 24614.484375, 14163231.0, 112598664.0, 221621200.0, 252096608.0, 60824196.0, 5766585.0, 7417907.5, 33308084.0, 42072024.0, 7996682.0, 12087425.0, 91753648.0, 9821208.0, 423033216.0, 61100452.0, 8552587.0, 2376248.75, 0.0, 427454.59375, 6629.36767578125, 8226730.5, 16526695.0, 75195472.0, 390649920.0, 99361272.0, 12303456.0, 5484928.0, 6905550.0, 0.0, 0.0, 0.0, 15925166.0, 15856698.0, 1341254.0, 0.0, 0.0, 0.0, 0.0, 0.0, 0.0, 0.0, 0.0, 0.0, 0.0, 0.0, 0.0, 0.0, 0.0, 0.0, 0.0, 0.0, 0.0, 2475.29833984375, 141211824.0, 16029506.0, 15415221.0, 86698.9765625, 0.0, 5765242.0, 520251.28125, 28819550.0]}, {\"mode\": \"lines\", \"name\": \"act_irrPaddyDemand\", \"type\": \"scatter\", \"x\": [\"2013-06-01T00:00:00\", \"2013-06-02T00:00:00\", \"2013-06-03T00:00:00\", \"2013-06-04T00:00:00\", \"2013-06-05T00:00:00\", \"2013-06-06T00:00:00\", \"2013-06-07T00:00:00\", \"2013-06-08T00:00:00\", \"2013-06-09T00:00:00\", \"2013-06-10T00:00:00\", \"2013-06-11T00:00:00\", \"2013-06-12T00:00:00\", \"2013-06-13T00:00:00\", \"2013-06-14T00:00:00\", \"2013-06-15T00:00:00\", \"2013-06-16T00:00:00\", \"2013-06-17T00:00:00\", \"2013-06-18T00:00:00\", \"2013-06-19T00:00:00\", \"2013-06-20T00:00:00\", \"2013-06-21T00:00:00\", \"2013-06-22T00:00:00\", \"2013-06-23T00:00:00\", \"2013-06-24T00:00:00\", \"2013-06-25T00:00:00\", \"2013-06-26T00:00:00\", \"2013-06-27T00:00:00\", \"2013-06-28T00:00:00\", \"2013-06-29T00:00:00\", \"2013-06-30T00:00:00\", \"2013-07-01T00:00:00\", \"2013-07-02T00:00:00\", \"2013-07-03T00:00:00\", \"2013-07-04T00:00:00\", \"2013-07-05T00:00:00\", \"2013-07-06T00:00:00\", \"2013-07-07T00:00:00\", \"2013-07-08T00:00:00\", \"2013-07-09T00:00:00\", \"2013-07-10T00:00:00\", \"2013-07-11T00:00:00\", \"2013-07-12T00:00:00\", \"2013-07-13T00:00:00\", \"2013-07-14T00:00:00\", \"2013-07-15T00:00:00\", \"2013-07-16T00:00:00\", \"2013-07-17T00:00:00\", \"2013-07-18T00:00:00\", \"2013-07-19T00:00:00\", \"2013-07-20T00:00:00\", \"2013-07-21T00:00:00\", \"2013-07-22T00:00:00\", \"2013-07-23T00:00:00\", \"2013-07-24T00:00:00\", \"2013-07-25T00:00:00\", \"2013-07-26T00:00:00\", \"2013-07-27T00:00:00\", \"2013-07-28T00:00:00\", \"2013-07-29T00:00:00\", \"2013-07-30T00:00:00\", \"2013-07-31T00:00:00\", \"2013-08-01T00:00:00\", \"2013-08-02T00:00:00\", \"2013-08-03T00:00:00\", \"2013-08-04T00:00:00\", \"2013-08-05T00:00:00\", \"2013-08-06T00:00:00\", \"2013-08-07T00:00:00\", \"2013-08-08T00:00:00\", \"2013-08-09T00:00:00\", \"2013-08-10T00:00:00\", \"2013-08-11T00:00:00\", \"2013-08-12T00:00:00\", \"2013-08-13T00:00:00\", \"2013-08-14T00:00:00\", \"2013-08-15T00:00:00\", \"2013-08-16T00:00:00\", \"2013-08-17T00:00:00\", \"2013-08-18T00:00:00\", \"2013-08-19T00:00:00\", \"2013-08-20T00:00:00\", \"2013-08-21T00:00:00\", \"2013-08-22T00:00:00\", \"2013-08-23T00:00:00\", \"2013-08-24T00:00:00\", \"2013-08-25T00:00:00\", \"2013-08-26T00:00:00\", \"2013-08-27T00:00:00\", \"2013-08-28T00:00:00\", \"2013-08-29T00:00:00\", \"2013-08-30T00:00:00\", \"2013-08-31T00:00:00\", \"2013-09-01T00:00:00\", \"2013-09-02T00:00:00\", \"2013-09-03T00:00:00\", \"2013-09-04T00:00:00\", \"2013-09-05T00:00:00\", \"2013-09-06T00:00:00\", \"2013-09-07T00:00:00\", \"2013-09-08T00:00:00\", \"2013-09-09T00:00:00\", \"2013-09-10T00:00:00\", \"2013-09-11T00:00:00\", \"2013-09-12T00:00:00\", \"2013-09-13T00:00:00\", \"2013-09-14T00:00:00\", \"2013-09-15T00:00:00\", \"2013-09-16T00:00:00\", \"2013-09-17T00:00:00\", \"2013-09-18T00:00:00\", \"2013-09-19T00:00:00\", \"2013-09-20T00:00:00\", \"2013-09-21T00:00:00\", \"2013-09-22T00:00:00\", \"2013-09-23T00:00:00\", \"2013-09-24T00:00:00\", \"2013-09-25T00:00:00\", \"2013-09-26T00:00:00\", \"2013-09-27T00:00:00\", \"2013-09-28T00:00:00\", \"2013-09-29T00:00:00\", \"2013-09-30T00:00:00\", \"2013-10-01T00:00:00\", \"2013-10-02T00:00:00\", \"2013-10-03T00:00:00\", \"2013-10-04T00:00:00\", \"2013-10-05T00:00:00\", \"2013-10-06T00:00:00\", \"2013-10-07T00:00:00\", \"2013-10-08T00:00:00\", \"2013-10-09T00:00:00\", \"2013-10-10T00:00:00\", \"2013-10-11T00:00:00\", \"2013-10-12T00:00:00\", \"2013-10-13T00:00:00\", \"2013-10-14T00:00:00\", \"2013-10-15T00:00:00\", \"2013-10-16T00:00:00\", \"2013-10-17T00:00:00\", \"2013-10-18T00:00:00\", \"2013-10-19T00:00:00\", \"2013-10-20T00:00:00\", \"2013-10-21T00:00:00\", \"2013-10-22T00:00:00\", \"2013-10-23T00:00:00\", \"2013-10-24T00:00:00\", \"2013-10-25T00:00:00\", \"2013-10-26T00:00:00\", \"2013-10-27T00:00:00\", \"2013-10-28T00:00:00\", \"2013-10-29T00:00:00\", \"2013-10-30T00:00:00\", \"2013-10-31T00:00:00\", \"2013-11-01T00:00:00\", \"2013-11-02T00:00:00\", \"2013-11-03T00:00:00\", \"2013-11-04T00:00:00\", \"2013-11-05T00:00:00\", \"2013-11-06T00:00:00\", \"2013-11-07T00:00:00\", \"2013-11-08T00:00:00\", \"2013-11-09T00:00:00\", \"2013-11-10T00:00:00\", \"2013-11-11T00:00:00\", \"2013-11-12T00:00:00\", \"2013-11-13T00:00:00\", \"2013-11-14T00:00:00\", \"2013-11-15T00:00:00\", \"2013-11-16T00:00:00\", \"2013-11-17T00:00:00\", \"2013-11-18T00:00:00\", \"2013-11-19T00:00:00\", \"2013-11-20T00:00:00\", \"2013-11-21T00:00:00\", \"2013-11-22T00:00:00\", \"2013-11-23T00:00:00\", \"2013-11-24T00:00:00\", \"2013-11-25T00:00:00\", \"2013-11-26T00:00:00\", \"2013-11-27T00:00:00\", \"2013-11-28T00:00:00\", \"2013-11-29T00:00:00\", \"2013-11-30T00:00:00\", \"2013-12-01T00:00:00\"], \"y\": [0.0, 0.0, 0.0, 0.0, 0.0, 0.0, 0.0, 0.0, 0.0, 0.0, 0.0, 0.0, 0.0, 0.0, 0.0, 0.0, 0.0, 0.0, 0.0, 0.0, 0.0, 0.0, 0.0, 0.0, 0.0, 0.0, 0.0, 0.0, 0.0, 0.0, 67548352.0, 48425568.0, 44969488.0, 43615660.0, 42266112.0, 40980008.0, 36171540.0, 38613652.0, 36699436.0, 35057500.0, 26331452.0, 19169530.0, 23757110.0, 26721922.0, 29753812.0, 22433896.0, 20311260.0, 24413390.0, 13621401.0, 19435814.0, 18828674.0, 18949284.0, 7323750.5, 12400779.0, 14510692.0, 16416188.0, 15421634.0, 17398494.0, 18697848.0, 20218214.0, 9248971.0, 8541917.0, 11224265.0, 13553410.0, 16673073.0, 18706974.0, 20615580.0, 19636310.0, 22418236.0, 23533092.0, 22826806.0, 23857824.0, 24007758.0, 25979976.0, 25364542.0, 26950632.0, 28317328.0, 29310476.0, 29291540.0, 31157100.0, 32767662.0, 34233472.0, 36241080.0, 34950796.0, 35654196.0, 35557396.0, 36377176.0, 36359812.0, 37894680.0, 39073888.0, 40136888.0, 41028704.0, 41950960.0, 44192848.0, 45390472.0, 46085668.0, 46343152.0, 47731996.0, 47834720.0, 30427498.0, 26950106.0, 6156097.0, 16724639.0, 17574548.0, 13312470.0, 14603831.0, 16138710.0, 18824308.0, 14443899.0, 4610592.0, 10399190.0, 10885123.0, 18463528.0, 20346130.0, 19845122.0, 20967586.0, 22999812.0, 23126532.0, 26228848.0, 27552832.0, 28371366.0, 29310470.0, 31320312.0, 33268512.0, 30953220.0, 28736714.0, 26706284.0, 29395264.0, 31682984.0, 33257256.0, 34580256.0, 35337592.0, 37102192.0, 37330064.0, 37704140.0, 38874248.0, 28513982.0, 35379308.0, 35953740.0, 37288920.0, 38252704.0, 39916300.0, 40416000.0, 41422220.0, 42763172.0, 42692044.0, 35794684.0, 40106944.0, 40315476.0, 41449256.0, 42109688.0, 43257420.0, 44192404.0, 45081484.0, 45356740.0, 45148128.0, 45443580.0, 45552968.0, 45961988.0, 45170552.0, 44893324.0, 44440840.0, 44533460.0, 0.0, 0.0, 0.0, 0.0, 0.0, 0.0, 0.0, 0.0, 0.0, 0.0, 0.0, 0.0, 0.0, 0.0, 0.0, 0.0, 0.0, 0.0, 0.0, 0.0, 0.0]}, {\"mode\": \"lines\", \"name\": \"act_irrNonpaddyDemand \", \"type\": \"scatter\", \"x\": [\"2013-06-01T00:00:00\", \"2013-06-02T00:00:00\", \"2013-06-03T00:00:00\", \"2013-06-04T00:00:00\", \"2013-06-05T00:00:00\", \"2013-06-06T00:00:00\", \"2013-06-07T00:00:00\", \"2013-06-08T00:00:00\", \"2013-06-09T00:00:00\", \"2013-06-10T00:00:00\", \"2013-06-11T00:00:00\", \"2013-06-12T00:00:00\", \"2013-06-13T00:00:00\", \"2013-06-14T00:00:00\", \"2013-06-15T00:00:00\", \"2013-06-16T00:00:00\", \"2013-06-17T00:00:00\", \"2013-06-18T00:00:00\", \"2013-06-19T00:00:00\", \"2013-06-20T00:00:00\", \"2013-06-21T00:00:00\", \"2013-06-22T00:00:00\", \"2013-06-23T00:00:00\", \"2013-06-24T00:00:00\", \"2013-06-25T00:00:00\", \"2013-06-26T00:00:00\", \"2013-06-27T00:00:00\", \"2013-06-28T00:00:00\", \"2013-06-29T00:00:00\", \"2013-06-30T00:00:00\", \"2013-07-01T00:00:00\", \"2013-07-02T00:00:00\", \"2013-07-03T00:00:00\", \"2013-07-04T00:00:00\", \"2013-07-05T00:00:00\", \"2013-07-06T00:00:00\", \"2013-07-07T00:00:00\", \"2013-07-08T00:00:00\", \"2013-07-09T00:00:00\", \"2013-07-10T00:00:00\", \"2013-07-11T00:00:00\", \"2013-07-12T00:00:00\", \"2013-07-13T00:00:00\", \"2013-07-14T00:00:00\", \"2013-07-15T00:00:00\", \"2013-07-16T00:00:00\", \"2013-07-17T00:00:00\", \"2013-07-18T00:00:00\", \"2013-07-19T00:00:00\", \"2013-07-20T00:00:00\", \"2013-07-21T00:00:00\", \"2013-07-22T00:00:00\", \"2013-07-23T00:00:00\", \"2013-07-24T00:00:00\", \"2013-07-25T00:00:00\", \"2013-07-26T00:00:00\", \"2013-07-27T00:00:00\", \"2013-07-28T00:00:00\", \"2013-07-29T00:00:00\", \"2013-07-30T00:00:00\", \"2013-07-31T00:00:00\", \"2013-08-01T00:00:00\", \"2013-08-02T00:00:00\", \"2013-08-03T00:00:00\", \"2013-08-04T00:00:00\", \"2013-08-05T00:00:00\", \"2013-08-06T00:00:00\", \"2013-08-07T00:00:00\", \"2013-08-08T00:00:00\", \"2013-08-09T00:00:00\", \"2013-08-10T00:00:00\", \"2013-08-11T00:00:00\", \"2013-08-12T00:00:00\", \"2013-08-13T00:00:00\", \"2013-08-14T00:00:00\", \"2013-08-15T00:00:00\", \"2013-08-16T00:00:00\", \"2013-08-17T00:00:00\", \"2013-08-18T00:00:00\", \"2013-08-19T00:00:00\", \"2013-08-20T00:00:00\", \"2013-08-21T00:00:00\", \"2013-08-22T00:00:00\", \"2013-08-23T00:00:00\", \"2013-08-24T00:00:00\", \"2013-08-25T00:00:00\", \"2013-08-26T00:00:00\", \"2013-08-27T00:00:00\", \"2013-08-28T00:00:00\", \"2013-08-29T00:00:00\", \"2013-08-30T00:00:00\", \"2013-08-31T00:00:00\", \"2013-09-01T00:00:00\", \"2013-09-02T00:00:00\", \"2013-09-03T00:00:00\", \"2013-09-04T00:00:00\", \"2013-09-05T00:00:00\", \"2013-09-06T00:00:00\", \"2013-09-07T00:00:00\", \"2013-09-08T00:00:00\", \"2013-09-09T00:00:00\", \"2013-09-10T00:00:00\", \"2013-09-11T00:00:00\", \"2013-09-12T00:00:00\", \"2013-09-13T00:00:00\", \"2013-09-14T00:00:00\", \"2013-09-15T00:00:00\", \"2013-09-16T00:00:00\", \"2013-09-17T00:00:00\", \"2013-09-18T00:00:00\", \"2013-09-19T00:00:00\", \"2013-09-20T00:00:00\", \"2013-09-21T00:00:00\", \"2013-09-22T00:00:00\", \"2013-09-23T00:00:00\", \"2013-09-24T00:00:00\", \"2013-09-25T00:00:00\", \"2013-09-26T00:00:00\", \"2013-09-27T00:00:00\", \"2013-09-28T00:00:00\", \"2013-09-29T00:00:00\", \"2013-09-30T00:00:00\", \"2013-10-01T00:00:00\", \"2013-10-02T00:00:00\", \"2013-10-03T00:00:00\", \"2013-10-04T00:00:00\", \"2013-10-05T00:00:00\", \"2013-10-06T00:00:00\", \"2013-10-07T00:00:00\", \"2013-10-08T00:00:00\", \"2013-10-09T00:00:00\", \"2013-10-10T00:00:00\", \"2013-10-11T00:00:00\", \"2013-10-12T00:00:00\", \"2013-10-13T00:00:00\", \"2013-10-14T00:00:00\", \"2013-10-15T00:00:00\", \"2013-10-16T00:00:00\", \"2013-10-17T00:00:00\", \"2013-10-18T00:00:00\", \"2013-10-19T00:00:00\", \"2013-10-20T00:00:00\", \"2013-10-21T00:00:00\", \"2013-10-22T00:00:00\", \"2013-10-23T00:00:00\", \"2013-10-24T00:00:00\", \"2013-10-25T00:00:00\", \"2013-10-26T00:00:00\", \"2013-10-27T00:00:00\", \"2013-10-28T00:00:00\", \"2013-10-29T00:00:00\", \"2013-10-30T00:00:00\", \"2013-10-31T00:00:00\", \"2013-11-01T00:00:00\", \"2013-11-02T00:00:00\", \"2013-11-03T00:00:00\", \"2013-11-04T00:00:00\", \"2013-11-05T00:00:00\", \"2013-11-06T00:00:00\", \"2013-11-07T00:00:00\", \"2013-11-08T00:00:00\", \"2013-11-09T00:00:00\", \"2013-11-10T00:00:00\", \"2013-11-11T00:00:00\", \"2013-11-12T00:00:00\", \"2013-11-13T00:00:00\", \"2013-11-14T00:00:00\", \"2013-11-15T00:00:00\", \"2013-11-16T00:00:00\", \"2013-11-17T00:00:00\", \"2013-11-18T00:00:00\", \"2013-11-19T00:00:00\", \"2013-11-20T00:00:00\", \"2013-11-21T00:00:00\", \"2013-11-22T00:00:00\", \"2013-11-23T00:00:00\", \"2013-11-24T00:00:00\", \"2013-11-25T00:00:00\", \"2013-11-26T00:00:00\", \"2013-11-27T00:00:00\", \"2013-11-28T00:00:00\", \"2013-11-29T00:00:00\", \"2013-11-30T00:00:00\", \"2013-12-01T00:00:00\"], \"y\": [3059523.5, 26583.84375, 0.0, 0.0, 62928.08984375, 0.0, 0.0, 0.0, 0.0, 0.0, 0.0, 0.0, 0.0, 0.0, 0.0, 0.0, 0.0, 0.0, 0.0, 0.0, 0.0, 0.0, 0.0, 0.0, 0.0, 0.0, 0.0, 0.0, 0.0, 0.0, 317697.5, 7131778.0, 9889.1767578125, 10446474.0, 13684396.0, 1634737.375, 5031919.5, 610736.6875, 4172534.0, 207188.765625, 0.0, 0.0, 630110.25, 4623691.5, 0.0, 0.0, 0.0, 0.0, 0.0, 0.0, 280194.9375, 0.0, 0.0, 0.0, 0.0, 0.0, 110674.0546875, 111485.4765625, 2107755.75, 673462.5, 0.0, 0.0, 0.0, 463594.4375, 1161603.75, 549087.6875, 0.0, 248096.59375, 1296610.375, 194621.59375, 200024.71875, 1969574.25, 3023327.0, 121141.953125, 2347571.75, 5927216.0, 3296286.25, 1721643.625, 7340634.5, 13761717.0, 22636002.0, 37964948.0, 1925306.875, 7995902.0, 41764716.0, 15384775.0, 3519890.0, 18059816.0, 42731320.0, 67567664.0, 56844804.0, 89298680.0, 62693968.0, 56218596.0, 57806300.0, 60370644.0, 65451096.0, 51148212.0, 67163904.0, 18765820.0, 2919982.5, 297698.0, 607222.625, 2435770.75, 4153769.0, 2224145.5, 1025445.6875, 689448.9375, 107565.984375, 322539.125, 0.0, 1407929.875, 951432.1875, 52034.26171875, 138809.296875, 658234.625, 89412.765625, 932503.0625, 1109698.375, 1343402.25, 631552.625, 3055125.0, 232994.6875, 239355.015625, 90413.390625, 389.68963623046875, 53283.140625, 147291.15625, 169604.453125, 233082.09375, 377698.8125, 422219.15625, 220163.046875, 380069.03125, 673206.625, 904841.4375, 693905.6875, 338286.5, 550488.1875, 559690.4375, 2386325.0, 1273244.25, 3135491.5, 5412178.5, 2171563.5, 2359305.5, 1149728.0, 967850.375, 1206833.875, 1521930.0, 3043438.5, 5291975.0, 7250048.5, 763316.625, 301069.9375, 420733.71875, 568586.5625, 1467874.375, 445144.09375, 665389.9375, 391436.40625, 808003.5625, 1954091.625, 1885227.5, 1870807.625, 1557177.875, 2708588.75, 4468485.0, 5601699.0, 7617761.5, 4746542.0, 4965298.5, 2011496.0, 2217109.5, 4722686.5, 2857885.25, 1420795.625, 1655269.375, 1657370.125, 3191337.75, 21510646.0, 6741565.0, 392853.8125, 32905560.0]}, {\"mode\": \"lines\", \"name\": \"act_irrWithdrawal\", \"type\": \"scatter\", \"x\": [\"2013-06-01T00:00:00\", \"2013-06-02T00:00:00\", \"2013-06-03T00:00:00\", \"2013-06-04T00:00:00\", \"2013-06-05T00:00:00\", \"2013-06-06T00:00:00\", \"2013-06-07T00:00:00\", \"2013-06-08T00:00:00\", \"2013-06-09T00:00:00\", \"2013-06-10T00:00:00\", \"2013-06-11T00:00:00\", \"2013-06-12T00:00:00\", \"2013-06-13T00:00:00\", \"2013-06-14T00:00:00\", \"2013-06-15T00:00:00\", \"2013-06-16T00:00:00\", \"2013-06-17T00:00:00\", \"2013-06-18T00:00:00\", \"2013-06-19T00:00:00\", \"2013-06-20T00:00:00\", \"2013-06-21T00:00:00\", \"2013-06-22T00:00:00\", \"2013-06-23T00:00:00\", \"2013-06-24T00:00:00\", \"2013-06-25T00:00:00\", \"2013-06-26T00:00:00\", \"2013-06-27T00:00:00\", \"2013-06-28T00:00:00\", \"2013-06-29T00:00:00\", \"2013-06-30T00:00:00\", \"2013-07-01T00:00:00\", \"2013-07-02T00:00:00\", \"2013-07-03T00:00:00\", \"2013-07-04T00:00:00\", \"2013-07-05T00:00:00\", \"2013-07-06T00:00:00\", \"2013-07-07T00:00:00\", \"2013-07-08T00:00:00\", \"2013-07-09T00:00:00\", \"2013-07-10T00:00:00\", \"2013-07-11T00:00:00\", \"2013-07-12T00:00:00\", \"2013-07-13T00:00:00\", \"2013-07-14T00:00:00\", \"2013-07-15T00:00:00\", \"2013-07-16T00:00:00\", \"2013-07-17T00:00:00\", \"2013-07-18T00:00:00\", \"2013-07-19T00:00:00\", \"2013-07-20T00:00:00\", \"2013-07-21T00:00:00\", \"2013-07-22T00:00:00\", \"2013-07-23T00:00:00\", \"2013-07-24T00:00:00\", \"2013-07-25T00:00:00\", \"2013-07-26T00:00:00\", \"2013-07-27T00:00:00\", \"2013-07-28T00:00:00\", \"2013-07-29T00:00:00\", \"2013-07-30T00:00:00\", \"2013-07-31T00:00:00\", \"2013-08-01T00:00:00\", \"2013-08-02T00:00:00\", \"2013-08-03T00:00:00\", \"2013-08-04T00:00:00\", \"2013-08-05T00:00:00\", \"2013-08-06T00:00:00\", \"2013-08-07T00:00:00\", \"2013-08-08T00:00:00\", \"2013-08-09T00:00:00\", \"2013-08-10T00:00:00\", \"2013-08-11T00:00:00\", \"2013-08-12T00:00:00\", \"2013-08-13T00:00:00\", \"2013-08-14T00:00:00\", \"2013-08-15T00:00:00\", \"2013-08-16T00:00:00\", \"2013-08-17T00:00:00\", \"2013-08-18T00:00:00\", \"2013-08-19T00:00:00\", \"2013-08-20T00:00:00\", \"2013-08-21T00:00:00\", \"2013-08-22T00:00:00\", \"2013-08-23T00:00:00\", \"2013-08-24T00:00:00\", \"2013-08-25T00:00:00\", \"2013-08-26T00:00:00\", \"2013-08-27T00:00:00\", \"2013-08-28T00:00:00\", \"2013-08-29T00:00:00\", \"2013-08-30T00:00:00\", \"2013-08-31T00:00:00\", \"2013-09-01T00:00:00\", \"2013-09-02T00:00:00\", \"2013-09-03T00:00:00\", \"2013-09-04T00:00:00\", \"2013-09-05T00:00:00\", \"2013-09-06T00:00:00\", \"2013-09-07T00:00:00\", \"2013-09-08T00:00:00\", \"2013-09-09T00:00:00\", \"2013-09-10T00:00:00\", \"2013-09-11T00:00:00\", \"2013-09-12T00:00:00\", \"2013-09-13T00:00:00\", \"2013-09-14T00:00:00\", \"2013-09-15T00:00:00\", \"2013-09-16T00:00:00\", \"2013-09-17T00:00:00\", \"2013-09-18T00:00:00\", \"2013-09-19T00:00:00\", \"2013-09-20T00:00:00\", \"2013-09-21T00:00:00\", \"2013-09-22T00:00:00\", \"2013-09-23T00:00:00\", \"2013-09-24T00:00:00\", \"2013-09-25T00:00:00\", \"2013-09-26T00:00:00\", \"2013-09-27T00:00:00\", \"2013-09-28T00:00:00\", \"2013-09-29T00:00:00\", \"2013-09-30T00:00:00\", \"2013-10-01T00:00:00\", \"2013-10-02T00:00:00\", \"2013-10-03T00:00:00\", \"2013-10-04T00:00:00\", \"2013-10-05T00:00:00\", \"2013-10-06T00:00:00\", \"2013-10-07T00:00:00\", \"2013-10-08T00:00:00\", \"2013-10-09T00:00:00\", \"2013-10-10T00:00:00\", \"2013-10-11T00:00:00\", \"2013-10-12T00:00:00\", \"2013-10-13T00:00:00\", \"2013-10-14T00:00:00\", \"2013-10-15T00:00:00\", \"2013-10-16T00:00:00\", \"2013-10-17T00:00:00\", \"2013-10-18T00:00:00\", \"2013-10-19T00:00:00\", \"2013-10-20T00:00:00\", \"2013-10-21T00:00:00\", \"2013-10-22T00:00:00\", \"2013-10-23T00:00:00\", \"2013-10-24T00:00:00\", \"2013-10-25T00:00:00\", \"2013-10-26T00:00:00\", \"2013-10-27T00:00:00\", \"2013-10-28T00:00:00\", \"2013-10-29T00:00:00\", \"2013-10-30T00:00:00\", \"2013-10-31T00:00:00\", \"2013-11-01T00:00:00\", \"2013-11-02T00:00:00\", \"2013-11-03T00:00:00\", \"2013-11-04T00:00:00\", \"2013-11-05T00:00:00\", \"2013-11-06T00:00:00\", \"2013-11-07T00:00:00\", \"2013-11-08T00:00:00\", \"2013-11-09T00:00:00\", \"2013-11-10T00:00:00\", \"2013-11-11T00:00:00\", \"2013-11-12T00:00:00\", \"2013-11-13T00:00:00\", \"2013-11-14T00:00:00\", \"2013-11-15T00:00:00\", \"2013-11-16T00:00:00\", \"2013-11-17T00:00:00\", \"2013-11-18T00:00:00\", \"2013-11-19T00:00:00\", \"2013-11-20T00:00:00\", \"2013-11-21T00:00:00\", \"2013-11-22T00:00:00\", \"2013-11-23T00:00:00\", \"2013-11-24T00:00:00\", \"2013-11-25T00:00:00\", \"2013-11-26T00:00:00\", \"2013-11-27T00:00:00\", \"2013-11-28T00:00:00\", \"2013-11-29T00:00:00\", \"2013-11-30T00:00:00\", \"2013-12-01T00:00:00\"], \"y\": [1384361.375, 939.4356689453125, 0.0, 0.0, 6158.2666015625, 0.0, 0.0, 0.0, 0.0, 0.0, 0.0, 0.0, 0.0, 0.0, 0.0, 0.0, 0.0, 0.0, 0.0, 0.0, 0.0, 0.0, 0.0, 0.0, 0.0, 0.0, 0.0, 0.0, 0.0, 0.0, 30794976.0, 19494286.0, 19228840.0, 17454894.0, 14633386.0, 12194511.0, 9699267.0, 11251633.0, 9121194.0, 8240197.5, 4862832.0, 4653292.0, 7741937.0, 7766174.0, 9122114.0, 4774499.0, 4996579.5, 6770129.0, 1844814.375, 6757254.0, 4690276.0, 4984473.5, 1001466.25, 5063237.5, 4363434.5, 5474496.5, 4329351.5, 5661104.0, 5948195.5, 6535316.5, 914584.4375, 2584614.75, 3086312.25, 4239215.5, 6266754.0, 6931312.0, 7330542.0, 5586177.5, 6986478.0, 6834817.0, 5904170.0, 6301984.5, 6092951.0, 7006703.0, 6005823.5, 6959885.0, 7066366.5, 7085386.0, 6931626.5, 8194275.5, 9099101.0, 10535785.0, 8390681.0, 7222865.5, 9575451.0, 7630327.0, 7455562.0, 7368236.5, 9668813.0, 13149126.0, 11008651.0, 15173275.0, 14587769.0, 12309656.0, 12746131.0, 11674711.0, 13443637.0, 10768729.0, 12736148.0, 3632216.5, 5684527.5, 925111.875, 7904202.5, 3694303.5, 1868846.0, 3733267.75, 4495853.0, 4939038.0, 2235398.25, 865937.0, 5044097.0, 2374659.75, 7672797.0, 7141356.0, 5866422.0, 5804723.5, 6673660.0, 5669787.5, 7329209.0, 6848739.0, 6823938.0, 6795226.0, 7476257.0, 7743834.0, 6435024.5, 5684468.0, 5163813.5, 6593031.0, 7517989.0, 7635899.5, 7913830.5, 7698898.0, 8411030.0, 7679079.5, 7630260.0, 7963190.5, 3880143.75, 8298993.5, 7432062.0, 7724648.0, 7963856.5, 8493261.0, 8297619.0, 8395061.0, 8647168.0, 8100196.0, 5551434.0, 8115569.5, 7252424.5, 7616743.5, 7637418.0, 8046991.0, 8330670.0, 8235882.0, 7952324.0, 7684624.5, 8162924.5, 8405485.0, 8909771.0, 8456258.0, 8448210.0, 8060279.0, 8056358.5, 12616.7509765625, 17274.201171875, 14254.9189453125, 91715.078125, 404512.40625, 503138.625, 711360.8125, 129153.7265625, 122998.9453125, 8873.990234375, 14712.1552734375, 207024.53125, 51828.296875, 3545.976318359375, 7282.17529296875, 6304.81103515625, 143112.046875, 4741931.0, 254381.9375, 828.1972045898438, 4866315.0]}, {\"mode\": \"lines\", \"name\": \"act_nonIrrWithdrawal\", \"type\": \"scatter\", \"x\": [\"2013-06-01T00:00:00\", \"2013-06-02T00:00:00\", \"2013-06-03T00:00:00\", \"2013-06-04T00:00:00\", \"2013-06-05T00:00:00\", \"2013-06-06T00:00:00\", \"2013-06-07T00:00:00\", \"2013-06-08T00:00:00\", \"2013-06-09T00:00:00\", \"2013-06-10T00:00:00\", \"2013-06-11T00:00:00\", \"2013-06-12T00:00:00\", \"2013-06-13T00:00:00\", \"2013-06-14T00:00:00\", \"2013-06-15T00:00:00\", \"2013-06-16T00:00:00\", \"2013-06-17T00:00:00\", \"2013-06-18T00:00:00\", \"2013-06-19T00:00:00\", \"2013-06-20T00:00:00\", \"2013-06-21T00:00:00\", \"2013-06-22T00:00:00\", \"2013-06-23T00:00:00\", \"2013-06-24T00:00:00\", \"2013-06-25T00:00:00\", \"2013-06-26T00:00:00\", \"2013-06-27T00:00:00\", \"2013-06-28T00:00:00\", \"2013-06-29T00:00:00\", \"2013-06-30T00:00:00\", \"2013-07-01T00:00:00\", \"2013-07-02T00:00:00\", \"2013-07-03T00:00:00\", \"2013-07-04T00:00:00\", \"2013-07-05T00:00:00\", \"2013-07-06T00:00:00\", \"2013-07-07T00:00:00\", \"2013-07-08T00:00:00\", \"2013-07-09T00:00:00\", \"2013-07-10T00:00:00\", \"2013-07-11T00:00:00\", \"2013-07-12T00:00:00\", \"2013-07-13T00:00:00\", \"2013-07-14T00:00:00\", \"2013-07-15T00:00:00\", \"2013-07-16T00:00:00\", \"2013-07-17T00:00:00\", \"2013-07-18T00:00:00\", \"2013-07-19T00:00:00\", \"2013-07-20T00:00:00\", \"2013-07-21T00:00:00\", \"2013-07-22T00:00:00\", \"2013-07-23T00:00:00\", \"2013-07-24T00:00:00\", \"2013-07-25T00:00:00\", \"2013-07-26T00:00:00\", \"2013-07-27T00:00:00\", \"2013-07-28T00:00:00\", \"2013-07-29T00:00:00\", \"2013-07-30T00:00:00\", \"2013-07-31T00:00:00\", \"2013-08-01T00:00:00\", \"2013-08-02T00:00:00\", \"2013-08-03T00:00:00\", \"2013-08-04T00:00:00\", \"2013-08-05T00:00:00\", \"2013-08-06T00:00:00\", \"2013-08-07T00:00:00\", \"2013-08-08T00:00:00\", \"2013-08-09T00:00:00\", \"2013-08-10T00:00:00\", \"2013-08-11T00:00:00\", \"2013-08-12T00:00:00\", \"2013-08-13T00:00:00\", \"2013-08-14T00:00:00\", \"2013-08-15T00:00:00\", \"2013-08-16T00:00:00\", \"2013-08-17T00:00:00\", \"2013-08-18T00:00:00\", \"2013-08-19T00:00:00\", \"2013-08-20T00:00:00\", \"2013-08-21T00:00:00\", \"2013-08-22T00:00:00\", \"2013-08-23T00:00:00\", \"2013-08-24T00:00:00\", \"2013-08-25T00:00:00\", \"2013-08-26T00:00:00\", \"2013-08-27T00:00:00\", \"2013-08-28T00:00:00\", \"2013-08-29T00:00:00\", \"2013-08-30T00:00:00\", \"2013-08-31T00:00:00\", \"2013-09-01T00:00:00\", \"2013-09-02T00:00:00\", \"2013-09-03T00:00:00\", \"2013-09-04T00:00:00\", \"2013-09-05T00:00:00\", \"2013-09-06T00:00:00\", \"2013-09-07T00:00:00\", \"2013-09-08T00:00:00\", \"2013-09-09T00:00:00\", \"2013-09-10T00:00:00\", \"2013-09-11T00:00:00\", \"2013-09-12T00:00:00\", \"2013-09-13T00:00:00\", \"2013-09-14T00:00:00\", \"2013-09-15T00:00:00\", \"2013-09-16T00:00:00\", \"2013-09-17T00:00:00\", \"2013-09-18T00:00:00\", \"2013-09-19T00:00:00\", \"2013-09-20T00:00:00\", \"2013-09-21T00:00:00\", \"2013-09-22T00:00:00\", \"2013-09-23T00:00:00\", \"2013-09-24T00:00:00\", \"2013-09-25T00:00:00\", \"2013-09-26T00:00:00\", \"2013-09-27T00:00:00\", \"2013-09-28T00:00:00\", \"2013-09-29T00:00:00\", \"2013-09-30T00:00:00\", \"2013-10-01T00:00:00\", \"2013-10-02T00:00:00\", \"2013-10-03T00:00:00\", \"2013-10-04T00:00:00\", \"2013-10-05T00:00:00\", \"2013-10-06T00:00:00\", \"2013-10-07T00:00:00\", \"2013-10-08T00:00:00\", \"2013-10-09T00:00:00\", \"2013-10-10T00:00:00\", \"2013-10-11T00:00:00\", \"2013-10-12T00:00:00\", \"2013-10-13T00:00:00\", \"2013-10-14T00:00:00\", \"2013-10-15T00:00:00\", \"2013-10-16T00:00:00\", \"2013-10-17T00:00:00\", \"2013-10-18T00:00:00\", \"2013-10-19T00:00:00\", \"2013-10-20T00:00:00\", \"2013-10-21T00:00:00\", \"2013-10-22T00:00:00\", \"2013-10-23T00:00:00\", \"2013-10-24T00:00:00\", \"2013-10-25T00:00:00\", \"2013-10-26T00:00:00\", \"2013-10-27T00:00:00\", \"2013-10-28T00:00:00\", \"2013-10-29T00:00:00\", \"2013-10-30T00:00:00\", \"2013-10-31T00:00:00\", \"2013-11-01T00:00:00\", \"2013-11-02T00:00:00\", \"2013-11-03T00:00:00\", \"2013-11-04T00:00:00\", \"2013-11-05T00:00:00\", \"2013-11-06T00:00:00\", \"2013-11-07T00:00:00\", \"2013-11-08T00:00:00\", \"2013-11-09T00:00:00\", \"2013-11-10T00:00:00\", \"2013-11-11T00:00:00\", \"2013-11-12T00:00:00\", \"2013-11-13T00:00:00\", \"2013-11-14T00:00:00\", \"2013-11-15T00:00:00\", \"2013-11-16T00:00:00\", \"2013-11-17T00:00:00\", \"2013-11-18T00:00:00\", \"2013-11-19T00:00:00\", \"2013-11-20T00:00:00\", \"2013-11-21T00:00:00\", \"2013-11-22T00:00:00\", \"2013-11-23T00:00:00\", \"2013-11-24T00:00:00\", \"2013-11-25T00:00:00\", \"2013-11-26T00:00:00\", \"2013-11-27T00:00:00\", \"2013-11-28T00:00:00\", \"2013-11-29T00:00:00\", \"2013-11-30T00:00:00\", \"2013-12-01T00:00:00\"], \"y\": [7795011.5, 7877465.0, 7927292.5, 8241937.0, 8154328.5, 8410591.0, 8381092.5, 8316451.5, 8294339.5, 8347166.0, 8380599.5, 8344250.5, 8239989.5, 8268783.0, 8290537.0, 8955791.0, 9889836.0, 9996677.0, 10253567.0, 11008772.0, 10954396.0, 10801819.0, 10737611.0, 10647002.0, 10794515.0, 10928107.0, 10853601.0, 10786104.0, 10719896.0, 10651038.0, 10477612.0, 10414370.0, 10562120.0, 10539691.0, 10498418.0, 10387210.0, 10313192.0, 10361417.0, 10258354.0, 10170788.0, 10291306.0, 10539601.0, 11139885.0, 11119059.0, 10987242.0, 10991475.0, 11139521.0, 11393794.0, 11312702.0, 11767236.0, 11915685.0, 11989014.0, 12030228.0, 12893908.0, 13280716.0, 13315465.0, 13222637.0, 13238939.0, 13167183.0, 13054160.0, 13039500.0, 13364780.0, 13563775.0, 13530178.0, 13402894.0, 13261632.0, 13158934.0, 13090040.0, 12973763.0, 12840453.0, 12780770.0, 12732791.0, 12629030.0, 12562076.0, 12470639.0, 12429102.0, 12319188.0, 12267844.0, 12142134.0, 12051732.0, 11953188.0, 11872807.0, 11798348.0, 11672100.0, 11595998.0, 11515682.0, 11463118.0, 11386672.0, 11323986.0, 11224574.0, 11101424.0, 11012426.0, 11044860.0, 10916008.0, 10830475.0, 10514984.0, 10432607.0, 10323436.0, 10223519.0, 10125151.0, 10152328.0, 10303720.0, 11191165.0, 11290156.0, 11318146.0, 11480315.0, 11602757.0, 11765826.0, 11632311.0, 11673315.0, 12565079.0, 12548549.0, 12446155.0, 12256818.0, 12153414.0, 12063122.0, 11972965.0, 11907072.0, 11818739.0, 11687199.0, 11640439.0, 11532375.0, 11319194.0, 11266653.0, 11139942.0, 11080229.0, 11115728.0, 11039584.0, 10935884.0, 10847441.0, 10779533.0, 10659255.0, 10638987.0, 10488424.0, 10461614.0, 10356314.0, 10267841.0, 10324018.0, 10221194.0, 10123308.0, 10074650.0, 9961235.0, 9873624.0, 9807972.0, 9688564.0, 9602555.0, 9532141.0, 9521734.0, 9445528.0, 9334851.0, 9268217.0, 9178903.0, 9112188.0, 9113464.0, 9020531.0, 8927370.0, 8879899.0, 8805218.0, 8756405.0, 8696312.0, 8661480.0, 8638638.0, 8562203.0, 8485289.0, 8434885.0, 8377463.5, 8288167.5, 8247372.5, 8162790.0, 8094956.5, 8038833.5, 7999049.0, 7894994.0, 7825672.5, 7788535.5, 7745722.0, 7643941.0, 7626620.5, 7541920.0, 7520679.5, 7418294.0, 7349802.5, 7294563.0, 7177431.0]}, {\"mode\": \"lines\", \"name\": \"act_domWithdrawal\", \"type\": \"scatter\", \"x\": [\"2013-06-01T00:00:00\", \"2013-06-02T00:00:00\", \"2013-06-03T00:00:00\", \"2013-06-04T00:00:00\", \"2013-06-05T00:00:00\", \"2013-06-06T00:00:00\", \"2013-06-07T00:00:00\", \"2013-06-08T00:00:00\", \"2013-06-09T00:00:00\", \"2013-06-10T00:00:00\", \"2013-06-11T00:00:00\", \"2013-06-12T00:00:00\", \"2013-06-13T00:00:00\", \"2013-06-14T00:00:00\", \"2013-06-15T00:00:00\", \"2013-06-16T00:00:00\", \"2013-06-17T00:00:00\", \"2013-06-18T00:00:00\", \"2013-06-19T00:00:00\", \"2013-06-20T00:00:00\", \"2013-06-21T00:00:00\", \"2013-06-22T00:00:00\", \"2013-06-23T00:00:00\", \"2013-06-24T00:00:00\", \"2013-06-25T00:00:00\", \"2013-06-26T00:00:00\", \"2013-06-27T00:00:00\", \"2013-06-28T00:00:00\", \"2013-06-29T00:00:00\", \"2013-06-30T00:00:00\", \"2013-07-01T00:00:00\", \"2013-07-02T00:00:00\", \"2013-07-03T00:00:00\", \"2013-07-04T00:00:00\", \"2013-07-05T00:00:00\", \"2013-07-06T00:00:00\", \"2013-07-07T00:00:00\", \"2013-07-08T00:00:00\", \"2013-07-09T00:00:00\", \"2013-07-10T00:00:00\", \"2013-07-11T00:00:00\", \"2013-07-12T00:00:00\", \"2013-07-13T00:00:00\", \"2013-07-14T00:00:00\", \"2013-07-15T00:00:00\", \"2013-07-16T00:00:00\", \"2013-07-17T00:00:00\", \"2013-07-18T00:00:00\", \"2013-07-19T00:00:00\", \"2013-07-20T00:00:00\", \"2013-07-21T00:00:00\", \"2013-07-22T00:00:00\", \"2013-07-23T00:00:00\", \"2013-07-24T00:00:00\", \"2013-07-25T00:00:00\", \"2013-07-26T00:00:00\", \"2013-07-27T00:00:00\", \"2013-07-28T00:00:00\", \"2013-07-29T00:00:00\", \"2013-07-30T00:00:00\", \"2013-07-31T00:00:00\", \"2013-08-01T00:00:00\", \"2013-08-02T00:00:00\", \"2013-08-03T00:00:00\", \"2013-08-04T00:00:00\", \"2013-08-05T00:00:00\", \"2013-08-06T00:00:00\", \"2013-08-07T00:00:00\", \"2013-08-08T00:00:00\", \"2013-08-09T00:00:00\", \"2013-08-10T00:00:00\", \"2013-08-11T00:00:00\", \"2013-08-12T00:00:00\", \"2013-08-13T00:00:00\", \"2013-08-14T00:00:00\", \"2013-08-15T00:00:00\", \"2013-08-16T00:00:00\", \"2013-08-17T00:00:00\", \"2013-08-18T00:00:00\", \"2013-08-19T00:00:00\", \"2013-08-20T00:00:00\", \"2013-08-21T00:00:00\", \"2013-08-22T00:00:00\", \"2013-08-23T00:00:00\", \"2013-08-24T00:00:00\", \"2013-08-25T00:00:00\", \"2013-08-26T00:00:00\", \"2013-08-27T00:00:00\", \"2013-08-28T00:00:00\", \"2013-08-29T00:00:00\", \"2013-08-30T00:00:00\", \"2013-08-31T00:00:00\", \"2013-09-01T00:00:00\", \"2013-09-02T00:00:00\", \"2013-09-03T00:00:00\", \"2013-09-04T00:00:00\", \"2013-09-05T00:00:00\", \"2013-09-06T00:00:00\", \"2013-09-07T00:00:00\", \"2013-09-08T00:00:00\", \"2013-09-09T00:00:00\", \"2013-09-10T00:00:00\", \"2013-09-11T00:00:00\", \"2013-09-12T00:00:00\", \"2013-09-13T00:00:00\", \"2013-09-14T00:00:00\", \"2013-09-15T00:00:00\", \"2013-09-16T00:00:00\", \"2013-09-17T00:00:00\", \"2013-09-18T00:00:00\", \"2013-09-19T00:00:00\", \"2013-09-20T00:00:00\", \"2013-09-21T00:00:00\", \"2013-09-22T00:00:00\", \"2013-09-23T00:00:00\", \"2013-09-24T00:00:00\", \"2013-09-25T00:00:00\", \"2013-09-26T00:00:00\", \"2013-09-27T00:00:00\", \"2013-09-28T00:00:00\", \"2013-09-29T00:00:00\", \"2013-09-30T00:00:00\", \"2013-10-01T00:00:00\", \"2013-10-02T00:00:00\", \"2013-10-03T00:00:00\", \"2013-10-04T00:00:00\", \"2013-10-05T00:00:00\", \"2013-10-06T00:00:00\", \"2013-10-07T00:00:00\", \"2013-10-08T00:00:00\", \"2013-10-09T00:00:00\", \"2013-10-10T00:00:00\", \"2013-10-11T00:00:00\", \"2013-10-12T00:00:00\", \"2013-10-13T00:00:00\", \"2013-10-14T00:00:00\", \"2013-10-15T00:00:00\", \"2013-10-16T00:00:00\", \"2013-10-17T00:00:00\", \"2013-10-18T00:00:00\", \"2013-10-19T00:00:00\", \"2013-10-20T00:00:00\", \"2013-10-21T00:00:00\", \"2013-10-22T00:00:00\", \"2013-10-23T00:00:00\", \"2013-10-24T00:00:00\", \"2013-10-25T00:00:00\", \"2013-10-26T00:00:00\", \"2013-10-27T00:00:00\", \"2013-10-28T00:00:00\", \"2013-10-29T00:00:00\", \"2013-10-30T00:00:00\", \"2013-10-31T00:00:00\", \"2013-11-01T00:00:00\", \"2013-11-02T00:00:00\", \"2013-11-03T00:00:00\", \"2013-11-04T00:00:00\", \"2013-11-05T00:00:00\", \"2013-11-06T00:00:00\", \"2013-11-07T00:00:00\", \"2013-11-08T00:00:00\", \"2013-11-09T00:00:00\", \"2013-11-10T00:00:00\", \"2013-11-11T00:00:00\", \"2013-11-12T00:00:00\", \"2013-11-13T00:00:00\", \"2013-11-14T00:00:00\", \"2013-11-15T00:00:00\", \"2013-11-16T00:00:00\", \"2013-11-17T00:00:00\", \"2013-11-18T00:00:00\", \"2013-11-19T00:00:00\", \"2013-11-20T00:00:00\", \"2013-11-21T00:00:00\", \"2013-11-22T00:00:00\", \"2013-11-23T00:00:00\", \"2013-11-24T00:00:00\", \"2013-11-25T00:00:00\", \"2013-11-26T00:00:00\", \"2013-11-27T00:00:00\", \"2013-11-28T00:00:00\", \"2013-11-29T00:00:00\", \"2013-11-30T00:00:00\", \"2013-12-01T00:00:00\"], \"y\": [2369456.0, 2546670.75, 2644080.25, 2852711.5, 2788185.25, 2992483.0, 2940711.5, 2909469.5, 2900778.5, 2949387.25, 2878841.25, 2890772.75, 2843176.75, 2912335.25, 2913062.0, 3115380.5, 3193671.25, 3153966.0, 3170355.5, 3122431.25, 3138913.25, 3064789.75, 3075858.25, 3055177.25, 3139773.5, 3133013.75, 3068597.0, 3046640.75, 3029672.25, 3001098.25, 2884417.5, 2871207.5, 2982249.0, 2950491.75, 2920790.5, 2872075.0, 2860789.0, 2944816.0, 2887636.25, 2853896.0, 2903893.0, 2993512.0, 3161202.0, 3025249.25, 2953827.75, 3016761.5, 3060325.5, 3119745.0, 3026122.75, 3222154.5, 3133421.25, 3138974.0, 3133030.25, 3314235.0, 3276110.75, 3283203.5, 3199785.75, 3228053.25, 3178467.75, 3149142.25, 3131501.0, 3317191.5, 3328314.0, 3235126.25, 3227957.5, 3161469.75, 3127954.25, 3136370.0, 3107441.0, 3061853.5, 3070437.5, 3081582.0, 3055282.75, 3053705.25, 3008939.75, 3026850.5, 2999715.75, 3029533.25, 2975486.0, 2960106.25, 2947698.75, 2958763.0, 2972373.75, 2927534.5, 2921504.5, 2922452.75, 2921193.5, 2917028.5, 2938240.5, 2919990.5, 2879438.5, 2870242.75, 2981793.25, 2940208.75, 2942300.75, 2934078.25, 2928857.25, 2889419.25, 2865585.0, 2847801.0, 2921311.25, 3006134.0, 3259648.25, 3201337.0, 3163993.25, 3213273.25, 3265525.5, 3246558.75, 3151875.25, 3221573.5, 3462545.25, 3339590.5, 3304349.0, 3201901.25, 3171504.25, 3154531.5, 3098127.5, 3109116.75, 3101023.5, 3054085.25, 3093841.0, 3058421.0, 2927953.75, 2962096.75, 2920718.75, 2937008.75, 2994687.0, 2948492.5, 2914944.75, 2905945.5, 2918939.25, 2881192.5, 2936597.75, 2863020.5, 2911888.0, 2884035.75, 2872635.75, 2928006.75, 2888218.5, 2865669.0, 2893073.5, 2860365.5, 2849036.0, 2860436.0, 2820867.5, 2813781.5, 2820315.5, 2820081.25, 2808674.75, 2767971.25, 2769961.5, 2749472.5, 2754250.5, 2825309.0, 2803544.75, 2781444.5, 2802627.25, 2795756.5, 2816319.75, 2822942.5, 2852232.75, 2893976.0, 2880143.5, 2870308.0, 2884173.5, 2890829.5, 2863956.5, 2886576.0, 2868910.0, 2865652.0, 2873815.0, 2896761.0, 2853238.5, 2842805.5, 2863289.5, 2879693.0, 2835778.0, 2874946.5, 2844873.25, 2877750.0, 2827660.5, 2817122.75, 2818126.75, 2754752.0]}, {\"mode\": \"lines\", \"name\": \"act_indWithdrawal\", \"type\": \"scatter\", \"x\": [\"2013-06-01T00:00:00\", \"2013-06-02T00:00:00\", \"2013-06-03T00:00:00\", \"2013-06-04T00:00:00\", \"2013-06-05T00:00:00\", \"2013-06-06T00:00:00\", \"2013-06-07T00:00:00\", \"2013-06-08T00:00:00\", \"2013-06-09T00:00:00\", \"2013-06-10T00:00:00\", \"2013-06-11T00:00:00\", \"2013-06-12T00:00:00\", \"2013-06-13T00:00:00\", \"2013-06-14T00:00:00\", \"2013-06-15T00:00:00\", \"2013-06-16T00:00:00\", \"2013-06-17T00:00:00\", \"2013-06-18T00:00:00\", \"2013-06-19T00:00:00\", \"2013-06-20T00:00:00\", \"2013-06-21T00:00:00\", \"2013-06-22T00:00:00\", \"2013-06-23T00:00:00\", \"2013-06-24T00:00:00\", \"2013-06-25T00:00:00\", \"2013-06-26T00:00:00\", \"2013-06-27T00:00:00\", \"2013-06-28T00:00:00\", \"2013-06-29T00:00:00\", \"2013-06-30T00:00:00\", \"2013-07-01T00:00:00\", \"2013-07-02T00:00:00\", \"2013-07-03T00:00:00\", \"2013-07-04T00:00:00\", \"2013-07-05T00:00:00\", \"2013-07-06T00:00:00\", \"2013-07-07T00:00:00\", \"2013-07-08T00:00:00\", \"2013-07-09T00:00:00\", \"2013-07-10T00:00:00\", \"2013-07-11T00:00:00\", \"2013-07-12T00:00:00\", \"2013-07-13T00:00:00\", \"2013-07-14T00:00:00\", \"2013-07-15T00:00:00\", \"2013-07-16T00:00:00\", \"2013-07-17T00:00:00\", \"2013-07-18T00:00:00\", \"2013-07-19T00:00:00\", \"2013-07-20T00:00:00\", \"2013-07-21T00:00:00\", \"2013-07-22T00:00:00\", \"2013-07-23T00:00:00\", \"2013-07-24T00:00:00\", \"2013-07-25T00:00:00\", \"2013-07-26T00:00:00\", \"2013-07-27T00:00:00\", \"2013-07-28T00:00:00\", \"2013-07-29T00:00:00\", \"2013-07-30T00:00:00\", \"2013-07-31T00:00:00\", \"2013-08-01T00:00:00\", \"2013-08-02T00:00:00\", \"2013-08-03T00:00:00\", \"2013-08-04T00:00:00\", \"2013-08-05T00:00:00\", \"2013-08-06T00:00:00\", \"2013-08-07T00:00:00\", \"2013-08-08T00:00:00\", \"2013-08-09T00:00:00\", \"2013-08-10T00:00:00\", \"2013-08-11T00:00:00\", \"2013-08-12T00:00:00\", \"2013-08-13T00:00:00\", \"2013-08-14T00:00:00\", \"2013-08-15T00:00:00\", \"2013-08-16T00:00:00\", \"2013-08-17T00:00:00\", \"2013-08-18T00:00:00\", \"2013-08-19T00:00:00\", \"2013-08-20T00:00:00\", \"2013-08-21T00:00:00\", \"2013-08-22T00:00:00\", \"2013-08-23T00:00:00\", \"2013-08-24T00:00:00\", \"2013-08-25T00:00:00\", \"2013-08-26T00:00:00\", \"2013-08-27T00:00:00\", \"2013-08-28T00:00:00\", \"2013-08-29T00:00:00\", \"2013-08-30T00:00:00\", \"2013-08-31T00:00:00\", \"2013-09-01T00:00:00\", \"2013-09-02T00:00:00\", \"2013-09-03T00:00:00\", \"2013-09-04T00:00:00\", \"2013-09-05T00:00:00\", \"2013-09-06T00:00:00\", \"2013-09-07T00:00:00\", \"2013-09-08T00:00:00\", \"2013-09-09T00:00:00\", \"2013-09-10T00:00:00\", \"2013-09-11T00:00:00\", \"2013-09-12T00:00:00\", \"2013-09-13T00:00:00\", \"2013-09-14T00:00:00\", \"2013-09-15T00:00:00\", \"2013-09-16T00:00:00\", \"2013-09-17T00:00:00\", \"2013-09-18T00:00:00\", \"2013-09-19T00:00:00\", \"2013-09-20T00:00:00\", \"2013-09-21T00:00:00\", \"2013-09-22T00:00:00\", \"2013-09-23T00:00:00\", \"2013-09-24T00:00:00\", \"2013-09-25T00:00:00\", \"2013-09-26T00:00:00\", \"2013-09-27T00:00:00\", \"2013-09-28T00:00:00\", \"2013-09-29T00:00:00\", \"2013-09-30T00:00:00\", \"2013-10-01T00:00:00\", \"2013-10-02T00:00:00\", \"2013-10-03T00:00:00\", \"2013-10-04T00:00:00\", \"2013-10-05T00:00:00\", \"2013-10-06T00:00:00\", \"2013-10-07T00:00:00\", \"2013-10-08T00:00:00\", \"2013-10-09T00:00:00\", \"2013-10-10T00:00:00\", \"2013-10-11T00:00:00\", \"2013-10-12T00:00:00\", \"2013-10-13T00:00:00\", \"2013-10-14T00:00:00\", \"2013-10-15T00:00:00\", \"2013-10-16T00:00:00\", \"2013-10-17T00:00:00\", \"2013-10-18T00:00:00\", \"2013-10-19T00:00:00\", \"2013-10-20T00:00:00\", \"2013-10-21T00:00:00\", \"2013-10-22T00:00:00\", \"2013-10-23T00:00:00\", \"2013-10-24T00:00:00\", \"2013-10-25T00:00:00\", \"2013-10-26T00:00:00\", \"2013-10-27T00:00:00\", \"2013-10-28T00:00:00\", \"2013-10-29T00:00:00\", \"2013-10-30T00:00:00\", \"2013-10-31T00:00:00\", \"2013-11-01T00:00:00\", \"2013-11-02T00:00:00\", \"2013-11-03T00:00:00\", \"2013-11-04T00:00:00\", \"2013-11-05T00:00:00\", \"2013-11-06T00:00:00\", \"2013-11-07T00:00:00\", \"2013-11-08T00:00:00\", \"2013-11-09T00:00:00\", \"2013-11-10T00:00:00\", \"2013-11-11T00:00:00\", \"2013-11-12T00:00:00\", \"2013-11-13T00:00:00\", \"2013-11-14T00:00:00\", \"2013-11-15T00:00:00\", \"2013-11-16T00:00:00\", \"2013-11-17T00:00:00\", \"2013-11-18T00:00:00\", \"2013-11-19T00:00:00\", \"2013-11-20T00:00:00\", \"2013-11-21T00:00:00\", \"2013-11-22T00:00:00\", \"2013-11-23T00:00:00\", \"2013-11-24T00:00:00\", \"2013-11-25T00:00:00\", \"2013-11-26T00:00:00\", \"2013-11-27T00:00:00\", \"2013-11-28T00:00:00\", \"2013-11-29T00:00:00\", \"2013-11-30T00:00:00\", \"2013-12-01T00:00:00\"], \"y\": [5419118.0, 5324162.0, 5276209.5, 5381782.0, 5358934.0, 5410254.5, 5432721.0, 5399494.0, 5386120.5, 5390360.5, 5494203.0, 5446108.0, 5389496.5, 5349037.5, 5369939.0, 5832522.5, 6688171.0, 6834864.5, 7075331.5, 7878589.0, 7807771.5, 7729328.0, 7654055.5, 7584138.0, 7646812.5, 7787167.5, 7777201.5, 7731697.5, 7682472.0, 7642180.5, 7586251.5, 7536274.0, 7572856.0, 7582205.5, 7570708.5, 7508235.0, 7445478.5, 7409589.0, 7363784.5, 7309967.0, 7380444.0, 7538991.0, 7971432.5, 8086655.0, 8026371.5, 7967688.5, 8072031.5, 8266887.0, 8279486.0, 8537752.0, 8775080.0, 8842861.0, 8889933.0, 9572254.0, 9997339.0, 10025009.0, 10015617.0, 10003640.0, 9981491.0, 9897815.0, 9900804.0, 10040305.0, 10228171.0, 10287863.0, 10167784.0, 10093017.0, 10023861.0, 9946549.0, 9859219.0, 9771506.0, 9703237.0, 9644116.0, 9566670.0, 9501280.0, 9454627.0, 9395180.0, 9312409.0, 9231248.0, 9159581.0, 9084565.0, 8998437.0, 8906999.0, 8818933.0, 8737523.0, 8667455.0, 8586194.0, 8534890.0, 8462605.0, 8378714.5, 8297554.5, 8214962.5, 8135162.0, 8055515.5, 7968247.5, 7880628.0, 7573359.5, 7496204.5, 7426473.0, 7350393.5, 7269810.5, 7223361.0, 7289965.0, 7923695.5, 8081107.0, 8146481.0, 8259254.5, 8329476.0, 8511553.0, 8472759.0, 8443980.0, 9094641.0, 9201176.0, 9134093.0, 9047229.0, 8974228.0, 8900922.0, 8867175.0, 8790299.0, 8710052.0, 8625465.0, 8538952.0, 8466312.0, 8384041.0, 8297360.5, 8212032.5, 8136023.5, 8113837.5, 8083859.0, 8013745.0, 7934307.0, 7853411.0, 7770881.5, 7695213.0, 7618229.0, 7542553.5, 7465097.0, 7388033.5, 7388808.5, 7325799.5, 7250466.0, 7174408.5, 7093705.5, 7017425.0, 6940376.0, 6860538.5, 6781617.0, 6704661.5, 6694459.5, 6629685.0, 6559721.0, 6491103.5, 6422281.0, 6350792.0, 6280922.5, 6209757.5, 6138699.0, 6070045.0, 6002242.0, 5932867.0, 5866154.5, 5802033.0, 5737453.0, 5674856.0, 5607779.5, 5543512.0, 5479436.5, 5417018.5, 5353608.5, 5286695.5, 5222126.0, 5157843.5, 5095114.5, 5034587.0, 4975701.5, 4918086.0, 4858871.5, 4801008.0, 4744515.5, 4689898.5, 4635782.5, 4583492.5, 4525544.0, 4469305.5, 4416284.5]}],                        {\"template\": {\"data\": {\"bar\": [{\"error_x\": {\"color\": \"#f2f5fa\"}, \"error_y\": {\"color\": \"#f2f5fa\"}, \"marker\": {\"line\": {\"color\": \"rgb(17,17,17)\", \"width\": 0.5}}, \"type\": \"bar\"}], \"barpolar\": [{\"marker\": {\"line\": {\"color\": \"rgb(17,17,17)\", \"width\": 0.5}}, \"type\": \"barpolar\"}], \"carpet\": [{\"aaxis\": {\"endlinecolor\": \"#A2B1C6\", \"gridcolor\": \"#506784\", \"linecolor\": \"#506784\", \"minorgridcolor\": \"#506784\", \"startlinecolor\": \"#A2B1C6\"}, \"baxis\": {\"endlinecolor\": \"#A2B1C6\", \"gridcolor\": \"#506784\", \"linecolor\": \"#506784\", \"minorgridcolor\": \"#506784\", \"startlinecolor\": \"#A2B1C6\"}, \"type\": \"carpet\"}], \"choropleth\": [{\"colorbar\": {\"outlinewidth\": 0, \"ticks\": \"\"}, \"type\": \"choropleth\"}], \"contour\": [{\"colorbar\": {\"outlinewidth\": 0, \"ticks\": \"\"}, \"colorscale\": [[0.0, \"#0d0887\"], [0.1111111111111111, \"#46039f\"], [0.2222222222222222, \"#7201a8\"], [0.3333333333333333, \"#9c179e\"], [0.4444444444444444, \"#bd3786\"], [0.5555555555555556, \"#d8576b\"], [0.6666666666666666, \"#ed7953\"], [0.7777777777777778, \"#fb9f3a\"], [0.8888888888888888, \"#fdca26\"], [1.0, \"#f0f921\"]], \"type\": \"contour\"}], \"contourcarpet\": [{\"colorbar\": {\"outlinewidth\": 0, \"ticks\": \"\"}, \"type\": \"contourcarpet\"}], \"heatmap\": [{\"colorbar\": {\"outlinewidth\": 0, \"ticks\": \"\"}, \"colorscale\": [[0.0, \"#0d0887\"], [0.1111111111111111, \"#46039f\"], [0.2222222222222222, \"#7201a8\"], [0.3333333333333333, \"#9c179e\"], [0.4444444444444444, \"#bd3786\"], [0.5555555555555556, \"#d8576b\"], [0.6666666666666666, \"#ed7953\"], [0.7777777777777778, \"#fb9f3a\"], [0.8888888888888888, \"#fdca26\"], [1.0, \"#f0f921\"]], \"type\": \"heatmap\"}], \"heatmapgl\": [{\"colorbar\": {\"outlinewidth\": 0, \"ticks\": \"\"}, \"colorscale\": [[0.0, \"#0d0887\"], [0.1111111111111111, \"#46039f\"], [0.2222222222222222, \"#7201a8\"], [0.3333333333333333, \"#9c179e\"], [0.4444444444444444, \"#bd3786\"], [0.5555555555555556, \"#d8576b\"], [0.6666666666666666, \"#ed7953\"], [0.7777777777777778, \"#fb9f3a\"], [0.8888888888888888, \"#fdca26\"], [1.0, \"#f0f921\"]], \"type\": \"heatmapgl\"}], \"histogram\": [{\"marker\": {\"colorbar\": {\"outlinewidth\": 0, \"ticks\": \"\"}}, \"type\": \"histogram\"}], \"histogram2d\": [{\"colorbar\": {\"outlinewidth\": 0, \"ticks\": \"\"}, \"colorscale\": [[0.0, \"#0d0887\"], [0.1111111111111111, \"#46039f\"], [0.2222222222222222, \"#7201a8\"], [0.3333333333333333, \"#9c179e\"], [0.4444444444444444, \"#bd3786\"], [0.5555555555555556, \"#d8576b\"], [0.6666666666666666, \"#ed7953\"], [0.7777777777777778, \"#fb9f3a\"], [0.8888888888888888, \"#fdca26\"], [1.0, \"#f0f921\"]], \"type\": \"histogram2d\"}], \"histogram2dcontour\": [{\"colorbar\": {\"outlinewidth\": 0, \"ticks\": \"\"}, \"colorscale\": [[0.0, \"#0d0887\"], [0.1111111111111111, \"#46039f\"], [0.2222222222222222, \"#7201a8\"], [0.3333333333333333, \"#9c179e\"], [0.4444444444444444, \"#bd3786\"], [0.5555555555555556, \"#d8576b\"], [0.6666666666666666, \"#ed7953\"], [0.7777777777777778, \"#fb9f3a\"], [0.8888888888888888, \"#fdca26\"], [1.0, \"#f0f921\"]], \"type\": \"histogram2dcontour\"}], \"mesh3d\": [{\"colorbar\": {\"outlinewidth\": 0, \"ticks\": \"\"}, \"type\": \"mesh3d\"}], \"parcoords\": [{\"line\": {\"colorbar\": {\"outlinewidth\": 0, \"ticks\": \"\"}}, \"type\": \"parcoords\"}], \"pie\": [{\"automargin\": true, \"type\": \"pie\"}], \"scatter\": [{\"marker\": {\"line\": {\"color\": \"#283442\"}}, \"type\": \"scatter\"}], \"scatter3d\": [{\"line\": {\"colorbar\": {\"outlinewidth\": 0, \"ticks\": \"\"}}, \"marker\": {\"colorbar\": {\"outlinewidth\": 0, \"ticks\": \"\"}}, \"type\": \"scatter3d\"}], \"scattercarpet\": [{\"marker\": {\"colorbar\": {\"outlinewidth\": 0, \"ticks\": \"\"}}, \"type\": \"scattercarpet\"}], \"scattergeo\": [{\"marker\": {\"colorbar\": {\"outlinewidth\": 0, \"ticks\": \"\"}}, \"type\": \"scattergeo\"}], \"scattergl\": [{\"marker\": {\"line\": {\"color\": \"#283442\"}}, \"type\": \"scattergl\"}], \"scattermapbox\": [{\"marker\": {\"colorbar\": {\"outlinewidth\": 0, \"ticks\": \"\"}}, \"type\": \"scattermapbox\"}], \"scatterpolar\": [{\"marker\": {\"colorbar\": {\"outlinewidth\": 0, \"ticks\": \"\"}}, \"type\": \"scatterpolar\"}], \"scatterpolargl\": [{\"marker\": {\"colorbar\": {\"outlinewidth\": 0, \"ticks\": \"\"}}, \"type\": \"scatterpolargl\"}], \"scatterternary\": [{\"marker\": {\"colorbar\": {\"outlinewidth\": 0, \"ticks\": \"\"}}, \"type\": \"scatterternary\"}], \"surface\": [{\"colorbar\": {\"outlinewidth\": 0, \"ticks\": \"\"}, \"colorscale\": [[0.0, \"#0d0887\"], [0.1111111111111111, \"#46039f\"], [0.2222222222222222, \"#7201a8\"], [0.3333333333333333, \"#9c179e\"], [0.4444444444444444, \"#bd3786\"], [0.5555555555555556, \"#d8576b\"], [0.6666666666666666, \"#ed7953\"], [0.7777777777777778, \"#fb9f3a\"], [0.8888888888888888, \"#fdca26\"], [1.0, \"#f0f921\"]], \"type\": \"surface\"}], \"table\": [{\"cells\": {\"fill\": {\"color\": \"#506784\"}, \"line\": {\"color\": \"rgb(17,17,17)\"}}, \"header\": {\"fill\": {\"color\": \"#2a3f5f\"}, \"line\": {\"color\": \"rgb(17,17,17)\"}}, \"type\": \"table\"}]}, \"layout\": {\"annotationdefaults\": {\"arrowcolor\": \"#f2f5fa\", \"arrowhead\": 0, \"arrowwidth\": 1}, \"autotypenumbers\": \"strict\", \"coloraxis\": {\"colorbar\": {\"outlinewidth\": 0, \"ticks\": \"\"}}, \"colorscale\": {\"diverging\": [[0, \"#8e0152\"], [0.1, \"#c51b7d\"], [0.2, \"#de77ae\"], [0.3, \"#f1b6da\"], [0.4, \"#fde0ef\"], [0.5, \"#f7f7f7\"], [0.6, \"#e6f5d0\"], [0.7, \"#b8e186\"], [0.8, \"#7fbc41\"], [0.9, \"#4d9221\"], [1, \"#276419\"]], \"sequential\": [[0.0, \"#0d0887\"], [0.1111111111111111, \"#46039f\"], [0.2222222222222222, \"#7201a8\"], [0.3333333333333333, \"#9c179e\"], [0.4444444444444444, \"#bd3786\"], [0.5555555555555556, \"#d8576b\"], [0.6666666666666666, \"#ed7953\"], [0.7777777777777778, \"#fb9f3a\"], [0.8888888888888888, \"#fdca26\"], [1.0, \"#f0f921\"]], \"sequentialminus\": [[0.0, \"#0d0887\"], [0.1111111111111111, \"#46039f\"], [0.2222222222222222, \"#7201a8\"], [0.3333333333333333, \"#9c179e\"], [0.4444444444444444, \"#bd3786\"], [0.5555555555555556, \"#d8576b\"], [0.6666666666666666, \"#ed7953\"], [0.7777777777777778, \"#fb9f3a\"], [0.8888888888888888, \"#fdca26\"], [1.0, \"#f0f921\"]]}, \"colorway\": [\"#636efa\", \"#EF553B\", \"#00cc96\", \"#ab63fa\", \"#FFA15A\", \"#19d3f3\", \"#FF6692\", \"#B6E880\", \"#FF97FF\", \"#FECB52\"], \"font\": {\"color\": \"#f2f5fa\"}, \"geo\": {\"bgcolor\": \"rgb(17,17,17)\", \"lakecolor\": \"rgb(17,17,17)\", \"landcolor\": \"rgb(17,17,17)\", \"showlakes\": true, \"showland\": true, \"subunitcolor\": \"#506784\"}, \"hoverlabel\": {\"align\": \"left\"}, \"hovermode\": \"closest\", \"mapbox\": {\"style\": \"dark\"}, \"paper_bgcolor\": \"rgb(17,17,17)\", \"plot_bgcolor\": \"rgb(17,17,17)\", \"polar\": {\"angularaxis\": {\"gridcolor\": \"#506784\", \"linecolor\": \"#506784\", \"ticks\": \"\"}, \"bgcolor\": \"rgb(17,17,17)\", \"radialaxis\": {\"gridcolor\": \"#506784\", \"linecolor\": \"#506784\", \"ticks\": \"\"}}, \"scene\": {\"xaxis\": {\"backgroundcolor\": \"rgb(17,17,17)\", \"gridcolor\": \"#506784\", \"gridwidth\": 2, \"linecolor\": \"#506784\", \"showbackground\": true, \"ticks\": \"\", \"zerolinecolor\": \"#C8D4E3\"}, \"yaxis\": {\"backgroundcolor\": \"rgb(17,17,17)\", \"gridcolor\": \"#506784\", \"gridwidth\": 2, \"linecolor\": \"#506784\", \"showbackground\": true, \"ticks\": \"\", \"zerolinecolor\": \"#C8D4E3\"}, \"zaxis\": {\"backgroundcolor\": \"rgb(17,17,17)\", \"gridcolor\": \"#506784\", \"gridwidth\": 2, \"linecolor\": \"#506784\", \"showbackground\": true, \"ticks\": \"\", \"zerolinecolor\": \"#C8D4E3\"}}, \"shapedefaults\": {\"line\": {\"color\": \"#f2f5fa\"}}, \"sliderdefaults\": {\"bgcolor\": \"#C8D4E3\", \"bordercolor\": \"rgb(17,17,17)\", \"borderwidth\": 1, \"tickwidth\": 0}, \"ternary\": {\"aaxis\": {\"gridcolor\": \"#506784\", \"linecolor\": \"#506784\", \"ticks\": \"\"}, \"baxis\": {\"gridcolor\": \"#506784\", \"linecolor\": \"#506784\", \"ticks\": \"\"}, \"bgcolor\": \"rgb(17,17,17)\", \"caxis\": {\"gridcolor\": \"#506784\", \"linecolor\": \"#506784\", \"ticks\": \"\"}}, \"title\": {\"x\": 0.05}, \"updatemenudefaults\": {\"bgcolor\": \"#506784\", \"borderwidth\": 0}, \"xaxis\": {\"automargin\": true, \"gridcolor\": \"#283442\", \"linecolor\": \"#506784\", \"ticks\": \"\", \"title\": {\"standoff\": 15}, \"zerolinecolor\": \"#283442\", \"zerolinewidth\": 2}, \"yaxis\": {\"automargin\": true, \"gridcolor\": \"#283442\", \"linecolor\": \"#506784\", \"ticks\": \"\", \"title\": {\"standoff\": 15}, \"zerolinecolor\": \"#283442\", \"zerolinewidth\": 2}}}, \"title\": {\"text\": \"Water use and request\"}, \"xaxis\": {\"title\": {\"text\": \"Days\"}}, \"yaxis\": {\"title\": {\"text\": \"Volume (m3)\"}}},                        {\"responsive\": true}                    ).then(function(){\n",
       "                            \n",
       "var gd = document.getElementById('6868252e-e622-40b3-9e10-c40638f6d387');\n",
       "var x = new MutationObserver(function (mutations, observer) {{\n",
       "        var display = window.getComputedStyle(gd).display;\n",
       "        if (!display || display === 'none') {{\n",
       "            console.log([gd, 'removed!']);\n",
       "            Plotly.purge(gd);\n",
       "            observer.disconnect();\n",
       "        }}\n",
       "}});\n",
       "\n",
       "// Listen for the removal of the full notebook cells\n",
       "var notebookContainer = gd.closest('#notebook-container');\n",
       "if (notebookContainer) {{\n",
       "    x.observe(notebookContainer, {childList: true});\n",
       "}}\n",
       "\n",
       "// Listen for the clearing of the current output cell\n",
       "var outputEl = gd.closest('.output');\n",
       "if (outputEl) {{\n",
       "    x.observe(outputEl, {childList: true});\n",
       "}}\n",
       "\n",
       "                        })                };                });            </script>        </div>"
      ]
     },
     "metadata": {},
     "output_type": "display_data"
    }
   ],
   "source": [
    "from plotly import graph_objs as go, offline as po, tools\n",
    "fig_planted_Irr = go.Figure()\n",
    "fig_planted_nonIrr = go.Figure()\n",
    "fig_planted_total = go.Figure()\n",
    "\n",
    "fig_daily = go.Figure()\n",
    "\n",
    "\n",
    "for c in range(len(Crops)):\n",
    "    fig_planted_Irr.add_trace(go.Scatter(y=WB['Irrigated Area'][c][1],\n",
    "                             x=Dates_simulation,\n",
    "                    mode='lines',\n",
    "                    name=Crops_names[c]))\n",
    "    \n",
    "    fig_planted_nonIrr.add_trace(go.Scatter(y=WB['non-Irrigated Area'][c][1],\n",
    "                         x=Dates_simulation,\n",
    "                mode='lines',\n",
    "                name=Crops_names[c]))\n",
    "    \n",
    "    fig_planted_total.add_trace(go.Scatter(y=WB['non-Irrigated Area'][c][1]+WB['Irrigated Area'][c][1],\n",
    "                     x=Dates_simulation,\n",
    "            mode='lines',\n",
    "            name=Crops_names[c]))\n",
    "    \n",
    "    \n",
    "    \n",
    "    \n",
    "    fig_planted_Irr.add_trace(go.Scatter(y=WB['Irrigated Area proposed'][c][1],\n",
    "                         x=Dates_simulation,\n",
    "                mode='lines',\n",
    "                name='proposed'+Crops_names[c]))\n",
    "    \n",
    "    fig_planted_nonIrr.add_trace(go.Scatter(y=WB['non-Irrigated Area proposed'][c][1],\n",
    "                         x=Dates_simulation,\n",
    "                mode='lines',\n",
    "                name='proposed'+Crops_names[c]))\n",
    "    \n",
    "    fig_planted_total.add_trace(go.Scatter(y=WB['non-Irrigated Area proposed'][c][1]+WB['Irrigated Area proposed'][c][1],\n",
    "                     x=Dates_simulation,\n",
    "            mode='lines',\n",
    "            name='proposed'+ Crops_names[c]))\n",
    "    \n",
    "    \n",
    "fig_planted_Irr.add_trace(go.Scatter(y=WB['Total Irrigated land'][0][1],\n",
    "             x=Dates_simulation,\n",
    "    mode='lines',\n",
    "    name='total irrigated land'))\n",
    "\n",
    "fig_planted_nonIrr.add_trace(go.Scatter(y=WB['Total non-Irrigated land'][0][1],\n",
    "             x=Dates_simulation,\n",
    "    mode='lines',\n",
    "    name='total non-irrigated land'))   \n",
    "\n",
    "fig_planted_total.add_trace(go.Scatter(y=WB['Total non-Irrigated land'][0][1],\n",
    "             x=Dates_simulation,\n",
    "    mode='lines',\n",
    "    name='total non-irrigated land'))\n",
    "fig_planted_total.add_trace(go.Scatter(y=WB['Total Irrigated land'][0][1],\n",
    "             x=Dates_simulation,\n",
    "    mode='lines',\n",
    "    name='total irrigated land'))\n",
    "    \n",
    "\n",
    "fig_planted_Irr.add_trace(go.Scatter(y=WB['Total irrigated and planted'][0][1],\n",
    "             x=Dates_simulation,\n",
    "    mode='lines',\n",
    "    name='total irrigated crops'))\n",
    "\n",
    "fig_planted_nonIrr.add_trace(go.Scatter(y=WB['Total non-irrigated and planted'][0][1],\n",
    "             x=Dates_simulation,\n",
    "    mode='lines',\n",
    "    name='total non-irrigated crops'))\n",
    "\n",
    "\n",
    "fig_planted_total.add_trace(go.Scatter(y=WB['Total irrigated and planted'][0][1],\n",
    "             x=Dates_simulation,\n",
    "    mode='lines',\n",
    "    name='total irrigated crops'))\n",
    "\n",
    "fig_planted_total.add_trace(go.Scatter(y=WB['Total non-irrigated and planted'][0][1],\n",
    "             x=Dates_simulation,\n",
    "    mode='lines',\n",
    "    name='total non-irrigated crops'))\n",
    "\n",
    "#dev\n",
    "fig_planted_total.add_trace(go.Scatter(y=WB['Fallowed Irrigated land'][0][1],\n",
    "             x=Dates_simulation,\n",
    "    mode='lines',\n",
    "    name='fallowed irrigated crops'))\n",
    "\n",
    "fig_planted_total.add_trace(go.Scatter(y=WB['Fallowed non-irrigated land'][0][1],\n",
    "             x=Dates_simulation,\n",
    "    mode='lines',\n",
    "    name='fallowed non-irrigated crops'))\n",
    "\n",
    "\n",
    "fig_planted_total.add_trace(go.Scatter(y=WB['General irrigated land'][0][1], #WB['Total Irrigated land'][0][1] - WB['Total irrigated and planted'][0][1] - WB['Fallowed Irrigated land'][0][1],\n",
    "             x=Dates_simulation,\n",
    "    mode='lines',\n",
    "    name='General irrigated crops'))\n",
    "\n",
    "fig_planted_total.add_trace(go.Scatter(y=WB['General non-irrigated land'][0][1], #y=WB['Total non-Irrigated land'][0][1] - WB['Total irrigated and planted'][0][1] - WB['Fallowed Irrigated land'][0][1],\n",
    "             x=Dates_simulation,\n",
    "    mode='lines',\n",
    "    name='General non-irrigated crops'))\n",
    "\n",
    "\n",
    "\n",
    "\n",
    "\n",
    "fig_planted_total.add_trace(go.Scatter(y=WB['Forest'][0][1], #y=WB['Total non-Irrigated land'][0][1] - WB['Total irrigated and planted'][0][1] - WB['Fallowed Irrigated land'][0][1],\n",
    "             x=Dates_simulation,\n",
    "    mode='lines',\n",
    "    name='Forest'))\n",
    "\n",
    "fig_planted_total.add_trace(go.Scatter(y=WB['Paddy'][0][1], #y=WB['Total non-Irrigated land'][0][1] - WB['Total irrigated and planted'][0][1] - WB['Fallowed Irrigated land'][0][1],\n",
    "             x=Dates_simulation,\n",
    "    mode='lines',\n",
    "    name='Paddy'))\n",
    "\n",
    "fig_planted_total.add_trace(go.Scatter(y=WB['Sealed'][0][1], #y=WB['Total non-Irrigated land'][0][1] - WB['Total irrigated and planted'][0][1] - WB['Fallowed Irrigated land'][0][1],\n",
    "             x=Dates_simulation,\n",
    "    mode='lines',\n",
    "    name='Sealed'))\n",
    "\n",
    "fig_planted_total.add_trace(go.Scatter(y=WB['Water'][0][1], #y=WB['Total non-Irrigated land'][0][1] - WB['Total irrigated and planted'][0][1] - WB['Fallowed Irrigated land'][0][1],\n",
    "             x=Dates_simulation,\n",
    "    mode='lines',\n",
    "    name='Water'))\n",
    "fig_planted_total.add_trace(go.Scatter(y=WB['Available land'][0][1], #y=WB['Total non-Irrigated land'][0][1] - WB['Total irrigated and planted'][0][1] - WB['Fallowed Irrigated land'][0][1],\n",
    "             x=Dates_simulation,\n",
    "    mode='lines',\n",
    "    name='Available land'))\n",
    "\n",
    "\n",
    "fig_daily.add_trace(go.Scatter(y=WB2['actTransTotal_grasslands'][0][1], #y=WB['Total non-Irrigated land'][0][1] - WB['Total irrigated and planted'][0][1] - WB['Fallowed Irrigated land'][0][1],\n",
    "             x=Dates_simulation2,\n",
    "    mode='lines',\n",
    "    name='Grasslands transpiration'))\n",
    "fig_daily.add_trace(go.Scatter(y=WB2['actTransTotal_paddy'][0][1], #y=WB['Total non-Irrigated land'][0][1] - WB['Total irrigated and planted'][0][1] - WB['Fallowed Irrigated land'][0][1],\n",
    "             x=Dates_simulation2,\n",
    "    mode='lines',\n",
    "    name='Paddy transpiration'))\n",
    "fig_daily.add_trace(go.Scatter(y=WB2['actTransTotal_nonpaddy'][0][1], #y=WB['Total non-Irrigated land'][0][1] - WB['Total irrigated and planted'][0][1] - WB['Fallowed Irrigated land'][0][1],\n",
    "             x=Dates_simulation2,\n",
    "    mode='lines',\n",
    "    name='non-Paddy transpiration'))\n",
    "              \n",
    "fig_daily.add_trace(go.Scatter(y=WB2['Irrigation demand'][0][1], #y=WB['Total non-Irrigated land'][0][1] - WB['Total irrigated and planted'][0][1] - WB['Fallowed Irrigated land'][0][1],\n",
    "             x=Dates_simulation2,\n",
    "    mode='lines',\n",
    "    name='Irrigation demand'))\n",
    "fig_daily.add_trace(go.Scatter(y=WB2['non-Irrigation demand'][0][1], #y=WB['Total non-Irrigated land'][0][1] - WB['Total irrigated and planted'][0][1] - WB['Fallowed Irrigated land'][0][1],\n",
    "             x=Dates_simulation2,\n",
    "    mode='lines',\n",
    "    name='non-Irrigation demand'))\n",
    "fig_daily.add_trace(go.Scatter(y=WB2['domesticDemand'][0][1], #y=WB['Total non-Irrigated land'][0][1] - WB['Total irrigated and planted'][0][1] - WB['Fallowed Irrigated land'][0][1],\n",
    "             x=Dates_simulation2,\n",
    "    mode='lines',\n",
    "    name='domesticDemand'))\n",
    "fig_daily.add_trace(go.Scatter(y=WB2['industryDemand'][0][1], #y=WB['Total non-Irrigated land'][0][1] - WB['Total irrigated and planted'][0][1] - WB['Fallowed Irrigated land'][0][1],\n",
    "             x=Dates_simulation2,\n",
    "    mode='lines',\n",
    "    name='industryDemand'))\n",
    "\n",
    "fig_daily.add_trace(go.Scatter(y=WB2['Precipitation'][0][1], #y=WB['Total non-Irrigated land'][0][1] - WB['Total irrigated and planted'][0][1] - WB['Fallowed Irrigated land'][0][1],\n",
    "             x=Dates_simulation2,\n",
    "    mode='lines',\n",
    "    name='Precipitation'))\n",
    "fig_daily.add_trace(go.Scatter(y=WB2['act_irrPaddyDemand'][0][1], #y=WB['Total non-Irrigated land'][0][1] - WB['Total irrigated and planted'][0][1] - WB['Fallowed Irrigated land'][0][1],\n",
    "             x=Dates_simulation2,\n",
    "    mode='lines',\n",
    "    name='act_irrPaddyDemand'))\n",
    "fig_daily.add_trace(go.Scatter(y=WB2['act_irrNonpaddyDemand'][0][1], #y=WB['Total non-Irrigated land'][0][1] - WB['Total irrigated and planted'][0][1] - WB['Fallowed Irrigated land'][0][1],\n",
    "             x=Dates_simulation2,\n",
    "    mode='lines',\n",
    "    name='act_irrNonpaddyDemand '))\n",
    "\n",
    "fig_daily.add_trace(go.Scatter(y=WB2['Irrigation withdrawals'][0][1],\n",
    "             x=Dates_simulation2,\n",
    "    mode='lines',\n",
    "    name='act_irrWithdrawal'))\n",
    "fig_daily.add_trace(go.Scatter(y=WB2['non-Irrigation withdrawals'][0][1],\n",
    "             x=Dates_simulation2,\n",
    "    mode='lines',\n",
    "    name='act_nonIrrWithdrawal'))\n",
    "fig_daily.add_trace(go.Scatter(y=WB2['Domestic withdrawals'][0][1],\n",
    "             x=Dates_simulation2,\n",
    "    mode='lines',\n",
    "    name='act_domWithdrawal'))\n",
    "fig_daily.add_trace(go.Scatter(y=WB2['Industrial withdrawal'][0][1],\n",
    "             x=Dates_simulation2,\n",
    "    mode='lines',\n",
    "    name='act_indWithdrawal'))\n",
    "\"\"\"\n",
    "fig_daily.add_trace(go.Scatter(y=WB2['unmetDemand'][0][1],\n",
    "             x=Dates_simulation2,\n",
    "    mode='lines',\n",
    "    name='unmetDemand'))\n",
    "\"\"\"\n",
    "fig_daily.update_layout(title='Water use and request',\n",
    "                       xaxis_title = 'Days',\n",
    "                       yaxis_title = 'Volume (m3)',\n",
    "                        template='plotly_dark')\n",
    "\n",
    "\n",
    "\"\"\"\n",
    "fig_planted_Irr.update_layout(title='Crops irrigated and planted',\n",
    "                       xaxis_title = 'Months',\n",
    "                       yaxis_title = 'Area (m2)')\n",
    "\n",
    "fig_planted_Irr.update_layout(title='Crops non-irrigated and planted',\n",
    "                       xaxis_title = 'Months',\n",
    "                       yaxis_title = 'Area (m2)')\n",
    "\n",
    "fig_planted_Irr.update_layout(title='Crops total planted',\n",
    "                       xaxis_title = 'Months',\n",
    "                       yaxis_title = 'Area (m2)')\n",
    "\n",
    "\"\"\"\n",
    "fig_planted_Irr.update_layout(title='Crops irrigated and planted',\n",
    "                       xaxis_title = 'Months',\n",
    "                       yaxis_title = 'Area (m2)',  template='plotly_dark')\n",
    "\n",
    "fig_planted_nonIrr.update_layout(title='Crops non-irrigated and planted',\n",
    "                       xaxis_title = 'Months',\n",
    "                       yaxis_title = 'Area (m2)',  template='plotly_dark')\n",
    "\n",
    "fig_planted_total.update_layout(title='Crops total planted',\n",
    "                       xaxis_title = 'Months',\n",
    "                       yaxis_title = 'Area (m2)', template='plotly_dark')\n",
    "\n",
    "fig_planted_Irr.show()\n",
    "fig_planted_nonIrr.show()\n",
    "fig_planted_total.show()\n",
    "fig_daily.show()"
   ]
  },
  {
   "cell_type": "raw",
   "metadata": {},
   "source": [
    "run ./6_Maps_CWatM.ipynb"
   ]
  },
  {
   "cell_type": "code",
   "execution_count": null,
   "metadata": {},
   "outputs": [],
   "source": []
  }
 ],
 "metadata": {
  "extensions": {
   "jupyter_dashboards": {
    "activeView": "report_default",
    "version": 1,
    "views": {
     "grid_default": {
      "name": "grid",
      "type": "grid"
     },
     "report_default": {
      "name": "report",
      "type": "report"
     }
    }
   }
  },
  "kernelspec": {
   "display_name": "Python 3",
   "language": "python",
   "name": "python3"
  },
  "language_info": {
   "codemirror_mode": {
    "name": "ipython",
    "version": 3
   },
   "file_extension": ".py",
   "mimetype": "text/x-python",
   "name": "python",
   "nbconvert_exporter": "python",
   "pygments_lexer": "ipython3",
   "version": "3.9.9"
  }
 },
 "nbformat": 4,
 "nbformat_minor": 2
}
