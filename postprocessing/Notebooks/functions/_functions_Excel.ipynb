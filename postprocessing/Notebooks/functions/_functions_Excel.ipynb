{
 "cells": [
  {
   "cell_type": "markdown",
   "metadata": {
    "extensions": {
     "jupyter_dashboards": {
      "version": 1,
      "views": {
       "grid_default": {},
       "report_default": {
        "hidden": false
       }
      }
     }
    }
   },
   "source": [
    "# Water Cycles with CWatM\n",
    "## User inputs:\n",
    " - The folder path holding CWAtM simulations.\n",
    " - Was MODFLOW activated?\n",
    " - The coordinates for the outlet of the basin"
   ]
  },
  {
   "cell_type": "code",
   "execution_count": 1,
   "metadata": {
    "extensions": {
     "jupyter_dashboards": {
      "version": 1,
      "views": {
       "grid_default": {},
       "report_default": {
        "hidden": false
       }
      }
     }
    },
    "scrolled": true
   },
   "outputs": [],
   "source": [
    "# USER-SPECFIC: The folder path holding CWatM simulations \n",
    "if not 'output_folder' in locals():  \n",
    "    output_folder = r'P:\\watmodel\\CWATM\\Regions\\Bhima\\Input\\settings\\output'\n",
    "\n",
    "if not 'outlets' in locals():\n",
    "    # The location coordinates of the final cell in the basin, the discharge point, \n",
    "    latitude = 17.3875 #51.84 \n",
    "    longitude = 75.89583 #6.11 \n",
    "    outlets = [(latitude, longitude)]\n",
    "\n",
    "if not 'Modflow' in locals():\n",
    "    Modflow = True\n",
    "\n",
    "if not 'limitAbstraction' in locals():\n",
    "    limitAbstraction = True\n",
    "    \n",
    "if not 'consumption' in locals():\n",
    "    consumption = True\n",
    "    \n",
    "if not 'withdrawals' in locals():\n",
    "    withdrawals = True\n",
    "    \n",
    "if not 'withCrops' in locals():\n",
    "    withCrops = True\n",
    "    numberOfCrops = 18\n",
    "    \n",
    "if not 'regularGrid' in locals():\n",
    "    regularGrid = False\n",
    "    \n",
    "if not 'Excel' in locals():\n",
    "    Excel = False\n",
    "    \n",
    "if not 'sea_discharge' in locals():\n",
    "    sea_discharge = False\n",
    "    \n",
    "if not 'reservoir_transfers' in locals():\n",
    "    reservoir_transfers = False\n",
    "    \n",
    "if not 'israel_model' in locals():\n",
    "    israel_model = False\n",
    "\n",
    "if not 'text_inflow' in locals():\n",
    "    text_inflow = False"
   ]
  },
  {
   "cell_type": "code",
   "execution_count": 2,
   "metadata": {
    "extensions": {
     "jupyter_dashboards": {
      "version": 1,
      "views": {
       "grid_default": {},
       "report_default": {
        "hidden": true
       }
      }
     }
    },
    "scrolled": true
   },
   "outputs": [
    {
     "data": {
      "text/html": [
       "<style>.container { width:100% !important; }</style>"
      ],
      "text/plain": [
       "<IPython.core.display.HTML object>"
      ]
     },
     "metadata": {},
     "output_type": "display_data"
    }
   ],
   "source": [
    "import os\n",
    " \n",
    "# Get the list of all files and directories\n",
    "output_folder_files = os.listdir(output_folder)\n",
    "\n",
    "\n",
    "import matplotlib.pyplot as plt\n",
    "import numpy as np\n",
    "import numpy.ma as ma\n",
    "\n",
    "import plotly\n",
    "from plotly import graph_objs as go, offline as po, tools\n",
    "from plotly.subplots import make_subplots\n",
    "import plotly.express as px\n",
    "\n",
    "#from PIL import Image\n",
    "import datetime\n",
    "import json\n",
    "import pandas as pd\n",
    "from netCDF4 import Dataset, num2date\n",
    "\n",
    "from IPython.display import Image, display, HTML\n",
    "display(HTML(\"<style>.container { width:100% !important; }</style>\"))"
   ]
  },
  {
   "cell_type": "code",
   "execution_count": 3,
   "metadata": {
    "extensions": {
     "jupyter_dashboards": {
      "version": 1,
      "views": {
       "grid_default": {},
       "report_default": {
        "hidden": true
       }
      }
     }
    },
    "scrolled": true
   },
   "outputs": [],
   "source": [
    "def commas(num):\n",
    "    return '{:,.2f}'.format(num)\n",
    "\n",
    "def geo_idx(dd, dd_array):\n",
    "   \"\"\"\n",
    "     search for nearest decimal degree in an array of decimal degrees and return the index.\n",
    "     np.argmin returns the indices of minium value along an axis.\n",
    "     so subtract dd from all values in dd_array, take absolute value and find index of minium.\n",
    "    \"\"\"\n",
    "   geo_idx = (np.abs(dd_array - dd)).argmin()\n",
    "   return geo_idx"
   ]
  },
  {
   "cell_type": "markdown",
   "metadata": {
    "extensions": {
     "jupyter_dashboards": {
      "version": 1,
      "views": {
       "grid_default": {},
       "report_default": {
        "hidden": true
       }
      }
     }
    }
   },
   "source": [
    "## Discharge at basin outlet\n",
    "\n",
    "Here, we present the monthly discharge at the outlet of the Nira subbasin."
   ]
  },
  {
   "cell_type": "code",
   "execution_count": null,
   "metadata": {
    "extensions": {
     "jupyter_dashboards": {
      "version": 1,
      "views": {
       "grid_default": {},
       "report_default": {
        "hidden": true
       }
      }
     }
    }
   },
   "outputs": [],
   "source": [
    "Dates_simulation = num2date(nc_simulated.variables['time'][:], units=nc_simulated.variables['time'].units)\n",
    "\n",
    "fig_Discharge_outlet = go.Figure()\n",
    "\n",
    "fig_Discharge_outlet.add_trace(go.Scatter(y=FLOWS_simulated[0],\n",
    "                         x=Dates_simulation,\n",
    "                mode='lines',\n",
    "                name='Simulated'))\n",
    "\n",
    "\n",
    "fig_Discharge_outlet.update_layout(title='Discharge at outlet',\n",
    "                       xaxis_title = 'Days',\n",
    "                       yaxis_title = 'Discharge (m3/s)')\n",
    "\n",
    "#fig_Discharge_outlet.show()"
   ]
  },
  {
   "cell_type": "code",
   "execution_count": null,
   "metadata": {
    "extensions": {
     "jupyter_dashboards": {
      "version": 1,
      "views": {
       "grid_default": {},
       "report_default": {
        "hidden": true
       }
      }
     }
    }
   },
   "outputs": [],
   "source": [
    "# ['CWatm variable name', 'Label', 'Unit', Input/Output/Storage']\n",
    "\n",
    "# There are three different types of Units: \n",
    "# 1. Spatially districuted values in M\n",
    "# 2. Spatially distributed values in M3\n",
    "# 3. Summed total for the basin, where each cell holds the total sum for the basin\n",
    "\n",
    "if Modflow == False:\n",
    "    Vars = [\n",
    "        ['storGroundwater',   'Groundwater',       'M',    'Storage'],\n",
    "        ['storGroundwater',   'Groundwater',       'M',    'Storage_GW'],\n",
    "        ['sum_capRiseFromGW', 'Capillary rise',    'M',    'Input_GW'],\n",
    "        ['sum_capRiseFromGW', 'Capillary rise',    'M',    'Output_GW'], \n",
    "        ['sum_capRiseFromGW', 'Capillary rise',    'M',    'Output_Soil'],\n",
    "        ['sum_capRiseFromGW', 'Capillary rise',    'M',    'Input_Soil']]\n",
    "        \n",
    "    if limitAbstraction == True:\n",
    "        Vars.extend([['nonFossilGroundwaterAbs', 'GW pumping', 'M', 'Output_GW']]) #for limitAbstraction\n",
    "        Vars.extend([['nonFossilGroundwaterAbs', 'GW pumping', 'M', 'Input_Consumption']]) #for limitAbstraction\n",
    "    else:\n",
    "        Vars.extend([['unmetDemand',             'Fossil water', 'M', 'Input']]) \n",
    "        Vars.extend([['unmetDemand',             'Fossil water', 'M', 'Input_GW']]) \n",
    "        Vars.extend([['unmetDemand',             'Fossil water', 'M', 'Output_Withdrawal']])\n",
    "        Vars.extend([['pot_GroundwaterAbstract', 'GW requested', 'M', 'Input_Consumption']])\n",
    "        Vars.extend([['pot_GroundwaterAbstract', 'GW pumping',   'M', 'Output_GW']])\n",
    "\n",
    "else:\n",
    "    Vars = [\n",
    "        ['leakage',                         'Canal leakage',         'M3','Output_LR'],\n",
    "        ['capillar',                        'Capillary rise',        'M', 'Output_GW'],\n",
    "        ['capillar',                        'Capillary rise',        'M', 'Input_Soil'],\n",
    "        ['modfPumpingM_actual',             'GW pumping actual',     'M', 'Output_GW'],\n",
    "        ['Pumping_daily',                   'GW requested',          'M', 'Input_Consumption'],\n",
    "        ['riverbedExchangeM',               'Riverbed exchange',     'M', 'Input_Soil'],\n",
    "        ['leakageIntoRunoff',               'Canal leakage (Runoff)','M', 'Input_Soil'],\n",
    "        ['leakageIntoGw',                   'Canal leakage (GW)',    'M', 'Input_Soil'],\n",
    "        ['riverbedExchangeM',               'Riverbed exchange',     'M', 'Input_GW'],\n",
    "        ['lakebedExchangeM',                'Lakebed exchange',      'M', 'Input_GW'],\n",
    "        ['lakebedExchangeM',                'Lakebed exchange',      'M', 'Output_LR'],\n",
    "        ['lakebedExchangeM',                'Lakebed exchange',      'M', 'Input_Soil'],\n",
    "        ['leakageIntoGw',                   'Canal leakage (GW)',    'M', 'Input_GW']]\n",
    "    \n",
    "    if israel_model:\n",
    "        Vars.extend([\n",
    "            ['groundwater_storage_total',   'Groundwater',           'M', 'Storage'],\n",
    "            ['groundwater_storage_total',   'Groundwater',           'M', 'Storage_GW']])\n",
    "    else:\n",
    "        Vars.extend([\n",
    "            ['groundwater_storage_available',   'Groundwater',           'M', 'Storage'],\n",
    "            ['groundwater_storage_available',   'Groundwater',           'M', 'Storage_GW']])\n",
    "\n",
    "smallLakes = False\n",
    "if smallLakes:\n",
    "    Vars.extend([\n",
    "        ['smallevapWaterBody',    'Small Water bodies evaporation',    'M',      'Output'],\n",
    "        ['smalllakeStorage',      'Small Water bodies storage',        'M3',     'Storage']\n",
    "    ])\n",
    "     \n",
    "Vars.extend([\n",
    "    # General Water Balance\n",
    "    ['Rain',                  'Rain',                           'M',      'Input'],\n",
    "    ['Snow',                  'Snow',                           'M',      'Input'],\n",
    "    ['totalET',               'Evapotranspiration',             'M',      'Output'],\n",
    "    ['EvapoChannel',          'Channel evap.',                  'M3',     'Output'],\n",
    "    ['EvapWaterBodyM',        'Lake evap.',                     'M',      'Output'],    \n",
    "    ['act_nonIrrConsumption', 'non-Irrigation consumption',     'M',      'Output'],\n",
    "    #['smallevapWaterBody',   'Small Water bodies evaporation', 'M',      'Output'],\n",
    "    #['smalllakeStorage',     'Small Water bodies storage',     'M3',     'Storage'],\n",
    "    ['channelStorage',        'Rivers',                         'M3',     'Storage'],\n",
    "    ['lakeResStorage',        'Lakes',                          'M3',     'Storage'],\n",
    "    ['totalSto',              'Soil*',                           'M',     'Storage'],\n",
    "    ['unmet_lost',            'Non-lost fossil water',           'M',     'Output'],\n",
    " \n",
    "\n",
    "    ['sum_actTransTotal',       'Transpiration',  'M',    'Output_ET'],\n",
    "    ['actTransTotal_forest',    'Forest',         'M',    'Output_Trans'],\n",
    "    ['actTransTotal_grasslands','Grasslands',     'M',    'Output_Trans'],\n",
    "    ['actTransTotal_paddy',     'Paddy',          'M',    'Output_Trans'],\n",
    "    ['actTransTotal_nonpaddy',  'non-Paddy',      'M',    'Output_Trans'],\n",
    "\n",
    "    ['sum_actBareSoilEvap',   'Bare soil evap.',        'M',    'Output_ET'],\n",
    "    ['sum_interceptEvap',     'Intercept evap.',        'M',    'Output_ET'],\n",
    "    ['sum_openWaterEvap',     'Open water evap.',       'M',    'Output_ET'],\n",
    "    ['addtoevapotrans',       'Evap. application loss', 'M',    'Output_ET'],\n",
    "    ['snowEvap',              'Snow evap.',             'M',    'Output_ET'],\n",
    "    \n",
    "    # Lakes and Reservoirs Water Balance\n",
    "    ['lakeResInflowM',        'Lake inflow',       'M',    'Input_LR'],\n",
    "    ['EvapWaterBodyM',        'Lake evap.',        'M',    'Output_LR'],\n",
    "    ['act_bigLakeResAbst',    'Delivered lake',    'M',    'Output_LR'],\n",
    "    ['lakeResOutflowM',       'Lake discharge',    'M',    'Output_LR'],\n",
    "    ['lakeResStorage',        'Lake storage',      'M3',   'Storage_LR'],\n",
    "\n",
    "    # Groundwater Water Balance\n",
    "    ['baseflow',         'Baseflow',               'M', 'Output_GW'],\n",
    "\n",
    "    # Soil Water Balance\n",
    "    ['Rain',                    'Rain',                  'M',  'Input_Soil'],\n",
    "    ['Snow',                    'Snow',                  'M',  'Input_Soil'],\n",
    "    ['act_totalIrrConsumption', 'Effective irrigation',  'M',  'Input_Soil'],\n",
    "    ['sum_actTransTotal',       'Transpiration',         'M',  'Output_Soil'],\n",
    "    ['sum_actBareSoilEvap',     'Bare soil evap.',       'M',  'Output_Soil'],\n",
    "    ['sum_interceptEvap',       'Intercept evap.',       'M',  'Output_Soil'],\n",
    "    ['sum_openWaterEvap',       'Open water evap.',      'M',  'Output_Soil'],\n",
    "    ['sum_runoff',              'Runoff',                'M',  'Output_Soil'],\n",
    "    ['sum_gwRecharge',          'GW recharge',           'M',  'Output_Soil'],\n",
    "    ['snowEvap',                'Snow evap.',            'M',  'Output_Soil'],\n",
    "    ['totalSto',                'Soil*',                 'M',  'Storage_Soil']])\n",
    "\n",
    "if 'prefFlow_GW_daily.nc' in output_folder_files:\n",
    "    Vars.extend([\n",
    "    ['prefFlow_GW',      'Preferential flow',      'M', 'Input_GW'],\n",
    "    ['perc3toGW_GW',     'Soil percolation',       'M', 'Input_GW']])\n",
    "else:\n",
    "    Vars.extend([\n",
    "    ['sum_gwRecharge',      'GW recharge',      'M', 'Input_GW']])\n",
    "\n",
    "if consumption == True:\n",
    "    # Consumption Water Balance\n",
    "    Vars.extend([\n",
    "    ['act_domConsumption',       'Domestic consumption',           'M',  'Output_Consumption'],\n",
    "    ['act_indConsumption',       'Industrial consumption',         'M',  'Output_Consumption'],\n",
    "    ['act_livConsumption',       'Livestock consumption',          'M',  'Output_Consumption'],\n",
    "    ['act_nonpaddyConsumption',  'non-Paddy Effective Irrigation', 'M',  'Output_Consumption'],\n",
    "    ['act_paddyConsumption',     'Paddy Effective Irrigation',     'M',  'Output_Consumption'],\n",
    "    ['addtoevapotrans',          'Evap. application loss',         'M',  'Output_Consumption'],\n",
    "    ['returnflowIrr',            'Irr Return flow',                'M',  'Output_Consumption'],\n",
    "    ['returnflowNonIrr',         'Non-Irr Return flow',            'M',  'Output_Consumption'],\n",
    "    ['unmet_lost',               'Non-lost fossil water',          'M',  'Output_Consumption'],\n",
    "    ['act_SurfaceWaterAbstract', 'Surface water abst. (applied)',  'M',  'Input_Consumption']])\n",
    "\n",
    "if sea_discharge:\n",
    "    Vars.extend([\n",
    "    ['dis_outlet',                'Sea outlet',           'MS',      'Output']])\n",
    "    \n",
    "if reservoir_transfers:\n",
    "    Vars.extend([\n",
    "    ['reservoir_transfers_from_outside_M3',        'Desalinated',           'M3',      'Input'],\n",
    "    ['reservoir_transfers_from_outside_M3',        'Desalinated',           'M3',      'Input_LR']])\n",
    "    \n",
    "if withdrawals == True:\n",
    "    \n",
    "    Vars.extend([\n",
    "    ['act_irrWithdrawal', 'Irr abstractions', 'M', 'Input_Withdrawal'],\n",
    "    ['act_nonIrrWithdrawal', 'nonIrr abstractions', 'M', 'Input_Withdrawal'],\n",
    "    #['act_domWithdrawal',   'Domestic abst.',          'M',  'Input_Withdrawal'],\n",
    "    #['act_indWithdrawal',   'Industrial abst.',          'M',  'Input_Withdrawal'],\n",
    "    #['act_livWithdrawal',   'Livestock abst.',          'M',  'Input_Withdrawal'],\n",
    "\n",
    "    ['Channel_Domestic', 'Channel_Domestic', 'M', 'Output_Withdrawal'],\n",
    "    ['Channel_Livestock', 'Channel_Livestock', 'M', 'Output_Withdrawal'],\n",
    "    ['Channel_Industry',    'Channel_Industry', 'M', 'Output_Withdrawal'],\n",
    "    ['Lake_Domestic', 'Lake_Domestic', 'M', 'Output_Withdrawal'],\n",
    "    ['Lake_Livestock', 'Lake_Livestock', 'M', 'Output_Withdrawal'],\n",
    "    ['Lake_Industry', 'Lake_Industry', 'M', 'Output_Withdrawal'],\n",
    "    ['Res_Domestic',    'Res_Domestic', 'M', 'Output_Withdrawal'],\n",
    "    ['Res_Livestock', 'Res_Livestock', 'M', 'Output_Withdrawal'],\n",
    "    ['Res_Industry', 'Res_Industry', 'M', 'Output_Withdrawal'],\n",
    "    ['GW_Domestic', 'GW_Domestic', 'M', 'Output_Withdrawal'],\n",
    "    ['GW_Livestock',    'GW_Livestock', 'M', 'Output_Withdrawal'],\n",
    "    ['GW_Industry', 'GW_Industry', 'M', 'Output_Withdrawal'],\n",
    "    ['Channel_Irrigation', 'Channel_Irrigation', 'M', 'Output_Withdrawal'],\n",
    "    ['Lake_Irrigation',    'Lake_Irrigation', 'M', 'Output_Withdrawal'],\n",
    "    ['Res_Irrigation', 'Res_Irrigation', 'M', 'Output_Withdrawal'],\n",
    "    ['GW_Irrigation', 'GW_Irrigation', 'M', 'Output_Withdrawal']])\n",
    "    \n",
    "if 'Lift_Domestic_daily.nc' in output_folder_files:\n",
    "        Vars.extend([\n",
    "    ['Lift_Domestic', 'Lift_Domestic', 'M', 'Output_Withdrawal'],\n",
    "    ['Lift_Livestock', 'Lift_Livestock', 'M', 'Output_Withdrawal'],\n",
    "    ['Lift_Industry', 'Lift_Industry', 'M', 'Output_Withdrawal'],\n",
    "    ['Lift_Irrigation',    'Lift_Irrigation', 'M', 'Output_Withdrawal']\n",
    "])\n",
    "\n",
    "if withCrops == True:\n",
    "    if 'actTransTotal_crops_Irr[0]_daily.nc' in output_folder_files:\n",
    "        Vars.extend([['actTransTotal_crops_Irr['+str(c)+']',  'Trans Irr crop '+str(c),    'M',    'Output_irrTrans'] for c in range(numberOfCrops)])\n",
    "    if 'actTransTotal_crops_nonIrr[0]_daily.nc' in output_folder_files:\n",
    "        Vars.extend([['actTransTotal_crops_nonIrr['+str(c)+']',  'Trans nonIrr crop '+str(c),    'M',    'Output_nonirrTrans'] for c in range(numberOfCrops)])\n",
    "    if 'irr_crop[0]_daily.nc' in output_folder_files:\n",
    "        Vars.extend([['irr_crop['+str(c)+']',  'Irr crop '+str(c),    'M',    'Input_Withdrawal_crops'] for c in range(numberOfCrops)])\n",
    "    Vars.extend([['act_irrNonpaddyWithdrawal','act_irrNonpaddyWithdrawal','M','tbd']])\n"
   ]
  },
  {
   "cell_type": "code",
   "execution_count": null,
   "metadata": {
    "extensions": {
     "jupyter_dashboards": {
      "version": 1,
      "views": {
       "grid_default": {},
       "report_default": {
        "hidden": true
       }
      }
     }
    },
    "scrolled": false
   },
   "outputs": [],
   "source": [
    "# Loading the data\n",
    "# Loading the data\n",
    "import xlsxwriter\n",
    "\n",
    "\n",
    "import numpy.ma as ma\n",
    "\n",
    "# WB = {Inputs:  [ ['Rain', [rain_value_day0, ..., rain_value_dayLast]] ],\n",
    "#       Outputs: [ ['Evapotranspiration (soil)', [ET_value_day0, ..., ET_value_dayLast]] \n",
    "#                  ['Channel evaporation', [ChannelE_value_day0, ..., ChannelE_value_dayLast]], ... ]}\n",
    "\n",
    "keys = [i[-1] for i in Vars]\n",
    "WB = {key: [] for key in keys}\n",
    "\n",
    "cellArea = Dataset(output_folder +'/'+ 'cellArea_totalend.nc', 'r').variables['cellArea_totalend'][:,:]\n",
    "cellAreaC = ma.compressed(cellArea)\n",
    "\n",
    "cellAreaSum = np.sum(ma.compressed(cellAreaC))\n",
    "\n",
    "#limitAbstraction = True\n",
    "print(\"Loading the following variables:\")\n",
    "counter = 1 \n",
    "if Excel:\n",
    "    workbook = xlsxwriter.Workbook('waterCycle'+str(int(latitude))+'.xlsx')\n",
    "    worksheet = workbook.add_worksheet('0')\n",
    "    \n",
    "for var in Vars:\n",
    "\n",
    "    row = 1\n",
    "    if Excel:\n",
    "        worksheet.write(0, counter, str(var[0]))\n",
    "    print(var[0])\n",
    "    nc_filename = output_folder +'/'+ var[0] + '_daily.nc'\n",
    "    temp = Dataset(nc_filename, 'r').variables[var[0]][:,:,:]\n",
    "    Daily_basinSum = []\n",
    "    \n",
    "    for d in range(len(Dates_simulation)):\n",
    "        \n",
    "        if var[2] == 'M':\n",
    "            daily_basinSum = np.sum(np.multiply(ma.compressed(temp[d,:,:]), cellAreaC))\n",
    "            if limitAbstraction == True and var[0]=='unmetDemand': \n",
    "                daily_basinSum *=0\n",
    "        elif var[2] == 'M3':\n",
    "            daily_basinSum = np.sum(ma.compressed(temp[d,:,:]))\n",
    "        elif var[2] == 'MS':\n",
    "            daily_basinSum = np.sum(np.multiply(ma.compressed(temp[d,:,:]), 60*60*24))\n",
    "        else:\n",
    "            #All cells hold the same total-value for the basin\n",
    "            daily_basinSum = ma.compressed(temp[d,:,:])[0]\n",
    "            \n",
    "        Daily_basinSum.append(daily_basinSum)\n",
    "\n",
    "        if Excel:\n",
    "            if counter == 1:\n",
    "                worksheet.write(row, 0, str(Dates_simulation[d]))\n",
    "            worksheet.write(row, counter, daily_basinSum)\n",
    "            row += 1     \n",
    "    \n",
    "    WB[var[-1]].append([var[1], np.array(Daily_basinSum)])\n",
    "    counter += 1\n",
    "    \n",
    "if Excel:\n",
    "    row = 1\n",
    "    worksheet.write(0, counter, 'discharge')\n",
    "    for d in range(len(Dates_simulation)):\n",
    "        worksheet.write(row, counter, FLOWS_simulated[0][d]*86400)\n",
    "        row += 1\n",
    "    workbook.close()"
   ]
  },
  {
   "cell_type": "code",
   "execution_count": null,
   "metadata": {
    "extensions": {
     "jupyter_dashboards": {
      "version": 1,
      "views": {
       "grid_default": {},
       "report_default": {
        "hidden": false
       }
      }
     }
    }
   },
   "outputs": [],
   "source": [
    "#When pumping is requested, the groundwater demand may exceed the available groundwater supply\n",
    "\n",
    "# Pumping in M, Leakage in M3, and Actual in Summed\n",
    "if Modflow == True:\n",
    "    temp_Y_GWrequest = Dataset(output_folder +'/'+ 'Pumping_daily_daily.nc', 'r').variables['Pumping_daily'][:,:,:]\n",
    "    temp_Y_GWactual = Dataset(output_folder +'/'+ 'modfPumpingM_actual_daily.nc', 'r').variables['modfPumpingM_actual'][:,:,:]\n",
    "    temp_Y_GWleaked =  temp_Y_GWactual\n",
    "\n",
    "    Y_GWrequest = []\n",
    "    Y_GWleaked = []\n",
    "    Y_GWactual = []\n",
    "\n",
    "\n",
    "    for d in range(len(Dates_simulation)):\n",
    "\n",
    "        Y_GWrequest.append(np.sum(np.multiply(ma.compressed(temp_Y_GWrequest[d,:,:]), cellAreaC)))\n",
    "        Y_GWactual.append(np.sum(np.multiply(ma.compressed(temp_Y_GWactual[d,:,:]), cellAreaC)))\n",
    "        Y_GWleaked.append(np.sum(ma.compressed(temp_Y_GWleaked[d,:,:])))\n",
    "\n",
    "    Y_GWrequest = np.array(Y_GWrequest)[2:]\n",
    "    Y_GWleaked = np.array(Y_GWleaked)[2:]\n",
    "    Y_GWactual = np.array(Y_GWactual)[2:]\n",
    "\n",
    "\n",
    "    Y_diffPumping = Y_GWrequest - (Y_GWactual + Y_GWleaked)\n",
    "    Y_diffPumping_array = Y_diffPumping[:] \n",
    "    Y_diffPumping = abs(np.sum(Y_diffPumping))\n",
    "    \n",
    "else:\n",
    "    \n",
    "    temp_Y_GWrequest = Dataset(output_folder +'/'+ 'nonFossilGroundwaterAbs_daily.nc', 'r').variables['nonFossilGroundwaterAbs'][:,:,:]\n",
    "    \n",
    "    Y_GWrequest = []\n",
    "    for d in range(len(Dates_simulation)):\n",
    "        Y_GWrequest.append(np.sum(np.multiply(ma.compressed(temp_Y_GWrequest[d,:,:]), cellAreaC)))\n",
    "    \n",
    "    Y_GWrequest = np.array(Y_GWrequest)[2:]\n",
    "    Y_GWactual = Y_GWrequest.copy()\n",
    "    Y_GWleaked = np.array([0]*len(Y_GWrequest))\n",
    "    \n",
    "    Y_diffPumping = 0\n",
    "    \n",
    "    "
   ]
  },
  {
   "cell_type": "code",
   "execution_count": null,
   "metadata": {
    "extensions": {
     "jupyter_dashboards": {
      "version": 1,
      "views": {
       "grid_default": {},
       "report_default": {
        "hidden": true
       }
      }
     }
    },
    "scrolled": false
   },
   "outputs": [],
   "source": [
    "X = Dates_simulation\n",
    "X = X[2:]\n",
    "\n",
    "fig = go.Figure()\n",
    "fig.add_trace(go.Scatter(y= Y_GWrequest,\n",
    "                         x = X,\n",
    "                         mode='lines',\n",
    "                        name='GW requested'))\n",
    "fig.add_trace(go.Scatter(y= Y_GWactual,\n",
    "                         x = X,\n",
    "                         mode='lines',\n",
    "                        name='GW actual'))\n",
    "fig.add_trace(go.Scatter(y= Y_GWactual + Y_GWleaked,\n",
    "                         x = X,\n",
    "                         mode='lines',\n",
    "                         name = 'GW actual w/o leakage'))\n",
    "\n",
    "\n",
    "fig.add_trace(go.Scatter(y= Y_GWrequest - (Y_GWactual + Y_GWleaked),\n",
    "                         x = X,\n",
    "                         mode='lines',\n",
    "                        name='Pumping difference'))\n",
    "\n",
    "fig.update_layout(title = 'Actual versus Requested pumping',xaxis_title = 'Days',yaxis_title = 'M3')\n",
    "\n",
    "#fig.show()\n"
   ]
  },
  {
   "cell_type": "markdown",
   "metadata": {
    "extensions": {
     "jupyter_dashboards": {
      "version": 1,
      "views": {
       "grid_default": {},
       "report_default": {
        "hidden": true
       }
      }
     }
    }
   },
   "source": [
    "# Overall Water Balance"
   ]
  },
  {
   "cell_type": "code",
   "execution_count": null,
   "metadata": {},
   "outputs": [],
   "source": [
    "if text_inflow:\n",
    "    inflow = []\n",
    "    f = open(output_folder+'\\inflow.tss','r')\n",
    "    for line in f.readlines()[4:]:\n",
    "        #print(float(line.split()[1]))\n",
    "        inflow.append(float(line.split()[1])*86400)\n",
    "    f.close()"
   ]
  },
  {
   "cell_type": "code",
   "execution_count": null,
   "metadata": {
    "extensions": {
     "jupyter_dashboards": {
      "version": 1,
      "views": {
       "grid_default": {},
       "report_default": {
        "hidden": true
       }
      }
     }
    },
    "scrolled": false
   },
   "outputs": [],
   "source": [
    "Figures = {}\n",
    "X = Dates_simulation[2:]\n",
    "Title = 'Overall Water Balance'\n",
    "\n",
    "discharge_included = False\n",
    "\n",
    "fig_Waterscape = go.Figure()\n",
    "fig_Waterscape.update_layout(title = 'Water flows, daily: Waterscape<br><br> '+Title, xaxis_title = 'Days',yaxis_title = 'Flow (M3/day)', barmode='relative')\n",
    "#fig_Waterscape.update_layout(legend_orientation=\"h\")\n",
    "Total_input, Total_output, Total_change = [],[],[]\n",
    "labels_out, parents_out, values_out, colors_out = [], [], [], []\n",
    "labels_simple, parents_simple, values_simple, colors_simple = [], [], [], []\n",
    "Input_daily, Output_daily, Change_daily = np.zeros(len(X)), np.zeros(len(X)), np.zeros(len(X))\n",
    "\n",
    "Input_current = WB['Input']\n",
    "Output_current = WB['Output']\n",
    "Storage_current = WB['Storage']\n",
    "\n",
    "VARS = [[Input_current, 'Inputs', Total_input, 1, '', Input_daily], \n",
    "        [Output_current, 'Outputs', Total_output, -1, '', Output_daily], \n",
    "        [Storage_current, 'Storage', Total_change, -1, ' Change', Change_daily] ]\n",
    "        #[Storage_current, 'Storage', Total_change, -1, '', Change_daily] ] #February 26\n",
    "\n",
    "Y_select = []\n",
    "for VAR in VARS:\n",
    "    for Var in VAR[0]:\n",
    "        \n",
    "        if VAR[1] == 'Inputs' and text_inflow:\n",
    "            \n",
    "            Y = inflow[2:]\n",
    "            \n",
    "            Y_select.append([Y, 'Upstream'])\n",
    "            \n",
    "            VAR[5] += Y\n",
    "            VAR[2].append(np.sum(Y))\n",
    "            \n",
    "            fig_Waterscape.add_trace(go.Bar(\n",
    "                y = Y*VAR[3],\n",
    "                x = X,\n",
    "                name = 'Upstream'))\n",
    "\n",
    "            labels_out.append('Upstream')\n",
    "            parents_out.append(VAR[1])\n",
    "            values_out.append(np.sum(Y))\n",
    "            colors_out.append('positive')\n",
    "            \n",
    "            labels_simple.append('Upstream')\n",
    "            parents_simple.append(VAR[1])\n",
    "            values_simple.append(np.sum(Y))\n",
    "            colors_simple.append('positive')\n",
    "            \n",
    "            text_inflow = False\n",
    "\n",
    "        if VAR[1] == 'Outputs' and not discharge_included:\n",
    "        \n",
    "            for outlet in FLOWS_simulated:\n",
    "\n",
    "                Y = outlet * 60*60*24\n",
    "                Y = Y[2:]\n",
    "\n",
    "            Y_select.append([Y, 'Downstream'])\n",
    "  \n",
    "            \n",
    "            VAR[5] += Y\n",
    "            VAR[2].append(np.sum(Y))\n",
    "            \n",
    "            fig_Waterscape.add_trace(go.Bar(\n",
    "                y = Y*VAR[3],\n",
    "                x = X,\n",
    "                name = 'Downstream'))\n",
    "\n",
    "            labels_out.append('Downstream')\n",
    "            parents_out.append(VAR[1])\n",
    "            values_out.append(np.sum(Y))\n",
    "            colors_out.append('negative')\n",
    "            \n",
    "            labels_simple.append('Downstream')\n",
    "            parents_simple.append(VAR[1])\n",
    "            values_simple.append(np.sum(Y))\n",
    "            colors_simple.append('negative')\n",
    "\n",
    "            discharge_included = True\n",
    "\n",
    "        # Put original Y into Select chart\n",
    "        Y = Var[1]\n",
    "        Y = Y[2:]\n",
    "        Y_select.append([Y,Var[0]])\n",
    "        if Var[0] == 'Evapotranspiration':\n",
    "            total_ET = np.sum(Y)\n",
    "            \n",
    "        if VAR[1] == 'Storage':\n",
    "            \n",
    "            preY = np.append(Y[0], Var[1][:-1]) \n",
    "            Y = Y - preY[2:]\n",
    "            \n",
    "            labels_out.append(Var[0]) # February 26 +VAR[4])\n",
    "            parents_out.append(VAR[1]+VAR[4])\n",
    "            values_out.append(abs(np.sum(Y)))\n",
    "            colors_out.append('positive' if np.sum(Y)>0 else 'negative')\n",
    "            \n",
    "            \n",
    "        else:\n",
    "            labels_out.append(Var[0]) #+VAR[4]) February 26\n",
    "            parents_out.append(VAR[1])\n",
    "            values_out.append(np.sum(Y))\n",
    "            colors_out.append('positive' if VAR[1] == 'Inputs' else 'negative')\n",
    "            \n",
    "            labels_simple.append(Var[0]+VAR[4])\n",
    "            parents_simple.append(VAR[1])\n",
    "            values_simple.append(np.sum(Y))\n",
    "            colors_simple.append('positive' if VAR[1] == 'Inputs' else 'negative')\n",
    "\n",
    "            \n",
    "        VAR[2].append(np.sum(Y)) # Sum of a single variable, over the simulation period\n",
    "        VAR[5] += Y              # The daily total sum for all variables of a type: Inputs, Outputs, Change\n",
    "        \n",
    "    \n",
    "        fig_Waterscape.add_trace(go.Bar(\n",
    "            y = Y*VAR[3],\n",
    "            x = X,\n",
    "            name = Var[0]+VAR[4]))\n",
    "\n",
    "        \n",
    "    line = go.Scatter(x=X, y=Y_select[0][0])\n",
    "    updatemenus = [{'buttons': [{'method': 'restyle','label': i[1],'args': [{'y': [i[0]]}]} for i in Y_select], \n",
    "                    'direction': 'down', 'pad':{\"r\": 10, \"t\": 10}, 'showactive': True, 'x':0.2, 'xanchor':'left', 'y':1.225, 'yanchor':'top'}]\n",
    "\n",
    "    layout = go.Layout(\n",
    "        updatemenus=updatemenus,\n",
    "        title = 'Specific flows and storages',\n",
    "        xaxis_title = 'Days',\n",
    "        yaxis_title = 'Volume (M3) or Flow (M3/day)')\n",
    "\n",
    "    figure = go.Figure(data=[line], layout=layout)\n",
    "    \n",
    "total_input = sum(Total_input)\n",
    "total_input_adjusted = total_input + Y_diffPumping\n",
    "total_output = sum(Total_output)\n",
    "total_change = sum(Total_change)\n",
    "\n",
    "balance = total_input_adjusted - total_output - total_change\n",
    "magnitude_change = np.sum([abs(i) for i in VARS[2][2]])\n",
    "\n",
    "percent_accurate_WB = 100*(balance) / (0.5*total_input_adjusted + 0.5*abs(total_change) + 0.5*total_output)\n",
    "\n",
    "\n",
    "\n",
    "#################### \n",
    "# CIRCLES\n",
    "#################### \n",
    "colors_Circle_main_discrete_map={'positive':'#636EFA','negative':'#EF5538', 'white':'white', 'storage':'#D2D2D3'}\n",
    "values_Parents_map_Circle = {'Water flows total':total_input_adjusted+ total_output+magnitude_change+abs(balance),\n",
    "                             'Inputs':total_input_adjusted, \n",
    "                             'Outputs':total_output,\n",
    "                             'Storage Change':magnitude_change,\n",
    "                             '':total_input_adjusted+ total_output+magnitude_change+abs(balance)                            \n",
    "                            }\n",
    "####################   \n",
    "# Circle, main\n",
    "\n",
    "#test 23Feb\n",
    "labels_Circle_main =    ['Water flows total']+['Inputs',              'Outputs',            'Storage Change',     'Balance',            'Adjusted pumping'] + labels_out  #0225\n",
    "#labels_Circle_main =    [str(10)]+['Inputs',              'Outputs',            'Storage Change',     'Balance',            'Adjusted pumping'] + labels_out \n",
    "parents_Circle_main =   ['']+['Water flows total',   'Water flows total',  'Water flows total',  'Water flows total', 'Inputs']           + parents_out\n",
    "values_Circle_main =    [total_input_adjusted+ total_output+magnitude_change+abs(balance)]+[total_input_adjusted,  total_output,         magnitude_change,    abs(balance),               Y_diffPumping    ] + values_out \n",
    "\n",
    "values_Parents_Circle_main = [\"{:.1%}\".format(values_Circle_main[i]/values_Parents_map_Circle[parents_Circle_main[i]]) for i in range(len(values_Circle_main))]\n",
    "#colors_Circle_main =    ['white']+['positive','negative'] +  ['positive' if total_change>0 else 'negative']+ ['positive' if balance>0 else 'negative'] + ['positive'] + colors_out\n",
    "#colors_Circle_main =  ['white']+['positive','negative'] +  ['storage']+ ['positive' if balance>0 else 'negative'] + ['positive'] + colors_out\n",
    "colors_Circle_main =  ['white']+['positive','negative'] +  ['storage']+ ['white'] + ['positive'] + colors_out\n",
    "\n",
    "labels  =labels_Circle_main\n",
    "parents =parents_Circle_main\n",
    "values  =values_Circle_main\n",
    "colors  =colors_Circle_main\n",
    "fractions = values_Parents_Circle_main\n",
    "\n",
    "d={'labels':labels, 'parents':parents, 'values':values, 'colors':colors, 'fractions':fractions}\n",
    "#print([(labels[i], values[i]) for i in range((len(labels)))])\n",
    "\n",
    "\n",
    "df = pd.DataFrame(data=d)\n",
    "fig = px.sunburst(df, names='labels', parents='parents', values='values', color='colors', branchvalues='total', color_discrete_map=colors_Circle_main_discrete_map, hover_data=['fractions'])\n",
    "#fig.update_layout(uniformtext=dict(minsize=15, mode='hide'))\n",
    "#fig.update_layout(height=700, title='Water Balance Circle,<br> whole<br><br> '+Title)\n",
    "fig.update_layout(\n",
    "    title={'y':0.75, 'x':0.05, 'xanchor': 'left', 'yanchor': 'top'}) #, 'font_size':26})\n",
    "\n",
    "fig.update_layout(hoverlabel=dict(font_size=16))\n",
    "#fig.update_layout(template='plotly_dark')\n",
    "fig.show()   \n",
    "\n",
    "data_WB = {'Water flows, total':labels,'metres':[format(v/cellAreaSum,'.3f') for v in values]}\n",
    "# Create DataFrame\n",
    "\"\"\"\n",
    "df = pd.DataFrame(data_WB)\n",
    "df=df.style.set_table_styles([{'selector': 'th', 'props': [('font-size', '8pt')]}]).set_properties(**{\"font-size\": \"8pt\"}).hide(axis='index') \n",
    "display(df) \n",
    "\"\"\"\n",
    "\n",
    "##Updating values\n",
    "values  =values_Circle_main/cellAreaSum\n",
    "d={'labels':labels, 'parents':parents, 'values':values, 'colors':colors, 'fractions':fractions}\n",
    "df = pd.DataFrame(data=d)\n",
    "figM = px.sunburst(df, names='labels', parents='parents', values='values', color='colors', branchvalues='total', color_discrete_map=colors_Circle_main_discrete_map, hover_data=['fractions'])\n",
    "#fig.update_layout(uniformtext=dict(minsize=15, mode='hide'))\n",
    "#fig.update_layout(height=700, title='Water Balance Circle,<br> whole<br><br> '+Title)\n",
    "figM.update_layout(\n",
    "    title={'y':0.75, 'x':0.05, 'xanchor': 'left', 'yanchor': 'top'}) #, 'font_size':26})\n",
    "\n",
    "figM.update_layout(hoverlabel=dict(font_size=16))\n",
    "#fig.update_layout(template='plotly_dark')\n",
    "#figM.show() \n",
    "\n",
    "\n",
    "\n",
    "####################       \n",
    "# Circle, glimpse\n",
    "\n",
    "labels_Circle_simple = ['Inputs',              'Outputs',            'Storage Change',     'Balance',            'Adjusted pumping'] + labels_simple\n",
    "parents_Circle_simple = ['Water flows total',   'Water flows total',  'Water flows total',  'Water flows total', 'Inputs']           + parents_simple\n",
    "values_Circle_simple =  [total_input_adjusted,  total_output,         abs(total_change),    abs(balance),               Y_diffPumping    ] + values_simple\n",
    "values_Parents_Circle_simple = [\"{:.1%}\".format(values_Circle_simple[i]/values_Parents_map_Circle[parents_Circle_main[i]]) for i in range(len(values_Circle_simple))]\n",
    "#colors_Circle_simple =  ['positive','negative'] +  ['storage']+ ['positive' if balance>0 else 'negative'] + ['positive'] + colors_simple\n",
    "colors_Circle_simple =  ['positive','negative'] +  ['storage']+ ['white'] + ['positive'] + colors_simple\n",
    "\n",
    "labels  =labels_Circle_simple\n",
    "parents =parents_Circle_simple\n",
    "values  =values_Circle_simple\n",
    "colors  =colors_Circle_simple\n",
    "fractions = values_Parents_Circle_simple\n",
    "d={'labels':labels, 'parents':parents, 'values':values, 'colors':colors, 'fractions':fractions}\n",
    "df = pd.DataFrame(data=d)\n",
    "fig_Circle_simple = px.sunburst(df, names='labels', parents='parents', values='values', color='colors', color_discrete_map=colors_Circle_main_discrete_map, hover_data=['fractions'])\n",
    "fig_Circle_simple.update_layout(height=700, title='Water Balance Circle,<br> glimpse<br><br> '+Title)\n",
    "fig_Circle_simple.update_layout(uniformtext=dict(minsize=14, mode='hide'))\n",
    "fig_Circle_simple.update_layout(\n",
    "    title={'y':0.75, 'x':0.05, 'xanchor': 'left', 'yanchor': 'top'}) #, 'font_size':26})\n",
    "#fig_Circle_simple.show()\n",
    "\n",
    "####################   \n",
    "# Circle, main_branchvalues NOT total\n",
    "\n",
    "labels_Circle_main =    ['Inputs',              'Outputs',            'Storage Change',     'Balance',  'Adjusted pumping'] + labels_out \n",
    "parents_Circle_main =   ['Water flows total',   'Water flows total',  'Water flows total',  'Water flows total', 'Inputs']           + parents_out\n",
    "values_Circle_main =    [total_input_adjusted,  total_output,         magnitude_change,    abs(balance), Y_diffPumping] + values_out \n",
    "values_Parents_Circle_main = [\"{:.1%}\".format(values_Circle_main[i]/values_Parents_map_Circle[parents_Circle_main[i]]) for i in range(len(values_Circle_main))]\n",
    "#colors_Circle_main =    ['white']+['positive','negative'] +  ['positive' if total_change>0 else 'negative']+ ['positive' if balance>0 else 'negative'] + ['positive'] + colors_out\n",
    "#colors_Circle_main =  ['white']+['positive','negative'] +  ['storage']+ ['positive' if balance>0 else 'negative'] + colors_out\n",
    "colors_Circle_main =  ['positive','negative'] +  ['storage']+ ['white', 'positive'] + colors_out\n",
    "\n",
    "labels  =labels_Circle_main\n",
    "parents =parents_Circle_main\n",
    "values  =values_Circle_main\n",
    "colors  =colors_Circle_main\n",
    "fractions = values_Parents_Circle_main\n",
    "\n",
    "d={'labels':labels, 'parents':parents, 'values':values, 'colors':colors, 'fractions':fractions}\n",
    "\n",
    "df = pd.DataFrame(data=d)\n",
    "fig_Circle_whole_v2 = px.sunburst(df, names='labels', parents='parents', values='values', color='colors', color_discrete_map=colors_Circle_main_discrete_map, hover_data=['fractions'])\n",
    "#fig.update_layout(uniformtext=dict(minsize=15, mode='hide'))\n",
    "fig_Circle_whole_v2.update_layout(height=700, title='Water Balance Circle,<br> whole v2<br><br> '+Title)\n",
    "fig_Circle_whole_v2.update_layout(\n",
    "    title={'y':0.75, 'x':0.05, 'xanchor': 'left', 'yanchor': 'top'}) #, 'font_size':26})\n",
    "\n",
    "fig_Circle_whole_v2.update_layout(hoverlabel=dict(font_size=16))\n",
    "#fig_Circle_whole_v2.show() \n",
    "\n",
    "####################\n",
    "# Circle, complete, with ET\n",
    "labels_ET, parents_ET, values_ET, colors_ET = [], [], [], []\n",
    "VAR = [WB['Output_ET'], 'Evapotranspiration']\n",
    "\n",
    "\n",
    "for Var in VAR[0]:\n",
    "    Y = Var[1]\n",
    "    Y = Y[2:]\n",
    "    labels_ET.append(Var[0])\n",
    "    parents_ET.append(VAR[1])\n",
    "    values_ET.append(np.sum(Y))\n",
    "    colors_ET.append('negative')\n",
    "\n",
    "    if Var[0] == 'Transpiration':\n",
    "        total_Trans = np.sum(Y)\n",
    "        \n",
    "#Oct21 values_ET[-1] -= max(sum(values_ET)-total_ET, 0)\n",
    "\n",
    "\n",
    "labels_Trans, parents_Trans, values_Trans, colors_Trans = [], [], [], []\n",
    "\n",
    "VAR = [WB['Output_Trans'], 'Transpiration']\n",
    "\n",
    "Y_select = []\n",
    "for Var in VAR[0]:\n",
    "    Y = Var[1]\n",
    "    Y = Y[2:]\n",
    "    labels_Trans.append(Var[0])\n",
    "    parents_Trans.append(VAR[1])\n",
    "    values_Trans.append(np.sum(Y))\n",
    "    colors_Trans.append('negative')\n",
    "\n",
    "#21Oct values_Trans[-1] -= max(sum(values_Trans)-total_Trans, 0)\n",
    "\n",
    "values_Parents_map_Circle_complete = {'Water flows total':total_input_adjusted+ total_output+magnitude_change+abs(balance),\n",
    "                             'Inputs':total_input_adjusted, \n",
    "                             'Outputs':total_output,\n",
    "                             'Storage Change':magnitude_change,\n",
    "                             '':total_input_adjusted+ total_output+magnitude_change+abs(balance),\n",
    "                             'Evapotranspiration': total_ET,\n",
    "                             'Transpiration':total_Trans\n",
    "                            }\n",
    "\n",
    "\n",
    "labels  =labels_Circle_main+labels_ET+labels_Trans\n",
    "parents =parents_Circle_main+ parents_ET+ parents_Trans\n",
    "values  =values_Circle_main+values_ET+values_Trans\n",
    "colors  =colors_Circle_main+ colors_ET+ colors_Trans\n",
    "fractions = [\"{:.1%}\".format(values[i]/values_Parents_map_Circle_complete[parents[i]]) for i in range(len(values))]\n",
    "\n",
    "d={'labels':labels, 'parents':parents, 'values':values, 'colors':colors, 'fractions':fractions}\n",
    "\n",
    "df = pd.DataFrame(data=d)\n",
    "fig_Circle_complete = px.sunburst(df, names='labels', parents='parents', values='values', color='colors', branchvalues='total', color_discrete_map=colors_Circle_main_discrete_map, hover_data=['fractions'])\n",
    "#fig.update_layout(uniformtext=dict(minsize=15, mode='hide'))\n",
    "fig_Circle_complete.update_layout(height=700, title='Water Balance Circle,<br> complete<br><br> '+Title)\n",
    "fig_Circle_complete.update_layout(\n",
    "    title={'y':0.75, 'x':0.05, 'xanchor': 'left', 'yanchor': 'top'}) #, 'font_size':26})\n",
    "\n",
    "fig_Circle_complete.update_layout(hoverlabel=dict(font_size=16))\n",
    "#fig_Circle_complete.update_layout(template='plotly_dark')\n",
    "fig_Circle_complete.show()\n",
    "\n",
    "# Creating circle with crops\n",
    "# ['actTransTotal_crops_Irr[0]', 'Trans Irr crop 0', 'M', 'Output_irrTrans']\n",
    "data_WB = {'Water flows, total':labels,'metres':[format(v/cellAreaSum,'.3f') for v in values]}\n",
    "# Create DataFrame\n",
    "df = pd.DataFrame(data_WB)\n",
    "df=df.style.set_table_styles([{'selector': 'th', 'props': [('font-size', '8pt')]}]).set_properties(**{\"font-size\": \"8pt\"}).hide(axis='index') \n",
    "display(df) \n",
    "\n",
    "\n",
    "\n",
    "####################\n",
    "# Waterscape, Bar chart, daily water flows\n",
    "\n",
    "fig_Waterscape.update_traces(marker=dict(colorscale='twilight'))\n",
    "#fig_Waterscape.show()\n",
    "\n",
    "# Bar chart, total, water balance\n",
    "\n",
    "Bar_WB=go.Figure(go.Bar(x=['Inputs', 'Outputs', 'Storage Change', 'Water balance'], y=[total_input_adjusted, total_output, abs(total_change), balance],marker=dict(color=['#636EFA', '#EF5538','#00CC96','white'])))\n",
    "Bar_WB.update_layout(title = 'Water flows, total<br><br> '+Title,\n",
    "                  yaxis_title = 'Total Flow (M3/simulation) ')\n",
    "#Bar_WB.update_layout(legend_orientation=\"h\")\n",
    "\n",
    "#VARS = [[Input_current, 'Inputs', Total_input, 1, '', Input_daily], \n",
    "#        [Output_current, 'Outputs', Total_output, -1, '', Output_daily], \n",
    "#        [Storage_current, 'Storage', Total_change, -1, ' Change', Change_daily] ]\n",
    "# Line graph, and lines on Water Balance, waterscape\n",
    "Line_WB = go.Figure()\n",
    "Line_WB.update_layout(title = 'Water flows, daily<br><br> '+Title, xaxis_title = 'Days',yaxis_title = 'Flow (M3/day)')\n",
    "for VAR in VARS:\n",
    "    \n",
    "\n",
    "    \n",
    "    # Waterscape Bar chart, adding lines\n",
    "    if VAR[1] == 'Inputs':\n",
    "        color = '#636EFA'\n",
    "    if VAR[1] == 'Outputs':\n",
    "        color = '#EF553B'\n",
    "    if VAR[1] == 'Storage':\n",
    "        color = '#999999'\n",
    "        \n",
    "        # Waterscape Line graph\n",
    "    Line_WB.add_trace(go.Scatter(x=X, y=VAR[3]*VAR[5], fill='tozeroy', name=VAR[1]+VAR[4], line=dict(color=color)))\n",
    "    \n",
    "    fig_Waterscape.add_trace(go.Scatter(x=X, y=VAR[3]*VAR[5], name=VAR[1]+VAR[4], line=dict(color=color))) #,  #visible='legendonly')) {'positive':'rgb(128,177,211)','negative':'#EF5538', 'white':'white'}\n",
    "Line_WB.add_trace(go.Scatter(x=X, y=VARS[0][3]*VARS[0][5] + VARS[1][3]*VARS[1][5] + VARS[2][3]*VARS[2][5], fill='tozeroy', name= ' balance'))    \n",
    "Line_WB.add_trace(go.Scatter(x=X, y=(abs(VARS[0][3]*VARS[0][5]) + abs(VARS[1][3]*VARS[1][5]) + abs(VARS[2][3]*VARS[2][5]))*.5,  name= ' sum of magnitudes'))    \n",
    "####################  \n",
    "# Table\n",
    "# intialise data of lists.\n",
    "data_WB = {'Water flows, total':['Inputs', 'Outputs', 'Storage Change', 'Balance', 'Balance over all flows (%):'],'BMC':[  total_input_adjusted/1_000_000_000,   total_output/1_000_000_000,   total_change/1_000_000_000,   balance/1_000_000_000, percent_accurate_WB]}\n",
    "# Create DataFrame\n",
    "df = pd.DataFrame(data_WB)\n",
    "df=df.style.set_table_styles([{'selector': 'th', 'props': [('font-size', '15pt')]}]).set_properties(**{\"font-size\": \"15pt\"}).hide(axis='index') \n",
    "    \n",
    "####################   \n",
    "# Print examples.\n",
    "#fig_Circle_simple.show()\n",
    "#fig.show()\n",
    "#fig_Circle_whole_v2.show() \n",
    "#fig_Circle_complete.show()\n",
    "#fig_Waterscape.show()\n",
    "#Bar_WB.show()\n",
    "#Line_WB.update_layout(template='plotly_dark')\n",
    "Line_WB.update_layout(legend_orientation=\"h\")\n",
    "Line_WB.show()\n",
    "#display(df)\n",
    "\n",
    "Figures['fig_Circle_simple_']= fig_Circle_simple\n",
    "Figures['fig_']= fig\n",
    "Figures['fig_Circle_whole_v2_']= fig_Circle_whole_v2\n",
    "Figures['Line_WB_']= Line_WB\n",
    "\n",
    "Figures['fig_Waterscape_']= fig_Waterscape\n",
    "Figures['Bar_WB_']= Bar_WB\n",
    "Figures['df_']= df\n",
    "Figures['figure_']= figure\n",
    "\n"
   ]
  },
  {
   "cell_type": "code",
   "execution_count": null,
   "metadata": {},
   "outputs": [],
   "source": [
    "if withCrops == True:\n",
    "    ####################\n",
    "    # Circle, complete, with ET\n",
    "    #['sum_actTransTotal',       'Transpiration',                'M',    'Output_ET'],\n",
    "    labels_ET, parents_ET, values_ET, colors_ET = [], [], [], []\n",
    "    VAR = [WB['Output_ET'], 'Evapotranspiration']\n",
    "\n",
    "\n",
    "    for Var in VAR[0]:\n",
    "        Y = Var[1]\n",
    "        Y = Y[2:]\n",
    "        labels_ET.append(Var[0])\n",
    "        parents_ET.append(VAR[1])\n",
    "        values_ET.append(np.sum(Y))\n",
    "        colors_ET.append('negative')\n",
    "\n",
    "        if Var[0] == 'Transpiration':\n",
    "            total_Trans = np.sum(Y)\n",
    "\n",
    "    #21Oct values_ET[-1] += max(sum(values_ET)-total_ET, 0)\n",
    "\n",
    "    ####\n",
    "    # ['actTransTotal_nonpaddy', 'Transpiration (non-Paddy)', 'M', 'Output_Trans']\n",
    "    labels_Trans, parents_Trans, values_Trans, colors_Trans = [], [], [], []\n",
    "\n",
    "    VAR = [WB['Output_Trans'], 'Transpiration']\n",
    "\n",
    "    #21Oct Y_select = []\n",
    "    for Var in VAR[0]:\n",
    "        Y = Var[1]\n",
    "        Y = Y[2:]\n",
    "        labels_Trans.append(Var[0])\n",
    "        parents_Trans.append(VAR[1])\n",
    "        values_Trans.append(np.sum(Y))\n",
    "        colors_Trans.append('negative')\n",
    "\n",
    "        if Var[0] == 'non-Paddy': #21Oct Transpiration (non-Paddy)\n",
    "            total_irrTrans = np.sum(Y)    \n",
    "        if Var[0] == 'Grasslands': #21Oct Transpiration (non-Paddy)\n",
    "            total_nonirrTrans = np.sum(Y)    \n",
    "\n",
    "    #Oct21 values_Trans[-1] += max(sum(values_Trans)-total_Trans, 0)\n",
    "    #####\n",
    "    # ['actTransTotal_crops_Irr[0]', 'Trans Irr crop 0', 'M', 'Output_irrTrans']\n",
    "    labels_irrTrans, parents_irrTrans, values_irrTrans, colors_irrTrans = [], [], [], []\n",
    "    if 'Output_irrTrans' in WB.keys():\n",
    "        \n",
    "        VAR = [WB['Output_irrTrans'], 'non-Paddy']\n",
    "        for Var in VAR[0]:\n",
    "            Y = Var[1]\n",
    "            Y = Y[2:]\n",
    "            labels_irrTrans.append(Var[0])\n",
    "            parents_irrTrans.append(VAR[1])\n",
    "            values_irrTrans.append(np.sum(Y))\n",
    "            colors_irrTrans.append('negative')\n",
    "        \n",
    "    \n",
    "    labels_nonirrTrans, parents_nonirrTrans, values_nonirrTrans, colors_nonirrTrans = [], [], [], []\n",
    "    if 'Output_nonirrTrans' in WB.keys():\n",
    "        \n",
    "        VAR = [WB['Output_nonirrTrans'], 'Grasslands']\n",
    "        for Var in VAR[0]:\n",
    "            Y = Var[1]\n",
    "            Y = Y[2:]\n",
    "            labels_irrTrans.append(Var[0])\n",
    "            parents_irrTrans.append(VAR[1])\n",
    "            values_irrTrans.append(np.sum(Y))\n",
    "            colors_irrTrans.append('negative')\n",
    "\n",
    "    #21Oct values_irrTrans[-1] -= max(sum(values_irrTrans)-total_irrTrans, 0)\n",
    "\n",
    "    values_Parents_map_Circle_complete = {'Water flows total':total_input_adjusted+ total_output+magnitude_change+abs(balance),\n",
    "                                          'Inputs':total_input_adjusted, \n",
    "                                          'Outputs':total_output, \n",
    "                                          'Storage Change':magnitude_change,\n",
    "                                          '':total_input_adjusted+ total_output+magnitude_change+abs(balance), \n",
    "                                          'Evapotranspiration': total_ET,   \n",
    "                                          'Transpiration':total_Trans,\n",
    "                                          'non-Paddy': total_irrTrans,\n",
    "                                          'Grasslands': total_nonirrTrans\n",
    "                                }\n",
    "\n",
    "\n",
    "    labels  =labels_Circle_main+labels_ET+labels_Trans+labels_irrTrans+labels_nonirrTrans\n",
    "    parents =parents_Circle_main+ parents_ET+ parents_Trans + parents_irrTrans+ parents_nonirrTrans\n",
    "    values  =values_Circle_main+values_ET+values_Trans + values_irrTrans + values_nonirrTrans\n",
    "    colors  =colors_Circle_main+ colors_ET+ colors_Trans + colors_irrTrans + colors_nonirrTrans\n",
    "    fractions = [\"{:.1%}\".format(values[i]/values_Parents_map_Circle_complete[parents[i]]) for i in range(len(values))]\n",
    "\n",
    "    #print([(labels[i], values[i]) for i in range((len(labels)))])\n",
    "\n",
    "    d={'labels':labels, 'parents':parents, 'values':values, 'colors':colors, 'fractions':fractions}\n",
    "\n",
    "    df = pd.DataFrame(data=d)\n",
    "    fig_Circle_complete_crops = px.sunburst(df, names='labels', parents='parents', values='values', color='colors', branchvalues='total', color_discrete_map=colors_Circle_main_discrete_map, hover_data=['fractions'])\n",
    "    #fig.update_layout(uniformtext=dict(minsize=15, mode='hide'))\n",
    "    fig_Circle_complete.update_layout(height=700, title='Water Balance Circle,<br> complete<br><br> '+Title)\n",
    "    fig_Circle_complete.update_layout(\n",
    "        title={'y':0.75, 'x':0.05, 'xanchor': 'left', 'yanchor': 'top'}) #, 'font_size':26})\n",
    "\n",
    "    fig_Circle_complete_crops.update_layout(hoverlabel=dict(font_size=16))\n",
    "    #fig_Circle_complete_crops.update_layout(template='plotly_dark')\n",
    "    fig_Circle_complete_crops.show()\n",
    "\n",
    "\n",
    "    # Creating circle with crops \n",
    "    # ['actTransTotal_crops_Irr[0]', 'Trans Irr crop 0', 'M', 'Output_irrTrans']\n",
    "\n"
   ]
  },
  {
   "cell_type": "markdown",
   "metadata": {
    "extensions": {
     "jupyter_dashboards": {
      "version": 1,
      "views": {
       "grid_default": {},
       "report_default": {
        "hidden": true
       }
      }
     }
    }
   },
   "source": [
    "# Try all specific balances"
   ]
  },
  {
   "cell_type": "code",
   "execution_count": null,
   "metadata": {
    "extensions": {
     "jupyter_dashboards": {
      "version": 1,
      "views": {
       "grid_default": {},
       "report_default": {
        "hidden": true
       }
      }
     }
    },
    "scrolled": false
   },
   "outputs": [],
   "source": [
    "WB['Storage_Consumption']=[]\n",
    "WB['Storage_Withdrawal']=[]\n",
    "\"\"\"\n",
    "if not consumption:\n",
    "    WB['Input_Consumption']=[]\n",
    "    WB['Storage_Consumption']=[]\n",
    "    WB['Output_Consumption']=[]\n",
    "    \n",
    "if not withdrawals:\n",
    "    WB['Input_Withdrawal']=[]\n",
    "    WB['Storage_Withdrawal']=[]\n",
    "    WB['Output_Withdrawal']=[]\n",
    "\"\"\"\n",
    "\n",
    "Sections = [['Groundwater', WB['Input_GW'], WB['Output_GW'], WB['Storage_GW']], \n",
    "                ['Lakes and Reservoirs', WB['Input_LR'], WB['Output_LR'], WB['Storage_LR']],\n",
    "                ['Soil', WB['Input_Soil'], WB['Output_Soil'], WB['Storage_Soil']]]\n",
    "\n",
    "if withdrawals:\n",
    "    Sections.extend([['Withdrawal', WB['Input_Withdrawal'], WB['Output_Withdrawal'], WB['Storage_Withdrawal']]])\n",
    "                     \n",
    "if consumption:\n",
    "    Sections.extend([['Consumption', WB['Input_Consumption'], WB['Output_Consumption'], WB['Storage_Consumption']]])\n",
    "\n",
    "for section in Sections:\n",
    "\n",
    "    Title = section[0]+'-specifc'\n",
    "\n",
    "    Input_current = section[1] #WB['Input_LR']\n",
    "    Output_current = section[2]#WB['Output_LR']\n",
    "    Storage_current = section[3]#WB['Storage_LR']\n",
    "\n",
    "    X = Dates_simulation[2:]\n",
    "    fig_Waterscape = go.Figure()\n",
    "    fig_Waterscape.update_layout(title = 'Water flows, daily: Waterscape<br><br> '+Title, xaxis_title = 'Days',yaxis_title = 'Flow (M3/day)', barmode='relative')\n",
    "\n",
    "    Total_input, Total_output, Total_change = [],[],[]\n",
    "    labels_out, parents_out, values_out, colors_out = [], [], [], []\n",
    "    labels_simple, parents_simple, values_simple, colors_simple = [], [], [], []\n",
    "    Input_daily, Output_daily, Change_daily = np.zeros(len(X)), np.zeros(len(X)), np.zeros(len(X))\n",
    "\n",
    "\n",
    "\n",
    "    VARS = [[Input_current, 'Inputs', Total_input, 1, '', Input_daily], \n",
    "            [Output_current, 'Outputs', Total_output, -1, '', Output_daily], \n",
    "            [Storage_current, 'Storage', Total_change, -1, ' Change', Change_daily] ]\n",
    "\n",
    "    Y_select = []\n",
    "    for VAR in VARS:\n",
    "        for Var in VAR[0]:\n",
    "\n",
    "            if Var[0]=='GW pumping actual':\n",
    "               \n",
    "                Y = Y_GWactual + Y_GWleaked\n",
    "            else:\n",
    "                # Put original Y into Select chart\n",
    "                Y = Var[1]\n",
    "                Y = Y[2:]\n",
    "\n",
    "            Y_select.append([Y,Var[0]])\n",
    "\n",
    "            if VAR[1] == 'Storage':\n",
    "\n",
    "                preY = np.append(Y[0], Var[1][:-1]) \n",
    "                Y = Y - preY[2:]\n",
    "\n",
    "                labels_out.append(Var[0]+VAR[4])\n",
    "                parents_out.append(VAR[1]+VAR[4])\n",
    "                values_out.append(abs(np.sum(Y)))\n",
    "                colors_out.append('positive' if np.sum(Y)>0 else 'negative')\n",
    "\n",
    "\n",
    "            else:\n",
    "                labels_out.append(Var[0]+VAR[4])\n",
    "                parents_out.append(VAR[1])\n",
    "                values_out.append(np.sum(Y))\n",
    "                colors_out.append('positive' if VAR[1] == 'Inputs' else 'negative')\n",
    "\n",
    "                labels_simple.append(Var[0]+VAR[4])\n",
    "                parents_simple.append(VAR[1])\n",
    "                values_simple.append(np.sum(Y))\n",
    "                colors_simple.append('positive' if VAR[1] == 'Inputs' else 'negative')\n",
    "\n",
    "\n",
    "            VAR[2].append(np.sum(Y)) # Sum of a single variable, over the simulation period\n",
    "            VAR[5] += Y              # The daily total sum for all variables of a type: Inputs, Outputs, Change\n",
    "\n",
    "\n",
    "            fig_Waterscape.add_trace(go.Bar(\n",
    "                y = Y*VAR[3],\n",
    "                x = X,\n",
    "                name = Var[0]+VAR[4]))\n",
    "\n",
    "        if Y_select != []:\n",
    "            line = go.Scatter(x=X, y=Y_select[0][0])\n",
    "            updatemenus = [{'buttons': [{'method': 'restyle','label': i[1],'args': [{'y': [i[0]]}]} for i in Y_select], \n",
    "                            'direction': 'down', 'pad':{\"r\": 10, \"t\": 10}, 'showactive': True, 'x':0.2, 'xanchor':'left', 'y':1.225, 'yanchor':'top'}]\n",
    "\n",
    "            layout = go.Layout(\n",
    "                updatemenus=updatemenus,\n",
    "                title = 'Specific flows and storages',\n",
    "                xaxis_title = 'Days',\n",
    "                yaxis_title = 'Volume (M3) or Flow (M3/day)')\n",
    "\n",
    "            figure = go.Figure(data=[line], layout=layout)\n",
    "\n",
    "    total_input = sum(Total_input)\n",
    "    total_input_adjusted = total_input #+ Y_diffPumping\n",
    "    total_output = sum(Total_output)\n",
    "    total_change = sum(Total_change)\n",
    "\n",
    "    balance = total_input_adjusted - total_output - total_change\n",
    "    magnitude_change = np.sum([abs(i) for i in VARS[2][2]])\n",
    "\n",
    "    percent_accurate_WB = 100*(balance) / (0.5*total_input_adjusted + 0.5*abs(total_change) + 0.5*total_output)\n",
    "\n",
    "\n",
    "\n",
    "    #################### \n",
    "    # CIRCLES\n",
    "    #################### \n",
    "    colors_Circle_main_discrete_map={'positive':'#636EFA','negative':'#EF5538', 'white':'white', 'storage':'#D2D2D3'}\n",
    "    values_Parents_map_Circle = {'Water flows total':total_input_adjusted+ total_output+magnitude_change+abs(balance),\n",
    "                                 'Inputs':total_input_adjusted, \n",
    "                                 'Outputs':total_output,\n",
    "                                 'Storage Change':magnitude_change,\n",
    "                                 '':total_input_adjusted+ total_output+magnitude_change+abs(balance)                            \n",
    "                                }\n",
    "    ####################   \n",
    "    # Circle, main\n",
    "\n",
    "    labels_Circle_main =    ['Water flows total']+['Inputs',              'Outputs',            'Storage Change',     'Balance'] + labels_out \n",
    "    parents_Circle_main =   ['']+['Water flows total',   'Water flows total',  'Water flows total',  'Water flows total']           + parents_out\n",
    "    values_Circle_main =    [total_input_adjusted+ total_output+magnitude_change+abs(balance)]+[total_input_adjusted,  total_output,         magnitude_change,    abs(balance)] + values_out \n",
    "    values_Parents_Circle_main = [\"{:.1%}\".format(values_Circle_main[i]/values_Parents_map_Circle[parents_Circle_main[i]]) for i in range(len(values_Circle_main))]\n",
    "    #colors_Circle_main =    ['white']+['positive','negative'] +  ['positive' if total_change>0 else 'negative']+ ['positive' if balance>0 else 'negative'] + ['positive'] + colors_out\n",
    "    #colors_Circle_main =  ['white']+['positive','negative'] +  ['storage']+ ['positive' if balance>0 else 'negative'] + colors_out\n",
    "    colors_Circle_main =  ['white']+['positive','negative'] +  ['storage']+ ['white'] + colors_out\n",
    "\n",
    "    labels  =labels_Circle_main\n",
    "    parents =parents_Circle_main\n",
    "    values  =values_Circle_main\n",
    "    colors  =colors_Circle_main\n",
    "    fractions = values_Parents_Circle_main\n",
    "    \n",
    "\n",
    "    d={'labels':labels, 'parents':parents, 'values':values, 'colors':colors, 'fractions':fractions}\n",
    "    df = pd.DataFrame(data=d)\n",
    "    fig = px.sunburst(df, names='labels', parents='parents', values='values', color='colors', branchvalues='total', color_discrete_map=colors_Circle_main_discrete_map, hover_data=['fractions'])\n",
    "    \n",
    "    #fig.update_layout(uniformtext=dict(minsize=15, mode='hide'))\n",
    "    fig.update_layout(height=700, title='Water Balance Circle,<br> whole<br><br> '+Title)\n",
    "    fig.update_layout(\n",
    "        title={'y':0.75, 'x':0.1, 'xanchor': 'left', 'yanchor': 'top'}) #, 'font_size':26})\n",
    "\n",
    "    fig.update_layout(hoverlabel=dict(font_size=16))\n",
    "    fig.show()        \n",
    "\n",
    "    ####################       \n",
    "    # Circle, simplified\n",
    "\n",
    "    labels_Circle_simple = ['Inputs',              'Outputs',            'Storage Change',     'Balance'] + labels_simple\n",
    "    parents_Circle_simple = ['Water flows total',   'Water flows total',  'Water flows total',  'Water flows total']           + parents_simple\n",
    "    values_Circle_simple =  [total_input_adjusted,  total_output,         abs(total_change),    abs(balance)] + values_simple\n",
    "    values_Parents_Circle_simple = [\"{:.1%}\".format(values_Circle_simple[i]/values_Parents_map_Circle[parents_Circle_main[i]]) for i in range(len(values_Circle_simple))]\n",
    "    #colors_Circle_simple =  ['positive','negative'] +  ['storage']+ ['positive' if balance>0 else 'negative']+ colors_simple\n",
    "    colors_Circle_simple =  ['positive','negative'] +  ['storage']+ ['white']+ colors_simple\n",
    "\n",
    "    labels  =labels_Circle_simple\n",
    "    parents =parents_Circle_simple\n",
    "    values  =values_Circle_simple\n",
    "    colors  =colors_Circle_simple\n",
    "    fractions = values_Parents_Circle_simple\n",
    "    \n",
    "    \n",
    "    d={'labels':labels, 'parents':parents, 'values':values, 'colors':colors, 'fractions':fractions}\n",
    "    df = pd.DataFrame(data=d)\n",
    "    fig_Circle_simple = px.sunburst(df, names='labels', parents='parents', values='values', color='colors', color_discrete_map=colors_Circle_main_discrete_map, hover_data=['fractions'])\n",
    "    \n",
    "    fig_Circle_simple.update_layout(height=700, title='Water Balance Circle,<br> glimpse<br><br> '+Title)\n",
    "    #fig_Circle_simple.update_layout(uniformtext=dict(minsize=14, mode='hide'))\n",
    "    fig_Circle_simple.update_layout(\n",
    "        title={'y':0.75, 'x':0.05, 'xanchor': 'left', 'yanchor': 'top'}) #, 'font_size':26})\n",
    "    #fig_Circle_simple.show()\n",
    "\n",
    "    ####################   \n",
    "    # Circle, main_branchvalues NOT total\n",
    "\n",
    "    labels_Circle_main =    ['Inputs',              'Outputs',            'Storage Change',     'Balance'] + labels_out \n",
    "    parents_Circle_main =   ['Water flows total',   'Water flows total',  'Water flows total',  'Water flows total']           + parents_out\n",
    "    values_Circle_main =    [total_input_adjusted,  total_output,         magnitude_change,    abs(balance)] + values_out \n",
    "    values_Parents_Circle_main = [\"{:.1%}\".format(values_Circle_main[i]/values_Parents_map_Circle[parents_Circle_main[i]]) for i in range(len(values_Circle_main))]\n",
    "    #colors_Circle_main =    ['white']+['positive','negative'] +  ['positive' if total_change>0 else 'negative']+ ['positive' if balance>0 else 'negative'] + ['positive'] + colors_out\n",
    "    #colors_Circle_main =  ['white']+['positive','negative'] +  ['storage']+ ['positive' if balance>0 else 'negative'] + colors_out\n",
    "    colors_Circle_main =  ['positive','negative'] +  ['storage']+ ['white'] + colors_out\n",
    "\n",
    "    labels  =labels_Circle_main\n",
    "    parents =parents_Circle_main\n",
    "    values  =values_Circle_main\n",
    "    colors  =colors_Circle_main\n",
    "    fractions = values_Parents_Circle_main\n",
    "    \n",
    "\n",
    "    d={'labels':labels, 'parents':parents, 'values':values, 'colors':colors, 'fractions':fractions}\n",
    "\n",
    "    df = pd.DataFrame(data=d)\n",
    "    fig_Circle_whole_v2 = px.sunburst(df, names='labels', parents='parents', values='values', color='colors', color_discrete_map=colors_Circle_main_discrete_map, hover_data=['fractions'])\n",
    "    fig.update_layout(uniformtext=dict(minsize=15, mode='hide'))\n",
    "    fig_Circle_whole_v2.update_layout(height=700, title='Water Balance Circle,<br> whole v2<br><br> '+Title)\n",
    "    fig_Circle_whole_v2.update_layout(\n",
    "        title={'y':0.75, 'x':0.05, 'xanchor': 'left', 'yanchor': 'top'}) #, 'font_size':26})\n",
    "\n",
    "    fig_Circle_whole_v2.update_layout(hoverlabel=dict(font_size=16))\n",
    "    #fig_Circle_whole_v2.show()   \n",
    "\n",
    "    ####################\n",
    "    # Waterscape, Bar chart, daily water flows\n",
    "\n",
    "    fig_Waterscape.update_traces(marker=dict(colorscale='twilight'))\n",
    "    #fig_Waterscape.show()\n",
    "\n",
    "    # Bar chart, total, water balance\n",
    "\n",
    "    Bar_WB=go.Figure(go.Bar(x=['Inputs', 'Outputs', 'Storage Change', 'Water balance'], y=[total_input_adjusted, total_output, abs(total_change), balance],marker=dict(color=['#636EFA', '#EF5538','#00CC96','white'])))\n",
    "    Bar_WB.update_layout(title = 'Water flows, total<br><br> '+Title,\n",
    "                      yaxis_title = 'Total Flow (M3/simulation) ')\n",
    "\n",
    "    #VARS = [[Input_current, 'Inputs', Total_input, 1, '', Input_daily], \n",
    "    #        [Output_current, 'Outputs', Total_output, -1, '', Output_daily], \n",
    "    #        [Storage_current, 'Storage', Total_change, -1, ' Change', Change_daily] ]\n",
    "    # Line graph, and lines on Water Balance, waterscape\n",
    "    Line_WB = go.Figure()\n",
    "    Line_WB.update_layout(title = 'Water flows, daily<br><br> '+Title, xaxis_title = 'Days',yaxis_title = 'Flow (M3/day)')\n",
    "\n",
    "    for VAR in VARS:\n",
    "\n",
    "        # Waterscape Line graph\n",
    "        \n",
    "\n",
    "        # Waterscape Bar chart, adding lines\n",
    "        if VAR[1] == 'Inputs':\n",
    "            color = '#636EFA'\n",
    "        if VAR[1] == 'Outputs':\n",
    "            color = '#EF553B'\n",
    "        if VAR[1] == 'Storage':\n",
    "            color = '#999999' #'#00CC96'\n",
    "            \n",
    "        Line_WB.add_trace(go.Scatter(x=X, y=VAR[3]*VAR[5], fill='tozeroy', name=VAR[1]+VAR[4], line=dict(color=color)))\n",
    "\n",
    "        fig_Waterscape.add_trace(go.Scatter(x=X, y=VAR[3]*VAR[5], name=VAR[1]+VAR[4], line=dict(color=color))) #,  #visible='legendonly')) {'positive':'rgb(128,177,211)','negative':'#EF5538', 'white':'white'}\n",
    "    Line_WB.add_trace(go.Scatter(x=X, y=VARS[0][3]*VARS[0][5] + VARS[1][3]*VARS[1][5] + VARS[2][3]*VARS[2][5], fill='tozeroy', name= ' balance'))    \n",
    "    fig_Waterscape.add_trace(go.Scatter(x=X, y=VARS[0][3]*VARS[0][5] + VARS[1][3]*VARS[1][5] + VARS[2][3]*VARS[2][5], name= ' balance'))    \n",
    "    #fig_Waterscape.update_layout(legend_orientation=\"h\")\n",
    "    ####################  \n",
    "    # Table\n",
    "    # intialise data of lists.\n",
    "    data_WB = {'Water flows, total: '+Title:['Inputs', 'Outputs', 'Storage Change', 'Balance', 'Balance over all flows (%):'],'BMC':[  total_input_adjusted/1_000_000_000,   total_output/1_000_000_000,   total_change/1_000_000_000,   balance/1_000_000_000, percent_accurate_WB]}\n",
    "    # Create DataFrame\n",
    "    df = pd.DataFrame(data_WB)\n",
    "    # March24 df=df.style.set_table_styles([{'selector': 'th', 'props': [('font-size', '15pt')]}]).set_properties(**{\"font-size\": \"15pt\"}).hide_index()\n",
    "    df=df.style.set_table_styles([{'selector': 'th', 'props': [('font-size', '15pt')]}]).set_properties(**{\"font-size\": \"15pt\"}).hide(axis='index')\n",
    "\n",
    "\n",
    "\n",
    "    ####################   \n",
    "    # Print examples.\n",
    "    #fig_Circle_simple.show()\n",
    "    #fig.show()\n",
    "    #fig_Circle_whole_v2.show() \n",
    "    #Line_WB.show()\n",
    "    #fig_Waterscape.show()\n",
    "    #Bar_WB.show()\n",
    "    #display(df)\n",
    "    #po.iplot(figure)\n",
    "\n",
    "    Figures['fig_Circle_simple_'+section[0]]= fig_Circle_simple\n",
    "    Figures['fig_'+section[0]]= fig\n",
    "    Figures['fig_Circle_whole_v2_'+section[0]]= fig_Circle_whole_v2\n",
    "    Figures['Line_WB_'+section[0]]= Line_WB\n",
    "    \n",
    "    Figures['fig_Waterscape_'+section[0]]= fig_Waterscape\n",
    "    Figures['Bar_WB_'+section[0]]= Bar_WB\n",
    "    Figures['df_'+section[0]]= df\n",
    "    Figures['figure_'+section[0]]= figure\n",
    "    "
   ]
  },
  {
   "cell_type": "markdown",
   "metadata": {
    "extensions": {
     "jupyter_dashboards": {
      "version": 1,
      "views": {
       "grid_default": {},
       "report_default": {
        "hidden": false
       }
      }
     }
    }
   },
   "source": [
    "# Water balance\n",
    "\n",
    "A water balance is used to understand the different flows through a system. The inputs to the system should equal the outputs from the system plus whatever stayed in the system. The water balance is an application of the conservation of mass.\n",
    "\n",
    "$\\text{Inputs} - \\left(\\text{Outputs} +\\Delta\\text{Storage}\\right) = 0$\n"
   ]
  },
  {
   "cell_type": "markdown",
   "metadata": {
    "extensions": {
     "jupyter_dashboards": {
      "version": 1,
      "views": {
       "grid_default": {},
       "report_default": {
        "hidden": false
       }
      }
     }
    }
   },
   "source": [
    "## Water balance circle\n",
    "\n",
    "The water balance is illustrated below in a sunburst pie chart. If the water balance circle is closed (no blank spaces), then the water balanace is also closed. The dominant inputs and outputs of the system are labelled, while the other variables and their values are seen by hovering the cursor over the smaller slices."
   ]
  },
  {
   "cell_type": "raw",
   "metadata": {
    "extensions": {
     "jupyter_dashboards": {
      "version": 1,
      "views": {
       "grid_default": {},
       "report_default": {
        "hidden": false
       }
      }
     }
    },
    "scrolled": false
   },
   "source": [
    "Figures['fig_Circle_whole_v2_'].show()\n",
    "#Figures['fig_Circle_simple_'].show()\n",
    "Figures['fig_'].show()\n"
   ]
  },
  {
   "cell_type": "markdown",
   "metadata": {
    "extensions": {
     "jupyter_dashboards": {
      "version": 1,
      "views": {
       "grid_default": {},
       "report_default": {
        "hidden": false
       }
      }
     }
    }
   },
   "source": [
    "## Water balance: Bar chart and Table\n",
    "\n",
    "The total water balance visualised with the water balance circle presented above, is presented here as a bar chart and table.\n",
    "\n",
    "The Balance over all flows (%) entry in the table is the following calculation: $\\frac{\\text{Inputs} - \\left(\\text{Outputs} +\\Delta\\text{Storage}\\right)}{\\frac{1}{2} \\left(\\text{Inputs} + \\text{Outputs} +\\Delta\\text{Storage}\\right)}*100$\n",
    "\n"
   ]
  },
  {
   "cell_type": "raw",
   "metadata": {
    "extensions": {
     "jupyter_dashboards": {
      "version": 1,
      "views": {
       "grid_default": {},
       "report_default": {
        "hidden": false
       }
      }
     }
    }
   },
   "source": [
    "Figures['Bar_WB_'].show()\n",
    "display(Figures['df_'])"
   ]
  },
  {
   "cell_type": "markdown",
   "metadata": {
    "extensions": {
     "jupyter_dashboards": {
      "version": 1,
      "views": {
       "grid_default": {},
       "report_default": {
        "hidden": false
       }
      }
     }
    }
   },
   "source": [
    "## Water balance waterscape: daily fluxes\n",
    "\n",
    "In this Water balance waterscape, the inputs are positive, while the outputs and increases in storage are negative. If the water balance is closed, the area of the top half of the graph should equal that of the bottom half.\n",
    "\n",
    "The different flows can be visulised in different combinations: \n",
    "- Deselect flows to visualise by clicking on their legend entry.\n",
    "- A single flow can be isolated by double clicking on the legend entry, and double-clicking a single entry includes all the flows in the visulaistion.\n",
    "- Graphs showing the total inputs, outputs, and changes in storage daily can be visualised by activating the the Inputs, Outputs, and Change in Storage entries in the legend. These are initially turned off."
   ]
  },
  {
   "cell_type": "code",
   "execution_count": null,
   "metadata": {
    "extensions": {
     "jupyter_dashboards": {
      "version": 1,
      "views": {
       "grid_default": {},
       "report_default": {
        "hidden": false
       }
      }
     }
    },
    "scrolled": false
   },
   "outputs": [],
   "source": [
    "Figures['Line_WB_'].show()\n",
    "Figures['fig_Waterscape_'].show()\n"
   ]
  },
  {
   "cell_type": "markdown",
   "metadata": {
    "extensions": {
     "jupyter_dashboards": {
      "version": 1,
      "views": {
       "grid_default": {},
       "report_default": {
        "hidden": false
       }
      }
     }
    }
   },
   "source": [
    "## Specific flows and storages\n",
    "\n",
    "The specific flow and storage variables used in CWatM related to this water balance can be visualised over the simulation period. "
   ]
  },
  {
   "cell_type": "code",
   "execution_count": null,
   "metadata": {
    "extensions": {
     "jupyter_dashboards": {
      "version": 1,
      "views": {
       "grid_default": {},
       "report_default": {
        "hidden": false
       }
      }
     }
    }
   },
   "outputs": [],
   "source": [
    "#po.init_notebook_mode() \n",
    "\n",
    "po.iplot(Figures['figure_'])"
   ]
  },
  {
   "cell_type": "code",
   "execution_count": null,
   "metadata": {},
   "outputs": [],
   "source": []
  },
  {
   "cell_type": "code",
   "execution_count": null,
   "metadata": {
    "extensions": {
     "jupyter_dashboards": {
      "version": 1,
      "views": {
       "grid_default": {},
       "report_default": {
        "hidden": false
       }
      }
     }
    },
    "scrolled": false
   },
   "outputs": [],
   "source": [
    "\"\"\"\n",
    "for name in ['Groundwater', 'Lakes and Reservoirs', 'Soil', 'Withdrawal', 'Consumption']:\n",
    "    #Figures['fig_Circle_simple_'+name].show()\n",
    "    #Figures['Line_WB_'+name].show()\n",
    "    Figures['fig_'+name].show()   \n",
    "    #Figures['fig_Circle_whole_v2_'+name].show()\n",
    "\"\"\"\n",
    "\n",
    "Names = ['Groundwater', 'Lakes and Reservoirs', 'Soil']\n",
    "\n",
    "if withdrawals:\n",
    "    Names.append('Withdrawal')\n",
    "                     \n",
    "if consumption:\n",
    "    Names.append('Consumption')\n",
    "\n",
    "\n",
    "for name in Names: #['Groundwater', 'Lakes and Reservoirs', 'Soil', 'Withdrawal', 'Consumption']:\n",
    "    #Figures['Line_WB_'+name].show()\n",
    "    Figures['fig_Waterscape_'+name].show()\n",
    "\n",
    "\n",
    "\n",
    "for name in Names: #['Groundwater', 'Lakes and Reservoirs', 'Soil', 'Withdrawal', 'Consumption']:\n",
    "    po.iplot(Figures['figure_'+name])\n",
    "    \n",
    "for name in Names: #['Groundwater', 'Lakes and Reservoirs', 'Soil', 'Withdrawal', 'Consumption']:\n",
    "    Figures['Bar_WB_'+name].show()\n",
    "    display(Figures['df_'+name])"
   ]
  },
  {
   "cell_type": "code",
   "execution_count": null,
   "metadata": {},
   "outputs": [],
   "source": []
  },
  {
   "cell_type": "code",
   "execution_count": null,
   "metadata": {},
   "outputs": [],
   "source": []
  },
  {
   "cell_type": "code",
   "execution_count": null,
   "metadata": {},
   "outputs": [],
   "source": []
  },
  {
   "cell_type": "code",
   "execution_count": null,
   "metadata": {},
   "outputs": [],
   "source": []
  }
 ],
 "metadata": {
  "extensions": {
   "jupyter_dashboards": {
    "activeView": "report_default",
    "version": 1,
    "views": {
     "grid_default": {
      "cellMargin": 10,
      "defaultCellHeight": 20,
      "maxColumns": 12,
      "name": "grid",
      "type": "grid"
     },
     "report_default": {
      "name": "report",
      "type": "report"
     }
    }
   }
  },
  "kernelspec": {
   "display_name": "Python 3 (ipykernel)",
   "language": "python",
   "name": "python3"
  },
  "language_info": {
   "codemirror_mode": {
    "name": "ipython",
    "version": 3
   },
   "file_extension": ".py",
   "mimetype": "text/x-python",
   "name": "python",
   "nbconvert_exporter": "python",
   "pygments_lexer": "ipython3",
   "version": "3.11.0"
  }
 },
 "nbformat": 4,
 "nbformat_minor": 2
}
