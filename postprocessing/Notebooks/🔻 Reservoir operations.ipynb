{
 "cells": [
  {
   "cell_type": "code",
   "execution_count": 1,
   "metadata": {},
   "outputs": [],
   "source": [
    "import netCDF4 as nc4\n",
    "f2 = nc4.Dataset('Outputs/reservoirOperations_Otta.nc','w', format='NETCDF4')\n"
   ]
  },
  {
   "cell_type": "code",
   "execution_count": 2,
   "metadata": {},
   "outputs": [],
   "source": [
    "base = r'C:\\GitHub\\CWatM-Input\\CWatM-Otta-1km\\routing\\ldd.nc'\n",
    "nc = nc4.Dataset(base,'r')"
   ]
  },
  {
   "cell_type": "code",
   "execution_count": 3,
   "metadata": {},
   "outputs": [
    {
     "data": {
      "text/plain": [
       "<class 'netCDF4._netCDF4.Dimension'>: name = 'time', size = 366"
      ]
     },
     "execution_count": 3,
     "metadata": {},
     "output_type": "execute_result"
    }
   ],
   "source": [
    "#f2.createDimension('lon', nc.variables['lon'].shape[0])\n",
    "#f2.createDimension('lat', nc.variables['lat'].shape[0])\n",
    "#f2.createDimension('time', 366)\n",
    "\n",
    "f2.createDimension('x', nc.variables['x'].shape[0])\n",
    "f2.createDimension('y', nc.variables['y'].shape[0])\n",
    "f2.createDimension('time', 366)"
   ]
  },
  {
   "cell_type": "code",
   "execution_count": 4,
   "metadata": {},
   "outputs": [],
   "source": [
    "#longitude = f2.createVariable('Longitude', 'f4', 'x')\n",
    "#latitude = f2.createVariable('Latitude', 'f4', 'y')  \n",
    "\n",
    "longitude = f2.createVariable('X', 'f4', 'x')\n",
    "latitude = f2.createVariable('Y', 'f4', 'y')  \n",
    "time = f2.createVariable('Time', 'i4', 'time')\n",
    "#frac = f2.createVariable('Fraction of Volume', 'f4', ('time', 'lat', 'lon'),zlib=True,least_significant_digit=4)\n",
    "frac_demand = f2.createVariable('Fraction of Volume', 'f4', ('time', 'y', 'x'),zlib=True,least_significant_digit=4)\n",
    "frac_release = f2.createVariable('Downstream release', 'f4', ('time', 'y', 'x'),zlib=True,least_significant_digit=4)\n"
   ]
  },
  {
   "cell_type": "code",
   "execution_count": 5,
   "metadata": {},
   "outputs": [],
   "source": [
    "import numpy as np\n",
    "import datetime\n",
    "\n",
    "base = datetime.datetime(2000, 1, 1)\n",
    "arr = np.array([base + datetime.timedelta(days=i) for i in range(366)])"
   ]
  },
  {
   "cell_type": "raw",
   "metadata": {},
   "source": [
    "#transferLocations = [(116,41), (76,48), (83,37), (98,39), (87, 31)]\n",
    "#transfers = [0.009]*366\n",
    "downstreamReleaseLocations = [(710, 3492)]"
   ]
  },
  {
   "cell_type": "code",
   "execution_count": 6,
   "metadata": {},
   "outputs": [],
   "source": [
    "downstreamReleaseLocations = [(65,100),(52,64),(64,72),(81,131)]\n",
    "#These are from 0 index- 116, 41 in panolpy is 117, 42\n",
    "\n",
    "import numpy as np\n",
    "\n",
    "#longitude[:] = nc.variables['lon'][:] #The \"[:]\" at the end of the variable instance is necessary\n",
    "#latitude[:] = nc.variables['lat'][:]\n",
    "longitude[:] = nc.variables['x'][:] #The \"[:]\" at the end of the variable instance is necessary\n",
    "latitude[:] = nc.variables['y'][:]\n",
    "time[:] = range(366)[:]\n",
    "\n",
    "for i in downstreamReleaseLocations:\n",
    "    frac_release[:, i[0], i[1]] =[0.1]*366\n",
    "    frac_demand[:, i[0], i[1]] =[0.1]*366"
   ]
  },
  {
   "cell_type": "code",
   "execution_count": 7,
   "metadata": {},
   "outputs": [],
   "source": [
    "f2.close()"
   ]
  },
  {
   "cell_type": "code",
   "execution_count": null,
   "metadata": {},
   "outputs": [],
   "source": []
  },
  {
   "cell_type": "code",
   "execution_count": null,
   "metadata": {},
   "outputs": [],
   "source": []
  },
  {
   "cell_type": "code",
   "execution_count": null,
   "metadata": {},
   "outputs": [],
   "source": []
  }
 ],
 "metadata": {
  "kernelspec": {
   "display_name": "Python 3 (ipykernel)",
   "language": "python",
   "name": "python3"
  },
  "language_info": {
   "codemirror_mode": {
    "name": "ipython",
    "version": 3
   },
   "file_extension": ".py",
   "mimetype": "text/x-python",
   "name": "python",
   "nbconvert_exporter": "python",
   "pygments_lexer": "ipython3",
   "version": "3.11.0"
  }
 },
 "nbformat": 4,
 "nbformat_minor": 2
}
