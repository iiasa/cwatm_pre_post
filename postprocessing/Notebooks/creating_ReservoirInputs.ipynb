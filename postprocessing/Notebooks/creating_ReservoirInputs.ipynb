{
 "cells": [
  {
   "cell_type": "code",
   "execution_count": 1,
   "metadata": {},
   "outputs": [],
   "source": [
    "import netCDF4 as nc4\n",
    "highRainfall = False\n",
    "    \n",
    "#f = nc4.Dataset('sample.nc','w', format='NETCDF4') #'w' stands for write\n",
    "f2 = nc4.Dataset('reservoirOperations_ThreeGorges.nc','w', format='NETCDF4') #'w' stands for write\n"
   ]
  },
  {
   "cell_type": "code",
   "execution_count": 2,
   "metadata": {},
   "outputs": [],
   "source": [
    "base = 'C:\\\\Data\\\\cwatm_input5min\\\\landsurface\\\\albedo\\\\albedo.nc'\n",
    "nc = nc4.Dataset(base,'r')"
   ]
  },
  {
   "cell_type": "code",
   "execution_count": 3,
   "metadata": {},
   "outputs": [
    {
     "data": {
      "text/plain": [
       "<class 'netCDF4._netCDF4.Dimension'>: name = 'time', size = 366"
      ]
     },
     "execution_count": 3,
     "metadata": {},
     "output_type": "execute_result"
    }
   ],
   "source": [
    "#tempgrp.createDimension('lon', nc.variables['lon'].shape[0])\n",
    "#tempgrp.createDimension('lat', nc.variables['lat'].shape[0])\n",
    "#tempgrp.createDimension('time', 366)\n",
    "\n",
    "f2.createDimension('lon', nc.variables['lon'].shape[0])\n",
    "f2.createDimension('lat', nc.variables['lat'].shape[0])\n",
    "f2.createDimension('time', 366)"
   ]
  },
  {
   "cell_type": "code",
   "execution_count": 4,
   "metadata": {},
   "outputs": [],
   "source": [
    "#longitude = tempgrp.createVariable('Longitude', 'f4', 'lon')\n",
    "#latitude = tempgrp.createVariable('Latitude', 'f4', 'lat')  \n",
    "#time = tempgrp.createVariable('Time', 'i4', 'time')\n",
    "#frac = tempgrp.createVariable('Fraction of Volume', 'f4', ('time', 'lon', 'lat'))\n",
    "\n",
    "longitude = f2.createVariable('Longitude', 'f4', 'lon')\n",
    "latitude = f2.createVariable('Latitude', 'f4', 'lat')  \n",
    "time = f2.createVariable('Time', 'i4', 'time')\n",
    "#frac = f2.createVariable('Fraction of Volume', 'f4', ('time', 'lat', 'lon'),zlib=True,least_significant_digit=4)\n",
    "frac_release = f2.createVariable('Downstream release', 'f4', ('time', 'lat', 'lon'),zlib=True,least_significant_digit=4)\n",
    "#frac_transfer = f2.createVariable('Basin transfer', 'f4', ('time', 'lat', 'lon'),zlib=True,least_significant_digit=4)\n"
   ]
  },
  {
   "cell_type": "code",
   "execution_count": 5,
   "metadata": {},
   "outputs": [],
   "source": [
    "import numpy as np\n",
    "import datetime\n",
    "\n",
    "base = datetime.datetime(2000, 1, 1)\n",
    "arr = np.array([base + datetime.timedelta(days=i) for i in range(366)])"
   ]
  },
  {
   "cell_type": "code",
   "execution_count": 6,
   "metadata": {},
   "outputs": [],
   "source": [
    "#waterbodyLocations = [(3493,711)]\n",
    "#These are from 0 index- 116, 41 in panolpy is 117, 42\n",
    "#transferLocations = [(116,41), (76,48), (83,37), (98,39), (87, 31)]\n",
    "#transfers = [0.009]*366\n",
    "downstreamReleaseLocations = [(710, 3492)]"
   ]
  },
  {
   "cell_type": "code",
   "execution_count": 7,
   "metadata": {},
   "outputs": [],
   "source": [
    "import numpy as np\n",
    "\n",
    "longitude[:] = nc.variables['lon'][:] #The \"[:]\" at the end of the variable instance is necessary\n",
    "latitude[:] = nc.variables['lat'][:]\n",
    "time[:] = range(366)[:]\n",
    "\n",
    "for i in downstreamReleaseLocations:\n",
    "    frac_release[:, i[0], i[1]] =[0.03]*366"
   ]
  },
  {
   "cell_type": "code",
   "execution_count": 8,
   "metadata": {},
   "outputs": [],
   "source": [
    "f2.close()"
   ]
  },
  {
   "cell_type": "code",
   "execution_count": null,
   "metadata": {},
   "outputs": [],
   "source": []
  }
 ],
 "metadata": {
  "kernelspec": {
   "display_name": "Python 3",
   "language": "python",
   "name": "python3"
  },
  "language_info": {
   "codemirror_mode": {
    "name": "ipython",
    "version": 3
   },
   "file_extension": ".py",
   "mimetype": "text/x-python",
   "name": "python",
   "nbconvert_exporter": "python",
   "pygments_lexer": "ipython3",
   "version": "3.9.8"
  }
 },
 "nbformat": 4,
 "nbformat_minor": 2
}
